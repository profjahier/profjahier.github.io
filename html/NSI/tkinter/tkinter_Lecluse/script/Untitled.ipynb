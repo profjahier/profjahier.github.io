{
 "cells": [
  {
   "cell_type": "code",
   "execution_count": 2,
   "metadata": {},
   "outputs": [],
   "source": [
    "#!/usr/bin/env python3\n",
    "# -*- coding: utf-8 -*-\n",
    "\"\"\"\n",
    "Created on Mon Mar 22 05:52:20 2021\n",
    "\n",
    "@author: profjahier\n",
    "\"\"\"\n",
    "\n",
    "import tkinter as tk\n",
    "from PIL import Image, ImageTk\n",
    "\n",
    "# Variables globales\n",
    "LARGEUR, HAUTEUR = 292, 296\n",
    "no_image = 1 # No de carte\n",
    "\n",
    "def change_carte(event):\n",
    "    \"\"\"Changement de carte si clic sur la carte\"\"\"\n",
    "    global no_image, image_gif\n",
    "    # On verifie que le clic a eu lieu sur la carte\n",
    "    if 50 < event.x < 242 and 10 < event.y < 286:\n",
    "        no_image = no_image % 8 + 1 # echange du no de carte\n",
    "        imgPIL = Image.open(\"carte\" + str(no_image) + \".png\") # charge le fichier image avec PIL\n",
    "        imgTk = ImageTk.PhotoImage(imgPIL) # transforme cette image en image utilisable pour Tkinter\n",
    "        # On charge la nouvelle image\n",
    "        surface_dessin.itemconfigure(ma_carte, image=imgTk)\n",
    "\n",
    "# Création de la fenêtre principale (main window)\n",
    "mon_app = tk.Tk()\n",
    "mon_app.title('Jeu de carte')\n",
    "\n",
    "# Création d'un widget Canvas (zone graphique)\n",
    "surface_dessin = tk.Canvas(mon_app, width=LARGEUR, height=HAUTEUR, bg='green')\n",
    "surface_dessin.grid(column=0, row=0)\n",
    "\n",
    "# La méthode bind() permet de lier un événement avec une fonction :\n",
    "# un clic gauche sur la surface provoquera l'appel de la fonction clic()\n",
    "surface_dessin.bind('<Button-1>', change_carte)\n",
    "\n",
    "imgPIL = Image.open(\"carte1.png\") # charge le fichier image avec PIL\n",
    "imgTk = ImageTk.PhotoImage(imgPIL) # transforme cette image en image utilisable pour Tkinter\n",
    "\n",
    "\n",
    "# Bouton quitter\n",
    "tk.Button(mon_app, text='Quitter', command=mon_app.destroy).grid(column=0, row=1)\n",
    "\n",
    "# Placement de l'image initiale designee par \"ma_carte\" sur le canvas\n",
    "ma_carte = surface_dessin.create_image((50, 10), image=imgTk, anchor=\"nw\")\n",
    "\n",
    "mon_app.mainloop()"
   ]
  },
  {
   "cell_type": "code",
   "execution_count": null,
   "metadata": {},
   "outputs": [],
   "source": []
  }
 ],
 "metadata": {
  "kernelspec": {
   "display_name": "Python 3.8.1 64-bit ('python38': conda)",
   "language": "python",
   "name": "python38164bitpython38conda56991d5ad1414e06a4dcd344400cf456"
  },
  "language_info": {
   "codemirror_mode": {
    "name": "ipython",
    "version": 3
   },
   "file_extension": ".py",
   "mimetype": "text/x-python",
   "name": "python",
   "nbconvert_exporter": "python",
   "pygments_lexer": "ipython3",
   "version": "3.8.1"
  }
 },
 "nbformat": 4,
 "nbformat_minor": 4
}
