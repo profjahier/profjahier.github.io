{
 "cells": [
  {
   "cell_type": "markdown",
   "metadata": {},
   "source": [
    "<h1 class=\"alert alert-info\">Autour de la sécurisation des communications</h1>"
   ]
  },
  {
   "cell_type": "markdown",
   "metadata": {},
   "source": [
    "On cherche dans ce TP à écrire des fonctions de chiffrement mettant en oeuvre le principe du chiffrement de César et le principe du chiffrement XOR.\n",
    "\n",
    "Pour avoir des infos sur ces techniques de chiffrement, **relire attentivement le cours**."
   ]
  },
  {
   "cell_type": "markdown",
   "metadata": {},
   "source": [
    "<h2 class=\"alert alert-warning\">Écrire une fonction de chiffrement/déchiffrement de César</h2>"
   ]
  },
  {
   "cell_type": "markdown",
   "metadata": {},
   "source": [
    "## Attendus :\n",
    "\n",
    "    >>> cesar(\"La cryptographie, c'est génial !\", 7)\n",
    "    \"SH JYFWAVNYHWOPL, J'LZA NÉUPHS !\"\n",
    "    \n",
    "    \n",
    "    >>> cesar(\"SH JYFWAVNYHWOPL, J'LZA NÉUPHS !\", -7)\n",
    "    \"LA CRYPTOGRAPHIE, C'EST GÉNIAL !\""
   ]
  },
  {
   "cell_type": "code",
   "execution_count": null,
   "metadata": {},
   "outputs": [],
   "source": [
    "def cesar(message, clef):\n",
    "    \"\"\" Entrées :\n",
    "    - message : str, message à chiffrer/déchiffrer\n",
    "    - clef : int, décalage des lettres\n",
    "    Remarque : seules les lettres ASCII du message sont converties.\n",
    "    Les minuscules sont converties en majuscules si nécessaires.\n",
    "    \"\"\"\n",
    "    # A VOUS DE JOUER\n",
    "    # ...\n",
    "    pass"
   ]
  },
  {
   "cell_type": "code",
   "execution_count": null,
   "metadata": {},
   "outputs": [],
   "source": [
    "cesar(\"La cryptographie, c'est génial !\", 7)"
   ]
  },
  {
   "cell_type": "code",
   "execution_count": null,
   "metadata": {},
   "outputs": [],
   "source": [
    "cesar(\"SH JYFWAVNYHWOPL, J'LZA NÉUPHS !\", -7)"
   ]
  },
  {
   "cell_type": "markdown",
   "metadata": {},
   "source": [
    "<h2 class=\"alert alert-warning\">  Écrire une fonction de chiffrement/déchiffrement avec XOR</h2>"
   ]
  },
  {
   "cell_type": "markdown",
   "metadata": {},
   "source": [
    "## Attendus :\n",
    "\n",
    "    >>> message = \"La cryptographie, c'est quand même trop la classe !\"\n",
    "    >>> a = chiffrement(message, \"NSI for ever\")\n",
    "    >>> print(a)\n",
    "    2iC\u0014\u0016\u0002T\n",
    "    \u0011\u0017\u0013>; EJO\u0011\u0007\u0005\u0011R?&(N\u0002O\u001f\u0013E\u0006<<9\n",
    "    \u000eRC\t\u0017\u0016\u0001+sh\n",
    "    \n",
    "    \n",
    "    >>> b = chiffrement(a, \"NSI for ever\")\n",
    "    >>> print(b)\n",
    "    \"La cryptographie, c'est quand même trop la classe !\""
   ]
  },
  {
   "cell_type": "code",
   "execution_count": null,
   "metadata": {},
   "outputs": [],
   "source": [
    "def chiffrement(message, clef):\n",
    "    # A VOUS DE JOUER\n",
    "    # ...\n",
    "    pass"
   ]
  },
  {
   "cell_type": "code",
   "execution_count": null,
   "metadata": {},
   "outputs": [],
   "source": [
    "message = \"La cryptographie, c'est quand même trop la classe !\"\n",
    "a = chiffrement(message, \"NSI for ever\")\n",
    "print(a)"
   ]
  },
  {
   "cell_type": "code",
   "execution_count": null,
   "metadata": {},
   "outputs": [],
   "source": [
    "b = chiffrement(a, \"NSI for ever\")\n",
    "print(b)"
   ]
  },
  {
   "cell_type": "code",
   "execution_count": null,
   "metadata": {},
   "outputs": [],
   "source": []
  }
 ],
 "metadata": {
  "kernelspec": {
   "display_name": "Python 3",
   "language": "python",
   "name": "python3"
  },
  "language_info": {
   "codemirror_mode": {
    "name": "ipython",
    "version": 3
   },
   "file_extension": ".py",
   "mimetype": "text/x-python",
   "name": "python",
   "nbconvert_exporter": "python",
   "pygments_lexer": "ipython3",
   "version": "3.7.10"
  }
 },
 "nbformat": 4,
 "nbformat_minor": 4
}
