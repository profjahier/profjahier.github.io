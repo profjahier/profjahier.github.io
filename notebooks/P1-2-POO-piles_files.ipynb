{
 "cells": [
  {
   "cell_type": "markdown",
   "metadata": {},
   "source": [
    "<h1 class=\"alert alert-success\">POO : retour sur les Piles</h1>"
   ]
  },
  {
   "cell_type": "markdown",
   "metadata": {},
   "source": [
    "<h2 class=\"alert alert-info\">Rappel : TP précédent</h2>"
   ]
  },
  {
   "cell_type": "markdown",
   "metadata": {},
   "source": [
    "Dans un TP précédent, nous avions implémenté une pile avec une simple liste-Python, et nous avions créé des fonctions pour satisfaire les opérations du type abstrait de donnée Pile : creer_pile, est_vide, empiler, depiler, sommet.\n",
    "\n",
    "Rappelons que la notion de **piles** répond à la règle **LIFO** : dernier entré, premier sorti.\n",
    "\n",
    "![pile](pile1.png)"
   ]
  },
  {
   "cell_type": "markdown",
   "metadata": {},
   "source": [
    "<h2 class=\"alert alert-info\">Implémentation d'une pile avec une classe Pile</h2>"
   ]
  },
  {
   "cell_type": "markdown",
   "metadata": {},
   "source": [
    "Dans ce nouveau TP, nous allons développer une autre implémentation des piles en créant une classe Pile.\n",
    "\n",
    "Puisque le sommet d'une pile joue un rôle particulier par rapport à ses autres éléments, la classe Pile possèdera un attribut `sommet` (qui contiendra évidemment l'élément au sommet de la pile !) et un attribut `reste` qui contiendra tous les autres éléments de la pile et qui sera implémenté par une liste-Python habituelle.\n",
    "\n",
    "En outre, on ajoutera un attribut `taille`, de type entier, qui tiendra à jour le nombre d'éléments de la Pile. Cela permettra de pouvoir accéder à la taille de la pile en temps constant (sans devoir dépiler toute la pile pour compter ses éléments, qu'il faut empiler de nouveau après comptage, souvenez-vous...).\n",
    "\n",
    "Enfin, les opérations `est_vide`, `empiler` et `depiler` deviendront des méthodes de la classe Pile."
   ]
  },
  {
   "cell_type": "markdown",
   "metadata": {},
   "source": [
    "<h3 class=\"alert alert-warning\">\n",
    "    Exemple d'utlisation</h3>"
   ]
  },
  {
   "cell_type": "markdown",
   "metadata": {},
   "source": [
    "    >>> ma_pile = Pile()\n",
    "    >>> ma_pile.empiler(3)\n",
    "    >>> ma_pile.empiler(5)\n",
    "    >>> ma_pile.sommet\n",
    "    5\n",
    "    >>> ma_pile.taille \n",
    "    2\n",
    "    >>> ma_pile.depiler() \n",
    "    5\n",
    "    >>> ma_pile.taille \n",
    "    1\n",
    "    >>> ma_pile.depiler() \n",
    "    3\n",
    "    >>> ma_pile.taille \n",
    "    0"
   ]
  },
  {
   "cell_type": "markdown",
   "metadata": {},
   "source": [
    "<div class=\"alert alert-warning\">\n",
    "    <h3>A vous de jouer</h3>\n",
    "\n",
    "Créer le code de la classe Pile contenant :\n",
    "\n",
    "- méthode init : crée une pile vide par défaut\n",
    "- attribut taille : int\n",
    "- attribut sommet : type inconnu a priori, vaut None si la pile est vide.\n",
    "- attribut reste : list\n",
    "- méthode est_vide : bool\n",
    "- méthode empiler(element) : empile element et ne renvoie rien\n",
    "- méthode depiler : renvoie le sommet (None si la pile est vide)\n",
    "- méthode est_vide : bool\n",
    "    \n",
    "    </div>"
   ]
  },
  {
   "cell_type": "code",
   "execution_count": null,
   "metadata": {
    "deletable": true,
    "nbgrader": {
     "cell_type": "code",
     "checksum": "b9833f317cc0f53e0337c6667cf3536f",
     "grade": false,
     "grade_id": "cell-f49fdbbc737964c6",
     "locked": false,
     "schema_version": 3,
     "solution": true
    }
   },
   "outputs": [],
   "source": [
    "# votre code ci-dessous :\n",
    "# ....\n",
    "\n"
   ]
  },
  {
   "cell_type": "markdown",
   "metadata": {},
   "source": [
    "<h3 class=\"alert alert-warning\">\n",
    "    Test de la classe</h3>\n",
    "\n",
    "Reprendre les exemples donnés ci-dessus pour tester votre écriture de la classe Pile."
   ]
  },
  {
   "cell_type": "code",
   "execution_count": null,
   "metadata": {},
   "outputs": [],
   "source": [
    "# votre code ci-dessous :\n"
   ]
  },
  {
   "cell_type": "code",
   "execution_count": null,
   "metadata": {},
   "outputs": [],
   "source": []
  },
  {
   "cell_type": "code",
   "execution_count": null,
   "metadata": {},
   "outputs": [],
   "source": []
  },
  {
   "cell_type": "code",
   "execution_count": null,
   "metadata": {},
   "outputs": [],
   "source": []
  },
  {
   "cell_type": "code",
   "execution_count": null,
   "metadata": {},
   "outputs": [],
   "source": []
  },
  {
   "cell_type": "markdown",
   "metadata": {},
   "source": [
    "<h2 class=\"alert alert-info\">Complément pour les plus rapides</h2>\n",
    "\n",
    "1. Ajouter une méthode `afficher` qui affiche ligne par ligne les éléments de la pile (le sommet sur la 1ere ligne d'écriture).\n",
    "2. Écrire une classe File qui contient un seul attribut file qui est une liste-Python. \n",
    "La classe contient les méthodes enfiler et defiler, mais ici, toutes les fonctionnalités de Python sur les listes sont autorisées."
   ]
  },
  {
   "cell_type": "code",
   "execution_count": null,
   "metadata": {
    "nbgrader": {
     "cell_type": "code",
     "checksum": "b9833f317cc0f53e0337c6667cf3536f",
     "grade": false,
     "grade_id": "cell-f49fdbbc737964c6",
     "locked": false,
     "schema_version": 3,
     "solution": true
    }
   },
   "outputs": [],
   "source": [
    "# exercice 1 : ajouter une méthode afficher à la  classe Pile\n",
    "# votre code ci-dessous :\n",
    "# ....\n",
    "\n"
   ]
  },
  {
   "cell_type": "code",
   "execution_count": null,
   "metadata": {},
   "outputs": [],
   "source": [
    "# zone de tests libres\n",
    "# votre code ci-dessous :\n",
    "# ....\n"
   ]
  },
  {
   "cell_type": "code",
   "execution_count": null,
   "metadata": {
    "nbgrader": {
     "cell_type": "code",
     "checksum": "b9833f317cc0f53e0337c6667cf3536f",
     "grade": false,
     "grade_id": "cell-f49fdbbc737964c6",
     "locked": false,
     "schema_version": 3,
     "solution": true
    }
   },
   "outputs": [],
   "source": [
    "# exercice 2 : créer un classe File\n",
    "# votre code ci-dessous :\n",
    "# ....\n",
    "\n"
   ]
  },
  {
   "cell_type": "code",
   "execution_count": null,
   "metadata": {},
   "outputs": [],
   "source": [
    "# zone de tests libres\n",
    "# votre code ci-dessous :\n",
    "# ....\n"
   ]
  }
 ],
 "metadata": {
  "kernelspec": {
   "display_name": "Python 3",
   "language": "python",
   "name": "python3"
  },
  "language_info": {
   "codemirror_mode": {
    "name": "ipython",
    "version": 3
   },
   "file_extension": ".py",
   "mimetype": "text/x-python",
   "name": "python",
   "nbconvert_exporter": "python",
   "pygments_lexer": "ipython3",
   "version": "3.7.10"
  }
 },
 "nbformat": 4,
 "nbformat_minor": 4
}
