{
 "cells": [
  {
   "cell_type": "markdown",
   "metadata": {
    "editable": true,
    "nbgrader": {
     "cell_type": "markdown",
     "checksum": "0ada6bf1a425d3139e79b9e96e27dbf3",
     "grade": false,
     "grade_id": "cell-2e87982452677d89",
     "locked": true,
     "schema_version": 3,
     "solution": false,
     "task": false
    }
   },
   "source": [
    "<h1 class=\"alert alert-success\">Les listes chaînées</h1>"
   ]
  },
  {
   "cell_type": "markdown",
   "metadata": {},
   "source": [
    "<div class=\" alert alert-danger\">\n",
    "    <strong>Conseil</strong> : réaliser de nombreux tests avec <a href=\"http://pythontutor.com/visualize.html#mode=edit\">python tutor </a>\n",
    "     pour bien comprendre ce qu'il se passe !\n",
    "    \n",
    "    </div>"
   ]
  },
  {
   "cell_type": "markdown",
   "metadata": {
    "editable": true,
    "nbgrader": {
     "cell_type": "markdown",
     "checksum": "0ada6bf1a425d3139e79b9e96e27dbf3",
     "grade": false,
     "grade_id": "cell-2e87982452677d89",
     "locked": true,
     "schema_version": 3,
     "solution": false,
     "task": false
    }
   },
   "source": [
    "<h2 class=\"alert alert-info\">I- Découverte : une liste chainée est un enchainement de maillons</h2>"
   ]
  },
  {
   "cell_type": "markdown",
   "metadata": {
    "editable": true,
    "nbgrader": {
     "cell_type": "markdown",
     "checksum": "0ada6bf1a425d3139e79b9e96e27dbf3",
     "grade": false,
     "grade_id": "cell-2e87982452677d89",
     "locked": true,
     "schema_version": 3,
     "solution": false,
     "task": false
    }
   },
   "source": [
    "<h3 class=\"alert alert-warning\">a) Nos premiers maillons</h3>"
   ]
  },
  {
   "cell_type": "markdown",
   "metadata": {},
   "source": [
    "Un maillon est une liste-Python de 2 éléments : \n",
    "- un contenu \n",
    "- le maillon suivant vers lequelle il pointe. \n",
    "\n",
    "On décide arbitrairement qu'un maillon qui ne pointe vers aucun autre pointe vers une liste-Python vide.\n",
    "\n",
    "    maillon = [contenu, maillon_suivant]"
   ]
  },
  {
   "cell_type": "code",
   "execution_count": null,
   "metadata": {},
   "outputs": [],
   "source": [
    "# exemple : création d'un maillon dont le contenu est 5 et qui ne pointe vers aucun autre maillon (liste vide) :\n",
    "maillon_1 = [5, []]\n",
    "maillon_1"
   ]
  },
  {
   "cell_type": "code",
   "execution_count": null,
   "metadata": {},
   "outputs": [],
   "source": [
    "# exemple : création d'un maillon dont le contenu est 4 et qui pointe vers le maillon_1 :\n",
    "maillon_2 = [4, maillon_1]\n",
    "maillon_2"
   ]
  },
  {
   "cell_type": "markdown",
   "metadata": {},
   "source": [
    "**Créer de même un maillon_3 qui pointe vers le maillon_2 :**"
   ]
  },
  {
   "cell_type": "code",
   "execution_count": null,
   "metadata": {},
   "outputs": [],
   "source": [
    "# à vous de jouer\n",
    "# ...\n"
   ]
  },
  {
   "cell_type": "markdown",
   "metadata": {
    "editable": true,
    "nbgrader": {
     "cell_type": "markdown",
     "checksum": "0ada6bf1a425d3139e79b9e96e27dbf3",
     "grade": false,
     "grade_id": "cell-2e87982452677d89",
     "locked": true,
     "schema_version": 3,
     "solution": false,
     "task": false
    }
   },
   "source": [
    "<h3 class=\"alert alert-warning\">b) Une liste pointe vers un maillon de \"départ\"</h3>"
   ]
  },
  {
   "cell_type": "markdown",
   "metadata": {},
   "source": [
    "Une liste-chainée est simplement un objet qui désigne un premier maillon."
   ]
  },
  {
   "cell_type": "code",
   "execution_count": null,
   "metadata": {},
   "outputs": [],
   "source": [
    "# création d'une liste dont le 1er maillon esst le maillon_3 :\n",
    "liste = maillon_3\n",
    "liste"
   ]
  },
  {
   "cell_type": "markdown",
   "metadata": {},
   "source": [
    "**On décide arbitraitrement qu'une liste chainée vide est une liste-Python vide**."
   ]
  },
  {
   "cell_type": "markdown",
   "metadata": {
    "editable": true,
    "nbgrader": {
     "cell_type": "markdown",
     "checksum": "0ada6bf1a425d3139e79b9e96e27dbf3",
     "grade": false,
     "grade_id": "cell-2e87982452677d89",
     "locked": true,
     "schema_version": 3,
     "solution": false,
     "task": false
    }
   },
   "source": [
    "<h3 class=\"alert alert-warning\">c) Taille de la liste : version récursive</h3>"
   ]
  },
  {
   "cell_type": "markdown",
   "metadata": {
    "editable": true,
    "nbgrader": {
     "cell_type": "markdown",
     "checksum": "0ada6bf1a425d3139e79b9e96e27dbf3",
     "grade": false,
     "grade_id": "cell-2e87982452677d89",
     "locked": true,
     "schema_version": 3,
     "solution": false,
     "task": false
    }
   },
   "source": [
    "*Rappel* : Une liste vide vaut [ ]."
   ]
  },
  {
   "cell_type": "markdown",
   "metadata": {},
   "source": [
    "**Écrire une fonction récursive `taille(liste)` qui prend une liste chainée en paramètre et qui renvoie sa taille.**\n",
    "\n",
    "*Aide :*\n",
    "- si la liste est vide, la taille vaut 0 !\n",
    "- sinon la taille vaut 1 plus la taille du reste de la liste."
   ]
  },
  {
   "cell_type": "code",
   "execution_count": null,
   "metadata": {},
   "outputs": [],
   "source": [
    "def taille(liste):\n",
    "    \"\"\" Renvoie la taille (nombre d'éléments d'une liste) \n",
    "    Entrée : liste chaînée : list\n",
    "    Sortie : taille : int\n",
    "    \"\"\"\n",
    "    # à vous de jouer\n",
    "    # ...\n"
   ]
  },
  {
   "cell_type": "code",
   "execution_count": null,
   "metadata": {},
   "outputs": [],
   "source": [
    "# exple :\n",
    "taille(liste)"
   ]
  },
  {
   "cell_type": "code",
   "execution_count": null,
   "metadata": {},
   "outputs": [],
   "source": [
    "liste_vide = []\n",
    "taille(liste_vide)"
   ]
  },
  {
   "cell_type": "code",
   "execution_count": null,
   "metadata": {},
   "outputs": [],
   "source": [
    "liste"
   ]
  },
  {
   "cell_type": "markdown",
   "metadata": {
    "editable": true,
    "nbgrader": {
     "cell_type": "markdown",
     "checksum": "0ada6bf1a425d3139e79b9e96e27dbf3",
     "grade": false,
     "grade_id": "cell-2e87982452677d89",
     "locked": true,
     "schema_version": 3,
     "solution": false,
     "task": false
    }
   },
   "source": [
    "<h3 class=\"alert alert-warning\">d) Taille de la liste : version itérative</h3>"
   ]
  },
  {
   "cell_type": "markdown",
   "metadata": {},
   "source": [
    "On propose à titre d'exemple une version itérative de la fonction précédente.\n",
    "\n",
    "Vous pourrez remarquer avec cette comparaison que la vision récursive des listes chainées est particulièrement \"agréable\"."
   ]
  },
  {
   "cell_type": "code",
   "execution_count": null,
   "metadata": {},
   "outputs": [],
   "source": [
    "def taille_2(liste):\n",
    "    \"\"\" Renvoie la taille (nombre d'éléments d'une liste) \n",
    "    Entrée : liste chaînée : list\n",
    "    Sortie : taille : int\n",
    "    \"\"\"\n",
    "    if liste == []:\n",
    "        return 0\n",
    "    else:\n",
    "        taille = 1\n",
    "        liste = liste[1]\n",
    "        while liste != []:\n",
    "            taille = taille + 1\n",
    "            liste = liste[1]\n",
    "        return taille"
   ]
  },
  {
   "cell_type": "code",
   "execution_count": null,
   "metadata": {},
   "outputs": [],
   "source": [
    "taille_2(liste)"
   ]
  },
  {
   "cell_type": "markdown",
   "metadata": {
    "editable": true,
    "nbgrader": {
     "cell_type": "markdown",
     "checksum": "0ada6bf1a425d3139e79b9e96e27dbf3",
     "grade": false,
     "grade_id": "cell-2e87982452677d89",
     "locked": true,
     "schema_version": 3,
     "solution": false,
     "task": false
    }
   },
   "source": [
    "<h3 class=\"alert alert-warning\">e) Affichage des éléments</h3>"
   ]
  },
  {
   "cell_type": "markdown",
   "metadata": {},
   "source": [
    "Pour aider la lisibilité par la suite, on propose d'écrire une fonction `afficher(liste)` qui prend une liste-chainée en paramètre et qui affiche ses éléments à la suite sur une ligne.\n",
    "\n",
    "*Exemple :*\n",
    "\n",
    "    >>> liste = [[12, [4, [5, []]]]\n",
    "    >>> afficher(liste)\n",
    "    12 4 5\n",
    "\n",
    "*Complément :* La fonction *print* de Python accepte un paramètre faculatif `end` dont la valeur est la chaine de caractères en fin d'affichage. Par défaut ce paramètre vaut `\\n` (retour chariot) ce qui provoque le passage à la ligne. Pour forcer l'écriture sur une seule ligne, on peut appeler *print* ainsi : `print(chaine, end=' ')`  (on remplace le retour chariot par une espace).\n",
    "\n",
    "**Écrire la fonction afficher** :"
   ]
  },
  {
   "cell_type": "code",
   "execution_count": null,
   "metadata": {},
   "outputs": [],
   "source": [
    "def afficher(liste):\n",
    "    \"\"\" Affiche les éléments d'une liste. \"\"\"\n",
    "    # à vous de jouer\n",
    "    # ...\n"
   ]
  },
  {
   "cell_type": "code",
   "execution_count": null,
   "metadata": {},
   "outputs": [],
   "source": [
    "# test :\n",
    "semaine = ['lundi', ['mardi', ['mercredi', ['jeudi', ['vendredi', ['samedi', ['dimanche', []]]]]]]]\n",
    "afficher(semaine)"
   ]
  },
  {
   "cell_type": "code",
   "execution_count": null,
   "metadata": {},
   "outputs": [],
   "source": [
    "taille(semaine)"
   ]
  },
  {
   "cell_type": "markdown",
   "metadata": {
    "editable": true,
    "nbgrader": {
     "cell_type": "markdown",
     "checksum": "0ada6bf1a425d3139e79b9e96e27dbf3",
     "grade": false,
     "grade_id": "cell-2e87982452677d89",
     "locked": true,
     "schema_version": 3,
     "solution": false,
     "task": false
    }
   },
   "source": [
    "<h2 class=\"alert alert-info\">II- Reprise des concepts formels vus en cours.</h2>"
   ]
  },
  {
   "cell_type": "markdown",
   "metadata": {
    "editable": true,
    "nbgrader": {
     "cell_type": "markdown",
     "checksum": "0ada6bf1a425d3139e79b9e96e27dbf3",
     "grade": false,
     "grade_id": "cell-2e87982452677d89",
     "locked": true,
     "schema_version": 3,
     "solution": false,
     "task": false
    }
   },
   "source": [
    "<h3 class=\"alert alert-warning\">a) Rappel de l'interface de la liste (vision récursive)</h3>"
   ]
  },
  {
   "cell_type": "markdown",
   "metadata": {},
   "source": [
    "\n",
    "![Liste chainée](liste-interface.png)"
   ]
  },
  {
   "cell_type": "markdown",
   "metadata": {},
   "source": [
    "**Implémenter toutes ces fonctionnalités pour manipuler les listes chainées**"
   ]
  },
  {
   "cell_type": "code",
   "execution_count": null,
   "metadata": {},
   "outputs": [],
   "source": [
    "# à vous de jouer\n",
    "# ....\n",
    "\n",
    "def creer_liste():\n",
    "    \"\"\" Crée une liste vide \"\"\"\n",
    "    # à vous de jouer\n",
    "\n",
    "\n",
    "def contenu(maillon):\n",
    "    # à vous de jouer\n",
    "\n",
    "\n",
    "def successeur(maillon):\n",
    "    # à vous de jouer\n",
    "\n",
    "\n",
    "def tete(liste):\n",
    "    # à vous de jouer\n",
    "\n",
    "\n",
    "def fin(liste):\n",
    "    # à vous de jouer\n",
    "\n",
    "\n",
    "def premier(liste):\n",
    "    # à vous de jouer\n",
    "\n",
    "\n",
    "def cons(liste, element):\n",
    "    \"\"\" Renvoie une nouvelle liste \"\"\"\n",
    "    # à vous de jouer\n"
   ]
  },
  {
   "cell_type": "code",
   "execution_count": null,
   "metadata": {},
   "outputs": [],
   "source": [
    "# zone de tests :\n",
    "# à vous de jouer\n",
    "# ...."
   ]
  },
  {
   "cell_type": "code",
   "execution_count": null,
   "metadata": {},
   "outputs": [],
   "source": []
  },
  {
   "cell_type": "code",
   "execution_count": null,
   "metadata": {},
   "outputs": [],
   "source": []
  },
  {
   "cell_type": "markdown",
   "metadata": {
    "editable": true,
    "nbgrader": {
     "cell_type": "markdown",
     "checksum": "0ada6bf1a425d3139e79b9e96e27dbf3",
     "grade": false,
     "grade_id": "cell-2e87982452677d89",
     "locked": true,
     "schema_version": 3,
     "solution": false,
     "task": false
    },
    "tags": []
   },
   "source": [
    "<h3 class=\"alert alert-warning\">b) Fonction d'insertion</h3>"
   ]
  },
  {
   "cell_type": "markdown",
   "metadata": {},
   "source": [
    "Écrire une fonction `inserer(liste, entier, element)` qui permet d'insérer un élément à un indice entier donné dans la liste.\n",
    "\n",
    "Attention : il faut distinguer les cas :\n",
    "1. de la liste vide\n",
    "2. de l'insertion en début de liste\n",
    "3. de l'insertion en positoin quelconque\n",
    "4. (facultatif) de l'insertion en dehors de la liste (indice trop grand)."
   ]
  },
  {
   "cell_type": "code",
   "execution_count": null,
   "metadata": {},
   "outputs": [],
   "source": [
    "# à vous de jouer\n",
    "# ....\n",
    "\n"
   ]
  },
  {
   "cell_type": "code",
   "execution_count": null,
   "metadata": {},
   "outputs": [],
   "source": [
    "# zone de tests :\n",
    "\n",
    "l1 = creer_liste()\n",
    "for i in range(3):\n",
    "    l1 = cons(l1, i)\n",
    "        \n",
    "inserer(l1, 0, 'zero')\n",
    "print(l1)\n",
    "inserer(l1, 3, 'trois')\n",
    "print(l1)\n",
    "print(l1)\n",
    "inserer(l1, 5, 'cinq')\n",
    "print(l1)\n",
    "inserer(l1, 10000, 'fin')\n",
    "print(l1)"
   ]
  },
  {
   "cell_type": "markdown",
   "metadata": {
    "editable": true,
    "nbgrader": {
     "cell_type": "markdown",
     "checksum": "0ada6bf1a425d3139e79b9e96e27dbf3",
     "grade": false,
     "grade_id": "cell-2e87982452677d89",
     "locked": true,
     "schema_version": 3,
     "solution": false,
     "task": false
    },
    "tags": []
   },
   "source": [
    "<h3 class=\"alert alert-warning\">c) Fonction de concaténation (facultatif)</h3>"
   ]
  },
  {
   "cell_type": "markdown",
   "metadata": {},
   "source": [
    "**Écrire une fonction qui prend 2 listes en paramétres et qui renvoie une nouvelle liste qui est la concaténation des 2 listes.**\n",
    "\n",
    "**Question complémentaire :** expliquer pourquoi il faut recopier le contenu de chaque liste dans une nouvelle liste, et pas seulement faire poitner le dernier maillon de la 1ère liste vers le 1er de la deuxième liste."
   ]
  },
  {
   "cell_type": "code",
   "execution_count": null,
   "metadata": {},
   "outputs": [],
   "source": [
    "def est_vide(liste):\n",
    "    \"\"\" Indique si la liste est vide \"\"\"\n",
    "    return liste == []"
   ]
  },
  {
   "cell_type": "code",
   "execution_count": null,
   "metadata": {},
   "outputs": [],
   "source": [
    "def concatener(liste1, liste2):\n",
    "    \"\"\" Renvoie une nouvelle liste en recopiant tous les éléments de chaque liste. \"\"\"\n",
    "    # à vous de jouer\n",
    "    # ....\n",
    "\n"
   ]
  },
  {
   "cell_type": "code",
   "execution_count": null,
   "metadata": {},
   "outputs": [],
   "source": [
    "l = concatener([2, []],[1, [3,[]]])\n",
    "afficher(l)"
   ]
  },
  {
   "cell_type": "markdown",
   "metadata": {
    "editable": true,
    "nbgrader": {
     "cell_type": "markdown",
     "checksum": "0ada6bf1a425d3139e79b9e96e27dbf3",
     "grade": false,
     "grade_id": "cell-2e87982452677d89",
     "locked": true,
     "schema_version": 3,
     "solution": false,
     "task": false
    }
   },
   "source": [
    "<h2 class=\"alert alert-info\">III- Petit complément</h2>"
   ]
  },
  {
   "cell_type": "markdown",
   "metadata": {},
   "source": [
    "Nouvelle écriture de la fonction afficher avec les fonctionnalités développées précédemment."
   ]
  },
  {
   "cell_type": "code",
   "execution_count": null,
   "metadata": {},
   "outputs": [],
   "source": [
    "def afficher(liste):\n",
    "    if est_vide(liste):\n",
    "        print('.')\n",
    "    else:\n",
    "        print(premier(liste), end=' ')\n",
    "        afficher(fin(liste))\n",
    "        \n",
    "afficher(liste)"
   ]
  },
  {
   "cell_type": "markdown",
   "metadata": {},
   "source": [
    "Exemple de traitement récursif :"
   ]
  },
  {
   "cell_type": "code",
   "execution_count": null,
   "metadata": {},
   "outputs": [],
   "source": [
    "def doubler(liste):\n",
    "    if not est_vide(liste):\n",
    "        tete(liste)[0] = 2 * tete(liste)[0]\n",
    "        doubler(fin(liste))\n",
    "        \n",
    "afficher(liste)\n",
    "doubler(liste)\n",
    "afficher(liste)"
   ]
  },
  {
   "cell_type": "code",
   "execution_count": null,
   "metadata": {},
   "outputs": [],
   "source": []
  }
 ],
 "metadata": {
  "kernelspec": {
   "display_name": "Python 3.8.1 64-bit ('python38': conda)",
   "language": "python",
   "name": "python38164bitpython38conda56991d5ad1414e06a4dcd344400cf456"
  },
  "language_info": {
   "codemirror_mode": {
    "name": "ipython",
    "version": 3
   },
   "file_extension": ".py",
   "mimetype": "text/x-python",
   "name": "python",
   "nbconvert_exporter": "python",
   "pygments_lexer": "ipython3",
   "version": "3.8.1"
  }
 },
 "nbformat": 4,
 "nbformat_minor": 4
}
