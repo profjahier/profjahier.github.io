{
 "cells": [
  {
   "cell_type": "markdown",
   "metadata": {},
   "source": [
    "<h1 class=\"alert alert-success\">Récursivité - partie 1</h1>"
   ]
  },
  {
   "cell_type": "markdown",
   "metadata": {},
   "source": [
    "<h2 class=\"alert alert-info\">Exo 1 : Le compte à rebours</h2>\n",
    "\n",
    "Ecrire une fonction récursive ```car``` qui :\n",
    "\n",
    "    - prend en paramètre un entier n\n",
    "    - affiche un compte à rebours de n jusqu'à 1, puis affiche \"Ignition !\n",
    "\n",
    "**Coup de pouce :** \n",
    "\n",
    "*Condition d'arrêt* : n = 0, alors on affiche \"Ignition !\"\n",
    "\n",
    "*Récursion* : afficher n, puis appeler le compte à rebours avec la valeur (n-1)"
   ]
  },
  {
   "cell_type": "code",
   "execution_count": null,
   "metadata": {},
   "outputs": [],
   "source": [
    "def car(n):\n",
    "    \"\"\" fonction compte à rebours \"\"\"\n",
    "    # VOTRE CODE CI-DESSOUS"
   ]
  },
  {
   "cell_type": "code",
   "execution_count": null,
   "metadata": {},
   "outputs": [],
   "source": [
    "car(10)"
   ]
  },
  {
   "cell_type": "markdown",
   "metadata": {},
   "source": [
    "<h2 class=\"alert alert-info\">Exo 2 : Somme des éléments d'une liste</h2>\n",
    "\n",
    "Ecrire une fonction récursive ```somme``` qui :\n",
    "\n",
    "    - prend en paramètre un tableau d'entiers tab\n",
    "    - retourne la somme des éléments du tableau tab\n",
    "\n",
    "\n",
    "**Coup de pouce :** \n",
    "\n",
    "*Condition d'arrêt* : si le tableau a une taille vide, la somme de ses élément vaut zéro : donc la fonction renvoie 0.\n",
    "\n",
    "*Récursion* : renvoyer la valeur du 1er élément additionnée de la somme du reste du tableau."
   ]
  },
  {
   "cell_type": "code",
   "execution_count": null,
   "metadata": {},
   "outputs": [],
   "source": [
    "# VOTRE CODE CI-DESSOUS"
   ]
  },
  {
   "cell_type": "code",
   "execution_count": null,
   "metadata": {},
   "outputs": [],
   "source": [
    "# test \n",
    "tab = [5, 4, 7, 2]\n",
    "somme(tab)"
   ]
  },
  {
   "cell_type": "markdown",
   "metadata": {},
   "source": [
    "<h2 class=\"alert alert-info\">Exo 3. Miroir d’une chaîne de caractère</h2>\n",
    "\n",
    "Écrire une fonction ```miroir``` récursive qui :\n",
    "\n",
    "    - prend comme paramètre une chaîne de caractères\n",
    "    - renvoie le « miroir » de la chaîne; par exemple, le miroir de \"abcde\" est \"edcba\".\n",
    "\n",
    "\n",
    "**Coup de pouce :** \n",
    "\n",
    "*Condition d'arrêt* : si la chaine contient un seul caractère ou aucun, son miroir est elle-même.\n",
    "\n",
    "*Récursion* : Le principe consiste à permutter le 1er et le dernier carcatère, et à recopier le miroir  de la sous-chaine interne (entre le 2ème caractère et l'avant-dernier) au milieu de ces 2 caractères. Il faut donc renvoyer une chaine qui est la concaténation du dernier caratère, du miroir de la sous-chaine interne, et du 1er caractère.\n",
    "\n",
    "**Aide** : on pourra utiliser la syntaxe ```chaine[i:j]``` qui permet d'extraire une sous-chaine de caractères entre les positions d'indice i et j (i compris, j exclu)."
   ]
  },
  {
   "cell_type": "code",
   "execution_count": null,
   "metadata": {},
   "outputs": [],
   "source": [
    "# VOTRE CODE CI-DESSOUS"
   ]
  },
  {
   "cell_type": "code",
   "execution_count": null,
   "metadata": {},
   "outputs": [],
   "source": [
    "# test\n",
    "chaine = 'quelle belle chaine'\n",
    "miroir(chaine)"
   ]
  },
  {
   "cell_type": "markdown",
   "metadata": {},
   "source": [
    "<h2 class=\"alert alert-info\">Exo 4. Tableau trié ?</h2>\n",
    "\n",
    "Écrire une fonction récursive qui :\n",
    "\n",
    "    - prend en paramètre un tableau tab (liste-python)\n",
    "    - renvoie True si le tableau est trié, ou False sinon\n",
    "\n",
    "On peut remarquer qu'un tableau est trié si, pour chacun de ses éléments on vérifie : tab[n-1] <= tab[n].\n",
    "\n",
    "\n",
    "**Coup de pouce :** \n",
    "\n",
    "*Condition d'arrêt* : si le tableau contient un seul élément ou aucun, il est bien trié.\n",
    "\n",
    "*Récursion* : Le principe consiste à vérifier si le 1er élément est bien inférieur au 2ème, et à recommencer ce principe avec tout le reste du tableau. Le tableau est donc trié si le 1er élément est inférieur au 2ème ET que le reste du tableau (du 2ème élément au dernier) est aussi trié.\n",
    "\n",
    "Vous pourrez tester votre fonction avec les deux listes ci-dessous :"
   ]
  },
  {
   "cell_type": "code",
   "execution_count": 10,
   "metadata": {},
   "outputs": [],
   "source": [
    "# une liste-python non triée\n",
    "L1 = [912, 472, 772, 389, 128, 189, 941, 163, 300, 151, 535, 321, 440, 400, 715, 209, 185, 775, 840, 911, 320, 299, 590, 593, 243, 634, 592, 220, 259, 287, 235, 495, 982, 49, 991, 481, 898, 34, 982, 103, 874, 436, 84, 736, 538, 22, 81, 274, 996, 44, 733, 518, 321, 992, 281, 539, 978, 681, 622, 941, 234, 273, 849, 612, 173, 113, 427, 434, 958, 516, 722, 387, 599, 520, 699, 539, 284, 972, 988, 246, 946, 716, 950, 341, 237, 488, 523, 583, 57, 308, 548, 323, 297, 846, 151, 531, 203, 532, 115, 346]\n",
    "\n",
    "# une liste-python triée\n",
    "L2 = [8, 29, 34, 52, 61, 79, 93, 105, 119, 122, 137, 167, 175, 193, 194, 198, 203, 215, 217, 224, 243, 254, 257, 257, 258, 282, 295, 303, 317, 323, 325, 332, 338, 349, 354, 358, 379, 380, 386, 404, 417, 418, 434, 446, 447, 448, 452, 456, 458, 465, 478, 481, 482, 484, 514, 515, 516, 552, 554, 559, 568, 571, 575, 587, 603, 628, 641, 663, 669, 692, 693, 696, 703, 709, 713, 714, 715, 729, 730, 744, 751, 752, 765, 774, 775, 805, 807, 812, 816, 828, 883, 890, 915, 920, 925, 931, 939, 946, 950]\t\t"
   ]
  },
  {
   "cell_type": "code",
   "execution_count": null,
   "metadata": {},
   "outputs": [],
   "source": [
    "def est_trie(tab):\n",
    "    \"\"\" Renvoie True si le tableau est triée \"\"\"\n",
    "    # VOTRE CODE CI-DESSOUS"
   ]
  },
  {
   "cell_type": "code",
   "execution_count": null,
   "metadata": {},
   "outputs": [],
   "source": [
    "assert not est_trie(L1)\n",
    "assert est_trie(L2)"
   ]
  },
  {
   "cell_type": "code",
   "execution_count": null,
   "metadata": {},
   "outputs": [],
   "source": [
    "from random import shuffle   # import d'une fonction pour mélanger aléatoirement une liste-python\n",
    "shuffle(L1)\n",
    "print(est_trie(L1))"
   ]
  },
  {
   "cell_type": "markdown",
   "metadata": {},
   "source": [
    "<h2 class=\"alert alert-info\">Exo 5. Conversion décimal → binaire</h2>\n",
    "\n",
    "Écrire une fonction récursive qui :\n",
    "\n",
    "    - prend comme paramètre un entier n\n",
    "    - renvoie comme résultat une chaîne de caractères représentant le nombre n exprimé en base 2 avec la méthode par division."
   ]
  },
  {
   "cell_type": "markdown",
   "metadata": {},
   "source": [
    "**Préliminaire : rappel de l'algo itératif vu en classe de 1ère :**\n",
    "\n",
    "\n",
    "On donne ci-dessous sa version itérative pour se souvenir de l'algorithme général :\n",
    "\n",
    "    - on réalise la division euclidienne du nombre par 2 et on relève le reste : c'est le dernier bit du nombre en écriture binaire.\n",
    "    - le quotient de la division précédente est à son tour divisé par 2 sur le même principe (le reste est l'avant-dernier bit).\n",
    "    - on reproduit ces divisions tant que le quotient n'est pas nul (dans une boucle TANT QUE)."
   ]
  },
  {
   "cell_type": "code",
   "execution_count": null,
   "metadata": {},
   "outputs": [],
   "source": [
    "def dec2bin_iter(n):\n",
    "    \"\"\"\n",
    "    Version itérative :\n",
    "    Entrée : un entier n\n",
    "    Sortie : une chaîne de caractères représentant n en base 2\n",
    "    \"\"\"\n",
    "    b = \"\"              # chaîne qui contiendra le résultat\n",
    "    while n != 0:\n",
    "        r = n % 2       # calcul du reste de la division du nombre par 2\n",
    "        b = str(r) + b  # ajout du bit en début de chaîne\n",
    "        n = n // 2      # calcul du quotient entier du nombre par 2\n",
    "    return b"
   ]
  },
  {
   "cell_type": "markdown",
   "metadata": {},
   "source": [
    "\n",
    "**Coup de pouce :** \n",
    "\n",
    "*Condition d'arrêt* : Si le nombre est nul, la chaine binaire est \"0\". Si le nombre est 1, la chaine binaire est \"1\".\n",
    "\n",
    "*Récursion* : La chaine à renvoyer est la concaténation de la chaine \"traduisant\" le quotient de la division euclidienne avec le reste (traduit en str)."
   ]
  },
  {
   "cell_type": "code",
   "execution_count": null,
   "metadata": {},
   "outputs": [],
   "source": [
    "def dec2bin(n):\n",
    "    \"\"\" Renvoie une chaine de 1 et de 0 correspondant à l'écriture binaire du nombre n (base 10) \"\"\"\n",
    "    # VOTRE CODE CI-DESSOUS : version récursive !"
   ]
  },
  {
   "cell_type": "code",
   "execution_count": null,
   "metadata": {},
   "outputs": [],
   "source": [
    "dec2bin(157)"
   ]
  },
  {
   "cell_type": "code",
   "execution_count": null,
   "metadata": {},
   "outputs": [],
   "source": [
    "assert dec2bin_iter(157) == dec2bin(157)"
   ]
  },
  {
   "cell_type": "markdown",
   "metadata": {},
   "source": [
    "<h2 class=\"alert alert-info\">Exo 6. Algorithmes de tri</h2>\n",
    "\n",
    "Deux algorithmes de tri de tableau font partie de la liste des algorithmes à connaître (vus en 1ère en version itérative).\n",
    "\n",
    "    1. tri par sélection\n",
    "    2. tri par insertion"
   ]
  },
  {
   "cell_type": "markdown",
   "metadata": {},
   "source": [
    "<h2 class=\"alert alert-warning\">6.1. Tri par sélection</h2>\n",
    "\n",
    "Ce tri est parfois appelé \"naïf\" au sens de \"le plus simple qui vienne à l'esprit, sans souci d'efficacité ou d'optimisation\".\n",
    "\n",
    "Le principe consiste à rechercher le minimum du tableau et de le placer en début de tableau, puis recommencer sur le sous-tableau des autres éléments.\n",
    "Par exemple, prenons le tableau tab = [6, 9, 1, 5, 3, 3, 10, 4, 8, 2]. \n",
    "\n",
    "À l'étape 1, on recherche la valeur minimum du tableau (ici c'est 1 en position 3), puis on échange cette valeur avec la première valeur du tableau (ici, c'est 6). Le tableau  devient alors tab = [1, 9, 6, 5, 3, 3, 10, 4, 8, 2].\n",
    "\n",
    "On recommence alors ce processus pour le sous-tableau [9, 6, 5, 3, 3, 10, 4, 8, 2]. Le minimum est 2, et on l'échange avec 9. Le tableau devient alors tab = [1, 2, 6, 5, 3, 3, 10, 4, 8, 9].\n",
    "\n",
    "On recommence ainsi jusqu'à ce que le sous-tableau à trier soit de taille 1.\n",
    "\n",
    "![Tri sélection](tri_selection.png)"
   ]
  },
  {
   "cell_type": "markdown",
   "metadata": {},
   "source": [
    "**Travail à faire :**  Compléter le code de la version itérative d'une fonction de tri par sélection pour vous remettre le principe en tête. "
   ]
  },
  {
   "cell_type": "code",
   "execution_count": null,
   "metadata": {},
   "outputs": [],
   "source": [
    "def tri_selection_iter(tab):\n",
    "    \"\"\" Tri par sélection version itérative \"\"\"\n",
    "    # COMPLETER LE CODE CI-DESSOUS\n",
    "    for i in range(...): # parcours principal du tableau\n",
    "        # recherche de l'indice du minimum dans le reste du tableau :\n",
    "        j_mini = ...\n",
    "        for j in range(...): # parcours secondaire du tableau (partie non triée)\n",
    "            if tab[...] < tab[...]:\n",
    "                j_mini = j\n",
    "        # permutation des valeurs du tableau (entre la position en cours et le minimum du reste du tableau) :\n",
    "        tab[i], tab[j_mini] = tab[...], tab[...]"
   ]
  },
  {
   "cell_type": "code",
   "execution_count": null,
   "metadata": {},
   "outputs": [],
   "source": [
    "# tests \n",
    "shuffle(L1)\n",
    "tri_selection_iter(L1)\n",
    "assert L1 == sorted(L1), \"L1 n'est pas triée correctement !\"\n",
    "print(\"L1 est bien triée\")"
   ]
  },
  {
   "cell_type": "markdown",
   "metadata": {},
   "source": [
    "**Travail à faire :**  Écrire la version récursive de cette fonction.\n",
    "\n",
    "**Aide :** La fonction récursive prend 2 paramètres en entrée :\n",
    "\n",
    "    - le tableau à trier \n",
    "    - l'indice du début de la partie non triée du tableau. C'est ce paramètre qui évolue au cours des appels récursifs ; au 1er appel, il vaut 0.\n",
    "\n",
    "**Coup de pouce :** \n",
    "\n",
    "*Condition d'arrêt* : si l'indice du début de la partie non triée est supérieur ou égal à la taille du tableau, c'est que le tableau est trié.\n",
    "\n",
    "*Récursion* : chercher l'indice du minimum dans la partie non triée du tableau et faire la permutation entre le 1er élément non trié du tableau et la valeur à l'indice du minimum ; puis reprendre récursivement le tri en décalant l'indice du début de la partie non triée."
   ]
  },
  {
   "cell_type": "code",
   "execution_count": 16,
   "metadata": {},
   "outputs": [],
   "source": [
    "def tri_selection(tab, i_deb=0):\n",
    "    \"\"\" Tri par sélection version récursive \"\"\"\n",
    "    # VOTRE CODE CI-DESSOUS"
   ]
  },
  {
   "cell_type": "code",
   "execution_count": null,
   "metadata": {},
   "outputs": [],
   "source": [
    "shuffle(L1)\n",
    "tri_selection(L1)\n",
    "assert L1 == sorted(L1), \"L1 n'est pas triée correctement !\"\n",
    "print(\"L1 est bien triée\")"
   ]
  },
  {
   "cell_type": "markdown",
   "metadata": {},
   "source": [
    "<h2 class=\"alert alert-warning\">6.2. Tri par insertion</h2>\n",
    "\n",
    "C'est la méthode que l'on utilise intuitivement pour trier par exemple un jeu de cartes.\n",
    "\n",
    "Le principe consiste à insérer successivement chaque élément tab[i] à sa bonne place dans la partie du tableau déjà trié tab[0:i].\n",
    "\n",
    "Par exemple, prenons le tableau tab = [18, 3, 10, 25, 9, 3, 11, 13, 23, 8].\n",
    "\n",
    "À l'étape 1, on insère la valeur 3 à sa place dans le sous-tableau trié contenant un seul élément : [18]. \n",
    "\n",
    "Le tableau devient alors tab = [3, 18 , 0, 25, 9, 3, 11, 13, 23, 8].\n",
    "\n",
    "On recommence alors ce processus en insérant la valeur 10 dans la partie triée du tableau : [3, 18]. \n",
    "\n",
    "On obtient alors tab = [3, 10, 18, 25, 9, 3, 11,13, 23, 8].\n",
    "\n",
    "On recommence ainsi jusqu'au traitement du dernier élément du tableau.\n",
    "\n",
    "![tri par insertion](tri_insertion.jpg)"
   ]
  },
  {
   "cell_type": "markdown",
   "metadata": {},
   "source": [
    "**Travail à faire :**  Compléter le code de la version itérative d'une fonction de tri par insertion pour vous remettre le principe en tête. "
   ]
  },
  {
   "cell_type": "markdown",
   "metadata": {},
   "source": [
    "*Indication* : pour placer l'élément à insérer \"au bon endroit\", on procède par une succession d'échanges entre un élémént et l'élément précédent du tableau TANT QUE l'élément à insérer est plus grand que cet élément ; puis finalement on écrit l'élément à insérer à la position qu'on a atteinte."
   ]
  },
  {
   "cell_type": "code",
   "execution_count": null,
   "metadata": {},
   "outputs": [],
   "source": [
    "def tri_insertion_iter(tab):\n",
    "    \"\"\" Tri par insertion, version itérative \"\"\"\n",
    "    # COMPLETER LE CODE CI-DESSOUS\n",
    "    for i in range(...): # parcours principal du tableau\n",
    "        element_a_inserer = tab[...]\n",
    "        j = i - 1 # indice du dernier élément trié\n",
    "        while tab[...] > element_a_inserer and j ... 0:\n",
    "            tab[j+1] = tab[j]\n",
    "            j = j - 1\n",
    "        tab[...] = element_a_inserer            "
   ]
  },
  {
   "cell_type": "code",
   "execution_count": null,
   "metadata": {},
   "outputs": [],
   "source": [
    "shuffle(L1)\n",
    "print(est_triee(L1))\n",
    "tri_insertion_iter(L1)\n",
    "print(est_triee(L1))"
   ]
  },
  {
   "cell_type": "markdown",
   "metadata": {},
   "source": [
    "**Travail à faire :**  Écrire la version récursive de cette fonction.\n",
    "\n",
    "**Aide :** La fonction récursive prend 2 paramètres en entrée :\n",
    "\n",
    "    - le tableau à trier \n",
    "    - l'indice du début de la partie non triée du tableau. C'est ce paramètre qui évolue au cours des appels récursifs ; au 1er appel, il vaut 1.\n",
    "\n",
    "**Coup de pouce :** \n",
    "\n",
    "*Condition d'arrêt* : si l'indice du début de la partie non triée est supérieur ou égal à la taille du tableau, c'est que le tableau est trié.\n",
    "\n",
    "*Récursion* : chercher la position que doit prendre le 1er élément non trié dans la partie déjà triée du tableau en décalant chaque élément déjà trié d'une position ; puis reprendre récursivement le tri en décalant l'indice du début de la partie non triée."
   ]
  },
  {
   "cell_type": "code",
   "execution_count": null,
   "metadata": {},
   "outputs": [],
   "source": [
    "def tri_insertion(tab, i=1):\n",
    "    \"\"\" Tri par insertion, version récursive \"\"\"\n",
    "    # VOTRE CODE CI-DESSOUS"
   ]
  },
  {
   "cell_type": "code",
   "execution_count": null,
   "metadata": {},
   "outputs": [],
   "source": [
    "shuffle(L1)\n",
    "print(est_trie(L1))\n",
    "tri_insertion(L1)\n",
    "print(est_trie(L1))"
   ]
  },
  {
   "cell_type": "code",
   "execution_count": null,
   "metadata": {},
   "outputs": [],
   "source": []
  }
 ],
 "metadata": {
  "kernelspec": {
   "display_name": "Python 3.8.1 64-bit ('python38': conda)",
   "language": "python",
   "name": "python38164bitpython38conda56991d5ad1414e06a4dcd344400cf456"
  },
  "language_info": {
   "codemirror_mode": {
    "name": "ipython",
    "version": 3
   },
   "file_extension": ".py",
   "mimetype": "text/x-python",
   "name": "python",
   "nbconvert_exporter": "python",
   "pygments_lexer": "ipython3",
   "version": "3.8.1"
  }
 },
 "nbformat": 4,
 "nbformat_minor": 4
}
