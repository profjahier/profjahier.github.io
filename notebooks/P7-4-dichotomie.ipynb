{
 "cells": [
  {
   "cell_type": "markdown",
   "id": "fe4b188f-4913-4643-bba9-41b199a2a2e3",
   "metadata": {},
   "source": [
    "<div class=\"alert alert-success\">\n",
    "\n",
    "# Recherche par dichotomie\n",
    "\n",
    "</div>"
   ]
  },
  {
   "cell_type": "markdown",
   "id": "7bb8e7b9-b59c-47d1-a6e7-00330e77dd72",
   "metadata": {
    "tags": []
   },
   "source": [
    "<h2 class=\"alert alert-info\">Fonction de recherche (sans fioritures)</h2>"
   ]
  },
  {
   "cell_type": "markdown",
   "id": "840043e9-401a-40e2-a162-034cb010bf18",
   "metadata": {},
   "source": [
    "<div class=\"alert alert-warning\">\n",
    "    \n",
    "Compléter le code à trous ci-dessous de la fonction `recherche_dichotomique`.\n",
    "</div>"
   ]
  },
  {
   "cell_type": "code",
   "execution_count": null,
   "id": "06aece30-3e6a-4385-9af0-a1bcec42db17",
   "metadata": {},
   "outputs": [],
   "source": [
    "def recherche_dichotomique(tab, val):\n",
    "    \"\"\" Renvoie la position de val dans tab (ou -1 si échec de recherche).\n",
    "    Précondition : tab est un tableau trié.\n",
    "    \"\"\"\n",
    "    igauche = ...\n",
    "    idroite = ...\n",
    "    while ...:\n",
    "        imilieu = ...\n",
    "        if tab[imilieu] == val:\n",
    "            return ...\n",
    "        elif tab[imilieu] ... val:\n",
    "            idroite = ...\n",
    "        else:\n",
    "            ...\n",
    "    return -1"
   ]
  },
  {
   "cell_type": "code",
   "execution_count": null,
   "id": "5531c273-48c0-4846-aa51-a880442ffa1c",
   "metadata": {},
   "outputs": [],
   "source": [
    "def recherche_dichotomique(tab, val):\n",
    "    \"\"\" Renvoie la position de val dans tab (ou -1 si échec de recherche).\n",
    "    précondition : tab est un tableau trié.\n",
    "    \"\"\"\n",
    "    igauche = 0\n",
    "    idroite = len(tab) - 1\n",
    "    while igauche <= idroite:\n",
    "        imilieu = (igauche + idroite) // 2\n",
    "        if tab[imilieu] == val :\n",
    "            return imilieu\n",
    "        elif tab[imilieu] > val:\n",
    "            idroite = imilieu - 1\n",
    "        else:\n",
    "            igauche = imilieu + 1\n",
    "    return -1"
   ]
  },
  {
   "cell_type": "markdown",
   "id": "54b4519d-bf90-42b1-8945-61c49d4b9002",
   "metadata": {},
   "source": [
    "<div class=\"alert alert-warning\">\n",
    "   \n",
    "**Tests** :\n",
    "    \n",
    "1. Créer un tableau `tab` de 16 entiers aléatoires entre 1 et 100. (utilisation de la fonction randint).\n",
    "2. Trier le tableau (fonction sorted).\n",
    "3. Faire une recherche d'une valeur existante dans le tableau et d'une valeur non présente.\n",
    "</div>"
   ]
  },
  {
   "cell_type": "code",
   "execution_count": null,
   "id": "5d05d99d-fc65-4530-9de0-8610db26e064",
   "metadata": {},
   "outputs": [],
   "source": [
    "from random import randint"
   ]
  },
  {
   "cell_type": "code",
   "execution_count": null,
   "id": "7ab0f335-8c66-435f-b72b-26ad272c47f2",
   "metadata": {},
   "outputs": [],
   "source": [
    "tab = sorted([randint(1, 100) for _ in range(16)])\n",
    "tab"
   ]
  },
  {
   "cell_type": "code",
   "execution_count": null,
   "id": "5faeaf7b-62ae-48f5-b197-937bbed86f65",
   "metadata": {},
   "outputs": [],
   "source": [
    "recherche_dichotomique(tab, 1000)"
   ]
  },
  {
   "cell_type": "code",
   "execution_count": null,
   "id": "0d47952c-81ac-478b-ae88-86cea645293c",
   "metadata": {
    "tags": []
   },
   "outputs": [],
   "source": [
    "recherche_dichotomique(tab, tab[2])"
   ]
  },
  {
   "cell_type": "markdown",
   "id": "f4c165bc-e0e2-40e1-8faf-513c2a3439a2",
   "metadata": {
    "tags": []
   },
   "source": [
    "<h2 class=\"alert alert-info\">Ajouts d'assertions pour contrôler la fonction de recherche</h2>"
   ]
  },
  {
   "cell_type": "markdown",
   "id": "a928dbc3-b872-4d83-ae44-7bfb96dd0051",
   "metadata": {},
   "source": [
    "Nous allons ajouter des assertions pour contrôler les préconditions et postconditions de cette fonction. \n",
    "\n",
    "*Remarque* : En réalité, ces assertions feront appel à des fonctions de Pyhton de recherche et de tri et donc rendent la complexité de l'algorithme ridicule mais nous les utiliserons tout de même pour s'assurer que la fonction est bien correcte. En production, ces assertions seraient enlevées.\n",
    "\n",
    "On définit d'abord une fonction permettant de savoir si une valeur est présente dans un tableau, ou une partie de tableau. Cette fonction pourra être utilisée pour écrire les assertions de la fonction recherche. (*Remarque* : cette fonction effectue une *recherche séquentielle*)."
   ]
  },
  {
   "cell_type": "code",
   "execution_count": null,
   "id": "66f115f2-d745-460a-b5d6-15ae47b0af24",
   "metadata": {},
   "outputs": [],
   "source": [
    "def est_present(val, tab, imin=0, imax=None):\n",
    "    \"\"\" Renvoie un booléen indiquant la présence de val dans tab,\n",
    "    entre les indices imin et imax (inclus). \n",
    "    Par défaut, la recherche se fait dans l'intégralité du tableau.\"\"\"\n",
    "    if imax == None:\n",
    "        imax= len(tab)-1\n",
    "    return val in tab[imin:imax+1]"
   ]
  },
  {
   "cell_type": "markdown",
   "id": "ac6e913c-3d9c-4377-8e75-093feb527381",
   "metadata": {},
   "source": [
    "<div class=\"alert alert-warning\">\n",
    "   \n",
    "**Travail à faire** :\n",
    "    \n",
    "1. Dans la fonction ci-dessous (réécriture *légèrement modifiée* de la fonction de recherche dichotomique), on a ajouté des lignes de commentaires aux endroits où une assertion doit être ajoutée. \n",
    "Vous devez traduire ces commentaires par l'instruction d'assertion adéquate.\n",
    "    \n",
    "2. On attend aussi une assertion permettant de contrôler l'invariant de boucle prouvant la correction de l'algorithme.\n",
    "    \n",
    "3. Enfin, vous devez ajouter une ligne permettant d'afficher le variant de boucle qui assure de quitter la boucle while dans le cas où la valeur n'est pas présente dans le tableau).\n",
    "</div>"
   ]
  },
  {
   "cell_type": "code",
   "execution_count": null,
   "id": "082156d1-9bd9-48cb-8557-b62feb94c8d8",
   "metadata": {},
   "outputs": [],
   "source": [
    "def recherche_dichotomique(tab, val):\n",
    "    \"\"\" Renvoie la position de val dans tab (ou -1 si échec de recherche).\n",
    "    précondition : tab est un tableau trié.\n",
    "    \"\"\"\n",
    "    # précondition : le tableau est trié (aide : comparer une version triée du tableau à lui-même)   \n",
    "    g, d = 0, len(tab)-1\n",
    "    while d - g >= 0:\n",
    "        m = (g + d) // 2\n",
    "        if tab[m] < val:\n",
    "            g = m + 1\n",
    "        elif tab[m] > val:\n",
    "            d = m - 1\n",
    "        else:\n",
    "            # postcondition : si on atteint cette instruction, c'est que val est bien dans tab.\n",
    "            return m\n",
    "        # affichage du variant de boucle (print ...)\n",
    "        # invariant de boucle : soit val n'est pas dans tab, soit elle l'est entre les indices g et d.\n",
    "    # postcondition : si on quitte la boucle while, c'est que val n'est pas dans tab.\n",
    "    return -1"
   ]
  },
  {
   "cell_type": "code",
   "execution_count": null,
   "id": "aea72a7a-ad5c-48d9-9814-ae1259492d3e",
   "metadata": {},
   "outputs": [],
   "source": [
    "def recherche_dichotomique(tab, val):\n",
    "    \"\"\" Renvoie la position de val dans tab (ou -1 si échec de recherche).\n",
    "    précondition : tab est un tableau trié.\n",
    "    \"\"\"\n",
    "    assert sorted(tab) == tab, \"Attention, le tableau n'est pas trié !\"\n",
    "    g, d = 0, len(tab)-1\n",
    "    while d - g >= 0:\n",
    "        m = (g + d) // 2\n",
    "        if tab[m] < val:\n",
    "            g = m + 1\n",
    "        elif tab[m] > val:\n",
    "            d = m - 1\n",
    "        else:\n",
    "            assert est_present(val, tab), \"Pb de postcondition : val n'est pas dans tab, et pourtant on l'a trouvée !\"\n",
    "            return m\n",
    "        print(f\"variant : {(d - g) = }\")\n",
    "        assert (not est_present(val, tab)) or (est_present(val, tab, g, d)) # invariant de boucle\n",
    "    assert not est_present(val, tab), \"Pb de postcondition : val est bien dans tab, mais on ne l'a pas trouvée !\"\n",
    "    return -1"
   ]
  },
  {
   "cell_type": "markdown",
   "id": "0dfa98d3-8599-4a6a-9d24-0a9ff6c821c4",
   "metadata": {},
   "source": [
    "**Zone de tests**"
   ]
  },
  {
   "cell_type": "code",
   "execution_count": null,
   "id": "191f258d-35ef-4249-8f0a-c39821e445c3",
   "metadata": {},
   "outputs": [],
   "source": [
    "tab = ([randint(1, 100) for _ in range(16)])\n",
    "tab"
   ]
  },
  {
   "cell_type": "code",
   "execution_count": null,
   "id": "186f6530-5d10-4ea9-9e0c-13b4d1e82c2b",
   "metadata": {},
   "outputs": [],
   "source": [
    "# erreur de précondition\n",
    "recherche_dichotomique(tab, 1000)"
   ]
  },
  {
   "cell_type": "code",
   "execution_count": null,
   "id": "8d8c450f-5c55-4c92-9216-939fe0c4086c",
   "metadata": {},
   "outputs": [],
   "source": [
    "tab.sort()"
   ]
  },
  {
   "cell_type": "code",
   "execution_count": null,
   "id": "f6a5c4db-8ec4-43a8-ace7-d68eb3187fa3",
   "metadata": {},
   "outputs": [],
   "source": [
    "# recherche infructueuse\n",
    "recherche_dichotomique(tab, 1000)"
   ]
  },
  {
   "cell_type": "code",
   "execution_count": null,
   "id": "5c05487a-af64-4608-9e08-62af0bbb6068",
   "metadata": {
    "tags": []
   },
   "outputs": [],
   "source": [
    "# recherche de l'élément à l'indice 2\n",
    "recherche_dichotomique(tab, tab[2])"
   ]
  },
  {
   "cell_type": "code",
   "execution_count": null,
   "id": "6d06af46-e044-4c1f-bbb3-c309c2d42a25",
   "metadata": {},
   "outputs": [],
   "source": []
  }
 ],
 "metadata": {
  "kernelspec": {
   "display_name": "Python 3",
   "language": "python",
   "name": "python3"
  },
  "language_info": {
   "codemirror_mode": {
    "name": "ipython",
    "version": 3
   },
   "file_extension": ".py",
   "mimetype": "text/x-python",
   "name": "python",
   "nbconvert_exporter": "python",
   "pygments_lexer": "ipython3",
   "version": "3.10.1"
  }
 },
 "nbformat": 4,
 "nbformat_minor": 5
}
