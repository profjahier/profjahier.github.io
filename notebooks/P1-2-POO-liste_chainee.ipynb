{
 "cells": [
  {
   "cell_type": "markdown",
   "metadata": {
    "editable": true,
    "nbgrader": {
     "cell_type": "markdown",
     "checksum": "0ada6bf1a425d3139e79b9e96e27dbf3",
     "grade": false,
     "grade_id": "cell-2e87982452677d89",
     "locked": true,
     "schema_version": 3,
     "solution": false,
     "task": false
    }
   },
   "source": [
    "<h1 class=\"alert alert-success\">Les listes chaînées : paradigme objet</h1>"
   ]
  },
  {
   "cell_type": "markdown",
   "metadata": {},
   "source": [
    "Dans ce TP, nous allons créer une classe Liste qui implémente le concept de liste chainée (déjà rencontrée dans un TP précédent).\n",
    "\n",
    "Cette classe reposera sur une autre classe Maillon qui définit un maillon de base d'une liste chainée.\n",
    "On rappelle qu'un maillon est essentiellement un contenu et un lien vers un maillon suivant.\n",
    "\n",
    "Quant à elle, une liste, est essentiellement définie par un lien vers un premier maillon. Par ailleurs, la classe Liste définira des méthodes spécifiques aux listes (ex: insertion d'élément, recherche d'élément...)"
   ]
  },
  {
   "cell_type": "markdown",
   "metadata": {
    "editable": true,
    "nbgrader": {
     "cell_type": "markdown",
     "checksum": "0ada6bf1a425d3139e79b9e96e27dbf3",
     "grade": false,
     "grade_id": "cell-2e87982452677d89",
     "locked": true,
     "schema_version": 3,
     "solution": false,
     "task": false
    },
    "tags": []
   },
   "source": [
    "<h2 class=\"alert alert-info\">I. Classe Maillon</h2>"
   ]
  },
  {
   "cell_type": "markdown",
   "metadata": {},
   "source": [
    "**Écrire une classe maillon qui possède 2 attributs :**\n",
    "- contenu : type quelconque,  paramètre passé lors de l'instanciation\n",
    "- suivant : type Maillon, paramètre facultatif de l'instanciation, sa valeur par défaut étant None\n",
    "\n",
    "**Ajouter aussi la méthode suivante :**\n",
    "\n",
    "    def __str__(self):\n",
    "        return str(self.contenu) + ' -> ' + str(self.suivant)\n",
    "        \n",
    "C'est une méthode spéciale (renvoyant une chaine de caractères) qui est invoquée lors d'un appel à la fonction *print* de Python `print(maillon)`.\n",
    "\n",
    "\n",
    "**Exemple d'utilisation :**\n",
    "\n",
    "    >>> m1 = Maillon(5)\n",
    "    >>> print(m1)\n",
    "    5 -> None\n",
    "    >>> m2 = Maillon(8, m1)\n",
    "    >>> print(m2)\n",
    "    5 -> 8 -> None"
   ]
  },
  {
   "cell_type": "code",
   "execution_count": null,
   "metadata": {},
   "outputs": [],
   "source": [
    "# à vous de jouer\n",
    "# ...\n"
   ]
  },
  {
   "cell_type": "code",
   "execution_count": null,
   "metadata": {},
   "outputs": [],
   "source": [
    "# tests :\n",
    "m1 = Maillon(5)\n",
    "print(m1)\n",
    "m2 = Maillon(3, m1)\n",
    "m3 = Maillon(8, m2)\n",
    "print(m3)"
   ]
  },
  {
   "cell_type": "markdown",
   "metadata": {
    "editable": true,
    "nbgrader": {
     "cell_type": "markdown",
     "checksum": "0ada6bf1a425d3139e79b9e96e27dbf3",
     "grade": false,
     "grade_id": "cell-2e87982452677d89",
     "locked": true,
     "schema_version": 3,
     "solution": false,
     "task": false
    },
    "tags": []
   },
   "source": [
    "<h2 class=\"alert alert-info\">II. Classe Liste</h2>"
   ]
  },
  {
   "cell_type": "markdown",
   "metadata": {},
   "source": [
    "**On donne ci-dessous le patron de la classe Liste :**\n",
    "- La méthode `__init__` n'est pas à modifier.\n",
    "    - en plus de l'attribut *premier*, on a jouté un paramètre *taille* pour suivre 'en direct' la taille de la liste.\n",
    "- La méthode spéciale `__str__` permet un affichage avec *print*.\n",
    "- La méthode `est_vide` permet un test rapide pour savoir si une liste est vide.\n",
    "- Les méthodes suivantes sont celles qu'il faudra compléter ou écrire entièrement dans ce TP pour obtenir toutes les fonctionnalités proposées par la classe Liste."
   ]
  },
  {
   "cell_type": "markdown",
   "metadata": {},
   "source": [
    "    class Liste:\n",
    "        def __init__(self):\n",
    "            \"\"\" premier est de type Maillon, taille est un entier \"\"\"\n",
    "            self.premier = None # premier maillon de la liste\n",
    "            self.taille = 0     # attribut pour accéder en temps constant à la taille de la liste\n",
    "\n",
    "        def __str__(self):\n",
    "            return '[' + self.premier.__str__() + ']'\n",
    "\n",
    "        def est_vide(self):\n",
    "            return self.premier is None\n",
    "\n",
    "        def ajouter(self, contenu):\n",
    "            \"\"\" Ajoute un maillon avec le contenu en fin de liste \"\"\"\n",
    "            self.taille = self.taille + 1\n",
    "            if self.est_vide():\n",
    "                self.premier = Maillon(contenu)\n",
    "            else:\n",
    "                maillon = ...                  # désigne le 1er maillon de la liste\n",
    "                while ... is not None:         # tant que ce maillon ne pointe pas vers un maillon vide\n",
    "                    maillon = ...              # on passe au maillon suivant\n",
    "                maillon.suivant = Maillon(...) # création du nouveau maillon en fin de liste\n",
    "\n",
    "        def inserer(self, indice, contenu):\n",
    "            \"\"\" Insère le contenu à l'indice donné \"\"\"\n",
    "\n",
    "        def supprimer(self, indice):\n",
    "            \"\"\" Supprime le maillon à l'indice donné et renvoie son contenu \"\"\"\n",
    "\n",
    "        def element(self, indice):\n",
    "            \"\"\" Renvoie le contenu du maillon à l'indice donné \"\"\"\n",
    "\n",
    "        def modifier(self, indice, contenu):\n",
    "            \"\"\" Modifie le contenu de l'élément à l'indice donné \"\"\"\n",
    "\n",
    "        def rechercher(self, valeur):\n",
    "            \"\"\" Renvoie True/False si valeur est, ou non, présent dans la liste \"\"\""
   ]
  },
  {
   "cell_type": "code",
   "execution_count": null,
   "metadata": {},
   "outputs": [],
   "source": [
    "############################################\n",
    "####                                   #####\n",
    "####  Cellule pour écrire votre code   #####\n",
    "####                                   #####\n",
    "############################################\n",
    "\n",
    "class Liste:\n",
    "    def __init__(self):\n",
    "        self.premier = None # premier maillon de la liste\n",
    "        self.taille = 0     # attribut pour accéder en temps constant à la taille de la liste\n",
    "        \n",
    "    def __str__(self):\n",
    "        return '[' + self.premier.__str__() + ']'\n",
    "    \n",
    "    def est_vide(self):\n",
    "        return self.premier is None\n",
    "    \n",
    "    def ajouter(self, contenu):\n",
    "        \"\"\" Ajoute un maillon en fin de liste \"\"\"\n",
    "        self.taille = self.taille + 1\n",
    "        if self.est_vide():\n",
    "            self.premier = Maillon(contenu)\n",
    "        else:\n",
    "            maillon = ...                  # désigne le 1er maillon de la liste\n",
    "            while ... is not None:         # tant que ce maillon ne pointe pas vers un maillon vide\n",
    "                maillon = ...              # on passe au maillon suivant\n",
    "            maillon.suivant = Maillon(...) # création du nouveau maillon en fin de liste\n",
    "            \n",
    "    def inserer(self, indice, contenu):\n",
    "        \"\"\" Insère le contenu à l'indice donné \"\"\"\n",
    "            \n",
    "    def supprimer(self, indice):\n",
    "        \"\"\" Supprime le maillon à l'indice donné et renvoie son contenu \"\"\"\n",
    "                    \n",
    "    def element(self, indice):\n",
    "        \"\"\" Renvoie le contenu du maillon à l'indice donné \"\"\"\n",
    "    \n",
    "    def modifier(self, indice, contenu):\n",
    "        \"\"\" Modifie le contenu à l'indice donné \"\"\"\n",
    "        \n",
    "    def rechercher(self, valeur):\n",
    "        \"\"\" Renvoie True/False si valeur est, ou non, présent dans la liste \"\"\""
   ]
  },
  {
   "cell_type": "markdown",
   "metadata": {
    "editable": true,
    "nbgrader": {
     "cell_type": "markdown",
     "checksum": "0ada6bf1a425d3139e79b9e96e27dbf3",
     "grade": false,
     "grade_id": "cell-2e87982452677d89",
     "locked": true,
     "schema_version": 3,
     "solution": false,
     "task": false
    },
    "tags": []
   },
   "source": [
    "<h3 class=\"alert alert-warning\">1) Méthode ajouter</h3>"
   ]
  },
  {
   "cell_type": "markdown",
   "metadata": {},
   "source": [
    "Ici, nous écrivons une méthode similaire à la méthode `append` des listes-Python.\n",
    "\n",
    "**Compléter les trous de la méthode `ajouter` en s'appuyant sur les commentaires.**"
   ]
  },
  {
   "cell_type": "code",
   "execution_count": null,
   "metadata": {},
   "outputs": [],
   "source": [
    "# zone de tests :\n",
    "l = Liste()\n",
    "print(l, l.taille)\n",
    "l.ajouter(12)\n",
    "print(l, l.taille)\n",
    "l.ajouter(15)\n",
    "print(l, l.taille)\n",
    "l.ajouter(3)\n",
    "print(l, l.taille)"
   ]
  },
  {
   "cell_type": "markdown",
   "metadata": {
    "editable": true,
    "nbgrader": {
     "cell_type": "markdown",
     "checksum": "0ada6bf1a425d3139e79b9e96e27dbf3",
     "grade": false,
     "grade_id": "cell-2e87982452677d89",
     "locked": true,
     "schema_version": 3,
     "solution": false,
     "task": false
    },
    "tags": []
   },
   "source": [
    "<h3 class=\"alert alert-warning\">2) Méthode inserer</h3>"
   ]
  },
  {
   "cell_type": "markdown",
   "metadata": {},
   "source": [
    "La méthode insérer permet d'ajouter du contenu à la liste à n'importe quel indice. C'est l'équivalent de la méthode `insert` des listes-Python.\n",
    "\n",
    "**Vous devez écrire tout le code de cette fonction.**\n",
    "\n",
    "*Commentaires :*\n",
    "- ajouter une assertion pour s'assurer que l'indice passé en paramètre est positif (ou nul).\n",
    "- si l'indice est supérieur à la taille de la liste, on effectuera un ajout en fin de liste.\n",
    "- ATTENTION : il faut distinguer le cas de l'insertion à l'indice 0 des autres indices.\n",
    "- Pour insérer à un indice quelconque, on pourra utiliser une boucle for pour parcourir les maillons jusqu'à l'indice d'insertion, puis effectuer l'insertion à cet endroit."
   ]
  },
  {
   "cell_type": "code",
   "execution_count": null,
   "metadata": {},
   "outputs": [],
   "source": [
    "# zone de tests :\n",
    "l = Liste()\n",
    "l.inserer(0, 'deb')\n",
    "print(l, l.taille)\n",
    "l.inserer(1, 'un')\n",
    "print(l, l.taille)\n",
    "l.inserer(0, 'zero')\n",
    "print(l, l.taille)"
   ]
  },
  {
   "cell_type": "markdown",
   "metadata": {
    "editable": true,
    "nbgrader": {
     "cell_type": "markdown",
     "checksum": "0ada6bf1a425d3139e79b9e96e27dbf3",
     "grade": false,
     "grade_id": "cell-2e87982452677d89",
     "locked": true,
     "schema_version": 3,
     "solution": false,
     "task": false
    },
    "tags": []
   },
   "source": [
    "<h3 class=\"alert alert-warning\">3) Méthode supprimer</h3>"
   ]
  },
  {
   "cell_type": "markdown",
   "metadata": {},
   "source": [
    "La méthode supprimer permet de supprimer un maillon à un indice donné, et renvoie le contenu du maillon supprimé. C'est l'équivalent de la méthode `pop` des listes-Python.\n",
    "\n",
    "**Vous devez écrire tout le code de cette fonction.**\n",
    "\n",
    "*Commentaires :*\n",
    "- ajouter une assertion pour s'assurer que l'indice passé en paramètre est positif (ou nul).\n",
    "- si l'indice est supérieur à la taille de la liste (-1), on effectuera un retrait en fin de liste.\n",
    "- ATTENTION : il faut distinguer le cas de la suppresion à l'indice 0 des autres indices."
   ]
  },
  {
   "cell_type": "code",
   "execution_count": null,
   "metadata": {},
   "outputs": [],
   "source": [
    "# zone de tests :\n",
    "l = Liste()\n",
    "for i in range(5):\n",
    "    l.ajouter(i)\n",
    "print(l)"
   ]
  },
  {
   "cell_type": "code",
   "execution_count": null,
   "metadata": {},
   "outputs": [],
   "source": [
    "# zone de tests (suite) : \n",
    "l.supprimer(0)\n",
    "print(l, l.taille)\n",
    "l.supprimer(1)\n",
    "print(l, l.taille)\n",
    "l.supprimer(20)\n",
    "print(l, l.taille)"
   ]
  },
  {
   "cell_type": "markdown",
   "metadata": {
    "editable": true,
    "nbgrader": {
     "cell_type": "markdown",
     "checksum": "0ada6bf1a425d3139e79b9e96e27dbf3",
     "grade": false,
     "grade_id": "cell-2e87982452677d89",
     "locked": true,
     "schema_version": 3,
     "solution": false,
     "task": false
    },
    "tags": []
   },
   "source": [
    "<h3 class=\"alert alert-warning\">4) Méthode element</h3>"
   ]
  },
  {
   "cell_type": "markdown",
   "metadata": {},
   "source": [
    "C'est tout simplement l'équivalent de l'appel à `liste[i]` avec les listes-Python.\n",
    "\n",
    "**Vous devez écrire tout le code de cette fonction.**\n",
    "\n",
    "*Commentaires :*\n",
    "- ajouter une assertion pour s'assurer que l'indice passé en paramètre est compris entre 0 et taille_de_liste - 1."
   ]
  },
  {
   "cell_type": "code",
   "execution_count": null,
   "metadata": {},
   "outputs": [],
   "source": [
    "# zone de tests :\n",
    "l = Liste()\n",
    "for i in 'abcde':\n",
    "    l.ajouter(i)\n",
    "print(l)"
   ]
  },
  {
   "cell_type": "code",
   "execution_count": null,
   "metadata": {},
   "outputs": [],
   "source": [
    "# zone de tests (suite) :\n",
    "for i in range(5):\n",
    "     print(f\"indice {i}, contenu {l.element(i)}\")"
   ]
  },
  {
   "cell_type": "markdown",
   "metadata": {
    "editable": true,
    "nbgrader": {
     "cell_type": "markdown",
     "checksum": "0ada6bf1a425d3139e79b9e96e27dbf3",
     "grade": false,
     "grade_id": "cell-2e87982452677d89",
     "locked": true,
     "schema_version": 3,
     "solution": false,
     "task": false
    },
    "tags": []
   },
   "source": [
    "<h3 class=\"alert alert-warning\">5) Méthode modifier</h3>"
   ]
  },
  {
   "cell_type": "markdown",
   "metadata": {},
   "source": [
    "La méthode modifier permet de mettre à jour le contenu d'un maillon de la liste. C'est l'équivalent de l'instruction `liste[i] = valeur` avec le listes-Python.\n",
    "\n",
    "**Vous devez écrire tout le code de cette fonction.**\n",
    "\n",
    "*Commentaires :*\n",
    "- ajouter une assertion pour s'assurer que l'indice passé en paramètre est compris entre 0 et taille_de_liste - 1."
   ]
  },
  {
   "cell_type": "code",
   "execution_count": null,
   "metadata": {},
   "outputs": [],
   "source": [
    "# zone de tests :\n",
    "l = Liste()\n",
    "for truc in 'liste':\n",
    "    l.ajouter(truc)\n",
    "\n",
    "print(l)\n",
    "\n",
    "for i in range(l.taille):\n",
    "    l.modifier(i, str(i))\n",
    "    print(l)"
   ]
  },
  {
   "cell_type": "markdown",
   "metadata": {
    "editable": true,
    "nbgrader": {
     "cell_type": "markdown",
     "checksum": "0ada6bf1a425d3139e79b9e96e27dbf3",
     "grade": false,
     "grade_id": "cell-2e87982452677d89",
     "locked": true,
     "schema_version": 3,
     "solution": false,
     "task": false
    },
    "tags": []
   },
   "source": [
    "<h3 class=\"alert alert-warning\">6) Méthode rechercher</h3>"
   ]
  },
  {
   "cell_type": "markdown",
   "metadata": {},
   "source": [
    "La méthode rechercher renvoie un booléen indiquant si la recherche d'une valeur dans la liste est fructueuse.   C'est l'équivalent du test `valeur in liste` des listes-Python.\n",
    "\n",
    "**Vous devez écrire tout le code de cette fonction.**\n",
    "\n",
    "*Commentaires :*\n",
    "- la recherche dans une liste vide est forcément infructueuse."
   ]
  },
  {
   "cell_type": "code",
   "execution_count": null,
   "metadata": {},
   "outputs": [],
   "source": [
    "# zone de tests :\n",
    "\n",
    "l = Liste()\n",
    "for truc in 'liste':\n",
    "    l.ajouter(truc)\n",
    "\n",
    "print(l)\n",
    "\n",
    "for lettre in \"listeazy\":\n",
    "    print(lettre, l.rechercher(lettre))"
   ]
  },
  {
   "cell_type": "code",
   "execution_count": null,
   "metadata": {},
   "outputs": [],
   "source": [
    "# zone de tests :\n",
    "l = Liste()\n",
    "print(l.est_vide())\n",
    "l.rechercher('truc')"
   ]
  },
  {
   "cell_type": "markdown",
   "metadata": {
    "editable": true,
    "nbgrader": {
     "cell_type": "markdown",
     "checksum": "0ada6bf1a425d3139e79b9e96e27dbf3",
     "grade": false,
     "grade_id": "cell-2e87982452677d89",
     "locked": true,
     "schema_version": 3,
     "solution": false,
     "task": false
    },
    "tags": []
   },
   "source": [
    "<h2 class=\"alert alert-info\">III. Complément facultatif</h2>"
   ]
  },
  {
   "cell_type": "markdown",
   "metadata": {},
   "source": [
    "On a ajouté ci-dessous deux méthodes permettant de concaténer deux listes. Bien analyser les codes des 2 méthodes présentées et les tests à suivre pour comprendre le danger des effets de bords..."
   ]
  },
  {
   "cell_type": "code",
   "execution_count": null,
   "metadata": {},
   "outputs": [],
   "source": [
    "\n",
    "    # complément un peu subtil pour les plus avancés (facultatif)\n",
    "    \n",
    "    def concatener(self, autre_liste):\n",
    "        for i in range(autre_liste.taille):\n",
    "            self.ajouter(autre_liste.element(i))\n",
    "    \n",
    "    def concatener_effet_bord(self, autre_liste):\n",
    "        self.taille = self.taille + autre_liste.taille\n",
    "        if self.est_vide():\n",
    "            self.premier = autre_liste.premier\n",
    "        else:\n",
    "            maillon = self.premier\n",
    "            while maillon.suivant is not None:\n",
    "                maillon = maillon.suivant\n",
    "            maillon.suivant = autre_liste.premier"
   ]
  },
  {
   "cell_type": "code",
   "execution_count": null,
   "metadata": {},
   "outputs": [],
   "source": [
    "l0 = Liste()\n",
    "\n",
    "l1 = Liste()\n",
    "for truc in 'début':\n",
    "    l1.ajouter(truc)\n",
    "    \n",
    "l2 = Liste()\n",
    "for truc in 'fin':\n",
    "    l2.ajouter(truc)\n",
    "    \n",
    "print(l0, l1, l2)\n",
    "l0.concatener(l1)\n",
    "print(l0, l1, l2)\n",
    "l0.concatener(l2)\n",
    "print(l0, l1, l2)"
   ]
  },
  {
   "cell_type": "code",
   "execution_count": null,
   "metadata": {},
   "outputs": [],
   "source": [
    "l0 = Liste()\n",
    "\n",
    "l1 = Liste()\n",
    "for truc in 'début':\n",
    "    l1.ajouter(truc)\n",
    "    \n",
    "l2 = Liste()\n",
    "for truc in 'fin':\n",
    "    l2.ajouter(truc)\n",
    "    \n",
    "print(l0, l1, l2)\n",
    "l0.concatener_effet_bord(l1)\n",
    "print(l0, l1, l2)\n",
    "l0.concatener_effet_bord(l2)\n",
    "print(l0, l1, l2)"
   ]
  }
 ],
 "metadata": {
  "kernelspec": {
   "display_name": "Python 3.8.1 64-bit ('python38': conda)",
   "language": "python",
   "name": "python38164bitpython38conda56991d5ad1414e06a4dcd344400cf456"
  },
  "language_info": {
   "codemirror_mode": {
    "name": "ipython",
    "version": 3
   },
   "file_extension": ".py",
   "mimetype": "text/x-python",
   "name": "python",
   "nbconvert_exporter": "python",
   "pygments_lexer": "ipython3",
   "version": "3.8.1"
  }
 },
 "nbformat": 4,
 "nbformat_minor": 4
}
