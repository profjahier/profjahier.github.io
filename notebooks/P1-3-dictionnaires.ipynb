{
 "cells": [
  {
   "cell_type": "markdown",
   "metadata": {
    "deletable": true,
    "editable": true,
    "nbgrader": {
     "cell_type": "markdown",
     "checksum": "0ada6bf1a425d3139e79b9e96e27dbf3",
     "grade": false,
     "grade_id": "cell-2e87982452677d89",
     "locked": true,
     "schema_version": 3,
     "solution": false,
     "task": false
    }
   },
   "source": [
    "<h1 class=\"alert alert-success\">Les dictionnaires</h1>"
   ]
  },
  {
   "cell_type": "markdown",
   "metadata": {
    "deletable": true,
    "editable": true,
    "nbgrader": {
     "cell_type": "markdown",
     "checksum": "ba50910247ce62318e149506ca2b6347",
     "grade": false,
     "grade_id": "cell-746dfdaa1cc83a85",
     "locked": true,
     "schema_version": 3,
     "solution": false,
     "task": false
    }
   },
   "source": [
    "<h2 class=\"alert alert-info\">Rappels sur les dictionnaires</h2>\n",
    "\n",
    "Dans cette partie, nous allons fabriquer un carnet d'adresse pour stocker des contacts. \n",
    "\n",
    "<h3 class=\"alert alert-warning\">Fabrication d'un contact </h3>\n",
    "\n",
    "Chaque contact sera un dictionnaire dont les clés seront :\n",
    "- `nom` : Nom et prénom du contact\n",
    "- `tel` : N° de téléphone\n",
    "- `rue` : adresse complète\n",
    "- `code` : code postal\n",
    "- `ville` : ville\n",
    "- `naissance` : date de naissance\n",
    "\n",
    "Créez un dictionnaire nommé `contact` correspondant au contact suivant :\n",
    "> Costa Brigitte<br/>\n",
    "> 08 06 18 37 28<br/>\n",
    "> 93, avenue Bruneau<br/>\n",
    "> 13749 Perrot"
   ]
  },
  {
   "cell_type": "code",
   "execution_count": null,
   "metadata": {
    "deletable": true,
    "nbgrader": {
     "cell_type": "code",
     "checksum": "f5f5477e7af8a926a2888f2cc2b71800",
     "grade": false,
     "grade_id": "cell-43440f0b40a6d000",
     "locked": false,
     "schema_version": 3,
     "solution": true,
     "task": false
    }
   },
   "outputs": [],
   "source": [
    "# à vous de jouer\n",
    "# ...\n"
   ]
  },
  {
   "cell_type": "code",
   "execution_count": null,
   "metadata": {
    "deletable": true,
    "editable": true,
    "nbgrader": {
     "cell_type": "code",
     "checksum": "1c1644a76b077ecc55dddf05eab740ea",
     "grade": true,
     "grade_id": "cell-8724965a83c0e1e6",
     "locked": true,
     "points": 1,
     "schema_version": 3,
     "solution": false,
     "task": false
    }
   },
   "outputs": [],
   "source": [
    "# Vérification\n",
    "assert contact[\"nom\"] == \"Costa Brigitte\"\n",
    "assert contact[\"tel\"] == \"08 06 18 37 28\"\n",
    "assert contact[\"ville\"] == \"Perrot\""
   ]
  },
  {
   "cell_type": "markdown",
   "metadata": {
    "deletable": true,
    "editable": true,
    "nbgrader": {
     "cell_type": "markdown",
     "checksum": "9b354ec1aac843c15ff48644c4456948",
     "grade": false,
     "grade_id": "cell-65eb23ffc8b79ec1",
     "locked": true,
     "schema_version": 3,
     "solution": false,
     "task": false
    }
   },
   "source": [
    "Ajouter une nouvelle entrée \"naissance\" dans le contact ayant pour valeur '1987-02-23'"
   ]
  },
  {
   "cell_type": "code",
   "execution_count": null,
   "metadata": {
    "deletable": true,
    "nbgrader": {
     "cell_type": "code",
     "checksum": "f2c69dd1cb84a3383095b4b757aff98b",
     "grade": false,
     "grade_id": "cell-d25894b093958cf5",
     "locked": false,
     "schema_version": 3,
     "solution": true,
     "task": false
    }
   },
   "outputs": [],
   "source": [
    "# à vous de jouer\n",
    "# ...\n"
   ]
  },
  {
   "cell_type": "code",
   "execution_count": null,
   "metadata": {
    "deletable": true,
    "editable": true,
    "nbgrader": {
     "cell_type": "code",
     "checksum": "6909ae13045727999919507aba5c6811",
     "grade": true,
     "grade_id": "cell-914fdb244f34c260",
     "locked": true,
     "points": 1,
     "schema_version": 3,
     "solution": false,
     "task": false
    }
   },
   "outputs": [],
   "source": [
    "# Vérification\n",
    "assert contact[\"naissance\"] == '1987-02-23'"
   ]
  },
  {
   "cell_type": "markdown",
   "metadata": {
    "deletable": true,
    "editable": true,
    "nbgrader": {
     "cell_type": "markdown",
     "checksum": "ad0e198547d3bbc8573882be11af6354",
     "grade": false,
     "grade_id": "cell-54b17f09181e651d",
     "locked": true,
     "schema_version": 3,
     "solution": false,
     "task": false
    }
   },
   "source": [
    "<h3 class=\"alert alert-warning\">Génération automatique d'un carnet de contacts</h3>"
   ]
  },
  {
   "cell_type": "markdown",
   "metadata": {},
   "source": [
    "On dispose d'un fichier binaire annexe contenant une liste-Python de 2048 contacts : `P1-3-carnet-2048`.\n",
    "\n",
    "Chaque contact est un dictionnaire dont les clefs sont : nom, tel, rue, code, ville, naissance. \n",
    "\n",
    "La lecture de ce fichier et l'extraction de données peut se faire à l'aide du module `pickle` comme le montre l'exemple ci-dessous."
   ]
  },
  {
   "cell_type": "code",
   "execution_count": null,
   "metadata": {},
   "outputs": [],
   "source": [
    "import pickle"
   ]
  },
  {
   "cell_type": "code",
   "execution_count": null,
   "metadata": {},
   "outputs": [],
   "source": [
    "with open('P1-3-carnet-2048', 'rb') as fichier:  # ouverture du fichier en lecture 'rb' (read binary)\n",
    "    carnet = pickle.load(fichier)                # extraction de l'objet liste-Python contenue dans le fichier\n",
    "\n",
    "# affichage des 3 premiers contacts de la liste :\n",
    "carnet[:3]"
   ]
  },
  {
   "cell_type": "markdown",
   "metadata": {},
   "source": [
    "#### Remarque : le fichier de contacts a été créé initialement à l'aide du module `faker`.\n",
    "On donne ci-dessous un exemple d'utilisation de ce module (attention : non disponible dans Basthon)."
   ]
  },
  {
   "cell_type": "code",
   "execution_count": null,
   "metadata": {
    "editable": true,
    "nbgrader": {
     "cell_type": "code",
     "checksum": "235b33cb82063824e12ad2c257522217",
     "grade": false,
     "grade_id": "cell-6ea9a8511312e0f6",
     "locked": true,
     "schema_version": 3,
     "solution": false,
     "task": false
    }
   },
   "outputs": [],
   "source": [
    "from faker import Faker\n",
    "\n",
    "fake = Faker(\"fr_FR\") # Générateur de données personnelles pour un Français\n",
    "\n",
    "print(fake.last_name())\n",
    "print(fake.first_name())\n",
    "print(fake.phone_number())\n",
    "print(fake.street_address())\n",
    "print(fake.postcode(), fake.city())\n",
    "print(fake.date())"
   ]
  },
  {
   "cell_type": "markdown",
   "metadata": {
    "editable": true,
    "nbgrader": {
     "cell_type": "markdown",
     "checksum": "44cd3b6b5756dd0a8c019c59de489999",
     "grade": false,
     "grade_id": "cell-a79ffa382eb6d4bb",
     "locked": true,
     "schema_version": 3,
     "solution": false,
     "task": false
    }
   },
   "source": [
    "Tout est à présent en place pour que nous puissions fabriquer notre carnet d'adresse.\n",
    "\n",
    "**Première implémentation**\n",
    "\n",
    "Dans une première approche, nous allons considérer que le carnet d'adresse sera une liste de contacts, chaque contact étant un dictionnaire dont la structure a été définie précédemment.\n",
    "\n",
    "**Écrire une fonction `genere_carnet1`**\n",
    "- prenant en paramètre le nombre `n` de contacts à générer.\n",
    "- renvoyant une **liste** de `n` contacts générés aléatoirement.\n",
    "\n",
    "*Remarque* : on pourra utiliser la fonction `shuffle` du module `random` qui permet de mélanger une liste-Python."
   ]
  },
  {
   "cell_type": "code",
   "execution_count": null,
   "metadata": {},
   "outputs": [],
   "source": [
    "from random import shuffle\n",
    "help(shuffle)"
   ]
  },
  {
   "cell_type": "code",
   "execution_count": null,
   "metadata": {
    "nbgrader": {
     "cell_type": "code",
     "checksum": "d4e51ffd81935bfb117b416be7dfa466",
     "grade": false,
     "grade_id": "cell-e6831bf13c8a8f2a",
     "locked": false,
     "schema_version": 3,
     "solution": true,
     "task": false
    }
   },
   "outputs": [],
   "source": [
    "def genere_carnet1(n):\n",
    "    \"\"\"Renvoie une liste de n contacts aléatoires\"\"\"\n",
    "    assert n <= 2048, \"taille maxi du carnet : 2048 contacts.\"\n",
    "    # à vous de jouer\n",
    "    # ...\n"
   ]
  },
  {
   "cell_type": "code",
   "execution_count": null,
   "metadata": {},
   "outputs": [],
   "source": [
    "carnet = genere_carnet1(5)\n",
    "carnet"
   ]
  },
  {
   "cell_type": "markdown",
   "metadata": {},
   "source": [
    "**Révision au passage... : tri d'un tableau en Python**"
   ]
  },
  {
   "cell_type": "code",
   "execution_count": null,
   "metadata": {},
   "outputs": [],
   "source": [
    "for contact in sorted(carnet, key=lambda dico:dico['naissance']):\n",
    "    print(contact['naissance'], contact['nom'])\n",
    "    \n",
    "print()\n",
    "\n",
    "for contact in sorted(carnet, key=lambda dico:dico['nom']):\n",
    "    print(contact['nom'], contact['naissance'])"
   ]
  },
  {
   "cell_type": "code",
   "execution_count": null,
   "metadata": {
    "deletable": true,
    "nbgrader": {
     "cell_type": "code",
     "checksum": "1e1cd0033f99e9354611ac8db7b7b4e1",
     "grade": false,
     "grade_id": "cell-1c391af7665fa569",
     "locked": false,
     "schema_version": 3,
     "solution": true,
     "task": false
    }
   },
   "outputs": [],
   "source": [
    "def est_present(nom, carnet):\n",
    "    \"\"\"Teste si nom est présent dans le carnet d'adresse\"\"\"\n",
    "    # à vous de jouer\n",
    "    # ...\n"
   ]
  },
  {
   "cell_type": "code",
   "execution_count": null,
   "metadata": {
    "deletable": true,
    "editable": true,
    "nbgrader": {
     "cell_type": "code",
     "checksum": "59328842fd7f2e4820d5db0fe7aad0b8",
     "grade": true,
     "grade_id": "cell-4e957defe3520970",
     "locked": true,
     "points": 1,
     "schema_version": 3,
     "solution": false,
     "task": false
    }
   },
   "outputs": [],
   "source": [
    "# Vérification\n",
    "carnet1 = genere_carnet1(10)\n",
    "nom = carnet1[0][\"nom\"]\n",
    "assert est_present(nom, carnet1)\n",
    "assert not est_present(\"Longtemps Adam\", carnet1)"
   ]
  },
  {
   "cell_type": "markdown",
   "metadata": {
    "deletable": true,
    "editable": true,
    "nbgrader": {
     "cell_type": "markdown",
     "checksum": "4f284185904658b9216c35bd326bfec1",
     "grade": false,
     "grade_id": "cell-4c54699c57a01fb5",
     "locked": true,
     "schema_version": 3,
     "solution": false,
     "task": false
    }
   },
   "source": [
    "<h3 class=\"alert alert-warning\">Mesure de performance de la recherche</h3>\n",
    "\n",
    "Nous allons regarder ici comment évolue la vitesse de recherche en fonciton de la taille du carnet d'adresse. On utilisera pour ncela la fonction magique de *jupyter* : `%%timeit`.\n",
    "Etudiez la cellule suivante :"
   ]
  },
  {
   "cell_type": "code",
   "execution_count": null,
   "metadata": {
    "deletable": true,
    "editable": true,
    "nbgrader": {
     "cell_type": "code",
     "checksum": "723f1e8878200a1736bec159e5a426e4",
     "grade": false,
     "grade_id": "cell-a8f07e43905c8646",
     "locked": true,
     "schema_version": 3,
     "solution": false,
     "task": false
    }
   },
   "outputs": [],
   "source": [
    "# Fabrication d'un carnet de 100 contacts\n",
    "carnet1 = genere_carnet1(100)\n",
    "nom = carnet1[-1][\"nom\"]  # On récupère un nom du carnet\n",
    "nom"
   ]
  },
  {
   "cell_type": "code",
   "execution_count": null,
   "metadata": {
    "deletable": true,
    "editable": true,
    "nbgrader": {
     "cell_type": "code",
     "checksum": "1be21f081fc0114427a5f969d6af8e60",
     "grade": false,
     "grade_id": "cell-1a2c5f438836a152",
     "locked": true,
     "schema_version": 3,
     "solution": false,
     "task": false
    }
   },
   "outputs": [],
   "source": [
    "%%timeit\n",
    "\n",
    "# On mesure le temps d'une recherche\n",
    "est_present(nom, carnet1) "
   ]
  },
  {
   "cell_type": "markdown",
   "metadata": {
    "deletable": true,
    "editable": true,
    "nbgrader": {
     "cell_type": "markdown",
     "checksum": "e7a1f7df0b2cfce38826825ef2f9784e",
     "grade": false,
     "grade_id": "cell-17af2649ffcaee2d",
     "locked": true,
     "schema_version": 3,
     "solution": false,
     "task": false
    }
   },
   "source": [
    "Vous lisez sous la cellule le temps de recherche.\n",
    "\n",
    "À présent, on refait l'expérience pour 1000 contacts dans le carnet d'adresse."
   ]
  },
  {
   "cell_type": "code",
   "execution_count": null,
   "metadata": {
    "deletable": true,
    "editable": true,
    "nbgrader": {
     "cell_type": "code",
     "checksum": "dcd24ec5663c09db4c0d56be37306c1b",
     "grade": false,
     "grade_id": "cell-55c89cb521904f1b",
     "locked": true,
     "schema_version": 3,
     "solution": false,
     "task": false
    }
   },
   "outputs": [],
   "source": [
    "carnet1 = genere_carnet1(1000)\n",
    "nom = carnet1[-1][\"nom\"]  # On récupère un nom du carnet\n",
    "nom"
   ]
  },
  {
   "cell_type": "code",
   "execution_count": null,
   "metadata": {
    "deletable": true,
    "editable": true,
    "nbgrader": {
     "cell_type": "code",
     "checksum": "6f6db4497b65676dad032393602d475e",
     "grade": false,
     "grade_id": "cell-51703d3f35bcffd6",
     "locked": true,
     "schema_version": 3,
     "solution": false,
     "task": false
    }
   },
   "outputs": [],
   "source": [
    "%%timeit\n",
    "\n",
    "# On mesure le temps d'une recherche dans ce carnet\n",
    "est_present(nom, carnet1)"
   ]
  },
  {
   "cell_type": "markdown",
   "metadata": {
    "deletable": true,
    "editable": true,
    "nbgrader": {
     "cell_type": "markdown",
     "checksum": "a95ac8e0333e505083840aa05c21d15d",
     "grade": false,
     "grade_id": "cell-d5362e64019cdc58",
     "locked": true,
     "schema_version": 3,
     "solution": false,
     "task": false
    }
   },
   "source": [
    "<h3 class=\"alert alert-warning\">Seconde implémentation</h3>\n",
    "\n",
    "Vous devez avoir constaté ci-dessus que le temps de recherche est proportionnel à la taille du carnet d'adresse : si celui-ci contient 10 fois plus de contact, la recherche peut être jusqu'à 10 fois plus longue.\n",
    "\n",
    "Nous allons changer d'approche et fabriquer un carnet d'adresse sous forme d'un dictionnaire dont les clés seront les **noms** et les valeurs seront les fiches contacts. Ainsi notre carnet d'adresse sera un dictionnaire dont les valeurs seront des dictionnaires !\n",
    "\n",
    "**Écrire une fonction `genere_carnet2`**\n",
    "- prenant en paramètre le nombre n de contacts à générer\n",
    "- renvoyant un **dictionnaire** de `n` contacts générés aléatoirement : les clefs sont les noms des contacts.\n",
    "\n",
    "*Remarque :* On pourra d'abord générer une liste (avec la fonction `genere_contact1`) puis chaque contact de la liste devient une **valeur** du dictionnaire dont la **clef** est simplement le nom du contact."
   ]
  },
  {
   "cell_type": "code",
   "execution_count": null,
   "metadata": {
    "nbgrader": {
     "cell_type": "code",
     "checksum": "ee1c1589fc72709816bca14ed6096a7d",
     "grade": false,
     "grade_id": "cell-94349ffa9c7ab8c0",
     "locked": false,
     "schema_version": 3,
     "solution": true,
     "task": false
    }
   },
   "outputs": [],
   "source": [
    "def genere_carnet2(n):\n",
    "    \"\"\"Renvoie un dictionnaire de n contacts aléatoires\"\"\"\n",
    "    # à vous de jouer\n",
    "    # ...\n"
   ]
  },
  {
   "cell_type": "code",
   "execution_count": null,
   "metadata": {},
   "outputs": [],
   "source": [
    "carnet = genere_carnet2(5)\n",
    "carnet"
   ]
  },
  {
   "cell_type": "markdown",
   "metadata": {
    "deletable": true,
    "editable": true,
    "nbgrader": {
     "cell_type": "markdown",
     "checksum": "0e56e7cc16cac058be1f2fb51cf8a930",
     "grade": false,
     "grade_id": "cell-e6414ef6d3552f05",
     "locked": true,
     "schema_version": 3,
     "solution": false,
     "task": false
    }
   },
   "source": [
    "<h3 class=\"alert alert-warning\">Mesure de performance de la recherche</h3>\n",
    "\n",
    "Nous allons regarder pour cette nouvelle implémentation comment évolue la vitesse de recherche en fonction de la taille du carnet d'adresse. Validez les 2 cellules suivantes."
   ]
  },
  {
   "cell_type": "code",
   "execution_count": null,
   "metadata": {
    "deletable": true,
    "editable": true,
    "nbgrader": {
     "cell_type": "code",
     "checksum": "a9be78710cfc8c207fbbbd72d0cb940d",
     "grade": false,
     "grade_id": "cell-8550d68d54f17684",
     "locked": true,
     "schema_version": 3,
     "solution": false,
     "task": false
    }
   },
   "outputs": [],
   "source": [
    "# Fabrication d'un carnet de 100 contacts\n",
    "carnet = genere_carnet2(100)\n",
    "nom = list(carnet.keys())[-1] # On récupère un nom du carnet\n",
    "nom"
   ]
  },
  {
   "cell_type": "code",
   "execution_count": null,
   "metadata": {
    "deletable": true,
    "editable": true,
    "nbgrader": {
     "cell_type": "code",
     "checksum": "84d3607c9d895784a55c281b58bcbca1",
     "grade": false,
     "grade_id": "cell-4d5b5c3e3bbf382e",
     "locked": true,
     "schema_version": 3,
     "solution": false,
     "task": false
    }
   },
   "outputs": [],
   "source": [
    "%%timeit\n",
    "\n",
    "nom in carnet                 # On le recherche"
   ]
  },
  {
   "cell_type": "markdown",
   "metadata": {
    "deletable": true,
    "editable": true,
    "nbgrader": {
     "cell_type": "markdown",
     "checksum": "a8b80bd826d0e3620c262ad4499d2fb0",
     "grade": false,
     "grade_id": "cell-55bb1352842643a7",
     "locked": true,
     "schema_version": 3,
     "solution": false,
     "task": false
    }
   },
   "source": [
    "On constate déjà que la recherche est plus rapide que pour la première implémentation du carnet à l'aide d'un tableau.\n",
    "\n",
    "Refaisons l'expérience avec 10 fois plus de contacts dans le carnet !!"
   ]
  },
  {
   "cell_type": "code",
   "execution_count": null,
   "metadata": {
    "deletable": true,
    "editable": true,
    "nbgrader": {
     "cell_type": "code",
     "checksum": "2d320da199865827dc6e9ae7d3acf7f4",
     "grade": false,
     "grade_id": "cell-7205794c5a417ce3",
     "locked": true,
     "schema_version": 3,
     "solution": false,
     "task": false
    }
   },
   "outputs": [],
   "source": [
    "# Fabrication d'un carnet de 1000 contacts\n",
    "carnet = genere_carnet2(1000)\n",
    "nom = list(carnet.keys())[-1] # On récupère un nom du carnet\n",
    "nom"
   ]
  },
  {
   "cell_type": "code",
   "execution_count": null,
   "metadata": {
    "deletable": true,
    "editable": true,
    "nbgrader": {
     "cell_type": "code",
     "checksum": "e693fc94422ad861a835b32478e3949f",
     "grade": false,
     "grade_id": "cell-2a5d1755d4b5d79c",
     "locked": true,
     "schema_version": 3,
     "solution": false,
     "task": false
    }
   },
   "outputs": [],
   "source": [
    "%%timeit\n",
    "\n",
    "nom in carnet           # On le recherche"
   ]
  },
  {
   "cell_type": "markdown",
   "metadata": {
    "deletable": true,
    "editable": true,
    "nbgrader": {
     "cell_type": "markdown",
     "checksum": "be96722c4b6842b1ec685878c8449920",
     "grade": false,
     "grade_id": "cell-9f34b9e7f52155d8",
     "locked": true,
     "schema_version": 3,
     "solution": false,
     "task": false
    }
   },
   "source": [
    "<h2 class=\"alert alert-warning\">Conclusion</h2>\n",
    "<div class=\"alert alert-danger\">\n",
    "Vous le constatez d'après les expériences ci-dessus : le temps de recherche dans le dictionnaire est pratiquement indépendant du nombre d'entrées dans ce dictionnaire, car en multipliant le nombre de contacts par 100, le temps est resté pratiquement identique alors que dans le cas de la recherche dans un tableau, celui-ci est proportionnel à la longueur du tableau.\n",
    "<br><br>\n",
    "Le dictionnaire est donc une structure de données optimisée pour la recherche sur les clés.\n",
    "    </div>"
   ]
  },
  {
   "cell_type": "markdown",
   "metadata": {},
   "source": [
    "<h3 class=\"alert alert-warning\">Pour aller plus loin</h3>\n",
    "On peut recommencer ces calculs de temps d'exécution pour des collections de contacts de tailles diverses et tracer le graphique *duree=f(taille)*.\n",
    "\n",
    "1. Mesurer le temps d'exécution de chaque recherche pour des collections de 1 à 1024 contacts, en doublant à chaque fois la taille de la collection de contacts.\n",
    "2. Relever toutes les durées et tracer le graphique duree=f(taille).\n",
    "- Pour cela, importer le module matplotlib.pyplot (sous l'alias *plt*)\n",
    "- la fonction pour tracer un graphique est ```plot(x, y)``` : x et y étant une liste d'abscisses et une liste d'ordonnées."
   ]
  },
  {
   "cell_type": "code",
   "execution_count": null,
   "metadata": {},
   "outputs": [],
   "source": [
    "from time import time"
   ]
  },
  {
   "cell_type": "code",
   "execution_count": null,
   "metadata": {},
   "outputs": [],
   "source": [
    "# à vous de jouer\n",
    "tailles = [2**i for i in range(10)]               # Définition des tailles\n",
    "carnets1 = [genere_carnet1(n) for n in tailles]   # création des carnets sous formes de listes\n",
    "carnets2 = [genere_carnet2(n) for n in tailles]   # créations des carnets sous forme de dictionnaire\n",
    "\n",
    "duree_liste, duree_dico = [], []                  # pour enregistrer les durées de recherche en fonction des tailles\n",
    "\n",
    "nom = ''                                          # nom qui est forcément absent de la collection de contacts\n",
    "\n",
    "for carnet in carnets1:\n",
    "    debut = time()                                # enregistre la 'date' de début des calculs\n",
    "    for i in range(100):                          # on fait 100 fois le calcul pour moyenner\n",
    "        test = est_present(nom, carnet)\n",
    "    duree_liste.append(time() - debut)            # ajout de la durée de calcul à la liste\n",
    "    \n",
    "for carnet in carnets2:\n",
    "    # à vous de jouer pour enregistrer les durées de recherche dans les dictionnaires\n",
    "    # ..."
   ]
  },
  {
   "cell_type": "code",
   "execution_count": null,
   "metadata": {},
   "outputs": [],
   "source": [
    "import matplotlib.pyplot as plt"
   ]
  },
  {
   "cell_type": "code",
   "execution_count": null,
   "metadata": {},
   "outputs": [],
   "source": [
    "# TRACER LES GRAPHIQUES\n",
    "# à vous de jouer\n",
    "# ...\n"
   ]
  },
  {
   "cell_type": "code",
   "execution_count": null,
   "metadata": {},
   "outputs": [],
   "source": []
  }
 ],
 "metadata": {
  "kernelspec": {
   "display_name": "Python 3",
   "language": "python",
   "name": "python3"
  },
  "language_info": {
   "codemirror_mode": {
    "name": "ipython",
    "version": 3
   },
   "file_extension": ".py",
   "mimetype": "text/x-python",
   "name": "python",
   "nbconvert_exporter": "python",
   "pygments_lexer": "ipython3",
   "version": "3.7.10"
  }
 },
 "nbformat": 4,
 "nbformat_minor": 4
}
