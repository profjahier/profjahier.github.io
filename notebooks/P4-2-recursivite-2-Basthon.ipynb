{
 "cells": [
  {
   "cell_type": "markdown",
   "metadata": {},
   "source": [
    "<h1 class=\"alert alert-success\">Récursivité - partie 2</h2>"
   ]
  },
  {
   "cell_type": "markdown",
   "metadata": {},
   "source": [
    "<h2 class=\"alert alert-info\">1. Découverte de Turtle</h2>\n",
    "\n",
    "Turtle est un module Python permettant de dessiner sur un canevas. Le crayon est dirigé par une tortue !\n",
    "\n",
    "Jupyter propose une implémentation de ce module (très légèrement modifié). Les commandes principales consistent à positionner la tortue, lever ou baisser le crayon (pour écrire ou non lorsque la tortue se déplace) et à commander les mouvements de la tortue (avancer/reculer, tourner à gauche/droite d'un certain angle).\n",
    "\n",
    "Pour mieux comprendre et découvrir les commandes accessibles, étudier l'exemple de démonstration ci-dessous :"
   ]
  },
  {
   "cell_type": "code",
   "execution_count": null,
   "metadata": {},
   "outputs": [],
   "source": [
    "import turtle as tt # import du module turtle dans Basthon"
   ]
  },
  {
   "cell_type": "code",
   "execution_count": null,
   "metadata": {},
   "outputs": [],
   "source": [
    "tt.speed(3)         # vitesse moyenne (maxi = 10)\n",
    "\n",
    "tt.penup()          # lève le crayon (pour ne pas écrire pendant le déplacement)\n",
    "tt.setposition(-100, 100) \n",
    "# origine (0, 0) au centre du cadre de dessin (dimensions 600x600)\n",
    "tt.pendown()        # abaisse le crayon (pour voir la trace de la tortue)\n",
    "\n",
    "tt.forward(20)      # avance de 20\n",
    "tt.left(60)         # virage de 60° vers la gauche\n",
    "tt.forward(100)    \n",
    "tt.right(120)       # virage de 120° vers la droite\n",
    "tt.pencolor(\"red\")  # couleurs autorisées  \"blue\", \"yellow\", \"brown\", \"black\", \"purple\", \"green\"\n",
    "tt.forward(100)  \n",
    "tt.left(60)       \n",
    "tt.forward(100)     # recule de 100\n",
    "tt.backward(70)  \n",
    "tt.right(90)   \n",
    "tt.pencolor(\"green\")  \n",
    "tt.forward(300)  \n",
    "\n",
    "tt.penup()\n",
    "tt.home()           # retour à l'origine\n",
    "\n",
    "tt.done()           # indispensable pour activer la tortue dans Basthon"
   ]
  },
  {
   "cell_type": "code",
   "execution_count": null,
   "metadata": {},
   "outputs": [],
   "source": [
    "# 2ème exemple :\n",
    "couleurs = [\"red\", \"blue\", \"yellow\", \"brown\", \"black\", \"purple\", \"green\"]\n",
    "\n",
    "tt.speed(10)\n",
    "\n",
    "for i in range(7):\n",
    "    tt.penup()\n",
    "    tt.setposition(-200+50*i, 0)\n",
    "    tt.pendown()\n",
    "    tt.pencolor(couleurs[i])\n",
    "    for j in range(4):\n",
    "        tt.forward(30)\n",
    "        tt.left(90)\n",
    "        \n",
    "tt.done()"
   ]
  },
  {
   "cell_type": "code",
   "execution_count": 2,
   "metadata": {},
   "outputs": [],
   "source": [
    "from PIL import Image # permet d'accéder aux illustrations"
   ]
  },
  {
   "cell_type": "markdown",
   "metadata": {},
   "source": [
    "<h2 class=\"alert alert-info\">2. Fractales : courbe de Koch</h2>\n",
    "\n",
    "La courbe de Koch est une fractale reposant sur la construction récursive suviante :\n",
    "1. Étape 1 : Tracer un segment de longueur a. "
   ]
  },
  {
   "cell_type": "code",
   "execution_count": 3,
   "metadata": {},
   "outputs": [
    {
     "data": {
      "image/png": "[encoded data removed]",
      "text/plain": [
       "<PIL.PngImagePlugin.PngImageFile image mode=RGB size=238x136 at 0x7F0A3C8DB190>"
      ]
     },
     "execution_count": 3,
     "metadata": {},
     "output_type": "execute_result"
    }
   ],
   "source": [
    "Image.open(\"koch_0.png\")"
   ]
  },
  {
   "cell_type": "markdown",
   "metadata": {},
   "source": [
    "2. Étape 2 : Diviser le segment en 3 parties de même longueur. Construire un triangle équilatéral ayant pour base le segment médian de la première étape, et en supprimer la base."
   ]
  },
  {
   "cell_type": "code",
   "execution_count": 4,
   "metadata": {},
   "outputs": [
    {
     "data": {
      "image/png": "[encoded data removed]",
      "text/plain": [
       "<PIL.PngImagePlugin.PngImageFile image mode=RGB size=222x105 at 0x7F0A3C8B2EB0>"
      ]
     },
     "execution_count": 4,
     "metadata": {},
     "output_type": "execute_result"
    }
   ],
   "source": [
    "Image.open(\"koch_1.png\")"
   ]
  },
  {
   "cell_type": "markdown",
   "metadata": {},
   "source": [
    "3. Étape 3 : Reprendre l'étape 2 sur chacun des segments créés."
   ]
  },
  {
   "cell_type": "code",
   "execution_count": 5,
   "metadata": {},
   "outputs": [
    {
     "data": {
      "image/png": "[encoded data removed]",
      "text/plain": [
       "<PIL.PngImagePlugin.PngImageFile image mode=RGB size=219x101 at 0x7F0A3C8DB7F0>"
      ]
     },
     "execution_count": 5,
     "metadata": {},
     "output_type": "execute_result"
    }
   ],
   "source": [
    "Image.open(\"koch_2.png\")"
   ]
  },
  {
   "cell_type": "markdown",
   "metadata": {},
   "source": [
    "4. Et ainsi de suite..."
   ]
  },
  {
   "cell_type": "code",
   "execution_count": 6,
   "metadata": {},
   "outputs": [
    {
     "data": {
      "image/png": "[encoded data removed]",
      "text/plain": [
       "<PIL.PngImagePlugin.PngImageFile image mode=RGB size=193x99 at 0x7F0A27CB1E50>"
      ]
     },
     "execution_count": 6,
     "metadata": {},
     "output_type": "execute_result"
    }
   ],
   "source": [
    "Image.open(\"koch_4.png\")"
   ]
  },
  {
   "cell_type": "markdown",
   "metadata": {},
   "source": [
    "On peut construire récursivement cette courbe. \n",
    "\n",
    "La fonction de tracer prend deux paramètres en entrée :\n",
    "* la longeur $a$ du segment.\n",
    "* l'étape $n$ de \"profondeur\" de récursivité. \n",
    "\n",
    "Par exemple, à la profondeur $n=0$, on trace un simple segment : ceci constituera la condition d'arrêt des appels récursifs. À la profondeur $n=1$, le tracé donne la figure de l'étape 2."
   ]
  },
  {
   "cell_type": "markdown",
   "metadata": {},
   "source": [
    "<h2 class=\"alert alert-warning\">ex 1 : Dessiner avec la tortue (pas de récursivité ici)  la figure correspondant à l'étape 2 (décrite ci-avant).</h2>\n",
    "Écrire une fonction etape2(a) pour réaliser cette tache."
   ]
  },
  {
   "cell_type": "code",
   "execution_count": null,
   "metadata": {},
   "outputs": [],
   "source": [
    "tt.speed(10)\n",
    "\n",
    "\n",
    "def etape2(a):\n",
    "    # VOTRE CODE CI-DESSOUS\n",
    "    #...\n",
    "    \n",
    "# test:\n",
    "a = 50\n",
    "etape2(a)\n",
    "\n",
    "tt.done()"
   ]
  },
  {
   "cell_type": "markdown",
   "metadata": {},
   "source": [
    "<h2 class=\"alert alert-warning\">ex 2 : Courbe de Koch : fonction récursive.</h2>\n",
    "\n",
    "En vous inspirant de la logique du code de la fonction précédente (en la \"rendant récursive\"), écrire une fonction koch(a, n) récursive qui :\n",
    "\n",
    "- prend comme paramètres un nombre entier a représentant la longueur du segment et un entier n égal au nombre de récursions souhaité.\n",
    "- construit la courbe de Koch en divisant récursivement chacun des segments\n",
    "\n",
    "*Rappel* : si n=0, le tracé est un simplement segment de longueur a."
   ]
  },
  {
   "cell_type": "code",
   "execution_count": null,
   "metadata": {},
   "outputs": [],
   "source": [
    "tt.speed(10)\n",
    "tt.penup()\n",
    "tt.setposition(-300, 0) \n",
    "tt.pendown()\n",
    "\n",
    "def koch(a, n):\n",
    "    # VOTRE CODE CI-DESSOUS\n",
    "    #...\n",
    "\n",
    "koch(360, 3)\n",
    "\n",
    "tt.done()"
   ]
  },
  {
   "cell_type": "markdown",
   "metadata": {},
   "source": [
    "<h2 class=\"alert alert-info\">Et pour s'amuser encore un peu...</h2>\n",
    "Exécuter le code ci-dessous :"
   ]
  },
  {
   "cell_type": "code",
   "execution_count": null,
   "metadata": {},
   "outputs": [],
   "source": [
    "a = 180\n",
    "\n",
    "tt.speed(10)\n",
    "tt.penup()\n",
    "tt.setposition(-a/2, a/3) \n",
    "tt.pendown()\n",
    "\n",
    "def koch(a, n):\n",
    "    if n == 0:\n",
    "        tt.forward(a)\n",
    "    else:\n",
    "        koch(a/3, n-1)\n",
    "        tt.left(60)\n",
    "        koch(a/3, n-1)\n",
    "        tt.right(120)\n",
    "        koch(a/3, n-1)\n",
    "        tt.left(60)\n",
    "        koch(a/3, n-1)\n",
    "\n",
    "def flocon(a, n):\n",
    "    for i in range(3):\n",
    "        koch(a, n)\n",
    "        tt.right(120)\n",
    "        \n",
    "flocon(a, 3)\n",
    "\n",
    "tt.penup()\n",
    "tt.home()\n",
    "\n",
    "tt.done()"
   ]
  },
  {
   "cell_type": "code",
   "execution_count": null,
   "metadata": {},
   "outputs": [],
   "source": []
  }
 ],
 "metadata": {
  "kernelspec": {
   "display_name": "Python 3.8.1 64-bit ('python38': conda)",
   "language": "python",
   "name": "python38164bitpython38conda56991d5ad1414e06a4dcd344400cf456"
  },
  "language_info": {
   "codemirror_mode": {
    "name": "ipython",
    "version": 3
   },
   "file_extension": ".py",
   "mimetype": "text/x-python",
   "name": "python",
   "nbconvert_exporter": "python",
   "pygments_lexer": "ipython3",
   "version": "3.8.1"
  }
 },
 "nbformat": 4,
 "nbformat_minor": 4
}
