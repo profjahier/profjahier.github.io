{
 "cells": [
  {
   "cell_type": "markdown",
   "metadata": {},
   "source": [
    "<h1 class=\"alert alert-success\">Algorithmes sur les arbres</h1>"
   ]
  },
  {
   "cell_type": "markdown",
   "metadata": {},
   "source": [
    "Dans ce classeur, nous allons mettre en oeuvre les algorithmes vus en cours.\n",
    "\n",
    "Un arbre est implémenté par un simple tableau dont la structure est :\n",
    "\n",
    "\n",
    "    [\"valeur\", [S_A_G], [S_A_D]]\n",
    "    \n",
    "Un arbre vide est alors représenté par une liste vide [ ].\n",
    "\n",
    "Dans un deuxième TP, nous étudierons spécifiquement les Arbres Binaires de Recherche sous forme de classes et écrirons des méthodes d'insertion et de recherche dans ces arbres."
   ]
  },
  {
   "cell_type": "markdown",
   "metadata": {},
   "source": [
    "<h2 class=\"alert alert-info\">Introduction : construction et visualisation d'un arbre</h2>"
   ]
  },
  {
   "cell_type": "markdown",
   "metadata": {},
   "source": [
    "Pour aider la visualsation des arbres construits, on pourra utlliser des fonctions importées d'un module spécifique dont le code n'est pas à étudier pour l'instant (cf les exemples ci-dessous)."
   ]
  },
  {
   "cell_type": "code",
   "execution_count": null,
   "metadata": {},
   "outputs": [],
   "source": [
    "from arbre import dessiner, tableau2arbre"
   ]
  },
  {
   "cell_type": "code",
   "execution_count": null,
   "metadata": {},
   "outputs": [],
   "source": [
    "arbre_vide = [] # arbre vide\n",
    "arbre_POO = tableau2arbre(arbre_vide)\n",
    "dessiner(arbre_POO) # rien à voir !!! puisque c'est un arbre vide..."
   ]
  },
  {
   "cell_type": "code",
   "execution_count": null,
   "metadata": {},
   "outputs": [],
   "source": [
    "arbre = ['A', [], []] # un seul noeud racine\n",
    "arbre_POO = tableau2arbre(arbre)\n",
    "dessiner(arbre_POO)"
   ]
  },
  {
   "cell_type": "code",
   "execution_count": null,
   "metadata": {},
   "outputs": [],
   "source": [
    "arbre = ['A', ['B', [], []], []] # un seul fils gauche\n",
    "arbre_POO = tableau2arbre(arbre)\n",
    "dessiner(arbre_POO) # le signe < ou > sur l'arête indique si c'est un fils gauche ou droit"
   ]
  },
  {
   "cell_type": "code",
   "execution_count": null,
   "metadata": {},
   "outputs": [],
   "source": [
    "arbre = ['A', ['B', [], []], ['F', [], []]] # un fils gauche et un fils droit\n",
    "arbre_POO = tableau2arbre(arbre)\n",
    "dessiner(arbre_POO) # avec 2 fils, il n'y a pas d'ambiguïté sur le gauche ou le droit."
   ]
  },
  {
   "cell_type": "code",
   "execution_count": null,
   "metadata": {},
   "outputs": [],
   "source": [
    "arbre = ['A', ['B', ['C', [], []], ['D', [], []]], ['F', ['G', [], []], ['H', [], []]]]\n",
    "arbre_POO = tableau2arbre(arbre)\n",
    "dessiner(arbre_POO)"
   ]
  },
  {
   "cell_type": "markdown",
   "metadata": {},
   "source": [
    "**Exercice : Compléter le tableau de l'arbre pour reproduire complètement l'arbre vu comme exemple en cours.**"
   ]
  },
  {
   "cell_type": "code",
   "execution_count": null,
   "metadata": {},
   "outputs": [],
   "source": [
    "# A vous de jouer\n",
    "# ...\n",
    "\n",
    "arbre_POO = tableau2arbre(arbre)\n",
    "dessiner(arbre_POO)"
   ]
  },
  {
   "cell_type": "markdown",
   "metadata": {},
   "source": [
    "<h2 class=\"alert alert-info\">Taille et Hauteur d'un arbre</h2>"
   ]
  },
  {
   "cell_type": "markdown",
   "metadata": {},
   "source": [
    "Nous allons maintenant pouvoir écrire des fonctions permettant de travailler sur les arbres. Commençons par la taille de l'arbre."
   ]
  },
  {
   "cell_type": "markdown",
   "metadata": {},
   "source": [
    "<h2 class=\"alert alert-warning\">Exemple : taille d'un arbre</h2>"
   ]
  },
  {
   "cell_type": "markdown",
   "metadata": {},
   "source": [
    "Nous avons conçu un algorithme récursif en cours se fondant sur le principe que la taille d'un arbre est égal à :\n",
    "\n",
    "        1 + taille du Sous Arbre Gauche + taille du Sous Arbre Droit. \n",
    "\n",
    "La fonction suivante renvoie la taille d'un arbre, elle vous servira de modèle pour les autres fonctions que vous aurez à écrire dans ce TP."
   ]
  },
  {
   "cell_type": "code",
   "execution_count": null,
   "metadata": {},
   "outputs": [],
   "source": [
    "def taille(arbre):\n",
    "    \"\"\" Renvoie la taille d'un arbre. \"\"\"\n",
    "    if arbre == []:\n",
    "        return 0\n",
    "    else:\n",
    "        return 1 + taille(arbre[1]) + taille(arbre[2])"
   ]
  },
  {
   "cell_type": "markdown",
   "metadata": {},
   "source": [
    "**Questions :**\n",
    "1. Quelle est l'utilité des lignes 3 et 4 ?\n",
    "2. À quoi correspond arbre[1], et arbre[2] ?"
   ]
  },
  {
   "cell_type": "code",
   "execution_count": null,
   "metadata": {},
   "outputs": [],
   "source": [
    "# test :\n",
    "taille(arbre)"
   ]
  },
  {
   "cell_type": "markdown",
   "metadata": {},
   "source": [
    "<h2 class=\"alert alert-warning\">À votre tour : hauteur d'un arbre</h2>"
   ]
  },
  {
   "cell_type": "markdown",
   "metadata": {},
   "source": [
    "En utilisant le même modèle que pour la taille, vous allez écrire la fonction `hauteur` déterminant la hauteur de l'arbre.\n",
    "\n",
    "On décide que la hauteur d'un arbre vide est nulle, et la hauteur de la racine est donc 1."
   ]
  },
  {
   "cell_type": "code",
   "execution_count": null,
   "metadata": {},
   "outputs": [],
   "source": [
    "def hauteur(arbre):\n",
    "    \"\"\" Renvoie la taille d'un arbre implémenter sous forme de tableau \"\"\"\n",
    "    # à vous de jouer\n",
    "    # ...\n",
    "    "
   ]
  },
  {
   "cell_type": "code",
   "execution_count": null,
   "metadata": {},
   "outputs": [],
   "source": [
    "# test :\n",
    "hauteur(arbre)"
   ]
  },
  {
   "cell_type": "markdown",
   "metadata": {},
   "source": [
    "<h2 class=\"alert alert-info\">Parcours en profondeur</h2>"
   ]
  },
  {
   "cell_type": "markdown",
   "metadata": {},
   "source": [
    "Dans la cellule ci-dessous, on a ajouté une méthode permettant le **parcours en profondeur préfixe**.\n",
    "\n",
    "Implémentez de même les parcours suffixe et infixe, puis validez votre travail grâce à la cellule de tests.\n",
    "\n",
    "*Vous ferez attention de choisir les mêmes noms de méthodes que dans la cellule de test pour passer ces derniers avec succès.*"
   ]
  },
  {
   "cell_type": "markdown",
   "metadata": {},
   "source": [
    "<h2 class=\"alert alert-warning\">Exemple : parcours préfixe</h2>"
   ]
  },
  {
   "cell_type": "code",
   "execution_count": null,
   "metadata": {},
   "outputs": [],
   "source": [
    "def parcours_prefixe(arbre):\n",
    "    if arbre == []:\n",
    "        return []\n",
    "    else:\n",
    "        return [arbre[0]] + parcours_prefixe(arbre[1]) + parcours_prefixe(arbre[2])"
   ]
  },
  {
   "cell_type": "code",
   "execution_count": null,
   "metadata": {},
   "outputs": [],
   "source": [
    "def parcours_prefixe_affichage(arbre):\n",
    "    if arbre != []:\n",
    "        print(arbre[0], end=' ')\n",
    "        parcours_prefixe_affichage(arbre[1])\n",
    "        parcours_prefixe_affichage(arbre[2])"
   ]
  },
  {
   "cell_type": "markdown",
   "metadata": {},
   "source": [
    "**Questions : Qeulle différence majeure existe-t-il entre les 2 solutions proposées ?**"
   ]
  },
  {
   "cell_type": "code",
   "execution_count": null,
   "metadata": {},
   "outputs": [],
   "source": [
    "# zone de tests :\n",
    "parcours_prefixe_affichage(arbre)"
   ]
  },
  {
   "cell_type": "code",
   "execution_count": null,
   "metadata": {},
   "outputs": [],
   "source": [
    "# zone de tests :\n",
    "parcours_prefixe(arbre)"
   ]
  },
  {
   "cell_type": "markdown",
   "metadata": {},
   "source": [
    "<h2 class=\"alert alert-warning\">À votre tour : parcours infixe et suffixe</h2>"
   ]
  },
  {
   "cell_type": "markdown",
   "metadata": {},
   "source": [
    "Écrire les fonctions de parcours infixe et suffixe qui renvoient les listes des noeuds parcourus."
   ]
  },
  {
   "cell_type": "code",
   "execution_count": null,
   "metadata": {},
   "outputs": [],
   "source": [
    "def parcours_infixe(arbre):\n",
    "    # à vous de jouer\n",
    "    # ...\n",
    "    "
   ]
  },
  {
   "cell_type": "code",
   "execution_count": null,
   "metadata": {},
   "outputs": [],
   "source": [
    "def parcours_suffixe(arbre):    \n",
    "    # à vous de jouer\n",
    "    # ...\n",
    "    "
   ]
  },
  {
   "cell_type": "code",
   "execution_count": null,
   "metadata": {},
   "outputs": [],
   "source": [
    "parcours_infixe(arbre)"
   ]
  },
  {
   "cell_type": "code",
   "execution_count": null,
   "metadata": {},
   "outputs": [],
   "source": [
    "parcours_suffixe(arbre)"
   ]
  },
  {
   "cell_type": "markdown",
   "metadata": {},
   "source": [
    "<h2 class=\"alert alert-info\">Parcours en largeur</h2>"
   ]
  },
  {
   "cell_type": "markdown",
   "metadata": {},
   "source": [
    "Pour finir cette 1ère partie, écrire une fonction de parcours en largeur.\n",
    "\n",
    "Vous pouvez consulter l'algorithme en pseud-code vu en cours.\n",
    "\n",
    "La file peut être une simple liste-Python si vous voulez (ou vous pouvez créer un classe File, à vous de voir...)."
   ]
  },
  {
   "cell_type": "code",
   "execution_count": null,
   "metadata": {},
   "outputs": [],
   "source": [
    "def parcours_largeur(arbre):\n",
    "    \"\"\" Renvoie la liste des noeuds dans un parcours en largeur \"\"\"\n",
    "    # à vous de jouer\n",
    "    # ...\n",
    "    "
   ]
  },
  {
   "cell_type": "code",
   "execution_count": null,
   "metadata": {},
   "outputs": [],
   "source": [
    "parcours_largeur(arbre)"
   ]
  },
  {
   "cell_type": "markdown",
   "metadata": {},
   "source": [
    "<h2 class=\"alert alert-info\">Partie spécifique aux Arbres Binaires de Recherche</h2>"
   ]
  },
  {
   "cell_type": "markdown",
   "metadata": {},
   "source": [
    "<div class=\"alert alert-danger\">Avertissement :\n",
    "    \n",
    "    Cette partie est facultative et disponible ici pour votre curiosité ou entrainement. Les plus rapides d'entre vous sont évidemment invités à la travailler.<br>\n",
    "    \n",
    "    Nous verrons tous les arbres binaires de recherche dans un prochain TP, en POO.\n",
    "    \n",
    "    </div>"
   ]
  },
  {
   "cell_type": "markdown",
   "metadata": {},
   "source": [
    "*Rappel :* Dans une arbre binaire de recherche (ABR), toutes les valeurs des noeuds du sous-arbre gauche sont inférieures à la valeur de sa racine, et toutes les valeurs des noeuds du sous-arbre droit sont supérieures."
   ]
  },
  {
   "cell_type": "markdown",
   "metadata": {},
   "source": [
    "<h2 class=\"alert alert-warning\">Insertion</h2>"
   ]
  },
  {
   "cell_type": "markdown",
   "metadata": {},
   "source": [
    "Afin de pouvoir commencer à manipuler nos ABR, nous allons créer la fonction `inserer`. Cette fonction insère un noeud d'une certaine valeur dans l'arbre binaire de recherche."
   ]
  },
  {
   "cell_type": "code",
   "execution_count": null,
   "metadata": {},
   "outputs": [],
   "source": [
    "def inserer(arbre, valeur):\n",
    "    \"\"\" Insère valeur dans l'ABR \"\"\"\n",
    "    # à vous de jouer\n",
    "    # ...\n",
    "    "
   ]
  },
  {
   "cell_type": "markdown",
   "metadata": {},
   "source": [
    "### Test d'utilisation :\n",
    "Les cellules suivantes utilisent la fonction `inserer` pour créer un ABR contenant les chiffres de 0 à 9, insérés **dans un ordre aléatoire**.\n",
    "\n",
    "Vérifiez avec son affichage graphique que l'arbre créé respecte bien les critères d'un arbre binaire de recherche."
   ]
  },
  {
   "cell_type": "code",
   "execution_count": null,
   "metadata": {},
   "outputs": [],
   "source": [
    "from random import shuffle # pour la gestion de l'aléa"
   ]
  },
  {
   "cell_type": "code",
   "execution_count": null,
   "metadata": {},
   "outputs": [],
   "source": [
    "abr = []  # création d'un ABR vide\n",
    "\n",
    "chiffres = [i for i in range(10)] # création des chiffres de 0 à 9 dans une liste en compréhension \n",
    "shuffle(chiffres)                 # on mélange cette liste\n",
    "\n",
    "for chiffre in chiffres:          # insertion des chiffres dans l'ABR\n",
    "    print(f\"Insertion du chiffre {chiffre}\")\n",
    "    inserer(abr, chiffre)\n",
    "    \n",
    "print(abr)    \n",
    "abr_POO = tableau2arbre(abr)\n",
    "dessiner(abr_POO)"
   ]
  },
  {
   "cell_type": "markdown",
   "metadata": {},
   "source": [
    "<h2 class=\"alert alert-warning\">Recherche</h2>"
   ]
  },
  {
   "cell_type": "markdown",
   "metadata": {},
   "source": [
    "Si vous exécutez plusieurs fois la cellule de création de l'ABR avec les chiffres de 0 à 9, vous obtiendrez des ABR différents qui pourtant contiennent tous les mêmes valeurs. Tout dépend de l'ordre d'insertion des valeurs !\n",
    "\n",
    "La recherche dans un ABR (contenant les mêmes valeurs) pourra être plus ou moins efficace en fonction de sa construction.\n",
    "\n",
    "La cellule suivante crée le pire ABR avec les chiffres de 0 à 9 : **expliquez pourquoi.**"
   ]
  },
  {
   "cell_type": "code",
   "execution_count": null,
   "metadata": {},
   "outputs": [],
   "source": [
    "abr = []\n",
    "for chiffre in [i for i in range(10)]:\n",
    "    inserer(abr, chiffre)\n",
    "    \n",
    "print(abr)    \n",
    "abr_POO = tableau2arbre(abr)\n",
    "dessiner(abr_POO)"
   ]
  },
  {
   "cell_type": "markdown",
   "metadata": {},
   "source": [
    "Pour la suite de notre activité, nous changerons un peu et jouerons avec les termes d'une suite célèbre. Peut-être la reconnaîtrez-vous ! \n",
    "\n",
    "Commmençons par construire notre ABR, en insérant les valeurs de la suite dans un ordre aélatoire pour ne pas obtenir un arbre binaire de recherche linéaire (ce qui est stupide comme on vient de le voir)."
   ]
  },
  {
   "cell_type": "code",
   "execution_count": null,
   "metadata": {},
   "outputs": [],
   "source": [
    "suite = [1, 2, 3, 5, 8, 13, 21, 34, 55, 89, 144, 233, 377, 610, 987]\n",
    "shuffle(suite)\n",
    "\n",
    "abr = []\n",
    "for v in suite:\n",
    "    inserer(abr, v)\n",
    "\n",
    "print(abr)    \n",
    "abr_POO = tableau2arbre(abr)\n",
    "dessiner(abr_POO)"
   ]
  },
  {
   "cell_type": "markdown",
   "metadata": {},
   "source": [
    "Vous allez maintenant terminer cette activité en écrivant la fonction **rechercher(valeur)** qui prend une valeur en paramètre et renvoie un booléen selon que la valeur est dans l'arbre ou non."
   ]
  },
  {
   "cell_type": "code",
   "execution_count": null,
   "metadata": {},
   "outputs": [],
   "source": [
    "def rechercher(abr, valeur):\n",
    "    \"\"\" Renvoie True (False) si valeur est dans l'arbre (ou pas). \"\"\"\n",
    "    # à vous de jouer\n",
    "    # ...\n",
    "    "
   ]
  },
  {
   "cell_type": "code",
   "execution_count": null,
   "metadata": {},
   "outputs": [],
   "source": [
    "# cellule de test:\n",
    "print(rechercher(abr, 233))\n",
    "print(rechercher(abr, 300))"
   ]
  },
  {
   "cell_type": "code",
   "execution_count": null,
   "metadata": {},
   "outputs": [],
   "source": []
  }
 ],
 "metadata": {
  "kernelspec": {
   "display_name": "Python 3",
   "language": "python",
   "name": "python3"
  },
  "language_info": {
   "codemirror_mode": {
    "name": "ipython",
    "version": 3
   },
   "file_extension": ".py",
   "mimetype": "text/x-python",
   "name": "python",
   "nbconvert_exporter": "python",
   "pygments_lexer": "ipython3",
   "version": "3.7.10"
  }
 },
 "nbformat": 4,
 "nbformat_minor": 4
}
