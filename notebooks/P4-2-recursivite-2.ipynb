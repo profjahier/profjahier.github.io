{
 "cells": [
  {
   "cell_type": "markdown",
   "metadata": {},
   "source": [
    "<h1 class=\"alert alert-success\">Récursivité - partie 2</h2>"
   ]
  },
  {
   "cell_type": "markdown",
   "metadata": {},
   "source": [
    "<h2 class=\"alert alert-info\">1. Découverte de Turtle</h2>\n",
    "\n",
    "Turtle est un module Python permettant de dessiner sur un canevas. Le crayon est dirigé par une tortue !\n",
    "\n",
    "Jupyter propose une implémentation de ce module (très légèrement modifié). Les commandes principales consistent à positionner la tortue, lever ou baisser le crayon (pour écrire ou non lorsque la tortue se déplace) et à commander les mouvements de la tortue (avancer/reculer, tourner à gauche/droite d'un certain angle).\n",
    "\n",
    "Pour mieux comprendre et découvrir les commandes accessibles, étudier l'exemple de démonstration ci-dessous :"
   ]
  },
  {
   "cell_type": "code",
   "execution_count": 11,
   "metadata": {},
   "outputs": [],
   "source": [
    "#!pip install mobilechelonian"
   ]
  },
  {
   "cell_type": "code",
   "execution_count": 12,
   "metadata": {},
   "outputs": [],
   "source": [
    "from mobilechelonian import Turtle\n",
    "# à utiliser seulement dans un notebook standard, pas dans jupyter lab."
   ]
  },
  {
   "cell_type": "code",
   "execution_count": 13,
   "metadata": {},
   "outputs": [
    {
     "data": {
      "application/vnd.jupyter.widget-view+json": {
       "model_id": "5f2cfbeac8434d24bb8c4073df461365",
       "version_major": 2,
       "version_minor": 0
      },
      "text/plain": [
       "Turtle()"
      ]
     },
     "metadata": {},
     "output_type": "display_data"
    }
   ],
   "source": [
    "t = Turtle()       # instanciation de la classe Turtle\n",
    "\n",
    "t.speed(3)         # vitesse moyenne (maxi = 10)\n",
    "\n",
    "t.penup()          # lève le crayon (pour ne pas écrire pendant le déplacement)\n",
    "t.setposition(20, 100) \n",
    "# origine (0, 0)en haut à gauche (attention, laisser de la place pour dessiner la tortue !)\n",
    "# le cadre de dessin mesure 400x400\n",
    "t.pendown()        # abaisse le crayon (pour voir la trace de la tortue)\n",
    "\n",
    "t.forward(20)      # avance de 20\n",
    "t.left(60)         # virage de 60° vers la gauche\n",
    "t.forward(100)    \n",
    "t.right(120)       # virage de 120° vers la droite\n",
    "t.pencolor(\"red\")  # couleurs autorisées  \"blue\", \"yellow\", \"brown\", \"black\", \"purple\", \"green\"\n",
    "t.forward(100)  \n",
    "t.left(60)       \n",
    "t.forward(100)     # recule de 100\n",
    "t.backward(70)  \n",
    "t.right(90)   \n",
    "t.pencolor(\"green\")  \n",
    "t.forward(300)  \n",
    "\n",
    "t.penup()\n",
    "t.home()           # retour à l'origine"
   ]
  },
  {
   "cell_type": "code",
   "execution_count": 4,
   "metadata": {},
   "outputs": [
    {
     "data": {
      "application/vnd.jupyter.widget-view+json": {
       "model_id": "2f3feb58c9354f55868f375e7090b2c4",
       "version_major": 2,
       "version_minor": 0
      },
      "text/plain": [
       "Turtle()"
      ]
     },
     "metadata": {},
     "output_type": "display_data"
    }
   ],
   "source": [
    "# 2ème exemple :\n",
    "couleurs = [\"red\", \"blue\", \"yellow\", \"brown\", \"black\", \"purple\", \"green\"]\n",
    "\n",
    "t = Turtle()\n",
    "t.speed(10)\n",
    "for i in range(7):\n",
    "    t.penup()\n",
    "    t.setposition(20+50*i, 200)\n",
    "    t.pendown()\n",
    "    t.pencolor(couleurs[i])\n",
    "    for j in range(4):\n",
    "        t.forward(30)\n",
    "        t.left(90)"
   ]
  },
  {
   "cell_type": "markdown",
   "metadata": {},
   "source": [
    "<h2 class=\"alert alert-info\">2. Fractales : courbe de Koch</h2>\n",
    "\n",
    "La courbe de Koch est une fractale reposant sur la construction récursive suviante :\n",
    "1. Étape 1 : Tracer un segment de longueur a. \n",
    "![koch_0](koch_0.png)\n",
    "2. Étape 2 : Diviser le segment en 3 parties de même longueur. Construire un triangle équilatéral ayant pour base le segment médian de la première étape, et en supprimer la base.\n",
    "![koch_0](koch_1.png)\n",
    "3. Étape 3 : Reprendre l'étape 2 sur chacun des segments créés.\n",
    "![koch_0](koch_2.png)\n",
    "4. Et ainsi de suite...\n",
    "![koch_0](koch_4.png)\n",
    "\n",
    "On peut construire récursivement cette courbe. \n",
    "\n",
    "La fonction de tracer prend deux paramètres en entrée :\n",
    "* la longeur $a$ du segment.\n",
    "* l'étape $n$ de \"profondeur\" de récursivité. \n",
    "\n",
    "Par exemple, à la profondeur $n=0$, on trace un simple segment : ceci constituera la condition d'arrêt des appels récursifs. À la profondeur $n=1$, le tracé donne la figure de l'étape 2."
   ]
  },
  {
   "cell_type": "markdown",
   "metadata": {},
   "source": [
    "<h2 class=\"alert alert-warning\">ex 1 : Dessiner avec la tortue (pas de récursivité ici)  la figure correspondant à l'étape 2 (décrite ci-avant).</h2>\n",
    "Écrire une fonction etape2(a) pour réaliser cette tache."
   ]
  },
  {
   "cell_type": "code",
   "execution_count": 5,
   "metadata": {},
   "outputs": [
    {
     "data": {
      "application/vnd.jupyter.widget-view+json": {
       "model_id": "e248d486027f4924888d314bc1355745",
       "version_major": 2,
       "version_minor": 0
      },
      "text/plain": [
       "Turtle()"
      ]
     },
     "metadata": {},
     "output_type": "display_data"
    }
   ],
   "source": [
    "t = Turtle()\n",
    "t.speed(10)\n",
    "\n",
    "# VOTRE CODE CI-DESSOUS\n",
    "def etape2(a):\n",
    "    t.forward(a)\n",
    "    t.left(60)\n",
    "    t.forward(a)\n",
    "    t.right(120)\n",
    "    t.forward(a)\n",
    "    t.left(60)\n",
    "    t.forward(a)\n",
    "    \n",
    "# test:\n",
    "a = 50\n",
    "etape2(a)"
   ]
  },
  {
   "cell_type": "markdown",
   "metadata": {},
   "source": [
    "<h2 class=\"alert alert-warning\">ex 2 : Courbe de Koch : fonction récursive.</h2>\n",
    "\n",
    "En vous inspirant de la logique du code de la fonction précédente (en la \"rendant récursive\"), écrire une fonction koch(a, n) récursive qui :\n",
    "\n",
    "- prend comme paramètres un nombre entier a représentant la longueur du segment et un entier n égal au nombre de récursions souhaité.\n",
    "- construit la courbe de Koch en divisant récursivement chacun des segments\n",
    "\n",
    "*Rappel* : si n=0, le tracé est un simplement segment de longueur a."
   ]
  },
  {
   "cell_type": "code",
   "execution_count": 15,
   "metadata": {},
   "outputs": [
    {
     "data": {
      "application/vnd.jupyter.widget-view+json": {
       "model_id": "b343539b15ce49e48e8d64a34e97e9ed",
       "version_major": 2,
       "version_minor": 0
      },
      "text/plain": [
       "Turtle()"
      ]
     },
     "metadata": {},
     "output_type": "display_data"
    }
   ],
   "source": [
    "# VOTRE CODE CI-DESSOUS:\n",
    "t = Turtle()\n",
    "\n",
    "t.speed(10)\n",
    "t.penup()\n",
    "t.setposition(20, 200) \n",
    "t.pendown()\n",
    "\n",
    "def koch(a, n):\n",
    "    if n == 0:\n",
    "        t.forward(a)\n",
    "    else:\n",
    "        koch(a/3, n-1)\n",
    "        t.left(60)\n",
    "        koch(a/3, n-1)\n",
    "        t.right(120)\n",
    "        koch(a/3, n-1)\n",
    "        t.left(60)\n",
    "        koch(a/3, n-1)\n",
    "\n",
    "koch(360, 3)"
   ]
  },
  {
   "cell_type": "markdown",
   "metadata": {},
   "source": [
    "<h2 class=\"alert alert-info\">Et pour s'amuser encore un peu...</h2>\n",
    "Exécuter le code ci-dessous :"
   ]
  },
  {
   "cell_type": "code",
   "execution_count": 14,
   "metadata": {},
   "outputs": [
    {
     "data": {
      "application/vnd.jupyter.widget-view+json": {
       "model_id": "425f337eb18e452e8e446852d70fcaa6",
       "version_major": 2,
       "version_minor": 0
      },
      "text/plain": [
       "Turtle()"
      ]
     },
     "metadata": {},
     "output_type": "display_data"
    }
   ],
   "source": [
    "t = Turtle()\n",
    "\n",
    "a = 180\n",
    "\n",
    "t.speed(10)\n",
    "t.penup()\n",
    "t.setposition(200-a/2, 200-a/3) \n",
    "t.pendown()\n",
    "\n",
    "def koch(a, n):\n",
    "    if n == 0:\n",
    "        t.forward(a)\n",
    "    else:\n",
    "        koch(a/3, n-1)\n",
    "        t.left(60)\n",
    "        koch(a/3, n-1)\n",
    "        t.right(120)\n",
    "        koch(a/3, n-1)\n",
    "        t.left(60)\n",
    "        koch(a/3, n-1)\n",
    "\n",
    "def flocon(a, n):\n",
    "    for i in range(3):\n",
    "        koch(a, n)\n",
    "        t.right(120)\n",
    "        \n",
    "flocon(a, 3)\n",
    "\n",
    "t.penup()\n",
    "t.home()"
   ]
  },
  {
   "cell_type": "code",
   "execution_count": null,
   "metadata": {},
   "outputs": [],
   "source": []
  }
 ],
 "metadata": {
  "kernelspec": {
   "display_name": "Python 3.8.1 64-bit ('python38': conda)",
   "language": "python",
   "name": "python38164bitpython38conda56991d5ad1414e06a4dcd344400cf456"
  },
  "language_info": {
   "codemirror_mode": {
    "name": "ipython",
    "version": 3
   },
   "file_extension": ".py",
   "mimetype": "text/x-python",
   "name": "python",
   "nbconvert_exporter": "python",
   "pygments_lexer": "ipython3",
   "version": "3.8.1"
  }
 },
 "nbformat": 4,
 "nbformat_minor": 4
}
