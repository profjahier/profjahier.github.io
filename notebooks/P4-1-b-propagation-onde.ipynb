{
 "cells": [
  {
   "cell_type": "markdown",
   "metadata": {},
   "source": [
    "### P4-1 (AE Numérique 2) : \n",
    "# Simuler à l’aide d’un langage de programmation, la propagation d’une onde périodique."
   ]
  },
  {
   "cell_type": "markdown",
   "metadata": {},
   "source": [
    "### Rappel de cours :\n",
    "Amplitude d'une onde progressive en fonction de la position et du temps :\n",
    "\n",
    "y(x, t) = A * cos{ 2*Pi (t/T - x/lambda) }\n",
    "\n",
    "$y(x, t) = A \\times \\cos\\left( 2\\pi \\left(\\dfrac{t}{T} - \\dfrac{x}{\\lambda}\\right) \\right)$"
   ]
  },
  {
   "cell_type": "code",
   "execution_count": null,
   "metadata": {},
   "outputs": [],
   "source": [
    "import matplotlib.pyplot as plt\n",
    "import numpy as np\n",
    "import math"
   ]
  },
  {
   "cell_type": "code",
   "execution_count": null,
   "metadata": {},
   "outputs": [],
   "source": [
    "Pi = np.pi"
   ]
  },
  {
   "cell_type": "markdown",
   "metadata": {},
   "source": [
    "# 1. Principe de base\n",
    "Pour \"visualiser\" la propagation de l'onde, on propose de tracer plusieurs graphiques présentant **l'amplitude en fonction de la position** (comme dans l'activité précédente) **à des instants différents**. Ainsi la succession de graphiques donne une représentation de la propagation de l'onde dans le milieu matériel.\n",
    "\n",
    "**TRAVAIL À FAIRE** : \n",
    "1. Ajouter la ligne de code permettant de calculer l'amplitude en fonction du temps et de la position.\n",
    "\n",
    "\n",
    "**COMPÉTENCES NUMÉRIQUES ATTENDUES** : \n",
    "- Lire et analyser quelques lignes de code commenté.\n",
    "- Ajouter une ligne de code dans un programme pour traduire une formule physique.\n",
    "- Connaître la syntaxe basique pour tracer un graphique (avec le module matpltlib.pyplot) :\n",
    "            plt.plot(liste_abscisses, liste_ordonnees)\n",
    "- Découvrir (et modifier si nécessaire) quelques paramètres de graphique (ex :  titre, légende, couleurs...).\n"
   ]
  },
  {
   "cell_type": "code",
   "execution_count": null,
   "metadata": {},
   "outputs": [],
   "source": [
    "A = 1.5     # amplitude en ua\n",
    "T = 3       # période en s\n",
    "lambda_ = 2 # longueur d'onde en m\n",
    "\n",
    "x = np.linspace(0, 5*lambda_, 256) # l'abscisse s'étend sur 5 longueurs d'onde\n",
    "\n",
    "for k in range(3): # on trace 3 graphiques (à des instants différents)\n",
    "    t = k * T/4    # on laisse un quart de période (T/4) entre 2 graphiques\n",
    "    \n",
    "    # À VOUS DE JOUER : compléter la ligne suivante avant de la décommenter\n",
    "    # y = ...\n",
    "    \n",
    "    plt.plot(x, y, label=f't = {k} T/4')\n",
    "    \n",
    "    plt.legend()\n",
    "    plt.ylabel('Amplitude (ua)')\n",
    "    plt.xlabel('x (m)')\n",
    "\n",
    "    plt.show()"
   ]
  },
  {
   "cell_type": "markdown",
   "metadata": {},
   "source": [
    "# 2. On ajoute des points de repère pour suivre la propagation de l'onde\n",
    "Pour faciliter la visualisation de la propagation, on identifie sur les graphiques des points particuliers de perturbation que l'on suit au cours de la progation.\n",
    "\n",
    "\n",
    "**TRAVAIL À FAIRE** : \n",
    "1. Exécuter la cellule et observer le résultat (ici on s'intéresse seulement à la physique !).\n",
    "\n",
    "**ATTENTION** : les points colorés ne sont pas des points matériels qui se déplacent (il n'y a pas de transport de matière dans une onde) mais seulement des repères d'état de perturbation : c'est l'onde qui se propage.\n",
    "\n",
    "*Si l'onde est une perturbation à la surface de l'eau par exemple, chaque point de l'eau ne fait que monter et descendre (aucun mouvement horizontal).*\n",
    "\n",
    "\n",
    "**COMPÉTENCES NUMÉRIQUES ATTENDUES** : \n",
    "- aucune ici : on fait de la physique (je me répète...)."
   ]
  },
  {
   "cell_type": "code",
   "execution_count": null,
   "metadata": {
    "scrolled": true
   },
   "outputs": [],
   "source": [
    "A = 1.5     # amplitude\n",
    "lambda_ = 5 # longueur d'onde\n",
    "T = 3       # période\n",
    "nb_g = 10   # nb de graphiques à tracer\n",
    "pas = 5     # fraction de période (1/pas) entre 2 graphiques (Delta_t = T/pas)\n",
    "\n",
    "xmax = lambda_/pas*nb_g + 5*lambda_ # calcul de l'abscisse max pour voir toute la propagation\n",
    "x = np.linspace(0, xmax, 256)       # étendue du graphique en abscisses\n",
    "\n",
    "plt.figure(figsize=(10, 1.6*nb_g))  # permet de voir correctement tous les graphiques \n",
    "                                    # (1.6 inches vertical par graphe)\n",
    "\n",
    "for k in range(nb_g): # on trace nb_g graphiques\n",
    "    t = k * T / pas   # Delta_t = T/pas (durée entre 2 graphiques)\n",
    "\n",
    "    y = A*np.cos(2*Pi*(t/T - x/lambda_))\n",
    "    \n",
    "    plt.subplot(nb_g, 1, k+1)\n",
    "    plt.plot(x, y, label=f't = {k} T/{pas}')\n",
    "    plt.legend(loc='right')\n",
    "    \n",
    "    plt.tick_params(axis='y',left=False, labelleft=False) # supprime l'axe y\n",
    "    \n",
    "    # la suite permet de repérer des points particuliers de l'onde pour mieux suivre sa propagation\n",
    "    # on place un point rouge sur le 1er 'sommet'\n",
    "    plt.scatter(k*lambda_/pas, A, color='red')\n",
    "    # on place un point rouge sur le 4ème 'sommet' (décalage de 3 lambda au départ)\n",
    "    plt.scatter(k*lambda_/pas+3*lambda_, A*math.cos(3*2*Pi), color='green')\n",
    "    # on place un point noir sur un point quelconque (pour un décalage de delta * lambda au départ)\n",
    "    delta = 1.3 # décalage arbitraire (1.3 * lambda)\n",
    "    plt.scatter(k*lambda_/pas+delta*lambda_, A*math.cos(2*delta*Pi), color='black')\n",
    "    \n",
    "plt.xlabel('x (m)')\n",
    "plt.show()"
   ]
  },
  {
   "cell_type": "markdown",
   "metadata": {},
   "source": [
    "# 3. Visualisation avec l'outil d'animation de matplotlib\n",
    "L'animation suivante permet de voir la propagation au cours du temps sur un seul graphique.\n",
    "\n",
    "**TRAVAIL À FAIRE** : \n",
    "1. Modifier les paramètres de période ou longueur d'onde et observer le résultat (ici on s'intéresse seulement à la physique !).\n",
    "2. On pourra aussi modifier éventuellement le pas entre 2 images de l'animation.\n",
    "\n",
    "\n",
    "**COMPÉTENCES NUMÉRIQUES ATTENDUES** : \n",
    "- Modifier des paramètres au sein d'un programme."
   ]
  },
  {
   "cell_type": "code",
   "execution_count": null,
   "metadata": {},
   "outputs": [],
   "source": [
    "%matplotlib notebook\n",
    "\n",
    "import matplotlib.animation as animation # librairie complémentaire pour l'animation\n",
    "\n",
    "Pi = np.pi\n",
    "\n",
    "T = 10    # période\n",
    "L = 1     # longueur d'onde\n",
    "pas = 8   # fraction de période entre 2 images (Delta_t = T / pas)\n",
    "\n",
    "fig, ax = plt.subplots()\n",
    "\n",
    "x = np.linspace(0, 4*L, 256) # 256 poitns sur 4 longueurs d'onde\n",
    "line, = ax.plot(x, np.cos(2*Pi*(0/T - x/L))) # conserve une référence à la ligne tracée (Artist)\n",
    "\n",
    "def animate(i):\n",
    "    t = i * T/pas                             # à chaque image, on augmente le temps\n",
    "    line.set_ydata(np.cos(2*Pi*(t/T - x/L)))  # maj des données\n",
    "    line.set_label(f't = {i} T/{pas}')        # maj de la légende de la courbe\n",
    "    plt.legend(loc='right')\n",
    "    return line,\n",
    "\n",
    "anim = animation.FuncAnimation(fig, animate, interval=250) # intervalle en ms entre 2 images\n",
    "\n",
    "plt.show()"
   ]
  },
  {
   "cell_type": "markdown",
   "metadata": {},
   "source": [
    "# 4. Une autre simulation, réalisée en p5js\n",
    "https://profjahier.github.io/html/PC/onde_simulation.html"
   ]
  },
  {
   "cell_type": "code",
   "execution_count": null,
   "metadata": {},
   "outputs": [],
   "source": []
  }
 ],
 "metadata": {
  "kernelspec": {
   "display_name": "Python 3",
   "language": "python",
   "name": "python3"
  },
  "language_info": {
   "codemirror_mode": {
    "name": "ipython",
    "version": 3
   },
   "file_extension": ".py",
   "mimetype": "text/x-python",
   "name": "python",
   "nbconvert_exporter": "python",
   "pygments_lexer": "ipython3",
   "version": "3.7.10"
  }
 },
 "nbformat": 4,
 "nbformat_minor": 4
}
