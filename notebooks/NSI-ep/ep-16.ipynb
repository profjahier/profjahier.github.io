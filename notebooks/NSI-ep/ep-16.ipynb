{
 "cells": [
  {
   "cell_type": "markdown",
   "metadata": {},
   "source": [
    "<h1 class=\"alert alert-success\">Exercice 1</h1>"
   ]
  },
  {
   "cell_type": "markdown",
   "metadata": {},
   "source": [
    "Écrire  une  fonction <code>moyenne</code> qui  prend  en  paramètre un  tableau non  vide  de  nombres flottants et  qui  renvoie la  moyenne  des  valeurs  du  tableau. Les  tableaux  seront représentés sous forme de liste Python.\n",
    "\n",
    "*Exemples:*\n",
    "\n",
    "    >>> moyenne([1.0])\n",
    "    1.0\n",
    "    >>> moyenne([1.0,2.0,4.0])\n",
    "    2.3333333333333335"
   ]
  },
  {
   "cell_type": "code",
   "execution_count": null,
   "metadata": {},
   "outputs": [],
   "source": [
    "# votre code ci-dessous\n"
   ]
  },
  {
   "cell_type": "code",
   "execution_count": null,
   "metadata": {},
   "outputs": [],
   "source": [
    "moyenne([1.0])"
   ]
  },
  {
   "cell_type": "code",
   "execution_count": null,
   "metadata": {},
   "outputs": [],
   "source": [
    "moyenne([1.0, 2.0, 4.0])"
   ]
  },
  {
   "cell_type": "markdown",
   "metadata": {},
   "source": [
    "<h1 class=\"alert alert-success\">Exercice 2</h1>"
   ]
  },
  {
   "cell_type": "markdown",
   "metadata": {},
   "source": [
    "On considère la fonction <code>dec_to_bin</code> ci-dessous qui prend en paramètre un entier positif <code>a</code> en écriture décimale et qui renvoie son écriture binaire sous la forme d'une chaine de caractères. \n",
    "\n",
    "*Exemples:*\n",
    "\n",
    "    >>> dec_to_bin(83)\n",
    "    '1010011'\n",
    "    >>> dec_to_bin(127)\n",
    "    '1111111'\n"
   ]
  },
  {
   "cell_type": "code",
   "execution_count": null,
   "metadata": {},
   "outputs": [],
   "source": [
    "def dec_to_bin(a):\n",
    "    bin_a = ...\n",
    "    a = a//2\n",
    "    while a ...:\n",
    "        bin_a = ... + bin_a\n",
    "        a = ...\n",
    "    return bin_a"
   ]
  },
  {
   "cell_type": "code",
   "execution_count": null,
   "metadata": {},
   "outputs": [],
   "source": [
    "dec_to_bin(83)"
   ]
  },
  {
   "cell_type": "code",
   "execution_count": null,
   "metadata": {},
   "outputs": [],
   "source": [
    "dec_to_bin(127)"
   ]
  }
 ],
 "metadata": {
  "kernelspec": {
   "display_name": "Python 3",
   "language": "python",
   "name": "python3"
  },
  "language_info": {
   "codemirror_mode": {
    "name": "ipython",
    "version": 3
   },
   "file_extension": ".py",
   "mimetype": "text/x-python",
   "name": "python",
   "nbconvert_exporter": "python",
   "pygments_lexer": "ipython3",
   "version": "3.7.10"
  }
 },
 "nbformat": 4,
 "nbformat_minor": 4
}
