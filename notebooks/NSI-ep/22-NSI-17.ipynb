{
 "cells": [
  {
   "cell_type": "markdown",
   "metadata": {},
   "source": [
    "<h1 class=\"alert alert-info\">Sujet n°17 session 2022</h1>"
   ]
  },
  {
   "cell_type": "markdown",
   "metadata": {},
   "source": [
    "<h1 class=\"alert alert-success\">Exercice 1</h1>"
   ]
  },
  {
   "cell_type": "markdown",
   "metadata": {},
   "source": [
    "Pour cet exercice :\n",
    "-  On appelle « mot » une chaîne de caractères composée avec des caractères choisis\n",
    "parmi les 26 lettres minuscules ou majuscules de l'alphabet,\n",
    "-  On appelle « phrase » une chaîne de caractères :\n",
    "    - composée avec un ou plusieurs « mots » séparés entre eux par un seul\n",
    "    caractère espace '  ',\n",
    "    - se finissant :\n",
    "        - soit par un point '.' qui est alors collé au dernier mot,\n",
    "        - soit par un point d'exclamation '!' ou d'interrogation '?' qui est alors\n",
    "            séparé du dernier mot par un seul caractère espace ' '.\n",
    "            \n",
    "            \n",
    "Voici quatre exemples de phrases :\n",
    "- 'Le point d exclamation est separe !'\n",
    "- 'Il y a un seul espace entre les mots !'\n",
    "- 'Le point final est colle au dernier mot.'\n",
    "- 'Gilbouze macarbi acra cor ed filbuzine ?'\n",
    "\n",
    "Après avoir remarqué le lien entre le nombre de mots et le nombres de caractères espace\n",
    "dans une phrase, programmer une fonction `nombre_de_mots` qui prend en paramètre une\n",
    "phrase et renvoie le nombre de mots présents dans cette phrase.\n",
    "\n",
    "*Exemples :*\n",
    "\n",
    "    >>> nombre_de_mots('Le point d exclamation est separe !')\n",
    "    6\n",
    "    )\n",
    "    >>> nombre_de_mots('Il y a un seul espace entre les mots !')\n",
    "    9"
   ]
  },
  {
   "cell_type": "code",
   "execution_count": null,
   "metadata": {},
   "outputs": [],
   "source": []
  },
  {
   "cell_type": "markdown",
   "metadata": {},
   "source": [
    "\n",
    "<h1 class=\"alert alert-success\"> Exercice 2</h1>\n",
    "    "
   ]
  },
  {
   "cell_type": "markdown",
   "metadata": {},
   "source": [
    "La classe ABR ci-dessous permet d'implémenter une structure d'arbre binaire de recherche.\n",
    "\n",
    "Compléter les fonctions récursives `parcours` et `recherche` afin qu'elles respectent leurs spécifications.\n",
    "\n",
    "*Voici un exemple d'utilisation :*\n",
    "\n",
    "    >>> a = ABR()\n",
    "    >>> a.insere(7)\n",
    "    >>> a.insere(3)\n",
    "    >>> a.insere(9)\n",
    "    >>> a.insere(1)\n",
    "    >>> a.insere(9)\n",
    "    >>> a.parcours()\n",
    "    [1, 3, 7, 9, 9]\n",
    "    \n",
    "    >>> a.recherche(4)\n",
    "    False\n",
    "    \n",
    "    >>> a.recherche(3)\n",
    "    True"
   ]
  },
  {
   "cell_type": "code",
   "execution_count": null,
   "metadata": {},
   "outputs": [],
   "source": [
    "class Noeud:\n",
    "        ''' Classe implémentant un noeud d'arbre binaire disposant de 3 attributs :\n",
    "        - valeur : la valeur de l'étiquette,\n",
    "        - gauche : le sous-arbre gauche.\n",
    "        - droit : le sous-arbre droit. '''\n",
    "\n",
    "        def __init__(self, v, g, d):\n",
    "            self.valeur = v\n",
    "            self.gauche = g\n",
    "            self.droite = d\n",
    "\n",
    "class ABR:\n",
    "        ''' Classe implémentant une structure d'arbre binaire de recherche. '''\n",
    "\n",
    "        def __init__(self):\n",
    "            '''Crée un arbre binaire de recherche vide'''\n",
    "            self.racine = None\n",
    "\n",
    "        def est_vide(self):\n",
    "            '''Renvoie True si l'ABR est vide et False sinon.'''\n",
    "            return self.racine is None\n",
    "\n",
    "        def parcours(self, tab = []):\n",
    "            ''' Renvoie la liste tab complétée avec tous les éléments de l'ABR triés par ordre croissant. '''\n",
    "            if self.est_vide():\n",
    "                return tab\n",
    "            else:\n",
    "                self.racine.gauche.parcours(tab)\n",
    "                tab.append(...)\n",
    "                ...\n",
    "            return tab\n",
    "\n",
    "        def insere(self, element):\n",
    "            '''Insère un élément dans l'arbre binaire de  recherche.'''\n",
    "            if self.est_vide():\n",
    "                self.racine = Noeud(element, ABR(), ABR())\n",
    "            else:\n",
    "                if element < self.racine.valeur:\n",
    "                    self.racine.gauche.insere(element)\n",
    "                else :\n",
    "                    self.racine.droite.insere(element)\n",
    "\n",
    "        def recherche(self, element):\n",
    "            '''\n",
    "            Renvoie True si element est présent dans l'arbre\n",
    "            binaire et False sinon.\n",
    "            '''\n",
    "            if self.est_vide():\n",
    "                return ...\n",
    "            else:\n",
    "                if element < self.racine.valeur:\n",
    "                    return ...\n",
    "                elif element > self.racine.valeur:\n",
    "                    return ...\n",
    "                else:\n",
    "                    return ..."
   ]
  },
  {
   "cell_type": "code",
   "execution_count": null,
   "metadata": {},
   "outputs": [],
   "source": []
  }
 ],
 "metadata": {
  "kernelspec": {
   "display_name": "Python 3",
   "language": "python",
   "name": "python3"
  },
  "language_info": {
   "codemirror_mode": {
    "name": "ipython",
    "version": 3
   },
   "file_extension": ".py",
   "mimetype": "text/x-python",
   "name": "python",
   "nbconvert_exporter": "python",
   "pygments_lexer": "ipython3",
   "version": "3.7.10"
  }
 },
 "nbformat": 4,
 "nbformat_minor": 4
}
