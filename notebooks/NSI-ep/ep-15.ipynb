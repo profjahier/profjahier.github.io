{
 "cells": [
  {
   "cell_type": "markdown",
   "metadata": {},
   "source": [
    "<h1 class=\"alert alert-success\">Exercice 1</h1>"
   ]
  },
  {
   "cell_type": "markdown",
   "metadata": {},
   "source": [
    "Écrireune fonction <code>rechercheMinMax</code> qui prend en paramètre un tableau de nombres non  triés <code>tab</code>,  et  qui renvoie  la  plus  petite et  la  plus  grande  valeur  du  tableau  sous  la forme d’un dictionnaire à deux clés <code>‘min’</code> et <code>‘max’</code>. \n",
    "\n",
    "Les tableaux seront représentés sous forme de liste Python.\n",
    "\n",
    "*Exemples:*\n",
    "\n",
    "    >>> tableau = [0,1,4,2,-2,9,3,1,7,1]\n",
    "    >>> resultat = rechercheMinMax(tableau)\n",
    "    >>> resultat\n",
    "    {'min': -2, 'max': 9}\n",
    "    \n",
    "    >>> tableau = []\n",
    "    >>> resultat = rechercheMinMax(tableau)\n",
    "    >>> resultat\n",
    "    {'min': None, 'max': None}\n"
   ]
  },
  {
   "cell_type": "code",
   "execution_count": null,
   "metadata": {},
   "outputs": [],
   "source": [
    "# votre code ci-dessous\n"
   ]
  },
  {
   "cell_type": "code",
   "execution_count": null,
   "metadata": {},
   "outputs": [],
   "source": [
    "tableau = [0,1,4,2,-2,9,3,1,7,1]\n",
    "resultat = rechercheMinMax(tableau)\n",
    "resultat"
   ]
  },
  {
   "cell_type": "code",
   "execution_count": null,
   "metadata": {},
   "outputs": [],
   "source": [
    "tableau = []\n",
    "resultat = rechercheMinMax(tableau)\n",
    "resultat"
   ]
  },
  {
   "cell_type": "markdown",
   "metadata": {},
   "source": [
    "<h1 class=\"alert alert-success\">Exercice 2</h1>"
   ]
  },
  {
   "cell_type": "markdown",
   "metadata": {},
   "source": [
    "On dispose d’un programme permettant de créer un objet de type <code>PaquetDeCarte</code>, selon les éléments indiqués dans le code ci-dessous.\n",
    "\n",
    "Compléter ce code aux endroits indiqués par <code>#A compléter</code>, puis ajouter des assertions dans l’initialiseur de <code>Carte</code>, ainsi que dans la méthode <code>getCarteAt()</code>.\n",
    "\n",
    "*Exemple:* \n",
    "\n",
    "    >>> unPaquet = PaquetDeCarte()\n",
    "    >>> unPaquet.remplir()\n",
    "    >>> uneCarte = unPaquet.getCarteAt(20)\n",
    "    >>> print(uneCarte.getNom()+ \" de \" + uneCarte.getCouleur())\n",
    "    6 de coeur \n"
   ]
  },
  {
   "cell_type": "code",
   "execution_count": null,
   "metadata": {},
   "outputs": [],
   "source": [
    "class Carte:\n",
    "    def __init__(self, c, v):\n",
    "        \"\"\"Initialise Couleur (entre 0 à 3), et Valeur (entre 1 à 13)\"\"\"\n",
    "        self.Couleur = c\n",
    "        self.Valeur = v\n",
    "\n",
    "    def getNom(self):\n",
    "        \"\"\"Renvoie le nom de la Carte As, 2, ... 10, \n",
    "       Valet, Dame, Roi\"\"\"\n",
    "        if (self.Valeur > 1 and self.Valeur < 11):\n",
    "            return str(self.Valeur)\n",
    "        elif self.Valeur == 11:\n",
    "            return \"Valet\"\n",
    "        elif self.Valeur == 12:\n",
    "            return \"Dame\"\n",
    "        elif self.Valeur == 13:\n",
    "            return \"Roi\"\n",
    "        else:\n",
    "            return \"As\"\n",
    "\n",
    "    def getCouleur(self):\n",
    "        \"\"\"Renvoie la couleur de la Carte (parmi pique, coeur, carreau, trefle)\"\"\"\n",
    "        return ['pique', 'coeur', 'carreau', 'trefle' ][self.Couleur]\n",
    "\n",
    "class PaquetDeCarte:\n",
    "    def __init__(self):\n",
    "        self.contenu = []\n",
    "\n",
    "    def remplir(self):\n",
    "        \"\"\"Remplit le paquet de cartes\"\"\"\n",
    "        #A compléter\n",
    "\n",
    "    def getCarteAt(self, pos):\n",
    "        \"\"\"Renvoie la Carte qui se trouve à la position donnée\"\"\"\n",
    "        #A compléter"
   ]
  },
  {
   "cell_type": "code",
   "execution_count": null,
   "metadata": {},
   "outputs": [],
   "source": [
    "unPaquet = PaquetDeCarte()\n",
    "unPaquet.remplir()\n",
    "uneCarte = unPaquet.getCarteAt(20)\n",
    "print(uneCarte.getNom()+ \" de \" + uneCarte.getCouleur())"
   ]
  },
  {
   "cell_type": "code",
   "execution_count": null,
   "metadata": {},
   "outputs": [],
   "source": [
    "unPaquet = PaquetDeCarte()\n",
    "unPaquet.remplir()\n",
    "for i in range(1,53):\n",
    "    uneCarte = unPaquet.getCarteAt(i)\n",
    "    print(i, uneCarte.getNom()+ \" de \" + uneCarte.getCouleur())"
   ]
  },
  {
   "cell_type": "code",
   "execution_count": null,
   "metadata": {},
   "outputs": [],
   "source": []
  }
 ],
 "metadata": {
  "kernelspec": {
   "display_name": "Python 3",
   "language": "python",
   "name": "python3"
  },
  "language_info": {
   "codemirror_mode": {
    "name": "ipython",
    "version": 3
   },
   "file_extension": ".py",
   "mimetype": "text/x-python",
   "name": "python",
   "nbconvert_exporter": "python",
   "pygments_lexer": "ipython3",
   "version": "3.7.5"
  }
 },
 "nbformat": 4,
 "nbformat_minor": 4
}
