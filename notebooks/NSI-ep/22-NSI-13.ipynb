{
 "cells": [
  {
   "cell_type": "markdown",
   "metadata": {},
   "source": [
    "<h1 class=\"alert alert-info\">Sujet n°13 session 2022</h1>"
   ]
  },
  {
   "cell_type": "markdown",
   "metadata": {},
   "source": [
    "<h1 class=\"alert alert-success\">Exercice 1</h1>"
   ]
  },
  {
   "cell_type": "markdown",
   "metadata": {},
   "source": [
    "On  s’intéresse  au  problème  du  rendu  de  monnaie.  On  suppose  qu’on  dispose  d’un nombre infini de billets de 5 euros, de pièces de 2 euros et de pièces de 1 euro.\n",
    "\n",
    "Le but est d’écrire une fonction nommée <code>rendu</code> dont le paramètre est un entier positif non nul <code>somme_a_rendre</code> et  qui  retourne  une  liste  de  trois  entiers <code>n1</code>, <code>n2</code> et <code>n3</code> qui correspondent aux nombres de billets de 5 euros (<code>n1</code>) de pièces de 2 euros (<code>n2</code>) et de pièces de 1 euro (<code>n3</code>) à rendre afin que le total rendu soit égal à <code>somme_a_rendre</code>. \n",
    "\n",
    "On  utilisera  un  algorithme  glouton :  on  commencera  par rendre  le  nombre  maximal  de billets de 5 euros, puis celui des pièces de 2 euros et enfin celui des pièces de 1 euros.\n",
    "\n",
    "*Exemples:*\n",
    "\n",
    "    >>> rendu(13)\n",
    "    [2, 1, 1]\n",
    "    >>> rendu(64)\n",
    "    [12, 2, 0]\n",
    "    >>> rendu(89)\n",
    "    [17, 2, 0]"
   ]
  },
  {
   "cell_type": "code",
   "execution_count": null,
   "metadata": {},
   "outputs": [],
   "source": []
  },
  {
   "cell_type": "markdown",
   "metadata": {},
   "source": [
    "<h1 class=\"alert alert-success\">  Exercice 2</h1>"
   ]
  },
  {
   "cell_type": "markdown",
   "metadata": {},
   "source": [
    "On veut écrire une classe pour gérer une file à l’aide d’une liste chaînée. On dispose d’une classe `Maillon` permettant la création d’un maillon de la chaîne, celui-ci étant constitué d’une valeur et d’une référence au maillon suivant de la chaîne :\n",
    "\n",
    "    class Maillon :\n",
    "        def __init__(self, v) :\n",
    "            self.valeur = v\n",
    "            self.suivant = None\n",
    "\n",
    "Compléter la classe `File` suivante où l’attribut `dernier_file` contient le maillon correspondant à l’élément arrivé en dernier dans la file.\n",
    "\n",
    "On pourra tester le fonctionnement de la classe en utilisant les commandes suivantes dans la console Python :\n",
    "\n",
    "    >>> F = File()\n",
    "    >>> F.est_vide()\n",
    "    True\n",
    "    >>> F.enfile(2)\n",
    "    >>> F.affiche()\n",
    "    2\n",
    "    >>> F.est_vide()\n",
    "    False\n",
    "    >>> F.enfile(5)\n",
    "    >>> F.enfile(7)\n",
    "    >>> F.affiche()\n",
    "    7\n",
    "    5\n",
    "    2\n",
    "    >>> F.defile()\n",
    "    2\n",
    "    >>> F.defile()\n",
    "    5\n",
    "    >>> F.affiche()\n",
    "    7"
   ]
  },
  {
   "cell_type": "code",
   "execution_count": null,
   "metadata": {},
   "outputs": [],
   "source": [
    "class Maillon :\n",
    "    def __init__(self, v):\n",
    "        self.valeur = v\n",
    "        self.suivant = None\n",
    "\n",
    "class File :\n",
    "    def __init__(self) :\n",
    "        self.dernier_file = None\n",
    "\n",
    "    def enfile(self, element) :\n",
    "        nouveau_maillon = Maillon(...) \n",
    "        nouveau_maillon.suivant = self.dernier_file\n",
    "        self.dernier_file = ...\n",
    "\n",
    "    def est_vide(self) :\n",
    "        return self.dernier_file == None\n",
    "\n",
    "    def affiche(self) :\n",
    "        maillon = self.dernier_file\n",
    "        while maillon != ... :\n",
    "            print(maillon.valeur)\n",
    "            maillon = ...\n",
    "\n",
    "    def defile(self) :\n",
    "        if not self.est_vide() :\n",
    "            if self.dernier_file.suivant == None:\n",
    "                resultat = self.dernier_file.valeur\n",
    "                self.dernier_file = None\n",
    "                return resultat\n",
    "            maillon = ...\n",
    "            while maillon.suivant.suivant != None:\n",
    "                maillon = maillon.suivant\n",
    "            resultat = ...\n",
    "            maillon.suivant = None\n",
    "            return resultat\n",
    "        return None "
   ]
  },
  {
   "cell_type": "code",
   "execution_count": null,
   "metadata": {},
   "outputs": [],
   "source": []
  }
 ],
 "metadata": {
  "kernelspec": {
   "display_name": "Python 3",
   "language": "python",
   "name": "python3"
  },
  "language_info": {
   "codemirror_mode": {
    "name": "ipython",
    "version": 3
   },
   "file_extension": ".py",
   "mimetype": "text/x-python",
   "name": "python",
   "nbconvert_exporter": "python",
   "pygments_lexer": "ipython3",
   "version": "3.7.10"
  }
 },
 "nbformat": 4,
 "nbformat_minor": 4
}
