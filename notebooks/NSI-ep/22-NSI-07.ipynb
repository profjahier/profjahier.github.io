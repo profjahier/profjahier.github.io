{
 "cells": [
  {
   "cell_type": "markdown",
   "metadata": {},
   "source": [
    "<h1 class=\"alert alert-info\">Sujet n°07 session 2022</h1>"
   ]
  },
  {
   "cell_type": "markdown",
   "metadata": {},
   "source": [
    "<h1 class=\"alert alert-danger\">Hors programme !</h1>"
   ]
  },
  {
   "cell_type": "markdown",
   "metadata": {},
   "source": [
    "<h1 class=\"alert alert-success\"> Exercice 1</h1>"
   ]
  },
  {
   "cell_type": "markdown",
   "metadata": {},
   "source": [
    "codeÉcrire une  fonction <code>conv_bin</code> qui prend  en paramètre  un  entier positif <code>n</code> et renvoie un couple `(b, bit)` où:  \n",
    "- <code>b</code> est une liste d'entiers correspondant  à la représentation binaire de <code>n</code>;\n",
    "- <code>bit</code> correspond aux nombre de bits qui constituent <code>b</code>.\n",
    "    \n",
    "*Exemple:*\n",
    "    \n",
    "    >>> conv_bin(9)\n",
    "    ([1, 0, 0, 1], 4)\n",
    "    \n",
    "Aide : \n",
    "    \n",
    "- l'opérateur <code>//</code> donne le quotient de la division euclidienne : <code>5//2</code> donne <code>2</code>;\n",
    "- l'opérateur <code>%</code> donne le reste de la division euclidienne : <code>5%2</code> donne <code>1<c/ode>;\n",
    "- <code>append</code> est une méthode qui ajoute un élément à une liste existante : \n",
    "    \n",
    "    Soit <code>T=[5, 2, 4]</code>, alors <code>T.append(10)</code> ajoute 10 à la liste <code>T</code>. Ainsi, <code>T</code> devient <code>[5, 2, 4, 10]</code>.\n",
    "- <code>reverse</code> est une méthode qui renverse les éléments d'une liste. \n",
    "    \n",
    "    Soit <code>T=[5, 2, 4, 10]</code>. Après <code>T.reverse()</code>, la liste devient <code>[10, 4, 2, 5]</code>.\n",
    "    \n",
    "On  remarquera  qu’on  récupère  la  représentation  binaire  d’un  entier <code>n</code> en partant  de  la gauche en appliquant successivement les instructions: \n",
    "    \n",
    "<code>b = n%2</code> \n",
    "    \n",
    "<code>n = n//2</code> \n",
    "    \n",
    "répétées autant que nécessaire.\n"
   ]
  },
  {
   "cell_type": "code",
   "execution_count": null,
   "metadata": {},
   "outputs": [],
   "source": []
  },
  {
   "cell_type": "markdown",
   "metadata": {},
   "source": [
    "<h1 class=\"alert alert-success\">Exercice 2</h1>\n",
    "    "
   ]
  },
  {
   "cell_type": "markdown",
   "metadata": {},
   "source": [
    "<h1 class=\"alert alert-danger\">Hors programme !</h1>"
   ]
  },
  {
   "cell_type": "markdown",
   "metadata": {},
   "source": [
    "La fonction <code>tri_bulles</code> prend en paramètre une liste <code>T</code> d’entiers non triés et renvoie la liste triée par ordre croissant.\n",
    "    \n",
    "Compléter le code Python ci-dessous qui implémente la fonction <code>tri_bulles</code>."
   ]
  },
  {
   "cell_type": "code",
   "execution_count": null,
   "metadata": {},
   "outputs": [],
   "source": [
    "def tri_bulles(T):\n",
    "    n = len(T)\n",
    "    for i in range(len(T)-1, 0, -1):\n",
    "        for j in range(i):\n",
    "            if T[j] > T[...]:\n",
    "                ... = T[j]\n",
    "                T[j] = T[...]\n",
    "                T[j+1] = temp\n",
    "    return T"
   ]
  },
  {
   "cell_type": "code",
   "execution_count": null,
   "metadata": {},
   "outputs": [],
   "source": []
  }
 ],
 "metadata": {
  "kernelspec": {
   "display_name": "Python 3",
   "language": "python",
   "name": "python3"
  },
  "language_info": {
   "codemirror_mode": {
    "name": "ipython",
    "version": 3
   },
   "file_extension": ".py",
   "mimetype": "text/x-python",
   "name": "python",
   "nbconvert_exporter": "python",
   "pygments_lexer": "ipython3",
   "version": "3.7.10"
  }
 },
 "nbformat": 4,
 "nbformat_minor": 4
}
