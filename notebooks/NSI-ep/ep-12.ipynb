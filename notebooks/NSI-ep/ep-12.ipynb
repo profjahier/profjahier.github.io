{
 "cells": [
  {
   "cell_type": "markdown",
   "metadata": {},
   "source": [
    "<h1 class=\"alert alert-success\">Exercice 1</h1>"
   ]
  },
  {
   "cell_type": "markdown",
   "metadata": {},
   "source": [
    "Écrire une fonction <code>maxi</code> qui prend en paramètre une liste <code>tab</code> de nombres entiers et qui renvoie  un  couple donnant  le  plus  grand  élément de  cette  liste ainsi  que l’indice  de  la première apparition de ce maximum dans la liste.\n",
    "\n",
    "*Exemple:*\n",
    "\n",
    "    >>> maxi([1,5,6,9,1,2,3,7,9,8])\n",
    "    (9,3)"
   ]
  },
  {
   "cell_type": "code",
   "execution_count": null,
   "metadata": {},
   "outputs": [],
   "source": [
    "# votre code ci-dessous\n"
   ]
  },
  {
   "cell_type": "code",
   "execution_count": null,
   "metadata": {},
   "outputs": [],
   "source": [
    "maxi([1,5,6,9,1,2,3,7,9,8])"
   ]
  },
  {
   "cell_type": "markdown",
   "metadata": {},
   "source": [
    "<h1 class=\"alert alert-success\">Exercice 2</h1>"
   ]
  },
  {
   "cell_type": "markdown",
   "metadata": {},
   "source": [
    "La fonction <code>recherche</code> prend en paramètres deux chaines de caractères <code>gene</code> et  <code>seq_adn</code> et renvoie <code>True</code> si on retrouve <code>gene</code> dans <code>seq_adn</code> et <code>False</code> sinon.\n",
    "    \n",
    "Compléter le code Python ci-dessous pour qu’il implémente la fonction <code>recherche</code>.\n",
    "\n",
    "\n",
    "*Exemples:*\n",
    "\n",
    "    >>> recherche(\"AATC\", \"GTACAAATCTTGCC\")\n",
    "    True\n",
    "    >>> recherche(\"AGTC\", \"GTACAAATCTTGCC\")\n",
    "    False\n"
   ]
  },
  {
   "cell_type": "code",
   "execution_count": null,
   "metadata": {},
   "outputs": [],
   "source": [
    "def recherche(gene, seq_adn):\n",
    "    n = len(seq_adn)\n",
    "    g = len(gene)\n",
    "    i = ..\n",
    "    trouve = False\n",
    "    while i < ... and trouve == ...:\n",
    "        j = 0\n",
    "        while j < g and gene[j] == seq_adn[i+j]:\n",
    "            ...\n",
    "        if j == g:\n",
    "            trouve = True\n",
    "        ...\n",
    "    return trouve"
   ]
  },
  {
   "cell_type": "code",
   "execution_count": null,
   "metadata": {},
   "outputs": [],
   "source": [
    "recherche(\"AATC\", \"GTACAAATCTTGCC\")"
   ]
  },
  {
   "cell_type": "code",
   "execution_count": null,
   "metadata": {},
   "outputs": [],
   "source": [
    "recherche(\"AGTC\", \"GTACAAATCTTGCC\")"
   ]
  },
  {
   "cell_type": "code",
   "execution_count": null,
   "metadata": {},
   "outputs": [],
   "source": []
  }
 ],
 "metadata": {
  "kernelspec": {
   "display_name": "Python 3",
   "language": "python",
   "name": "python3"
  },
  "language_info": {
   "codemirror_mode": {
    "name": "ipython",
    "version": 3
   },
   "file_extension": ".py",
   "mimetype": "text/x-python",
   "name": "python",
   "nbconvert_exporter": "python",
   "pygments_lexer": "ipython3",
   "version": "3.7.5"
  }
 },
 "nbformat": 4,
 "nbformat_minor": 4
}
