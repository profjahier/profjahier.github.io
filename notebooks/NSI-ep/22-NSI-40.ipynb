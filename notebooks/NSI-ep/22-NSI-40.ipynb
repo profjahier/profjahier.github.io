{
 "cells": [
  {
   "cell_type": "markdown",
   "metadata": {},
   "source": [
    "<h1 class=\"alert alert-info\">Sujet n°40 session 2022</h1>"
   ]
  },
  {
   "cell_type": "markdown",
   "metadata": {},
   "source": [
    "<h1 class=\"alert alert-success\"> Exercice 1</h1>"
   ]
  },
  {
   "cell_type": "markdown",
   "metadata": {},
   "source": [
    "Écrire une fonction <code>recherche </code> qui prend en paramètres  <code>elt</code> un nombre et  <code>tab </code> un tableau de nombres, et qui renvoie le tableau des indices de  <code>elt </code> dans  <code>tab </code> si  <code>elt </code> est dans  <code>tab </code> et le tableau vide  <code>[]</code> sinon.\n",
    "\n",
    "*Exemples:*\n",
    "\n",
    "    >>> recherche(3, [3, 2, 1, 3, 2, 1])\n",
    "    [0, 3]\n",
    "    >>> recherche(4, [1, 2, 3])\n",
    "    []"
   ]
  },
  {
   "cell_type": "code",
   "execution_count": null,
   "metadata": {},
   "outputs": [],
   "source": []
  },
  {
   "cell_type": "markdown",
   "metadata": {},
   "source": [
    "<h1 class=\"alert alert-success\"> Exercice 2</h1>"
   ]
  },
  {
   "cell_type": "markdown",
   "metadata": {},
   "source": [
    "Un professeur de NSI décide de gérer les résultats de sa classe sous la forme d’un dictionnaire:\n",
    "\n",
    "- les clefs sont les noms des élèves;\n",
    "- les valeurs sont des dictionnaires dont les clefs sont les types d’épreuves et les valeurs sont les notes obtenues associées à leurs coefficients.\n",
    "\n",
    "Avec:\n",
    "\n",
    "    resultats = {'Dupont':{'DS1' : [15.5, 4],\n",
    "                           'DM1' : [14.5, 1],\n",
    "                           'DS2' : [13, 4],\n",
    "                           'PROJET1' : [16, 3],\n",
    "                           'DS3' : [14,4]},\n",
    "                 'Durand':{'DS1' : [6 , 4],\n",
    "                           'DM1' : [14.5, 1],\n",
    "                           'DS2' : [8, 4],\n",
    "                           'PROJET1' : [9, 3],\n",
    "                           'IE1' : [7,2],\n",
    "                           'DS3' : [8,4],\n",
    "                           'DS4' :[15,4]}}\n",
    "\n",
    "L’élève dont le nom est Durand a ainsi obtenu au DS2 la note de 8 avec un coefficient 4.\n",
    "\n",
    "Le professeur crée une fonction <code>moyenne</code> qui prend en paramètre le nom d’un de ces élèves et lui renvoie sa moyenne arrondie au dixième. \n",
    "\n",
    "Compléter le code du professeur ci-dessous."
   ]
  },
  {
   "cell_type": "code",
   "execution_count": null,
   "metadata": {},
   "outputs": [],
   "source": [
    "resultats = {'Dupont':{'DS1' : [15.5, 4],\n",
    "                       'DM1' : [14.5, 1],\n",
    "                       'DS2' : [13, 4],\n",
    "                       'PROJET1' : [16, 3],\n",
    "                       'DS3' : [14, 4]},\n",
    "             'Durand':{'DS1' : [6 , 4],\n",
    "                       'DM1' : [14.5, 1],\n",
    "                       'DS2' : [8, 4],\n",
    "                       'PROJET1' : [9, 3],\n",
    "                       'IE1' : [7, 2],\n",
    "                       'DS3' : [8, 4],\n",
    "                       'DS4' :[15, 4]}}\n",
    "\n",
    "def moyenne(nom):\n",
    "    if nom in ...:\n",
    "        notes = resultats[nom]\n",
    "        total_points = ...\n",
    "        total_coefficients = ...\n",
    "        for ... in notes.values():\n",
    "            note, coefficient = valeurs\n",
    "            total_points = total_points + ... * coefficient\n",
    "            total_coefficients = ... + coefficient\n",
    "        return round(... / total_coefficients, 1)\n",
    "    else:\n",
    "        return -1"
   ]
  },
  {
   "cell_type": "code",
   "execution_count": null,
   "metadata": {},
   "outputs": [],
   "source": []
  }
 ],
 "metadata": {
  "kernelspec": {
   "display_name": "Python 3",
   "language": "python",
   "name": "python3"
  },
  "language_info": {
   "codemirror_mode": {
    "name": "ipython",
    "version": 3
   },
   "file_extension": ".py",
   "mimetype": "text/x-python",
   "name": "python",
   "nbconvert_exporter": "python",
   "pygments_lexer": "ipython3",
   "version": "3.7.10"
  }
 },
 "nbformat": 4,
 "nbformat_minor": 4
}
