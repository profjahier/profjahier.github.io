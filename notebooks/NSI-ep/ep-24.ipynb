{
 "cells": [
  {
   "cell_type": "markdown",
   "metadata": {},
   "source": [
    "<h1 class=\"alert alert-success\">Exercice 1</h1>"
   ]
  },
  {
   "cell_type": "markdown",
   "metadata": {},
   "source": [
    "Écrire  une  fonction <code>recherche</code> qui  prend  en  paramètres <code>elt</code> un  nombre  et <code>tab</code> un tableau de nombres, et qui renvoie l’indice de la dernière occurrence de <code>elt</code> dans <code>tab</code> si <code>elt</code> est dans <code>tab</code> et le <code>-1</code> sinon.\n",
    "\n",
    "*Exemples:*\n",
    "\n",
    "    >>>recherche(1,[2,3,4])\n",
    "    -1\n",
    "    >>>recherche(1,[10,12,1,56])\n",
    "    2\n",
    "    >>>recherche(1,[1,50,1])\n",
    "    2\n",
    "    >>>recherche(1,[8,1,10,1,7,1,8])\n",
    "    5"
   ]
  },
  {
   "cell_type": "code",
   "execution_count": null,
   "metadata": {},
   "outputs": [],
   "source": [
    "# votre code ci-dessous\n",
    "    "
   ]
  },
  {
   "cell_type": "code",
   "execution_count": null,
   "metadata": {},
   "outputs": [],
   "source": [
    "recherche(1,[2,3,4])"
   ]
  },
  {
   "cell_type": "code",
   "execution_count": null,
   "metadata": {},
   "outputs": [],
   "source": [
    "recherche(1,[10,12,1,56])"
   ]
  },
  {
   "cell_type": "code",
   "execution_count": null,
   "metadata": {},
   "outputs": [],
   "source": [
    "recherche(1,[1,50,1])"
   ]
  },
  {
   "cell_type": "code",
   "execution_count": null,
   "metadata": {},
   "outputs": [],
   "source": [
    "recherche(1,[8,1,10,1,7,1,8])"
   ]
  },
  {
   "cell_type": "markdown",
   "metadata": {},
   "source": [
    "<h1 class=\"alert alert-success\">Exercice 2</h1>"
   ]
  },
  {
   "cell_type": "markdown",
   "metadata": {},
   "source": [
    "On définit une classe gérant une adresse IPv4.\n",
    "\n",
    "On rappelle qu’une adresse IPv4 est une adresse de longueur 4 octets, notée en décimale à point, en séparant chacun des octets par un point. On considère un réseau privé avec une plage d’adresses IP de 192.168.0.0 à 192.168.0.255.\n",
    "\n",
    "On considère que les adresses IP saisies sont valides.\n",
    "\n",
    "Les adresses IP 192.168.0.0 et 192.168.0.255 sont des adresses réservées. \n",
    "\n",
    "Le code ci-dessous implémente la <code>classeAdresseIP</code>.\n",
    "\n",
    "\n",
    "Compléter le code ci-dessus et instancier trois objets: <code>adresse1</code>, <code>adresse2</code>, <code>adresse3</code> avec respectivement les arguments suivants: <code>'192.168.0.1'</code>, <code>'192.168.0.2'</code>, <code>'192.168.0.0'</code>\n",
    "\n",
    "Vérifier que:\n",
    "\n",
    "    >>> adresse1.est_reservee()\n",
    "    False\n",
    "    >>> adresse3.est_reservee()\n",
    "    True\n",
    "    >>> adresse2.adresse_suivante().adresse\n",
    "    '192.168.0.3'"
   ]
  },
  {
   "cell_type": "code",
   "execution_count": null,
   "metadata": {},
   "outputs": [],
   "source": [
    "class AdresseIP:\n",
    "\n",
    "    def __init__(self, adresse):\n",
    "        self.adresse = ...\n",
    "   \n",
    "    def liste_octet(self):\n",
    "        \"\"\"renvoie une liste de nombres entiers,\n",
    "           la liste des octets de l'adresse IP\"\"\"\n",
    "        return [int(i) for i in self.adresse.split(\".\")] \n",
    "        \n",
    "    def est_reservee(self):\n",
    "        \"\"\"renvoie True si l'adresse IP est une adresse\n",
    "           réservée, False sinon\"\"\"\n",
    "        return ... or ...\n",
    "             \n",
    "    def adresse_suivante(self):\n",
    "        \"\"\"renvoie un objet de AdresseIP avec l'adresse \n",
    "           IP qui suit l’adresse self\n",
    "           si elle existe et False sinon\"\"\"\n",
    "        if ... < 254:\n",
    "            octet_nouveau = ... + ...\n",
    "            return AdresseIP('192.168.0.' + ...)\n",
    "        else:\n",
    "            return False"
   ]
  },
  {
   "cell_type": "code",
   "execution_count": null,
   "metadata": {},
   "outputs": [],
   "source": [
    "adresse1 = AdresseIP('192.168.0.1')"
   ]
  },
  {
   "cell_type": "code",
   "execution_count": null,
   "metadata": {},
   "outputs": [],
   "source": [
    "adresse2 = AdresseIP('192.168.0.2')"
   ]
  },
  {
   "cell_type": "code",
   "execution_count": null,
   "metadata": {},
   "outputs": [],
   "source": [
    "adresse3 = AdresseIP('192.168.0.0')"
   ]
  },
  {
   "cell_type": "code",
   "execution_count": null,
   "metadata": {},
   "outputs": [],
   "source": [
    "adresse1.est_reservee()"
   ]
  },
  {
   "cell_type": "code",
   "execution_count": null,
   "metadata": {},
   "outputs": [],
   "source": [
    "adresse3.est_reservee()"
   ]
  },
  {
   "cell_type": "code",
   "execution_count": null,
   "metadata": {},
   "outputs": [],
   "source": [
    "adresse2.adresse_suivante().adresse"
   ]
  },
  {
   "cell_type": "code",
   "execution_count": null,
   "metadata": {},
   "outputs": [],
   "source": []
  }
 ],
 "metadata": {
  "kernelspec": {
   "display_name": "Python 3",
   "language": "python",
   "name": "python3"
  },
  "language_info": {
   "codemirror_mode": {
    "name": "ipython",
    "version": 3
   },
   "file_extension": ".py",
   "mimetype": "text/x-python",
   "name": "python",
   "nbconvert_exporter": "python",
   "pygments_lexer": "ipython3",
   "version": "3.7.5"
  }
 },
 "nbformat": 4,
 "nbformat_minor": 4
}
