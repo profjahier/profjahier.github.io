{
 "cells": [
  {
   "cell_type": "markdown",
   "metadata": {},
   "source": [
    "<h1 class=\"alert alert-info\">Sujet n°22 session 2022</h1>"
   ]
  },
  {
   "cell_type": "markdown",
   "metadata": {},
   "source": [
    "<h1 class=\"alert alert-success\">Exercice 1</h1>"
   ]
  },
  {
   "cell_type": "markdown",
   "metadata": {},
   "source": [
    "Programmer une fonction `renverse`, prenant en paramètre une chaîne de caractères non vide `mot` et renvoie une chaîne de caractères en inversant ceux de la chaîne mot.\n",
    "\n",
    "*Exemple :*\n",
    "\n",
    "    >>> renverse(\"informatique\")\n",
    "    \"euqitamrofni\""
   ]
  },
  {
   "cell_type": "code",
   "execution_count": null,
   "metadata": {},
   "outputs": [],
   "source": []
  },
  {
   "cell_type": "markdown",
   "metadata": {},
   "source": [
    "<h1 class=\"alert alert-success\"> Exercice 2</h1>"
   ]
  },
  {
   "cell_type": "markdown",
   "metadata": {},
   "source": [
    "Un nombre premier est un nombre entier naturel qui admet exactement deux diviseurs distincts entiers et positifs : 1 et lui-même.\n",
    "\n",
    "Le crible d’Ératosthène permet de déterminer les nombres premiers plus petit qu’un certain nombre N fixé.\n",
    "\n",
    "On considère pour cela un tableau `tab` de N booléens, initialement tous égaux à `True`, sauf `tab[0]` et `tab[1]` qui valent `False`, 0 et 1 n’étant pas des nombres premiers.\n",
    "\n",
    "On parcourt alors ce tableau de gauche à droite.\n",
    "\n",
    "Pour chaque indice i :\n",
    "\n",
    "- si `tab[i]` vaut `True` : le nombre `i` est premier et on donne la valeur `False` à toutes les cases du tableau dont l’indice est un multiple de `i`, à partir de `2*i` (c’est-à-dire `2*i`, `3*i`...).\n",
    "\n",
    "- si `tab[i]` vaut `False` : le nombre `i` n’est pas premier et on n’effectue aucun changement sur le tableau.\n",
    "\n",
    "On dispose de la fonction `crible`, incomplète et donnée ci-dessous, prenant en paramètre un entier N strictement positif et renvoyant un tableau contenant tous les nombres premiers plus petits que N."
   ]
  },
  {
   "cell_type": "markdown",
   "metadata": {},
   "source": [
    "Compléter le code de cette fonction."
   ]
  },
  {
   "cell_type": "code",
   "execution_count": null,
   "metadata": {},
   "outputs": [],
   "source": [
    "def crible(N):\n",
    "    \"\"\"\n",
    "    Renvoie un tableau contenant tous les nombres premiers plus petits que N\n",
    "    \"\"\"\n",
    "    premiers = []\n",
    "    tab = [True] * N\n",
    "    tab[0], tab[1] = False, False\n",
    "    for i in range(..., N):\n",
    "        if tab[i] == ...:\n",
    "            premiers.append(...)\n",
    "            for multiple in range(2*i, N, ...):\n",
    "                tab[multiple] = ...\n",
    "    return premiers"
   ]
  },
  {
   "cell_type": "code",
   "execution_count": null,
   "metadata": {},
   "outputs": [],
   "source": [
    "assert crible(40) == [2, 3, 5, 7, 11, 13, 17, 19, 23, 29, 31, 37]"
   ]
  },
  {
   "cell_type": "code",
   "execution_count": null,
   "metadata": {},
   "outputs": [],
   "source": []
  }
 ],
 "metadata": {
  "kernelspec": {
   "display_name": "Python 3",
   "language": "python",
   "name": "python3"
  },
  "language_info": {
   "codemirror_mode": {
    "name": "ipython",
    "version": 3
   },
   "file_extension": ".py",
   "mimetype": "text/x-python",
   "name": "python",
   "nbconvert_exporter": "python",
   "pygments_lexer": "ipython3",
   "version": "3.7.10"
  }
 },
 "nbformat": 4,
 "nbformat_minor": 4
}
