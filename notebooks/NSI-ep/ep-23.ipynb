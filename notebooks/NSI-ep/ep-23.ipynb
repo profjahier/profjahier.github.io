{
 "cells": [
  {
   "cell_type": "markdown",
   "metadata": {},
   "source": [
    "<h1 class=\"alert alert-success\">Exercice 1</h1>"
   ]
  },
  {
   "cell_type": "markdown",
   "metadata": {},
   "source": [
    "Le nombre d’occurrences d’un caractère dans un phrase est le nombre de fois où ce caractère est présent.\n",
    "\n",
    "*Exemples:*\n",
    "- le nombre d’occurrence du caractère ‘o’ dans ‘bonjour’ est 2;\n",
    "- le nombre d’occurrence du caractère ‘b’ dans ‘Bébé’ est 1;\n",
    "- le nombre d’occurrence du caractère ‘B’ dans ‘Bébé’ est 1;\n",
    "- le nombre d’occurrence du caractère ‘ ‘ dans ‘Hello world!’ est 2.\n",
    "\n",
    "On cherche les occurrences des caractères dans une phrase. On souhaite stocker le nombre de ces occurrences dans un dictionnaire dont les clefs seraient les caractères de la phrase et les valeurs les nombres des occurrences de ces caractères.\n",
    "\n",
    "Par exemple : avec la phrase 'Hello world!' le dictionnaire est le suivant: \n",
    "\n",
    "<code>{'H': 1,'e': 1,'l': 3,'o': 2,' ': 2,'w': 1,'r': 1,'d': 1,'!': 1}</code> (l’ordre des clefs n’ayant pas d’importance).\n",
    "\n",
    "Écrire une fonction <code>occurence_lettres</code>  prenant comme paramètre une variable <code>phrase</code> de type <code>str</code>. Cette fonction doit renvoyer un dictionnaire de type constitué des occurrences des caractères présents dans la phrase"
   ]
  },
  {
   "cell_type": "code",
   "execution_count": null,
   "metadata": {},
   "outputs": [],
   "source": [
    "# votre code ci-dessous\n"
   ]
  },
  {
   "cell_type": "code",
   "execution_count": null,
   "metadata": {},
   "outputs": [],
   "source": [
    "occurence_lettres('Hello world!')"
   ]
  },
  {
   "cell_type": "markdown",
   "metadata": {},
   "source": [
    "<h1 class=\"alert alert-success\">Exercice 2</h1>"
   ]
  },
  {
   "cell_type": "markdown",
   "metadata": {},
   "source": [
    "La fonction fusion prend deux listes <code>L1</code>, <code>L2</code> d’entiers triées par ordre croissant et les fusionne en une liste triée <code>L12</code> qu’elle renvoie.\n",
    "\n",
    "Compléter le code de la fonction prposée ci-dessous.\n",
    "\n",
    "*Exemple:*\n",
    "\n",
    "    >>> fusion([1,6,10],[0,7,8,9])\n",
    "    [0, 1, 6, 7, 8, 9, 10]\n"
   ]
  },
  {
   "cell_type": "code",
   "execution_count": null,
   "metadata": {},
   "outputs": [],
   "source": [
    "def fusion(L1,L2):\n",
    "    n1 = len(L1)\n",
    "    n2 = len(L2)\n",
    "    L12 = [0] * (n1 + n2)\n",
    "    i1 = 0\n",
    "    i2 = 0\n",
    "    i = 0\n",
    "    while i1 < n1 and ...:\n",
    "        if L1[i1] < L2[i2]:\n",
    "            L12[i] = ...\n",
    "            i1 = ...\n",
    "        else:\n",
    "            L12[i] = L2[i2]\n",
    "            i2 = ...\n",
    "        i += 1\n",
    "    while i1 < n1:\n",
    "        L12[i] = ...\n",
    "        i1 = i1 + 1\n",
    "        i = ...\n",
    "    while i2 < n2:\n",
    "        12[i] = ...\n",
    "        i2 = i2 + 1\n",
    "        i = ...\n",
    "    return L12"
   ]
  },
  {
   "cell_type": "code",
   "execution_count": null,
   "metadata": {},
   "outputs": [],
   "source": [
    "fusion([1,6,10],[0,7,8,9])"
   ]
  },
  {
   "cell_type": "code",
   "execution_count": null,
   "metadata": {},
   "outputs": [],
   "source": []
  }
 ],
 "metadata": {
  "kernelspec": {
   "display_name": "Python 3",
   "language": "python",
   "name": "python3"
  },
  "language_info": {
   "codemirror_mode": {
    "name": "ipython",
    "version": 3
   },
   "file_extension": ".py",
   "mimetype": "text/x-python",
   "name": "python",
   "nbconvert_exporter": "python",
   "pygments_lexer": "ipython3",
   "version": "3.7.5"
  }
 },
 "nbformat": 4,
 "nbformat_minor": 4
}
