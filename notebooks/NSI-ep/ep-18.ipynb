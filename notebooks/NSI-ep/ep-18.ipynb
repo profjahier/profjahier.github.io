{
 "cells": [
  {
   "cell_type": "markdown",
   "metadata": {},
   "source": [
    "<h1 class=\"alert alert-success\">Exercice 1</h1>"
   ]
  },
  {
   "cell_type": "markdown",
   "metadata": {},
   "source": [
    "Écrire une fonction <code>recherche</code> qui prend en paramètres <code>elt</code> un nombre entieret <code>tab</code> un tableau de nombres entiers, et qui renvoie l’indice de la première occurrence de <code>elt</code> dans <code>tab</code> si <code>elt</code> est dans <code>tab</code> et <code>-1</code> sinon.\n",
    "\n",
    "*Exemples:*\n",
    "\n",
    "    >>>recherche(1,[2,3,4])\n",
    "    -1\n",
    "    >>>recherche(1,[10,12,1,56])\n",
    "    2\n",
    "    >>>recherche(50,[1,50,1])\n",
    "    1\n",
    "    >>>recherche(15,[8,9,10,15])\n",
    "    3"
   ]
  },
  {
   "cell_type": "code",
   "execution_count": null,
   "metadata": {},
   "outputs": [],
   "source": [
    "# votre code ci-dessous\n"
   ]
  },
  {
   "cell_type": "code",
   "execution_count": null,
   "metadata": {},
   "outputs": [],
   "source": [
    "recherche(1, [2,3,4])"
   ]
  },
  {
   "cell_type": "code",
   "execution_count": null,
   "metadata": {},
   "outputs": [],
   "source": [
    "recherche(1, [10,12,1,56])"
   ]
  },
  {
   "cell_type": "code",
   "execution_count": null,
   "metadata": {},
   "outputs": [],
   "source": [
    "recherche(50, [1,50,1])"
   ]
  },
  {
   "cell_type": "code",
   "execution_count": null,
   "metadata": {},
   "outputs": [],
   "source": [
    "recherche(15, [8,9,10,15])"
   ]
  },
  {
   "cell_type": "markdown",
   "metadata": {},
   "source": [
    "<h1 class=\"alert alert-success\">Exercice 2</h1>"
   ]
  },
  {
   "cell_type": "markdown",
   "metadata": {},
   "source": [
    "On  considère  la  fonction <code>insere</code> ci-dessous  qui  prend  en  argument  un entier <code>a</code> et  un tableau <code>tab</code> d'entiers triés par ordre croissant. Cette fonction insère la valeur <code>a</code> dans le tableau et renvoie le nouveau tableau. Les tableaux seront représentés sous la forme de listes Python.\n",
    "    \n",
    "Compléter la fonction <code>insere</code> ci-dessous.\n",
    "    \n",
    "*Exemples:*\n",
    "\n",
    "    >>> insere(3,[1,2,4,5])\n",
    "    [1, 2, 3, 4, 5]\n",
    "    >>> insere(10,[1,2,7,12,14,25])\n",
    "    [1, 2, 7, 10, 12, 14, 25]\n",
    "    >>> insere(1,[2,3,4])\n",
    "    [1, 2, 3, 4]\n"
   ]
  },
  {
   "cell_type": "code",
   "execution_count": null,
   "metadata": {},
   "outputs": [],
   "source": [
    "def insere(a, tab):\n",
    "    if len(tab) == 0:\n",
    "        return [a]\n",
    "    l = list(tab) # l contient les mêmes éléments que tab\n",
    "    l.append(a)\n",
    "    i = ...\n",
    "    while a < ... and ...: \n",
    "        l[i+1] = ...\n",
    "        l[i] = a\n",
    "        i = ...\n",
    "    return l"
   ]
  },
  {
   "cell_type": "code",
   "execution_count": null,
   "metadata": {},
   "outputs": [],
   "source": [
    "insere(3, [1,2,4,5])"
   ]
  },
  {
   "cell_type": "code",
   "execution_count": null,
   "metadata": {},
   "outputs": [],
   "source": [
    "insere(10, [1,2,7,12,14,25])"
   ]
  },
  {
   "cell_type": "code",
   "execution_count": null,
   "metadata": {},
   "outputs": [],
   "source": [
    "insere(1, [2,3,4])"
   ]
  },
  {
   "cell_type": "code",
   "execution_count": null,
   "metadata": {},
   "outputs": [],
   "source": [
    "insere(17, [])"
   ]
  },
  {
   "cell_type": "code",
   "execution_count": null,
   "metadata": {},
   "outputs": [],
   "source": []
  }
 ],
 "metadata": {
  "kernelspec": {
   "display_name": "Python 3",
   "language": "python",
   "name": "python3"
  },
  "language_info": {
   "codemirror_mode": {
    "name": "ipython",
    "version": 3
   },
   "file_extension": ".py",
   "mimetype": "text/x-python",
   "name": "python",
   "nbconvert_exporter": "python",
   "pygments_lexer": "ipython3",
   "version": "3.7.10"
  }
 },
 "nbformat": 4,
 "nbformat_minor": 4
}
