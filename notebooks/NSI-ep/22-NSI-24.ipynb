{
 "cells": [
  {
   "cell_type": "markdown",
   "metadata": {},
   "source": [
    "<h1 class=\"alert alert-info\">Sujet n°24 session 2022</h1>"
   ]
  },
  {
   "cell_type": "markdown",
   "metadata": {},
   "source": [
    "<h1 class=\"alert alert-success\">Exercice 1</h1>"
   ]
  },
  {
   "cell_type": "markdown",
   "metadata": {},
   "source": [
    "Écrire la fonction `maxliste`, prenant en paramètre un tableau non vide de nombres `tab` (type\n",
    "`list`) et renvoyant le plus grand élément de ce tableau.\n",
    "\n",
    "*Exemples :*\n",
    "\n",
    "    >>> maxliste([98, 12, 104, 23, 131, 9])\n",
    "    131\n",
    "    >>> maxliste([-27, 24, -3, 15])\n",
    "    24"
   ]
  },
  {
   "cell_type": "code",
   "execution_count": null,
   "metadata": {},
   "outputs": [],
   "source": []
  },
  {
   "cell_type": "markdown",
   "metadata": {},
   "source": [
    "<h1 class=\"alert alert-success\"> Exercice 2</h1>"
   ]
  },
  {
   "cell_type": "markdown",
   "metadata": {},
   "source": [
    "On dispose de chaînes de caractères contenant uniquement des parenthèses ouvrantes et fermantes.\n",
    "\n",
    "Un parenthésage est correct si :\n",
    "- le nombre de parenthèses ouvrantes de la chaîne est égal au nombre de parenthèses fermantes.\n",
    "- en parcourant la chaîne de gauche à droite, le nombre de parenthèses déjà ouvertes doit être, à tout moment, supérieur ou égal au nombre de parenthèses déjà fermées.\n",
    "\n",
    "Ainsi, \"((()())(()))\" est un parenthésage correct.\n",
    "\n",
    "Les parenthésages \"())(()\" et \"(())(()\" sont, eux, incorrects.\n",
    "\n",
    "On dispose du code de la classe Pile suivant :"
   ]
  },
  {
   "cell_type": "code",
   "execution_count": null,
   "metadata": {},
   "outputs": [],
   "source": [
    "class Pile:\n",
    "    \"\"\"Classe définissant une pile\"\"\"\n",
    "    def __init__(self, valeurs=None):\n",
    "        if valeurs == None:\n",
    "            self.valeurs = []\n",
    "        else:\n",
    "            self.valeurs = valeurs\n",
    "        \n",
    "    def est_vide(self):\n",
    "        \"\"\"Renvoie True si la pile est vide, False sinon\"\"\"\n",
    "        return self.valeurs == []\n",
    "    \n",
    "    def empiler(self, c):\n",
    "        \"\"\"Place l’élément c au sommet de la pile\"\"\"\n",
    "        self.valeurs.append(c)\n",
    "        \n",
    "    def depiler(self):\n",
    "        \"\"\"\n",
    "        Supprime l’élément placé au sommet de la pile, à condition qu’elle\n",
    "        soit non vide\n",
    "        \"\"\"\n",
    "        if self.est_vide() == False:\n",
    "            self.valeurs.pop()"
   ]
  },
  {
   "cell_type": "markdown",
   "metadata": {},
   "source": [
    "On souhaite programmer une fonction `parenthesage` qui prend en paramètre une chaîne `ch` de parenthèses et renvoie `True` si la chaîne est bien parenthésée et `False` sinon.\n",
    "\n",
    "Cette fonction utilise une pile et suit le principe suivant : en parcourant la chaîne de gauche à droite, si on trouve une  parenthèse ouvrante, on l’empile au sommet de la pile et si on trouve une parenthèse fermante, on dépile (si possible !) la parenthèse ouvrante stockée au sommet\n",
    "de la pile.\n",
    "\n",
    "La chaîne est alors bien parenthésée si, à la fin du parcours, la pile est vide.\n",
    "\n",
    "Elle est, par contre, mal parenthésée :\n",
    "- si dans le parcours, on trouve une parenthèse fermante, alors que la pile est vide ;\n",
    "- ou si, à la fin du parcours, la pile n’est pas vide."
   ]
  },
  {
   "cell_type": "code",
   "execution_count": null,
   "metadata": {},
   "outputs": [],
   "source": [
    "def parenthesage(ch):\n",
    "    \"\"\"Renvoie True si la chaîne ch est bien parenthésée et False sinon\"\"\"\n",
    "    p = Pile()\n",
    "    for c in ch:\n",
    "        if c == ...:\n",
    "            p.empiler(c)\n",
    "        elif c == ...:\n",
    "            if p.est_vide():\n",
    "                return ...\n",
    "            else:\n",
    "                ...\n",
    "    return p.est_vide()"
   ]
  },
  {
   "cell_type": "code",
   "execution_count": null,
   "metadata": {},
   "outputs": [],
   "source": [
    "assert parenthesage(\"((()())(()))\") == True\n",
    "assert parenthesage(\"())(()\") == False\n",
    "assert parenthesage(\"(())(()\") == False"
   ]
  },
  {
   "cell_type": "markdown",
   "metadata": {},
   "source": [
    "Compléter le code de la fonction parenthesage."
   ]
  },
  {
   "cell_type": "code",
   "execution_count": null,
   "metadata": {},
   "outputs": [],
   "source": []
  }
 ],
 "metadata": {
  "kernelspec": {
   "display_name": "Python 3",
   "language": "python",
   "name": "python3"
  },
  "language_info": {
   "codemirror_mode": {
    "name": "ipython",
    "version": 3
   },
   "file_extension": ".py",
   "mimetype": "text/x-python",
   "name": "python",
   "nbconvert_exporter": "python",
   "pygments_lexer": "ipython3",
   "version": "3.7.10"
  }
 },
 "nbformat": 4,
 "nbformat_minor": 4
}
