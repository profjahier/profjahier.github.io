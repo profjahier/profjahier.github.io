{
 "cells": [
  {
   "cell_type": "markdown",
   "metadata": {},
   "source": [
    "<h1 class=\"alert alert-info\">Sujet n°18 session 2022</h1>"
   ]
  },
  {
   "cell_type": "markdown",
   "metadata": {},
   "source": [
    "<h1 class=\"alert alert-success\">  Exercice 1</h1>"
   ]
  },
  {
   "cell_type": "markdown",
   "metadata": {},
   "source": [
    "On  a  relevé  les  valeurs  moyennes  annuelles  des  températures  à Paris  pour  la  période allant de 2013 à 2019. Les résultats ont été récupérés sous la forme de deux listes : l’une pour les températures, l’autre pour les années : \n",
    "\n",
    "    t_moy = [14.9, 13.3, 13.1, 12.5, 13.0, 13.6, 13.7]\n",
    "    annees = [2013, 2014, 2015, 2016, 2017, 2018, 2019]\n",
    "    \n",
    "Écrirela fonction <code>mini</code> qui prend en paramètres le tableau <code>releve</code> des relevés et le tableau <code>date</code> des dates et qui renvoie la plus petite valeur relevée au cours de la période et l’année correspondante.\n",
    "\n",
    "*Exemple:*\n",
    "\n",
    "    >>> mini(t_moy, annees)\n",
    "    12.5"
   ]
  },
  {
   "cell_type": "code",
   "execution_count": null,
   "metadata": {},
   "outputs": [],
   "source": []
  },
  {
   "cell_type": "markdown",
   "metadata": {},
   "source": [
    "<h1 class=\"alert alert-success\">Exercice 2</h1>"
   ]
  },
  {
   "cell_type": "markdown",
   "metadata": {},
   "source": [
    "Un  mot  palindrome  peut  se  lire  de  la  même  façon  de  gauche  à  droite  ou  de  droite  à gauche : *bob*, *radar*, et *non* sont des mots palindromes. \n",
    "\n",
    "De même certains nombres sont eux aussi des palindromes : *33*, *121*, *345543*.\n",
    "\n",
    "L’objectif de cet exercice est d’obtenir un programme Python permettant de tester si un nombre est un nombre palindrome.\n",
    "\n",
    "Pour remplir cette tâche, on vous demande de compléter le code des trois fonctions ci-dessous  sachant  que  la  fonction <code>est_nbre_palindrome</code> s’appuiera sur  la  fonction <code>est_palindrome</code> qui elle-même s’appuiera sur la fonction <code>inverse_chaine</code>. \n",
    "\n",
    "La fonction <code>inverse_chaine</code> inverse l'ordre des caractères d'une chaîne de caractères <code>chaine</code> et renvoie la chaîne inversée. \n",
    "\n",
    "La  fonction <code>est_palindrome</code> teste  si  une  chaine  de  caractères <code>chaine</code> est  un palindrome. Elle renvoie <code>True</code> si c’est le cas et <code>False</code> sinon. Cette fonction s’appuie sur la fonction précédente. \n",
    "\n",
    "La  fonction <code>est_nbre_palindrome</code> teste  si  un  nombre <code>nbre</code> est  un  palindrome.  Elle renvoie <code>True</code> si c’est  le  cas  et <code>False</code> sinon.  Cette  fonction  s’appuie  sur  la  fonction précédente.\n"
   ]
  },
  {
   "cell_type": "code",
   "execution_count": null,
   "metadata": {},
   "outputs": [],
   "source": [
    "def inverse_chaine(chaine):\n",
    "    result = ...\n",
    "    for caractere in chaine:\n",
    "        result = ...\n",
    "    return result\n",
    "\n",
    "def est_palindrome(chaine):\n",
    "    inverse = inverse_chaine(chaine)\n",
    "    return ...\n",
    "    \n",
    "def est_nbre_palindrome(nbre):\n",
    "    chaine = ...\n",
    "    return est_palindrome(chaine)"
   ]
  },
  {
   "cell_type": "code",
   "execution_count": null,
   "metadata": {},
   "outputs": [],
   "source": []
  }
 ],
 "metadata": {
  "kernelspec": {
   "display_name": "Python 3",
   "language": "python",
   "name": "python3"
  },
  "language_info": {
   "codemirror_mode": {
    "name": "ipython",
    "version": 3
   },
   "file_extension": ".py",
   "mimetype": "text/x-python",
   "name": "python",
   "nbconvert_exporter": "python",
   "pygments_lexer": "ipython3",
   "version": "3.7.10"
  }
 },
 "nbformat": 4,
 "nbformat_minor": 4
}
