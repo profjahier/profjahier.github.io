{
 "cells": [
  {
   "cell_type": "markdown",
   "metadata": {},
   "source": [
    "<h1 class=\"alert alert-info\">Sujet n°30 session 2022</h1>"
   ]
  },
  {
   "cell_type": "markdown",
   "metadata": {},
   "source": [
    "<h1 class=\"alert alert-success\">Exercice 1</h1>"
   ]
  },
  {
   "cell_type": "markdown",
   "metadata": {},
   "source": [
    "Programmer la fonction `fusion` prenant en paramètres deux tableaux non vides `tab1` et `tab2`\n",
    "(type `list`) d'entiers, chacun dans l’ordre croissant, et renvoyant un tableau trié dans l’ordre\n",
    "croissant et contenant l’ensemble des valeurs de `tab1` et `tab2`.\n",
    "\n",
    "\n",
    "*Exemples :*\n",
    "\n",
    "    >>> fusion([3, 5], [2, 5])\n",
    "    [2, 3, 5, 5]\n",
    "    >>> fusion([-2, 4], [-3, 5, 10])\n",
    "    [-3, -2, 4, 5, 10]\n",
    "    >>> fusion([4], [2, 6])\n",
    "    [2, 4, 6]"
   ]
  },
  {
   "cell_type": "code",
   "execution_count": null,
   "metadata": {},
   "outputs": [],
   "source": []
  },
  {
   "cell_type": "markdown",
   "metadata": {},
   "source": [
    "\n",
    "<h1 class=\"alert alert-success\"> Exercice 2</h1>\n",
    "    "
   ]
  },
  {
   "cell_type": "markdown",
   "metadata": {},
   "source": [
    "Les chiffres romains sont un système ancien d’écriture des nombres.\n",
    "\n",
    "Les chiffres romains sont : I, V, X, L, C, D, et M.\n",
    "\n",
    "Ces symboles représentent respectivement 1, 5, 10, 50, 100, 500, et 1000 en base dix.\n",
    "\n",
    "\n",
    "Lorsque deux caractères successifs sont tels que le caractère placé à gauche possède une\n",
    "valeur supérieure ou égale à celui de droite, le nombre s’obtient en additionnant le caractère de\n",
    "gauche à la valeur de la chaîne située à droite.\n",
    "\n",
    "Ainsi, \"XVI\" est le nombre 16 car X + VI = 10 + 6.\n",
    "\n",
    "Lorsque deux caractères successifs sont tels que le caractère placé à gauche possède une\n",
    "valeur strictement inférieure à celui de droite, le nombre s’obtient en retranchant le caractère de\n",
    "gauche à la valeur de la chaîne située à droite.\n",
    "\n",
    "Ainsi, \"CDIII\" est le nombre 403 car DIII – C = 503 – 100.\n",
    "\n",
    "On dispose d’un dictionnaire dico, à compléter, où les clés sont les caractères apparaissant\n",
    "dans l’écriture en chiffres romains et où les valeurs sont les nombres entiers associés en\n",
    "écriture décimale.\n",
    "\n",
    "On souhaite créer une fonction récursive `rom_to_dec` qui prend en paramètre une chaîne de\n",
    "caractères (non vide) représentant un nombre écrit en chiffres romains et renvoyant le nombre\n",
    "associé en écriture décimale :"
   ]
  },
  {
   "cell_type": "code",
   "execution_count": null,
   "metadata": {},
   "outputs": [],
   "source": [
    "def rom_to_dec(nombre):\n",
    "    \"\"\" Renvoie l’écriture décimale du nombre donné en chiffres romains \"\"\"\n",
    "    dico = {\"I\":1, \"V\":5, ...}\n",
    "    if len(nombre) == 1:\n",
    "        return ...\n",
    "    else:\n",
    "        ### on supprime le premier caractère de la chaîne contenue dans la variable nombre\n",
    "        ### et cette nouvelle chaîne est enregistrée dans la variable nombre_droite\n",
    "        nombre_droite = nombre[1:]\n",
    "        if dico[nombre[0]] >= dico[nombre[1]]:\n",
    "            return dico[nombre[0]] + ...\n",
    "        else:\n",
    "            return ...\n",
    "\n",
    "assert rom_to_dec(\"CXLII\") == 142"
   ]
  },
  {
   "cell_type": "code",
   "execution_count": null,
   "metadata": {},
   "outputs": [],
   "source": []
  }
 ],
 "metadata": {
  "kernelspec": {
   "display_name": "Python 3",
   "language": "python",
   "name": "python3"
  },
  "language_info": {
   "codemirror_mode": {
    "name": "ipython",
    "version": 3
   },
   "file_extension": ".py",
   "mimetype": "text/x-python",
   "name": "python",
   "nbconvert_exporter": "python",
   "pygments_lexer": "ipython3",
   "version": "3.7.10"
  }
 },
 "nbformat": 4,
 "nbformat_minor": 4
}
