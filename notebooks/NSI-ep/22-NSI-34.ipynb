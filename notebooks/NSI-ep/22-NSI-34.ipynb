{
 "cells": [
  {
   "cell_type": "markdown",
   "metadata": {},
   "source": [
    "<h1 class=\"alert alert-info\">Sujet n°34 session 2022</h1>"
   ]
  },
  {
   "cell_type": "markdown",
   "metadata": {},
   "source": [
    "<h1 class=\"alert alert-success\">Exercice 1</h1>"
   ]
  },
  {
   "cell_type": "markdown",
   "metadata": {},
   "source": [
    "Écrire une fonction <code>occurrence_max</code> prenant en paramètres une chaîne de caractères <code>chaine</code> et qui renvoie le caractère le plus fréquent de la chaîne. La chaine ne contient que des lettres en minuscules sans accent.\n",
    "\n",
    "On pourra s’aider du tableau :\n",
    "\n",
    "<code>alphabet=['a','b','c','d','e','f','g','h','i','j','k','l','m','n','o,','p','q','r','s','t','u','v','w','x','y','z']</code> \n",
    "\n",
    "et du tableau <code>occurrence</code> de 26 éléments où l’on mettra dans <code>occurrence[i]</code> le nombre d’apparitions de <code>alphabet[i]</code> dans la chaine. Puis on calculera l’indice <code>k</code> d’un maximum du tableau <code>occurrence</code> et on affichera <code>alphabet[k]</code>.\n",
    "\n",
    "*Exemple :*\n",
    "\n",
    "    >>> ch='je suis en terminale et je passe le bac et je souhaite poursuivre des etudes pour devenir expert en informatique’\n",
    "    >>> occurrence_max(ch)\n",
    "    ‘e’"
   ]
  },
  {
   "cell_type": "code",
   "execution_count": null,
   "metadata": {},
   "outputs": [],
   "source": [
    "alphabet = ['a','b','c','d','e','f','g','h','i','j','k','l','m','n','o,','p','q','r','s','t','u','v','w','x','y','z']"
   ]
  },
  {
   "cell_type": "code",
   "execution_count": null,
   "metadata": {},
   "outputs": [],
   "source": []
  },
  {
   "cell_type": "markdown",
   "metadata": {},
   "source": [
    "<h1 class=\"alert alert-success\">Exercice 2</h1>"
   ]
  },
  {
   "cell_type": "markdown",
   "metadata": {},
   "source": [
    "On  considère  une  image  en  256  niveaux  de  gris  que  l’on représente  par  une  grille  de nombres, c’est-à-dire une liste composée de sous-listes toutes de longueurs identiques. \n",
    "\n",
    "La largeur de l’image est donc la longueur d’une sous-liste et la hauteur de l’image est le nombre de sous-listes. \n",
    "\n",
    "Chaque sous-liste représente une ligne de l’image et chaque élément des sous-listes est un entier compris entre 0 et 255, représentant l’intensité lumineuse du pixel.\n",
    "\n",
    "Le négatif d’une image est l’image constituée des pixels `x_n` tels que `x_n + x_i = 255`\n",
    "où `x_i` est le pixel correspondant de l’image initiale.\n",
    "\n",
    "Compléter le programme ci-dessous:"
   ]
  },
  {
   "cell_type": "code",
   "execution_count": 2,
   "metadata": {},
   "outputs": [],
   "source": [
    "def nbLig(image):\n",
    "    '''renvoie le nombre de lignes de l'image'''\n",
    "    return ...\n",
    "\n",
    "def nbCol(image):\n",
    "    '''renvoie la largeur de l'image'''\n",
    "    return ...\n",
    "\n",
    "def negatif(image):\n",
    "    '''renvoie le négatif de l'image sous la forme \n",
    "       d'une liste de listes'''\n",
    "    # on créé une image de 0 aux mêmes dimensions que le paramètre image\n",
    "    L = [[0 for k in range(nbCol(image))] for i in range(nbLig(image))] \n",
    "    \n",
    "    for i in range(len(image)):\n",
    "        for j in range(...):\n",
    "            L[i][j] = ...\n",
    "    return L\n",
    "\n",
    "def binaire(image, seuil):\n",
    "    '''renvoie une image binarisée de l'image sous la forme \n",
    "       d'une liste de listes contenant des 0 si la valeur \n",
    "       du pixel est strictement inférieure au seuil \n",
    "       et 1 sinon'''\n",
    "    # on crée une image de 0 aux mêmes dimensions que le paramètre imag\n",
    "    L = [[0 for k in range(nbCol(image))] for i in range(nbLig(image))]\n",
    "    \n",
    "    for i in range(len(image)):\n",
    "        for j in range(...):\n",
    "            if image[i][j] < ...:\n",
    "                L[i][j] = ...\n",
    "            else:\n",
    "                L[i][j] = ...\n",
    "    return L"
   ]
  },
  {
   "cell_type": "markdown",
   "metadata": {},
   "source": [
    "*Exemple:*\n",
    "\n",
    "    >>> img = [[20, 34, 254, 145, 6], [23, 124, 287, 225, 69], [197, 174, 207, 25, 87], [255, 0, 24, 197, 189]]\n",
    "    >>> nbLig(img)\n",
    "    4\n",
    "    >>> nbCol(img)\n",
    "    5\n",
    "    >>> negatif(img)\n",
    "    [[235, 221, 1, 110, 249], [232, 131, -32, 30, 186], [58, 81, 48, 230, 168], [0, 255, 231, 58, 66]]\n",
    "    >>> binaire(img, 120)    \n",
    "    [[0, 0, 1, 1, 0], [0, 1, 1, 1, 0], [1, 1, 1, 0, 0], [1, 0, 0, 1, 1]]"
   ]
  },
  {
   "cell_type": "code",
   "execution_count": null,
   "metadata": {},
   "outputs": [],
   "source": []
  }
 ],
 "metadata": {
  "kernelspec": {
   "display_name": "Python 3",
   "language": "python",
   "name": "python3"
  },
  "language_info": {
   "codemirror_mode": {
    "name": "ipython",
    "version": 3
   },
   "file_extension": ".py",
   "mimetype": "text/x-python",
   "name": "python",
   "nbconvert_exporter": "python",
   "pygments_lexer": "ipython3",
   "version": "3.7.10"
  }
 },
 "nbformat": 4,
 "nbformat_minor": 4
}
