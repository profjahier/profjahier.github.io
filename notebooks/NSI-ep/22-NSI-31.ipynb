{
 "cells": [
  {
   "cell_type": "markdown",
   "metadata": {},
   "source": [
    "<h1 class=\"alert alert-info\">Sujet n°31 session 2022</h1>"
   ]
  },
  {
   "cell_type": "markdown",
   "metadata": {},
   "source": [
    "<h1 class=\"alert alert-success\">Exercice 1</h1>"
   ]
  },
  {
   "cell_type": "markdown",
   "metadata": {},
   "source": [
    "Écrire en langage Python une fonction <code>recherche</code> prenant comme paramètres une variable <code>a</code> de type numérique (<code>float</code> ou <code>int</code>) et un tableau <code>t</code> (type <code>list</code>) et qui renvoie le nombre d'occurrences de <code>a</code> dans <code>t</code>.\n",
    "\n",
    "*Exemples d'utilisations de la fonction <code>recherche</code>:*\n",
    "\n",
    "    >>> recherche(5, [])\n",
    "    0\n",
    "    >>> recherche(5, [-2, 3, 4, 8])\n",
    "    0\n",
    "    >>> recherche(5, [-2, 3, 1, 5, 3, 7, 4])\n",
    "    1\n",
    "    >>> recherche(5, [-2, 5, 3, 5, 4, 5])\n",
    "    3"
   ]
  },
  {
   "cell_type": "code",
   "execution_count": null,
   "metadata": {},
   "outputs": [],
   "source": []
  },
  {
   "cell_type": "markdown",
   "metadata": {},
   "source": [
    "<h1 class=\"alert alert-success\">Exercice 2</h1>"
   ]
  },
  {
   "cell_type": "markdown",
   "metadata": {},
   "source": [
    "La  fonction <code>rendu_monnaie_centimes</code> prend  en  paramètres  deux  nombres  entiers positifs <code>s_due</code> et <code>s_versee</code> et  elle permet  de  procéder  au  rendu  de  monnaie  de  la différence <code>s_versee – s_due</code> pour des achats effectués avec le système de pièces de la zone Euro.  On utilise pour cela un algorithme qui commence par rendre le maximum de pièces de plus grandes valeurs et ainsi de suite. La fonction renvoie la liste des pièces qui composent le rendu. \n",
    "\n",
    "Toutes les sommes sont exprimées en centimes d’euros. Les valeurs possibles pour les pièces sont donc <code>[1, 2, 5, 10 20, 50, 100, 200]</code>.\n",
    "    \n",
    "Ainsi,    l’instruction <code>rendu_monnaie_centimes(452, 500)</code> renverra la    liste <code>[20, 20, 5, 2, 1]</code>. En effet, la somme à rendre est de 48 centimes soit $20 + 20 + 5 + 2 + 1$.\n",
    "\n",
    "Le code de la fonction est donné ci-dessous.\n",
    "    \n",
    "Compléter ce code pour qu’il donne:\n",
    "    \n",
    "    >>> rendu_monnaie_centimes(700, 700)\n",
    "    []\n",
    "    >>> rendu_monnaie_centimes(112, 500)\n",
    "    [200, 100, 50, 20,10, 5, 2, 1]"
   ]
  },
  {
   "cell_type": "code",
   "execution_count": null,
   "metadata": {},
   "outputs": [],
   "source": [
    "def rendu_monnaie_centimes(s_due, s_versee):\n",
    "    pieces = [1, 2, 5, 10, 20, 50, 100, 200]\n",
    "    rendu = ...\n",
    "    a_rendre = ...\n",
    "    i = len(pieces) - 1\n",
    "    while a_rendre > ...:\n",
    "        if pieces[i] <= a_rendre :\n",
    "            rendu.append(...)\n",
    "            a_rendre = ...\n",
    "        else :\n",
    "            i = ...\n",
    "    return rendu"
   ]
  },
  {
   "cell_type": "code",
   "execution_count": null,
   "metadata": {},
   "outputs": [],
   "source": []
  }
 ],
 "metadata": {
  "kernelspec": {
   "display_name": "Python 3",
   "language": "python",
   "name": "python3"
  },
  "language_info": {
   "codemirror_mode": {
    "name": "ipython",
    "version": 3
   },
   "file_extension": ".py",
   "mimetype": "text/x-python",
   "name": "python",
   "nbconvert_exporter": "python",
   "pygments_lexer": "ipython3",
   "version": "3.7.10"
  }
 },
 "nbformat": 4,
 "nbformat_minor": 4
}
