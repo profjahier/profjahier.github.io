{
 "cells": [
  {
   "cell_type": "markdown",
   "metadata": {},
   "source": [
    "<h1 class=\"alert alert-success\"> Exercice 1</h1>"
   ]
  },
  {
   "cell_type": "markdown",
   "metadata": {},
   "source": [
    "Écrire une fonction <code>recherche</code> qui prend en paramètres <code>caractere</code>, un caractère, et <code>mot</code>, une chaîne de caractères, et qui renvoie le nombre d’occurrences de <code>caractere</code> dans <code>mot</code>,c’est-à-dire le nombre de fois où </ode>caractere</code> apparaît dans <code>mot</code>.\n",
    "\n",
    "*Exemples:*\n",
    "\n",
    "    >>> recherche('e',\"sciences\")\n",
    "    2\n",
    "    >>> recherche('i',\"mississippi\")\n",
    "    4\n",
    "    >>> recherche('a',\"mississippi\")\n",
    "    0"
   ]
  },
  {
   "cell_type": "code",
   "execution_count": null,
   "metadata": {},
   "outputs": [],
   "source": [
    "# votre code ci-dessous :      \n"
   ]
  },
  {
   "cell_type": "code",
   "execution_count": null,
   "metadata": {},
   "outputs": [],
   "source": [
    "recherche('e',\"sciences\")"
   ]
  },
  {
   "cell_type": "code",
   "execution_count": null,
   "metadata": {},
   "outputs": [],
   "source": [
    "recherche('i',\"mississippi\")"
   ]
  },
  {
   "cell_type": "code",
   "execution_count": null,
   "metadata": {},
   "outputs": [],
   "source": [
    "recherche('a',\"mississippi\")"
   ]
  },
  {
   "cell_type": "markdown",
   "metadata": {},
   "source": [
    "<h1 class=\"alert alert-success\">Exercice 2</h1>"
   ]
  },
  {
   "cell_type": "markdown",
   "metadata": {},
   "source": [
    "On  s’intéresse à  un  algorithme récursif qui  permet de rendre  la  monnaie à  partir  d’une liste  donnée  de  valeurs  de  pièces et de  billets  -- le  système  monétaire est donné  sous forme d’une liste <code>pieces=[100, 50, 20, 10, 5, 2, 1]</code> -- (on supposera qu’il n’y a pas de limitation quant à leur nombre), on cherche à donner la liste de pièces à rendre pour une somme donnée en argument.\n",
    "\n",
    "Compléter le code Python ci-dessous de la fonction <code>rendu_glouton</code> qui implémente cet algorithme et renvoie la liste des pièces à rendre\n",
    "\n",
    "\n",
    "On devra obtenir:\n",
    "\n",
    "    >>> rendu_glouton(68,[],0)\n",
    "    [50, 10, 5, 2, 1]\n",
    "    >>> rendu_glouton(291,[],0)\n",
    "    [100, 100, 50, 20, 20, 1"
   ]
  },
  {
   "cell_type": "code",
   "execution_count": null,
   "metadata": {},
   "outputs": [],
   "source": [
    "pieces = [100, 50, 20, 10, 5, 2, 1]\n",
    "\n",
    "def rendu_glouton(arendre, solution, i):   \n",
    "    if arendre == 0:\n",
    "        return ...\n",
    "    p = pieces[i]\n",
    "    if p <= ...:\n",
    "        solution.append(...)   \n",
    "        return rendu_glouton(arendre - p, solution, i)   \n",
    "    else :\n",
    "        return rendu_glouton(arendre, solution, ...)"
   ]
  },
  {
   "cell_type": "code",
   "execution_count": null,
   "metadata": {},
   "outputs": [],
   "source": [
    "rendu_glouton(68, [], 0)"
   ]
  },
  {
   "cell_type": "code",
   "execution_count": null,
   "metadata": {},
   "outputs": [],
   "source": [
    "rendu_glouton(291, [], 0)"
   ]
  },
  {
   "cell_type": "code",
   "execution_count": null,
   "metadata": {},
   "outputs": [],
   "source": []
  }
 ],
 "metadata": {
  "kernelspec": {
   "display_name": "Python 3",
   "language": "python",
   "name": "python3"
  },
  "language_info": {
   "codemirror_mode": {
    "name": "ipython",
    "version": 3
   },
   "file_extension": ".py",
   "mimetype": "text/x-python",
   "name": "python",
   "nbconvert_exporter": "python",
   "pygments_lexer": "ipython3",
   "version": "3.7.5"
  }
 },
 "nbformat": 4,
 "nbformat_minor": 4
}
