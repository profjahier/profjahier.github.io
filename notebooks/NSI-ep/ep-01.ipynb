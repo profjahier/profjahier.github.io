{
 "cells": [
  {
   "cell_type": "markdown",
   "metadata": {},
   "source": [
    "<h1 class=\"alert alert-success\">Exercice 1</h1>    "
   ]
  },
  {
   "cell_type": "markdown",
   "metadata": {},
   "source": [
    "Programmer la fonction <code>recherche</code>, prenant en paramètre un tableau non vide <code>tab</code> (type <code>list</code>) d'entiers et  un  entier <code>n</code>,  et qui renvoie l'indice  de  la dernière occurrence  de l'élément  cherché.  \n",
    "Si  l'élément  n'est  pas  présent,  la  fonction  renvoie  la  longueur  du tableau.\n",
    "\n",
    "*Exemples :* \n",
    "\n",
    "    >>> recherche([5, 3],1)\n",
    "    2\n",
    "    >>> recherche([2,4],2)\n",
    "    0\n",
    "    >>> recherche([2,3,5,2,4],2)\n",
    "    3"
   ]
  },
  {
   "cell_type": "code",
   "execution_count": null,
   "metadata": {},
   "outputs": [],
   "source": [
    "# votre code ci-dessous :      \n"
   ]
  },
  {
   "cell_type": "code",
   "execution_count": null,
   "metadata": {},
   "outputs": [],
   "source": [
    "recherche([5, 3],1)"
   ]
  },
  {
   "cell_type": "code",
   "execution_count": null,
   "metadata": {},
   "outputs": [],
   "source": [
    "recherche([2,4],2)"
   ]
  },
  {
   "cell_type": "code",
   "execution_count": null,
   "metadata": {},
   "outputs": [],
   "source": [
    "recherche([2,3,5,2,4],2)"
   ]
  },
  {
   "cell_type": "markdown",
   "metadata": {},
   "source": [
    "<h1 class=\"alert alert-success\">Exercice 2</h1>    "
   ]
  },
  {
   "cell_type": "markdown",
   "metadata": {},
   "source": [
    "On souhaite programmer une fonction donnant la distance la plus courte entre un point de départ et une liste de points. Les points sont tous à coordonnées entières. Les points sont donnés sous la forme d'un tuple de deux entiers. La liste des points à traiter est donc un tableau de tuples.\n",
    "\n",
    "On rappelle que la distance entre deux points du plan de coordonnées (x ; y) et (x' ; y') est donnée par la formule :\n",
    "\n",
    "$d=\\sqrt{(x-x')^2+ (y-y')^2}$\n",
    "\n",
    "On importe pour cela la fonction racine carrée (<code>sqrt</code>) du module <code>math</code> de Python. On dispose d'une fonction <code>distance</code> et d'une fonction <code>plus_courte_distance</code>.\n",
    "\n",
    "Recopier sous Python (sans les commentaires) ces deux fonctions puis compléter leur code et ajouter une ou des déclarations (<code>assert</code>) à la fonction <code>distance</code> permettant de vérifier la ou les préconditions."
   ]
  },
  {
   "cell_type": "code",
   "execution_count": null,
   "metadata": {},
   "outputs": [],
   "source": [
    "from math import sqrt   # import de la fonction racine carrée\n",
    "\n",
    "def distance(point1, point2): \n",
    "    \"\"\" Calcule et renvoie la distance entre deux points. \"\"\"\n",
    "    return sqrt((...)**2 + (...)**2)\n",
    "\n",
    "assert distance((1, 0), (5, 3)) == 5.0, \"erreur de calcul\""
   ]
  },
  {
   "cell_type": "code",
   "execution_count": null,
   "metadata": {},
   "outputs": [],
   "source": [
    "def plus_courte_distance(tab, depart):\n",
    "    \"\"\" Renvoie le point du tableau tab se trouvant à la plus     \n",
    "    courte distance du point depart.\"\"\"\n",
    "    point = tab[0]\n",
    "    min_dist = ...\n",
    "    for i in range (1, ...):\n",
    "        if distance(tab[i], depart) ...:\n",
    "            point = ...\n",
    "            min_dist = ...\n",
    "    return point\n",
    "\n",
    "assert plus_courte_distance([(7, 9), (2, 5), (5, 2)], (0, 0)) == (2, 5), \"erreur\""
   ]
  },
  {
   "cell_type": "code",
   "execution_count": null,
   "metadata": {},
   "outputs": [],
   "source": []
  }
 ],
 "metadata": {
  "kernelspec": {
   "display_name": "Python 3",
   "language": "python",
   "name": "python3"
  },
  "language_info": {
   "codemirror_mode": {
    "name": "ipython",
    "version": 3
   },
   "file_extension": ".py",
   "mimetype": "text/x-python",
   "name": "python",
   "nbconvert_exporter": "python",
   "pygments_lexer": "ipython3",
   "version": "3.7.10"
  }
 },
 "nbformat": 4,
 "nbformat_minor": 4
}
