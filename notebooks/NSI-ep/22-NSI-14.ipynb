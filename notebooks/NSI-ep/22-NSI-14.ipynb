{
 "cells": [
  {
   "cell_type": "markdown",
   "metadata": {},
   "source": [
    "<h1 class=\"alert alert-info\">Sujet n°14 session 2022</h1>"
   ]
  },
  {
   "cell_type": "markdown",
   "metadata": {},
   "source": [
    "<h1 class=\"alert alert-success\">Exercice 1</h1>"
   ]
  },
  {
   "cell_type": "markdown",
   "metadata": {},
   "source": [
    "On considère des mots à trous : ce sont des chaînes de caractères contenant uniquement des majuscules et des caractères '*'. \n",
    "\n",
    "Par exemple 'INFO\\*MA\\*IQUE', '\\*\\*\\*I\\*\\*\\*E\\*\\*' et '\\*S\\*' sont des mots à trous.\n",
    "\n",
    "Programmer une fonction correspond qui :\n",
    "\n",
    " - prend en paramètres deux chaînes de caractères `mot` et `mot_a_trous` où `mot_a_trous` est un mot à trous comme indiqué ci-dessus,\n",
    " - renvoie :\n",
    "      - `True` si on peut obtenir `mot` en remplaçant convenablement les caractères\n",
    "        '\\*' de `mot_a_trous`.\n",
    "      - `False` sinon.\n",
    "      \n",
    "      \n",
    "*Exemples :*\n",
    "\n",
    "    >>> correspond('INFORMATIQUE', 'INFO*MA*IQUE')\n",
    "    True\n",
    "    \n",
    "    >>> correspond('AUTOMATIQUE', 'INFO*MA*IQUE')\n",
    "    False\n"
   ]
  },
  {
   "cell_type": "code",
   "execution_count": null,
   "metadata": {},
   "outputs": [],
   "source": []
  },
  {
   "cell_type": "markdown",
   "metadata": {},
   "source": [
    "\n",
    "<h1 class=\"alert alert-success\"> Exercice 2</h1>\n",
    "    "
   ]
  },
  {
   "cell_type": "markdown",
   "metadata": {},
   "source": [
    "On considère au plus 26 personnes A, B, C, D, E, F ... qui peuvent s'envoyer des messages\n",
    "avec deux règles à respecter :\n",
    "\n",
    "* chaque personne ne peut envoyer des messages qu'à la même personne (éventuellement elle-même),\n",
    "* chaque personne ne peut recevoir des messages qu'en provenance d'une seule personne (éventuellement elle-même).\n",
    "\n",
    "Voici un exemple - avec 6 personnes - de « plan d'envoi des messages » qui respecte les\n",
    "règles ci-dessus, puisque chaque personne est présente une seule fois dans chaque colonne :\n",
    "\n",
    "- A envoie ses messages à E\n",
    "- E envoie ses messages à B\n",
    "- B envoie ses messages à F\n",
    "- F envoie ses messages à A\n",
    "- C envoie ses messages à D\n",
    "- D envoie ses messages à C\n",
    "\n",
    "Et le dictionnaire correspondant à ce plan d'envoi est le suivant :  \n",
    "\n",
    "    plan_a = {'A':'E', 'B':'F', 'C':'D', 'D':'C', 'E':'B', 'F':'A'}  \n",
    "\n",
    "Sur le plan d'envoi `plan_a` des messages ci-dessus, il y a deux cycles distincts : un premier cycle avec A, E, B, F et un second cycle avec C et D.  \n",
    "\n",
    "En revanche, le plan d’envoi `plan_b` ci-dessous :\n",
    "\n",
    "    plan_b = {'A':'C', 'B':'F', 'C':'E', 'D':'A', 'E':'B', 'F':'D'}\n",
    "    \n",
    "comporte un unique cycle : A, C, E, B, F, D. Dans ce cas, lorsqu’un plan d’envoi comporte un unique cycle, on dit que le plan d’envoi est cyclique.\n",
    "\n",
    "Pour savoir si un plan d'envoi de messages comportant N personnes est cyclique, on peut\n",
    "utiliser l'algorithme ci-dessous :\n",
    "\n",
    "On part de la personne A et on inspecte les N – 1 successeurs dans le plan d'envoi :  \n",
    "\n",
    "- Si un de ces N – 1 successeurs est A lui-même, on a trouvé un cycle de taille inférieure ou égale à N – 1. Il y a donc au moins deux cycles et le plan d'envoi n'est pas cyclique.\n",
    "- Si on ne retombe pas sur A lors de cette inspection, on a un unique cycle qui passe par toutes les personnes : le plan d'envoi est cyclique.\n",
    "\n",
    "Compléter la fonction suivante en respectant la spécification.\n",
    "\n",
    "**Remarque :** la fonction Python `len` permet d'obtenir la longueur d'un dictionnaire."
   ]
  },
  {
   "cell_type": "code",
   "execution_count": null,
   "metadata": {},
   "outputs": [],
   "source": [
    "def est_cyclique(plan):\n",
    "        '''\n",
    "        Prend en paramètre un dictionnaire `plan` correspondant \n",
    "        à un plan d'envoi de messages entre `N` personnes A, B, C, \n",
    "        D, E, F ...(avec N <= 26).\n",
    "        Renvoie True si le plan d'envoi de messages est cyclique\n",
    "        et False sinon. \n",
    "        '''\n",
    "        personne = 'A'\n",
    "        N = len(...)                          \n",
    "        for i in range(...):\n",
    "            if plan[...] == ...:\n",
    "                return ...\n",
    "            else:\n",
    "                personne = ...\n",
    "        return ...\n",
    " "
   ]
  },
  {
   "cell_type": "markdown",
   "metadata": {},
   "source": [
    "**Exemples :**\n",
    "\n",
    "    >>> est_cyclique({'A':'E', 'F':'A', 'C':'D', 'E':'B', 'B':'F', 'D':'C'})\n",
    "    False\n",
    "    \n",
    "    >>> est_cyclique({'A':'E', 'F':'C', 'C':'D', 'E':'B', 'B':'F', 'D':'A'})\n",
    "    True\n",
    "    \n",
    "    >>> est_cyclique({'A':'B', 'F':'C', 'C':'D', 'E':'A', 'B':'F', 'D':'E'})\n",
    "    True\n",
    "    \n",
    "    >>> est_cyclique({'A':'B', 'F':'A', 'C':'D', 'E':'C', 'B':'F', 'D':'E'})\n",
    "    False"
   ]
  },
  {
   "cell_type": "code",
   "execution_count": null,
   "metadata": {},
   "outputs": [],
   "source": []
  }
 ],
 "metadata": {
  "kernelspec": {
   "display_name": "Python 3",
   "language": "python",
   "name": "python3"
  },
  "language_info": {
   "codemirror_mode": {
    "name": "ipython",
    "version": 3
   },
   "file_extension": ".py",
   "mimetype": "text/x-python",
   "name": "python",
   "nbconvert_exporter": "python",
   "pygments_lexer": "ipython3",
   "version": "3.7.10"
  }
 },
 "nbformat": 4,
 "nbformat_minor": 4
}
