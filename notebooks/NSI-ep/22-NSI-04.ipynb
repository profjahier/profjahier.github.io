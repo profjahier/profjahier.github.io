{
 "cells": [
  {
   "cell_type": "markdown",
   "metadata": {},
   "source": [
    "<h1 class=\"alert alert-info\">Sujet n°04 session 2022</h1>"
   ]
  },
  {
   "cell_type": "markdown",
   "metadata": {},
   "source": [
    "<h1 class=\"alert alert-success\">  Exercice 1</h1>"
   ]
  },
  {
   "cell_type": "markdown",
   "metadata": {},
   "source": [
    "Écrire une fonction <code>recherche</code> qui prend en paramètre un tableau de nombres entiers <code>tab</code>, et  qui renvoie la  liste  (éventuellement  vide) des  couples  d'entiers  consécutifs successifs qu'il peut y avoir dans tab.\n",
    "    \n",
    "*Exemples :*\n",
    "    \n",
    "    >>> recherche([1, 4, 3, 5])\n",
    "    []\n",
    "    >>> recherche([1, 4, 5, 3])\n",
    "    [(4, 5)]\n",
    "    >>> recherche([7, 1, 2, 5, 3, 4])\n",
    "    [(1, 2), (3, 4)]\n",
    "    >>> recherche([5, 1, 2, 3, 8, -5, -4, 7])\n",
    "    [(1, 2), (2, 3), (-5, -4)]"
   ]
  },
  {
   "cell_type": "code",
   "execution_count": null,
   "metadata": {},
   "outputs": [],
   "source": []
  },
  {
   "cell_type": "markdown",
   "metadata": {},
   "source": [
    "<h1 class=\"alert alert-success\">  Exercice 2</h1>"
   ]
  },
  {
   "cell_type": "code",
   "execution_count": 1,
   "metadata": {},
   "outputs": [],
   "source": [
    "from PIL import Image"
   ]
  },
  {
   "cell_type": "markdown",
   "metadata": {},
   "source": [
    "Soit  une  image  binaire  représentée dans  un  tableau à  2  dimensions.  Les  éléments <code>M[i][j]</code>, appelés pixels, sont égaux soit à <code>0</code> soit à <code>1</code>.\n",
    "    \n",
    "Une composante d’une image est un sous-ensemble de l’image constitué uniquement de <code>1</code> et de <code>0</code> qui sont côte à côte, soit horizontalement soit verticalement. Par exemple, les composantes de :"
   ]
  },
  {
   "cell_type": "code",
   "execution_count": 2,
   "metadata": {},
   "outputs": [
    {
     "data": {
      "image/png": "[encoded data removed]",
      "text/plain": [
       "<PIL.PngImagePlugin.PngImageFile image mode=RGBA size=346x164 at 0x7EFC3C9EE490>"
      ]
     },
     "execution_count": 2,
     "metadata": {},
     "output_type": "execute_result"
    }
   ],
   "source": [
    "Image.open('22-NSI-04-1.png')"
   ]
  },
  {
   "cell_type": "markdown",
   "metadata": {},
   "source": [
    "sont :"
   ]
  },
  {
   "cell_type": "code",
   "execution_count": 3,
   "metadata": {},
   "outputs": [
    {
     "data": {
      "image/png": "[encoded data removed]",
      "text/plain": [
       "<PIL.PngImagePlugin.PngImageFile image mode=RGBA size=349x159 at 0x7EFC3C985AD0>"
      ]
     },
     "execution_count": 3,
     "metadata": {},
     "output_type": "execute_result"
    }
   ],
   "source": [
    "Image.open('22-NSI-04-2.png')"
   ]
  },
  {
   "cell_type": "markdown",
   "metadata": {},
   "source": [
    "    \n",
    "On souhaite, à partir d’un pixel égal à <code>1</code> dans une image <code>M</code>, donner la valeur <code>val</code> à tous les pixels de la composante à laquelle appartient ce pixel. \n",
    "\n",
    "La  fonction <code>propager</code> prend  pour  paramètre  une  image <code>M</code>,  deux  entiers <code>i</code> et <code>j</code> et  une valeur  entière <code>val</code>.  Elle  met  à  la  valeur <code>val</code> tous  les  pixels  de  la  composante  du  pixel <code>M[i][j]</code> s’il vaut <code>1</code> et ne fait rien s’il vaut <code>0</code>.\n",
    "\n",
    "\n",
    "Par exemple, <code>propager(M,2,1,3)</code> donne "
   ]
  },
  {
   "cell_type": "code",
   "execution_count": 4,
   "metadata": {},
   "outputs": [
    {
     "data": {
      "image/png": "[encoded data removed]",
      "text/plain": [
       "<PIL.PngImagePlugin.PngImageFile image mode=RGBA size=324x153 at 0x7EFC3C993190>"
      ]
     },
     "execution_count": 4,
     "metadata": {},
     "output_type": "execute_result"
    }
   ],
   "source": [
    "Image.open('22-NSI-04-3.png')"
   ]
  },
  {
   "cell_type": "markdown",
   "metadata": {},
   "source": [
    "Compléter le code récursif de la fonction <code>propager</code> donné ci-dessous.\n",
    "\n",
    "\n",
    "*Exemple:*\n",
    "\n",
    "    >>> M = [[0, 0, 1, 0], [0, 1, 0, 1], [1, 1, 1, 0], [0, 1, 1, 0]]\n",
    "    >>> propager(M, 2, 1, 3)\n",
    "    >>> M\n",
    "    [[0, 0, 1, 0], [0, 3, 0, 1], [3, 3, 3, 0], [0, 3, 3, 0]"
   ]
  },
  {
   "cell_type": "code",
   "execution_count": null,
   "metadata": {},
   "outputs": [],
   "source": [
    "def propager(M, i, j, val):\n",
    "    if M[i][j] == ...:\n",
    "        return\n",
    "\n",
    "    M[i][j] = val\n",
    "\n",
    "    # l'élément en haut fait partie de la composante\n",
    "    if ((i-1) >= 0 and M[i-1][j] == ...):\n",
    "        propager(M, i-1, j, val)\n",
    "\n",
    "    # l'élément en bas fait partie de la composante\n",
    "    if ((...) < len(M) and M[i+1][j] == 1):\n",
    "        propager(M, ..., j, val)\n",
    "\n",
    "    # l'élément à gauche fait partie de la composante\n",
    "    if ((...) >= 0 and M[i][j-1] == 1):\n",
    "        propager(M, i, ..., val)\n",
    "\n",
    "    # l'élément à droite fait partie de la composante\n",
    "    if ((...) < len(M) and M[i][j+1] == 1):\n",
    "        propager(M, i, ..., val)"
   ]
  },
  {
   "cell_type": "code",
   "execution_count": null,
   "metadata": {},
   "outputs": [],
   "source": []
  }
 ],
 "metadata": {
  "kernelspec": {
   "display_name": "Python 3",
   "language": "python",
   "name": "python3"
  },
  "language_info": {
   "codemirror_mode": {
    "name": "ipython",
    "version": 3
   },
   "file_extension": ".py",
   "mimetype": "text/x-python",
   "name": "python",
   "nbconvert_exporter": "python",
   "pygments_lexer": "ipython3",
   "version": "3.7.10"
  }
 },
 "nbformat": 4,
 "nbformat_minor": 4
}
