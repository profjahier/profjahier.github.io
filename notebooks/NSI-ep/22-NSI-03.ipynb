{
 "cells": [
  {
   "cell_type": "markdown",
   "metadata": {},
   "source": [
    "<h1 class=\"alert alert-info\">Sujet n°03 session 2022</h1>"
   ]
  },
  {
   "cell_type": "markdown",
   "metadata": {},
   "source": [
    "<h1 class=\"alert alert-success\">Exercice 1</h1>"
   ]
  },
  {
   "cell_type": "markdown",
   "metadata": {},
   "source": [
    "Le codage par différence (*delta encoding* en anglais) permet de compresser un tableau de données en indiquant pour chaque donnée, sa différence avec la précédente (plutôt que la donnée elle-même). On se retrouve alors avec un tableau de données assez petites nécessitant moins de place en mémoire. Cette méthode se révèle efficace lorsque les valeurs consécutives sont proches.\n",
    "\n",
    "Programmer la fonction `delta` qui prend en paramètre un tableau non vide de nombres entiers et qui renvoie un tableau contenant les valeurs entières compressées à l’aide cette technique.\n",
    "\n",
    "*Exemples :*\n",
    "\n",
    "    >>> delta([1000, 800, 802, 1000, 1003])\n",
    "    [1000, -200, 2, 198, 3]\n",
    "    >>> delta([42])\n",
    "    42"
   ]
  },
  {
   "cell_type": "code",
   "execution_count": null,
   "metadata": {},
   "outputs": [],
   "source": []
  },
  {
   "cell_type": "markdown",
   "metadata": {},
   "source": [
    "\n",
    "<h1 class=\"alert alert-success\"> Exercice 2</h1>\n",
    "    "
   ]
  },
  {
   "cell_type": "markdown",
   "metadata": {},
   "source": [
    "Une expression arithmétique ne comportant que les quatre opérations +, −, ×, ÷ peut être représentée sous forme d’arbre binaire. Les nœuds internes sont des opérateurs et les feuilles sont des nombres. Dans un tel arbre, la disposition des nœuds joue le rôle des parenthèses que\n",
    "nous connaissons bien.\n",
    "\n",
    "<img src=\"22-NSI-03.png\" alt =\"arbre de calcul\" width=\"200\">\n",
    "\n",
    "\n",
    "En parcourant en profondeur infixe l’arbre binaire ci-dessus on retrouve l’expression notée habituellement :\n",
    "\n",
    "    3 × (8 + 7) − (2 + 1) \n",
    "    \n",
    "La classe `Noeud` ci-après permet d’implémenter une structure d’arbre binaire.\n",
    "\n",
    "Compléter la fonction récursive `expression_infixe` qui prend en paramètre un objet de la classe `Noeud` et qui renvoie l’expression arithmétique représentée par l’arbre binaire passé en paramètre, sous forme d’une chaîne de caractères contenant des parenthèses.\n",
    "\n",
    "Résultat attendu avec l’arbre ci-dessus :\n",
    "\n",
    "    >>> e = Noeud(Noeud(Noeud(None, 3, None), '*', Noeud(Noeud(None, 8, None),\n",
    "    '+', Noeud(None, 7, None))), '-', Noeud(Noeud(None, 2, None), '+',\n",
    "    Noeud(None, 1, None)))\n",
    "    \n",
    "    >>> expression_infixe(e)\n",
    "    '((3*(8+7))-(2+1))'"
   ]
  },
  {
   "cell_type": "code",
   "execution_count": null,
   "metadata": {},
   "outputs": [],
   "source": [
    "class Noeud:\n",
    "    '''\n",
    "    Classe implémentant un noeud d'arbre binaire disposant de 3\n",
    "    attributs :\n",
    "    - valeur : la valeur de l'étiquette,\n",
    "    - gauche : le sous-arbre gauche.\n",
    "    - droit : le sous-arbre droit.\n",
    "    '''\n",
    "    def __init__(self, g, v, d):\n",
    "        self.gauche = g\n",
    "        self.valeur = v\n",
    "        self.droit = d\n",
    "        \n",
    "    def __str__(self):\n",
    "        return str(self.valeur)\n",
    "        \n",
    "    def est_une_feuille(self):\n",
    "        '''Renvoie True si et seulement si le noeud est une feuille'''\n",
    "        return self.gauche is None and self.droit is None"
   ]
  },
  {
   "cell_type": "markdown",
   "metadata": {},
   "source": [
    "Enoncé d'origine\n",
    "```python\n",
    "def expression_infixe(e):\n",
    "    s = ...\n",
    "    if e.gauche is not None:\n",
    "        s = '(' + s + expression_infixe(...)\n",
    "    s = s + ...\n",
    "    if ... is not None:\n",
    "        s = s + ... + ...\n",
    "    if ...:\n",
    "        return s\n",
    "```\n",
    "Ci-dessous, **mon énoncé modifié**."
   ]
  },
  {
   "cell_type": "code",
   "execution_count": null,
   "metadata": {},
   "outputs": [],
   "source": [
    "def expression_infixe(e):\n",
    "    s = ...\n",
    "    if e.gauche is not None:\n",
    "        s = '(' + s + expression_infixe(...)\n",
    "    s = s + ...\n",
    "    if ... is not None:\n",
    "        s = s + ... + ...\n",
    "    return s"
   ]
  },
  {
   "cell_type": "code",
   "execution_count": null,
   "metadata": {},
   "outputs": [],
   "source": []
  }
 ],
 "metadata": {
  "kernelspec": {
   "display_name": "Python 3",
   "language": "python",
   "name": "python3"
  },
  "language_info": {
   "codemirror_mode": {
    "name": "ipython",
    "version": 3
   },
   "file_extension": ".py",
   "mimetype": "text/x-python",
   "name": "python",
   "nbconvert_exporter": "python",
   "pygments_lexer": "ipython3",
   "version": "3.7.10"
  }
 },
 "nbformat": 4,
 "nbformat_minor": 4
}
