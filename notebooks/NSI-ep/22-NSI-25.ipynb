{
 "cells": [
  {
   "cell_type": "markdown",
   "metadata": {},
   "source": [
    "<h1 class=\"alert alert-info\">Sujet n°25 session 2022</h1>"
   ]
  },
  {
   "cell_type": "markdown",
   "metadata": {},
   "source": [
    "<h1 class=\"alert alert-success\">Exercice 1</h1>"
   ]
  },
  {
   "cell_type": "markdown",
   "metadata": {},
   "source": [
    "On considère des tables (des tableaux de dictionnaires) qui contiennent des enregistrements\n",
    "relatifs à des animaux hébergés dans un refuge. Les attributs des enregistrements sont\n",
    "`'nom'`, `'espece'`, `'age'`, `'enclos'`. \n",
    "\n",
    "Voici un exemple d'une telle table :\n",
    "\n",
    "    animaux = [ {'nom':'Medor','espece':'chien','age':5,'enclos':2},\n",
    "    {'nom':'Titine','espece':'chat','age':2,'enclos':5},\n",
    "    {'nom':'Tom', 'espece':'chat','age':7,'enclos':4},\n",
    "    {'nom':'Belle','espece':'chien','age':6,'enclos':3},\n",
    "    {'nom':'Mirza','espece':'chat','age':6, 'enclos':5}]\n",
    "         \n",
    "         \n",
    "Programmer une fonction `selection_enclos` qui :\n",
    "- prend en paramètres :\n",
    "    - une table `table_animaux` contenant des enregistrements relatifs à des\n",
    "    animaux (comme dans l'exemple ci-dessus),\n",
    "    - un numéro d'enclos `num_enclos` ;\n",
    "- renvoie une table contenant les enregistrements de `table_animaux` dont l'attribut `'enclos'` est `num_enclos`.\n",
    "\n",
    "*Exemples avec la table `animaux` ci-dessus :*\n",
    "\n",
    "    >>> selection_enclos(animaux, 5)\n",
    "    [{'nom':'Titine', 'espece':'chat','age':2, 'enclos':5},\n",
    "    {'nom':'Mirza', 'espece':'chat','age':6, 'enclos':5}]\n",
    "    >>> selection_enclos(animaux, 2)\n",
    "    [{'nom':'Medor', 'espece':'chien', 'age':5, 'enclos':2}]\n",
    "    >>> selection_enclos(animaux, 7)\n",
    "    []"
   ]
  },
  {
   "cell_type": "code",
   "execution_count": null,
   "metadata": {},
   "outputs": [],
   "source": []
  },
  {
   "cell_type": "markdown",
   "metadata": {},
   "source": [
    "<h1 class=\"alert alert-success\"> Exercice 2</h1>"
   ]
  },
  {
   "cell_type": "markdown",
   "metadata": {},
   "source": [
    "On considère des tableaux de nombres dont tous les éléments sont présents exactement trois fois et à suivre, sauf un élément qui est présent une unique fois et que l'on appelle «l'intrus». Voici quelques exemples :\n",
    "\n",
    "    tab_a = [3, 3, 3, 9, 9, 9, 1, 1, 1, 7, 2, 2, 2, 4, 4, 4, 8, 8, 8, 5, 5, 5]\n",
    "    #l'intrus est 7\n",
    "    tab_b = [8, 5, 5, 5, 9, 9, 9, 18, 18, 18, 3, 3, 3]\n",
    "    #l'intrus est 8\n",
    "    tab_c = [5, 5, 5, 1, 1, 1, 0, 0, 0, 6, 6, 6, 3, 8, 8, 8]\n",
    "    #l'intrus est 3\n",
    "    \n",
    "    \n",
    "On remarque qu'avec de tels tableaux :\n",
    "\n",
    "- pour les indices multiples de 3 situés strictement avant l'intrus, l'élément correspondant et son voisin de droite sont égaux,\n",
    "- pour les indices multiples de 3 situés après l'intrus, l'élément correspondant et son voisin de droite - s'il existe - sont différents.\n",
    "\n",
    "Ce que l'on peut observer ci-dessous en observant les valeurs des paires de voisins marquées par des caractères ^ :\n",
    "\n",
    "```\n",
    "[3, 3, 3, 9, 9, 9, 1, 1, 1, 7, 2, 2, 2, 4, 4, 4, 8, 8, 8, 5, 5, 5]\n",
    " ^ ^      ^  ^     ^  ^     ^  ^     ^  ^     ^  ^     ^  ^     ^\n",
    " 0        3        6        9       12       15       18        21\n",
    "```\n",
    "\n",
    "Dans des listes comme celles ci-dessus, un algorithme récursif pour trouver l'intrus consiste alors à choisir un indice `i` multiple de 3 situé approximativement au milieu des indices parmi lesquels se trouve l'intrus.\n",
    "\n",
    "Puis, en fonction des valeurs de l'élément d'indice `i` et de son voisin de droite, à appliquer récursivement l'algorithme à la  moitié droite ou à la moitié gauche des indices parmi lesquels se trouve l'intrus.\n",
    "\n",
    "Compléter la fonction ci-dessous qui met en œuvre cet algorithme."
   ]
  },
  {
   "cell_type": "code",
   "execution_count": null,
   "metadata": {},
   "outputs": [],
   "source": [
    "def trouver_intrus(tab, g, d):\n",
    "    '''\n",
    "    Renvoie la valeur de l'intrus situé entre les indices g et d\n",
    "    dans la liste tab où :\n",
    "    tab vérifie les conditions de l'exercice,\n",
    "    g et d sont des multiples de 3.\n",
    "    '''\n",
    "    if g == d:\n",
    "        return ...\n",
    "    \n",
    "    else:\n",
    "        nombre_de_triplets = (d - g) // ...\n",
    "        indice = g + 3 * (nombre_de_triplets // 2)\n",
    "        if ... :\n",
    "            return ...\n",
    "        else:\n",
    "            return ..."
   ]
  },
  {
   "cell_type": "markdown",
   "metadata": {},
   "source": [
    "*Exemples :*\n",
    "\n",
    "    >>> trouver_intrus([3, 3, 3, 9, 9, 9, 1, 1, 1, 7, 2, 2, 2, 4, 4, 4, 8, 8,\n",
    "    8, 5, 5, 5], 0, 21)\n",
    "    7\n",
    "    >>> trouver_intrus([8, 5, 5, 5, 9, 9, 9, 18, 18, 18, 3, 3, 3], 0, 12)\n",
    "    8\n",
    "    >>> trouver_intrus([5, 5, 5, 1, 1, 1, 0, 0, 0, 6, 6, 6, 3, 8, 8, 8], 0, 15)\n",
    "    3"
   ]
  },
  {
   "cell_type": "code",
   "execution_count": null,
   "metadata": {},
   "outputs": [],
   "source": []
  }
 ],
 "metadata": {
  "kernelspec": {
   "display_name": "Python 3",
   "language": "python",
   "name": "python3"
  },
  "language_info": {
   "codemirror_mode": {
    "name": "ipython",
    "version": 3
   },
   "file_extension": ".py",
   "mimetype": "text/x-python",
   "name": "python",
   "nbconvert_exporter": "python",
   "pygments_lexer": "ipython3",
   "version": "3.7.10"
  }
 },
 "nbformat": 4,
 "nbformat_minor": 4
}
