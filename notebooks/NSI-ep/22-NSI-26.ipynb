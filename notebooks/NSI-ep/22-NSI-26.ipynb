{
 "cells": [
  {
   "cell_type": "markdown",
   "metadata": {},
   "source": [
    "<h1 class=\"alert alert-info\">Sujet n°26 session 2022</h1>"
   ]
  },
  {
   "cell_type": "markdown",
   "metadata": {},
   "source": [
    "<h1 class=\"alert alert-success\">Exercice 1</h1>"
   ]
  },
  {
   "cell_type": "markdown",
   "metadata": {},
   "source": [
    "Écrire une fonction <code>RechercheMin</code> qui prend en paramètre un tableau de nombres non trié <code>tab</code>, et qui renvoie l'indice de la première occurrence du minimum de ce tableau.\n",
    "\n",
    "Les tableaux seront représentés sous forme de liste Python.\n",
    "\n",
    "*Exemples:*\n",
    "\n",
    "    >>> RechercheMin([5])\n",
    "    0\n",
    "    >>> RechercheMin([2, 4, 1])\n",
    "    2\n",
    "    >>> RechercheMin([5, 3, 2, 2, 4])\n",
    "    2"
   ]
  },
  {
   "cell_type": "code",
   "execution_count": null,
   "metadata": {},
   "outputs": [],
   "source": []
  },
  {
   "cell_type": "markdown",
   "metadata": {},
   "source": [
    "<h1 class=\"alert alert-success\">Exercice 2</h1>"
   ]
  },
  {
   "cell_type": "markdown",
   "metadata": {},
   "source": [
    "On considère la fonction <code>separe</code> ci-dessous qui prend en argument un tableau <code>tab</code> dont les éléments sont des <code>0</code> et des <code>1</code> et qui sépare les <code>0</code> des <code>1</code> en plaçant les <code>0</code> en début de tableau et les <code>1</code> à la suite.\n",
    "    \n",
    "*Exemples:*\n",
    "    \n",
    "    >>> separe([1,0,1,0,1,0,1,0])\n",
    "    [0, 0, 0, 0, 1, 1, 1, 1]\n",
    "    >>> separe([1,0,0,0,1,1,0,1,1,0,1,0,1,1,1,0])\n",
    "    [0, 0, 0, 0, 0, 0, 0, 1, 1, 1, 1, 1, 1, 1, 1, 1]\n",
    "    \n",
    "Compléter la fonction `separe` ci-dessus."
   ]
  },
  {
   "cell_type": "code",
   "execution_count": null,
   "metadata": {},
   "outputs": [],
   "source": [
    "def separe(tab):\n",
    "    i = 0\n",
    "    j = ...\n",
    "    while i < j :\n",
    "        if tab[i] == 0 :\n",
    "            i = ...\n",
    "        else :\n",
    "            tab[i], tab[j] = ...\n",
    "            j = ...\n",
    "    return tab"
   ]
  },
  {
   "cell_type": "code",
   "execution_count": null,
   "metadata": {},
   "outputs": [],
   "source": []
  }
 ],
 "metadata": {
  "kernelspec": {
   "display_name": "Python 3",
   "language": "python",
   "name": "python3"
  },
  "language_info": {
   "codemirror_mode": {
    "name": "ipython",
    "version": 3
   },
   "file_extension": ".py",
   "mimetype": "text/x-python",
   "name": "python",
   "nbconvert_exporter": "python",
   "pygments_lexer": "ipython3",
   "version": "3.7.10"
  }
 },
 "nbformat": 4,
 "nbformat_minor": 4
}
