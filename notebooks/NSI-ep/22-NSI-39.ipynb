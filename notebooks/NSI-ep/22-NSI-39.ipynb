{
 "cells": [
  {
   "cell_type": "markdown",
   "metadata": {},
   "source": [
    "<h1 class=\"alert alert-info\">Sujet n°39 session 2022</h1>"
   ]
  },
  {
   "cell_type": "markdown",
   "metadata": {},
   "source": [
    "<h1 class=\"alert alert-success\">Exercice 1</h1>"
   ]
  },
  {
   "cell_type": "markdown",
   "metadata": {},
   "source": [
    "Écrire une fonction <code>moyenne</code> prenant en paramètres une liste d’entiers et qui renvoie la moyenne des valeurs de cette liste.\n",
    "\n",
    "*Exemple:*\n",
    "\n",
    "    >>> moyenne([10,20,30,40,60,110])\n",
    "    45.0"
   ]
  },
  {
   "cell_type": "code",
   "execution_count": null,
   "metadata": {},
   "outputs": [],
   "source": []
  },
  {
   "cell_type": "markdown",
   "metadata": {},
   "source": [
    "<h1 class=\"alert alert-success\">Exercice 2</h1>"
   ]
  },
  {
   "cell_type": "code",
   "execution_count": 3,
   "metadata": {},
   "outputs": [],
   "source": [
    "from PIL import Image"
   ]
  },
  {
   "cell_type": "markdown",
   "metadata": {},
   "source": [
    "On travaille sur des dessins en noir et blanc obtenu à partir de pixels noirs et blancs :\n",
    "La figure «cœur» ci-dessous va servir d’exemple."
   ]
  },
  {
   "cell_type": "code",
   "execution_count": 4,
   "metadata": {},
   "outputs": [
    {
     "data": {
      "image/png": "[encoded data removed]",
      "text/plain": [
       "<PIL.PngImagePlugin.PngImageFile image mode=RGBA size=320x237 at 0x7FE5FC120A90>"
      ]
     },
     "execution_count": 4,
     "metadata": {},
     "output_type": "execute_result"
    }
   ],
   "source": [
    "Image.open('22-NSI-39.png')"
   ]
  },
  {
   "cell_type": "markdown",
   "metadata": {},
   "source": [
    "On  la  représente  par  une  grille  de  nombres,  c’est-à-dire par   une   liste   composée   de   sous-listes   de   mêmes longueurs.\n",
    "Chaque sous-liste représentera donc une ligne du dessin.\n",
    "\n",
    "Dans le code ci-dessous, la fonction <code>affiche</code> permet d’afficher le dessin. Les pixels noirs (1 dans la grille) seront représentés par le caractère \"*\" et les blancs (0 dans la grille) par deux espaces. \n",
    "\n",
    "La fonction <code>zoomListe</code> prend en argument une liste <code>liste_depart</code> et un entier <code>k</code>. Elle renvoie une liste où chaque élément de <code>liste_depart</code> est dupliqué <code>k</code> fois.\n",
    "\n",
    "La fonction <code>zoomDessin</code> prend en argument la grille <code>dessin</code> et renvoie une grille où toutes les lignes de dessin sont zoomées <code>k</code> fois et répétées <code>k</code> fois.\n",
    "\n",
    "\n",
    "*Résultats à obtenir:*\n",
    "\n",
    "    >>> affiche(coeur)\n",
    "\n",
    "           * *       * *      \n",
    "         *     *   *     *    \n",
    "       *         *         *  \n",
    "       *                   *  \n",
    "       *                   *  \n",
    "         *               *    \n",
    "           *           *      \n",
    "             *       *        \n",
    "               *   *          \n",
    "                 *            \n",
    "                          \n",
    "\n",
    "    >>> affiche(zoomDessin(coeur,3))\n",
    "    \n",
    "                                                                                \n",
    "                   * * * * * *                   * * * * * *                  \n",
    "                   * * * * * *                   * * * * * *                  \n",
    "                   * * * * * *                   * * * * * *                  \n",
    "             * * *             * * *       * * *             * * *            \n",
    "             * * *             * * *       * * *             * * *            \n",
    "             * * *             * * *       * * *             * * *            \n",
    "       * * *                         * * *                         * * *      \n",
    "       * * *                         * * *                         * * *      \n",
    "       * * *                         * * *                         * * *      \n",
    "       * * *                                                       * * *      \n",
    "       * * *                                                       * * *      \n",
    "       * * *                                                       * * *      \n",
    "       * * *                                                       * * *      \n",
    "       * * *                                                       * * *      \n",
    "       * * *                                                       * * *      \n",
    "             * * *                                           * * *            \n",
    "             * * *                                           * * *            \n",
    "             * * *                                           * * *            \n",
    "                   * * *                               * * *                  \n",
    "                   * * *                               * * *                  \n",
    "                   * * *                               * * *                  \n",
    "                         * * *                   * * *                        \n",
    "                         * * *                   * * *                        \n",
    "                         * * *                   * * *                        \n",
    "                               * * *       * * *                              \n",
    "                               * * *       * * *                              \n",
    "                               * * *       * * *                              \n",
    "                                     * * *                                    \n",
    "                                     * * *                                    \n",
    "                                     * * *                                    "
   ]
  },
  {
   "cell_type": "code",
   "execution_count": 1,
   "metadata": {},
   "outputs": [],
   "source": [
    "coeur = [[0, 0, 0, 0, 0, 0, 0, 0, 0, 0, 0, 0, 0], \\\n",
    "         [0, 0, 0, 1, 1, 0, 0, 0, 1, 1, 0, 0, 0], \\\n",
    "         [0, 0, 1, 0, 0, 1, 0, 1, 0, 0, 1, 0, 0], \\\n",
    "         [0, 1, 0, 0, 0, 0, 1, 0, 0, 0, 0, 1, 0], \\\n",
    "         [0, 1, 0, 0, 0, 0, 0, 0, 0, 0, 0, 1, 0], \\\n",
    "         [0, 1, 0, 0, 0, 0, 0, 0, 0, 0, 0, 1, 0], \\\n",
    "         [0, 0, 1, 0, 0, 0, 0, 0, 0, 0, 1, 0, 0], \\\n",
    "         [0, 0, 0, 1, 0, 0, 0, 0, 0, 1, 0, 0, 0], \\\n",
    "         [0, 0, 0, 0, 1, 0, 0, 0, 1, 0, 0, 0, 0], \\\n",
    "         [0, 0, 0, 0, 0, 1, 0, 1, 0, 0, 0, 0, 0], \\\n",
    "         [0, 0, 0, 0, 0, 0, 1, 0, 0, 0, 0, 0, 0], \\\n",
    "         [0, 0, 0, 0, 0, 0, 0, 0, 0, 0, 0, 0, 0]]\n",
    "\n",
    "def affiche(dessin):\n",
    "    ''' affichage d'une grille : les 1 sont représentés par \n",
    "        des \"*\" , les 0 par deux espaces \"  \" '''\n",
    "    for ligne in dessin:\n",
    "        for col in ligne:\n",
    "            if col == 1:\n",
    "                print(\" *\",end=\"\")\n",
    "            else:\n",
    "                print(\"  \",end=\"\")\n",
    "        print()\n",
    "\n",
    "def zoomListe(liste_depart, k):\n",
    "    '''renvoie une liste contenant k fois chaque \n",
    "       élément de liste_depart'''\n",
    "    liste_zoom = ...\n",
    "    for elt in ... :\n",
    "        for i in range(k):\n",
    "            ...\n",
    "    return liste_zoom\n",
    "\n",
    "def zoomDessin(grille, k):\n",
    "    '''renvoie une grille où les lignes sont zoomées k fois \n",
    "       ET répétées k fois'''\n",
    "    grille_zoom = []\n",
    "    for elt in grille:\n",
    "        liste_zoom = ...\n",
    "        for i in range(k):\n",
    "            ... .append(...)\n",
    "    return grille_zoom"
   ]
  },
  {
   "cell_type": "code",
   "execution_count": null,
   "metadata": {},
   "outputs": [],
   "source": []
  }
 ],
 "metadata": {
  "kernelspec": {
   "display_name": "Python 3",
   "language": "python",
   "name": "python3"
  },
  "language_info": {
   "codemirror_mode": {
    "name": "ipython",
    "version": 3
   },
   "file_extension": ".py",
   "mimetype": "text/x-python",
   "name": "python",
   "nbconvert_exporter": "python",
   "pygments_lexer": "ipython3",
   "version": "3.7.10"
  }
 },
 "nbformat": 4,
 "nbformat_minor": 4
}
