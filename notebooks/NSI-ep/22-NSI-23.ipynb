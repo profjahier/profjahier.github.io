{
 "cells": [
  {
   "cell_type": "markdown",
   "metadata": {},
   "source": [
    "<h1 class=\"alert alert-info\">Sujet n°23 session 2022</h1>"
   ]
  },
  {
   "cell_type": "markdown",
   "metadata": {},
   "source": [
    "<h1 class=\"alert alert-success\">Exercice 1</h1>"
   ]
  },
  {
   "cell_type": "markdown",
   "metadata": {},
   "source": [
    "Sur le réseau social TipTop, on s’intéresse au nombre de « like » des abonnés.\n",
    "Les données sont stockées dans des dictionnaires où les clés sont les pseudos et les valeurs correspondantes sont les nombres de « like » comme ci-dessous :\n",
    "\n",
    "    {'Bob': 102, 'Ada': 201, 'Alice': 103, 'Tim': 50}\n",
    "    \n",
    "Écrire une fonction `max_dico` qui :\n",
    "- Prend en paramètre un dictionnaire dico non vide dont les clés sont des chaînes de caractères et les valeurs associées sont des entiers;\n",
    "- Renvoie un tuple dont :\n",
    "    - La première valeur est la clé du dictionnaire associée à la valeur maximale;\n",
    "    - La seconde valeur est la première valeur maximale présente dans le dictionnaire.\n",
    "    \n",
    "    \n",
    "*Exemples :*\n",
    "\n",
    "    >>> max_dico({'Bob': 102, 'Ada': 201, 'Alice': 103, 'Tim': 50})\n",
    "    ('Ada', 201)\n",
    "    \n",
    "    >>> max_dico({'Alan': 222, 'Ada': 201, 'Eve': 220, 'Tim': 50})\n",
    "    ('Alan', 222)"
   ]
  },
  {
   "cell_type": "code",
   "execution_count": null,
   "metadata": {},
   "outputs": [],
   "source": []
  },
  {
   "cell_type": "markdown",
   "metadata": {},
   "source": [
    "<h1 class=\"alert alert-success\"> Exercice 2</h1>"
   ]
  },
  {
   "cell_type": "markdown",
   "metadata": {},
   "source": [
    "Nous avons l’habitude de noter les expressions arithmétiques avec des parenthèses comme par exemple : (2 + 3) × 5.\n",
    "\n",
    "Il existe une autre notation utilisée par certaines calculatrices, appelée notation postfixe, qui n’utilise pas de parenthèses. L’expression arithmétique précédente est alors obtenue en saisissant successivement 2, puis 3, puis l’opérateur +, puis 5, et enfin l’opérateur ×. On modélise cette saisie par le tableau `[2, 3, '+', 5, '*']`.\n",
    "\n",
    "Autre exemple, la notation postfixe de 3 × 2 + 5 est modélisée par le tableau :\n",
    "\n",
    "    [3, 2, '*', 5, '+'].\n",
    "    \n",
    "D’une manière plus générale, la valeur associée à une expression arithmétique en notation postfixe est déterminée à l’aide d’une pile en parcourant l’expression arithmétique de gauche à droite de la façon suivante :\n",
    "- Si l’élément parcouru est un nombre, on le place au sommet de la pile ;\n",
    "- Si l’élément parcouru est un opérateur, on récupère les deux éléments situés au sommet de la pile et on leur applique l’opérateur. On place alors le résultat au sommet de la pile.\n",
    "- A la fin du parcours, il reste alors un seul élément dans la pile qui est le résultat de l’expression arithmétique.\n",
    "\n",
    "Dans le cadre de cet exercice, on se limitera aux opérations × et +.\n",
    "\n",
    "Pour cet exercice, on dispose d’une classe `Pile` qui implémente les méthodes de base sur la structure de pile.\n",
    "\n",
    "Compléter le script de la fonction eval_expression qui reçoit en paramètre une liste python représentant la notation postfixe d’une expression arithmétique et qui renvoie sa valeur associée.\n",
    "\n",
    "*Exemple *:\n",
    "\n",
    "    >>> eval_expression([2, 3, '+', 5, '*'])\n",
    "    25"
   ]
  },
  {
   "cell_type": "code",
   "execution_count": null,
   "metadata": {},
   "outputs": [],
   "source": [
    "class Pile:\n",
    "    \"\"\"Classe définissant une structure de pile.\"\"\"\n",
    "    \n",
    "    def __init__(self):\n",
    "        self.contenu = []\n",
    "        \n",
    "    def est_vide(self):\n",
    "        \"\"\"\n",
    "        Renvoie le booléen True si la pile est vide, False sinon.\n",
    "        \"\"\"\n",
    "        return self.contenu == []\n",
    "    \n",
    "    def empiler(self, v):\n",
    "        \"\"\"Place l’élément v au sommet de la pile.\"\"\"\n",
    "        self.contenu.append(v)\n",
    "        \n",
    "    def depiler(self):\n",
    "        \"\"\"\n",
    "        Retire et renvoie l’élément placé au sommet de la pile,\n",
    "        si la pile n’est pas vide.\n",
    "        \"\"\"\n",
    "        if not self.est_vide():\n",
    "            return self.contenu.pop()\n",
    "    \n",
    "    def eval_expression(tab):\n",
    "        p = Pile()\n",
    "        for ... in tab:\n",
    "            if element != '+' ... element != '*':\n",
    "                p.empiler(...)\n",
    "            else:\n",
    "                if element == ...:\n",
    "                    resultat = p.depiler() + ...\n",
    "                else:\n",
    "                    resultat = ...\n",
    "            p.empiler(...)\n",
    "        return ..."
   ]
  },
  {
   "cell_type": "code",
   "execution_count": null,
   "metadata": {},
   "outputs": [],
   "source": []
  }
 ],
 "metadata": {
  "kernelspec": {
   "display_name": "Python 3",
   "language": "python",
   "name": "python3"
  },
  "language_info": {
   "codemirror_mode": {
    "name": "ipython",
    "version": 3
   },
   "file_extension": ".py",
   "mimetype": "text/x-python",
   "name": "python",
   "nbconvert_exporter": "python",
   "pygments_lexer": "ipython3",
   "version": "3.7.10"
  }
 },
 "nbformat": 4,
 "nbformat_minor": 4
}
