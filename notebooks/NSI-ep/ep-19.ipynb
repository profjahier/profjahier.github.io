{
 "cells": [
  {
   "cell_type": "markdown",
   "metadata": {},
   "source": [
    "<h1 class=\"alert alert-success\">Exercice 1</h1>"
   ]
  },
  {
   "cell_type": "markdown",
   "metadata": {},
   "source": [
    "Écrire  une  fonction <code>recherche</code> qui  prend  en  paramètres un  tableau <code>tab</code> de  nombres entiers triés  par  ordre  croissant  et  un  nombre entier <code>n</code>,  et  qui effectue  une  recherche dichotomique du nombre entier <code>n</code> dans le tableau non vide <code>tab</code>. Cette fonction doit renvoyer un indice correspondant au nombre cherché s’il est dans le tableau, <code>-1</code> sinon.\n",
    "\n",
    "*Exemples:*\n",
    "\n",
    "    >>> recherche([2, 3, 4, 5, 6], 5)\n",
    "    3\n",
    "    >>> recherche([2, 3, 4, 6, 7], 5)\n",
    "    -1\n"
   ]
  },
  {
   "cell_type": "code",
   "execution_count": null,
   "metadata": {},
   "outputs": [],
   "source": [
    "# votre code ci-dessous\n"
   ]
  },
  {
   "cell_type": "code",
   "execution_count": null,
   "metadata": {},
   "outputs": [],
   "source": [
    "recherche([2, 3, 4, 5, 6], 5)"
   ]
  },
  {
   "cell_type": "code",
   "execution_count": null,
   "metadata": {},
   "outputs": [],
   "source": [
    "recherche([2, 3, 4, 6, 7], 5)"
   ]
  },
  {
   "cell_type": "markdown",
   "metadata": {},
   "source": [
    "<h1 class=\"alert alert-success\">Exercice 2</h1>"
   ]
  },
  {
   "cell_type": "markdown",
   "metadata": {},
   "source": [
    "Le codage de César transforme un message en changeant chaque lettre en la décalant dans l’alphabet.\n",
    "\n",
    "Par exemple, avec un décalage de 3, le A se transforme en D, le B en E, ..., le X en A, le Y en B et le Z en C. \n",
    "Les autres caractères (‘!’,’?’...) ne sont pas codés. \n",
    "\n",
    "La fonction <code>position_alphabet</code> ci-dessous prend en paramètre un caractère <code>lettre</code> et renvoie la position de <code>lettre</code> dans la chaîne de caractères <code>ALPHABET</code> s’il s’y trouve et <code>-1</code> sinon. \n",
    "\n",
    "La fonction <code>cesar</code> prend en paramètre une chaîne de caractères <code>message</code> et un nombre entier <code>decalage</code> et renvoie le nouveau message codé avec le codage de César utilisant le décalage <code>decalage</code>.\n",
    "\n",
    "Compléter la fonctioncesar.\n",
    "\n",
    "*Exemples:*\n",
    "\n",
    "    >>> cesar('BONJOUR A TOUS. VIVE LA MATIERE NSI !',4)\n",
    "    'FSRNSYV E XSYW. ZMZI PE QEXMIVI RWM !'\n",
    "    >>> cesar('GTSOTZW F YTZX. ANAJ QF RFYNJWJ SXN !',-5)\n",
    "    'BONJOUR A TOUS. VIVE LA MATIERE NSI !'\n"
   ]
  },
  {
   "cell_type": "code",
   "execution_count": null,
   "metadata": {},
   "outputs": [],
   "source": [
    "ALPHABET = 'ABCDEFGHIJKLMNOPQRSTUVWXYZ'\n",
    "\n",
    "def position_alphabet(lettre):\n",
    "    return ALPHABET.find(lettre)\n",
    "\n",
    "def cesar(message, decalage):\n",
    "    resultat = ''\n",
    "    for ... in message :\n",
    "        if lettre in ALPHABET :\n",
    "            indice = (...)%26\n",
    "            resultat = resultat + ALPHABET[indice]\n",
    "        else:\n",
    "            resultat = ...\n",
    "    return resultat"
   ]
  },
  {
   "cell_type": "code",
   "execution_count": null,
   "metadata": {},
   "outputs": [],
   "source": [
    "cesar('BONJOUR A TOUS. VIVE LA MATIERE NSI !', 4)"
   ]
  },
  {
   "cell_type": "code",
   "execution_count": null,
   "metadata": {},
   "outputs": [],
   "source": [
    "cesar('GTSOTZW F YTZX. ANAJ QF RFYNJWJ SXN !', -5)"
   ]
  },
  {
   "cell_type": "code",
   "execution_count": null,
   "metadata": {},
   "outputs": [],
   "source": []
  }
 ],
 "metadata": {
  "kernelspec": {
   "display_name": "Python 3",
   "language": "python",
   "name": "python3"
  },
  "language_info": {
   "codemirror_mode": {
    "name": "ipython",
    "version": 3
   },
   "file_extension": ".py",
   "mimetype": "text/x-python",
   "name": "python",
   "nbconvert_exporter": "python",
   "pygments_lexer": "ipython3",
   "version": "3.7.10"
  }
 },
 "nbformat": 4,
 "nbformat_minor": 4
}
