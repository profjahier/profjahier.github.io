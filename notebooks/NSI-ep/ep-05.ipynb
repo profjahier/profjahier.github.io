{
 "cells": [
  {
   "cell_type": "markdown",
   "metadata": {},
   "source": [
    "<h1 class=\"alert alert-success\"> Exercice 1</h1>"
   ]
  },
  {
   "cell_type": "markdown",
   "metadata": {},
   "source": [
    "On modélise la représentation binaire d'un entier non signé par un tableau d'entiers dont les éléments sont 0 ou 1. \n",
    "\n",
    "Par exemple, le tableau [1, 0, 1, 0, 0, 1, 1] représente l'écriture binaire de l'entier dont l'écriture décimale est :\n",
    "\n",
    "        2**6 + 2**4 + 2**1 + 2**0 = 83\n",
    "\n",
    "\n",
    "À l'aide   d'un   parcours   séquentiel,   écrire   la   fonction convertir répondant   aux spécifications suivantes.\n",
    "\n",
    "*Exemple :*\n",
    "\n",
    "    >>> convertir([1, 0, 1, 0, 0, 1, 1])\n",
    "    83\n",
    "    >>> convertir([1, 0, 0, 0, 0, 0, 1, 0])\n",
    "    130  "
   ]
  },
  {
   "cell_type": "code",
   "execution_count": null,
   "metadata": {},
   "outputs": [],
   "source": [
    "# votre code ci-dessous :      \n",
    "    "
   ]
  },
  {
   "cell_type": "code",
   "execution_count": null,
   "metadata": {},
   "outputs": [],
   "source": [
    "convertir([1, 0, 1, 0, 0, 1, 1])"
   ]
  },
  {
   "cell_type": "code",
   "execution_count": null,
   "metadata": {},
   "outputs": [],
   "source": [
    "convertir([1, 0, 0, 0, 0, 0, 1, 0])"
   ]
  },
  {
   "cell_type": "markdown",
   "metadata": {},
   "source": [
    "<h1 class=\"alert alert-success\"> Exercice 2</h1>"
   ]
  },
  {
   "cell_type": "markdown",
   "metadata": {},
   "source": [
    "La fonction <code>tri_insertion</code> suivante prend en argument une liste <code>L</code> et trie cette liste en utilisant la méthode du tri par insertion. Compléter cette fonction pour qu'elle réponde à la spécification demandée.\n",
    "\n",
    "*Exemples:*\n",
    "    \n",
    "    >>> tri_insertion([2,5,-1,7,0,28])\n",
    "    [-1, 0, 2, 5, 7, 28]\n",
    "    >>> tri_insertion([10,9,8,7,6,5,4,3,2,1,0])\n",
    "    [0, 1, 2, 3, 4, 5, 6, 7, 8, 9, 10]"
   ]
  },
  {
   "cell_type": "code",
   "execution_count": null,
   "metadata": {},
   "outputs": [],
   "source": [
    "def tri_insertion(L):\n",
    "    n = len(L)\n",
    "\n",
    "    # cas du tableau vide\n",
    "    if ...:\n",
    "        return L\n",
    "\n",
    "    for j in range(1, n):\n",
    "        e = L[j]\n",
    "        i = j\n",
    "\n",
    "    # A l'étape j, le sous-tableau L[0, j-1] est trié\n",
    "    # et on insère L[j] dans ce sous-tableau en déterminant\n",
    "    # le plus petit i tel que 0 <= i <= j et L[i-1] > L[j].\n",
    "        while  i > 0 and L[i-1] > ...:\n",
    "            i = ...\n",
    "        \n",
    "        # si i != j, on décale le sous tableau L[i,j-1] d’un cran\n",
    "        # vers la droite et on place L[j] en position i\n",
    "        if i != j:\n",
    "            for k in range(j, i, ...):\n",
    "                L[k] = L[...]\n",
    "            L[i] = ...\n",
    "    return L"
   ]
  },
  {
   "cell_type": "code",
   "execution_count": null,
   "metadata": {},
   "outputs": [],
   "source": [
    "tri_insertion([2,5,-1,7,0,28])"
   ]
  },
  {
   "cell_type": "code",
   "execution_count": null,
   "metadata": {},
   "outputs": [],
   "source": [
    "tri_insertion([10,9,8,7,6,5,4,3,2,1,0])"
   ]
  },
  {
   "cell_type": "code",
   "execution_count": null,
   "metadata": {},
   "outputs": [],
   "source": []
  }
 ],
 "metadata": {
  "kernelspec": {
   "display_name": "Python 3",
   "language": "python",
   "name": "python3"
  },
  "language_info": {
   "codemirror_mode": {
    "name": "ipython",
    "version": 3
   },
   "file_extension": ".py",
   "mimetype": "text/x-python",
   "name": "python",
   "nbconvert_exporter": "python",
   "pygments_lexer": "ipython3",
   "version": "3.7.5"
  }
 },
 "nbformat": 4,
 "nbformat_minor": 4
}
