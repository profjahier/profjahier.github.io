{
 "cells": [
  {
   "cell_type": "markdown",
   "metadata": {},
   "source": [
    "<h1 class=\"alert alert-info\">Sujet n°37 session 2022</h1>"
   ]
  },
  {
   "cell_type": "markdown",
   "metadata": {},
   "source": [
    "<h1 class=\"alert alert-success\">Exercice 1</h1>"
   ]
  },
  {
   "cell_type": "markdown",
   "metadata": {},
   "source": [
    "Programmer la fonction `verifie` qui prend en paramètre un tableau de valeurs numériques non vide et qui renvoie `True` si ce tableau est trié dans l’ordre croissant, `False` sinon.\n",
    "\n",
    "*Exemples :*\n",
    "\n",
    "    >>> verifie([0, 5, 8, 8, 9])\n",
    "    True\n",
    "    >>> verifie([8, 12, 4])\n",
    "    False\n",
    "    >>> verifie([-1, 4])\n",
    "    True\n",
    "    >>> verifie([5])\n",
    "    True"
   ]
  },
  {
   "cell_type": "code",
   "execution_count": null,
   "metadata": {},
   "outputs": [],
   "source": []
  },
  {
   "cell_type": "markdown",
   "metadata": {},
   "source": [
    "<h1 class=\"alert alert-success\"> Exercice 2</h1>"
   ]
  },
  {
   "cell_type": "markdown",
   "metadata": {},
   "source": [
    "Chaque soir, les auditeurs d’une radio votent en ligne pour leur artiste favori. Ces votes sont stockés dans un tableau.\n",
    "\n",
    "*Exemple :*\n",
    "\n",
    "    urne = ['Oreilles sales', 'Oreilles sales', 'Oreilles sales', 'Extra Vomit',\n",
    "    'Lady Baba', 'Extra Vomit', 'Lady Baba', 'Extra Vomit', 'Lady Baba', 'Extra\n",
    "    Vomit']\n",
    "    \n",
    "La fonction `depouille` doit permettre de compter le nombre de votes exprimés pour chaque artiste. Elle prend en paramètre un tableau et renvoie le résultat dans un dictionnaire dont les clés sont les noms des artistes et les valeurs le nombre de votes en leur faveur.\n",
    "\n",
    "La fonction `vainqueur` doit désigner le nom du ou des gagnants. Elle prend en paramètre un\n",
    "dictionnaire dont la structure est celle du dictionnaire renvoyé par la fonction `depouille` et\n",
    "renvoie un tableau. Ce tableau peut donc contenir plusieurs éléments s’il y a des artistes ex-\n",
    "aequo.\n",
    "\n",
    "Compléter les fonctions `depouille` et `vainqueur` ci-après pour qu’elles renvoient les résultats attendus."
   ]
  },
  {
   "cell_type": "code",
   "execution_count": null,
   "metadata": {},
   "outputs": [],
   "source": [
    "def depouille(urne):\n",
    "    resultat = ...\n",
    "    for bulletin in urne:\n",
    "        if ...:\n",
    "            resultat[bulletin] = resultat[bulletin] + 1\n",
    "        else:\n",
    "            ...\n",
    "    return resultat\n",
    "\n",
    "def vainqueur(election):\n",
    "    vainqueur = ''\n",
    "    nmax = 0\n",
    "    for candidat in election:\n",
    "        if ... > ... :\n",
    "            nmax = ...\n",
    "            vainqueur = candidat\n",
    "    liste_finale = [nom for nom in election if election[nom] == ...]\n",
    "    return ..."
   ]
  },
  {
   "cell_type": "markdown",
   "metadata": {},
   "source": [
    "*Exemples d’utilisation :*\n",
    "\n",
    "    >>> election = depouille(urne)\n",
    "    >>> election\n",
    "    {'Extra Vomit': 4, 'Oreilles sales': 3, 'Lady Baba': 3}\n",
    "    \n",
    "    >>> vainqueur(election)\n",
    "    ['Extra Vomit']"
   ]
  },
  {
   "cell_type": "code",
   "execution_count": null,
   "metadata": {},
   "outputs": [],
   "source": []
  }
 ],
 "metadata": {
  "kernelspec": {
   "display_name": "Python 3",
   "language": "python",
   "name": "python3"
  },
  "language_info": {
   "codemirror_mode": {
    "name": "ipython",
    "version": 3
   },
   "file_extension": ".py",
   "mimetype": "text/x-python",
   "name": "python",
   "nbconvert_exporter": "python",
   "pygments_lexer": "ipython3",
   "version": "3.7.10"
  }
 },
 "nbformat": 4,
 "nbformat_minor": 4
}
