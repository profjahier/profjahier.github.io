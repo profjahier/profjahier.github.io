{
 "cells": [
  {
   "cell_type": "markdown",
   "metadata": {},
   "source": [
    "<h1 class=\"alert alert-success\">Exercice 1</h1>"
   ]
  },
  {
   "cell_type": "markdown",
   "metadata": {},
   "source": [
    "Dans cet exercice, un arbre binaire de caractères est stocké sous la forme d’un dictionnaire où les clefs sont les caractères des nœuds de l’arbre et les valeurs, pour chaque clef, la liste des caractères des fils gauche et droit du nœud.\n",
    "\n",
    "Par exemple, l’arbre <img src=\"21_NS1_28-arbre.png\" alt=\"arbre\" width=\"300\"> est stocké dans \n",
    "\n",
    "    a = {'F':['B','G'], 'B':['A','D'],'A':['',''],'D':['C','E'],\\\n",
    "         'C':['',''], 'E':['',''], 'G':['','I'], 'I':['','H'], \\\n",
    "         'H':['','']}\n",
    "    \n",
    "Écrire  une  fonction récursive  <code>taille</code> prenant en  paramètres un  arbre  binaire <code>arbre</code> sous la forme d’un dictionnaire et un caractère <code>lettre</code> qui est la valeur du sommet de l’arbre, et qui renvoie la taille de l’arbre à savoir le nombre total de nœud.\n",
    "\n",
    "On  pourra  distinguer  les  4  cas  où  les  deux  «fils»  du  nœud  sont <code>''</code>,  le  fils  gauche seulement est <code>''</code>, le fils droit seulement est <code>''</code>, aucundes deux fils n’est <code>''</code>. \n",
    "\n",
    "*Exemple:*\n",
    "\n",
    "    >>> taille(a,’F’)\n",
    "    9"
   ]
  },
  {
   "cell_type": "code",
   "execution_count": null,
   "metadata": {},
   "outputs": [],
   "source": [
    "# votre code ci-dessous\n",
    " "
   ]
  },
  {
   "cell_type": "code",
   "execution_count": null,
   "metadata": {},
   "outputs": [],
   "source": [
    "a = {'F':['B','G'], 'B':['A','D'],'A':['',''],'D':['C','E'],\\\n",
    "     'C':['',''], 'E':['',''], 'G':['','I'], 'I':['','H'], \\\n",
    "     'H':['','']}"
   ]
  },
  {
   "cell_type": "code",
   "execution_count": null,
   "metadata": {},
   "outputs": [],
   "source": [
    "taille(a, 'F')"
   ]
  },
  {
   "cell_type": "markdown",
   "metadata": {},
   "source": [
    "<h1 class=\"alert alert-success\">Exercice 2</h1>"
   ]
  },
  {
   "cell_type": "markdown",
   "metadata": {},
   "source": [
    "On considère l'algorithme de tri de tableau suivant : à chaque étape, on parcourt depuis le début du tableau tous les éléments non rangés et on place en dernière position le plus grand élément.\n",
    "\n",
    "Exemple avec le tableau:\n",
    "\n",
    "    t=[41,55,21,18,12,6,25]\n",
    "    \n",
    "Etape 1 : on parcourt tous les éléments du tableau, on permute le plus grand élément avec le dernier. Le tableau devient :\n",
    "\n",
    "    t=[41,25,21,18,12,6,55]\n",
    "    \n",
    "Etape 2 : on parcourt tous les éléments **sauf le dernier**, on permute le plus grand élément trouvé avec l'avant dernier. Le tableau devient :\n",
    "\n",
    "    t=[6,25,21,18,12,41,55]\n",
    "    \n",
    "Et ainsi de suite. \n",
    "\n",
    "Le  code  de  la  fonction <code>tri_iteratif</code> qui  implémente  cet  algorithme est  donné  ci-dessous.\n",
    "\n",
    "\n",
    "Compléter le code qui doit donner:\n",
    "\n",
    "    >>> tri_iteratif([41, 55, 21, 18, 12, 6, 25])\n",
    "    [6, 18, 12, 21, 25, 41, 55]\n",
    "    \n",
    "On rappelleque l’instruction <code>a, b = b, a</code> échange les contenus de <code>a</code> et de <code>b</code>.\n"
   ]
  },
  {
   "cell_type": "code",
   "execution_count": null,
   "metadata": {},
   "outputs": [],
   "source": [
    "def tri_iteratif(tab):\n",
    "    for k in range(..., 0, -1):\n",
    "        imax = ...\n",
    "        for i in range(0, ...):\n",
    "            if tab[i] > ...:\n",
    "                imax = i\n",
    "        if tab[imax] > ...:\n",
    "            ..., tab[imax] = tab[imax], ...\n",
    "    return tab"
   ]
  },
  {
   "cell_type": "code",
   "execution_count": null,
   "metadata": {},
   "outputs": [],
   "source": [
    "tri_iteratif([41, 55, 21, 18, 12, 6, 25])"
   ]
  },
  {
   "cell_type": "code",
   "execution_count": null,
   "metadata": {},
   "outputs": [],
   "source": []
  }
 ],
 "metadata": {
  "kernelspec": {
   "display_name": "Python 3",
   "language": "python",
   "name": "python3"
  },
  "language_info": {
   "codemirror_mode": {
    "name": "ipython",
    "version": 3
   },
   "file_extension": ".py",
   "mimetype": "text/x-python",
   "name": "python",
   "nbconvert_exporter": "python",
   "pygments_lexer": "ipython3",
   "version": "3.7.5"
  }
 },
 "nbformat": 4,
 "nbformat_minor": 4
}
