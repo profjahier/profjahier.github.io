{
 "cells": [
  {
   "cell_type": "markdown",
   "metadata": {},
   "source": [
    "<h1 class=\"alert alert-success\">Exercice 1</h1>"
   ]
  },
  {
   "cell_type": "markdown",
   "metadata": {},
   "source": [
    "Écrire une fonction <code>tri_selection</code> qui prend en paramètre une liste <code>tab</code> de nombres entiers et qui renvoie le tableau trié par ordre croissant. On utilisera l’algorithme suivant:\n",
    "    \n",
    "- on recherche le plus petit élémentdu tableau, et on l'échange avec l'élément d'indice 0;\n",
    "- on recherche le second plus petit élément du tableau, et on l'échange avec l'élément d'indice 1; \n",
    "- on continue de cette façon jusqu'à ce que le tableau soit entièrement trié.\n",
    "\n",
    "*Exemple:*\n",
    "\n",
    "    >>> tri_selection([1,52,6,-9,12])\n",
    "    [-9,1,6,12,52]"
   ]
  },
  {
   "cell_type": "code",
   "execution_count": null,
   "metadata": {},
   "outputs": [],
   "source": [
    "# votre code ci-dessous\n"
   ]
  },
  {
   "cell_type": "code",
   "execution_count": null,
   "metadata": {},
   "outputs": [],
   "source": [
    "tri_selection([1,52,6,-9,12])"
   ]
  },
  {
   "cell_type": "markdown",
   "metadata": {},
   "source": [
    "<h1 class=\"alert alert-success\">Exercice 2</h1>"
   ]
  },
  {
   "cell_type": "markdown",
   "metadata": {},
   "source": [
    "Le jeu du «plus ou moins» consiste à deviner un nombre entier choisientre 1 et 99. \n",
    "\n",
    "Un élève de NSI décide de le coder en langage Python de la manière suivante:\n",
    "\n",
    "- le programme génère un nombre entier aléatoire compris entre 1 et 99;\n",
    "- si la proposition de l’utilisateur est plus petite que le nombre cherché, l’utilisateur en est averti. Il peut alors en tester un autre;\n",
    "- si la proposition de l’utilisateur est plus grande que le nombre cherché, l’utilisateur en est averti. Il peut alors en tester un autre;\n",
    "- si l’utilisateur trouve le bon nombre en 10 essais ou moins, il gagne;\n",
    "- si l’utilisateur a fait plus de 10 essais sans trouver le bon nombre, il perd.\n",
    "\n",
    "Lafonction <code>randint</code> est utilisée. Si <code>a</code> et <code>b</code> sont des entiers, <code>randint(a,b)</code> renvoie un nombre entier compris entre <code>a</code> et <code>b</code>.\n",
    "    \n",
    "Compléter le code ci-dessous et le tester.    "
   ]
  },
  {
   "cell_type": "code",
   "execution_count": null,
   "metadata": {},
   "outputs": [],
   "source": [
    "from random import randint\n",
    "\n",
    "def plus_ou_moins():\n",
    "    nb_mystere = randint(1, ...)\n",
    "    nb_test = int(input(\"Proposez un nombre entre 1 et 99 : \"))\n",
    "    compteur = ...\n",
    "\n",
    "    while nb_mystere != ... and compteur < ... :\n",
    "        compteur = compteur + ...\n",
    "        if nb_mystere ... nb_test:\n",
    "            nb_test = int(input(\"Trop petit ! Testez encore : \"))\n",
    "        else:\n",
    "            nb_test = int(input(\"Trop grand ! Testez encore : \"))\n",
    "\n",
    "    if nb_mystere == nb_test:\n",
    "        print (\"Bravo ! Le nombre était \", ...)\n",
    "        print(\"Nombre d'essais: \", ...)\n",
    "    else:\n",
    "        print (\"Perdu ! Le nombre était \", ...)"
   ]
  },
  {
   "cell_type": "code",
   "execution_count": null,
   "metadata": {},
   "outputs": [],
   "source": [
    "plus_ou_moins()"
   ]
  },
  {
   "cell_type": "code",
   "execution_count": null,
   "metadata": {},
   "outputs": [],
   "source": []
  }
 ],
 "metadata": {
  "kernelspec": {
   "display_name": "Python 3",
   "language": "python",
   "name": "python3"
  },
  "language_info": {
   "codemirror_mode": {
    "name": "ipython",
    "version": 3
   },
   "file_extension": ".py",
   "mimetype": "text/x-python",
   "name": "python",
   "nbconvert_exporter": "python",
   "pygments_lexer": "ipython3",
   "version": "3.7.5"
  }
 },
 "nbformat": 4,
 "nbformat_minor": 4
}
