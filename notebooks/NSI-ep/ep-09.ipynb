{
 "cells": [
  {
   "cell_type": "markdown",
   "metadata": {},
   "source": [
    "<h1 class=\"alert alert-success\"> Exercice 1</h1>\n",
    "    \n",
    "***énoncé corrigé***"
   ]
  },
  {
   "cell_type": "markdown",
   "metadata": {},
   "source": [
    "Soit le couple <code>(note,coefficient)</code>:\n",
    "- <code>note</code> est un nombre de type flottant (float) compris entre 0 et 20;\n",
    "- <code>coefficient</code> est un nombre entier positif.\n",
    "Les  résultats  aux  évaluations  d'un  élève  sont  regroupés  dans  une  liste  composée  de couples (note,coefficient).\n",
    "\n",
    "Écrire une fonction <code>moyenne</code> qui renvoie la moyenne pondérée de cette liste donnée en paramètre.\n",
    "\n",
    "Par exemple, l’expression <code>moyenne([(15,2),(9,1),(12,3)])</code> devra renvoyer le résultat du calcul suivant: $\\dfrac{2 \\times 15+1 \\times 9+3 \\times 12}{2+1+3}=12,5$"
   ]
  },
  {
   "cell_type": "code",
   "execution_count": null,
   "metadata": {},
   "outputs": [],
   "source": [
    "# votre code ci-dessous :      \n",
    " "
   ]
  },
  {
   "cell_type": "code",
   "execution_count": null,
   "metadata": {},
   "outputs": [],
   "source": [
    "moyenne([(15,2),(9,1),(12,3)])"
   ]
  },
  {
   "cell_type": "markdown",
   "metadata": {},
   "source": [
    "<h1 class=\"alert alert-success\">Exercice 2</h1>"
   ]
  },
  {
   "cell_type": "markdown",
   "metadata": {},
   "source": [
    "On  cherche  à  déterminer  les  valeurs  du  triangle  de  Pascal.  \n",
    "\n",
    "Dans  ce  tableau  de  forme triangulaire, chaque ligne commence et se termine par le nombre 1. Par ailleurs, la valeur qui occupe une case située à l’intérieur du tableau s’obtient en ajoutant les valeurs des deux cases situées juste au-dessus, comme l’indique la figure suivante:\n",
    "\n",
    "<img src=\"21_NS1_09-pascal.png\" alt=\"triangle pascal\" width=\"500\">\n",
    "\n",
    "Compléter  la  fonction <code>pascal</code> ci-après.  Elle  doit  renvoyer  une  liste  correspondant  au triangle de Pascal de la ligne 1 à la ligne n où <code>n</code> est un nombre entier supérieur ou égal à 2 (le tableau sera contenu dans la variable <code>C</code>). La variable <code>Ck</code> doit, quant à elle, contenir, à l’étape numéro k, la k-ième ligne du tableau.\n",
    "\n",
    "Pour n=4, voici ce que l’on devra obtenir:\n",
    "    \n",
    "    >>> pascal(4)\n",
    "    [[1], [1, 1], [1, 2, 1], [1, 3, 3, 1], [1, 4, 6, 4, 1]]\n",
    "\n",
    "Et pour n=5, voici ce que l’on devra obtenir:\n",
    "    \n",
    "    >>> pascal(5)\n",
    "    [[1], [1, 1], [1, 2, 1], [1, 3, 3, 1], [1, 4, 6, 4, 1], [1, 5, 10, 10, 5, 1]]\n"
   ]
  },
  {
   "cell_type": "code",
   "execution_count": null,
   "metadata": {},
   "outputs": [],
   "source": [
    "def pascal(n):\n",
    "    C = [[1]]\n",
    "    for k in range(1, ...):\n",
    "        Ck = [...]\n",
    "        for i in range(1, k):\n",
    "            Ck.append(C[...][i-1] + C[...][...])\n",
    "        Ck.append(...)\n",
    "        C.append(Ck)\n",
    "    return C"
   ]
  },
  {
   "cell_type": "code",
   "execution_count": null,
   "metadata": {},
   "outputs": [],
   "source": [
    "pascal(4)"
   ]
  },
  {
   "cell_type": "code",
   "execution_count": null,
   "metadata": {},
   "outputs": [],
   "source": [
    "pascal(5)"
   ]
  },
  {
   "cell_type": "code",
   "execution_count": null,
   "metadata": {},
   "outputs": [],
   "source": []
  }
 ],
 "metadata": {
  "kernelspec": {
   "display_name": "Python 3",
   "language": "python",
   "name": "python3"
  },
  "language_info": {
   "codemirror_mode": {
    "name": "ipython",
    "version": 3
   },
   "file_extension": ".py",
   "mimetype": "text/x-python",
   "name": "python",
   "nbconvert_exporter": "python",
   "pygments_lexer": "ipython3",
   "version": "3.7.5"
  }
 },
 "nbformat": 4,
 "nbformat_minor": 4
}
