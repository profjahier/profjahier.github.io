{
 "cells": [
  {
   "cell_type": "markdown",
   "metadata": {},
   "source": [
    "<h1 class=\"alert alert-success\">Exercice 1</h1>"
   ]
  },
  {
   "cell_type": "markdown",
   "metadata": {},
   "source": [
    "Programmer la fonction <code>multiplication</code>, prenant en paramètres deux nombres entiers <code>n1</code> et <code>n2</code>, et qui renvoie le produit de ces deux nombres. Les seules opérations autorisées sont l’addition et la soustraction. \n",
    "\n",
    "*Exemples :*\n",
    "\n",
    "    >>> multiplication(3,5)\n",
    "    15\n",
    "    >>> multiplication(-4,-8)\n",
    "    32\n",
    "    >>> multiplication(-2,6)\n",
    "    -12\n",
    "    >>> multiplication(-2,0)\n",
    "    0"
   ]
  },
  {
   "cell_type": "code",
   "execution_count": null,
   "metadata": {},
   "outputs": [],
   "source": [
    "# votre code ci-dessous :      \n"
   ]
  },
  {
   "cell_type": "code",
   "execution_count": null,
   "metadata": {},
   "outputs": [],
   "source": [
    "multiplication(3,5)"
   ]
  },
  {
   "cell_type": "code",
   "execution_count": null,
   "metadata": {},
   "outputs": [],
   "source": [
    "multiplication(-4,-8)"
   ]
  },
  {
   "cell_type": "code",
   "execution_count": null,
   "metadata": {},
   "outputs": [],
   "source": [
    "multiplication(-2,6)"
   ]
  },
  {
   "cell_type": "code",
   "execution_count": null,
   "metadata": {},
   "outputs": [],
   "source": [
    "multiplication(-2,0)"
   ]
  },
  {
   "cell_type": "markdown",
   "metadata": {},
   "source": [
    "\n",
    "<h1 class=\"alert alert-success\"> Exercice 2</h1>\n",
    "    "
   ]
  },
  {
   "cell_type": "markdown",
   "metadata": {},
   "source": [
    "Recopier et compléter sous Python la fonction suivante en respectant la spécification.\n",
    "\n",
    "On ne recopiera pas les commentaires.\n",
    "\n",
    "*Exemples :*\n",
    "    \n",
    "    >>> dichotomie([15, 16, 18, 19, 23, 24, 28, 29, 31, 33],28)\n",
    "    True\n",
    "    >>> dichotomie([15, 16, 18, 19, 23, 24, 28, 29, 31, 33],27)\n",
    "    False"
   ]
  },
  {
   "cell_type": "code",
   "execution_count": null,
   "metadata": {},
   "outputs": [],
   "source": [
    "def dichotomie(tab, x):\n",
    "    \"\"\"\n",
    "        tab : tableau d’entiers trié dans l’ordre croissant\n",
    "        x : nombre entier\n",
    "        La fonction renvoie True si tab contient x et False sinon\n",
    "    \"\"\"\n",
    "    debut = 0 \n",
    "    fin = len(tab) - 1\n",
    "    while debut <= fin:\n",
    "        m = ...\n",
    "        if x == tab[m]:\n",
    "            return ...\n",
    "        if x > tab[m]:\n",
    "            debut = m + 1\n",
    "        else:\n",
    "             fin = ...\n",
    "    return ..."
   ]
  },
  {
   "cell_type": "code",
   "execution_count": null,
   "metadata": {},
   "outputs": [],
   "source": [
    "dichotomie([15, 16, 18, 19, 23, 24, 28, 29, 31, 33],28)"
   ]
  },
  {
   "cell_type": "code",
   "execution_count": null,
   "metadata": {},
   "outputs": [],
   "source": [
    "dichotomie([15, 16, 18, 19, 23, 24, 28, 29, 31, 33],27)"
   ]
  },
  {
   "cell_type": "code",
   "execution_count": null,
   "metadata": {},
   "outputs": [],
   "source": []
  }
 ],
 "metadata": {
  "kernelspec": {
   "display_name": "Python 3",
   "language": "python",
   "name": "python3"
  },
  "language_info": {
   "codemirror_mode": {
    "name": "ipython",
    "version": 3
   },
   "file_extension": ".py",
   "mimetype": "text/x-python",
   "name": "python",
   "nbconvert_exporter": "python",
   "pygments_lexer": "ipython3",
   "version": "3.7.5"
  }
 },
 "nbformat": 4,
 "nbformat_minor": 4
}
