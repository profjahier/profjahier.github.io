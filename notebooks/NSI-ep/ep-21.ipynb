{
 "cells": [
  {
   "cell_type": "markdown",
   "metadata": {},
   "source": [
    "<h1 class=\"alert alert-success\">Exercice 1</h1>"
   ]
  },
  {
   "cell_type": "markdown",
   "metadata": {},
   "source": [
    "Écrire  une  fonction  python  appelée <code>nb_repetitions</code> qui  prend  en paramètres un élément <code>elt</code> et une liste <code>tab</code> et renvoie le nombre de fois où l’élément apparaît dans la liste. \n",
    "\n",
    "*Exemples :*\n",
    "\n",
    "    >>> nb_repetitions(5,[2,5,3,5,6,9,5])\n",
    "    3\n",
    "    >>> nb_repetitions('A',['B','A','B','A','R'])\n",
    "    2\n",
    "    >>> nb_repetitions(12,[1,'!',7,21,36,44])\n",
    "    0"
   ]
  },
  {
   "cell_type": "code",
   "execution_count": null,
   "metadata": {},
   "outputs": [],
   "source": [
    "# votre code ci-dessous\n"
   ]
  },
  {
   "cell_type": "code",
   "execution_count": null,
   "metadata": {},
   "outputs": [],
   "source": [
    "nb_repetitions(5,[2,5,3,5,6,9,5])"
   ]
  },
  {
   "cell_type": "code",
   "execution_count": null,
   "metadata": {},
   "outputs": [],
   "source": [
    "nb_repetitions('A',['B','A','B','A','R'])"
   ]
  },
  {
   "cell_type": "code",
   "execution_count": null,
   "metadata": {},
   "outputs": [],
   "source": [
    "nb_repetitions(12,[1,'!',7,21,36,44])"
   ]
  },
  {
   "cell_type": "markdown",
   "metadata": {},
   "source": [
    "<h1 class=\"alert alert-success\">Exercice 2</h1>"
   ]
  },
  {
   "cell_type": "markdown",
   "metadata": {},
   "source": [
    "Pour rappel, la conversion d’un nombre entierpositifen binaire peut s’effectuer à l’aide des divisions successives comme illustré ici :\n",
    "\n",
    "<img src=\"21_NS1_21-decbin.png\" width=\"200\" alt=\"conversion décimal - binaire\">\n",
    "\n",
    "Voici une fonction python <code>binaire</code> basée sur la méthode des divisions successives permettant de convertir un nombre entier positif en binaire.\n",
    "\n",
    "Compléter la fonction <code>binaire</code>.\n",
    "\n",
    "*Exemples:*\n",
    "\n",
    "    >>> binaire(0) \n",
    "    '0'\n",
    "    >>> binaire(77)\n",
    "    '1001101'"
   ]
  },
  {
   "cell_type": "code",
   "execution_count": null,
   "metadata": {},
   "outputs": [],
   "source": [
    "def binaire(a):\n",
    "    bin_a = str(...)\n",
    "    a = a // 2\n",
    "    while a ...:\n",
    "        bin_a = ...(a%2) + ...\n",
    "        a = ...\n",
    "    return bin_a"
   ]
  },
  {
   "cell_type": "code",
   "execution_count": null,
   "metadata": {},
   "outputs": [],
   "source": [
    "binaire(0) "
   ]
  },
  {
   "cell_type": "code",
   "execution_count": null,
   "metadata": {},
   "outputs": [],
   "source": [
    "binaire(77)"
   ]
  }
 ],
 "metadata": {
  "kernelspec": {
   "display_name": "Python 3",
   "language": "python",
   "name": "python3"
  },
  "language_info": {
   "codemirror_mode": {
    "name": "ipython",
    "version": 3
   },
   "file_extension": ".py",
   "mimetype": "text/x-python",
   "name": "python",
   "nbconvert_exporter": "python",
   "pygments_lexer": "ipython3",
   "version": "3.7.10"
  }
 },
 "nbformat": 4,
 "nbformat_minor": 4
}
