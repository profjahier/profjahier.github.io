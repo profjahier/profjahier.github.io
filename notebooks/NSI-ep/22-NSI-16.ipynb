{
 "cells": [
  {
   "cell_type": "markdown",
   "metadata": {},
   "source": [
    "<h1 class=\"alert alert-info\">Sujet n°16 session 2022</h1>"
   ]
  },
  {
   "cell_type": "markdown",
   "metadata": {},
   "source": [
    "<h1 class=\"alert alert-success\">Exercice 1</h1>"
   ]
  },
  {
   "cell_type": "markdown",
   "metadata": {},
   "source": [
    "Écrire une fonction <code>maxi</code> qui prend  en  paramètre une  liste <code>tab</code> de nombres entiers et renvoie  un  couple donnant  le  plus  grand  élément de  cette  liste, ainsi  que l’indice  de  la première apparition de ce maximum dans la liste.\n",
    "\n",
    "*Exemple:*\n",
    "\n",
    "    >>> maxi([1, 5, 6, 9, 1, 2, 3, 7, 9, 8])\n",
    "    (9, 3)"
   ]
  },
  {
   "cell_type": "code",
   "execution_count": null,
   "metadata": {},
   "outputs": [],
   "source": []
  },
  {
   "cell_type": "markdown",
   "metadata": {},
   "source": [
    "<h1 class=\"alert alert-success\"> Exercice 2</h1>"
   ]
  },
  {
   "cell_type": "markdown",
   "metadata": {},
   "source": [
    "Cet exercice utilise des piles qui seront représentées en Python par des listes (type <code>list</code>). On rappelle que l’expression <code>T1 = list(T)</code> fait une copie de <code>T</code> indépendante de <code>T</code>, que l’expression <code>x= T.pop()</code> enlève le sommet de la pile <code>T</code> et le place dans la variable <code>x</code> et, enfin, que l’expression <code>T.append(v)</code> place la valeur <code>v</code> au sommet de la pile <code>T</code>.\n",
    "    \n",
    "Compléter  le  code  Python  de  la  fonction <code>positif</code> ci-dessous  qui  prend  une  pile  <code>T</code>  de nombres  entiers  en  paramètre  et qui renvoie  la  pile  des  entiers  positifs  dans  le  même ordre, sans modifier la variable <code>T</code>.\n",
    "    \n",
    "*Exemple:*\n",
    "    \n",
    "    >>> positif([-1, 0, 5,-3, 4, -6, 10, 9, -8 ])\n",
    "    T =[-1, 0, 5, -3, 4, -6, 10, 9, -8]\n",
    "    [0, 5, 4, 10, 9]"
   ]
  },
  {
   "cell_type": "code",
   "execution_count": null,
   "metadata": {},
   "outputs": [],
   "source": [
    "def positif(T):\n",
    "    T2 = ...(T)\n",
    "    T3 = ...\n",
    "    while T2 != []:\n",
    "        x = ...\n",
    "        if ... >= 0:\n",
    "            T3.append(...)\n",
    "    T2 = []\n",
    "    while T3 != ...:\n",
    "        x = T3.pop()\n",
    "        ...\n",
    "    print('T = ',T)\n",
    "    return T2"
   ]
  },
  {
   "cell_type": "code",
   "execution_count": null,
   "metadata": {},
   "outputs": [],
   "source": []
  }
 ],
 "metadata": {
  "kernelspec": {
   "display_name": "Python 3",
   "language": "python",
   "name": "python3"
  },
  "language_info": {
   "codemirror_mode": {
    "name": "ipython",
    "version": 3
   },
   "file_extension": ".py",
   "mimetype": "text/x-python",
   "name": "python",
   "nbconvert_exporter": "python",
   "pygments_lexer": "ipython3",
   "version": "3.7.10"
  }
 },
 "nbformat": 4,
 "nbformat_minor": 4
}
