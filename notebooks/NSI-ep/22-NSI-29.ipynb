{
 "cells": [
  {
   "cell_type": "markdown",
   "metadata": {},
   "source": [
    "<h1 class=\"alert alert-info\">Sujet n°29 session 2022</h1>"
   ]
  },
  {
   "cell_type": "markdown",
   "metadata": {},
   "source": [
    "<h1 class=\"alert alert-success\">Exercice 1</h1>"
   ]
  },
  {
   "cell_type": "markdown",
   "metadata": {},
   "source": [
    "On s’intéresse à la suite d’entiers définie par\n",
    "\n",
    "U1= 1, U2= 1 et, pour tout entier naturel n, par Un+2 = Un+1+ Un.\n",
    "\n",
    "Elle s’appelle la suite de Fibonnaci.\n",
    "\n",
    "Écrire la fonction <code>fibonacci</code> qui prend un entier <code>n > 0</code> et qui renvoie l’élément d’indice <code>n</code> de cette suite. \n",
    "\n",
    "On utilisera une programmation dynamique (pas de récursivité).\n",
    "\n",
    "*Exemples:*\n",
    "\n",
    "    >>> fibonacci(1)\n",
    "    1\n",
    "    >>> fibonacci(2)\n",
    "    1\n",
    "    >>> fibonacci(25)\n",
    "    75025\n",
    "    >>> fibonacci(45)\n",
    "    1134903170"
   ]
  },
  {
   "cell_type": "code",
   "execution_count": null,
   "metadata": {},
   "outputs": [],
   "source": []
  },
  {
   "cell_type": "markdown",
   "metadata": {},
   "source": [
    "<h1 class=\"alert alert-success\"> Exercice 2</h1>"
   ]
  },
  {
   "cell_type": "markdown",
   "metadata": {},
   "source": [
    "Les variables `liste_eleves` et `liste_notes` ayant été préalablement définies et étant de même longueur, la fonction `meilleures_notes` renvoie la note maximale qui a été attribuée, le nombre d’élèves ayant obtenu cette note et la liste des noms de ces élèves.\n",
    "\n",
    "Compléter le code Python de la fonction `meilleures_notes` ci-dessous."
   ]
  },
  {
   "cell_type": "code",
   "execution_count": null,
   "metadata": {},
   "outputs": [],
   "source": [
    "liste_eleves = ['a', 'b', 'c', 'd', 'e', 'f', 'g', 'h', 'i', 'j']\n",
    "liste_notes = [1, 40, 80, 60, 58, 80, 75, 80, 60, 24]\n",
    "\n",
    "def meilleures_notes():\n",
    "    note_maxi = 0\n",
    "    nb_eleves_note_maxi = ...\n",
    "    liste_maxi = ...\n",
    "    \n",
    "    for compteur in range(...):\n",
    "        if liste_notes[compteur] == ...:\n",
    "            nb_eleves_note_maxi = nb_eleves_note_maxi + 1\n",
    "            liste_maxi.append(liste_eleves[...])\n",
    "        if liste_notes[compteur] > note_maxi:\n",
    "            note_maxi = liste_notes[compteur]\n",
    "            nb_eleves_note_maxi = ...\n",
    "            liste_maxi = [...]\n",
    "            \n",
    "    return (note_maxi, nb_eleves_note_maxi, liste_maxi)"
   ]
  },
  {
   "cell_type": "markdown",
   "metadata": {},
   "source": [
    "Une fois complété, le code ci-dessus donne :\n",
    "\n",
    "    >>> meilleures_notes()\n",
    "    (80, 3, ['c', 'f', 'h'])"
   ]
  },
  {
   "cell_type": "code",
   "execution_count": null,
   "metadata": {},
   "outputs": [],
   "source": []
  }
 ],
 "metadata": {
  "kernelspec": {
   "display_name": "Python 3",
   "language": "python",
   "name": "python3"
  },
  "language_info": {
   "codemirror_mode": {
    "name": "ipython",
    "version": 3
   },
   "file_extension": ".py",
   "mimetype": "text/x-python",
   "name": "python",
   "nbconvert_exporter": "python",
   "pygments_lexer": "ipython3",
   "version": "3.7.10"
  }
 },
 "nbformat": 4,
 "nbformat_minor": 4
}
