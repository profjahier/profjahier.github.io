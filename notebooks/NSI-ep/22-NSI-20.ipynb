{
 "cells": [
  {
   "cell_type": "markdown",
   "metadata": {},
   "source": [
    "<h1 class=\"alert alert-info\">Sujet n°20 session 2022</h1>"
   ]
  },
  {
   "cell_type": "markdown",
   "metadata": {},
   "source": [
    "<h1 class=\"alert alert-success\">Exercice 1</h1>"
   ]
  },
  {
   "cell_type": "markdown",
   "metadata": {},
   "source": [
    "L'opérateur «ou exclusif» entre deux bits renvoie 0 si les deux bits sont égaux et 1 s'ils sont\n",
    "différents :\n",
    "\n",
    "0 ⊕ 0 = 0 , 0 ⊕ 1 = 1 , 1 ⊕ 0 = 1 , 1 ⊕ 1 = 0\n",
    "\n",
    "On représente ici une suite de bits par un tableau contenant des 0 et des 1.\n",
    "Exemples :\n",
    "\n",
    "*Exemples :*\n",
    "\n",
    "    a = [1, 0, 1, 0, 1, 1, 0, 1]\n",
    "    b = [0, 1, 1, 1, 0, 1, 0, 0]\n",
    "    c = [1, 1, 0, 1]\n",
    "    d = [0, 0, 1, 1]\n",
    "    \n",
    "Écrire la fonction `xor` qui prend en paramètres deux tableaux de même longueur et qui renvoie un tableau où l’élément situé à position `i` est le résultat, par  l’opérateur «ou exclusif», des éléments à la position `i` des tableaux passés en paramètres.\n",
    "\n",
    "En considérant les quatre exemples ci-dessus, cette fonction doit passer les tests suivants :\n",
    "\n",
    "    assert (xor(a, b) == [1, 1, 0, 1, 1, 0, 0, 1])\n",
    "    assert (xor(c, d) == [1, 1, 1, 0])\n"
   ]
  },
  {
   "cell_type": "code",
   "execution_count": null,
   "metadata": {},
   "outputs": [],
   "source": []
  },
  {
   "cell_type": "markdown",
   "metadata": {},
   "source": [
    "\n",
    "<h1 class=\"alert alert-success\"> Exercice 2</h1>\n",
    "    "
   ]
  },
  {
   "cell_type": "markdown",
   "metadata": {},
   "source": [
    "Dans cet exercice, on appelle carré d’ordre 𝑛 un tableau de 𝑛 lignes et 𝑛 colonnes dont chaque case contient un entier naturel.\n",
    "\n",
    "*Exemples :*\n",
    "\n",
    "![image sujet 2022-20](22-NSI-20.png)\n",
    "\n",
    "Un carré est dit magique lorsque les sommes des éléments situés sur chaque ligne, chaque\n",
    "colonne et chaque diagonale sont égales. Ainsi c2 et c3 sont magiques car la somme de chaque ligne, chaque colonne et chaque diagonale est égale à 2 pour c2 et 15 pour c3. c4 n’est pas magique car la somme de la première ligne est égale à 34 alors que celle de la dernière colonne est égale à 27.\n",
    "\n",
    "La classe `Carre` ci-après contient des méthodes qui permettent de manipuler des carrés.\n",
    "\n",
    "Compléter la fonction `est_magique` qui prend en paramètre un carré et qui renvoie la valeur de la somme si ce carré est magique, `False` sinon."
   ]
  },
  {
   "cell_type": "code",
   "execution_count": null,
   "metadata": {},
   "outputs": [],
   "source": [
    "class Carre:\n",
    "    def __init__(self, tableau = [[]]):\n",
    "        self.ordre = len(tableau)\n",
    "        self.valeurs = tableau\n",
    "        \n",
    "    def affiche(self):\n",
    "        '''Affiche un carré'''\n",
    "        for i in range(self.ordre):\n",
    "            print(self.valeurs[i])\n",
    "        \n",
    "    def somme_ligne(self, i):\n",
    "        '''Calcule la somme des valeurs de la ligne i'''\n",
    "        return sum(self.valeurs[i])\n",
    "        \n",
    "    def somme_col(self, j):\n",
    "        '''Calcule la somme des valeurs de la colonne j'''\n",
    "        return sum([self.valeurs[i][j] for i in range(self.ordre)])"
   ]
  },
  {
   "cell_type": "code",
   "execution_count": null,
   "metadata": {},
   "outputs": [],
   "source": [
    "def est_magique(carre):\n",
    "    n = carre.ordre\n",
    "    s = carre.somme_ligne(0)\n",
    "    \n",
    "    #test de la somme de chaque ligne\n",
    "    for i in range(..., ...):\n",
    "        if carre.somme_ligne(i) != s:\n",
    "            return ...\n",
    "        \n",
    "    #test de la somme de chaque colonne\n",
    "    for j in range(n):\n",
    "        if ... != s:\n",
    "            return False\n",
    "        \n",
    "    #test de la somme de chaque diagonale\n",
    "    if sum([carre.valeurs[...][...] for k in range(n)]) != s:\n",
    "        return False\n",
    "    if sum([carre.valeurs[k][n-1-k] for k in range(n)]) != s:\n",
    "        return False\n",
    "    \n",
    "    return ..."
   ]
  },
  {
   "cell_type": "markdown",
   "metadata": {},
   "source": [
    "Tester la fonction `est_magique` sur les carrés c2, c3 et c4."
   ]
  },
  {
   "cell_type": "code",
   "execution_count": null,
   "metadata": {},
   "outputs": [],
   "source": []
  }
 ],
 "metadata": {
  "kernelspec": {
   "display_name": "Python 3",
   "language": "python",
   "name": "python3"
  },
  "language_info": {
   "codemirror_mode": {
    "name": "ipython",
    "version": 3
   },
   "file_extension": ".py",
   "mimetype": "text/x-python",
   "name": "python",
   "nbconvert_exporter": "python",
   "pygments_lexer": "ipython3",
   "version": "3.7.10"
  }
 },
 "nbformat": 4,
 "nbformat_minor": 4
}
