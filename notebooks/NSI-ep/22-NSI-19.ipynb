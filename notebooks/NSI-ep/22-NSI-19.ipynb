{
 "cells": [
  {
   "cell_type": "markdown",
   "metadata": {},
   "source": [
    "<h1 class=\"alert alert-info\">Sujet n°19 session 2022</h1>"
   ]
  },
  {
   "cell_type": "markdown",
   "metadata": {},
   "source": [
    "<h1 class=\"alert alert-success\">Exercice 1</h1>"
   ]
  },
  {
   "cell_type": "markdown",
   "metadata": {},
   "source": [
    "Programmer la fonction <code>multiplication</code> prenant en paramètres deux nombres entiers <code>n1</code> et <code>n2</code>, et qui renvoie le produit de ces deux nombres. Les seules opérations autorisées sont l’addition et la soustraction. \n",
    "\n",
    "*Exemples :*\n",
    "\n",
    "    >>> multiplication(3, 5)\n",
    "    15\n",
    "    \n",
    "    >>> multiplication(-4,-8)\n",
    "    32\n",
    "    \n",
    "    >>> multiplication(-2, 6)\n",
    "    -12\n",
    "    \n",
    "    >>> multiplication(-2 ,0)\n",
    "    0"
   ]
  },
  {
   "cell_type": "code",
   "execution_count": null,
   "metadata": {},
   "outputs": [],
   "source": []
  },
  {
   "cell_type": "markdown",
   "metadata": {},
   "source": [
    "<h1 class=\"alert alert-success\">Exercice 2</h1>"
   ]
  },
  {
   "cell_type": "markdown",
   "metadata": {},
   "source": [
    "Soit <code>T</code> un tableau non vide d'entiers triés dans l'ordre croissant et <code>n</code> un entier.\n",
    "\n",
    "La fonction <code>chercher</code>, donnée ci-dessous, doit renvoyer un indice où la valeur <code>n</code> apparaît éventuellement dans <code>T</code>, et <code>None</code> sinon. \n",
    "\n",
    "Les paramètres de la fonction sont:\n",
    "- <code>T</code>, le tableau dans lequel s'effectue la recherche ;\n",
    "- <code>n</code>, l'entier à chercher dans le tableau ;\n",
    "- <code>i</code>, l'indice de début de la partie du tableau où s'effectue la recherche ;\n",
    "- <code>j</code>, l'indice de fin de la partie du tableau où s'effectue la recherche.\n",
    "\n",
    "La  fonction <code>chercher</code> est  une  fonction  récursive baséesur  le  principe «diviser  pour régner». \n",
    "\n",
    "Le  code  de  la  fonction  commence  par  vérifier si $0  <= i$  et $j  <  len(T)$.  Si  cette condition n’est pas vérifiée, elle affiche <code>\"Erreur\"</code> puis renvoie <code>None</code>.\n",
    "\n",
    "Recopier et compléter le code de la fonction <code>chercher</code> proposée ci-dessous.\n",
    "\n",
    "L’exécution du code doit donner: \n",
    "\n",
    "    >>> chercher([1, 5, 6, 6, 9, 12], 7, 0, 10)\n",
    "    Erreur\n",
    "    >>> chercher([1, 5, 6, 6, 9, 12], 7, 0, 5)\n",
    "    >>> chercher([1, 5, 6, 6, 9, 12], 9, 0, 5)\n",
    "    4\n",
    "    >>> chercher([1, 5, 6, 6, 9, 12], 6, 0, 5)\n",
    "    2"
   ]
  },
  {
   "cell_type": "code",
   "execution_count": null,
   "metadata": {},
   "outputs": [],
   "source": [
    "def chercher(T, n, i, j):\n",
    "    if i < 0 or ...:\n",
    "        print(\"Erreur\")\n",
    "        return None    \n",
    "    if i > j:\n",
    "        return None\n",
    "    m = (i+j) // ...\n",
    "    if T[m] < ...:\n",
    "        return chercher(T, n, ..., ...)\n",
    "    elif T[m] > n:\n",
    "        return chercher(T, n, ..., ...)\n",
    "    else :\n",
    "        return ..."
   ]
  },
  {
   "cell_type": "code",
   "execution_count": null,
   "metadata": {},
   "outputs": [],
   "source": []
  }
 ],
 "metadata": {
  "kernelspec": {
   "display_name": "Python 3",
   "language": "python",
   "name": "python3"
  },
  "language_info": {
   "codemirror_mode": {
    "name": "ipython",
    "version": 3
   },
   "file_extension": ".py",
   "mimetype": "text/x-python",
   "name": "python",
   "nbconvert_exporter": "python",
   "pygments_lexer": "ipython3",
   "version": "3.7.10"
  }
 },
 "nbformat": 4,
 "nbformat_minor": 4
}
