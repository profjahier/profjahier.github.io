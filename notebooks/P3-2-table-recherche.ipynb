{
 "cells": [
  {
   "cell_type": "markdown",
   "metadata": {},
   "source": [
    "<div class=\"alert alert-success\">\n",
    "\n",
    "# P3-2 : Traitement de données en table:  \n",
    "    \n",
    "1. Recherche dans une table\n",
    "2. Cohérence d'un table\n",
    "\n",
    "</div>"
   ]
  },
  {
   "cell_type": "markdown",
   "metadata": {
    "tags": []
   },
   "source": [
    "<h2 class=\"alert alert-info\">Recherche dans une table</h2>"
   ]
  },
  {
   "cell_type": "markdown",
   "metadata": {},
   "source": [
    "<div class=\"alert alert-danger\">\n",
    "    \n",
    "## Principe de la recherche dans une table :\n",
    "\n",
    "Il s'agit essentiellement de sélectionner les lignes d’une table vérifiant des critères exprimés en logique propositionnelle. On parcourt linéairement l'ensemble des enregistrements de la table et on compare certains attributs des enregistrements avec des critères cibles.\n",
    "    \n",
    "**Remarque** : si la table respecte un ordre de tri, le parcourt de la table pourrait se faire plus efficacement que de manière linéaire *(voir recherche dichotomique)*.\n",
    "\n",
    "\n",
    "</div>"
   ]
  },
  {
   "cell_type": "markdown",
   "metadata": {},
   "source": [
    "<div class=\"alert alert-warning\">\n",
    "    \n",
    "# Exo 1a : rechercher le code numérique identifiant la région Normandie avec un tableau doublement indexé.\n",
    "On exploitera le fichier `region-19.csv`\n",
    "\n",
    "1) Importer les données à propos des régions de France dans une variable `regions` qui sera un **tableau de tableaux**.\n",
    "\n",
    "2) Afficher la liste des descripteurs de la table et le 1er enregistrement de la table `regions`. \n",
    "\n",
    "*Remarque :* le champ `reg` (str) est le code numérique d'une région, et le champ `ncc` (str) est le nom de la région en lettres capitales :\n",
    "    \n",
    "**Relever les indices de ces champs** dans la liste des descripteurs.\n",
    "\n",
    "3) Écrire une fonction `code_region(table, nom_region)` qui prend en paramètres la table de données sur les régions (`regions`) et le nom d'une région (str) et qui renvoie le code de cette région.\n",
    "\n",
    "4) Utiliser cette fonction pour trouver le code de la région Normandie.\n",
    "    \n",
    "</div>"
   ]
  },
  {
   "cell_type": "code",
   "execution_count": 1,
   "metadata": {},
   "outputs": [],
   "source": [
    "# 1) import des données grâce au module csv\n",
    "import csv\n",
    "\n",
    "with open('region-19.csv', 'r', encoding='utf-8') as source:\n",
    "    regions = list(csv.reader(source, delimiter=';'))"
   ]
  },
  {
   "cell_type": "code",
   "execution_count": 2,
   "metadata": {},
   "outputs": [
    {
     "data": {
      "text/plain": [
       "['reg', 'cheflieu', 'tncc', 'ncc', 'nccenr', 'libelle']"
      ]
     },
     "execution_count": 2,
     "metadata": {},
     "output_type": "execute_result"
    }
   ],
   "source": [
    "# 2) liste des descripteurs (1ere ligne du fichier csv)\n",
    "regions[0]"
   ]
  },
  {
   "cell_type": "markdown",
   "metadata": {},
   "source": [
    "On note dans la liste des descripteurs que 'reg' est à l'indice 0, et 'ncc' est à l'indice 3."
   ]
  },
  {
   "cell_type": "code",
   "execution_count": 3,
   "metadata": {},
   "outputs": [],
   "source": [
    "#  3) fonction qui renvoie le code d'une région (v1)\n",
    "def code_region(table, nom_region):\n",
    "    for i in range(len(table)):                # parcourt de la table par indice\n",
    "        if table[i][3] == nom_region.upper():  # indice 3 correspond au champ 'ncc'\n",
    "            return table[i][0]                 # indice 0 correspond au champ 'reg'"
   ]
  },
  {
   "cell_type": "code",
   "execution_count": 4,
   "metadata": {},
   "outputs": [],
   "source": [
    "#  3) fonction qui renvoie le code d'une région (v2)\n",
    "def code_region(table, nom_region):\n",
    "    for region in table:                     # parcourt de la table par élément\n",
    "        if region[3] == nom_region.upper():  # indice 3 correspond au champ 'ncc'\n",
    "            return region[0]                 # indice 0 correspond au champ 'reg'"
   ]
  },
  {
   "cell_type": "code",
   "execution_count": 5,
   "metadata": {},
   "outputs": [
    {
     "data": {
      "text/plain": [
       "'28'"
      ]
     },
     "execution_count": 5,
     "metadata": {},
     "output_type": "execute_result"
    }
   ],
   "source": [
    "# 4) recherche du code la région Normandie\n",
    "code_region(regions, 'normandie')"
   ]
  },
  {
   "cell_type": "markdown",
   "metadata": {},
   "source": [
    "<div class=\"alert alert-warning\">\n",
    "    \n",
    "# Exo 1b : rechercher le code numérique identifiant la région Normandie avec un tableau de p-uplets .\n",
    "On exploitera le même fichier `region-19.csv`\n",
    "\n",
    "1) importer les données à propos des régions de France dans une variable `regions` qui sera un **tableau de p-uplets nommés** (càd une liste de dictionnaires en Python).\n",
    "\n",
    "2) afficher le 1er élément de la table `regions`. \n",
    "\n",
    "(Remarque : le champ `reg` est le code numérique d'une région, et le champ `ncc` est le nom de la région en lettres capitales)\n",
    "\n",
    "3) écrire une fonction `code_region(table, nom_region)` qui prend en paramètres la table de données sur les régions (`regions`) et le nom d'une région (str) et qui renvoie  le code de cette région.\n",
    "\n",
    "4) utiliser cette fonction pour trouver le code de la région Normandie.\n",
    "    \n",
    "</div>"
   ]
  },
  {
   "cell_type": "code",
   "execution_count": 6,
   "metadata": {},
   "outputs": [],
   "source": [
    "# 1) import des données grâce au module csv\n",
    "with open('region-19.csv', 'r', encoding='utf-8') as source:\n",
    "    regions = list(csv.DictReader(source, delimiter=';'))"
   ]
  },
  {
   "cell_type": "code",
   "execution_count": 7,
   "metadata": {},
   "outputs": [
    {
     "name": "stdout",
     "output_type": "stream",
     "text": [
      "{'reg': '01', 'cheflieu': '97105', 'tncc': '3', 'ncc': 'GUADELOUPE', 'nccenr': 'Guadeloupe', 'libelle': 'Guadeloupe'}\n"
     ]
    }
   ],
   "source": [
    "# 2) affichage de la 1ère région dans le fichier\n",
    "print(regions[0])"
   ]
  },
  {
   "cell_type": "code",
   "execution_count": 8,
   "metadata": {},
   "outputs": [],
   "source": [
    "# 3) fonction qui renvoie le code d'une région\n",
    "def code_region(table, nom_region):\n",
    "    for region in table:                        # parcourt de la table par éléments\n",
    "        if region['ncc'] == nom_region.upper(): # on accède à la valeur d'une donnée \n",
    "            return region['reg']                # avec la clef du p-uplet nommé"
   ]
  },
  {
   "cell_type": "code",
   "execution_count": 9,
   "metadata": {},
   "outputs": [
    {
     "data": {
      "text/plain": [
       "'28'"
      ]
     },
     "execution_count": 9,
     "metadata": {},
     "output_type": "execute_result"
    }
   ],
   "source": [
    "# 4) recherche du code la région Normandie\n",
    "code_region(regions, 'normandie')"
   ]
  },
  {
   "cell_type": "markdown",
   "metadata": {},
   "source": [
    "<div class=\"alert alert-warning\">\n",
    "    \n",
    "# Exo 2 :  rechercher tous les départements de la région Normandie\n",
    "On exploitera le fichier `departement-19.csv`\n",
    "\n",
    "1) importer les données à propos des départements de France dans une variable `departements` qui sera un tableau de p-uplets nommés.\n",
    "\n",
    "2) afficher le 1er élément de la table de `departements`. \n",
    "\n",
    "\n",
    "3) écrire une fonction `departements_region(table, code_region)` qui prend en paramètres la table de données sur les départements (`departements`) et le code d'une région (str) et qui renvoie une liste des noms des départements de cette région.\n",
    "\n",
    "4) utiliser cette fonction pour obtenir les départements de la région Normandie.\n",
    "</div>"
   ]
  },
  {
   "cell_type": "code",
   "execution_count": 10,
   "metadata": {},
   "outputs": [],
   "source": [
    "# 1) import des données\n",
    "with open('departement-19.csv', 'r', encoding='utf-8') as source:\n",
    "    departements = list(csv.DictReader(source, delimiter=','))"
   ]
  },
  {
   "cell_type": "code",
   "execution_count": 11,
   "metadata": {},
   "outputs": [
    {
     "name": "stdout",
     "output_type": "stream",
     "text": [
      "{'dep': '01', 'reg': '84', 'cheflieu': '01053', 'tncc': '5', 'ncc': 'AIN', 'nccenr': 'Ain', 'libelle': 'Ain'}\n"
     ]
    }
   ],
   "source": [
    "# 2) affichage du 1er département\n",
    "print(departements[0])"
   ]
  },
  {
   "cell_type": "code",
   "execution_count": 12,
   "metadata": {},
   "outputs": [],
   "source": [
    "# 3) fonction qui renvoie les départements d'une région\n",
    "def departements_region(table, code_region):\n",
    "    return [departement['nccenr'] for departement in table if departement['reg'] == code_region]"
   ]
  },
  {
   "cell_type": "code",
   "execution_count": 13,
   "metadata": {
    "tags": []
   },
   "outputs": [
    {
     "data": {
      "text/plain": [
       "['Calvados', 'Eure', 'Manche', 'Orne', 'Seine-Maritime']"
      ]
     },
     "execution_count": 13,
     "metadata": {},
     "output_type": "execute_result"
    }
   ],
   "source": [
    "# 4) départements de la région Normandie\n",
    "departements_region(departements, code_region(regions, 'normandie'))"
   ]
  },
  {
   "cell_type": "markdown",
   "metadata": {},
   "source": [
    "<div class=\"alert alert-warning\">\n",
    "    \n",
    "# Exo 3 :  rechercher toutes les villes de France de plus de 150 000 habitants\n",
    "On exploitera le fichier `villes_simplifie.csv`\n",
    "\n",
    "1) Importer les données à propos des villes de France dans une variable `villes` qui sera un tableau de p-uplets nommés.\n",
    "\n",
    "2) Afficher 'joliment' pour le 1er élément de la table de `villes` chacune de ses clefs et leur valeur associée.\n",
    "\n",
    "On attend une réponse du genre :\n",
    "\n",
    "    nom : AAST\n",
    "    dpt_numero : 64\n",
    "    commune_code : 64460\n",
    "    etc ...\n",
    "\n",
    "3) Combien y a-t-il de villes en France (listées dans ce fichier) ?\n",
    "\n",
    "4) Créer une liste des villes de plus de 150 000 hab en 2010, appelées `grandes_villes`\n",
    "\n",
    "5) Afficher le nom et la population de ces villes en 2010.\n",
    "</div>"
   ]
  },
  {
   "cell_type": "code",
   "execution_count": 14,
   "metadata": {},
   "outputs": [],
   "source": [
    "# 1) import des données\n",
    "with open('villes_simplifie.csv', newline='', encoding='utf-8') as source:\n",
    "    villes = list(csv.DictReader(source, delimiter=';'))"
   ]
  },
  {
   "cell_type": "code",
   "execution_count": 15,
   "metadata": {},
   "outputs": [
    {
     "name": "stdout",
     "output_type": "stream",
     "text": [
      "nom : AAST\n",
      "dpt_numero : 64\n",
      "code_postal : 64460\n",
      "commune_code : 64001\n",
      "Population_2010 : 192\n",
      "Population_1999 : 191\n",
      "Densite_2010 : 40\n",
      "surface : 4,75\n",
      "longitude_degre : -0,083333\n",
      "latitude_degre : 43,2833\n",
      "longitude_DMS : -525\n",
      "latitude_DMS : 431721\n",
      "altitude_mini : 367\n",
      "altitude_maxi : 393\n"
     ]
    }
   ],
   "source": [
    "# 2) affichage des clefs et valeurs de la 1ere ville\n",
    "for clef, valeur in villes[0].items():\n",
    "    print(f\"{clef} : {valeur}\")"
   ]
  },
  {
   "cell_type": "code",
   "execution_count": 16,
   "metadata": {},
   "outputs": [
    {
     "data": {
      "text/plain": [
       "36568"
      ]
     },
     "execution_count": 16,
     "metadata": {},
     "output_type": "execute_result"
    }
   ],
   "source": [
    "# 3) nb de villes en France\n",
    "len(villes)"
   ]
  },
  {
   "cell_type": "code",
   "execution_count": 17,
   "metadata": {},
   "outputs": [],
   "source": [
    "# 4) liste des villes de plus de 200 000 habitants\n",
    "# avec une utilisation d'une fonction qui prend en paramètre la limite demandée (ici 100 000)\n",
    "def pop(table, pop_mini):\n",
    "    return [ville for ville in table if int(ville['Population_2010']) > pop_mini]\n",
    "\n",
    "grandes_villes = pop(villes, 150_000)"
   ]
  },
  {
   "cell_type": "code",
   "execution_count": 18,
   "metadata": {},
   "outputs": [
    {
     "name": "stdout",
     "output_type": "stream",
     "text": [
      "17\n",
      "BORDEAUX 239157\n",
      "DIJON 151212\n",
      "GRENOBLE 155637\n",
      "LE HAVRE 175497\n",
      "LILLE 227560\n",
      "LYON 484344\n",
      "MARSEILLE 850726\n",
      "MONTPELLIER 257351\n",
      "NANTES 284970\n",
      "NICE 343304\n",
      "PARIS 2243833\n",
      "REIMS 179992\n",
      "RENNES 207178\n",
      "SAINT-ETIENNE 171260\n",
      "STRASBOURG 271782\n",
      "TOULON 164532\n",
      "TOULOUSE 441802\n"
     ]
    }
   ],
   "source": [
    "# 5) affichage des villes de plus de 100 000 habitants\n",
    "print(len(grandes_villes))\n",
    "for v in grandes_villes:\n",
    "    print(v['nom'], v['Population_2010'] )"
   ]
  },
  {
   "cell_type": "markdown",
   "metadata": {},
   "source": [
    "<div class=\"alert alert-warning\">\n",
    "    \n",
    "# Exo complémentaire *(pour les rapides)* : Chercher les villes au Nord Ouest de Paris de plus de 100 000 habitants en 2010\n",
    "    \n",
    "1) écrire une fonction `extrait_ville(table, nom_ville) ` qui prend en paramètres une table de villes et le nom d'une ville et extrait un dictionnaire des infos sur cette ville.\n",
    "\n",
    "2) écrire une fonction `affiche_ville(ville) ` qui prend en paramètre le dictionnaire d'une ville et affiche les clefs suivantes avec leur valeur :  'nom', 'Population_2010', 'longitude_DMS', 'latitude_DMS'\n",
    "\n",
    "3) extraire et afficher les infos sur Paris\n",
    "\n",
    "4) chercher la liste des villes de plus de 100 000 habitants au nord-ouest de Paris, puis les afficher.\n",
    "\n",
    "*Aide* : la **latitude augmente vers le Nord** et la **longitude augmente vers l'est** (positive à l'est du méridien de Greenwich et négative à l'ouest)\n",
    "\n",
    "*Remarque* : certaines villes ont une latitude ou longitude de valeur 'NULL', on ne tiendra pas compte de ces villes dans la recherche.\n",
    "</div>"
   ]
  },
  {
   "cell_type": "code",
   "execution_count": 19,
   "metadata": {},
   "outputs": [],
   "source": [
    "# 1)fonction pour extraire les infos d'une ville\n",
    "def extrait_ville(table, nom_ville):\n",
    "    for ville in table:\n",
    "        if ville['nom'] == nom_ville.upper():\n",
    "            return ville"
   ]
  },
  {
   "cell_type": "code",
   "execution_count": 20,
   "metadata": {},
   "outputs": [],
   "source": [
    "# 2) fonction qui sélectionne quelques infos à afficher sur une ville\n",
    "def affiche_ville(ville):\n",
    "    for clef in ('nom', 'Population_2010', 'longitude_DMS', 'latitude_DMS'):\n",
    "        print(f\"{clef} : {ville[clef]}\")"
   ]
  },
  {
   "cell_type": "code",
   "execution_count": 21,
   "metadata": {},
   "outputs": [
    {
     "name": "stdout",
     "output_type": "stream",
     "text": [
      "nom : PARIS\n",
      "Population_2010 : 2243833\n",
      "longitude_DMS : 22040\n",
      "latitude_DMS : 485136\n"
     ]
    }
   ],
   "source": [
    "# 3) extraction et affichage des infos sur Paris\n",
    "paris = extrait_ville(villes, 'Paris')\n",
    "\n",
    "affiche_ville(paris)"
   ]
  },
  {
   "cell_type": "code",
   "execution_count": 22,
   "metadata": {},
   "outputs": [
    {
     "name": "stdout",
     "output_type": "stream",
     "text": [
      "nom : AMIENS\n",
      "Population_2010 : 133448\n",
      "longitude_DMS : 21752\n",
      "latitude_DMS : 495331\n",
      "\n",
      "nom : ARGENTEUIL\n",
      "Population_2010 : 103125\n",
      "longitude_DMS : 21451\n",
      "latitude_DMS : 485652\n",
      "\n",
      "nom : CAEN\n",
      "Population_2010 : 108954\n",
      "longitude_DMS : -2214\n",
      "latitude_DMS : 491056\n",
      "\n",
      "nom : LE HAVRE\n",
      "Population_2010 : 175497\n",
      "longitude_DMS : 716\n",
      "latitude_DMS : 492956\n",
      "\n",
      "nom : ROUEN\n",
      "Population_2010 : 110933\n",
      "longitude_DMS : 10609\n",
      "latitude_DMS : 492635\n",
      "\n"
     ]
    }
   ],
   "source": [
    "# 4) grandes villes au nord-ouest de Paris \n",
    "\n",
    "# a- on enregistre les coordonnées de Paris\n",
    "lat, lon = int(paris['latitude_DMS']), int(paris['longitude_DMS'])\n",
    "\n",
    "# b- on sélectionne les villes avec une population suffisante\n",
    "# de plus grande longitude que Paris (au nord)\n",
    "# et de plus petite  latitude que Paris (à l'ouest)\n",
    "grandes_villes_NO_paris = [ville for ville in villes  if  \n",
    "                   int(ville['Population_2010']) > 100_000\n",
    "                   and int(ville['latitude_DMS']) > lat \n",
    "                   and int(ville['longitude_DMS']) < lon]\n",
    "\n",
    "# affichage du résultat :\n",
    "for ville in grandes_villes_NO_paris:\n",
    "    affiche_ville(ville)\n",
    "    print()"
   ]
  },
  {
   "cell_type": "markdown",
   "metadata": {
    "tags": []
   },
   "source": [
    "<h2 class=\"alert alert-info\">Tests de cohérence</h2>"
   ]
  },
  {
   "cell_type": "markdown",
   "metadata": {},
   "source": [
    "<div class=\"alert alert-danger\">\n",
    "    \n",
    "## Problèmes de cohérence possibles.\n",
    "\n",
    "Il arrive (problème assez fréquent) que les données présentent des problème de cohérence.\n",
    "   \n",
    "En effet, lors de la collecte initiale des données, il peut arriver que celles-ci soient incomplètes (des valeurs d'attributs sont manquantes) ou bien que les formats saisis ne soient pas cohérents sur l'ensemble des données (divers formats de dates par exemple).\n",
    "    \n",
    "Il faut donc bien s'assurer de la cohérence des données avant de se lancer dans un traitement automatique.\n",
    "\n",
    "\n",
    "</div>"
   ]
  },
  {
   "cell_type": "markdown",
   "metadata": {},
   "source": [
    "<div class=\"alert alert-warning\">\n",
    "    \n",
    "# Exo 4 : Tests de cohérence\n",
    "\n",
    "On a récupéré les réponses à une enquête comportant l'identité des 100 personnes interrogées, leur numéro de téléphone et une somme d'argent déclarée librement ! On avait dit aux gens que celui qui déclarerait la somme la plus proche de la valeur moyenne de toutes les réponses empocherait cette somme ! Les réponses sont consignées dans le fichier `enquete.csv`.\n",
    "\n",
    "1) Importer les données à propos de l'enquête dans une variable `data` qui sera un tableau de tableaux.\n",
    "\n",
    "Puis afficher les descripteurs de cette table.\n",
    "\n",
    "2) Afficher les noms de famille et les sommes déclarées par les 10 premières personnes.\n",
    "\n",
    "3) Chercher tous les gens qui ont déclaré une somme de plus de 50$.\n",
    "\n",
    "ATTENTION : c'est une question piège ! Ça ne va pas être possible (enfin, pas de façon simple en tout cas) : le \"vrai\" exercice est d'expliquer pourquoi.\n",
    "\n",
    "</div>"
   ]
  },
  {
   "cell_type": "code",
   "execution_count": 23,
   "metadata": {},
   "outputs": [
    {
     "name": "stdout",
     "output_type": "stream",
     "text": [
      "['Nom', 'Prenom', 'Somme', 'Telephone']\n"
     ]
    }
   ],
   "source": [
    "# 1) import des données\n",
    "with open('enquete.csv', newline='', encoding='utf-8') as source:\n",
    "    data = list(csv.reader(source, delimiter=';'))\n",
    "    \n",
    "print(data[0])"
   ]
  },
  {
   "cell_type": "code",
   "execution_count": 24,
   "metadata": {},
   "outputs": [
    {
     "name": "stdout",
     "output_type": "stream",
     "text": [
      "Aidan $40.94\n",
      "James $87.21\n",
      "Linda 8,56\n",
      "Dylan $22.46\n",
      "Fiona 6,33\n",
      "Farrah $30.61\n",
      "Dawn 728,56$\n",
      "Aquila 381,96$\n",
      "Kenyon 0,11\n",
      "Martin 1,12\n"
     ]
    }
   ],
   "source": [
    "# 2) 10 premières personnes, et leur somme\n",
    "for i in range(1, 11):\n",
    "    print(data[i][0], data[i][2])"
   ]
  },
  {
   "cell_type": "markdown",
   "metadata": {},
   "source": [
    "3) Vous l'avez compris, les sommes d'argents ont été entrées dans **différents formats** et il est impossible de faire un traitement direct car **les données ne sont pas cohérentes.**"
   ]
  },
  {
   "cell_type": "markdown",
   "metadata": {},
   "source": [
    "<div class=\"alert alert-warning\">\n",
    "    \n",
    "# Exo 4 : suite...\n",
    "\n",
    "On propose alors de rendre cette table cohérente en parcourant tous les enregistrements de la table et après avoir effectué un test, remettre les données au même format.\n",
    "\n",
    "On choisira d'écrire toutes les données de somme au format numérique xxx.xx (sans signe monétaire, et avec un point comme séparateur décimal).\n",
    "- On commencera par créer une copie nommée `data_OK` de la table `data` pour contenir ces données formatées de façon cohérente.\n",
    "\n",
    "        data_OK = data.deepcopy()\n",
    "\n",
    "- Ensuite on remplace l'éventuelle virgule par un point (avec la méthode `replace` des chaines de caratères) : \n",
    "        \n",
    "        ex : >>> \"2,45\".replace(',', '.')\n",
    "             \"2.45\"\n",
    "- Puis on supprime le $ en début de chaine ou fin de chaine si nécessaire : \n",
    "\n",
    "        ex : >>> \"$2.45\"[1:]\n",
    "             \"2.45\"\n",
    "        \n",
    "        ex : >>> \"2.45$\"[:-1]\n",
    "             \"2.45'\"\n",
    "On pourra utiliser les méthodes `startswith` ou `endswith` des chaines de caractères.\n",
    "</div>"
   ]
  },
  {
   "cell_type": "code",
   "execution_count": 25,
   "metadata": {},
   "outputs": [],
   "source": [
    "# ne pas supprimer cette ligne !!!\n",
    "from copy import deepcopy"
   ]
  },
  {
   "cell_type": "code",
   "execution_count": 26,
   "metadata": {},
   "outputs": [
    {
     "name": "stdout",
     "output_type": "stream",
     "text": [
      "[['Nom', 'Prenom', 'Somme', 'Telephone'], ['Aidan', 'Lawrence', '40.94', '07 44 32 96 96'], ['James', 'Christian', '87.21', '01 62 01 70 96'], ['Linda', 'Alden', '8.56', '02 07 10 14 56'], ['Dylan', 'Forrest', '22.46', '08 43 01 87 09'], ['Fiona', 'Ferris', '6.33', '02/93/19/05/47'], ['Farrah', 'Drew', '30.61', '01 79 20 87 87'], ['Dawn', 'Vera', '728.56', '05/14/71/32/27'], ['Aquila', 'Dale', '381.96', '01/71/20/33/04'], ['Kenyon', 'Burke', '0.11', '06 16 13 19 82']]\n"
     ]
    }
   ],
   "source": [
    "# 4) Mise en forme des sommes\n",
    "data_OK = deepcopy(data)\n",
    "for d in data_OK:\n",
    "    d[2] = d[2].replace(',', '.')\n",
    "    if d[2].startswith('$'):\n",
    "        d[2] = d[2][1:]\n",
    "    elif d[2].endswith('$'):\n",
    "        d[2] = d[2][:-1]\n",
    "\n",
    "print(data_OK[:10])        "
   ]
  },
  {
   "cell_type": "markdown",
   "metadata": {},
   "source": [
    "<div class=\"alert alert-warning\">\n",
    "    \n",
    "# exo complémentaire (pour les rapides) : rendre cohérent aussi les numéros de téléphone.\n",
    "On pourra choisir un format xxxxxxxxxx (10 chiffres sans séparation !).\n",
    "\n",
    "Si un numéro est vraiment incohérent (s'il n'y a pas 10 chiffres par exemple), on remplace la valeur par 000000000 (dix zéros de suite)\n",
    "\n",
    "On pourra ainsi aussi afficher tous les enregistrements pour lesquels le numéro n'est pas exploitable.\n",
    "</div>"
   ]
  },
  {
   "cell_type": "code",
   "execution_count": 27,
   "metadata": {},
   "outputs": [
    {
     "name": "stdout",
     "output_type": "stream",
     "text": [
      "[['Nom', 'Prenom', 'Somme', 'Telephone'], ['Aidan', 'Lawrence', '40.94', '0744329696'], ['James', 'Christian', '87.21', '0162017096'], ['Linda', 'Alden', '8.56', '0207101456'], ['Dylan', 'Forrest', '22.46', '0843018709'], ['Fiona', 'Ferris', '6.33', '0293190547'], ['Farrah', 'Drew', '30.61', '0179208787'], ['Dawn', 'Vera', '728.56', '0514713227'], ['Aquila', 'Dale', '381.96', '0171203304'], ['Kenyon', 'Burke', '0.11', '0616131982']]\n"
     ]
    }
   ],
   "source": [
    "for d in data_OK:\n",
    "    d[3] = d[3].replace('/', '')\n",
    "    d[3] = d[3].replace(' ', '')\n",
    "    \n",
    "print(data_OK[:10])"
   ]
  },
  {
   "cell_type": "code",
   "execution_count": 28,
   "metadata": {},
   "outputs": [
    {
     "name": "stdout",
     "output_type": "stream",
     "text": [
      "0558aa2580\n",
      "['Octavia', 'Brandon', '8.6', '0000000000']\n",
      "+33231741315\n",
      "['Gareth', 'McKenzie', '907.24', '0000000000']\n",
      "+3319048091\n",
      "['Ashton', 'Uta', '1.21', '0000000000']\n",
      "\n",
      "['Lila', 'Yoko', '4.64', '0000000000']\n",
      "07578241\n",
      "['Chaney', 'Urielle', '5.96', '0000000000']\n",
      "\n",
      "['Mufutau', 'Gray', '4.04', '0000000000']\n"
     ]
    }
   ],
   "source": [
    "def tel_OK(tel):\n",
    "    if len(tel) != 10:\n",
    "        return False\n",
    "    for i in tel:\n",
    "        if i not in '0123456789':\n",
    "            return False\n",
    "    return True\n",
    "\n",
    "for d in data_OK[1:]:\n",
    "    if not tel_OK(d[3]):\n",
    "        print(d[3])\n",
    "        d[3] = '0000000000'\n",
    "        print(d)"
   ]
  },
  {
   "cell_type": "markdown",
   "metadata": {
    "tags": []
   },
   "source": [
    "<h2 class=\"alert alert-info\">Recherche de doublons</h2>"
   ]
  },
  {
   "cell_type": "markdown",
   "metadata": {},
   "source": [
    "<div class=\"alert alert-danger\">\n",
    "Les doublons sont des enregistrements identiques qui apparaissent plusieurs fois dans une table (cela peut arriver de façon volontaire, mais aussi parfois parce que la table a été mal créée au départ).\n",
    "\n",
    "Il peut être intéressant de pouvoir détecter les doublons et éventuellement de les éliminer.\n",
    "</div>"
   ]
  },
  {
   "cell_type": "markdown",
   "metadata": {},
   "source": [
    "<div class=\"alert alert-warning\">\n",
    "    \n",
    "# Exo 5 : Chercher les doublons de la liste `data` et les éliminer.\n",
    "\n",
    "**Procédure :**\n",
    "1. Créer une liste vide `data_unique` : cette liste contiendra tous les éléments uniques, sans doublons.\n",
    "\n",
    "Créer une liste vide `doublons` : cette liste contiendra tous les éléments apparaissant plusieurs fois dans la table.\n",
    "\n",
    "2. Parcourir tous les éléments de la liste `data` (boucle for externe indice i). Si l'élément n'est pas dans la liste `doublons`, l'ajouter à la liste `data_unique`.\n",
    "3. Parcourir tous les éléments **suivants** de la liste `data` à la recherche d'un doublon (boucle for interne indice j). Si un élément est un doublon, on l'ajoute dans la liste `doublons`.\n",
    "    \n",
    "**Vérification** : afficher les tailles (len) des listes `data` et `data_unique` (*réponse attendue : 101, 92*).\n",
    "</div>"
   ]
  },
  {
   "cell_type": "code",
   "execution_count": 29,
   "metadata": {},
   "outputs": [],
   "source": [
    "doublons = []\n",
    "data_unique = []\n",
    "for i in range(len(data)):\n",
    "    if data[i] not in doublons:\n",
    "        data_unique.append(data[i])\n",
    "    for j in range(i+1, len(data)):\n",
    "        if data[j] == data[i]:\n",
    "            doublons.append(data[j])"
   ]
  },
  {
   "cell_type": "code",
   "execution_count": 30,
   "metadata": {},
   "outputs": [
    {
     "name": "stdout",
     "output_type": "stream",
     "text": [
      "9 [['Fiona', 'Ferris', '6,33', '02/93/19/05/47'], ['Aquila', 'Dale', '381,96$', '01/71/20/33/04'], ['Alana', 'Garrett', '4,16', '06 38 97 78 64'], ['Amber', 'Isaac', '553,26$', '07/22/92/42/50'], ['Arden', 'April', '$8.84', '05 05 36 89 54'], ['Andrew', 'Arthur', '9,27', '02 61 00 41 57'], ['Maia', 'Abbot', '6,17', '02/00/16/36/66'], ['Miranda', 'Kennan', '8,32', '05/52/15/53/20'], ['Kyra', 'Prescott', '$31.30', '06 47 55 32 03']]\n"
     ]
    }
   ],
   "source": [
    "print(len(doublons), doublons)"
   ]
  },
  {
   "cell_type": "code",
   "execution_count": 31,
   "metadata": {},
   "outputs": [
    {
     "data": {
      "text/plain": [
       "(101, 92)"
      ]
     },
     "execution_count": 31,
     "metadata": {},
     "output_type": "execute_result"
    }
   ],
   "source": [
    "len(data), len(data_unique)"
   ]
  },
  {
   "cell_type": "code",
   "execution_count": null,
   "metadata": {},
   "outputs": [],
   "source": []
  }
 ],
 "metadata": {
  "kernelspec": {
   "display_name": "Python 3",
   "language": "python",
   "name": "python3"
  },
  "language_info": {
   "codemirror_mode": {
    "name": "ipython",
    "version": 3
   },
   "file_extension": ".py",
   "mimetype": "text/x-python",
   "name": "python",
   "nbconvert_exporter": "python",
   "pygments_lexer": "ipython3",
   "version": "3.10.1"
  }
 },
 "nbformat": 4,
 "nbformat_minor": 4
}
