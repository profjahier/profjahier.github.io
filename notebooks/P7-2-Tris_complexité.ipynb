{
 "cells": [
  {
   "cell_type": "markdown",
   "metadata": {
    "nbgrader": {
     "grade": false,
     "grade_id": "cell-6b7f2d4c846b31c8",
     "locked": true,
     "schema_version": 1,
     "solution": false
    }
   },
   "source": [
    "# Algorithmes de tri"
   ]
  },
  {
   "cell_type": "markdown",
   "metadata": {},
   "source": [
    "<div class=\"alert alert-success\">\n",
    "\n",
    "# Tris par insertion et par sélection, complexité\n",
    "</div>"
   ]
  },
  {
   "cell_type": "markdown",
   "metadata": {
    "tags": []
   },
   "source": [
    "<h2 class=\"alert alert-info\">Tri par sélection</h2>"
   ]
  },
  {
   "cell_type": "markdown",
   "metadata": {},
   "source": [
    "<div class=\"alert alert-warning\">\n",
    "    \n",
    "Compléter la fonction `tri_selection(t)` qui trie en place un tableau `t` (ne renvoie rien) qui implémente l'algorithme de tri par sélection.\n",
    "    \n",
    "</div>"
   ]
  },
  {
   "cell_type": "code",
   "execution_count": null,
   "metadata": {
    "nbgrader": {
     "grade": false,
     "grade_id": "cell-fbb2ff38ded373b2",
     "locked": false,
     "schema_version": 1,
     "solution": true
    }
   },
   "outputs": [],
   "source": [
    "def tri_selection(t):\n",
    "    \"\"\" Tri un tableau t d'entiers.\n",
    "    Entrée : t : list(int)\n",
    "    Sortie : None (remarque : c'est un tri en place)\n",
    "    \"\"\"\n",
    "    for i in range(...):\n",
    "        i_mini = i\n",
    "        for j in range(..., ...):\n",
    "            if ... < ...:\n",
    "                i_mini = j\n",
    "        t[i], t[i_mini] = t[...], t[...]"
   ]
  },
  {
   "cell_type": "code",
   "execution_count": null,
   "metadata": {
    "nbgrader": {
     "grade": false,
     "grade_id": "cell-fbb2ff38ded373b2",
     "locked": false,
     "schema_version": 1,
     "solution": true
    }
   },
   "outputs": [],
   "source": [
    "def tri_selection(t):\n",
    "    \"\"\" Tri un tableau t d'entiers.\n",
    "    Entrée : t : list(int)\n",
    "    Sortie : None (remarque : c'est un tri en place)\n",
    "    \"\"\"\n",
    "    for i in range(len(t)-1):\n",
    "        i_mini = i\n",
    "        for j in range(i+1, len(t)):\n",
    "            if t[j] < t[i_mini]:\n",
    "                i_mini = j\n",
    "        t[i], t[i_mini] = t[i_mini], t[i]"
   ]
  },
  {
   "cell_type": "markdown",
   "metadata": {},
   "source": [
    "<div class=\"alert alert-warning\">\n",
    "    \n",
    "**Test :** \n",
    "    \n",
    "1. Créer un tableau `tab` de 20 entiers compris entre 1 et 30.  (utlisation de la fonction `randint` du module random)\n",
    "2. Trier le tableau avec la fonction de tri par sélection et vérifier que le tableau est bien trié.\n",
    "    \n",
    "</div>"
   ]
  },
  {
   "cell_type": "code",
   "execution_count": null,
   "metadata": {
    "nbgrader": {
     "grade": false,
     "grade_id": "cell-fcff6c6a5d2233c2",
     "locked": true,
     "schema_version": 1,
     "solution": false
    }
   },
   "outputs": [],
   "source": [
    "from random import randint \n",
    "# randint(a, b) renvoie un nombnre entier aléatoire entre a et b (inclus)"
   ]
  },
  {
   "cell_type": "code",
   "execution_count": null,
   "metadata": {
    "nbgrader": {
     "grade": false,
     "grade_id": "cell-7020125391792ebf",
     "locked": false,
     "schema_version": 1,
     "solution": true
    }
   },
   "outputs": [],
   "source": [
    "# A VOUS DE JOUER\n",
    "tab = [randint(1, 30) for i in range(20)]\n",
    "tab"
   ]
  },
  {
   "cell_type": "code",
   "execution_count": null,
   "metadata": {},
   "outputs": [],
   "source": [
    "tri_selection(tab)\n",
    "tab"
   ]
  },
  {
   "cell_type": "markdown",
   "metadata": {
    "tags": []
   },
   "source": [
    "<h2 class=\"alert alert-info\">Tri par insertion</h2>"
   ]
  },
  {
   "cell_type": "markdown",
   "metadata": {},
   "source": [
    "<div class=\"alert alert-warning\">\n",
    "    \n",
    "Compléter la fonction `tri_insertion(t)` qui trie en place un tableau `t` (ne renvoie rien) qui implémente l'algorithme de tri par insertion.\n",
    "    \n",
    "</div>"
   ]
  },
  {
   "cell_type": "code",
   "execution_count": null,
   "metadata": {
    "nbgrader": {
     "grade": false,
     "grade_id": "cell-11c9879c87845f89",
     "locked": false,
     "schema_version": 1,
     "solution": true
    }
   },
   "outputs": [],
   "source": [
    "def tri_insertion(t):\n",
    "    \"\"\" Tri un tableau t d'entiers.\n",
    "    Entrée : t : list(int)\n",
    "    Sortie : None (remarque : c'est un tri en place)\n",
    "    \"\"\"\n",
    "    for i in range(..., ...):\n",
    "        element = t[i]\n",
    "        j = i - 1\n",
    "        while (... >= ...) and (t[j] ... element):\n",
    "            t[j+1] = t[...]\n",
    "            j = ...\n",
    "        t[...] = element"
   ]
  },
  {
   "cell_type": "code",
   "execution_count": null,
   "metadata": {
    "nbgrader": {
     "grade": false,
     "grade_id": "cell-11c9879c87845f89",
     "locked": false,
     "schema_version": 1,
     "solution": true
    }
   },
   "outputs": [],
   "source": [
    "def tri_insertion(t):\n",
    "    \"\"\" Tri un tableau t d'entiers.\n",
    "    Entrée : t : list(int)\n",
    "    Sortie : None (remarque : c'est un tri en place)\n",
    "    \"\"\"\n",
    "    for i in range(1, len(t)):\n",
    "        element = t[i]\n",
    "        j = i - 1\n",
    "        while (j >= 0) and (t[j] > element):\n",
    "            t[j+1] = t[j]\n",
    "            j = j - 1\n",
    "        t[j+1] = element"
   ]
  },
  {
   "cell_type": "markdown",
   "metadata": {},
   "source": [
    "<div class=\"alert alert-warning\">\n",
    "    \n",
    "**Test :** \n",
    "    \n",
    "1. Créer un tableau `tab` de 20 entiers aléatoires compris entre 1 et 30.\n",
    "2. Trier le tableau avec la fonction de tri par sélection et vérifier que le tableau est bien trié.\n",
    "    \n",
    "</div>"
   ]
  },
  {
   "cell_type": "code",
   "execution_count": null,
   "metadata": {
    "nbgrader": {
     "grade": false,
     "grade_id": "cell-7020125391792ebf",
     "locked": false,
     "schema_version": 1,
     "solution": true
    }
   },
   "outputs": [],
   "source": [
    "# A VOUS DE JOUER\n",
    "tab = [randint(1, 30) for i in range(20)]\n",
    "tab"
   ]
  },
  {
   "cell_type": "code",
   "execution_count": null,
   "metadata": {},
   "outputs": [],
   "source": [
    "tri_insertion(tab)\n",
    "tab"
   ]
  },
  {
   "cell_type": "markdown",
   "metadata": {
    "tags": []
   },
   "source": [
    "<h2 class=\"alert alert-info\">Complexité : vérification du coût quadratique</h2>"
   ]
  },
  {
   "cell_type": "markdown",
   "metadata": {},
   "source": [
    "<div class=\"alert alert-warning\">\n",
    "    \n",
    "Créer un tableau `tab` de 20 entiers compris entre 1 et 30.\n",
    "    \n",
    "</div>"
   ]
  },
  {
   "cell_type": "code",
   "execution_count": null,
   "metadata": {
    "nbgrader": {
     "grade": false,
     "grade_id": "cell-7020125391792ebf",
     "locked": false,
     "schema_version": 1,
     "solution": true
    }
   },
   "outputs": [],
   "source": [
    "# A VOUS DE JOUER\n",
    "t = [randint(1, 30) for i in range(20)]"
   ]
  },
  {
   "cell_type": "code",
   "execution_count": null,
   "metadata": {
    "nbgrader": {
     "grade": true,
     "grade_id": "cell-f8dfbe7b8daf9252",
     "locked": true,
     "points": 2,
     "schema_version": 1,
     "solution": false
    }
   },
   "outputs": [],
   "source": [
    "tri_insertion(t)\n",
    "t"
   ]
  },
  {
   "cell_type": "code",
   "execution_count": null,
   "metadata": {
    "nbgrader": {
     "grade": false,
     "grade_id": "cell-b8acebb26ab3e127",
     "locked": true,
     "schema_version": 1,
     "solution": false
    }
   },
   "outputs": [],
   "source": [
    "t = [randint(1, 30) for i in range(20)]\n",
    "print(t)"
   ]
  },
  {
   "cell_type": "code",
   "execution_count": null,
   "metadata": {
    "nbgrader": {
     "grade": true,
     "grade_id": "cell-eedafefd27515f77",
     "locked": true,
     "points": 2,
     "schema_version": 1,
     "solution": false
    }
   },
   "outputs": [],
   "source": [
    "tri_python = sorted(t)\n",
    "assert tri_python == t"
   ]
  },
  {
   "cell_type": "markdown",
   "metadata": {
    "nbgrader": {
     "grade": false,
     "grade_id": "cell-2b6e81a4e520103a",
     "locked": true,
     "schema_version": 1,
     "solution": false
    }
   },
   "source": [
    "On désire vérifier que le coût de ces algorithmes est quadratique. Pour cela, nous allons exécuter les algorithmes sur des tableaux de tailles variables et mesurer le temps d'exécution dans chaque cas."
   ]
  },
  {
   "cell_type": "markdown",
   "metadata": {},
   "source": [
    "<div class=\"alert alert-warning\">\n",
    "    \n",
    "Lire l'instruction suivante et expliquer ce que contient le tableau `data` créé.\n",
    "    \n",
    "</div>"
   ]
  },
  {
   "cell_type": "code",
   "execution_count": null,
   "metadata": {
    "nbgrader": {
     "grade": false,
     "grade_id": "cell-d6416617e10d311c",
     "locked": false,
     "schema_version": 1,
     "solution": true
    }
   },
   "outputs": [],
   "source": [
    "data = [[randint(0, 1000) for j in range(1000 * i)] for i in range(1, 11)]"
   ]
  },
  {
   "cell_type": "markdown",
   "metadata": {
    "jp-MarkdownHeadingCollapsed": true,
    "tags": []
   },
   "source": [
    "*Votre réponse ici :*\n",
    "\n",
    "...\n",
    "\n",
    "..."
   ]
  },
  {
   "cell_type": "markdown",
   "metadata": {
    "nbgrader": {
     "grade": false,
     "grade_id": "cell-aa56fbe470e64f4f",
     "locked": true,
     "schema_version": 1,
     "solution": false
    }
   },
   "source": [
    "Le module `time` fournit une fonction `time()` qui renvoie le temps  écoulé depuis le 1er janvier 1970, en secondes.\n",
    "\n",
    "Documentation : https://docs.python.org/fr/3/library/time.html\n",
    "\n",
    "On peut donc mesurer le temps d'exécution d'une série d'instructions de la manière suivante :\n",
    "\n",
    "    debut = time()\n",
    "    < suite d'instructions >\n",
    "    fin = time()\n",
    "    duree = fin - debut\n",
    "    "
   ]
  },
  {
   "cell_type": "code",
   "execution_count": null,
   "metadata": {
    "nbgrader": {
     "grade": false,
     "grade_id": "cell-42f6ace813c6712c",
     "locked": true,
     "schema_version": 1,
     "solution": false
    }
   },
   "outputs": [],
   "source": [
    "from time import time"
   ]
  },
  {
   "cell_type": "markdown",
   "metadata": {
    "nbgrader": {
     "grade": false,
     "grade_id": "cell-ee914eeb4871c9f8",
     "locked": true,
     "schema_version": 1,
     "solution": false
    }
   },
   "source": [
    "Relever dans deux listes `durees_insertion` et `durees_selection` les durée d'exécution des algorithmes de tri pour chacun des tableaux de `data`.\n",
    "\n",
    "**ATTENTION** : il faut ***re-générer la liste `data`*** après la première série de tris, sinon tous les tableaux sont déjà triés (puisque le tri se fait en place) avant d'attaquer la 2ème série de tris !"
   ]
  },
  {
   "cell_type": "code",
   "execution_count": null,
   "metadata": {
    "nbgrader": {
     "grade": true,
     "grade_id": "cell-903eb3a2feaa3a47",
     "locked": false,
     "points": 3,
     "schema_version": 1,
     "solution": true
    }
   },
   "outputs": [],
   "source": [
    "# le travail est djà écrit pour le tri par insertion :\n",
    "\n",
    "data = [[randint(0, 1000) for j in range(1000*i)] for i in range(1, 11)]\n",
    "\n",
    "durees_insertion = []\n",
    "\n",
    "for i in range(10):\n",
    "    debut = time()\n",
    "    tri_insertion(data[i])\n",
    "    fin = time()\n",
    "    durees_insertion.append(fin-debut)    "
   ]
  },
  {
   "cell_type": "markdown",
   "metadata": {},
   "source": [
    "<div class=\"alert alert-warning\">\n",
    "    \n",
    "Réprendre le même type de calcul de durées pour le tri par sélection.\n",
    "    \n",
    "</div>"
   ]
  },
  {
   "cell_type": "code",
   "execution_count": null,
   "metadata": {
    "nbgrader": {
     "grade": true,
     "grade_id": "cell-903eb3a2feaa3a47",
     "locked": false,
     "points": 3,
     "schema_version": 1,
     "solution": true
    }
   },
   "outputs": [],
   "source": [
    "data = [[randint(0, 1000) for j in range(1000*i)] for i in range(1, 11)]\n",
    "\n",
    "durees_selection = []\n",
    "\n",
    "# A VOUS DE JOUER\n",
    "# \n",
    "# ..."
   ]
  },
  {
   "cell_type": "code",
   "execution_count": null,
   "metadata": {
    "nbgrader": {
     "grade": true,
     "grade_id": "cell-903eb3a2feaa3a47",
     "locked": false,
     "points": 3,
     "schema_version": 1,
     "solution": true
    }
   },
   "outputs": [],
   "source": [
    "data = [[randint(0, 1000) for j in range(1000*i)] for i in range(1, 11)]\n",
    "\n",
    "durees_selection = []\n",
    "\n",
    "# A VOUS DE JOUER\n",
    "# Réprendre le même type de calcul de durée pour le tri par sélection\n",
    "\n",
    "for i in range(10):\n",
    "    debut = time()\n",
    "    tri_selection(data[i])\n",
    "    fin = time()\n",
    "    durees_selection.append(fin-debut)    "
   ]
  },
  {
   "cell_type": "code",
   "execution_count": null,
   "metadata": {
    "nbgrader": {
     "grade": false,
     "grade_id": "cell-808a48d1f59eddee",
     "locked": true,
     "schema_version": 1,
     "solution": false
    }
   },
   "outputs": [],
   "source": [
    "# Affichage des durées calculées\n",
    "for i in range(10):\n",
    "    print(f\"tableau de taille n = {(1+i)*1000}\")\n",
    "    print(f\"insertion : {durees_insertion[i]}\")\n",
    "    print(f\"selection : {durees_selection[i]}\\n\")"
   ]
  },
  {
   "cell_type": "markdown",
   "metadata": {
    "tags": []
   },
   "source": [
    "<h2 class=\"alert alert-info\">Complexité : Représentation graphique</h2>"
   ]
  },
  {
   "cell_type": "markdown",
   "metadata": {
    "nbgrader": {
     "grade": false,
     "grade_id": "cell-8b0e542b786e59f7",
     "locked": true,
     "schema_version": 1,
     "solution": false
    }
   },
   "source": [
    "Nous allons maintenant représenter des graphiques donnant la durée d'exécution des algorithme en fonction de la taille des tableaux à trier.\n",
    "\n",
    "Puis nous comparerons l'allure de ces graphique à la fonction carré ($f(x) = x^2$).\n",
    "\n",
    "Pour cela, nous aurons besoin du module `matplotlib.pyplot` pour tracer un graphique."
   ]
  },
  {
   "cell_type": "code",
   "execution_count": null,
   "metadata": {
    "nbgrader": {
     "grade": false,
     "grade_id": "cell-da499060d6b12c2d",
     "locked": true,
     "schema_version": 1,
     "solution": false
    }
   },
   "outputs": [],
   "source": [
    "import matplotlib.pyplot as plt"
   ]
  },
  {
   "cell_type": "markdown",
   "metadata": {
    "nbgrader": {
     "grade": false,
     "grade_id": "cell-34b6d8745855cba3",
     "locked": true,
     "schema_version": 1,
     "solution": false
    }
   },
   "source": [
    "Observer bien l'exemple suivant pour découvrir les fonctionnalités de base (cela peut-être beaucoup plus compliqué !) du module `matplotlib.pyplot`."
   ]
  },
  {
   "cell_type": "code",
   "execution_count": null,
   "metadata": {
    "nbgrader": {
     "grade": false,
     "grade_id": "cell-8fec11aec9456f68",
     "locked": true,
     "schema_version": 1,
     "solution": false
    }
   },
   "outputs": [],
   "source": [
    "# création des données :\n",
    "abscisses = [i for i in range(1, 11)]\n",
    "ordonnees = [x**2 for x in abscisses]\n",
    "\n",
    "# création du graphique\n",
    "plt.plot(abscisses, ordonnees, color='green', label='fonction carré') # prépare le graphique\n",
    "plt.legend()  # commande l'affichage de la légende (càd le label défini précédemment)\n",
    "plt.show()    # présente le graphique à l'écran"
   ]
  },
  {
   "cell_type": "markdown",
   "metadata": {},
   "source": [
    "<div class=\"alert alert-warning\">\n",
    "    \n",
    "En vous appuyant sur le modèle de la cellule précédente, tracez les graphiques donnant la durée d'exécution des algorithmes en fonction de la taille des données.\n",
    "</div>"
   ]
  },
  {
   "cell_type": "code",
   "execution_count": null,
   "metadata": {
    "nbgrader": {
     "grade": true,
     "grade_id": "cell-88d4ab71c04bfc92",
     "locked": false,
     "points": 3,
     "schema_version": 1,
     "solution": true
    }
   },
   "outputs": [],
   "source": [
    "# création des abscisses :\n",
    "n = [n for n in range(1, 11)]\n",
    "\n",
    "# A VOUS DE JOUER\n",
    "\n",
    "# création du graphique sélection\n",
    "plt.plot(n, durees_selection, color='red', label='tri selection') \n",
    "plt.legend()\n",
    "plt.show()\n",
    "\n",
    "# création du graphique insertion\n",
    "plt.plot(n, durees_insertion, color='blue', label='tri insertion') \n",
    "plt.legend() \n",
    "plt.show() "
   ]
  },
  {
   "cell_type": "markdown",
   "metadata": {
    "nbgrader": {
     "grade": false,
     "grade_id": "cell-166897c1f3cc4809",
     "locked": true,
     "schema_version": 1,
     "solution": false
    }
   },
   "source": [
    "Conclusion : que pensez-vous des allures des graphiques obtenus ? Le coût semble-t-il quadratique ?"
   ]
  },
  {
   "cell_type": "markdown",
   "metadata": {
    "jp-MarkdownHeadingCollapsed": true,
    "tags": []
   },
   "source": [
    "*Votre réponse ici :*\n",
    "\n",
    "...\n",
    "\n",
    "..."
   ]
  },
  {
   "cell_type": "markdown",
   "metadata": {
    "nbgrader": {
     "grade": false,
     "grade_id": "cell-d091ea312500d139",
     "locked": true,
     "schema_version": 1,
     "solution": false
    }
   },
   "source": [
    "Ci-dessous, on présente les courbes sur un unique graphique pour comparer plus aisément les courbes entre elles. \n",
    "\n",
    "Par ailleurs, on a normé les résultats pour éviter des soucis d'échelle."
   ]
  },
  {
   "cell_type": "code",
   "execution_count": null,
   "metadata": {
    "nbgrader": {
     "grade": false,
     "grade_id": "cell-291386edf861a7a2",
     "locked": true,
     "schema_version": 1,
     "solution": false
    }
   },
   "outputs": [],
   "source": [
    "n = [n for n in range(1, 11)]\n",
    "\n",
    "durees_normees_selection = [duree/durees_selection[-1] for duree in durees_selection]\n",
    "durees_normees_insertion = [duree/durees_insertion[-1] for duree in durees_insertion]\n",
    "carres_normes = [i**2/100 for i in range(1, 11)]\n",
    "\n",
    "plt.plot(n, durees_normees_selection, color='red', label='selection')\n",
    "plt.plot(n, durees_normees_insertion, color='blue', label='insertion')\n",
    "plt.plot(n, carres_normes, color='black', label='$f(x)=x^2$')\n",
    "plt.legend()\n",
    "plt.show()"
   ]
  },
  {
   "cell_type": "code",
   "execution_count": null,
   "metadata": {},
   "outputs": [],
   "source": []
  }
 ],
 "metadata": {
  "celltoolbar": "Create Assignment",
  "kernelspec": {
   "display_name": "Python 3",
   "language": "python",
   "name": "python3"
  },
  "language_info": {
   "codemirror_mode": {
    "name": "ipython",
    "version": 3
   },
   "file_extension": ".py",
   "mimetype": "text/x-python",
   "name": "python",
   "nbconvert_exporter": "python",
   "pygments_lexer": "ipython3",
   "version": "3.10.1"
  }
 },
 "nbformat": 4,
 "nbformat_minor": 4
}
