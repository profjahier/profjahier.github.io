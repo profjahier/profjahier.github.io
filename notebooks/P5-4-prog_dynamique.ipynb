{
 "cells": [
  {
   "cell_type": "markdown",
   "metadata": {},
   "source": [
    "<h1 class=\"alert alert-success\">Programmation dynamique et mémoïsation</h1>"
   ]
  },
  {
   "cell_type": "markdown",
   "metadata": {},
   "source": [
    "Avant de découvrir l'approche de programmation dynamique pour résoudre un problème, nous allons voir la technique de mémoïsation qui n'est pas à proprement parler de la programmation dynamique, même si on les trouve assez souvent associés."
   ]
  },
  {
   "cell_type": "markdown",
   "metadata": {},
   "source": [
    "<h2 class=\"alert alert-info\">1. La suite de Fibonacci :</h2>"
   ]
  },
  {
   "cell_type": "markdown",
   "metadata": {},
   "source": [
    "Cette suite mathématique  célèbre est définie par récurrence selon le schéma suivant :\n",
    "\n",
    "$u_0  = 1$\n",
    "\n",
    "$u_1  = 1$\n",
    "\n",
    "$u_n = u_{n-1} + u_{n-2}$"
   ]
  },
  {
   "cell_type": "markdown",
   "metadata": {},
   "source": [
    "<h3 class=\"alert alert-warning\">Algorithme récursif naïf</h3>"
   ]
  },
  {
   "cell_type": "markdown",
   "metadata": {},
   "source": [
    "On peut évidemment traduire très simplement une suite définie par récurrence en  mathématique avec une fonction récursive."
   ]
  },
  {
   "cell_type": "code",
   "execution_count": null,
   "metadata": {},
   "outputs": [],
   "source": [
    "def fibo_rec(n):\n",
    "    \"\"\" Renvoie le n_ème terme de la suite de Fibonacci \"\"\"\n",
    "    assert isinstance(n, int) and n >= 0, \"n est un entier positif\"\n",
    "    if n <= 1: # condition d'arrêt\n",
    "        return 1\n",
    "    else:\n",
    "        # COMPLETER LA LIGNE SUIVANTE :\n",
    "        # return ...\n",
    "        "
   ]
  },
  {
   "cell_type": "code",
   "execution_count": null,
   "metadata": {},
   "outputs": [],
   "source": [
    "for i in range(30, 35):\n",
    "    print(i, fibo_rec(i))"
   ]
  },
  {
   "cell_type": "markdown",
   "metadata": {},
   "source": [
    "**Problème** : on *re-calcule beaucoup de choses* ! **Très lourd en mémoire et la pile de récursion risque vite d'exploser**."
   ]
  },
  {
   "cell_type": "markdown",
   "metadata": {},
   "source": [
    "**Exercice papier** : réaliser à la main tous les calculs par l'appel de ```fibo_rec(5)```.\n",
    "\n",
    "Comment de fois avez-vous dû calculer fibo_rec(0) et fibo_rec(1) ?"
   ]
  },
  {
   "cell_type": "markdown",
   "metadata": {},
   "source": [
    "<h3 class=\"alert alert-warning\">Approche récursive avec mémoïsation (bottom-down)</h3>"
   ]
  },
  {
   "cell_type": "markdown",
   "metadata": {},
   "source": [
    "L'idée est de **stocker dans un tableau annexe toutes les valeurs déjà calculées** une fois pour ne pas recommencer !\n",
    "\n",
    "**On conserve l'approche descendante de la récursivité** : la solution globale fait appel au fur et à mesure au solutions des sous-problèmes (en vérifiant si une valeur n'a pas déjà été mémorisée avant de se lancer dans le calcul récursif)."
   ]
  },
  {
   "cell_type": "code",
   "execution_count": null,
   "metadata": {},
   "outputs": [],
   "source": [
    "def fibo_memo(n):\n",
    "    \"\"\" Renvoie le n_ème terme de la suite de Fibonacci \"\"\"\n",
    "    assert isinstance(n, int) and n >= 0, \"n est un entier positif\"\n",
    "    \n",
    "    def fibo(n):\n",
    "        if memoire[n] is None:  # si la valeur n'a pas déjà été calculée, on le fait ci-dessous :\n",
    "            memoire[n] = fibo(n-1) + fibo(n-2)\n",
    "        return memoire[n]\n",
    "    \n",
    "    if n <= 1: # cas particulier\n",
    "        return 1\n",
    "    else:      # on 'prépare' la mémoire et on appelle la fonction récursive centrale du calcul\n",
    "        memoire = [None for _ in range(n+1)] \n",
    "        memoire[0], memoire[1] = 1, 1\n",
    "        return fibo(n)      "
   ]
  },
  {
   "cell_type": "code",
   "execution_count": null,
   "metadata": {},
   "outputs": [],
   "source": [
    "for i in range(30, 35):\n",
    "    print(i, fibo_memo(i))"
   ]
  },
  {
   "cell_type": "markdown",
   "metadata": {},
   "source": [
    "**Exercice papier** : réaliser à la main tous les calculs par l'appel de ```fibo_memo(5)```.\n",
    "\n",
    "Comment de fois avez-vous dû calculer fibo(0), fibo(1), fibo(2), fibo(3) et fibo(4) ?"
   ]
  },
  {
   "cell_type": "markdown",
   "metadata": {},
   "source": [
    "<h3 class=\"alert alert-warning\">Approche par la programmation dynamique</h3>"
   ]
  },
  {
   "cell_type": "markdown",
   "metadata": {},
   "source": [
    "L'**approche ascendante de la programmation dynamique** consiste à construire **de façon itérative** les **solutions des sous-problèmes** pour atteindre la solution globale qui combine ces sous-problèmes.\n",
    "\n",
    "Pour calculer fibo(5), on calcule donc d'abord fibo(0), puis fibo(1), puis fibo(2), etc, jusqu'à fibo(5). Chaque calcul intermédiaire est stocké dans un tableau \"mémoire\"."
   ]
  },
  {
   "cell_type": "code",
   "execution_count": null,
   "metadata": {},
   "outputs": [],
   "source": [
    "def fibo_dyn(n):\n",
    "    \"\"\" Renvoie le n_ème terme de la suite de Fibonacci \"\"\"\n",
    "    assert isinstance(n, int) and n >= 0, \"n est un entier positif\"\n",
    "    if n <= 1: # cas particulier\n",
    "        return 1\n",
    "    else:      # on 'prépare' la mémoire (tableau f) avant d'entrer dans le coeur itératif du calcul\n",
    "        f = [None for _ in range(n+1)] \n",
    "        f[0], f[1] = 1, 1 # 2 cas de base\n",
    "        for i in range(2, n+1):\n",
    "            # COMPLETER LA LIGNE SUIVANTE :\n",
    "            # f[i] = ...\n",
    "            \n",
    "    return f[n]"
   ]
  },
  {
   "cell_type": "code",
   "execution_count": null,
   "metadata": {},
   "outputs": [],
   "source": [
    "for i in range(30, 35):\n",
    "    print(i, fibo_dyn(i))"
   ]
  },
  {
   "cell_type": "markdown",
   "metadata": {},
   "source": [
    "**Exercice papier** : réaliser à la main tous les calculs par l'appel de ```fibo_dyn(5)```.\n",
    "\n",
    "Écrire l'état de la mémoire (le tableau f) à chaque itération."
   ]
  },
  {
   "cell_type": "markdown",
   "metadata": {},
   "source": [
    "<h3 class=\"alert alert-warning\">Simplification possible (gain de mémoire)</h3>"
   ]
  },
  {
   "cell_type": "markdown",
   "metadata": {},
   "source": [
    "Dans certains cas, comme celui du calcul du n_ème terme de la suite de Fibonacci, on peut alléger le programme **si seule la solution finale du problème nous intéresse**. Dans le programme précédent, on a en fait calculé **tous les termes** de la suite jusqu'au n_ème. \n",
    "\n",
    "Observer la fonction suivante qui conserve un caractère itératif, sans utiliser plus de mémoire que nécessaire (il suffit de toujours garder seulement les 2 derniers termes de la suite)."
   ]
  },
  {
   "cell_type": "code",
   "execution_count": null,
   "metadata": {},
   "outputs": [],
   "source": [
    "def fibo_iter(n):\n",
    "    \"\"\" Renvoie le n_ème terme de la suite de Fibonacci \"\"\"\n",
    "    assert isinstance(n, int) and n >= 0, \"n est un entier positif\"\n",
    "    if n <= 1: # cas particulier\n",
    "        return 1\n",
    "    else:     \n",
    "        a, b = 1, 1 # a est le terme de rang (n-1) et b le terme de rang (n)\n",
    "        for i in range(2, n+1):\n",
    "            a, b = b, a + b # utilisation astucieuse de l'échange de variables\n",
    "    return b"
   ]
  },
  {
   "cell_type": "code",
   "execution_count": null,
   "metadata": {},
   "outputs": [],
   "source": [
    "for i in range(30, 35):\n",
    "    print(i, fibo_iter(i))"
   ]
  },
  {
   "cell_type": "markdown",
   "metadata": {},
   "source": [
    "<h2 class=\"alert alert-info\">2. La pyramide des nombres :</h2>"
   ]
  },
  {
   "cell_type": "markdown",
   "metadata": {},
   "source": [
    "(*Extrait de Wikipedia https://fr.wikipedia.org/wiki/Programmation_dynamique#Pyramide_de_nombres*)\n",
    "\n",
    "         3\n",
    "        7 4\n",
    "       2 4 6\n",
    "      9 5 9 3"
   ]
  },
  {
   "cell_type": "markdown",
   "metadata": {},
   "source": [
    "Dans une pyramide de nombres, on cherche, en partant du sommet de la pyramide, et en se dirigeant vers le bas à chaque étape (vers le fils droit ou le fils gauche), à maximiser le total des nombres traversés. Vous pouvez vérifier que dans l'exemple ci-dessus, le maximum possible est 23 (3+7+4+9).\n",
    "\n",
    "Un algorithme naïf, sur l'exemple, consiste à examiner les 8 chemins possibles, et choisir celui qui a le plus grand total. En général, quand la pyramide a $n$ niveaux, il y a $2^{n-1}$ chemins et $2^{n}-2$ calculs à effectuer. Donc l'algorithme naïf est en temps exponentiel en $n$.\n",
    "\n",
    "Le paradigme de la programmation dynamique permet d'obtenir un algorithme efficace en définissant des sous-problèmes.\n",
    "\n",
    "Pour toute position $x$ dans la pyramide, notons $v ( x )$ le nombre écrit à cette position et $c ( x )$  le total des nombres traversés dans un chemin maximal issu de $x$. **Les sous-problèmes consistent à calculer les valeurs de $c ( x )$ pour tout $x$. Le problème complet consiste à calculer $c ( x )$ lorsque $x$ est le sommet de la pyramide**.\n",
    "\n",
    "Voyons maintenant la manière de déterminer $c ( x )$ :\n",
    "\n",
    "- $c ( x ) = v ( x )$ pour toute position $x$ situé au rez-de chaussée de la pyramide\n",
    "- $c ( x ) = v ( x ) + max ( c ( g ( x ) ) , c ( d ( x ) ) )$ pour toute autre position $x $, où $g ( x )$ et $d ( x )$ sont le \"fils gauche\" et le \"fils droit\" sous la position $x $.\n",
    "\n",
    "Si on cherche à calculer directement par la définition récursive, on évalue plusieurs fois la même valeur; dans l'exemple ci-dessus, la valeur 4 du 1er étage est calculée deux fois en venant de la ligne supérieure (une fois depuis le 7, une fois depuis le 4). Le paradigme de la programmation dynamique consiste à calculer les valeurs $c ( x )$  à l'aide d'un algorithme itératif ascendant en stockant les valeurs déjà calculées dans un tableau.\n",
    "\n",
    "Le nombre de calculs est seulement $n ( n − 1 ) / 2$."
   ]
  },
  {
   "cell_type": "code",
   "execution_count": null,
   "metadata": {},
   "outputs": [],
   "source": [
    "# Implémentation possible de la pyramide : chaque étage est un tableau et la pyramide est un tableau d'étages.\n",
    "# On écrit la base de la pyramide (rez-de-chaussée = étage 0) à l'indice 0.\n",
    "pyramide = [[9, 5, 9, 3], [2, 4, 6], [7, 4], [3]]"
   ]
  },
  {
   "cell_type": "markdown",
   "metadata": {},
   "source": [
    "<h3 class=\"alert alert-warning\">Approche dynamique</h3>"
   ]
  },
  {
   "cell_type": "markdown",
   "metadata": {},
   "source": [
    "La \"mémoire\" est un tableau avec la même structure que la pyramide.\n",
    "Elle est initialisée avec les valeurs de la pyramide $v(x)$, puis prendra les valeurs $c(x)$ au fur et à mesure en remontant la pyramide.\n",
    "\n",
    "A chaque étape (en partant du 1er étage de la pyramide et en montant dans les étages jusqu'au sommet), et pour chaque nombre de l'étage, on conserve le maximum des 2 chemins possibles vers son fils gauche ou son fils droit."
   ]
  },
  {
   "cell_type": "code",
   "execution_count": null,
   "metadata": {},
   "outputs": [],
   "source": [
    "def pyramide_dyn(pyramide):\n",
    "    \"\"\" Approche en programmation dynamique \"\"\"\n",
    "    taille = len(pyramide)\n",
    "    memoire = [[valeur for valeur in etage] for etage in pyramide] # initialisation de la mémoire\n",
    "    for etage in range(1, taille):\n",
    "        for rang in range(taille-etage):\n",
    "            # COMPLETER LA LIGNE SUIVANTE :\n",
    "            # memoire[etage][rang] = ...\n",
    "            \n",
    "    return memoire[-1][0] # sommet de la pyramide"
   ]
  },
  {
   "cell_type": "code",
   "execution_count": null,
   "metadata": {},
   "outputs": [],
   "source": [
    "pyramide_dyn(pyramide)"
   ]
  },
  {
   "cell_type": "markdown",
   "metadata": {},
   "source": [
    "<h3 class=\"alert alert-warning\">Récursif sans mémoire</h3>"
   ]
  },
  {
   "cell_type": "markdown",
   "metadata": {},
   "source": [
    "On propose ci-dessous un algorithme récursif de résolution.\n",
    "\n",
    "Le maximum depuis un sommet quelconque est la valeur de ce sommet augmenté du maximum entre les 2 chemins partant vers son fils droit ou son fils gauche."
   ]
  },
  {
   "cell_type": "code",
   "execution_count": null,
   "metadata": {},
   "outputs": [],
   "source": [
    "def pyramide_rec(pyramide, etage, rang):\n",
    "    \"\"\" Approche récursive sans mémoïsation \"\"\"\n",
    "    if etage == 0:\n",
    "        return pyramide[0][rang]\n",
    "    else:\n",
    "        return pyramide[etage][rang] + max(pyramide_rec(pyramide, etage-1, rang), pyramide_rec(pyramide, etage-1, rang+1))"
   ]
  },
  {
   "cell_type": "code",
   "execution_count": null,
   "metadata": {},
   "outputs": [],
   "source": [
    "pyramide_rec(pyramide, len(pyramide)-1, 0)"
   ]
  },
  {
   "cell_type": "markdown",
   "metadata": {},
   "source": [
    "**Exercice papier** : réaliser à la main tous les calculs par l'appel de ```pyramide_rec(pyramide, 3, 0)```.\n",
    "Certains calculs sont-ils réalisés plusieurs fois ?"
   ]
  },
  {
   "cell_type": "markdown",
   "metadata": {},
   "source": [
    "<h3 class=\"alert alert-warning\">Approche avec mémoïsation</h3>"
   ]
  },
  {
   "cell_type": "markdown",
   "metadata": {},
   "source": [
    "Pour ne pas recalculer plusieurs fois des chemins déjà calculés, on utilise la technique de mémoïsation."
   ]
  },
  {
   "cell_type": "code",
   "execution_count": null,
   "metadata": {},
   "outputs": [],
   "source": [
    "def pyramide_memo(pyramide):\n",
    "    \"\"\" Approche avec mémoïsation \"\"\"\n",
    "    def calcul(etage, rang):\n",
    "        if etage == 0:                # à la base de la pyramide, on connait les maximum :\n",
    "            return pyramide[0][rang]  # ce sont les nombres eux-mêmes\n",
    "        else:\n",
    "            a, b = memoire[etage-1][rang], memoire[etage-1][rang+1]\n",
    "            if a is None and b is None: # on ne connait aucun des fils gauche ou droit\n",
    "                memoire[etage][rang] = pyramide[etage][rang] + max(calcul(etage-1, rang), calcul(etage-1, rang+1))\n",
    "            elif b is None:             # on connait déjà le fils gauche\n",
    "                memoire[etage][rang] = pyramide[etage][rang] + max(a, calcul(etage-1, rang+1))\n",
    "            else:                       # on connait déjà le fils droit\n",
    "                memoire[etage][rang] = pyramide[etage][rang] + max(calcul(etage-1, rang), b)\n",
    "            return memoire[etage][rang]\n",
    "\n",
    "    taille = len(pyramide)\n",
    "    memoire = [[None for valeur in etage] for etage in pyramide] # initialisation de la mémoire \n",
    "    return calcul(taille-1, 0)"
   ]
  },
  {
   "cell_type": "code",
   "execution_count": null,
   "metadata": {},
   "outputs": [],
   "source": [
    "pyramide_memo(pyramide)"
   ]
  },
  {
   "cell_type": "markdown",
   "metadata": {},
   "source": [
    "<h3 class=\"alert alert-warning\">Tests : avec création de pyramides aléatoires</h3>"
   ]
  },
  {
   "cell_type": "code",
   "execution_count": null,
   "metadata": {},
   "outputs": [],
   "source": [
    "from random import randint"
   ]
  },
  {
   "cell_type": "code",
   "execution_count": null,
   "metadata": {},
   "outputs": [],
   "source": [
    "taille = 7\n",
    "pyramide = [[randint(1, 9) for j in range(taille-i)] for i in range(taille)]\n",
    "pyramide"
   ]
  },
  {
   "cell_type": "code",
   "execution_count": null,
   "metadata": {},
   "outputs": [],
   "source": [
    "print(pyramide_dyn(pyramide), pyramide_memo(pyramide), pyramide_rec(pyramide, len(pyramide)-1, 0))"
   ]
  },
  {
   "cell_type": "code",
   "execution_count": null,
   "metadata": {},
   "outputs": [],
   "source": [
    "taille = 25\n",
    "pyramide = [[randint(1, 9) for j in range(taille-i)] for i in range(taille)]"
   ]
  },
  {
   "cell_type": "code",
   "execution_count": null,
   "metadata": {},
   "outputs": [],
   "source": [
    "pyramide_dyn(pyramide)"
   ]
  },
  {
   "cell_type": "code",
   "execution_count": null,
   "metadata": {},
   "outputs": [],
   "source": [
    "pyramide_memo(pyramide)"
   ]
  },
  {
   "cell_type": "code",
   "execution_count": null,
   "metadata": {},
   "outputs": [],
   "source": [
    "# notez la lenteur de cet algorithme !\n",
    "pyramide_rec(pyramide, len(pyramide)-1, 0)"
   ]
  },
  {
   "cell_type": "markdown",
   "metadata": {},
   "source": [
    "<h2 class=\"alert alert-info\">3. Rendu de monnaie en programmation dynamique </h2>"
   ]
  },
  {
   "cell_type": "markdown",
   "metadata": {},
   "source": [
    "Le problème du rendu de monnaire consiste à **rendre une certaine somme d'argent** avec un jeu de pièces défini en rendant le **minimum de pièces possibles**. C'est bien un **problème d'optimisation**, et il peut être résolu par la programmation dynamique.\n",
    "\n",
    "En 1ère, on a exploité un **algorithme glouton** permettant de répondre à cette problématique. \n",
    "\n",
    "*Rappel* : un algorithme glouton consiste à essayer d'optimiser un problème global en s'appuyant sur un critère local d'optimisation. Malheureusement ce type d'algorithme n'assure pas de trouver la solution optimale au problème complet (c'est quand même parfois le cas).\n",
    "\n",
    "Par exemple, dans le cas du \"rendu de monnaie\", l'algorithme glouton peut donner la solution optimale au problème complet si le jeu de pièces est bien choisi au départ. Mais ce n'est pas forcément le cas...\n",
    "\n",
    "**L'approche dynamique consiste ici à optimiser le rendu d'une somme plus petite  que celle attendue (on part de 0), et d'augmenter la valeur de cette somme intermédiaire jusqu'à atteindre la somme finale attendue.**\n",
    "\n",
    "On utilise un tableau pour la \"mémoire\" dont les indices correspondent aux sommes à rendre (de 0 jusqu'à la somme attendue) et dont les valeurs sont le nombre minimum de pièces à rendre pour chaque 'somme-indice'. Cette mémoire sera initialisée avec des None pour signifier qu'on ne sait pas au début comment rendre chacune des sommes intermédiaires.\n",
    "\n",
    "*Exemple d'état de la mémoire* : \n",
    "\n",
    "    [0, 1, 1, 2, 2, 1, 2, None]\n",
    "    \n",
    "Cela signifie :\n",
    "\n",
    "|somme| nombre de pièces|\n",
    "|--------|--------|\n",
    "|    0    |    0    |\n",
    "|    1    |    1    |\n",
    "|    2    |    1    |\n",
    "|    3    |    2    |\n",
    "|    4    |    2    |\n",
    "|    5    |    1    |\n",
    "|    6    |    2    |\n",
    "|    7    |    None    |\n",
    "\n",
    "La relation entre un problème plus complexe et un problème plus simple peut se schématiser ainsi :\n",
    "    \n",
    "    nb_de_pieces[somme] = 1 + minimum(nb_de_pieces[somme - valeur_pièce] parmi toutes les pièces)\n",
    "    \n",
    "(*Remarque* : il faut tout de même s'assurer que la valeur de la pièce est inférieure à la somme à rendre).\n",
    "\n",
    "On peut ainsi remplir la mémoire de proche en proche en parcourant chacune des sommes intermédiaires (de 0 jusqu'à la somme finale à rendre).\n"
   ]
  },
  {
   "cell_type": "code",
   "execution_count": null,
   "metadata": {},
   "outputs": [],
   "source": [
    "pieces = [1, 2, 5, 10, 50, 100] # liste des pièces disponibles"
   ]
  },
  {
   "cell_type": "code",
   "execution_count": null,
   "metadata": {},
   "outputs": [],
   "source": [
    "def rendu(somme, pieces):\n",
    "    \"\"\" Trouve le nombre de pièces minimum à rendre pour la somme donnée \n",
    "    Entrées :\n",
    "    - somme : entier (la somme à rendre)\n",
    "    - pieces : liste d'entiers (liste des pièces disponibles)\n",
    "    Sortie :\n",
    "    - entier (nb minium de pièces à rendre)\n",
    "    \"\"\"\n",
    "    assert isinstance(somme, int) and somme >= 0, \"La somme à rendre est un entier positif\"\n",
    "    \n",
    "    # CREATION DE LA MEMOIRE (tableau de None pour des indices de 0 à somme [inclus]).\n",
    "    # COMPLETER LA LIGNE SUIVANTE :\n",
    "    # memoire = ...\n",
    "    \n",
    "    memoire[0] = 0\n",
    "    \n",
    "    for montant in range(1, somme+1):\n",
    "        # COMPLETER LA LIGNE SUIVANTE :\n",
    "        # memoire[montant] =  ...\n",
    "        memoire[montant] = 1 + min([memoire[montant-piece] for piece in pieces if montant-piece >= 0])\n",
    "    return memoire[somme]"
   ]
  },
  {
   "cell_type": "code",
   "execution_count": null,
   "metadata": {},
   "outputs": [],
   "source": [
    "# tests :\n",
    "sommes_test = (0, 1, 2, 3, 4, 5, 6, 12, 13, 48, 49, 50)\n",
    "resultats_attendus = (0, 1, 1, 2, 2, 1, 2, 2, 3, 7, 7, 1)\n",
    "for i, somme in enumerate(sommes_test):\n",
    "    assert rendu(somme, pieces) == resultats_attendus[i]"
   ]
  },
  {
   "cell_type": "markdown",
   "metadata": {},
   "source": [
    "<h3 class=\"alert alert-warning\">Rendu de monnaie en enregistrant la liste des pièces à rendre</h3>"
   ]
  },
  {
   "cell_type": "markdown",
   "metadata": {},
   "source": [
    "**Défi** : Reprendre l'algorithme précédent en ajoutant une possibilité de lister les pièces à rendre (pas seulement leur nombre).\n",
    "\n",
    "*Exemple* : ```rendu2(48)``` vaut ```(7, [1, 2, 5, 10, 10, 10, 10])```\n",
    "\n",
    "cela signifie qu'on peut rendre 48€ avec 7 pièces : 1€, 2€, 5€, et 4 pièces de 10€."
   ]
  },
  {
   "cell_type": "code",
   "execution_count": null,
   "metadata": {},
   "outputs": [],
   "source": [
    "def rendu2(somme, pieces):\n",
    "    \"\"\" Trouve le nombre de pièces minimum à rendre pour la somme donnée \"\"\"\n",
    "    assert isinstance(somme, int) and somme >= 0, \"La somme à rendre est un entier positif\"\n",
    "    \n",
    "    memoire = [(None, []) for montant in range(somme+1)]\n",
    "    memoire[0] = (0, [])\n",
    "\n",
    "    # A VOUS DE JOUER :\n",
    "    #   ...\n",
    "    #   ...\n",
    "    "
   ]
  },
  {
   "cell_type": "code",
   "execution_count": null,
   "metadata": {},
   "outputs": [],
   "source": [
    "# TESTS :\n",
    "for somme in sommes_test:\n",
    "    print(somme, rendu2(somme, pieces))"
   ]
  },
  {
   "cell_type": "code",
   "execution_count": null,
   "metadata": {},
   "outputs": [],
   "source": []
  }
 ],
 "metadata": {
  "kernelspec": {
   "display_name": "Python 3.8.1 64-bit ('python38': conda)",
   "language": "python",
   "name": "python38164bitpython38conda56991d5ad1414e06a4dcd344400cf456"
  },
  "language_info": {
   "codemirror_mode": {
    "name": "ipython",
    "version": 3
   },
   "file_extension": ".py",
   "mimetype": "text/x-python",
   "name": "python",
   "nbconvert_exporter": "python",
   "pygments_lexer": "ipython3",
   "version": "3.8.1"
  }
 },
 "nbformat": 4,
 "nbformat_minor": 4
}
