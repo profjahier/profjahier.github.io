{
 "cells": [
  {
   "cell_type": "markdown",
   "metadata": {},
   "source": [
    "<h1 class=\"alert alert-success\">Diviser pour régner :<br>\n",
    "    \n",
    "Rotation d'une image de 90°</h1>"
   ]
  },
  {
   "cell_type": "markdown",
   "metadata": {},
   "source": [
    "Nous aurons besoin du module PIL Image pour la manipulation d'image pixel par pixel.\n",
    "\n",
    "<h2 class=\"alert alert-warning\">Documentation PIL Image</h2>\n",
    "\n",
    "https://pillow.readthedocs.io/en/stable/reference/Image.html"
   ]
  },
  {
   "cell_type": "markdown",
   "metadata": {},
   "source": [
    "Les fonctions de base utiles dans ce TP sont :\n",
    "\n",
    "1. **img = Image.open('adresse du fichier image')** : ouvre une image (objet PIL Image)\n",
    "2. **(L, H) = img.size** : renvoie un tuple (largeur, hauteur)\n",
    "3. **m = img.load()** : renvoie une matrice de pixels (codage (R,G,B)) : accès en r/w avec **m[x, y]**\n",
    "        Remarque : les modifications de m se répercutent sur img.\n",
    "4. **img.show()** : affiche l'image"
   ]
  },
  {
   "cell_type": "markdown",
   "metadata": {},
   "source": [
    "Précisions sur les coordonnées :\n",
    "- x est horizontal\n",
    "- y est vertical\n",
    "\n",
    "\n",
    "    - (0, 0) est le coin supérieur gauche (NO)\n",
    "    - (n, 0) est le coin supérieur droit (NE)\n",
    "    - (0, n) est le coin inférieur gauche (SO)\n",
    "    - (n, n) est le coin inférieur droit (SE)"
   ]
  },
  {
   "cell_type": "markdown",
   "metadata": {},
   "source": [
    "<h2 class=\"alert alert-info\">Rotation d'un quart de tour (sens horaire)</h2>\n",
    "But du jeu :\n",
    "\n",
    "Passer de cette image : ![image droite](n=4.jpg) \n",
    "à celle-ci : ![image tournée de 90° horaire](n=4-90.jpg)"
   ]
  },
  {
   "cell_type": "markdown",
   "metadata": {},
   "source": [
    "<h2 class=\"alert alert-info\"> Diviser pour régner : qu'en est-il ici ?</h2>\n",
    "L'idée est de découper l'image (carrée) en 4 sous-images (NO, NE, SO, SE). Puis de faire une permutation circulaire (dans le sens horaire) de ces 4 sous-images.\n",
    "\n",
    "Ce procédé est répété de façon récursive, en subdivisant à chaque niveau de récurence l'image en 4  nouvelles  sous-images. \n",
    "\n",
    "Lorsque l'image ne fait plus qu'un pixel de large, la rotation est immédiate : il n'y a rien à faire !\n",
    "\n",
    "Voir le fichier annexe ```explication-rotation.pdf```."
   ]
  },
  {
   "cell_type": "markdown",
   "metadata": {},
   "source": [
    "### *Remarque* : on se limitera ici à l'utilisation d'images carrées et dont la dimension est une puissance de 2 !"
   ]
  },
  {
   "cell_type": "markdown",
   "metadata": {},
   "source": [
    "### L'algorithme de rotation (non détaillé) est donc le suivant :\n",
    "\n",
    "<div class=\"alert alert-danger\">\n",
    "    \n",
    "- Si l'image est de taille 1 px de large, ne rien faire ! (RÉGNER) <br>\n",
    "- Sinon : <br>\n",
    "    ° Faire la rotation des 4 sous-images (appel récursif à la fonction de rotation) (DIVISER) <br>\n",
    "    ° \"Replacer\" dans l'image d'origine ces 4 sous-images pivotées, en permutant leur position d'origine d'un quart de tour (ex : NO devient NE, SO devient NO, etc...). (COMBINER) <br>\n",
    "    \n",
    "    </div>"
   ]
  },
  {
   "cell_type": "markdown",
   "metadata": {},
   "source": [
    "<h1 class=\"alert alert-info\">Au travail !</1>"
   ]
  },
  {
   "cell_type": "code",
   "execution_count": null,
   "metadata": {},
   "outputs": [],
   "source": [
    "from PIL import Image  "
   ]
  },
  {
   "cell_type": "markdown",
   "metadata": {},
   "source": [
    "<h3 class=\"alert alert-warning\">Charger, puis visualiser, le fichier image 'yoda.jpg'</h3>"
   ]
  },
  {
   "cell_type": "code",
   "execution_count": null,
   "metadata": {},
   "outputs": [],
   "source": [
    "# A vous de jouer\n",
    "# ...\n"
   ]
  },
  {
   "cell_type": "markdown",
   "metadata": {},
   "source": [
    "<h3 class=\"alert alert-warning\">Tester la manipulation de l'image-matrice</h3>\n",
    "\n",
    "On commence par obtenir la matrice ```m``` de l'image pour effectuer les modifications directement sur celle-ci.\n",
    "        \n",
    "       Rappel : m[x, y] est le pixel de coordonnées (x, y).\n",
    "       \n",
    "Un pixel est un triplet de 3 nombres représentant ses composantes R, V, B (chacune codée sur 1 octet : entier entre 0 et 255)."
   ]
  },
  {
   "cell_type": "code",
   "execution_count": null,
   "metadata": {},
   "outputs": [],
   "source": [
    "yoda = Image.open('yoda.jpg')\n",
    "yoda_matrice = yoda.load()"
   ]
  },
  {
   "cell_type": "code",
   "execution_count": null,
   "metadata": {},
   "outputs": [],
   "source": [
    "for x in range(10, 200):\n",
    "    yoda_matrice[x, 30] = (0, 0, 255) # trait horizontal bleu\n",
    "    \n",
    "for y in range(100, 400):\n",
    "    yoda_matrice[50, y] = (255, 0, 0) # trait vertical rouge\n",
    "\n",
    "for x in range(400, 500):   \n",
    "    for y in range(40, 100):\n",
    "        yoda_matrice[x, y] = (255, 0, 255) # rectangle magenta\n",
    "        yoda_matrice[x, 5*y] = (0, 255, 255) # hachures cyan"
   ]
  },
  {
   "cell_type": "code",
   "execution_count": null,
   "metadata": {},
   "outputs": [],
   "source": [
    "yoda.show()\n",
    "yoda"
   ]
  },
  {
   "cell_type": "markdown",
   "metadata": {},
   "source": [
    "<h3 class=\"alert alert-warning\">Préliminaire : permuter des blocs de pixels</h3>\n",
    "\n",
    "Avant d'écrire la fonction complète de rotation, nous allons d'abord apprendre à permuter des blocs de pixels dans une image.\n",
    "\n",
    "**Rappel : Python autorise la permutation de variables en une seule instruction :**\n",
    "\n",
    "*Exemple :*\n",
    "\n",
    "    a, b, c = 1, 2, 3\n",
    "    a, b, c = b, c, a\n",
    "    \n",
    "Après ces 2 instructions : a vaut 2, b vaut 3 et c vaut 1 !"
   ]
  },
  {
   "cell_type": "markdown",
   "metadata": {},
   "source": [
    "### 1. Analyser la fonction mystere_1 ci dessous et expliquer son fonctionnement."
   ]
  },
  {
   "cell_type": "code",
   "execution_count": null,
   "metadata": {},
   "outputs": [],
   "source": [
    "def mystere_1(img):  \n",
    "    \"\"\" But : ???\n",
    "    * Entrée : img : une image PIL.\n",
    "    \"\"\"\n",
    "    m = img.load()\n",
    "    i, j = 200, 100\n",
    "    t = 140\n",
    "    m[i+t, j], m[i+t, j+t], m[i, j+t], m[i, j] = m[i, j], m[i+t, j], m[i+t, j+t], m[i, j+t]"
   ]
  },
  {
   "cell_type": "markdown",
   "metadata": {},
   "source": [
    "### 2. Analyser la fonction mystere_2 ci dessous et expliquer son fonctionnement."
   ]
  },
  {
   "cell_type": "code",
   "execution_count": null,
   "metadata": {},
   "outputs": [],
   "source": [
    "def mystere_2(img):  \n",
    "    \"\"\" But : ???\n",
    "    * Entrée : img : une image PIL.\n",
    "    \"\"\"\n",
    "    m = img.load()\n",
    "    t = 140\n",
    "    for i in range(t):\n",
    "        for j in range(t):      \n",
    "             m[i+t, j], m[i+t, j+t], m[i, j+t], m[i, j] = m[i, j], m[i+t, j], m[i+t, j+t], m[i, j+t]"
   ]
  },
  {
   "cell_type": "code",
   "execution_count": null,
   "metadata": {},
   "outputs": [],
   "source": [
    "# test\n",
    "yoda = Image.open('yoda.jpg')\n",
    "mystere_2(yoda)\n",
    "yoda"
   ]
  },
  {
   "cell_type": "markdown",
   "metadata": {},
   "source": [
    "### 3. Généralisation.\n",
    "\n",
    "On désire écrire une fonction qui permet de permuter 4 blocs carrés de pixels à l'intérieur d'une image.\n",
    "\n",
    "COMPLETER LA FONCTION CI-DESSOUS.\n",
    "\n",
    "*Complément* : expliquer l'intérêt de l'instruction assert."
   ]
  },
  {
   "cell_type": "code",
   "execution_count": null,
   "metadata": {},
   "outputs": [],
   "source": [
    "def permutation(img, x, y, t):  \n",
    "    \"\"\" Effectue la permutation de 4 blocs carrés de pixels dans une image. \n",
    "    * Entrée : \n",
    "    - img : une image PIL.\n",
    "    - x, y : cooordonnées du coin supérieur gauche d'où commencent les permutations.\n",
    "    - t : taille des blocs à permuter.\n",
    "    \"\"\"\n",
    "    m = img.load()\n",
    "    taille = img.size[0]\n",
    "    assert (x + 2*t) <= taille and  (y + 2*t) <= taille\n",
    "    # A VOUS DE JOUER\n",
    "    # ....\n",
    "    "
   ]
  },
  {
   "cell_type": "code",
   "execution_count": null,
   "metadata": {},
   "outputs": [],
   "source": [
    "# test\n",
    "yoda = Image.open('yoda.jpg')\n",
    "permutation(yoda, 192, 64, 64)\n",
    "yoda"
   ]
  },
  {
   "cell_type": "markdown",
   "metadata": {},
   "source": [
    "<h3 class=\"alert alert-warning\">Écriture de la fonction de rotation</h3>\n",
    "\n",
    "On rappelle à nouveau l'algorithme de rotation décrit plus haut :\n",
    "\n",
    "<div class=\"alert alert-danger\">\n",
    "    \n",
    "- Si l'image est de taille 1 px de large, ne rien faire !<br>\n",
    "- Sinon : <br>\n",
    "    ° Faire la rotation des 4 sous-images (appel récursif à la fonction de rotation) : chaque sous-image a une taille moitié par rapport à l'image d'origine. <br>\n",
    "    ° Effectuer une permutation circulaire de ces 4 sous-images. <br>\n",
    "    </div>"
   ]
  },
  {
   "cell_type": "markdown",
   "metadata": {},
   "source": [
    "   \n",
    "La fonction récursive de rotation ```rotation(m, x, y, t)``` prend 4 paramètres en entrée :\n",
    "\n",
    "- la matrice-image m\n",
    "- les coordonnées x et y du coin supérieur gauche de la portion d'image à pivoter\n",
    "- la taille en pixels t de la portion carrée d'image à pivoter (t est un entier, puissance de 2)\n",
    "\n",
    "Pour faire pivoter l'image entière, cette fonction est appelée initialement avec les valeurs : x=0, y=0 et t=taille de l'image."
   ]
  },
  {
   "cell_type": "code",
   "execution_count": null,
   "metadata": {},
   "outputs": [],
   "source": [
    "def rotation(m, x, y, t):  \n",
    "    \"\"\" Effectue la rotation d'un 1/4 de tour d'une image décrite par une matrice de pixels. \n",
    "    * Entrée : \n",
    "    - m : la matrice de pixels\n",
    "    - x, y : cooordonnées du coin supérieur gauche de la portion d'image à pivoter.\n",
    "    - t : taille de la portion d'image à pivoter.\n",
    "    Remarque : la matrice image est modifiée en place.\n",
    "    \"\"\"\n",
    "    # A VOUS DE JOUER\n",
    "    # ....\n",
    "    "
   ]
  },
  {
   "cell_type": "code",
   "execution_count": null,
   "metadata": {},
   "outputs": [],
   "source": [
    "# test\n",
    "yoda = Image.open('yoda.jpg')\n",
    "yoda_matrice = yoda.load()\n",
    "rotation(yoda_matrice, 0, 0, yoda.size[0]) \n",
    "yoda.show()\n",
    "yoda"
   ]
  },
  {
   "cell_type": "markdown",
   "metadata": {},
   "source": [
    "<h2 class=\"alert alert-info\">Faire tourner une portion interne de l'image</h2>\n",
    "           \n",
    "Modifier l'appel initial de la fonction de rotation pour ne faire tourner que des portions de l'image (penser à conserver une puissance de 2 pour la taille t).  \n",
    "\n",
    "**Défi** : Faire les rotations nécessaires pour obtenir cette image :\n",
    "\n",
    "![tete renversée](tete_renversee.jpg)"
   ]
  },
  {
   "cell_type": "code",
   "execution_count": null,
   "metadata": {},
   "outputs": [],
   "source": [
    "yoda = Image.open('yoda.jpg')\n",
    "yoda_matrice = yoda.load()\n",
    "# A VOUS DE JOUER\n",
    "# ...."
   ]
  },
  {
   "cell_type": "code",
   "execution_count": null,
   "metadata": {},
   "outputs": [],
   "source": []
  }
 ],
 "metadata": {
  "kernelspec": {
   "display_name": "Python 3",
   "language": "python",
   "name": "python3"
  },
  "language_info": {
   "codemirror_mode": {
    "name": "ipython",
    "version": 3
   },
   "file_extension": ".py",
   "mimetype": "text/x-python",
   "name": "python",
   "nbconvert_exporter": "python",
   "pygments_lexer": "ipython3",
   "version": "3.7.10"
  }
 },
 "nbformat": 4,
 "nbformat_minor": 4
}
