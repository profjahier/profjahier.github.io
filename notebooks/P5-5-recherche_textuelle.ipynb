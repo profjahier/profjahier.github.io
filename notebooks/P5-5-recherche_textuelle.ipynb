{
 "cells": [
  {
   "cell_type": "markdown",
   "metadata": {},
   "source": [
    "<h1 class=\"alert alert-success\">Recherche textuelle</h1>"
   ]
  },
  {
   "cell_type": "markdown",
   "metadata": {},
   "source": [
    "Nous verrons d'abord un algorithme naïf de recherche textuelle, puis nous mettrons en oeuvre l'algortihme de Boyer-Moore simplifé (Horpspool)."
   ]
  },
  {
   "cell_type": "markdown",
   "metadata": {},
   "source": [
    "<h2 class=\"alert alert-info\">1. Recherche textuelle naïve</h2>"
   ]
  },
  {
   "cell_type": "markdown",
   "metadata": {},
   "source": [
    "Écrire une fonction ```recherche_naive``` qui prend en paramètres une chaine de caractères (motif) et une chaine de caractères (texte) et qui renvoie la position du motif dans le texte (ou -1 si la recherche est infructueuse)."
   ]
  },
  {
   "cell_type": "code",
   "execution_count": null,
   "metadata": {},
   "outputs": [],
   "source": [
    "# A VOUS DE JOUER\n",
    "# ... def recherche_naive ...\n",
    "    \n",
    "    "
   ]
  },
  {
   "cell_type": "code",
   "execution_count": null,
   "metadata": {},
   "outputs": [],
   "source": [
    "# pour vos tests :\n",
    "texte = \"CGGATTCGTATCGCATTTCG\"\n",
    "motif = \"CGCAT\"\n",
    "recherche_naive(motif, texte)"
   ]
  },
  {
   "cell_type": "code",
   "execution_count": null,
   "metadata": {},
   "outputs": [],
   "source": [
    "texte = \"un papou papa à poux a des poux papas et des poux pas papas\"\n",
    "motif =\"à poux\"\n",
    "recherche_naive(motif, texte)"
   ]
  },
  {
   "cell_type": "code",
   "execution_count": null,
   "metadata": {},
   "outputs": [],
   "source": [
    "texte= \"Réfléchir est un bon moyen de progresser\"\n",
    "motif=\"avis\"\n",
    "recherche_naive(motif, texte)"
   ]
  },
  {
   "cell_type": "code",
   "execution_count": null,
   "metadata": {},
   "outputs": [],
   "source": [
    "texte = \"CGGATTCGTATCGCATTTCG\"\n",
    "motifs = [\"CGCAT\", \"C\", \"CATTTCG\",  \"AAA\",  \"\", texte]\n",
    "for motif in motif:\n",
    "    assert recherche_naive(motif, texte) == texte.find(motif)"
   ]
  },
  {
   "cell_type": "markdown",
   "metadata": {},
   "source": [
    "<h2 class=\"alert alert-info\">2. Algorithme de Boyer-Moore simplifié (Horspool)</h2>"
   ]
  },
  {
   "cell_type": "markdown",
   "metadata": {},
   "source": [
    "correctionÉcrire une fonction ```bmh``` qui prend en paramètres une chaine de caractères (motif) et une chaine de caractères (texte) et qui renvoie la position du motif dans le texte (ou -1 si la recherche est infructuseuse), en implantant l'algorithme de Boyer Moore Horspool.\n",
    "\n",
    "On pourra d'abord écrire une fonction ```pretraitement(motif)``` qui renvoie une table de saut qui est un dictionnaire dont les clefs sont les caractères de la chaine motif et les valeurs sont les sauts (de base) pour ces caractères.\n",
    "\n",
    "Le principe de l'algorithme est donné dans le cours. Vous pouvez bien entendu vous y référer. En revanche, essayez de ne pas simplement recopier la proposition de programme du cours..."
   ]
  },
  {
   "cell_type": "code",
   "execution_count": null,
   "metadata": {},
   "outputs": [],
   "source": [
    "def pretraitement(motif):\n",
    "    \"\"\" renvoie un dictionnaire dont les clefs sont les caractères du motif (sauf le dernier)\n",
    "    et dont les valeurs sont les sauts correspondants.\n",
    "    \"\"\"\n",
    "    table = dict()\n",
    "    # A VOUS DE JOUER\n",
    "    # ...\n",
    "    "
   ]
  },
  {
   "cell_type": "code",
   "execution_count": null,
   "metadata": {},
   "outputs": [],
   "source": [
    "# exemple :\n",
    "motif = \"CGCAT\"\n",
    "motif = \"uritro\"\n",
    "table = pretraitement(motif)\n",
    "for lettre in set(motif):\n",
    "    print(lettre, table[lettre])"
   ]
  },
  {
   "cell_type": "code",
   "execution_count": null,
   "metadata": {},
   "outputs": [],
   "source": [
    "def bmh(motif, texte):\n",
    "    # A VOUS DE JOUER\n",
    "    # ...\n",
    "    "
   ]
  },
  {
   "cell_type": "code",
   "execution_count": null,
   "metadata": {},
   "outputs": [],
   "source": [
    "# pour vos tests :\n",
    "texte = \"CGGATTCGTATCGCATTTCG\"\n",
    "motif = \"CGCAT\"\n",
    "recherche_naive(motif, texte)"
   ]
  },
  {
   "cell_type": "code",
   "execution_count": null,
   "metadata": {},
   "outputs": [],
   "source": [
    "texte = \"un papou papa à poux a des poux papas et des poux pas papas\"\n",
    "motif =\"papas\"\n",
    "recherche_naive(motif, texte)"
   ]
  },
  {
   "cell_type": "code",
   "execution_count": null,
   "metadata": {},
   "outputs": [],
   "source": [
    "texte= \"Réfléchir est un bon moyen de progresser\"\n",
    "motif=\"avis\"\n",
    "recherche_naive(motif, texte)"
   ]
  },
  {
   "cell_type": "code",
   "execution_count": null,
   "metadata": {},
   "outputs": [],
   "source": [
    "texte = \"CGGATTCGTATCGCATTTCG\"\n",
    "motifs = [\"CGCAT\", \"C\", \"CATTTCG\",  \"AAA\",  \"\", texte]\n",
    "for motif in motif:\n",
    "    assert bmh(motif, texte) == texte.find(motif)"
   ]
  },
  {
   "cell_type": "code",
   "execution_count": null,
   "metadata": {},
   "outputs": [],
   "source": [
    "texte = \"tatie est battante comme\"\n",
    "motifs = [\"tata\", \"att\",  \"ttante\",  \"est\"]\n",
    "for motif in motif:\n",
    "    assert bmh(motif, texte) == texte.find(motif)"
   ]
  },
  {
   "cell_type": "markdown",
   "metadata": {},
   "source": [
    "<h2 class=\"alert alert-info\">3. Complément : visualisation de l'algorithme</h2>"
   ]
  },
  {
   "cell_type": "markdown",
   "metadata": {},
   "source": [
    "<div class=\"alert alert-danger\">\n",
    "    \n",
    "    \n",
    "On donne ci-dessous une correction qui permet de visualiser les étapes de l'algorithme (avec des print...)<br>\n",
    "    \n",
    " !!!   NE PAS LIRE CE CODE AVANT D'AVOIR EFFECTUÉ LE TRAVAIL DEMANDÉ !!!\n",
    "</div>\n",
    "    "
   ]
  },
  {
   "cell_type": "code",
   "execution_count": null,
   "metadata": {},
   "outputs": [],
   "source": [
    "def pretraitement(motif):\n",
    "    \"\"\" renvoie un dictionnaire dont les clefs sont les caractères du motif (sauf le dernier)\n",
    "    et dont les valeurs sont les sauts correspondants.\n",
    "    \"\"\"\n",
    "    table = dict()\n",
    "    for i in range(65537): \n",
    "        table[chr(i)] = len(motif)\n",
    "    for i in range(len(motif)-1):\n",
    "        table[motif[i]] = len(motif) - i - 1\n",
    "    return table"
   ]
  },
  {
   "cell_type": "code",
   "execution_count": null,
   "metadata": {},
   "outputs": [],
   "source": [
    "def bmh_print(motif, texte):\n",
    "    # A VOUS DE JOUER\n",
    "    # ...\n",
    "    table = pretraitement(motif)\n",
    "    for lettre in set(motif):\n",
    "        print(lettre, table[lettre])\n",
    "    i = 0 # indice parcourant le texte\n",
    "    while i <= len(texte) - len(motif):\n",
    "        for z in range(len(texte)): # affichage des indices des caratères du texte\n",
    "            print(str(z).center(3), end = \"\")\n",
    "        print()\n",
    "        for lettre in texte: # affichage des caractères du texte\n",
    "            print(lettre.center(3), end = \"\")\n",
    "        print()\n",
    "        for w in range(i): # affichage des 'blancs' avant d'afficher le motif\n",
    "            print(' '.center(3), end = \"\")\n",
    "        for lettre in motif: # affichage du motif\n",
    "            print(lettre.center(3), end = \"\")\n",
    "        print()\n",
    "        j = len(motif) - 1 # indice identifiant les coincidences entre texte et motif\n",
    "        while j >= 0 and texte[i + j] == motif[j]:\n",
    "            j -= 1\n",
    "        if j == -1:\n",
    "            return i\n",
    "        else:\n",
    "            print(f\"lettre désaccord = {texte[i + j]}, décalage de base +{table[texte[i + j]]}\")\n",
    "            print(f\"nb lettres accordées = {len(motif) - 1 - j}\")\n",
    "            print(f\"i avant décalage {i}\")\n",
    "            i += max(1, table[texte[i + j]] - (len(motif) - 1 - j))\n",
    "            print(f\"i après décalage {i}\")\n",
    "    return -1"
   ]
  },
  {
   "cell_type": "code",
   "execution_count": null,
   "metadata": {},
   "outputs": [],
   "source": [
    "texte = \"tatie est battante comme tata !\"\n",
    "motif = \"tata\"\n",
    "bmh_print(motif, texte)"
   ]
  },
  {
   "cell_type": "code",
   "execution_count": null,
   "metadata": {},
   "outputs": [],
   "source": [
    "texte = \"CGGATTCGTATCGCATTTCG\"\n",
    "motif = \"CATTTCG\"\n",
    "bmh_print(motif, texte)"
   ]
  },
  {
   "cell_type": "code",
   "execution_count": null,
   "metadata": {},
   "outputs": [],
   "source": []
  }
 ],
 "metadata": {
  "kernelspec": {
   "display_name": "Python 3.8.1 64-bit ('python38': conda)",
   "language": "python",
   "name": "python38164bitpython38conda56991d5ad1414e06a4dcd344400cf456"
  },
  "language_info": {
   "codemirror_mode": {
    "name": "ipython",
    "version": 3
   },
   "file_extension": ".py",
   "mimetype": "text/x-python",
   "name": "python",
   "nbconvert_exporter": "python",
   "pygments_lexer": "ipython3",
   "version": "3.8.1"
  }
 },
 "nbformat": 4,
 "nbformat_minor": 4
}
