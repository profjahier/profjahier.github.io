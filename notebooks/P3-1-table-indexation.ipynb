{
 "cells": [
  {
   "cell_type": "markdown",
   "metadata": {},
   "source": [
    "<div class=\"alert alert-success\">\n",
    "\n",
    "# P3-1 : Traitement de données en table: Indexation de tables\n",
    "\n",
    "</div>"
   ]
  },
  {
   "cell_type": "markdown",
   "metadata": {},
   "source": [
    "**Dans cette série de TP en 4 parties, nous étudierons les points suivants :**\n",
    "- Ouverture/lecture de fichier csv\n",
    "- recherche dans la table\n",
    "- tri\n",
    "- fusion de tables"
   ]
  },
  {
   "cell_type": "markdown",
   "metadata": {},
   "source": [
    "Les sources de données exploitées dans ces TP sont extraites de ces sites :\n",
    "\n",
    "https://sql.sh/736-base-donnees-villes-francaises\n",
    "\n",
    "https://www.insee.fr/fr/information/3720946\n"
   ]
  },
  {
   "cell_type": "markdown",
   "metadata": {
    "tags": []
   },
   "source": [
    "<h2 class=\"alert alert-info\">Rappels préliminaire : manipulation de fichier texte</h2>\n",
    "\n",
    "Exécutez les cellules suivantes pour vous remettre les idées en place."
   ]
  },
  {
   "cell_type": "code",
   "execution_count": 1,
   "metadata": {},
   "outputs": [],
   "source": [
    "# chemin vers le fichier à créer\n",
    "nom_fichier = \"fichier-test.txt\"\n",
    "\n",
    "# ouverture du fichier\n",
    "f = open(nom_fichier, 'w', encoding='utf-8')\n",
    "\n",
    "# écriture (bien remarquer le \\n à la fin de chaque ligne si on veut un saut de ligne)\n",
    "f.write('fichier test\\n')\n",
    "f.write('nouvelle ligne\\n')\n",
    "f.write('dernière ligne du fichier')\n",
    "\n",
    "# fermeture du fichier\n",
    "f.close()"
   ]
  },
  {
   "cell_type": "code",
   "execution_count": 2,
   "metadata": {},
   "outputs": [
    {
     "name": "stdout",
     "output_type": "stream",
     "text": [
      "fichier test\n",
      "nouvelle ligne\n",
      "dernière ligne du fichier\n",
      "\n"
     ]
    }
   ],
   "source": [
    "# chemin vers le fichier déjà existant\n",
    "nom_fichier = \"fichier-test.txt\"\n",
    "\n",
    "# ouverture du fichier\n",
    "f = open(nom_fichier, 'r', encoding='utf-8')\n",
    "\n",
    "# lecture ligne par ligne (tant qu'on n'atteint pas une ligne vide)\n",
    "ligne = None\n",
    "while ligne != '':\n",
    "    ligne = f.read()\n",
    "    print(ligne)\n",
    "\n",
    "# fermeture du fichier\n",
    "f.close()"
   ]
  },
  {
   "cell_type": "markdown",
   "metadata": {},
   "source": [
    "### Autre méthode : mot clef  `with`\n",
    "Il est possible d'utiliser la syntaxe suivante, plus condensée, et qui permet de fermer le fichier automatiquement sans le spécifier explicitement."
   ]
  },
  {
   "cell_type": "code",
   "execution_count": 3,
   "metadata": {},
   "outputs": [
    {
     "name": "stdout",
     "output_type": "stream",
     "text": [
      "fichier test\n",
      "\n",
      "nouvelle ligne\n",
      "\n",
      "dernière ligne du fichier\n"
     ]
    }
   ],
   "source": [
    "with open('fichier-test.txt', 'r', encoding='utf-8') as f:\n",
    "    for ligne in f: # on peut aussi parcourir le contenu d'un fichier comme une séquence avec une boucle for\n",
    "        print(ligne)"
   ]
  },
  {
   "cell_type": "markdown",
   "metadata": {},
   "source": [
    "La méthode  `readlines()` renvoie une liste qui contient chaque ligne du fichier :"
   ]
  },
  {
   "cell_type": "code",
   "execution_count": 5,
   "metadata": {},
   "outputs": [
    {
     "name": "stdout",
     "output_type": "stream",
     "text": [
      "['fichier test\\n', 'nouvelle ligne\\n', 'dernière ligne du fichier']\n"
     ]
    }
   ],
   "source": [
    "with open('fichier-test.txt', 'r', encoding='utf-8') as f:\n",
    "    fichier_complet = f.readlines() \n",
    "\n",
    "print(fichier_complet)"
   ]
  },
  {
   "cell_type": "markdown",
   "metadata": {
    "tags": []
   },
   "source": [
    "<h2 class=\"alert alert-info\">Lecture écriture d'un fichier csv¶</h2>\n",
    "\n",
    "\n",
    "Voir la doc officielle Pyton : https://docs.python.org/fr/3/library/csv.html"
   ]
  },
  {
   "cell_type": "markdown",
   "metadata": {},
   "source": [
    "<div class=\"alert alert-danger\">\n",
    "    \n",
    "## Lecture sous forme d'un tableau doublement indexé\n",
    "\n",
    "Un fichier **csv** est un simple fichier texte qui contient des données structurées :\n",
    "- chaque ligne du fichier contient un enregistrement qui donne les valeurs de plusieurs attributs (ou champs ou descripteurs).\n",
    "- les champs sont séparés par un autre caractère spécifique (virgule, point-virgule, tabulation...)\n",
    "\n",
    "\n",
    "Le module `csv` permet de charger un fichier **csv**  pour lire les données qu'il contient.\n",
    "\n",
    "Il fournit un objet *lecteur* (**reader**) qui contient chaque ligne du fichier. \n",
    "\n",
    "On pourra transformer cet objet en une véritable liste Python et manipuler cette liste comme nous savons le faire.\n",
    "\n",
    "On obtient ainsi un tableau doublement indexé : `table[i]` représente un enregistrement complet (une ligne du fichier) et `table[i][j]` représente une valeur pour un champ donné.\n",
    "\n",
    "\n",
    "</div>"
   ]
  },
  {
   "cell_type": "code",
   "execution_count": 6,
   "metadata": {},
   "outputs": [],
   "source": [
    "import csv"
   ]
  },
  {
   "cell_type": "markdown",
   "metadata": {},
   "source": [
    "<div class=\"alert alert-warning\">\n",
    "    \n",
    "Exo : ouvrir le fichier departement-19_virg.csv dans un éditeur de texte, puis dans un tableur, et enfin exécuter la cellue suivante.\n",
    "    \n",
    "</div>"
   ]
  },
  {
   "cell_type": "code",
   "execution_count": 27,
   "metadata": {},
   "outputs": [],
   "source": [
    "# Observer cet exemple concret :\n",
    "with open('departement-19.csv', 'r', encoding='utf-8') as fichier:\n",
    "    lecteur = csv.reader(fichier, delimiter=',')\n",
    "    table1 = list(lecteur)"
   ]
  },
  {
   "cell_type": "markdown",
   "metadata": {},
   "source": [
    "<div class=\"alert alert-warning\">\n",
    "    \n",
    "Exo : Exploitation de du tableau `table1`. <br>Les 3 questions suivantes nécessitent simplement de manipuler correctement la variable `table1`.\n",
    "    \n",
    "</div>\n",
    "\n",
    "1. Afficher la liste des descipteurs. (*rep = ['dep', 'reg', 'cheflieu', 'tncc', 'ncc', 'nccenr', 'libelle']*)\n",
    "2. Afficher le 1er enregistrement. (*rep = ['01', '84', '01053', '5', 'AIN', 'Ain', 'Ain']*)\n",
    "3. Afficher le 5ème champ du 1er enregistrement. (*rep = AIN*)"
   ]
  },
  {
   "cell_type": "code",
   "execution_count": 28,
   "metadata": {},
   "outputs": [
    {
     "name": "stdout",
     "output_type": "stream",
     "text": [
      "['dep', 'reg', 'cheflieu', 'tncc', 'ncc', 'nccenr', 'libelle']\n",
      "['01', '84', '01053', '5', 'AIN', 'Ain', 'Ain']\n",
      "AIN\n"
     ]
    }
   ],
   "source": [
    "# liste des descripteurs\n",
    "print(table1[0])\n",
    "\n",
    "# affichage du 1er enregistrement :\n",
    "print(table1[1])\n",
    "\n",
    "# affichage du 5ème champ du 1er enregistrement :\n",
    "print(table1[1][4])"
   ]
  },
  {
   "cell_type": "markdown",
   "metadata": {},
   "source": [
    "<div class=\"alert alert-danger\">\n",
    "    \n",
    "## Lecture sous forme d'un tableau de p-uplets nommés (dictionnaires)\n",
    "Le module `csv`  fournit également un autre objet *lecteur* (**DictReader**) qui contient chaque ligne du fichier sous forme de dictionnaire.\n",
    "\n",
    "Cet objet peut se transformer en liste Python et dans ce cas `table[i]` représente un enregistrement complet (une ligne du fichier) et `table[i][nom_du_champ]` représente une valeur pour un champ donné.\n",
    "</div>"
   ]
  },
  {
   "cell_type": "markdown",
   "metadata": {},
   "source": [
    "Si le paramètre **fieldnames** est omis, la 1ère ligne du fichier csv est lue pour connaître les decripteurs (clefs du dictionnaire) des enregistrements.\n",
    "\n",
    "On peut accéder à ces decripteurs avec l'attribut **fieldnames** de l'objet lecteur défini.\n",
    "\n",
    "On peut aussi définir une liste de decripteurs si la 1ère ligne du fichier csv n'en contient pas."
   ]
  },
  {
   "cell_type": "markdown",
   "metadata": {},
   "source": [
    "<div class=\"alert alert-warning\">\n",
    "    \n",
    "Exo : Exécuter la cellue suivante.\n",
    "    \n",
    "</div>"
   ]
  },
  {
   "cell_type": "code",
   "execution_count": 30,
   "metadata": {},
   "outputs": [],
   "source": [
    "with open('departement-19.csv', 'r') as fichier:\n",
    "    lecteur = csv.DictReader(fichier, delimiter=',')\n",
    "    champs = lecteur.fieldnames # contient la liste des champs à la 1ère ligne du fichier\n",
    "    table2 = list(lecteur)"
   ]
  },
  {
   "cell_type": "markdown",
   "metadata": {},
   "source": [
    "<div class=\"alert alert-warning\">\n",
    "    \n",
    "Exo : Exploitation de du tableau `table2`. <br>Les 3 questions suivantes nécessitent simplement de manipuler correctement la variable `table2`, ou la variable `champs`.\n",
    "    \n",
    "</div>\n",
    "\n",
    "1. Afficher la liste des descipteurs. (*rep = ['dep', 'reg', 'cheflieu', 'tncc', 'ncc', 'nccenr', 'libelle']*)\n",
    "2. Afficher le 1er enregistrement. (*rep = {'dep': '01', 'reg': '84', 'cheflieu': '01053', 'tncc': '5', 'ncc': 'AIN', 'nccenr': 'Ain', 'libelle': 'Ain'}*)\n",
    "3. Afficher le champ 'ncc' du 1er enregistrement. (*rep = AIN*)"
   ]
  },
  {
   "cell_type": "code",
   "execution_count": 31,
   "metadata": {},
   "outputs": [
    {
     "name": "stdout",
     "output_type": "stream",
     "text": [
      "['dep', 'reg', 'cheflieu', 'tncc', 'ncc', 'nccenr', 'libelle']\n",
      "{'dep': '01', 'reg': '84', 'cheflieu': '01053', 'tncc': '5', 'ncc': 'AIN', 'nccenr': 'Ain', 'libelle': 'Ain'}\n",
      "AIN\n"
     ]
    }
   ],
   "source": [
    "# liste des descripteurs\n",
    "print(champs)\n",
    "\n",
    "# affichage du 1er enregistrement :\n",
    "print(table2[0])\n",
    "\n",
    "# affichage du champ 'ncc' du 1er enregistrement :\n",
    "print(table2[0]['ncc'])"
   ]
  },
  {
   "cell_type": "markdown",
   "metadata": {},
   "source": [
    "<div class=\"alert alert-danger\">\n",
    "    <em>Conclusion : différence d'accès aux descripteurs</em>\n",
    "\n",
    "- `table1[0]`  contient la liste des descripteurs si on a utilisé  la méthode `reader`.<br>\n",
    "- `table2[0]` contient le 1er enregistrement si on a utilisé  la méthode `DictReader`.\n",
    "</div>"
   ]
  },
  {
   "cell_type": "markdown",
   "metadata": {},
   "source": [
    "<div class=\"alert alert-warning\">\n",
    "    \n",
    "**Exo : Lecture d'un fichier texte tabulé.**\n",
    "    \n",
    " On donne ici le même fichier texte mais dans ce cas les champs sont séparés par des tabulations : `departement-19_tab.csv`\n",
    "    \n",
    "- Ouvrir ce fichier avec un éditeur de texte pour voir à quoi il ressemble dans un 1er temps.\n",
    "- Ouvrir ce fichier en Python et vérifier la possibilité d'accéder aux informations qu'il contient.\n",
    "    \n",
    "*Remarque :* En Python (comme dans beaucoup de langages), la tabulation se note par le caractère `\\t`.\n",
    "\n",
    "</div>"
   ]
  },
  {
   "cell_type": "code",
   "execution_count": 32,
   "metadata": {},
   "outputs": [
    {
     "name": "stdout",
     "output_type": "stream",
     "text": [
      "['dep', 'reg', 'cheflieu', 'tncc', 'ncc', 'nccenr', 'libelle']\n",
      "\n",
      "{'dep': '01', 'reg': '84', 'cheflieu': '01053', 'tncc': '5', 'ncc': 'AIN', 'nccenr': 'Ain', 'libelle': 'Ain'}\n",
      "{'dep': '02', 'reg': '32', 'cheflieu': '02408', 'tncc': '5', 'ncc': 'AISNE', 'nccenr': 'Aisne', 'libelle': 'Aisne'}\n",
      "{'dep': '03', 'reg': '84', 'cheflieu': '03190', 'tncc': '5', 'ncc': 'ALLIER', 'nccenr': 'Allier', 'libelle': 'Allier'}\n",
      "{'dep': '04', 'reg': '93', 'cheflieu': '04070', 'tncc': '4', 'ncc': 'ALPES DE HAUTE PROVENCE', 'nccenr': 'Alpes-de-Haute-Provence', 'libelle': 'Alpes-de-Haute-Provence'}\n",
      "\n",
      "AIN\n"
     ]
    }
   ],
   "source": [
    "with open('departement-19_tab.csv', 'r') as fichier:\n",
    "    lecteur = csv.DictReader(fichier, delimiter='\\t')\n",
    "    champs = lecteur.fieldnames # contient la liste des champs à la 1ère ligne du fichier\n",
    "    table = list(lecteur)\n",
    "\n",
    "# liste des descripteurs\n",
    "print(champs)\n",
    "\n",
    "# affichage des 4 premiers enregistrements :\n",
    "print()\n",
    "for i in range(4):\n",
    "    print(table[i])\n",
    "\n",
    "# affichage du champ 'ncc' du 1er enregistrement\n",
    "print()\n",
    "print(table[0]['ncc'])"
   ]
  },
  {
   "cell_type": "code",
   "execution_count": null,
   "metadata": {},
   "outputs": [],
   "source": []
  }
 ],
 "metadata": {
  "kernelspec": {
   "display_name": "Python 3",
   "language": "python",
   "name": "python3"
  },
  "language_info": {
   "codemirror_mode": {
    "name": "ipython",
    "version": 3
   },
   "file_extension": ".py",
   "mimetype": "text/x-python",
   "name": "python",
   "nbconvert_exporter": "python",
   "pygments_lexer": "ipython3",
   "version": "3.10.1"
  }
 },
 "nbformat": 4,
 "nbformat_minor": 4
}
