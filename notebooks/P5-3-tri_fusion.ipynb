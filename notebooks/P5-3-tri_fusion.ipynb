{
 "cells": [
  {
   "cell_type": "markdown",
   "metadata": {},
   "source": [
    "<h1 class=\"alert alert-success\">Diviser pour régner (divide & conquer) :<br>\n",
    "Efficacité du tri fusion comparée au tri par sélection</h1>\n"
   ]
  },
  {
   "cell_type": "markdown",
   "metadata": {},
   "source": [
    "La cellule ci-dessous implémente un tri par sélection :\n",
    "\n",
    "On rappelle que le coût d'un tel algorithme est quadratique."
   ]
  },
  {
   "cell_type": "code",
   "execution_count": null,
   "metadata": {},
   "outputs": [],
   "source": [
    "def tri_selection(t):\n",
    "    \"\"\" Tri un tableau t par ordre croissant \n",
    "    (tri en place, coût quadratique)\"\"\"\n",
    "    n = len(t)\n",
    "    for i in range(n-1):\n",
    "        mini = i\n",
    "        for j in range(i+1, n):\n",
    "            if t[j] < t[mini]:\n",
    "                mini = j\n",
    "        t[i], t[mini] = t[mini], t[i]"
   ]
  },
  {
   "cell_type": "code",
   "execution_count": null,
   "metadata": {},
   "outputs": [],
   "source": [
    "from random import shuffle # cette fonction permet de mélanger une liste aléatoirement\n",
    "help(shuffle)"
   ]
  },
  {
   "cell_type": "markdown",
   "metadata": {},
   "source": [
    "### Test"
   ]
  },
  {
   "cell_type": "code",
   "execution_count": null,
   "metadata": {},
   "outputs": [],
   "source": [
    "t = [i for i in range(25)]\n",
    "shuffle(t)\n",
    "print(t)\n",
    "tri_selection(t)\n",
    "print(t)"
   ]
  },
  {
   "cell_type": "markdown",
   "metadata": {},
   "source": [
    "<h2 class=\"alert alert-info\">Écrire une fonction de tri_fusion s'appuyant sur l'algorithme \"diviser pour régner\" vu en cours.</h2>"
   ]
  },
  {
   "cell_type": "code",
   "execution_count": null,
   "metadata": {},
   "outputs": [],
   "source": [
    "def fusion(t1, t2):\n",
    "    \"\"\" Fusionne deux tableaux triés en une seul \"\"\"\n",
    "    # à vous de jouer\n",
    "    "
   ]
  },
  {
   "cell_type": "code",
   "execution_count": null,
   "metadata": {},
   "outputs": [],
   "source": [
    "def tri_fusion(tab):\n",
    "    \"\"\" Tri fusion d'un tableau.\n",
    "    Entrées : tab : list\n",
    "    Sortie : list (tableau trié)\n",
    "    Remarque : le tableau d'origine n'est pas altéré.\n",
    "    \"\"\"\n",
    "    # à vous de jouer\n",
    "    "
   ]
  },
  {
   "cell_type": "markdown",
   "metadata": {},
   "source": [
    "### Test"
   ]
  },
  {
   "cell_type": "code",
   "execution_count": null,
   "metadata": {},
   "outputs": [],
   "source": [
    "t = [i for i in range(25)]\n",
    "shuffle(t)\n",
    "print(t)\n",
    "t1 = tri_fusion(t)\n",
    "print(t1)"
   ]
  },
  {
   "cell_type": "markdown",
   "metadata": {},
   "source": [
    "<h2 class=\"alert alert-info\">Comparaison des deux algorithmes</h2>\n",
    "On peut mesurer le temps moyen d'exécution d'une cellule de notebook Jupyter en \"chronométrant\" 100 fois l'exécution. On ne mesure pas qu'une seule exécution car sa durée peut varier en fonction de l'activité du systèle d'exploitation (penser à l'ordonnancment des processus).\n",
    "\n",
    "Pour cela, on importe la fonction time du module time qui relève l'heure interne de la machine. La différence d'heure entre le début et la fin de 20 exécutions de tri donne la durée moyenne d'un tri (valeur en secondes).\n",
    "\n",
    "**Mesurer ainsi le temps d'exécution des 2 algorithmes et conclure.**\n",
    "\n",
    "*Remarque* : on fera le test sur des tableaux de 2000 nombres."
   ]
  },
  {
   "cell_type": "code",
   "execution_count": null,
   "metadata": {},
   "outputs": [],
   "source": [
    "from time import time\n",
    "help(time)"
   ]
  },
  {
   "cell_type": "markdown",
   "metadata": {},
   "source": [
    "### Création d'un tableau pour les tests\n",
    "ATTENTION : on pensera à bien mélanger le tableau entre deux tests ! Sinon, il est déjà trié..."
   ]
  },
  {
   "cell_type": "code",
   "execution_count": null,
   "metadata": {},
   "outputs": [],
   "source": [
    "t = [i for i in range(2000)] # création d'un tableau contenant les 2000 premiers entiers"
   ]
  },
  {
   "cell_type": "markdown",
   "metadata": {},
   "source": [
    "### Test de la durée du tri par sélection"
   ]
  },
  {
   "cell_type": "code",
   "execution_count": null,
   "metadata": {},
   "outputs": [],
   "source": [
    "debut = time()\n",
    "for i in range(100):\n",
    "    shuffle(t)\n",
    "    tri_selection(t)\n",
    "fin = time()\n",
    "duree = fin - debut\n",
    "print(duree)"
   ]
  },
  {
   "cell_type": "markdown",
   "metadata": {},
   "source": [
    "### Test de la durée du tri fusion"
   ]
  },
  {
   "cell_type": "code",
   "execution_count": null,
   "metadata": {},
   "outputs": [],
   "source": [
    "debut = time()\n",
    "for i in range(100):\n",
    "    shuffle(t)\n",
    "    tri_fusion(t)\n",
    "fin = time()\n",
    "duree = fin - debut\n",
    "print(duree)"
   ]
  },
  {
   "cell_type": "markdown",
   "metadata": {},
   "source": [
    "<h3 class=\"alert alert-warning\">Pour aller plus loin</h3>\n",
    "On peut recommencer ces calculs de temps d'exécution pour des tableaux de tailles diverses et tracer le graphique *duree=f(taille)*.\n",
    "\n",
    "1. Mesurer le temps d'exécution de chaque algorithme pour des tableaux de 1 à 2048 nombres, en doublant à chaque fois la taille du tableau.\n",
    "2. Relever toutes les durées et tracer le graphique duree=f(taille).\n",
    "- Pour cela, importer le module matplotlib.pyplot (sous l'alias *plt*)\n",
    "- la fonction pour tracer un graphique est ```plot(x, y)``` : x et y étant une liste d'abscisses et une liste d'ordonnées."
   ]
  },
  {
   "cell_type": "code",
   "execution_count": null,
   "metadata": {},
   "outputs": [],
   "source": [
    "# à vous de jouer\n"
   ]
  }
 ],
 "metadata": {
  "kernelspec": {
   "display_name": "Python 3.8.1 64-bit ('python38': conda)",
   "language": "python",
   "name": "python38164bitpython38conda56991d5ad1414e06a4dcd344400cf456"
  },
  "language_info": {
   "codemirror_mode": {
    "name": "ipython",
    "version": 3
   },
   "file_extension": ".py",
   "mimetype": "text/x-python",
   "name": "python",
   "nbconvert_exporter": "python",
   "pygments_lexer": "ipython3",
   "version": "3.8.1"
  }
 },
 "nbformat": 4,
 "nbformat_minor": 4
}
