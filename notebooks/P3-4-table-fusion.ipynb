{
 "cells": [
  {
   "cell_type": "markdown",
   "metadata": {},
   "source": [
    "<div class=\"alert alert-success\">\n",
    "\n",
    "# P3-4 : Traitement de données en table: Fusion de tables\n",
    "\n",
    "</div>"
   ]
  },
  {
   "cell_type": "markdown",
   "metadata": {},
   "source": [
    "###  Préliminaires : Récupérer les données de deux fichiers \n",
    "On dipose de deux fichiers `elements.csv` et  `familles.csv` contenant des informations sur la classification périodique des éléments. \n",
    "\n",
    "Le 1er fichier liste les 20 premiers **éléments** chimiques, et le 2nd fichier les éléments des 3 **familles** chimiques à connaître au lycée.\n",
    "\n",
    "- Le 1er fichier précise le nom et le symbole des éléments. \n",
    "- Le 2ème préicise la famille des éléments et leur position dans la classification périodique (ligne L et colonne C)."
   ]
  },
  {
   "cell_type": "code",
   "execution_count": 1,
   "metadata": {},
   "outputs": [],
   "source": [
    "import csv"
   ]
  },
  {
   "cell_type": "code",
   "execution_count": 2,
   "metadata": {},
   "outputs": [
    {
     "name": "stdout",
     "output_type": "stream",
     "text": [
      "Descripteurs des éléments :\n",
      "['Numéro atomique', 'Nom', 'Symbole']\n",
      "\n",
      "Descripteurs des familles :\n",
      "['Famille', 'C', 'L', 'Z']\n"
     ]
    }
   ],
   "source": [
    "# import des données dans les tables elements et familles, qui sont des listes de dictionnaires\n",
    "with open('familles.csv', encoding='utf-8') as source:\n",
    "    familles = csv.DictReader(source, delimiter=',')\n",
    "    familles_descripteurs = familles.fieldnames\n",
    "    familles = list(familles)\n",
    "\n",
    "with open('elements.csv', encoding='utf-8') as source:\n",
    "    elements = csv.DictReader(source, delimiter=',')\n",
    "    elements_descripteurs = elements.fieldnames\n",
    "    elements = list(elements)\n",
    "\n",
    "print(f\"Descripteurs des éléments :\\n{elements_descripteurs}\\n\")\n",
    "\n",
    "print(f\"Descripteurs des familles :\\n{familles_descripteurs}\")"
   ]
  },
  {
   "cell_type": "markdown",
   "metadata": {},
   "source": [
    "**Outil** : Afin de visualiser les données plus facilement, on propose une fonction `affichage(table)` qui prend en paramètre une liste de dictionnaires (qui partagent des clefs communes), et qui affiche sur une 1ère ligne les clefs, puis sur les lignes suivantes les valeurs pour chaque dictionnaire de la liste."
   ]
  },
  {
   "cell_type": "code",
   "execution_count": 3,
   "metadata": {},
   "outputs": [],
   "source": [
    "def affichage(table):\n",
    "    for clef in table[0].keys():\n",
    "        print(clef.center(15), end='')\n",
    "    print()\n",
    "    for data in table:\n",
    "        for valeur in data.values():\n",
    "            print(valeur.center(15), end='')\n",
    "        print()"
   ]
  },
  {
   "cell_type": "code",
   "execution_count": 4,
   "metadata": {},
   "outputs": [
    {
     "name": "stdout",
     "output_type": "stream",
     "text": [
      "Numéro atomique      Nom          Symbole    \n",
      "       1          Hydrogène          H       \n",
      "       2            Hélium           He      \n",
      "       3           Lithium           Li      \n",
      "       4           Berylium          Be      \n",
      "       5             Bore            B       \n",
      "       6           Carbone           C       \n",
      "       7            Azote            N       \n",
      "       8           Oxygène           O       \n",
      "       9            Fluor            F       \n",
      "       10            Néon            Ne      \n",
      "       11           Sodium           Na      \n",
      "       12         Maagnéisum         Mg      \n",
      "       13         Aluminium          Al      \n",
      "       14          Silicium          Si      \n",
      "       15         Phosphore          P       \n",
      "       16           Soufre           S       \n",
      "       17           Chlore           Cl      \n",
      "       18           Argon            Ar      \n",
      "       19         Potassium          K       \n",
      "       20          Calcium           Ca      \n"
     ]
    }
   ],
   "source": [
    "affichage(elements)"
   ]
  },
  {
   "cell_type": "code",
   "execution_count": 5,
   "metadata": {},
   "outputs": [
    {
     "name": "stdout",
     "output_type": "stream",
     "text": [
      "    Famille           C              L              Z       \n",
      "    Alcalin           1              2              3       \n",
      "    Alcalin           1              3              11      \n",
      "    Alcalin           1              4              19      \n",
      "    Alcalin           1              5              37      \n",
      "    Alcalin           1              6              55      \n",
      "    Alcalin           1              7              87      \n",
      "    Halogène          7              2              9       \n",
      "    Halogène          7              3              17      \n",
      "    Halogène          7              4              35      \n",
      "    Halogène          7              5              53      \n",
      "    Halogène          7              6              85      \n",
      "   Gaz noble          8              1              2       \n",
      "   Gaz noble          8              2              10      \n",
      "   Gaz noble          8              3              18      \n",
      "   Gaz noble          8              4              36      \n",
      "   Gaz noble          8              5              54      \n",
      "   Gaz noble          8              6              86      \n"
     ]
    }
   ],
   "source": [
    "affichage(familles)"
   ]
  },
  {
   "cell_type": "markdown",
   "metadata": {},
   "source": [
    "<div class=\"alert alert-warning\">\n",
    "    \n",
    "## Problématique :\n",
    "\n",
    "Quelle table permet de répondre **à elle seule** aux questions suivantes ?\n",
    "1. Quelle est la liste  des symboles des Alcalins ?\n",
    "1. Comment s'appelle l'élément halogène de la 3ème ligne ?\n",
    "1. A quelle famille appartient le Sodium ?\n",
    "1. Dans quelle colonne se situe le Néon ?\n",
    "1. F et Cl appartiennent-ils à la même famille ?\n",
    "</div>"
   ]
  },
  {
   "cell_type": "markdown",
   "metadata": {},
   "source": [
    "<div class=\"alert alert-success\">\n",
    "\n",
    "**=> impossible de répondre sans fusionner les informations des 2 tables !**\n",
    "</div>"
   ]
  },
  {
   "cell_type": "markdown",
   "metadata": {},
   "source": [
    "<div class=\"alert alert-danger\">\n",
    "    \n",
    "# Fusion\n",
    "    \n",
    "Lorsque 2 tables **partagent un même descripteur commun** (même s'il est nommé différemment), il est possible de créer une nouvelle table en **fusionnant** les informations des 2 tables \"en s'appuyant\" sur ce desripteur commun.\n",
    "</div>"
   ]
  },
  {
   "cell_type": "markdown",
   "metadata": {},
   "source": [
    "<div class=\"alert alert-warning\">\n",
    "    \n",
    "### **Exo** : \n",
    "    \n",
    "1. Identifier le descripteur commun que partagent ces deux tables.\n",
    "2. Répondre (sans programmation) aux questions de la problématique.\n",
    "</div>"
   ]
  },
  {
   "cell_type": "markdown",
   "metadata": {
    "tags": []
   },
   "source": [
    "<h2 class=\"alert alert-info\">Première résolution en programmant, sans construire de table fusion.</h2>"
   ]
  },
  {
   "cell_type": "markdown",
   "metadata": {},
   "source": [
    "On présente ci-dessous une solution à la 1ère question :\n",
    "\n",
    "**Le principe consiste à parcourir une 1ère table à la recherche d'un critère particulier, et lorsque ce critère est satisfait, on parcourt les éléments de la 2ème table en sélectionnant les éléments qui partagent le descripteur commun des 2 tables.** On manipule donc *2 boucles for imbriquées*."
   ]
  },
  {
   "cell_type": "code",
   "execution_count": 6,
   "metadata": {},
   "outputs": [
    {
     "data": {
      "text/plain": [
       "['Li', 'Na', 'K']"
      ]
     },
     "execution_count": 6,
     "metadata": {},
     "output_type": "execute_result"
    }
   ],
   "source": [
    "# 1. Quelle est la liste des symboles des Alcalins ?\n",
    "requete1 = []\n",
    "\n",
    "for elt1 in familles:\n",
    "    if elt1['Famille'] == 'Alcalin':\n",
    "        for elt2 in elements:\n",
    "            if elt2['Numéro atomique'] == elt1['Z']:\n",
    "                requete1.append(elt2['Symbole'])\n",
    "                \n",
    "requete1"
   ]
  },
  {
   "cell_type": "code",
   "execution_count": 7,
   "metadata": {},
   "outputs": [
    {
     "data": {
      "text/plain": [
       "['Chlore']"
      ]
     },
     "execution_count": 7,
     "metadata": {},
     "output_type": "execute_result"
    }
   ],
   "source": [
    "# 2. Comment s'appelle l'élément halogène de la 3ème ligne ?\n",
    "requete2 = []\n",
    "\n",
    "for elt1 in familles:\n",
    "    if elt1['Famille'] == 'Halogène' and int(elt1['L']) == 3:\n",
    "        for elt2 in elements:\n",
    "            if elt2['Numéro atomique'] == elt1['Z']:\n",
    "                requete2.append(elt2['Nom'])\n",
    "                \n",
    "requete2                "
   ]
  },
  {
   "cell_type": "markdown",
   "metadata": {},
   "source": [
    "<div class=\"alert alert-warning\">\n",
    "    \n",
    "### **Exo** : Répondez de façon similaires aux questions 3, 4 et 5.\n",
    "</div>"
   ]
  },
  {
   "cell_type": "code",
   "execution_count": 8,
   "metadata": {},
   "outputs": [
    {
     "data": {
      "text/plain": [
       "['Alcalin']"
      ]
     },
     "execution_count": 8,
     "metadata": {},
     "output_type": "execute_result"
    }
   ],
   "source": [
    "# 3. A quelle famille appartient le Sodium ?\n",
    "requete3 = []\n",
    "\n",
    "for elt1 in elements:\n",
    "    if elt1['Nom'] == 'Sodium':\n",
    "        for elt2 in familles:\n",
    "            if elt1['Numéro atomique'] == elt2['Z']:\n",
    "                requete3.append(elt2['Famille'])\n",
    "                \n",
    "requete3                "
   ]
  },
  {
   "cell_type": "code",
   "execution_count": 9,
   "metadata": {},
   "outputs": [
    {
     "data": {
      "text/plain": [
       "[8]"
      ]
     },
     "execution_count": 9,
     "metadata": {},
     "output_type": "execute_result"
    }
   ],
   "source": [
    "# 4. Dans quelle colonne se situe le Néon ?\n",
    "requete4 = []\n",
    "\n",
    "for elt1 in elements:\n",
    "    if elt1['Nom'] == 'Néon':\n",
    "        for elt2 in familles:\n",
    "            if elt1['Numéro atomique'] == elt2['Z']:\n",
    "                requete4.append(int(elt2['C']))\n",
    "                \n",
    "requete4                "
   ]
  },
  {
   "cell_type": "code",
   "execution_count": 10,
   "metadata": {},
   "outputs": [
    {
     "name": "stdout",
     "output_type": "stream",
     "text": [
      "[9, 17]\n",
      "['Halogène', 'Halogène']\n"
     ]
    },
    {
     "data": {
      "text/plain": [
       "True"
      ]
     },
     "execution_count": 10,
     "metadata": {},
     "output_type": "execute_result"
    }
   ],
   "source": [
    "# 5. F et Cl appartiennent-ils à la même famille ?\n",
    "familles_FCl = []\n",
    "Z_FCl = [] \n",
    "\n",
    "for elt1 in elements:\n",
    "    if elt1['Symbole'] == 'F' or elt1['Symbole'] == 'Cl':\n",
    "        Z_FCl.append(int(elt1['Numéro atomique']))\n",
    "\n",
    "print(Z_FCl)\n",
    "\n",
    "for elt2 in familles:\n",
    "    if int(elt2['Z']) in Z_FCl:\n",
    "        familles_FCl.append(elt2['Famille'])\n",
    "\n",
    "print(familles_FCl)\n",
    "\n",
    "requete5 = familles_FCl[0] == familles_FCl[1]\n",
    "requete5"
   ]
  },
  {
   "cell_type": "markdown",
   "metadata": {
    "tags": []
   },
   "source": [
    "<h2 class=\"alert alert-info\">Deuxième résolution, en construisant d'abord une table fusionnée.</h2>"
   ]
  },
  {
   "cell_type": "markdown",
   "metadata": {},
   "source": [
    "<div class=\"alert alert-warning\">\n",
    "    \n",
    "### **Exo** : Vous devez créer une table `fusion` qui liste tous les enregistrements de la table `elements` et tous ceux de la table `familles` seulement s'ils partagent bien la même valeur de Z.\n",
    "    \n",
    "*Résultat attendu :*\n",
    "    \n",
    "       Z             Nom          Symbole        Famille           C              L       \n",
    "       2            Hélium           He         Gaz noble          8              1       \n",
    "       3           Lithium           Li          Alcalin           1              2       \n",
    "       9            Fluor            F           Halogène          7              2       \n",
    "       10            Néon            Ne         Gaz noble          8              2       \n",
    "       11           Sodium           Na          Alcalin           1              3       \n",
    "       17           Chlore           Cl          Halogène          7              3       \n",
    "       18           Argon            Ar         Gaz noble          8              3       \n",
    "       19         Potassium          K           Alcalin           1              4       \n",
    "\n",
    "\n",
    "</div>"
   ]
  },
  {
   "cell_type": "code",
   "execution_count": 11,
   "metadata": {},
   "outputs": [
    {
     "name": "stdout",
     "output_type": "stream",
     "text": [
      "       Z             Nom          Symbole        Famille           C              L       \n",
      "       2            Hélium           He         Gaz noble          8              1       \n",
      "       3           Lithium           Li          Alcalin           1              2       \n",
      "       9            Fluor            F           Halogène          7              2       \n",
      "       10            Néon            Ne         Gaz noble          8              2       \n",
      "       11           Sodium           Na          Alcalin           1              3       \n",
      "       17           Chlore           Cl          Halogène          7              3       \n",
      "       18           Argon            Ar         Gaz noble          8              3       \n",
      "       19         Potassium          K           Alcalin           1              4       \n"
     ]
    }
   ],
   "source": [
    "fusion = []\n",
    "\n",
    "for elt1 in elements:\n",
    "    Z = elt1['Numéro atomique']\n",
    "    for elt2 in familles:\n",
    "        if elt2['Z'] == Z:\n",
    "            element = {'Z':Z, 'Nom':elt1['Nom'], 'Symbole':elt1['Symbole'],\n",
    "                       'Famille':elt2['Famille'], 'C':elt2['C'], 'L':elt2['L']}\n",
    "            fusion.append(element)\n",
    "\n",
    "affichage(fusion)"
   ]
  },
  {
   "cell_type": "markdown",
   "metadata": {},
   "source": [
    "<div class=\"alert alert-warning\">\n",
    "    \n",
    "### **Exo** : En exploitant cette table fusionnée, répondre à nouveau aux mêmes questions.\n",
    "</div>"
   ]
  },
  {
   "cell_type": "markdown",
   "metadata": {},
   "source": [
    "**Rappel des questions :**\n",
    "\n",
    "\n",
    "1. Quelle est la liste  des symboles des Alcalins ?\n",
    "1. Comment s'appelle l'élément halogène de la 3ème ligne ?\n",
    "1. A quelle famille appartient le Sodium ?\n",
    "1. Dans quelle colonne se situe le Néon ?\n",
    "1. F et Cl appartiennent-ils à la même famille ?"
   ]
  },
  {
   "cell_type": "code",
   "execution_count": 12,
   "metadata": {},
   "outputs": [
    {
     "data": {
      "text/plain": [
       "['Li', 'Na', 'K']"
      ]
     },
     "execution_count": 12,
     "metadata": {},
     "output_type": "execute_result"
    }
   ],
   "source": [
    "requete1 = [element['Symbole'] for element in fusion if element['Famille'] == 'Alcalin']\n",
    "requete1"
   ]
  },
  {
   "cell_type": "code",
   "execution_count": 13,
   "metadata": {},
   "outputs": [
    {
     "data": {
      "text/plain": [
       "['Chlore']"
      ]
     },
     "execution_count": 13,
     "metadata": {},
     "output_type": "execute_result"
    }
   ],
   "source": [
    "requete2 = [element['Nom'] for element in fusion if element['L'] == '3' and element['Famille'] == 'Halogène']\n",
    "requete2"
   ]
  },
  {
   "cell_type": "code",
   "execution_count": 14,
   "metadata": {},
   "outputs": [
    {
     "data": {
      "text/plain": [
       "['Alcalin']"
      ]
     },
     "execution_count": 14,
     "metadata": {},
     "output_type": "execute_result"
    }
   ],
   "source": [
    "requete3 = [element['Famille'] for element in fusion if element['Nom'] == 'Sodium']\n",
    "requete3"
   ]
  },
  {
   "cell_type": "code",
   "execution_count": 15,
   "metadata": {},
   "outputs": [
    {
     "data": {
      "text/plain": [
       "[8]"
      ]
     },
     "execution_count": 15,
     "metadata": {},
     "output_type": "execute_result"
    }
   ],
   "source": [
    "requete4 = [int(element['C']) for element in fusion if element['Nom'] == 'Néon']\n",
    "requete4"
   ]
  },
  {
   "cell_type": "code",
   "execution_count": 16,
   "metadata": {},
   "outputs": [
    {
     "name": "stdout",
     "output_type": "stream",
     "text": [
      "Halogène Halogène\n"
     ]
    },
    {
     "data": {
      "text/plain": [
       "True"
      ]
     },
     "execution_count": 16,
     "metadata": {},
     "output_type": "execute_result"
    }
   ],
   "source": [
    "def famille(symbole):\n",
    "    return [element['Famille'] for element in fusion if element['Symbole'] == symbole][0]\n",
    "\n",
    "print(famille('F'), famille('Cl'))\n",
    "\n",
    "requete5 = famille('F') == famille('Cl')\n",
    "requete5"
   ]
  },
  {
   "cell_type": "markdown",
   "metadata": {
    "tags": []
   },
   "source": [
    "<h2 class=\"alert alert-info\">Compléments facultatifs (à traiter en autonomie).</h2>"
   ]
  },
  {
   "cell_type": "markdown",
   "metadata": {},
   "source": [
    "## Fusion avec jointure interne.\n",
    "\n",
    "La table obtenue par fusion précédemment correspond à une **fusion interne**, mais on va voir que d'autres fusions sont possibles."
   ]
  },
  {
   "cell_type": "markdown",
   "metadata": {},
   "source": [
    "## Fusion avec jointure à gauche.\n",
    "\n",
    "On continue d'utiliser le descripteur commun pour créer une nouvelle table par fusion de ces 2 tables. \n",
    "La nouvelle table va lister tous les enregistrements de la table `elements` et ajouter les champs de la table `familles` correspondants, càd qui partagent le même numéro atomique (lorsque c'est possible). \n",
    "\n",
    "Par exemple, le lithium de numéro atomique Z=3, appartient à la famille des alcalins (dans la 1ere colonne à la 1ère ligne).\n",
    "\n",
    "Autre exemple : on ne peut pas obtenir d'info complémentaire sur le calcium de numéro atomique Z=20 car il n'apparait pas dans la 2eme table. On écrira donc des données 'vides' dans ce cas.\n",
    "\n",
    "Cette **fusion** est appelée **jointure à gauche** car c'est la table de gauche qui sert de base et pour lesquelles toutes ses infos seront reprises."
   ]
  },
  {
   "cell_type": "code",
   "execution_count": 17,
   "metadata": {},
   "outputs": [
    {
     "name": "stdout",
     "output_type": "stream",
     "text": [
      "       Z             Nom          Symbole        Famille           C              L       \n",
      "       1          Hydrogène          H              -              -              -       \n",
      "       2            Hélium           He         Gaz noble          8              1       \n",
      "       3           Lithium           Li          Alcalin           1              2       \n",
      "       4           Berylium          Be             -              -              -       \n",
      "       5             Bore            B              -              -              -       \n",
      "       6           Carbone           C              -              -              -       \n",
      "       7            Azote            N              -              -              -       \n",
      "       8           Oxygène           O              -              -              -       \n",
      "       9            Fluor            F           Halogène          7              2       \n",
      "       10            Néon            Ne         Gaz noble          8              2       \n",
      "       11           Sodium           Na          Alcalin           1              3       \n",
      "       12         Maagnéisum         Mg             -              -              -       \n",
      "       13         Aluminium          Al             -              -              -       \n",
      "       14          Silicium          Si             -              -              -       \n",
      "       15         Phosphore          P              -              -              -       \n",
      "       16           Soufre           S              -              -              -       \n",
      "       17           Chlore           Cl          Halogène          7              3       \n",
      "       18           Argon            Ar         Gaz noble          8              3       \n",
      "       19         Potassium          K           Alcalin           1              4       \n",
      "       20          Calcium           Ca             -              -              -       \n"
     ]
    }
   ],
   "source": [
    "fusion_gauche = []\n",
    "\n",
    "for elt_g in elements:\n",
    "    Z = elt_g['Numéro atomique']\n",
    "    element = {'Z':Z, 'Nom':elt_g['Nom'], 'Symbole':elt_g['Symbole'],\n",
    "                       'Famille':'-', 'C':'-', 'L':'-'}\n",
    "    for elt_d in familles:\n",
    "        if elt_d['Z'] == Z:\n",
    "            element['Famille'] = elt_d['Famille']\n",
    "            element['C'] = elt_d['C']\n",
    "            element['L'] = elt_d['L']\n",
    "            break  # on a trouvé une correspondance de Z, on peut quitter la boucle for\n",
    "    fusion_gauche.append(element)\n",
    "\n",
    "affichage(fusion_gauche)"
   ]
  },
  {
   "cell_type": "markdown",
   "metadata": {
    "tags": []
   },
   "source": [
    "## Fusion avec jointure à droite :\n",
    "\n",
    "ON peut aussi créer une table `fusion_droite` qui liste tous les enregistrements de la table `familles` en ajoutant lorsque c'est possible les informations correspondantes de la table `elements`.\n",
    "\n",
    "Par exemple, la nouvelle table aura les lignes suivantes (attention, extrait seulement) :\n",
    "\n",
    "       Z             Nom          Symbole        Famille           C              L       \n",
    "       3           Lithium           Li          Alcalin           1              2 \n",
    "       37             -              -           Alcalin           1              5     \n",
    "       "
   ]
  },
  {
   "cell_type": "code",
   "execution_count": 18,
   "metadata": {},
   "outputs": [
    {
     "name": "stdout",
     "output_type": "stream",
     "text": [
      "       Z             Nom          Symbole        Famille           C              L       \n",
      "       3           Lithium           Li          Alcalin           1              2       \n",
      "       11           Sodium           Na          Alcalin           1              3       \n",
      "       19         Potassium          K           Alcalin           1              4       \n",
      "       37             -              -           Alcalin           1              5       \n",
      "       55             -              -           Alcalin           1              6       \n",
      "       87             -              -           Alcalin           1              7       \n",
      "       9            Fluor            F           Halogène          7              2       \n",
      "       17           Chlore           Cl          Halogène          7              3       \n",
      "       35             -              -           Halogène          7              4       \n",
      "       53             -              -           Halogène          7              5       \n",
      "       85             -              -           Halogène          7              6       \n",
      "       2            Hélium           He         Gaz noble          8              1       \n",
      "       10            Néon            Ne         Gaz noble          8              2       \n",
      "       18           Argon            Ar         Gaz noble          8              3       \n",
      "       36             -              -          Gaz noble          8              4       \n",
      "       54             -              -          Gaz noble          8              5       \n",
      "       86             -              -          Gaz noble          8              6       \n"
     ]
    }
   ],
   "source": [
    "fusion_droite = []\n",
    "\n",
    "for elt_d in familles:\n",
    "    Z = elt_d['Z']\n",
    "    element = {'Z':Z, 'Nom':'-', 'Symbole':'-',\n",
    "                       'Famille':elt_d['Famille'], 'C':elt_d['C'], 'L':elt_d['L']}\n",
    "    for elt_g in elements:\n",
    "        if elt_g['Numéro atomique'] == Z:\n",
    "            element['Nom'] = elt_g['Nom']\n",
    "            element['Symbole'] = elt_g['Symbole']\n",
    "            break  # on a trouvé une correspondance de Z, on peut quitter la boucle for\n",
    "    fusion_droite.append(element)\n",
    "\n",
    "affichage(fusion_droite)"
   ]
  },
  {
   "cell_type": "markdown",
   "metadata": {
    "tags": []
   },
   "source": [
    "## Fusion avec jointure externe :\n",
    "\n",
    "Pour créer une table `fusion_externe` qui liste tous les enregistrements de la table `elements` et tous ceux de la table `familles` en combinant les informations correspondantes lorsque c'est possible, on procède en 2 étapes :\n",
    "1. on commence par une fusion_gauche\n",
    "2. puis on reprend comme une fusion_droite, mais seulement pour les éléments qui ne sont pas déjà enregistrés dans la fusion gauche."
   ]
  },
  {
   "cell_type": "code",
   "execution_count": 19,
   "metadata": {},
   "outputs": [
    {
     "name": "stdout",
     "output_type": "stream",
     "text": [
      "       Z             Nom          Symbole        Famille           C              L       \n",
      "       1          Hydrogène          H              -              -              -       \n",
      "       2            Hélium           He         Gaz noble          8              1       \n",
      "       3           Lithium           Li          Alcalin           1              2       \n",
      "       4           Berylium          Be             -              -              -       \n",
      "       5             Bore            B              -              -              -       \n",
      "       6           Carbone           C              -              -              -       \n",
      "       7            Azote            N              -              -              -       \n",
      "       8           Oxygène           O              -              -              -       \n",
      "       9            Fluor            F           Halogène          7              2       \n",
      "       10            Néon            Ne         Gaz noble          8              2       \n",
      "       11           Sodium           Na          Alcalin           1              3       \n",
      "       12         Maagnéisum         Mg             -              -              -       \n",
      "       13         Aluminium          Al             -              -              -       \n",
      "       14          Silicium          Si             -              -              -       \n",
      "       15         Phosphore          P              -              -              -       \n",
      "       16           Soufre           S              -              -              -       \n",
      "       17           Chlore           Cl          Halogène          7              3       \n",
      "       18           Argon            Ar         Gaz noble          8              3       \n",
      "       19         Potassium          K           Alcalin           1              4       \n",
      "       20          Calcium           Ca             -              -              -       \n",
      "       37             -              -           Alcalin           1              5       \n",
      "       55             -              -           Alcalin           1              6       \n",
      "       87             -              -           Alcalin           1              7       \n",
      "       35             -              -           Halogène          7              4       \n",
      "       53             -              -           Halogène          7              5       \n",
      "       85             -              -           Halogène          7              6       \n",
      "       36             -              -          Gaz noble          8              4       \n",
      "       54             -              -          Gaz noble          8              5       \n",
      "       86             -              -          Gaz noble          8              6       \n"
     ]
    }
   ],
   "source": [
    "fusion_externe = []\n",
    "\n",
    "Z_deja_vus = [] # enregistre les numéros atomiques présents dans les 2 tables\n",
    "\n",
    "# 1er temps : on commence par une fusion à gauche \n",
    "for elt_g in elements:\n",
    "    Z = elt_g['Numéro atomique']\n",
    "    element = {'Z':Z, 'Nom':elt_g['Nom'], 'Symbole':elt_g['Symbole'],\n",
    "                       'Famille':'-', 'C':'-', 'L':'-'}\n",
    "    for elt_d in familles:\n",
    "        if elt_d['Z'] == Z:\n",
    "            element['Famille'] = elt_d['Famille']\n",
    "            element['C'] = elt_d['C']\n",
    "            element['L'] = elt_d['L']\n",
    "            break \n",
    "    Z_deja_vus.append(Z) # on retient cet élément pour ne pas en tenir compte dans la fusion droite (2ème étape)\n",
    "    fusion_externe.append(element)\n",
    "\n",
    "# 2ème temps : on ajoute les autres éléments comme une fusion à droite, \n",
    "# mais sans reprendre les éléments déjà enregistrés\n",
    "for elt_d in familles:\n",
    "    if elt_d['Z'] not in Z_deja_vus: # cet élément n'est pas déjà enregistré, alors on l'ajoute \n",
    "        element = {'Z':elt_d['Z'], 'Nom':'-', 'Symbole':'-',\n",
    "                       'Famille':elt_d['Famille'], 'C':elt_d['C'], 'L':elt_d['L']}\n",
    "        fusion_externe.append(element)\n",
    "\n",
    "affichage(fusion_externe)"
   ]
  },
  {
   "cell_type": "code",
   "execution_count": null,
   "metadata": {},
   "outputs": [],
   "source": []
  }
 ],
 "metadata": {
  "kernelspec": {
   "display_name": "Python 3",
   "language": "python",
   "name": "python3"
  },
  "language_info": {
   "codemirror_mode": {
    "name": "ipython",
    "version": 3
   },
   "file_extension": ".py",
   "mimetype": "text/x-python",
   "name": "python",
   "nbconvert_exporter": "python",
   "pygments_lexer": "ipython3",
   "version": "3.10.1"
  }
 },
 "nbformat": 4,
 "nbformat_minor": 4
}
