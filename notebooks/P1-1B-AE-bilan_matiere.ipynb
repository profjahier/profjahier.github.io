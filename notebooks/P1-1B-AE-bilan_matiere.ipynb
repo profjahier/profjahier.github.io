{
 "cells": [
  {
   "cell_type": "markdown",
   "metadata": {},
   "source": [
    "<h1 class=\"alert alert-success\">Bilan de matière d'une réaction chimique</h1>"
   ]
  },
  {
   "cell_type": "markdown",
   "metadata": {},
   "source": [
    "On considère une réaction chimique se déroulant entre deux espèces chimiques A et B. Il se forme deux produits C et D.\n",
    "\n",
    "On note a, b, c, et d les nombres stoechimétriques des espèces A, B, C et D.\n",
    "\n",
    "On note par ailleurs na, nb, nc et nd les quantités de matière initiales des espèces chimiques."
   ]
  },
  {
   "cell_type": "markdown",
   "metadata": {},
   "source": [
    "<h2 class=\"alert alert-info\">Nombres stoechiométriques</h2>"
   ]
  },
  {
   "cell_type": "markdown",
   "metadata": {},
   "source": [
    "Réactifs :"
   ]
  },
  {
   "cell_type": "code",
   "execution_count": null,
   "metadata": {},
   "outputs": [],
   "source": [
    "a = 1\n",
    "b = 2"
   ]
  },
  {
   "cell_type": "markdown",
   "metadata": {},
   "source": [
    "Produits :"
   ]
  },
  {
   "cell_type": "code",
   "execution_count": null,
   "metadata": {},
   "outputs": [],
   "source": [
    "# entrer comme sur le modèle des réactifs les nombres stoechiométriques des produits :\n",
    "# À VOUS DE JOUER..."
   ]
  },
  {
   "cell_type": "markdown",
   "metadata": {},
   "source": [
    "<h2 class=\"alert alert-info\">Quantités de matières initiales</h2>"
   ]
  },
  {
   "cell_type": "code",
   "execution_count": null,
   "metadata": {},
   "outputs": [],
   "source": [
    "# entrer les quantités de matières initiales :\n",
    "na = 4\n",
    "# À VOUS DE JOUER..."
   ]
  },
  {
   "cell_type": "markdown",
   "metadata": {},
   "source": [
    "<h2 class=\"alert alert-info\">Bilan de matière</h2>"
   ]
  },
  {
   "cell_type": "markdown",
   "metadata": {},
   "source": [
    "**Bilan de matière dans un état intermédiaire (avancement x quelconque) :**"
   ]
  },
  {
   "cell_type": "code",
   "execution_count": null,
   "metadata": {},
   "outputs": [],
   "source": [
    "def bilan_intermediaire(na, nb, nc, nd, a, b, c, d, x):\n",
    "    \"\"\" Renvoie les quantités de matières des espèces A, B, C et D pour un avancement x.\n",
    "    Les quantités na, nb, nc et nd sont les quantités initiales des espèces chimiques.\n",
    "    \"\"\"\n",
    "    na = na - a * x     # calcul de la quantité de matière du réactif A pour l'avancement x\n",
    "    # compléter de la même manière le calcul des quantités de matières des espèces B, C et D :\n",
    "    # À VOUS DE JOUER...\n",
    "    return (na, nb, nc, nd)"
   ]
  },
  {
   "cell_type": "code",
   "execution_count": null,
   "metadata": {},
   "outputs": [],
   "source": [
    "x = 3 # on pourra modifier librement cet avancement pour faire des tests.\n",
    "bilan_intermediaire(na, nb, nc, nd, a, b, c, d, x)"
   ]
  },
  {
   "cell_type": "markdown",
   "metadata": {},
   "source": [
    "**Détermination de l'avancement maximum xmax :**\n",
    "\n",
    "*Remarque* : la fonction intégrée de Python `min(x, y)` renvoie le nombre minimum entre  `x` et `y`."
   ]
  },
  {
   "cell_type": "code",
   "execution_count": null,
   "metadata": {},
   "outputs": [],
   "source": [
    "def chercher_xmax(na, nb, a, b):\n",
    "    \"\"\" Renvoie la valeur de l'avancement maximum xmax \"\"\"\n",
    "    # écrire une ligne de code permettant d'obtenir l'avancement maximum xmax\n",
    "    # à partir des quantités de matières initiales des réactifs\n",
    "    # et de leur nombre stoechiométrique :\n",
    "    # xmax = ...\n",
    "    return xmax"
   ]
  },
  {
   "cell_type": "markdown",
   "metadata": {},
   "source": [
    "**Bilan de matière dans l'état final (avancement maximum x = xmax) :**"
   ]
  },
  {
   "cell_type": "code",
   "execution_count": null,
   "metadata": {},
   "outputs": [],
   "source": [
    "def bilan_final(na, nb, nc, nd, a, b, c, d):\n",
    "    \"\"\" Renvoie les quantités de matière des espèces A, B, C et D dans l'état final. \"\"\"\n",
    "    xmax = chercher_xmax(na, nb, a, b)\n",
    "    # décommenter la ligne ci-dessous et remplacer les points de suspension par la variable adéquate\n",
    "    # bilan = bilan_intermediaire(na, nb, nc, nd, a, b, c, d, ...)\n",
    "    return bilan"
   ]
  },
  {
   "cell_type": "code",
   "execution_count": null,
   "metadata": {},
   "outputs": [],
   "source": [
    "bilan_final(na, nb, nc, nd, a, b, c, d)"
   ]
  },
  {
   "cell_type": "markdown",
   "metadata": {},
   "source": [
    "<h2 class=\"alert alert-info\">Complément : pour donner un peu d'interactivité...</h2>\n",
    "\n",
    "Fonction `input` : permet de faire saisir une valeur par l'utilisateur.\n",
    "\n",
    "*Attention* : Python interprète toute valeur saisie au clavier comme du texte. **Il faut donc souvent convertir les valeurs saisies qui doivent correspondre à des valeurs numériques en entier (`int`) ou en nombre réel (`float`).** Les exemples suivants doivent vous aider."
   ]
  },
  {
   "cell_type": "markdown",
   "metadata": {},
   "source": [
    "### Dans la cellule suivante, on interroge l'utilisateur sur les nombres stoechiométriques et les quantités de matière intiales."
   ]
  },
  {
   "cell_type": "code",
   "execution_count": null,
   "metadata": {},
   "outputs": [],
   "source": [
    "print(\"Bilan de matière d'une réaction chimique entre 2 réactifs formant 2 produits :\\n\")\n",
    "# remarque : le caractère '\\n' permet de faire un saut de ligne\n",
    "print(\"1- Saisie des nombres stoechiométriques :\")\n",
    "a = input(\"Nombre stoechiométrique du réactif A : \")\n",
    "a = int(a)\n",
    "b = input(\"Nombre stoechiométrique du réactif B : \")\n",
    "b = int(b)\n",
    "c = input(\"Nombre stoechiométrique du produit C : \")\n",
    "c = int(c)\n",
    "d = input(\"Nombre stoechiométrique du produit D : \")\n",
    "d = int(d)\n",
    "\n",
    "# écrire de la même manière les saisies des quantités de matière initiales :\n",
    "# ..."
   ]
  },
  {
   "cell_type": "markdown",
   "metadata": {},
   "source": [
    "### Dans la cellule suivante, on interroge l'utilisateur sur les informations qu'il souhaite avoir : calcul de xmax, bilan intermédiaire ou bilan final ?\n",
    "\n",
    "#### Puis on donne la réponse (enfin plutôt, l'ordinateur donne la réponse !)"
   ]
  },
  {
   "cell_type": "code",
   "execution_count": null,
   "metadata": {},
   "outputs": [],
   "source": [
    "print(\"Au menu :\")\n",
    "print(\"Entrez votre choix : \")\n",
    "choix = input(\"1- Calcul de xmax : \\n2- Bilan intermédiaire : \\n3- Bilan final : \\n\")\n",
    "choix = int(choix)\n",
    "\n",
    "if choix == 1:\n",
    "    print(\"L'avancement maximum vaut : \", chercher_xmax(na, nb, a, b), \"mol.\")\n",
    "elif choix == 2:\n",
    "    x = input(\"Choisir une valeur de l'avancement x (inférieur à xmax !) :\")\n",
    "    x = int(x)\n",
    "    print(\"Dans l'état intermédiaire, les quantités de matières de A, B, C et D sont : \", bilan_intermediaire(na, nb, nc, nd, a, b, c, d, x))\n",
    "else:\n",
    "    # Remplacer les points de suspension avant de décommenter la ligne suivante :\n",
    "    #print(\"Dans l'état final, les quantités de matières de A, B, C et D sont : \", ...)"
   ]
  },
  {
   "cell_type": "markdown",
   "metadata": {},
   "source": [
    "<h2 class=\"alert alert-info\">Complément pour les plus rapides...</h2>\n",
    "Le complément suivant permet de tracer des graphiques de l'évolution des quantités de matière au cours de la réaction chimique.\n",
    "\n",
    "Ce complément est plutôt destiné aux élèves suivant la spé NSI ou à ceux qui s'intéressent plus à la programmation. Cependant, toutes les cellules peuvent être exécutées même si on ne comprend pas le code (qui n'est pas exigible à ce stade de l'année). "
   ]
  },
  {
   "cell_type": "code",
   "execution_count": null,
   "metadata": {},
   "outputs": [],
   "source": [
    "# quantités de matière initiales : \n",
    "nai, nbi, nci, ndi = 4, 10, 0, 0\n",
    "# initialisation de listes des quantités de matière dans des états intermédiaires :\n",
    "na = [nai]\n",
    "nb = [nbi]\n",
    "nc = [nci]\n",
    "nd = [ndi]\n",
    "# nombres stoechiométriques :\n",
    "a, b, c, d = 1, 2, 1, 2"
   ]
  },
  {
   "cell_type": "code",
   "execution_count": null,
   "metadata": {},
   "outputs": [],
   "source": [
    "# calcul de l'avancement maximum :\n",
    "xmax = min(nai/a, nbi/b)"
   ]
  },
  {
   "cell_type": "code",
   "execution_count": null,
   "metadata": {},
   "outputs": [],
   "source": [
    "def bilan(na, nb, nc, nd, a, b, c, d, x):\n",
    "    \"\"\" Etablit un bilan de matière pour un état intermédiaire (avancement x) \"\"\"\n",
    "    na = na - a * x\n",
    "    nb = nb - b * x\n",
    "    nc = nc + c * x\n",
    "    nd = nd + d * x\n",
    "    return (na, nb, nc, nd)"
   ]
  },
  {
   "cell_type": "code",
   "execution_count": null,
   "metadata": {},
   "outputs": [],
   "source": [
    "nb_points = 10          # nb de points pour le graphique\n",
    "dx = xmax / nb_points   # variation de l'avancement entre 2 bilans intermédiaires\n",
    "x = [0]                 # initialisation de la liste des avancements dans les états intermédiaires\n",
    "\n",
    "### calcul des bilans pour les états intermédiaires :\n",
    "for i in range(nb_points):\n",
    "    x.append(x[-1]+dx) # ajout du nouvel avancement intermédiaire à la liste\n",
    "    nax, nbx, ncx, ndx = bilan(nai, nbi, nci, ndi, a, b, c, d, x[-1]) # calcul des quantités de matières\n",
    "                                                                      # x[-1] est l'avancement en cours\n",
    "    # ajout des quantités de matière des états intermédiaires dans les listes :\n",
    "    na.append(nax)\n",
    "    nb.append(nbx)\n",
    "    nc.append(ncx)\n",
    "    nd.append(ndx)  "
   ]
  },
  {
   "cell_type": "code",
   "execution_count": null,
   "metadata": {},
   "outputs": [],
   "source": [
    "import matplotlib.pyplot as plt # import d'un module pour tracer des graphiques"
   ]
  },
  {
   "cell_type": "code",
   "execution_count": null,
   "metadata": {},
   "outputs": [],
   "source": [
    "# le modèle pour tracer un graphique est :\n",
    "# plt.plot(listes_des_abscisses, liste_des_ordonnees, label=legende_de_la_courbe)\n",
    "plt.plot(x, na, label='na')\n",
    "plt.plot(x, nb, label='nb')\n",
    "plt.plot(x, nc, label='nc')\n",
    "plt.plot(x, nd, label='nd')\n",
    "plt.legend()                                            # demande l'affichage de la légende\n",
    "plt.axis(xmin=0, xmax=xmax, ymin=0, ymax=max(nai, nbi)) # réglage des plages d'affichage des axes \n",
    "plt.xlabel('x (mol)')                                   # nom de l'axe des abscisses\n",
    "plt.ylabel('n (mol)')                                   # nom de l'axe des ordonnées\n",
    "plt.show()                                              # affichage du graphique"
   ]
  },
  {
   "cell_type": "markdown",
   "metadata": {},
   "source": [
    "Les graphiques suivants sont des graphiques en barre (comme dans l'activité avec le tableur)."
   ]
  },
  {
   "cell_type": "code",
   "execution_count": null,
   "metadata": {},
   "outputs": [],
   "source": [
    "epaisseur = dx/5\n",
    "plt.bar(x, na, width=epaisseur, color='lightblue', label='na')\n",
    "plt.bar([s+1.2*epaisseur for s in x], nb, width=epaisseur, color='blue', label='nb')\n",
    "plt.xticks(x)\n",
    "plt.xlabel('x (mol)')                                  \n",
    "plt.ylabel('n (mol)')   \n",
    "plt.legend()\n",
    "plt.show()"
   ]
  },
  {
   "cell_type": "code",
   "execution_count": null,
   "metadata": {},
   "outputs": [],
   "source": [
    "epaisseur = dx/5\n",
    "plt.bar(x, nc, width=epaisseur, color='lightgreen', label='nc')\n",
    "plt.bar([s+1.2*epaisseur for s in x], nd, width=epaisseur, color='green', label='nd')\n",
    "plt.xticks(x)\n",
    "plt.xlabel('x (mol)')                                  \n",
    "plt.ylabel('n (mol)')   \n",
    "plt.legend()\n",
    "plt.show()"
   ]
  },
  {
   "cell_type": "code",
   "execution_count": null,
   "metadata": {},
   "outputs": [],
   "source": []
  }
 ],
 "metadata": {
  "kernelspec": {
   "display_name": "Python 3.8.1 64-bit ('python38': conda)",
   "language": "python",
   "name": "python38164bitpython38conda56991d5ad1414e06a4dcd344400cf456"
  },
  "language_info": {
   "codemirror_mode": {
    "name": "ipython",
    "version": 3
   },
   "file_extension": ".py",
   "mimetype": "text/x-python",
   "name": "python",
   "nbconvert_exporter": "python",
   "pygments_lexer": "ipython3",
   "version": "3.8.1"
  }
 },
 "nbformat": 4,
 "nbformat_minor": 4
}
