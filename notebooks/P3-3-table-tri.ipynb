{
 "cells": [
  {
   "cell_type": "markdown",
   "metadata": {},
   "source": [
    "<div class=\"alert alert-success\">\n",
    "\n",
    "# P3-3 : Traitement de données en table:  Tri de tables\n",
    "\n",
    "</div>"
   ]
  },
  {
   "cell_type": "markdown",
   "metadata": {
    "tags": []
   },
   "source": [
    "<h2 class=\"alert alert-info\">COURS</h2>"
   ]
  },
  {
   "cell_type": "markdown",
   "metadata": {},
   "source": [
    "<div class=\"alert alert-danger\">\n",
    "    \n",
    "# Le tri avec Python\n",
    "    \n",
    "### Fonctionnalité de base : `sorted` et `sort` (pour les listes)\n",
    "\n",
    "Python contient deux fonctions principales pour le tri de collections : `sort` et `sorted` : \n",
    "https://docs.python.org/fr/3/howto/sorting.html\n",
    "\n",
    "La méthode `sort` trie une liste **en place** : c'est à dire que l'expression `liste.sort()` **modifie** la liste en la triant.\n",
    "\n",
    "La fonction `sorted` appliquée à une liste renvoie une **copie de la liste triée**, mais la liste d'origine reste \"intacte\".\n",
    "\n",
    "*Remarque* : `sort` est une méthode réservée aux listes, tandis que `sorted` est une fonction qui s'applique à toute collection.\n",
    "\n",
    "\n",
    "</div>"
   ]
  },
  {
   "cell_type": "markdown",
   "metadata": {},
   "source": [
    "<div class=\"alert alert-warning\">\n",
    "    \n",
    "## Découvrir le tri de Python, et distinguer tri en place ou non.\n",
    "\n",
    "Exécutez les cellues suivantes pour analyser les techniques de tri avec l'outil Python tutor.\n",
    "</div>"
   ]
  },
  {
   "cell_type": "code",
   "execution_count": 1,
   "metadata": {},
   "outputs": [],
   "source": [
    "# Pour une utilisation avec une installation de Jupyter personnelle\n",
    "from metakernel import register_ipython_magics\n",
    "register_ipython_magics()"
   ]
  },
  {
   "cell_type": "code",
   "execution_count": 2,
   "metadata": {},
   "outputs": [],
   "source": [
    "# Pour une utilisation avec Jupyter BASTHON\n",
    "#from tutor import tutor"
   ]
  },
  {
   "cell_type": "code",
   "execution_count": 3,
   "metadata": {},
   "outputs": [
    {
     "data": {
      "text/html": [
       "\n",
       "        <iframe\n",
       "            width=\"100%\"\n",
       "            height=\"500\"\n",
       "            src=\"https://pythontutor.com/iframe-embed.html#code=%23%20exemple%20%0Al%20%3D%20%5B4%2C%205%2C%207%2C%202%2C%20-1%2C%209%5D%0A%0Al_triee%20%3D%20sorted%28l%29%0A%0Aprint%28l%29%0Aprint%28l_triee%29%0A%23tutor%28%29%20%23%20Jupyter%20Basthon%0A&origin=opt-frontend.js&cumulative=false&heapPrimitives=false&textReferences=false&py=3&rawInputLstJSON=%5B%5D&curInstr=0&codeDivWidth=350&codeDivHeight=400\"\n",
       "            frameborder=\"0\"\n",
       "            allowfullscreen\n",
       "            \n",
       "        ></iframe>\n",
       "        "
      ],
      "text/plain": [
       "<IPython.lib.display.IFrame at 0x7f804c352320>"
      ]
     },
     "metadata": {},
     "output_type": "display_data"
    }
   ],
   "source": [
    "%%tutor  # Jupyter personnel\n",
    "# exemple \n",
    "l = [4, 5, 7, 2, -1, 9]\n",
    "\n",
    "l_triee = sorted(l)\n",
    "\n",
    "print(l)\n",
    "print(l_triee)\n",
    "#tutor() # Jupyter Basthon"
   ]
  },
  {
   "cell_type": "code",
   "execution_count": 4,
   "metadata": {},
   "outputs": [
    {
     "data": {
      "text/html": [
       "\n",
       "        <iframe\n",
       "            width=\"100%\"\n",
       "            height=\"500\"\n",
       "            src=\"https://pythontutor.com/iframe-embed.html#code=l%20%3D%20%5B4%2C%205%2C%207%2C%202%2C%20-1%2C%209%5D%0Al.sort%28%29%0A%0Aprint%28l%29%0A%23tutor%28%29%20%23%20Juyter%20Basthon%0A&origin=opt-frontend.js&cumulative=false&heapPrimitives=false&textReferences=false&py=3&rawInputLstJSON=%5B%5D&curInstr=0&codeDivWidth=350&codeDivHeight=400\"\n",
       "            frameborder=\"0\"\n",
       "            allowfullscreen\n",
       "            \n",
       "        ></iframe>\n",
       "        "
      ],
      "text/plain": [
       "<IPython.lib.display.IFrame at 0x7f804c3522c0>"
      ]
     },
     "metadata": {},
     "output_type": "display_data"
    }
   ],
   "source": [
    "%%tutor  # Jupyter personnel\n",
    "l = [4, 5, 7, 2, -1, 9]\n",
    "l.sort()\n",
    "\n",
    "print(l)\n",
    "#tutor() # Juyter Basthon"
   ]
  },
  {
   "cell_type": "markdown",
   "metadata": {},
   "source": [
    "<div class=\"alert alert-danger\">\n",
    "    \n",
    "## Tri croissant ou décroissant : \n",
    "\n",
    "Ces fonctions de tri acceptent un paramètre optionnel `reverse` qui permet de trier la liste dans le sens décroissant s'il vaut `True`.\n",
    "</div>"
   ]
  },
  {
   "cell_type": "markdown",
   "metadata": {},
   "source": [
    "<div class=\"alert alert-warning\">\n",
    "    \n",
    "Exécutez les cellules suivantes pour analyser l'effet du paramètre **reverse**.\n",
    "    \n",
    "</div>"
   ]
  },
  {
   "cell_type": "code",
   "execution_count": 5,
   "metadata": {},
   "outputs": [
    {
     "name": "stdout",
     "output_type": "stream",
     "text": [
      "[4, 5, 7, 2, -1, 9]\n",
      "[9, 7, 5, 4, 2, -1]\n"
     ]
    }
   ],
   "source": [
    "l = [4, 5, 7, 2, -1, 9]\n",
    "print(l)\n",
    "\n",
    "l.sort(reverse=True)\n",
    "print(l)"
   ]
  },
  {
   "cell_type": "markdown",
   "metadata": {},
   "source": [
    "<div class=\"alert alert-danger\">\n",
    "    \n",
    "## Tri selon une clef spécifique\n",
    "Considérons une liste de tuples que nous souhaitons trier suivant tel ou tel élément des tuples.\n",
    "\n",
    "Par exemple, une liste de personnes identifiées par leur nom, prénom, âge, ville. On peut souhaiter trier cette liste de gens par nom, puis prénom ou par âge par exemple.\n",
    "\n",
    "Dans ce cas, on exploite le paramètre `key` en lui passant une fonction qui détermine la façon de trier : voir exemple ci-dessous.\n",
    "</div>"
   ]
  },
  {
   "cell_type": "markdown",
   "metadata": {},
   "source": [
    "<div class=\"alert alert-warning\">\n",
    "    \n",
    "Exécutez les cellules suivantes pour analyser l'exploitation du paramètre **reverse**.\n",
    "    \n",
    "</div>"
   ]
  },
  {
   "cell_type": "code",
   "execution_count": 6,
   "metadata": {},
   "outputs": [],
   "source": [
    "carnet = [('Martin', 'Franck', 12, 'Caen'),\n",
    "         ('Henri', 'Philippe', 42, 'Nice'),\n",
    "         ('Lavoisier', 'Antoine', 12, 'Tours'),\n",
    "         ('Martin', 'Antoine', 17, 'Caen'),\n",
    "         ('Lovelace', 'Ada', 36, 'Londres'),\n",
    "         ]"
   ]
  },
  {
   "cell_type": "code",
   "execution_count": 7,
   "metadata": {},
   "outputs": [
    {
     "name": "stdout",
     "output_type": "stream",
     "text": [
      "\n",
      "Tri par défaut :\n",
      "('Henri', 'Philippe', 42, 'Nice')\n",
      "('Lavoisier', 'Antoine', 12, 'Tours')\n",
      "('Lovelace', 'Ada', 36, 'Londres')\n",
      "('Martin', 'Antoine', 17, 'Caen')\n",
      "('Martin', 'Franck', 12, 'Caen')\n",
      "\n",
      "Tri âge croissant :\n",
      "('Martin', 'Franck', 12, 'Caen')\n",
      "('Lavoisier', 'Antoine', 12, 'Tours')\n",
      "('Martin', 'Antoine', 17, 'Caen')\n",
      "('Lovelace', 'Ada', 36, 'Londres')\n",
      "('Henri', 'Philippe', 42, 'Nice')\n"
     ]
    }
   ],
   "source": [
    "# tri 1 : c'est le tri par défaut = tri par le 1er élément des tuples (ici le nom de famille, ordre alphabétique)\n",
    "carnet_defaut = sorted(carnet)\n",
    "print(\"\\nTri par défaut :\")\n",
    "for personne in carnet_defaut:\n",
    "    print(personne)\n",
    "\n",
    "# tri 2 : par âge (nombre entier en tri croissant)\n",
    "def clef_tri(personne):\n",
    "    \"\"\" Fonction qui défnit le critère de tri.\n",
    "    Entrée : type d'objet à trier (ici une 'personne' qui est implémentée par un tuples de 4 valeurs).\n",
    "    Sortie : l'élément particulier de l'objet qui sert de clef de tri (ici l'élément d'indice n°2 du tuple).\n",
    "    \"\"\"\n",
    "    return personne[2]\n",
    "\n",
    "carnet_age = sorted(carnet, key=clef_tri)\n",
    "print(\"\\nTri âge croissant :\")\n",
    "for personne in carnet_age:\n",
    "    print(personne)"
   ]
  },
  {
   "cell_type": "markdown",
   "metadata": {},
   "source": [
    "<div class=\"alert alert-warning\">\n",
    "    \n",
    "**EXERCICE** : \n",
    "    \n",
    "1. Trier le carnet par ordre alphabétique de la ville.\n",
    "\n",
    "2. Trier le carnet par longueur décroissante du nom de famille (voilà bien un critère étrange, je vous l'accorde !)\n",
    "    \n",
    "</div>"
   ]
  },
  {
   "cell_type": "code",
   "execution_count": 8,
   "metadata": {},
   "outputs": [
    {
     "name": "stdout",
     "output_type": "stream",
     "text": [
      "\n",
      "Tri ville décroissant :\n",
      "('Martin', 'Franck', 12, 'Caen')\n",
      "('Martin', 'Antoine', 17, 'Caen')\n",
      "('Lovelace', 'Ada', 36, 'Londres')\n",
      "('Henri', 'Philippe', 42, 'Nice')\n",
      "('Lavoisier', 'Antoine', 12, 'Tours')\n",
      "\n",
      "Tri longueur nom croissante :\n",
      "('Lavoisier', 'Antoine', 12, 'Tours')\n",
      "('Lovelace', 'Ada', 36, 'Londres')\n",
      "('Martin', 'Franck', 12, 'Caen')\n",
      "('Martin', 'Antoine', 17, 'Caen')\n",
      "('Henri', 'Philippe', 42, 'Nice')\n"
     ]
    }
   ],
   "source": [
    "# tri 3 : par nom de ville (ordre alphabétique)\n",
    "def clef_2(personne):\n",
    "    return personne[3]\n",
    "\n",
    "carnet_ville = sorted(carnet, key=clef_2)\n",
    "print(\"\\nTri ville décroissant :\")\n",
    "for personne in carnet_ville:\n",
    "    print(personne)\n",
    "    \n",
    "# tri 4 : par longueur décroissante de nom (pourquoi pas ?)\n",
    "def clef_3(personne):\n",
    "    return len(personne[0])\n",
    "\n",
    "carnet_nom_long = sorted(carnet, key=clef_3, reverse=True)\n",
    "print(\"\\nTri longueur nom croissante :\")\n",
    "for personne in carnet_nom_long:\n",
    "    print(personne)    "
   ]
  },
  {
   "cell_type": "markdown",
   "metadata": {},
   "source": [
    "<div class=\"alert alert-danger\">\n",
    "    \n",
    "### Complément sur les fonctions anonymes : `lambda`\n",
    "Python (comme d'autres langages) permet de définir des fonctions sans nom, qu'on utilise en général à un seul endroit de son code.\n",
    "\n",
    "La syntaxe s'appuie sur le mot clef `lambda` et prend la forme générale : ``` lambda parametres : valeur_a_renvoyer ```\n",
    "\n",
    "*Exemple :*\n",
    "    \n",
    "    >>> (lambda x : 2*x + 3)(5)   # calcule f(5) avec f(x) = 2x+1\n",
    "    13\n",
    "</div>"
   ]
  },
  {
   "cell_type": "code",
   "execution_count": 9,
   "metadata": {},
   "outputs": [
    {
     "name": "stdout",
     "output_type": "stream",
     "text": [
      "\n",
      "Tri selon la longueur nom + prénom décroissante :\n",
      "('Lavoisier', 'Antoine', 12, 'Tours')\n",
      "('Henri', 'Philippe', 42, 'Nice')\n",
      "('Martin', 'Antoine', 17, 'Caen')\n",
      "('Martin', 'Franck', 12, 'Caen')\n",
      "('Lovelace', 'Ada', 36, 'Londres')\n"
     ]
    }
   ],
   "source": [
    "# exemple où une fonction lambda est utilisée pour définir directement la clef de tri\n",
    "carnet_id_long = sorted(carnet, key=lambda pers : len(pers[0]) + len(pers[1]), reverse=True)\n",
    "print(\"\\nTri selon la longueur nom + prénom décroissante :\")\n",
    "for personne in carnet_id_long:\n",
    "    print(personne)    "
   ]
  },
  {
   "cell_type": "markdown",
   "metadata": {},
   "source": [
    "<div class=\"alert alert-warning\">\n",
    "    \n",
    "**EXERCICE** : Reprendre les tris précédents en utilisant une fonction lambda dans chaque cas.\n",
    "    \n",
    "</div>"
   ]
  },
  {
   "cell_type": "code",
   "execution_count": 10,
   "metadata": {},
   "outputs": [
    {
     "name": "stdout",
     "output_type": "stream",
     "text": [
      "\n",
      "Tri âge croissant :\n",
      "('Martin', 'Franck', 12, 'Caen')\n",
      "('Lavoisier', 'Antoine', 12, 'Tours')\n",
      "('Martin', 'Antoine', 17, 'Caen')\n",
      "('Lovelace', 'Ada', 36, 'Londres')\n",
      "('Henri', 'Philippe', 42, 'Nice')\n",
      "\n",
      "Tri longueur nom croissante :\n",
      "('Lavoisier', 'Antoine', 12, 'Tours')\n",
      "('Lovelace', 'Ada', 36, 'Londres')\n",
      "('Martin', 'Franck', 12, 'Caen')\n",
      "('Martin', 'Antoine', 17, 'Caen')\n",
      "('Henri', 'Philippe', 42, 'Nice')\n"
     ]
    }
   ],
   "source": [
    "# tri 2 : par âge (nombre entier en tri croissant)\n",
    "carnet_age = sorted(carnet, key=lambda p:p[2])\n",
    "print(\"\\nTri âge croissant :\")\n",
    "for personne in carnet_age:\n",
    "    print(personne)\n",
    "    \n",
    "# tri 4 : par longueur décroissante de nom \n",
    "carnet_nom_long = sorted(carnet, key=lambda p:len(p[0]), reverse=True)\n",
    "print(\"\\nTri longueur nom croissante :\")\n",
    "for personne in carnet_nom_long:\n",
    "    print(personne)    "
   ]
  },
  {
   "cell_type": "markdown",
   "metadata": {
    "tags": []
   },
   "source": [
    "<h2 class=\"alert alert-info\">APPLICATION</h2>"
   ]
  },
  {
   "cell_type": "markdown",
   "metadata": {},
   "source": [
    "###  On charge à nouveau la table concernant les communes de France (dans une liste de dictionnaires) :"
   ]
  },
  {
   "cell_type": "code",
   "execution_count": 11,
   "metadata": {},
   "outputs": [],
   "source": [
    "import csv"
   ]
  },
  {
   "cell_type": "code",
   "execution_count": 12,
   "metadata": {},
   "outputs": [
    {
     "data": {
      "text/plain": [
       "{'nom': 'AAST',\n",
       " 'dpt_numero': '64',\n",
       " 'code_postal': '64460',\n",
       " 'commune_code': '64001',\n",
       " 'Population_2010': '192',\n",
       " 'Population_1999': '191',\n",
       " 'Densite_2010': '40',\n",
       " 'surface': '4,75',\n",
       " 'longitude_degre': '-0,083333',\n",
       " 'latitude_degre': '43,2833',\n",
       " 'longitude_DMS': '-525',\n",
       " 'latitude_DMS': '431721',\n",
       " 'altitude_mini': '367',\n",
       " 'altitude_maxi': '393'}"
      ]
     },
     "execution_count": 12,
     "metadata": {},
     "output_type": "execute_result"
    }
   ],
   "source": [
    "with open('villes_simplifie.csv', newline='', encoding='utf-8') as source:\n",
    "    villes = list(csv.DictReader(source, delimiter=';'))\n",
    "\n",
    "# exemple (1ère ville de la table) :\n",
    "villes[0]"
   ]
  },
  {
   "cell_type": "markdown",
   "metadata": {},
   "source": [
    "<div class=\"alert alert-warning\">\n",
    "    \n",
    "# Travail préparatoire sur la liste des villes\n",
    "Le fichier source contient des données qui ne seront pas utiles pour les exercices.\n",
    "\n",
    "On va donc commencer par préparer les données de la table `villes` avant de les exploiter.\n",
    "</div>"
   ]
  },
  {
   "cell_type": "markdown",
   "metadata": {},
   "source": [
    "<div class=\"alert alert-warning\">\n",
    "    \n",
    "1) Écrire une fonction `selection(table, attributs)` qui extrait certaines colonnes (identifiées par leur attribut) depuis une table qui contient de nombreuses colonnes.\n",
    "\n",
    "Se référer à la *docstring* de la fonction pour réaliser le travail souhaité.\n",
    "</div>"
   ]
  },
  {
   "cell_type": "code",
   "execution_count": 13,
   "metadata": {},
   "outputs": [],
   "source": [
    "def selection(table, attributs):\n",
    "    \"\"\" Renvoie une table qui contient seulement certaines colonnes d'une table d'origine.\n",
    "    Entrées :\n",
    "    - table : la table d'origine dont on veut extraire des données (liste de dictionnaires).\n",
    "    - attributs : liste contenant les attributs identifiants les colonnes à sélectionner.\n",
    "    (Exple : attributs = ['nom', 'code_postal'] pour ne conserver que ces attributs)\n",
    "    \"\"\"\n",
    "    # A VOUS DE JOUER\n",
    "    return [{clef:valeur for (clef, valeur) in enregistrement.items() if clef in attributs} for enregistrement in table]"
   ]
  },
  {
   "cell_type": "markdown",
   "metadata": {},
   "source": [
    "<div class=\"alert alert-warning\">\n",
    "    \n",
    "2) À l'aide de la fonction précédente, on extrait les colonnes  *'nom', 'dpt_numero', 'Population_2010', 'longitude_DMS', 'latitude_DMS', 'altitude_mini', et 'altitude_maxi'*  de la liste des villes.\n",
    "\n",
    "La nouvelle liste est enregistrée dans la variable `villes`.\n",
    "</div>"
   ]
  },
  {
   "cell_type": "code",
   "execution_count": 14,
   "metadata": {},
   "outputs": [
    {
     "data": {
      "text/plain": [
       "{'nom': 'AAST',\n",
       " 'dpt_numero': '64',\n",
       " 'Population_2010': '192',\n",
       " 'longitude_DMS': '-525',\n",
       " 'latitude_DMS': '431721',\n",
       " 'altitude_mini': '367',\n",
       " 'altitude_maxi': '393'}"
      ]
     },
     "execution_count": 14,
     "metadata": {},
     "output_type": "execute_result"
    }
   ],
   "source": [
    "attributs = ['nom', 'dpt_numero', 'Population_2010', 'longitude_DMS', 'latitude_DMS', 'altitude_mini', 'altitude_maxi']\n",
    "villes = selection(villes, attributs)\n",
    "\n",
    "# exemple (1ère ville de la table) :\n",
    "villes[0]"
   ]
  },
  {
   "cell_type": "markdown",
   "metadata": {},
   "source": [
    "<div class=\"alert alert-warning\">\n",
    "    \n",
    "3) Les fonctions suivantes permettront un affichage plaisant des listes de villes. \n",
    "    Assurez-vous simplement de comprendre le rôle de la fonction `presente` afin de pouvoir l'utiliser par la suite.\n",
    "</div>"
   ]
  },
  {
   "cell_type": "code",
   "execution_count": 15,
   "metadata": {},
   "outputs": [
    {
     "name": "stdout",
     "output_type": "stream",
     "text": [
      "                        nom   dpt_numero Population_2010   longitude_DMS    latitude_DMS   altitude_mini   altitude_maxi \n",
      "                       AAST           64             192            -525          431721             367             393 \n",
      "                 ABAINVILLE           55             298           52940          483153             282             388 \n",
      "                  ABANCOURT           59             448           31248          501403              36              70 \n",
      "                  ABANCOURT           60             646           14554          494149             170             222 \n",
      "                  ABAUCOURT           54             298           61529          485349             182             235 \n"
     ]
    }
   ],
   "source": [
    "def affiche(ville):\n",
    "    \"\"\" Affiche les données sur une ville de façon \"agréable\". \"\"\"\n",
    "    largeurs = [27, 12] + [15]*5 # espacements requis pour l'affichage des colonnes\n",
    "    for (attribut, largeur) in zip(attributs, largeurs):\n",
    "        print(f\"{ville[attribut].rjust(largeur)}\", end=' ')\n",
    "    print()\n",
    "\n",
    "def presente(villes, deb, fin):\n",
    "    \"\"\"  Affiche les données sur une sélection de villes de la table entre les indices deb (inclus) et fin (exclu). \"\"\"\n",
    "    affiche({a:a for a in attributs})\n",
    "    for i in range(deb, fin):\n",
    "        affiche(villes[i])\n",
    "        \n",
    "# test : présente les 5 premières villes de la table\n",
    "presente(villes, 0, 5)"
   ]
  },
  {
   "cell_type": "markdown",
   "metadata": {
    "tags": []
   },
   "source": [
    "## On dispose désormais d'un jeu de données exploitables et d'une fonction permettant de visualiser correctement les listes de villes."
   ]
  },
  {
   "cell_type": "markdown",
   "metadata": {},
   "source": [
    "<div class=\"alert alert-warning\">\n",
    "    \n",
    "#### EX 1- Trier la liste des villes par n° de département croissant et afficher quelques communes (classement de la 10000ème à 10010ème).\n",
    "Enregistrer le résultat dans une variable `villes_pop`.\n",
    "</div>"
   ]
  },
  {
   "cell_type": "code",
   "execution_count": 16,
   "metadata": {},
   "outputs": [
    {
     "name": "stdout",
     "output_type": "stream",
     "text": [
      "                        nom   dpt_numero Population_2010   longitude_DMS    latitude_DMS   altitude_mini   altitude_maxi \n",
      "                      LEZAN           30            1460           40302          440047             104             180 \n",
      "                      LIOUC           30             244           35956          435339              65             443 \n",
      "                      LIRAC           30             882           44124          440210              88             266 \n",
      "            LOGRIAN-FLORIAN           30             272           40144          435721              74             186 \n",
      "                     LUSSAN           30             480           42159          440911             110             345 \n",
      "             MALONS-ET-ELZE           30             105           40123          442503             219             997 \n",
      "                  MANDAGOUT           30             386           33731          440115             239            1240 \n",
      "                    MANDUEL           30            5690           42824          434906              50              77 \n",
      "               MARGUERITTES           30            8634           42638          435136              41             197 \n",
      "                       MARS           30             174           33325          435959             345            1168 \n"
     ]
    }
   ],
   "source": [
    "### BEGIN SOLUTION\n",
    "villes_pop = sorted(villes, key=lambda v:v['dpt_numero'])\n",
    "### END SOLUTION\n",
    "\n",
    "presente(villes_pop, 10000, 10010)"
   ]
  },
  {
   "cell_type": "markdown",
   "metadata": {},
   "source": [
    "<div class=\"alert alert-warning\">\n",
    "    \n",
    "#### EX 2- Trier la liste des villes par *altitude_mini* décroissante et afficher les 10 villes les plus hautes de France.\n",
    "Enregistrer le résultat dans une variable `villes_alt_min`.\n",
    "</div>"
   ]
  },
  {
   "cell_type": "code",
   "execution_count": 17,
   "metadata": {},
   "outputs": [
    {
     "name": "stdout",
     "output_type": "stream",
     "text": [
      "                        nom   dpt_numero Population_2010   longitude_DMS    latitude_DMS   altitude_mini   altitude_maxi \n",
      "                VAL-D'ISERE           73            1563           65838          452659            1785            3599 \n",
      "           BONNEVAL-SUR-ARC           73             241           70247          452216            1759            3642 \n",
      "                SAINT-VERAN            5             257           65206          444200            1756            3175 \n",
      "                    BESSANS           73             343           65937          451912            1673            3754 \n",
      "         MOLINES-EN-QUEYRAS            5             315           65036          444351            1625            3160 \n",
      "        CAUDIES-DE-CONFLENT           66              13           20941          423402            1616            2045 \n",
      "                     LARCHE            4              74           65048          442705            1606            3165 \n",
      "                   RISTOLAS            5              90           65720          444625            1571            3294 \n",
      "            PORTE-PUYMORENS           66             131           14954          423254            1557            2827 \n",
      "                LA LLAGONNE           66             242           20715          423135            1546            2196 \n"
     ]
    }
   ],
   "source": [
    "### BEGIN SOLUTION\n",
    "villes_alt_min = sorted(villes, key=lambda v:int(v['altitude_mini']), reverse=True)\n",
    "### END SOLUTION\n",
    "presente(villes_alt_min, 0, 10)"
   ]
  },
  {
   "cell_type": "markdown",
   "metadata": {},
   "source": [
    "<div class=\"alert alert-warning\">\n",
    "    \n",
    "#### EX 3- Trier la liste des villes par *altitude_maxi* décroissante et comparer \"le top 10\" à la liste précédente.\n",
    "Enregistrer le résultat dans une variable `villes_alt_max`.\n",
    "</div>"
   ]
  },
  {
   "cell_type": "code",
   "execution_count": 18,
   "metadata": {},
   "outputs": [
    {
     "name": "stdout",
     "output_type": "stream",
     "text": [
      "                        nom   dpt_numero Population_2010   longitude_DMS    latitude_DMS   altitude_mini   altitude_maxi \n",
      "        CHAMONIX-MONT-BLANC           74            8972           65208          455520             995            4807 \n",
      "    SAINT-GERVAIS-LES-BAINS           74            5694           64249          455333             571            4807 \n",
      "                LES HOUCHES           74            3018           64755          455324             796            4280 \n",
      "                    PELVOUX            5             467           62912          445209            1179            4099 \n",
      " SAINT-CHRISTOPHE-EN-OISANS           38             114           61037          445726            1168            4008 \n",
      "                   LA GRAVE            5             488           61821          450246            1135            3976 \n",
      "             VILLAR-D'ARENE            5             287           62013          450234            1519            3883 \n",
      "    LES CONTAMINES-MONTJOIE           74            1193           64345          454918             999            3880 \n",
      "       CHAMPAGNY-EN-VANOISE           73             679           64133          452716             960            3855 \n",
      "                  TERMIGNON           73             418           64901          451639            1277            3855 \n"
     ]
    }
   ],
   "source": [
    "### BEGIN SOLUTION\n",
    "villes_alt_max = sorted(villes, key=lambda v:int(v['altitude_maxi']), reverse=True)\n",
    "### END  SOLUTION\n",
    "presente(villes_alt_max, 0, 10)"
   ]
  },
  {
   "cell_type": "markdown",
   "metadata": {},
   "source": [
    "<div class=\"alert alert-warning\">\n",
    "    \n",
    "#### EX 4- Trier la liste des villes par dénivellé décroissant (plus grand écart entre altitude_maxi et altitude_mini).\n",
    "Enregistrer le résultat dans une variable `villes_denivelle`.\n",
    "</div>"
   ]
  },
  {
   "cell_type": "code",
   "execution_count": 19,
   "metadata": {},
   "outputs": [
    {
     "name": "stdout",
     "output_type": "stream",
     "text": [
      "                        nom   dpt_numero Population_2010   longitude_DMS    latitude_DMS   altitude_mini   altitude_maxi \n",
      "    SAINT-GERVAIS-LES-BAINS           74            5694           64249          455333             571            4807 \n",
      "        CHAMONIX-MONT-BLANC           74            8972           65208          455520             995            4807 \n",
      "                LES HOUCHES           74            3018           64755          455324             796            4280 \n",
      "        BOURG-SAINT-MAURICE           73            7705           64607          453700             744            3823 \n",
      " SAINT-MARTIN-DE-BELLEVILLE           73            2543           63016          452249             640            3564 \n",
      "                    PELVOUX            5             467           62912          445209            1179            4099 \n",
      "                 VILLAROGER           73             400           65228          453528             859            3779 \n",
      "       CHAMPAGNY-EN-VANOISE           73             679           64133          452716             960            3855 \n",
      "                 LES ALLUES           73            1867           63323          452551             680            3564 \n",
      "    LES CONTAMINES-MONTJOIE           74            1193           64345          454918             999            3880 \n"
     ]
    }
   ],
   "source": [
    "### BEGIN SOLUTION\n",
    "villes_denivelle = sorted(villes, key=lambda v:int(v['altitude_maxi'])-int(v['altitude_mini']), reverse=True)\n",
    "### END SOLUTION\n",
    "presente(villes_denivelle, 0, 10)"
   ]
  },
  {
   "cell_type": "markdown",
   "metadata": {},
   "source": [
    "<div class=\"alert alert-warning\">\n",
    "    \n",
    "#### EX 5- Chercher la ville la plus au nord de France.\n",
    "Enregistrer le résultat dans une variable `villes_nord`.\n",
    "</div>"
   ]
  },
  {
   "cell_type": "code",
   "execution_count": 20,
   "metadata": {},
   "outputs": [
    {
     "name": "stdout",
     "output_type": "stream",
     "text": [
      "                        nom   dpt_numero Population_2010   longitude_DMS    latitude_DMS   altitude_mini   altitude_maxi \n",
      "                 BRAY-DUNES           59            4666           23139          510416               0              29 \n"
     ]
    }
   ],
   "source": [
    "### BEGIN SOLUTION\n",
    "villes_nord = sorted(villes[1:], key=lambda v:int(v['latitude_DMS']), reverse=True)\n",
    "### END SOLUTION\n",
    "presente(villes_nord, 0, 1)"
   ]
  },
  {
   "cell_type": "markdown",
   "metadata": {},
   "source": [
    "<div class=\"alert alert-warning\">\n",
    "    \n",
    "#### EX 6- Chercher les 5 villes les plus à l'ouest du département du Calvados.\n",
    "Il faut d'abord sélectionner la sous-liste des villes du Calvados puis chercher les plus à l'ouest.\n",
    "\n",
    "Enregistrer le résultat dans une variable `villes_14_ouest`.\n",
    "</div>"
   ]
  },
  {
   "cell_type": "code",
   "execution_count": 21,
   "metadata": {},
   "outputs": [
    {
     "name": "stdout",
     "output_type": "stream",
     "text": [
      "706\n",
      "                        nom   dpt_numero Population_2010   longitude_DMS    latitude_DMS   altitude_mini   altitude_maxi \n",
      "       SAINT-AUBIN-DES-BOIS           14             224          -10743          484945             129             218 \n",
      "               FONTENERMONT           14             142          -10615          484925             170             255 \n",
      "             ISIGNY-SUR-MER           14            2803          -10608          491904               0              37 \n",
      "           NEUILLY-LA-FORET           14             464          -10556          491615               0              57 \n",
      "           GEFOSSE-FONTENAY           14             130          -10537          492154               0              32 \n"
     ]
    }
   ],
   "source": [
    "# sélection d'abord par code postal pour regrouper les villes du Calvados\n",
    "# puis tri par longitude croissante pour avoir d'abord les plus à l'ouest\n",
    "\n",
    "\n",
    "### BEGIN SOLUTION\n",
    "villes_14 = [ville for ville in villes if ville['dpt_numero'] == '14']\n",
    "print(len(villes_14))\n",
    "\n",
    "villes_14_ouest = sorted(villes_14, key=lambda v:int(v['longitude_DMS']))\n",
    "### END SOLUTION\n",
    "presente(villes_14_ouest, 0, 5)"
   ]
  },
  {
   "cell_type": "markdown",
   "metadata": {},
   "source": [
    "<div class=\"alert alert-warning\">\n",
    "    \n",
    "#### EX 7- Chercher si Caen ou Hérouville-Saint-Clair font partir des 50 villes les plus peuplées françaises\n",
    "Ou chercher quel est le rang de classement de Hérouville dans les villes les plus peuplées.\n",
    "\n",
    "Enregistrer le résultat dans une variable `villes_pop`.\n",
    "</div>"
   ]
  },
  {
   "cell_type": "code",
   "execution_count": 22,
   "metadata": {},
   "outputs": [
    {
     "name": "stdout",
     "output_type": "stream",
     "text": [
      "{'nom': 'CAEN', 'dpt_numero': '14', 'Population_2010': '108954', 'longitude_DMS': '-2214', 'latitude_DMS': '491056', 'altitude_mini': '2', 'altitude_maxi': '73'}\n"
     ]
    }
   ],
   "source": [
    "### BEGIN SOLUTION\n",
    "villes_pop = sorted(villes, key=lambda v:int(v['Population_2010']), reverse=True)\n",
    "### END SOLUTION\n",
    "for ville_test in ['CAEN', 'HEROUVILLE-SAINT-CLAIR']:\n",
    "    for ville in villes_pop[:50]:\n",
    "        if ville_test == ville['nom']:\n",
    "            print(ville)"
   ]
  },
  {
   "cell_type": "code",
   "execution_count": 23,
   "metadata": {},
   "outputs": [
    {
     "name": "stdout",
     "output_type": "stream",
     "text": [
      "{'nom': 'CAEN', 'dpt_numero': '14', 'Population_2010': '108954', 'longitude_DMS': '-2214', 'latitude_DMS': '491056', 'altitude_mini': '2', 'altitude_maxi': '73'}\n"
     ]
    }
   ],
   "source": [
    "### BEGIN SOLUTION\n",
    "villes_pop = sorted(villes, key=lambda v:int(v['Population_2010']), reverse=True)\n",
    "### END SOLUTION\n",
    "for ville in villes_pop[:50]:\n",
    "    if ville['nom'] in ['CAEN', 'HEROUVILLE-SAINT-CLAIR']:\n",
    "        print(ville)"
   ]
  },
  {
   "cell_type": "code",
   "execution_count": 24,
   "metadata": {},
   "outputs": [
    {
     "name": "stdout",
     "output_type": "stream",
     "text": [
      "0 PARIS\n",
      "34 CAEN\n",
      "384 HEROUVILLE-SAINT-CLAIR\n"
     ]
    }
   ],
   "source": [
    "for ville_test in ['PARIS', 'CAEN', 'HEROUVILLE-SAINT-CLAIR']:\n",
    "    i = 0\n",
    "    while ville_test != villes_pop[i]['nom']:\n",
    "        i += 1\n",
    "    print(i, ville_test)"
   ]
  },
  {
   "cell_type": "markdown",
   "metadata": {},
   "source": [
    "<div class=\"alert alert-warning\">\n",
    "    \n",
    "#### EX 8- on peut encore chercher d'autres critères sur les villes de France...\n",
    "</div>"
   ]
  },
  {
   "cell_type": "code",
   "execution_count": null,
   "metadata": {},
   "outputs": [],
   "source": []
  }
 ],
 "metadata": {
  "kernelspec": {
   "display_name": "Python 3",
   "language": "python",
   "name": "python3"
  },
  "language_info": {
   "codemirror_mode": {
    "name": "ipython",
    "version": 3
   },
   "file_extension": ".py",
   "mimetype": "text/x-python",
   "name": "python",
   "nbconvert_exporter": "python",
   "pygments_lexer": "ipython3",
   "version": "3.10.1"
  }
 },
 "nbformat": 4,
 "nbformat_minor": 4
}
