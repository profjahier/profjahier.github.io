{
 "cells": [
  {
   "cell_type": "markdown",
   "metadata": {},
   "source": [
    "<h1 class=\"alert alert-success\">Algorithmique autour des graphes</h1>"
   ]
  },
  {
   "cell_type": "markdown",
   "metadata": {
    "tags": []
   },
   "source": [
    "<h2 class=\"alert alert-info\">1. Préliminaires</h2>"
   ]
  },
  {
   "cell_type": "markdown",
   "metadata": {},
   "source": [
    "Nous avons vu dans le TP précédent une première version de classe Graphe que nous allons exploiter pour effectuer des algorithmes de parcours en largeur ou en profondeur et rechercher des cycles.\n",
    "Nous commençons donc ici par re-écrire cette classe et ajouter quelques fonctionnalités complémentaires comme dans le TP précédent (fonction de vicualisation et fonction pour créer un Graphe à partir de sa matrice d'adjacence)."
   ]
  },
  {
   "cell_type": "markdown",
   "metadata": {},
   "source": [
    "<h3 class=\"alert alert-warning\">Écriture de la classe Graphe</h3>"
   ]
  },
  {
   "cell_type": "code",
   "execution_count": 1,
   "metadata": {},
   "outputs": [],
   "source": [
    "class Graphe():  # graphe représenté par un Dictionaire d'Adjacence\n",
    "    \"\"\" Graphe implémenté à l'aide d'un dictionnaire d'adjacence.\n",
    "    Exemple : \n",
    "    self.dico = {'sommet_x': {'sommet_y' : poids_xy, 'sommet_z' : poids_xz},  etc...}\n",
    "    Chaque sommet est identifié par son étiquette (qui doit être unique !).\n",
    "    \"\"\"\n",
    "    def __init__(self):\n",
    "        \"\"\" Initialisation avec un graphe vide. \"\"\"\n",
    "        self.dico = dict()\n",
    "    \n",
    "    def ajouter_sommet(self, sommet):\n",
    "        \"\"\" Ajoute un nouveau sommet au graphe. \"\"\"\n",
    "        if not sommet in self.dico:\n",
    "            self.dico[sommet] = dict()\n",
    "    \n",
    "    def ajouter_arete(self, sommet1, sommet2, poids=1):\n",
    "        \"\"\" Ajoute une arête au graphe de sommet1 vers sommet2.\n",
    "        Si poids n'est pas renseigné, il prendra la valeur 1 par défaut. \"\"\"\n",
    "        # Si les sommets n'existent pas, on les crée avant l'arête :\n",
    "        self.ajouter_sommet(sommet1)\n",
    "        self.ajouter_sommet(sommet2)\n",
    "            # On crée la connexion sommet1 -> sommet2 (arc orienté par défaut)\n",
    "        self.dico[sommet1][sommet2] = poids\n",
    "    \n",
    "    def sommets(self):\n",
    "        \"\"\" Renvoie la liste des sommets triée par étiquette. \"\"\"\n",
    "        return sorted(list(self.dico.keys()))\n",
    "    \n",
    "    def successeurs(self, sommet):\n",
    "        \"\"\" Renvoie la liste des successeurs de sommet, triée par étiquette. \"\"\"\n",
    "        return sorted(list(self.dico[sommet].keys()))\n",
    "    \n",
    "    def poids(self, sommet1, sommet2):\n",
    "        \"\"\" Renvoie le poids de l'arête sommet1->sommet2 ou 0 si pas d'arête. \"\"\"\n",
    "        if sommet2 not in self.dico[sommet1]:\n",
    "            return 0\n",
    "        else:\n",
    "            return self.dico[sommet1][sommet2]\n",
    "            \n",
    "    def get_graphe(self):\n",
    "        \"\"\" Renvoie le dictionnaire d'adjacence représentant le graphe. \"\"\"\n",
    "        return self.dico\n",
    "    def set_graphe(self, dico):\n",
    "        \"\"\" Définit le dictionnaire d'adjacence représentant le graphe. \"\"\"\n",
    "        self.dico = dico"
   ]
  },
  {
   "cell_type": "markdown",
   "metadata": {},
   "source": [
    "<h3 class=\"alert alert-warning\">Import d'une fonction de visualisation.</h3>"
   ]
  },
  {
   "cell_type": "markdown",
   "metadata": {},
   "source": [
    "**Rappel** : il peut être intéressant de tester les moteurs de rendu graphique **dot**, **circo** et **neato** en fonction du graphe qu'on veut visualiser."
   ]
  },
  {
   "cell_type": "code",
   "execution_count": 2,
   "metadata": {},
   "outputs": [],
   "source": [
    "from graphe_dot import dessiner"
   ]
  },
  {
   "cell_type": "markdown",
   "metadata": {},
   "source": [
    "<h3 class=\"alert alert-warning\">Conversion d'une matrice d'adjacence en un dictionnaire d'adjacence (avec la liste des étiquettes).</h3>"
   ]
  },
  {
   "cell_type": "code",
   "execution_count": 3,
   "metadata": {},
   "outputs": [],
   "source": [
    "def mat2dico(matrice, etiquettes=None):\n",
    "    \"\"\" Crée un dico d'adjacence à partir d'une matrice d'adjacence :\n",
    "     - etiquettes est la liste des étiquettes des sommets \n",
    "    \"\"\"\n",
    "    n = len(matrice)\n",
    "    if etiquettes is None: # si aucune étiquette de sommets communiquée :\n",
    "        etiquettes = [i for i in range(n)] # on crée des sommets étiquettés de 0 à n-1\n",
    "    assert len(etiquettes) == len(set(etiquettes)), \"Erreur : doublon d'identifiants de sommets\"\n",
    "    dico = dict() \n",
    "    for i in range(n):\n",
    "        dico[etiquettes[i]] = dict()\n",
    "        for j in range(n):\n",
    "            if matrice[i][j] != 0:  # 2 sommets non connectés sont séparés d'une distance nulle\n",
    "                dico[etiquettes[i]][etiquettes[j]] = matrice[i][j]\n",
    "    return dico"
   ]
  },
  {
   "cell_type": "markdown",
   "metadata": {
    "tags": []
   },
   "source": [
    "<h2 class=\"alert alert-info\">2. Parcours en profondeur</h2>"
   ]
  },
  {
   "cell_type": "markdown",
   "metadata": {},
   "source": [
    "Maintenant que tout est en place avec une classe Graphe aboutie, nous allons créer une fonction `parcours_profondeur(graphe, depart)`, qui prend en paramètres :\n",
    "- le graphe à parcourir\n",
    "- le sommet de départ pour le parcours\n",
    "\n",
    "Celle-ci est déjà un peu ébauchée, vous devrez compléter le coeur de l'algorithme **récursif** dans la fonction dfs."
   ]
  },
  {
   "cell_type": "markdown",
   "metadata": {},
   "source": [
    "<h3 class=\"alert alert-warning\">Fonction de parcours en profondeur.</h3>"
   ]
  },
  {
   "cell_type": "markdown",
   "metadata": {},
   "source": [
    "**Compléter la fonction ci-dessous :**"
   ]
  },
  {
   "cell_type": "code",
   "execution_count": 4,
   "metadata": {},
   "outputs": [],
   "source": [
    "def parcours_profondeur(graphe, depart):\n",
    "    \"\"\" Parcourt l'arbre en profondeur (DFS) \"\"\"\n",
    "    def dfs(graphe, sommet):\n",
    "        # A VOUS DE JOUER\n",
    "        # ...\n",
    "        traités.append(sommet)\n",
    "        for successeur in graphe.successeurs(sommet):\n",
    "            if successeur not in traités:\n",
    "                dfs(graphe, successeur)\n",
    "        # ...\n",
    "    traités = []  # sommets déjà traités\n",
    "    dfs(graphe, depart)\n",
    "    return traités"
   ]
  },
  {
   "cell_type": "markdown",
   "metadata": {},
   "source": [
    "<h3 class=\"alert alert-warning\">Test</h3>"
   ]
  },
  {
   "cell_type": "markdown",
   "metadata": {},
   "source": [
    "On donne ci-dessous la matrice d'adjacence du graphe vu en cours. Les étiquettes sont tout simplement les lettres de A à H dans l'ordre alphabétique.\n",
    "\n",
    "Exploiter les fonctionnalités mises en place pour obtenir une instance nommée `g1` de la classe Graphe correspondant à ce graphe. "
   ]
  },
  {
   "cell_type": "code",
   "execution_count": 5,
   "metadata": {},
   "outputs": [],
   "source": [
    "matrice = [[0,1,1,0,0,0,0,0],\n",
    "          [1,0,0,1,1,0,0,0],\n",
    "          [1,0,0,1,0,0,0,0],\n",
    "          [0,1,1,0,1,0,0,0],\n",
    "          [0,1,0,1,0,1,1,0],\n",
    "          [0,0,0,0,1,0,1,0],\n",
    "          [0,0,0,0,1,1,0,1],\n",
    "          [0,0,0,0,0,0,1,0]]"
   ]
  },
  {
   "cell_type": "code",
   "execution_count": 6,
   "metadata": {},
   "outputs": [],
   "source": [
    "# à vous de jouer\n",
    "# ...\n",
    "\n",
    "sommets = 'ABCDEFGH'\n",
    "\n",
    "g1 = Graphe()\n",
    "dico = mat2dico(matrice, sommets)\n",
    "g1.set_graphe(dico)"
   ]
  },
  {
   "cell_type": "code",
   "execution_count": 7,
   "metadata": {},
   "outputs": [
    {
     "data": {
      "image/svg+xml": [
       "<?xml version=\"1.0\" encoding=\"UTF-8\" standalone=\"no\"?>\n",
       "<!DOCTYPE svg PUBLIC \"-//W3C//DTD SVG 1.1//EN\"\n",
       " \"http://www.w3.org/Graphics/SVG/1.1/DTD/svg11.dtd\">\n",
       "<!-- Generated by graphviz version 2.47.0 (20210327.0129)\n",
       " -->\n",
       "<!-- Pages: 1 -->\n",
       "<svg width=\"262pt\" height=\"289pt\"\n",
       " viewBox=\"0.00 0.00 261.69 288.94\" xmlns=\"http://www.w3.org/2000/svg\" xmlns:xlink=\"http://www.w3.org/1999/xlink\">\n",
       "<g id=\"graph0\" class=\"graph\" transform=\"scale(1 1) rotate(0) translate(4 284.94)\">\n",
       "<polygon fill=\"white\" stroke=\"transparent\" points=\"-4,4 -4,-284.94 257.69,-284.94 257.69,4 -4,4\"/>\n",
       "<!-- A -->\n",
       "<g id=\"node1\" class=\"node\">\n",
       "<title>A</title>\n",
       "<ellipse fill=\"none\" stroke=\"black\" cx=\"98.96\" cy=\"-262.94\" rx=\"27\" ry=\"18\"/>\n",
       "<text text-anchor=\"middle\" x=\"98.96\" y=\"-259.24\" font-family=\"Times-Roman\" font-size=\"14.00\">A</text>\n",
       "</g>\n",
       "<!-- B -->\n",
       "<g id=\"node2\" class=\"node\">\n",
       "<title>B</title>\n",
       "<ellipse fill=\"none\" stroke=\"black\" cx=\"127.13\" cy=\"-190.17\" rx=\"27\" ry=\"18\"/>\n",
       "<text text-anchor=\"middle\" x=\"127.13\" y=\"-186.47\" font-family=\"Times-Roman\" font-size=\"14.00\">B</text>\n",
       "</g>\n",
       "<!-- B&#45;&gt;A -->\n",
       "<g id=\"edge1\" class=\"edge\">\n",
       "<title>B&#45;&gt;A</title>\n",
       "<path fill=\"none\" stroke=\"black\" d=\"M120.31,-207.78C115.88,-219.23 110.13,-234.08 105.72,-245.49\"/>\n",
       "</g>\n",
       "<!-- C -->\n",
       "<g id=\"node3\" class=\"node\">\n",
       "<title>C</title>\n",
       "<ellipse fill=\"none\" stroke=\"black\" cx=\"27\" cy=\"-234.21\" rx=\"27\" ry=\"18\"/>\n",
       "<text text-anchor=\"middle\" x=\"27\" y=\"-230.51\" font-family=\"Times-Roman\" font-size=\"14.00\">C</text>\n",
       "</g>\n",
       "<!-- C&#45;&gt;A -->\n",
       "<g id=\"edge2\" class=\"edge\">\n",
       "<title>C&#45;&gt;A</title>\n",
       "<path fill=\"none\" stroke=\"black\" d=\"M50.17,-243.46C58.22,-246.68 67.26,-250.28 75.35,-253.51\"/>\n",
       "</g>\n",
       "<!-- D -->\n",
       "<g id=\"node4\" class=\"node\">\n",
       "<title>D</title>\n",
       "<ellipse fill=\"none\" stroke=\"black\" cx=\"56.73\" cy=\"-162.41\" rx=\"27\" ry=\"18\"/>\n",
       "<text text-anchor=\"middle\" x=\"56.73\" y=\"-158.71\" font-family=\"Times-Roman\" font-size=\"14.00\">D</text>\n",
       "</g>\n",
       "<!-- D&#45;&gt;B -->\n",
       "<g id=\"edge3\" class=\"edge\">\n",
       "<title>D&#45;&gt;B</title>\n",
       "<path fill=\"none\" stroke=\"black\" d=\"M80.17,-171.65C87.69,-174.62 96.02,-177.9 103.55,-180.87\"/>\n",
       "</g>\n",
       "<!-- D&#45;&gt;C -->\n",
       "<g id=\"edge4\" class=\"edge\">\n",
       "<title>D&#45;&gt;C</title>\n",
       "<path fill=\"none\" stroke=\"black\" d=\"M49.53,-179.79C44.89,-191 38.88,-205.52 34.23,-216.74\"/>\n",
       "</g>\n",
       "<!-- E -->\n",
       "<g id=\"node5\" class=\"node\">\n",
       "<title>E</title>\n",
       "<ellipse fill=\"none\" stroke=\"black\" cx=\"115.14\" cy=\"-116.06\" rx=\"27\" ry=\"18\"/>\n",
       "<text text-anchor=\"middle\" x=\"115.14\" y=\"-112.36\" font-family=\"Times-Roman\" font-size=\"14.00\">E</text>\n",
       "</g>\n",
       "<!-- E&#45;&gt;B -->\n",
       "<g id=\"edge5\" class=\"edge\">\n",
       "<title>E&#45;&gt;B</title>\n",
       "<path fill=\"none\" stroke=\"black\" d=\"M118.04,-134C119.91,-145.56 122.33,-160.55 124.21,-172.14\"/>\n",
       "</g>\n",
       "<!-- E&#45;&gt;D -->\n",
       "<g id=\"edge6\" class=\"edge\">\n",
       "<title>E&#45;&gt;D</title>\n",
       "<path fill=\"none\" stroke=\"black\" d=\"M97.61,-129.96C90.22,-135.83 81.63,-142.64 74.24,-148.51\"/>\n",
       "</g>\n",
       "<!-- F -->\n",
       "<g id=\"node6\" class=\"node\">\n",
       "<title>F</title>\n",
       "<ellipse fill=\"none\" stroke=\"black\" cx=\"95.88\" cy=\"-43.13\" rx=\"27\" ry=\"18\"/>\n",
       "<text text-anchor=\"middle\" x=\"95.88\" y=\"-39.43\" font-family=\"Times-Roman\" font-size=\"14.00\">F</text>\n",
       "</g>\n",
       "<!-- F&#45;&gt;E -->\n",
       "<g id=\"edge7\" class=\"edge\">\n",
       "<title>F&#45;&gt;E</title>\n",
       "<path fill=\"none\" stroke=\"black\" d=\"M100.64,-61.16C103.62,-72.46 107.46,-86.97 110.43,-98.24\"/>\n",
       "</g>\n",
       "<!-- G -->\n",
       "<g id=\"node7\" class=\"node\">\n",
       "<title>G</title>\n",
       "<ellipse fill=\"none\" stroke=\"black\" cx=\"165.27\" cy=\"-60.25\" rx=\"27\" ry=\"18\"/>\n",
       "<text text-anchor=\"middle\" x=\"165.27\" y=\"-56.55\" font-family=\"Times-Roman\" font-size=\"14.00\">G</text>\n",
       "</g>\n",
       "<!-- G&#45;&gt;E -->\n",
       "<g id=\"edge8\" class=\"edge\">\n",
       "<title>G&#45;&gt;E</title>\n",
       "<path fill=\"none\" stroke=\"black\" d=\"M151.3,-75.79C144.35,-83.54 135.97,-92.87 129.03,-100.59\"/>\n",
       "</g>\n",
       "<!-- G&#45;&gt;F -->\n",
       "<g id=\"edge9\" class=\"edge\">\n",
       "<title>G&#45;&gt;F</title>\n",
       "<path fill=\"none\" stroke=\"black\" d=\"M139.82,-53.97C133.79,-52.49 127.35,-50.9 121.32,-49.41\"/>\n",
       "</g>\n",
       "<!-- H -->\n",
       "<g id=\"node8\" class=\"node\">\n",
       "<title>H</title>\n",
       "<ellipse fill=\"none\" stroke=\"black\" cx=\"226.69\" cy=\"-18\" rx=\"27\" ry=\"18\"/>\n",
       "<text text-anchor=\"middle\" x=\"226.69\" y=\"-14.3\" font-family=\"Times-Roman\" font-size=\"14.00\">H</text>\n",
       "</g>\n",
       "<!-- H&#45;&gt;G -->\n",
       "<g id=\"edge10\" class=\"edge\">\n",
       "<title>H&#45;&gt;G</title>\n",
       "<path fill=\"none\" stroke=\"black\" d=\"M207.59,-31.14C200.13,-36.27 191.59,-42.15 184.14,-47.27\"/>\n",
       "</g>\n",
       "</g>\n",
       "</svg>\n"
      ],
      "text/plain": [
       "<graphviz.dot.Digraph at 0x7f5f5afde150>"
      ]
     },
     "execution_count": 7,
     "metadata": {},
     "output_type": "execute_result"
    }
   ],
   "source": [
    "# si vous avez bien travaillé, cette cellule doit vous permettre de visualiser le graphe du cours.\n",
    "dessiner(g1, 'neato')"
   ]
  },
  {
   "cell_type": "markdown",
   "metadata": {},
   "source": [
    "On peut maintenant vérifier que la fonction de parcours en profondeur fonctionne correctement :"
   ]
  },
  {
   "cell_type": "code",
   "execution_count": 8,
   "metadata": {},
   "outputs": [
    {
     "name": "stdout",
     "output_type": "stream",
     "text": [
      "sommet de départ A :\n",
      "['A', 'B', 'D', 'C', 'E', 'F', 'G', 'H']\n",
      "sommet de départ B :\n",
      "['B', 'A', 'C', 'D', 'E', 'F', 'G', 'H']\n",
      "sommet de départ C :\n",
      "['C', 'A', 'B', 'D', 'E', 'F', 'G', 'H']\n",
      "sommet de départ D :\n",
      "['D', 'B', 'A', 'C', 'E', 'F', 'G', 'H']\n",
      "sommet de départ E :\n",
      "['E', 'B', 'A', 'C', 'D', 'F', 'G', 'H']\n",
      "sommet de départ F :\n",
      "['F', 'E', 'B', 'A', 'C', 'D', 'G', 'H']\n",
      "sommet de départ G :\n",
      "['G', 'E', 'B', 'A', 'C', 'D', 'F', 'H']\n",
      "sommet de départ H :\n",
      "['H', 'G', 'E', 'B', 'A', 'C', 'D', 'F']\n"
     ]
    }
   ],
   "source": [
    "# Tests : \n",
    "for s in g1.sommets():\n",
    "    print(f\"sommet de départ {s} :\")\n",
    "    print(parcours_profondeur(g1, s))"
   ]
  },
  {
   "cell_type": "markdown",
   "metadata": {
    "tags": []
   },
   "source": [
    "<h2 class=\"alert alert-info\">3. Parcours en largeur</h2>"
   ]
  },
  {
   "cell_type": "markdown",
   "metadata": {},
   "source": [
    "Vous allez maintenant créer une fonction `parcours_largeur(graphe, depart)`. De la même manière, elle va permettre de parcourir l'ensemble des sommets du graphe à partir d'un sommet. Mais bien entendu, le parcours se fait en largeur d'abord.\n",
    "\n",
    "On rappelle que pour un parcours en largeur, plutôt que d'utiliser la récursivité, on préfère faire appel à une file (voir cours)."
   ]
  },
  {
   "cell_type": "code",
   "execution_count": 9,
   "metadata": {},
   "outputs": [],
   "source": [
    "def parcours_largeur(graphe, depart):\n",
    "    \"\"\" Parcourt l'arbre en largeur (BFS) \"\"\"\n",
    "    # A VOUS DE JOUER\n",
    "    # ...\n",
    "    decouverts = [depart]  # sommets déjà decouverts\n",
    "    file = [depart]\n",
    "    while file:    # tant que la file n'est pas vide\n",
    "        sommet = file.pop(0)\n",
    "        for successeur in graphe.successeurs(sommet):\n",
    "            if successeur not in decouverts:\n",
    "                file.append(successeur)\n",
    "                decouverts.append(successeur)\n",
    "    return decouverts  "
   ]
  },
  {
   "cell_type": "code",
   "execution_count": 10,
   "metadata": {},
   "outputs": [
    {
     "name": "stdout",
     "output_type": "stream",
     "text": [
      "['A', 'B', 'C', 'D', 'E', 'F', 'G', 'H']\n",
      "['B', 'A', 'D', 'E', 'C', 'F', 'G', 'H']\n",
      "['C', 'A', 'D', 'B', 'E', 'F', 'G', 'H']\n",
      "['D', 'B', 'C', 'E', 'A', 'F', 'G', 'H']\n",
      "['E', 'B', 'D', 'F', 'G', 'A', 'C', 'H']\n",
      "['F', 'E', 'G', 'B', 'D', 'H', 'A', 'C']\n",
      "['G', 'E', 'F', 'H', 'B', 'D', 'A', 'C']\n",
      "['H', 'G', 'E', 'F', 'B', 'D', 'A', 'C']\n"
     ]
    }
   ],
   "source": [
    "# Tests \n",
    "for s in g1.sommets():\n",
    "    print(parcours_largeur(g1, s))"
   ]
  },
  {
   "cell_type": "markdown",
   "metadata": {
    "tags": []
   },
   "source": [
    "<h2 class=\"alert alert-info\">4. Chercher les cycles</h2>"
   ]
  },
  {
   "cell_type": "markdown",
   "metadata": {},
   "source": [
    "Écrire une fonction `cycle` qui prend en paramètres un graphe et qui renvoie un booléen selon que le graphe contient un cycle ou non.\n",
    "\n",
    "Cette fonction repose sur un parcours en largeur légèrement modifié :\n",
    "\n",
    "    - Le sommet de départ est aléatoire\n",
    "    - Un cycle est détecté si le parcours \"repasse\" par un sommet déjà visité !"
   ]
  },
  {
   "cell_type": "code",
   "execution_count": 11,
   "metadata": {},
   "outputs": [
    {
     "name": "stdout",
     "output_type": "stream",
     "text": [
      "Help on method choice in module random:\n",
      "\n",
      "choice(seq) method of random.Random instance\n",
      "    Choose a random element from a non-empty sequence.\n",
      "\n"
     ]
    }
   ],
   "source": [
    "from random import choice   # import de fonction pour choisir un élément de liste au hasard\n",
    "help(choice)"
   ]
  },
  {
   "cell_type": "code",
   "execution_count": 12,
   "metadata": {},
   "outputs": [],
   "source": [
    "def cycle(graphe):\n",
    "    \"\"\" Renvoie True (resp. False) si le graphe contient (resp. ne contient pas) un cycle :\n",
    "    Parcourt le graphe en largeur depuis un sommet quelconque et cherche si on retombe sur le sommet de départ \"\"\"\n",
    "    # à vous de jouer\n",
    "    # ...\n",
    "    depart = choice(graphe.sommets())\n",
    "    traités = []\n",
    "    file = [depart]\n",
    "    while file:    # tant que la file n'est pas vide\n",
    "        sommet = file.pop(0)\n",
    "        if sommet in traités:\n",
    "            return True\n",
    "        else:\n",
    "            traités.append(sommet)\n",
    "            for successeur in graphe.successeurs(sommet):\n",
    "                if successeur not in traités:\n",
    "                    file.append(successeur)\n",
    "    return False"
   ]
  },
  {
   "cell_type": "code",
   "execution_count": 13,
   "metadata": {
    "tags": []
   },
   "outputs": [],
   "source": [
    "# on vérifie que le graphe g1 contient bien un cycle :\n",
    "assert cycle(g1)"
   ]
  },
  {
   "cell_type": "markdown",
   "metadata": {},
   "source": [
    "<h3 class=\"alert alert-warning\">Test sans cycle</h3>"
   ]
  },
  {
   "cell_type": "markdown",
   "metadata": {},
   "source": [
    "Voici à nouveau la matrice d'adjacence du graphe du cours. Supprimer sur cette matrice 3 arêtes pour obtenir un graphe sans cycle."
   ]
  },
  {
   "cell_type": "code",
   "execution_count": 14,
   "metadata": {},
   "outputs": [],
   "source": [
    "matrice = [[0,1,1,0,0,0,0,0],\n",
    "          [1,0,0,1,1,0,0,0],\n",
    "          [1,0,0,1,0,0,0,0],\n",
    "          [0,1,1,0,1,0,0,0],\n",
    "          [0,1,0,1,0,1,1,0],\n",
    "          [0,0,0,0,1,0,1,0],\n",
    "          [0,0,0,0,1,1,0,1],\n",
    "          [0,0,0,0,0,0,1,0]]\n",
    "\n",
    "# Construction d'un graphe sans cycle :\n",
    "matrice_sans_cycle = [[0,1,1,0,0,0,0,0],\n",
    "          [1,0,0,0,1,0,0,0],\n",
    "          [1,0,0,0,0,0,0,0],\n",
    "          [0,0,0,0,1,0,0,0],\n",
    "          [0,1,0,1,0,1,1,0],\n",
    "          [0,0,0,0,1,0,0,0],\n",
    "          [0,0,0,0,1,0,0,1],\n",
    "          [0,0,0,0,0,0,1,0]]"
   ]
  },
  {
   "cell_type": "code",
   "execution_count": 15,
   "metadata": {},
   "outputs": [
    {
     "data": {
      "image/svg+xml": [
       "<?xml version=\"1.0\" encoding=\"UTF-8\" standalone=\"no\"?>\n",
       "<!DOCTYPE svg PUBLIC \"-//W3C//DTD SVG 1.1//EN\"\n",
       " \"http://www.w3.org/Graphics/SVG/1.1/DTD/svg11.dtd\">\n",
       "<!-- Generated by graphviz version 2.47.0 (20210327.0129)\n",
       " -->\n",
       "<!-- Pages: 1 -->\n",
       "<svg width=\"354pt\" height=\"300pt\"\n",
       " viewBox=\"0.00 0.00 353.58 300.24\" xmlns=\"http://www.w3.org/2000/svg\" xmlns:xlink=\"http://www.w3.org/1999/xlink\">\n",
       "<g id=\"graph0\" class=\"graph\" transform=\"scale(1 1) rotate(0) translate(4 296.24)\">\n",
       "<polygon fill=\"white\" stroke=\"transparent\" points=\"-4,4 -4,-296.24 349.58,-296.24 349.58,4 -4,4\"/>\n",
       "<!-- A -->\n",
       "<g id=\"node1\" class=\"node\">\n",
       "<title>A</title>\n",
       "<ellipse fill=\"none\" stroke=\"black\" cx=\"68.57\" cy=\"-78.35\" rx=\"27\" ry=\"18\"/>\n",
       "<text text-anchor=\"middle\" x=\"68.57\" y=\"-74.65\" font-family=\"Times-Roman\" font-size=\"14.00\">A</text>\n",
       "</g>\n",
       "<!-- B -->\n",
       "<g id=\"node2\" class=\"node\">\n",
       "<title>B</title>\n",
       "<ellipse fill=\"none\" stroke=\"black\" cx=\"119.14\" cy=\"-134.04\" rx=\"27\" ry=\"18\"/>\n",
       "<text text-anchor=\"middle\" x=\"119.14\" y=\"-130.34\" font-family=\"Times-Roman\" font-size=\"14.00\">B</text>\n",
       "</g>\n",
       "<!-- B&#45;&gt;A -->\n",
       "<g id=\"edge1\" class=\"edge\">\n",
       "<title>B&#45;&gt;A</title>\n",
       "<path fill=\"none\" stroke=\"black\" d=\"M105.05,-118.53C98.04,-110.81 89.58,-101.5 82.58,-93.78\"/>\n",
       "</g>\n",
       "<!-- C -->\n",
       "<g id=\"node3\" class=\"node\">\n",
       "<title>C</title>\n",
       "<ellipse fill=\"none\" stroke=\"black\" cx=\"27\" cy=\"-18\" rx=\"27\" ry=\"18\"/>\n",
       "<text text-anchor=\"middle\" x=\"27\" y=\"-14.3\" font-family=\"Times-Roman\" font-size=\"14.00\">C</text>\n",
       "</g>\n",
       "<!-- C&#45;&gt;A -->\n",
       "<g id=\"edge2\" class=\"edge\">\n",
       "<title>C&#45;&gt;A</title>\n",
       "<path fill=\"none\" stroke=\"black\" d=\"M38.36,-34.49C44.22,-43.01 51.36,-53.37 57.22,-61.88\"/>\n",
       "</g>\n",
       "<!-- D -->\n",
       "<g id=\"node4\" class=\"node\">\n",
       "<title>D</title>\n",
       "<ellipse fill=\"none\" stroke=\"black\" cx=\"194.11\" cy=\"-274.24\" rx=\"27\" ry=\"18\"/>\n",
       "<text text-anchor=\"middle\" x=\"194.11\" y=\"-270.54\" font-family=\"Times-Roman\" font-size=\"14.00\">D</text>\n",
       "</g>\n",
       "<!-- E -->\n",
       "<g id=\"node5\" class=\"node\">\n",
       "<title>E</title>\n",
       "<ellipse fill=\"none\" stroke=\"black\" cx=\"167.18\" cy=\"-198.74\" rx=\"27\" ry=\"18\"/>\n",
       "<text text-anchor=\"middle\" x=\"167.18\" y=\"-195.04\" font-family=\"Times-Roman\" font-size=\"14.00\">E</text>\n",
       "</g>\n",
       "<!-- E&#45;&gt;B -->\n",
       "<g id=\"edge3\" class=\"edge\">\n",
       "<title>E&#45;&gt;B</title>\n",
       "<path fill=\"none\" stroke=\"black\" d=\"M155.06,-182.42C147.83,-172.68 138.68,-160.36 131.42,-150.59\"/>\n",
       "</g>\n",
       "<!-- E&#45;&gt;D -->\n",
       "<g id=\"edge4\" class=\"edge\">\n",
       "<title>E&#45;&gt;D</title>\n",
       "<path fill=\"none\" stroke=\"black\" d=\"M173.56,-216.63C177.86,-228.67 183.49,-244.47 187.78,-256.47\"/>\n",
       "</g>\n",
       "<!-- F -->\n",
       "<g id=\"node6\" class=\"node\">\n",
       "<title>F</title>\n",
       "<ellipse fill=\"none\" stroke=\"black\" cx=\"106.8\" cy=\"-253.59\" rx=\"27\" ry=\"18\"/>\n",
       "<text text-anchor=\"middle\" x=\"106.8\" y=\"-249.89\" font-family=\"Times-Roman\" font-size=\"14.00\">F</text>\n",
       "</g>\n",
       "<!-- F&#45;&gt;E -->\n",
       "<g id=\"edge5\" class=\"edge\">\n",
       "<title>F&#45;&gt;E</title>\n",
       "<path fill=\"none\" stroke=\"black\" d=\"M122.98,-238.89C131.64,-231.02 142.28,-221.36 150.95,-213.48\"/>\n",
       "</g>\n",
       "<!-- G -->\n",
       "<g id=\"node7\" class=\"node\">\n",
       "<title>G</title>\n",
       "<ellipse fill=\"none\" stroke=\"black\" cx=\"244.6\" cy=\"-172.89\" rx=\"27\" ry=\"18\"/>\n",
       "<text text-anchor=\"middle\" x=\"244.6\" y=\"-169.19\" font-family=\"Times-Roman\" font-size=\"14.00\">G</text>\n",
       "</g>\n",
       "<!-- G&#45;&gt;E -->\n",
       "<g id=\"edge6\" class=\"edge\">\n",
       "<title>G&#45;&gt;E</title>\n",
       "<path fill=\"none\" stroke=\"black\" d=\"M220.11,-181.07C210.98,-184.12 200.63,-187.57 191.52,-190.62\"/>\n",
       "</g>\n",
       "<!-- H -->\n",
       "<g id=\"node8\" class=\"node\">\n",
       "<title>H</title>\n",
       "<ellipse fill=\"none\" stroke=\"black\" cx=\"318.58\" cy=\"-157.87\" rx=\"27\" ry=\"18\"/>\n",
       "<text text-anchor=\"middle\" x=\"318.58\" y=\"-154.17\" font-family=\"Times-Roman\" font-size=\"14.00\">H</text>\n",
       "</g>\n",
       "<!-- H&#45;&gt;G -->\n",
       "<g id=\"edge7\" class=\"edge\">\n",
       "<title>H&#45;&gt;G</title>\n",
       "<path fill=\"none\" stroke=\"black\" d=\"M292.71,-163.12C285.54,-164.58 277.76,-166.15 270.59,-167.61\"/>\n",
       "</g>\n",
       "</g>\n",
       "</svg>\n"
      ],
      "text/plain": [
       "<graphviz.dot.Digraph at 0x7f5f5aff9cd0>"
      ]
     },
     "execution_count": 15,
     "metadata": {},
     "output_type": "execute_result"
    }
   ],
   "source": [
    "g2 = Graphe()\n",
    "g2.set_graphe(mat2dico(matrice_sans_cycle, sommets))\n",
    "dessiner(g2, 'neato')"
   ]
  },
  {
   "cell_type": "code",
   "execution_count": 16,
   "metadata": {},
   "outputs": [],
   "source": [
    "# on vérifie que ce nouveau graphe ne contient pas de cycle :\n",
    "assert not cycle(g2) # bien noter le NOT dans ce test !!"
   ]
  },
  {
   "cell_type": "markdown",
   "metadata": {},
   "source": [
    "*Remarque* : cet algo de détection de cycle fonctionne pour les graphes non orientés.\n",
    "\n",
    "Dans le cas d'un graphe orienté, il faut utiliser un algorithme un peu plus compliqué."
   ]
  },
  {
   "cell_type": "markdown",
   "metadata": {
    "tags": []
   },
   "source": [
    "<h3 class=\"alert alert-warning\">Complément : Parcours en profondeur en version itérative</h3>"
   ]
  },
  {
   "cell_type": "markdown",
   "metadata": {},
   "source": [
    "En complément, nous proposons de revenir sur le parcours en profondeur pour en écrire une version itérative.\n",
    "\n",
    "**Il suffit tout simplement de reprendre l'algorithme du parcours en largeur en remplaçant la file par une pile !**\n",
    "\n",
    "A vous de jouer ..."
   ]
  },
  {
   "cell_type": "code",
   "execution_count": 17,
   "metadata": {},
   "outputs": [],
   "source": [
    "def parcours_profondeur_iter(graphe, depart):\n",
    "    \"\"\" Parcourt l'arbre en profondeur (DFS) version itérative avec une pile \"\"\"\n",
    "    # A VOUS DE JOUER\n",
    "    # ...\n",
    "    decouverts = [depart]  # sommets déjà decouverts\n",
    "    pile = [depart]\n",
    "    while pile:    # tant que la pile n'est pas vide\n",
    "        sommet = pile.pop()\n",
    "        for successeur in graphe.successeurs(sommet):\n",
    "            if successeur not in decouverts:\n",
    "                pile.append(successeur)\n",
    "                decouverts.append(successeur)\n",
    "    return decouverts  "
   ]
  },
  {
   "cell_type": "code",
   "execution_count": 18,
   "metadata": {},
   "outputs": [
    {
     "name": "stdout",
     "output_type": "stream",
     "text": [
      "['A', 'B', 'D', 'C', 'E', 'F', 'G', 'H']\n",
      "['A', 'B', 'C', 'D', 'E', 'F', 'G', 'H']\n",
      "\n",
      "['B', 'A', 'C', 'D', 'E', 'F', 'G', 'H']\n",
      "['B', 'A', 'D', 'E', 'F', 'G', 'H', 'C']\n",
      "\n",
      "['C', 'A', 'B', 'D', 'E', 'F', 'G', 'H']\n",
      "['C', 'A', 'D', 'B', 'E', 'F', 'G', 'H']\n",
      "\n",
      "['D', 'B', 'A', 'C', 'E', 'F', 'G', 'H']\n",
      "['D', 'B', 'C', 'E', 'F', 'G', 'H', 'A']\n",
      "\n",
      "['E', 'B', 'A', 'C', 'D', 'F', 'G', 'H']\n",
      "['E', 'B', 'D', 'F', 'G', 'H', 'C', 'A']\n",
      "\n",
      "['F', 'E', 'B', 'A', 'C', 'D', 'G', 'H']\n",
      "['F', 'E', 'G', 'H', 'B', 'D', 'C', 'A']\n",
      "\n",
      "['G', 'E', 'B', 'A', 'C', 'D', 'F', 'H']\n",
      "['G', 'E', 'F', 'H', 'B', 'D', 'C', 'A']\n",
      "\n",
      "['H', 'G', 'E', 'B', 'A', 'C', 'D', 'F']\n",
      "['H', 'G', 'E', 'F', 'B', 'D', 'C', 'A']\n",
      "\n"
     ]
    },
    {
     "data": {
      "image/svg+xml": [
       "<?xml version=\"1.0\" encoding=\"UTF-8\" standalone=\"no\"?>\n",
       "<!DOCTYPE svg PUBLIC \"-//W3C//DTD SVG 1.1//EN\"\n",
       " \"http://www.w3.org/Graphics/SVG/1.1/DTD/svg11.dtd\">\n",
       "<!-- Generated by graphviz version 2.47.0 (20210327.0129)\n",
       " -->\n",
       "<!-- Pages: 1 -->\n",
       "<svg width=\"262pt\" height=\"289pt\"\n",
       " viewBox=\"0.00 0.00 261.69 288.94\" xmlns=\"http://www.w3.org/2000/svg\" xmlns:xlink=\"http://www.w3.org/1999/xlink\">\n",
       "<g id=\"graph0\" class=\"graph\" transform=\"scale(1 1) rotate(0) translate(4 284.94)\">\n",
       "<polygon fill=\"white\" stroke=\"transparent\" points=\"-4,4 -4,-284.94 257.69,-284.94 257.69,4 -4,4\"/>\n",
       "<!-- A -->\n",
       "<g id=\"node1\" class=\"node\">\n",
       "<title>A</title>\n",
       "<ellipse fill=\"none\" stroke=\"black\" cx=\"98.96\" cy=\"-262.94\" rx=\"27\" ry=\"18\"/>\n",
       "<text text-anchor=\"middle\" x=\"98.96\" y=\"-259.24\" font-family=\"Times-Roman\" font-size=\"14.00\">A</text>\n",
       "</g>\n",
       "<!-- B -->\n",
       "<g id=\"node2\" class=\"node\">\n",
       "<title>B</title>\n",
       "<ellipse fill=\"none\" stroke=\"black\" cx=\"127.13\" cy=\"-190.17\" rx=\"27\" ry=\"18\"/>\n",
       "<text text-anchor=\"middle\" x=\"127.13\" y=\"-186.47\" font-family=\"Times-Roman\" font-size=\"14.00\">B</text>\n",
       "</g>\n",
       "<!-- B&#45;&gt;A -->\n",
       "<g id=\"edge1\" class=\"edge\">\n",
       "<title>B&#45;&gt;A</title>\n",
       "<path fill=\"none\" stroke=\"black\" d=\"M120.31,-207.78C115.88,-219.23 110.13,-234.08 105.72,-245.49\"/>\n",
       "</g>\n",
       "<!-- C -->\n",
       "<g id=\"node3\" class=\"node\">\n",
       "<title>C</title>\n",
       "<ellipse fill=\"none\" stroke=\"black\" cx=\"27\" cy=\"-234.21\" rx=\"27\" ry=\"18\"/>\n",
       "<text text-anchor=\"middle\" x=\"27\" y=\"-230.51\" font-family=\"Times-Roman\" font-size=\"14.00\">C</text>\n",
       "</g>\n",
       "<!-- C&#45;&gt;A -->\n",
       "<g id=\"edge2\" class=\"edge\">\n",
       "<title>C&#45;&gt;A</title>\n",
       "<path fill=\"none\" stroke=\"black\" d=\"M50.17,-243.46C58.22,-246.68 67.26,-250.28 75.35,-253.51\"/>\n",
       "</g>\n",
       "<!-- D -->\n",
       "<g id=\"node4\" class=\"node\">\n",
       "<title>D</title>\n",
       "<ellipse fill=\"none\" stroke=\"black\" cx=\"56.73\" cy=\"-162.41\" rx=\"27\" ry=\"18\"/>\n",
       "<text text-anchor=\"middle\" x=\"56.73\" y=\"-158.71\" font-family=\"Times-Roman\" font-size=\"14.00\">D</text>\n",
       "</g>\n",
       "<!-- D&#45;&gt;B -->\n",
       "<g id=\"edge3\" class=\"edge\">\n",
       "<title>D&#45;&gt;B</title>\n",
       "<path fill=\"none\" stroke=\"black\" d=\"M80.17,-171.65C87.69,-174.62 96.02,-177.9 103.55,-180.87\"/>\n",
       "</g>\n",
       "<!-- D&#45;&gt;C -->\n",
       "<g id=\"edge4\" class=\"edge\">\n",
       "<title>D&#45;&gt;C</title>\n",
       "<path fill=\"none\" stroke=\"black\" d=\"M49.53,-179.79C44.89,-191 38.88,-205.52 34.23,-216.74\"/>\n",
       "</g>\n",
       "<!-- E -->\n",
       "<g id=\"node5\" class=\"node\">\n",
       "<title>E</title>\n",
       "<ellipse fill=\"none\" stroke=\"black\" cx=\"115.14\" cy=\"-116.06\" rx=\"27\" ry=\"18\"/>\n",
       "<text text-anchor=\"middle\" x=\"115.14\" y=\"-112.36\" font-family=\"Times-Roman\" font-size=\"14.00\">E</text>\n",
       "</g>\n",
       "<!-- E&#45;&gt;B -->\n",
       "<g id=\"edge5\" class=\"edge\">\n",
       "<title>E&#45;&gt;B</title>\n",
       "<path fill=\"none\" stroke=\"black\" d=\"M118.04,-134C119.91,-145.56 122.33,-160.55 124.21,-172.14\"/>\n",
       "</g>\n",
       "<!-- E&#45;&gt;D -->\n",
       "<g id=\"edge6\" class=\"edge\">\n",
       "<title>E&#45;&gt;D</title>\n",
       "<path fill=\"none\" stroke=\"black\" d=\"M97.61,-129.96C90.22,-135.83 81.63,-142.64 74.24,-148.51\"/>\n",
       "</g>\n",
       "<!-- F -->\n",
       "<g id=\"node6\" class=\"node\">\n",
       "<title>F</title>\n",
       "<ellipse fill=\"none\" stroke=\"black\" cx=\"95.88\" cy=\"-43.13\" rx=\"27\" ry=\"18\"/>\n",
       "<text text-anchor=\"middle\" x=\"95.88\" y=\"-39.43\" font-family=\"Times-Roman\" font-size=\"14.00\">F</text>\n",
       "</g>\n",
       "<!-- F&#45;&gt;E -->\n",
       "<g id=\"edge7\" class=\"edge\">\n",
       "<title>F&#45;&gt;E</title>\n",
       "<path fill=\"none\" stroke=\"black\" d=\"M100.64,-61.16C103.62,-72.46 107.46,-86.97 110.43,-98.24\"/>\n",
       "</g>\n",
       "<!-- G -->\n",
       "<g id=\"node7\" class=\"node\">\n",
       "<title>G</title>\n",
       "<ellipse fill=\"none\" stroke=\"black\" cx=\"165.27\" cy=\"-60.25\" rx=\"27\" ry=\"18\"/>\n",
       "<text text-anchor=\"middle\" x=\"165.27\" y=\"-56.55\" font-family=\"Times-Roman\" font-size=\"14.00\">G</text>\n",
       "</g>\n",
       "<!-- G&#45;&gt;E -->\n",
       "<g id=\"edge8\" class=\"edge\">\n",
       "<title>G&#45;&gt;E</title>\n",
       "<path fill=\"none\" stroke=\"black\" d=\"M151.3,-75.79C144.35,-83.54 135.97,-92.87 129.03,-100.59\"/>\n",
       "</g>\n",
       "<!-- G&#45;&gt;F -->\n",
       "<g id=\"edge9\" class=\"edge\">\n",
       "<title>G&#45;&gt;F</title>\n",
       "<path fill=\"none\" stroke=\"black\" d=\"M139.82,-53.97C133.79,-52.49 127.35,-50.9 121.32,-49.41\"/>\n",
       "</g>\n",
       "<!-- H -->\n",
       "<g id=\"node8\" class=\"node\">\n",
       "<title>H</title>\n",
       "<ellipse fill=\"none\" stroke=\"black\" cx=\"226.69\" cy=\"-18\" rx=\"27\" ry=\"18\"/>\n",
       "<text text-anchor=\"middle\" x=\"226.69\" y=\"-14.3\" font-family=\"Times-Roman\" font-size=\"14.00\">H</text>\n",
       "</g>\n",
       "<!-- H&#45;&gt;G -->\n",
       "<g id=\"edge10\" class=\"edge\">\n",
       "<title>H&#45;&gt;G</title>\n",
       "<path fill=\"none\" stroke=\"black\" d=\"M207.59,-31.14C200.13,-36.27 191.59,-42.15 184.14,-47.27\"/>\n",
       "</g>\n",
       "</g>\n",
       "</svg>\n"
      ],
      "text/plain": [
       "<graphviz.dot.Digraph at 0x7f5f5af9c550>"
      ]
     },
     "execution_count": 18,
     "metadata": {},
     "output_type": "execute_result"
    }
   ],
   "source": [
    "# Test \n",
    "# On pourra chercher à expliquer pourquoi les parcours en profondeur itératif ou récursif \n",
    "# présentent des différences.\n",
    "# Rassurons-nous toutefois, les 2 versions parcourent l'intégralité des sommets du graphe.\n",
    "for s in g1.sommets():\n",
    "    print(parcours_profondeur(g1, s))\n",
    "    print(parcours_profondeur_iter(g1, s))\n",
    "    print()\n",
    "    \n",
    "dessiner(g1, 'neato')"
   ]
  },
  {
   "cell_type": "markdown",
   "metadata": {
    "tags": []
   },
   "source": [
    "<h2 class=\"alert alert-info\">5. Chemins entre deux sommets</h2>"
   ]
  },
  {
   "cell_type": "markdown",
   "metadata": {},
   "source": [
    "Pour finir, on veut écrire une fonction qui trouve un chemin entre deux sommets (si possible...).\n",
    "\n",
    "On décide pour cela d'écrire une fonction qui parcourt le graphe à partir d'un sommet (parcours en largeur par exemple), et qui relève au cours du parcours l'ensemble des chemins suivis depuis ce sommet initial. Ces chemins sont stockés dans un dictionnaire, dont les clefs sont les sommets atteints et les valeurs les listes des sommets à parcourir depuis le départ.\n",
    "\n",
    "**Compléter seulement la ligne manquante de la fonction ci-dessous :**"
   ]
  },
  {
   "cell_type": "code",
   "execution_count": 19,
   "metadata": {},
   "outputs": [],
   "source": [
    "def chemins(graphe, depart):\n",
    "    \"\"\" Repose sur un parcourt l'arbre en largeur (BFS) \"\"\"\n",
    "    decouverts = [depart]  # sommets déjà decouverts\n",
    "    file = [depart]\n",
    "    trajets = {depart:[depart]}\n",
    "    while file:    # tant que la file n'est pas vide\n",
    "        sommet = file.pop(0)\n",
    "        for successeur in graphe.successeurs(sommet):\n",
    "            if successeur not in decouverts:\n",
    "                file.append(successeur)\n",
    "                decouverts.append(successeur)\n",
    "                ### COMPLETER LA LIGNE SUIVANTE :\n",
    "                # trajets[successeur] = ...\n",
    "                trajets[successeur] = trajets[sommet] + [successeur]\n",
    "    return trajets  "
   ]
  },
  {
   "cell_type": "markdown",
   "metadata": {
    "tags": []
   },
   "source": [
    "<h3 class=\"alert alert-warning\">Test</h3>"
   ]
  },
  {
   "cell_type": "markdown",
   "metadata": {},
   "source": [
    "Pour rendre l'utilisation de cette fonction plus intéressante, nous avons légèrement modifié le graphe du cours en orientant quelques arêtes pour rendre une partie du graphe inaccessible dans un sens :"
   ]
  },
  {
   "cell_type": "code",
   "execution_count": 20,
   "metadata": {},
   "outputs": [
    {
     "data": {
      "image/svg+xml": [
       "<?xml version=\"1.0\" encoding=\"UTF-8\" standalone=\"no\"?>\n",
       "<!DOCTYPE svg PUBLIC \"-//W3C//DTD SVG 1.1//EN\"\n",
       " \"http://www.w3.org/Graphics/SVG/1.1/DTD/svg11.dtd\">\n",
       "<!-- Generated by graphviz version 2.47.0 (20210327.0129)\n",
       " -->\n",
       "<!-- Pages: 1 -->\n",
       "<svg width=\"262pt\" height=\"289pt\"\n",
       " viewBox=\"0.00 0.00 261.69 288.94\" xmlns=\"http://www.w3.org/2000/svg\" xmlns:xlink=\"http://www.w3.org/1999/xlink\">\n",
       "<g id=\"graph0\" class=\"graph\" transform=\"scale(1 1) rotate(0) translate(4 284.94)\">\n",
       "<polygon fill=\"white\" stroke=\"transparent\" points=\"-4,4 -4,-284.94 257.69,-284.94 257.69,4 -4,4\"/>\n",
       "<!-- A -->\n",
       "<g id=\"node1\" class=\"node\">\n",
       "<title>A</title>\n",
       "<ellipse fill=\"none\" stroke=\"black\" cx=\"98.96\" cy=\"-262.94\" rx=\"27\" ry=\"18\"/>\n",
       "<text text-anchor=\"middle\" x=\"98.96\" y=\"-259.24\" font-family=\"Times-Roman\" font-size=\"14.00\">A</text>\n",
       "</g>\n",
       "<!-- B -->\n",
       "<g id=\"node2\" class=\"node\">\n",
       "<title>B</title>\n",
       "<ellipse fill=\"none\" stroke=\"black\" cx=\"127.13\" cy=\"-190.17\" rx=\"27\" ry=\"18\"/>\n",
       "<text text-anchor=\"middle\" x=\"127.13\" y=\"-186.47\" font-family=\"Times-Roman\" font-size=\"14.00\">B</text>\n",
       "</g>\n",
       "<!-- B&#45;&gt;A -->\n",
       "<g id=\"edge1\" class=\"edge\">\n",
       "<title>B&#45;&gt;A</title>\n",
       "<path fill=\"none\" stroke=\"black\" d=\"M120.31,-207.78C115.88,-219.23 110.13,-234.08 105.72,-245.49\"/>\n",
       "</g>\n",
       "<!-- C -->\n",
       "<g id=\"node3\" class=\"node\">\n",
       "<title>C</title>\n",
       "<ellipse fill=\"none\" stroke=\"black\" cx=\"27\" cy=\"-234.21\" rx=\"27\" ry=\"18\"/>\n",
       "<text text-anchor=\"middle\" x=\"27\" y=\"-230.51\" font-family=\"Times-Roman\" font-size=\"14.00\">C</text>\n",
       "</g>\n",
       "<!-- C&#45;&gt;A -->\n",
       "<g id=\"edge2\" class=\"edge\">\n",
       "<title>C&#45;&gt;A</title>\n",
       "<path fill=\"none\" stroke=\"black\" d=\"M50.17,-243.46C58.22,-246.68 67.26,-250.28 75.35,-253.51\"/>\n",
       "</g>\n",
       "<!-- D -->\n",
       "<g id=\"node4\" class=\"node\">\n",
       "<title>D</title>\n",
       "<ellipse fill=\"none\" stroke=\"black\" cx=\"56.73\" cy=\"-162.41\" rx=\"27\" ry=\"18\"/>\n",
       "<text text-anchor=\"middle\" x=\"56.73\" y=\"-158.71\" font-family=\"Times-Roman\" font-size=\"14.00\">D</text>\n",
       "</g>\n",
       "<!-- D&#45;&gt;B -->\n",
       "<g id=\"edge3\" class=\"edge\">\n",
       "<title>D&#45;&gt;B</title>\n",
       "<path fill=\"none\" stroke=\"black\" d=\"M80.17,-171.65C87.69,-174.62 96.02,-177.9 103.55,-180.87\"/>\n",
       "</g>\n",
       "<!-- D&#45;&gt;C -->\n",
       "<g id=\"edge4\" class=\"edge\">\n",
       "<title>D&#45;&gt;C</title>\n",
       "<path fill=\"none\" stroke=\"black\" d=\"M49.53,-179.79C44.89,-191 38.88,-205.52 34.23,-216.74\"/>\n",
       "</g>\n",
       "<!-- E -->\n",
       "<g id=\"node5\" class=\"node\">\n",
       "<title>E</title>\n",
       "<ellipse fill=\"none\" stroke=\"black\" cx=\"115.14\" cy=\"-116.06\" rx=\"27\" ry=\"18\"/>\n",
       "<text text-anchor=\"middle\" x=\"115.14\" y=\"-112.36\" font-family=\"Times-Roman\" font-size=\"14.00\">E</text>\n",
       "</g>\n",
       "<!-- E&#45;&gt;B -->\n",
       "<g id=\"edge5\" class=\"edge\">\n",
       "<title>E&#45;&gt;B</title>\n",
       "<path fill=\"none\" stroke=\"black\" d=\"M118.04,-134C119.91,-145.56 122.33,-160.55 124.21,-172.14\"/>\n",
       "</g>\n",
       "<!-- E&#45;&gt;D -->\n",
       "<g id=\"edge6\" class=\"edge\">\n",
       "<title>E&#45;&gt;D</title>\n",
       "<path fill=\"none\" stroke=\"black\" d=\"M97.61,-129.96C90.22,-135.83 81.63,-142.64 74.24,-148.51\"/>\n",
       "</g>\n",
       "<!-- F -->\n",
       "<g id=\"node6\" class=\"node\">\n",
       "<title>F</title>\n",
       "<ellipse fill=\"none\" stroke=\"black\" cx=\"95.88\" cy=\"-43.13\" rx=\"27\" ry=\"18\"/>\n",
       "<text text-anchor=\"middle\" x=\"95.88\" y=\"-39.43\" font-family=\"Times-Roman\" font-size=\"14.00\">F</text>\n",
       "</g>\n",
       "<!-- F&#45;&gt;E -->\n",
       "<g id=\"edge7\" class=\"edge\">\n",
       "<title>F&#45;&gt;E</title>\n",
       "<path fill=\"none\" stroke=\"black\" d=\"M100.64,-61.16C102.81,-69.37 105.42,-79.28 107.83,-88.4\"/>\n",
       "<polygon fill=\"black\" stroke=\"black\" points=\"104.49,-89.46 110.43,-98.24 111.26,-87.68 104.49,-89.46\"/>\n",
       "</g>\n",
       "<!-- G -->\n",
       "<g id=\"node7\" class=\"node\">\n",
       "<title>G</title>\n",
       "<ellipse fill=\"none\" stroke=\"black\" cx=\"165.27\" cy=\"-60.25\" rx=\"27\" ry=\"18\"/>\n",
       "<text text-anchor=\"middle\" x=\"165.27\" y=\"-56.55\" font-family=\"Times-Roman\" font-size=\"14.00\">G</text>\n",
       "</g>\n",
       "<!-- G&#45;&gt;E -->\n",
       "<g id=\"edge8\" class=\"edge\">\n",
       "<title>G&#45;&gt;E</title>\n",
       "<path fill=\"none\" stroke=\"black\" d=\"M151.3,-75.79C146.52,-81.12 141.07,-87.19 135.87,-92.98\"/>\n",
       "<polygon fill=\"black\" stroke=\"black\" points=\"133.11,-90.82 129.03,-100.59 138.31,-95.49 133.11,-90.82\"/>\n",
       "</g>\n",
       "<!-- G&#45;&gt;F -->\n",
       "<g id=\"edge9\" class=\"edge\">\n",
       "<title>G&#45;&gt;F</title>\n",
       "<path fill=\"none\" stroke=\"black\" d=\"M139.82,-53.97C133.79,-52.49 127.35,-50.9 121.32,-49.41\"/>\n",
       "</g>\n",
       "<!-- H -->\n",
       "<g id=\"node8\" class=\"node\">\n",
       "<title>H</title>\n",
       "<ellipse fill=\"none\" stroke=\"black\" cx=\"226.69\" cy=\"-18\" rx=\"27\" ry=\"18\"/>\n",
       "<text text-anchor=\"middle\" x=\"226.69\" y=\"-14.3\" font-family=\"Times-Roman\" font-size=\"14.00\">H</text>\n",
       "</g>\n",
       "<!-- H&#45;&gt;G -->\n",
       "<g id=\"edge10\" class=\"edge\">\n",
       "<title>H&#45;&gt;G</title>\n",
       "<path fill=\"none\" stroke=\"black\" d=\"M207.59,-31.14C200.13,-36.27 191.59,-42.15 184.14,-47.27\"/>\n",
       "</g>\n",
       "</g>\n",
       "</svg>\n"
      ],
      "text/plain": [
       "<graphviz.dot.Digraph at 0x7f5f5afa89d0>"
      ]
     },
     "execution_count": 20,
     "metadata": {},
     "output_type": "execute_result"
    }
   ],
   "source": [
    "matrice_orientee = [[0,1,1,0,0,0,0,0],\n",
    "          [1,0,0,1,1,0,0,0],\n",
    "          [1,0,0,1,0,0,0,0],\n",
    "          [0,1,1,0,1,0,0,0],\n",
    "          [0,1,0,1,0,0,0,0],\n",
    "          [0,0,0,0,1,0,1,0],\n",
    "          [0,0,0,0,1,1,0,1],\n",
    "          [0,0,0,0,0,0,1,0]]\n",
    "\n",
    "sommets = 'ABCDEFGH'\n",
    "g3 = Graphe()\n",
    "g3.set_graphe(mat2dico(matrice_orientee, sommets))\n",
    "dessiner(g3, 'neato')"
   ]
  },
  {
   "cell_type": "code",
   "execution_count": 21,
   "metadata": {},
   "outputs": [
    {
     "name": "stdout",
     "output_type": "stream",
     "text": [
      "Sommets accessibles depuis H : \n",
      "Chemin vers sommet A : ['H', 'G', 'E', 'B', 'A']\n",
      "Chemin vers sommet B : ['H', 'G', 'E', 'B']\n",
      "Chemin vers sommet C : ['H', 'G', 'E', 'D', 'C']\n",
      "Chemin vers sommet D : ['H', 'G', 'E', 'D']\n",
      "Chemin vers sommet E : ['H', 'G', 'E']\n",
      "Chemin vers sommet F : ['H', 'G', 'F']\n",
      "Chemin vers sommet G : ['H', 'G']\n",
      "Chemin vers sommet H : ['H']\n",
      "\n",
      "Sommets accessibles depuis A : \n",
      "Chemin vers sommet A : ['A']\n",
      "Chemin vers sommet B : ['A', 'B']\n",
      "Chemin vers sommet C : ['A', 'C']\n",
      "Chemin vers sommet D : ['A', 'B', 'D']\n",
      "Chemin vers sommet E : ['A', 'B', 'E']\n",
      "\n",
      "Sommets accessibles depuis G : \n",
      "Chemin vers sommet A : ['G', 'E', 'B', 'A']\n",
      "Chemin vers sommet B : ['G', 'E', 'B']\n",
      "Chemin vers sommet C : ['G', 'E', 'D', 'C']\n",
      "Chemin vers sommet D : ['G', 'E', 'D']\n",
      "Chemin vers sommet E : ['G', 'E']\n",
      "Chemin vers sommet F : ['G', 'F']\n",
      "Chemin vers sommet G : ['G']\n",
      "Chemin vers sommet H : ['G', 'H']\n"
     ]
    }
   ],
   "source": [
    "print(\"Sommets accessibles depuis H : \")\n",
    "trajets = chemins(g3, \"H\")\n",
    "for sommet in g3.sommets():\n",
    "    if sommet in trajets:\n",
    "        print(f\"Chemin vers sommet {sommet} : {trajets[sommet]}\")\n",
    "    \n",
    "print(\"\\nSommets accessibles depuis A : \")\n",
    "trajets = chemins(g3, \"A\")\n",
    "for sommet in g3.sommets():\n",
    "    if sommet in trajets:\n",
    "        print(f\"Chemin vers sommet {sommet} : {trajets[sommet]}\")\n",
    "          \n",
    "print(\"\\nSommets accessibles depuis G : \")\n",
    "trajets = chemins(g3, \"G\")\n",
    "for sommet in g3.sommets():\n",
    "    if sommet in trajets:\n",
    "        print(f\"Chemin vers sommet {sommet} : {trajets[sommet]}\")"
   ]
  },
  {
   "cell_type": "markdown",
   "metadata": {
    "tags": []
   },
   "source": [
    "<h3 class=\"alert alert-warning\">Fonction existe_chemin</h3>"
   ]
  },
  {
   "cell_type": "markdown",
   "metadata": {},
   "source": [
    "Connaissant l'ensemble des chemins vers tous les sommets accessibles, il est maintenant aisé d'écrire la fonction `existe_chemin(graphe, depart, arrivee)` qui renvoie True si un chemin entre le départ et l'arrivée existe (False dans le cas contraire). \n",
    "\n",
    "Au passage, on peut faire en sorte que cette fonction affiche un chemin, mais cela a peu d'intérêt car ce chemin n'a a priori rien de particulier : il n'est pas forcément le plus court par exemple."
   ]
  },
  {
   "cell_type": "code",
   "execution_count": 22,
   "metadata": {},
   "outputs": [],
   "source": [
    "def existe_chemin(graphe, depart, arrivee):\n",
    "    \"\"\" Renvoie True si un chemin est possible entre depart et arrivee \"\"\"\n",
    "    # à vous de joeur\n",
    "    # ...\n",
    "    trajets = chemins(graphe, depart)\n",
    "    if arrivee in trajets.keys():\n",
    "        print(trajets[arrivee]) # facultatif\n",
    "        return True\n",
    "    else:\n",
    "        return False"
   ]
  },
  {
   "cell_type": "code",
   "execution_count": 23,
   "metadata": {},
   "outputs": [
    {
     "name": "stdout",
     "output_type": "stream",
     "text": [
      "['A', 'B', 'E']\n",
      "True\n",
      "['E', 'B', 'A']\n",
      "True\n",
      "['H', 'G', 'E', 'B', 'A']\n",
      "True\n",
      "False\n"
     ]
    }
   ],
   "source": [
    "print(existe_chemin(g3, \"A\", \"E\"))\n",
    "print(existe_chemin(g3, \"E\", \"A\"))\n",
    "print(existe_chemin(g3, \"H\", \"A\"))\n",
    "print(existe_chemin(g3, \"A\", \"H\"))"
   ]
  },
  {
   "cell_type": "markdown",
   "metadata": {},
   "source": [
    "**Remarque :** On s'est contenté ici de chercher l'existence d'UN chemin quelconque, mais pas le plus court chemin... Un algorithme développé par E. Dijkstra en 1959 permet de trouver le plus court chemin entre deux sommets d'un graphe. Il est utilisé quotidiennement dans vos applications de trajets GPS."
   ]
  },
  {
   "cell_type": "markdown",
   "metadata": {
    "tags": []
   },
   "source": [
    "<h2 class=\"alert alert-info\">6. Ajout des fonctions à la classe Graphe</h2>"
   ]
  },
  {
   "cell_type": "markdown",
   "metadata": {},
   "source": [
    "## Dernière étape :\n",
    "Réécrire la classe Graphe en implémentant les fonctions que nous venons de voir sous formes de nouvelles méthodes pour :\n",
    "- faire un parcours en largeur (avec file) : renvoie la liste des sommets parcourus.\n",
    "- faire un parcours en pronfondeur (récursif) : renvoie la liste des sommets parcourus.\n",
    "- détecter la présence d'un cycle : renvoie un booléen.\n",
    "- détecter la possibilité d'un chemin entre un sommet1 et un sommet2 : renvoie un booléen.\n",
    "\n",
    "Puis sauvegarder cette classe dans un fichier classe_graphe.py (pour une exploitation possible ultérieure)"
   ]
  },
  {
   "cell_type": "code",
   "execution_count": 24,
   "metadata": {},
   "outputs": [],
   "source": [
    "class Graphe():  # graphe représenté par un Dictionaire d'Adjacence\n",
    "    \"\"\" Graphe implémenté à l'aide d'un dictionnaire d'adjacence.\n",
    "    Exemple : \n",
    "    self.dico = {'sommet_x': {'sommet_y' : poids_xy, 'sommet_z' : poids_xz},  etc...}\n",
    "    Chaque sommet est identifié par son étiquette (qui doit être unique !).\n",
    "    \"\"\"\n",
    "    def __init__(self):\n",
    "        \"\"\" Initialisation avec un graphe vide. \"\"\"\n",
    "        self.dico = dict()\n",
    "    \n",
    "    def ajouter_sommet(self, sommet):\n",
    "        \"\"\" Ajoute un nouveau sommet au graphe. \"\"\"\n",
    "        if not sommet in self.dico:\n",
    "            self.dico[sommet] = dict()\n",
    "    \n",
    "    def ajouter_arete(self, sommet1, sommet2, poids=1):\n",
    "        \"\"\" Ajoute une arête au graphe de sommet1 vers sommet2.\n",
    "        Si poids n'est pas renseigné, il prendra la valeur 1 par défaut. \"\"\"\n",
    "        # Si les sommets n'existent pas, on les crée avant l'arête :\n",
    "        self.ajouter_sommet(sommet1)\n",
    "        self.ajouter_sommet(sommet2)\n",
    "            # On crée la connexion sommet1 -> sommet2 (arc orienté par défaut)\n",
    "        self.dico[sommet1][sommet2] = poids\n",
    "    \n",
    "    def sommets(self):\n",
    "        \"\"\" Renvoie la liste des sommets triée par étiquette. \"\"\"\n",
    "        return sorted(list(self.dico.keys()))\n",
    "    \n",
    "    def successeurs(self, sommet):\n",
    "        \"\"\" Renvoie la liste des successeurs de sommet, triée par étiquette. \"\"\"\n",
    "        return sorted(list(self.dico[sommet].keys()))\n",
    "    \n",
    "    def poids(self, sommet1, sommet2):\n",
    "        \"\"\" Renvoie le poids de l'arête sommet1->sommet2 ou 0 si pas d'arête. \"\"\"\n",
    "        if sommet2 not in self.dico[sommet1]:\n",
    "            return 0\n",
    "        else:\n",
    "            return self.dico[sommet1][sommet2]\n",
    "            \n",
    "    def get_graphe(self):\n",
    "        \"\"\" Renvoie le dictionnaire d'adjacence représentant le graphe. \"\"\"\n",
    "        return self.dico\n",
    "    def set_graphe(self, dico):\n",
    "        \"\"\" Définit le dictionnaire d'adjacence représentant le graphe. \"\"\"\n",
    "        self.dico = dico\n",
    "    \n",
    "    def parcours_profondeur(self, depart):\n",
    "        \"\"\" Parcourt l'arbre en profondeur (DFS) \"\"\"\n",
    "        def dfs(sommet):\n",
    "            traités.append(sommet)\n",
    "            for successeur in self.successeurs(sommet):\n",
    "                if successeur not in traités:\n",
    "                    dfs(successeur)\n",
    "        traités = []  # sommets déjà traités\n",
    "        dfs(depart)\n",
    "        return traités\n",
    "\n",
    "    def parcours_largeur(self, depart):\n",
    "        \"\"\" Parcourt l'arbre en largeur (BFS) \"\"\"\n",
    "        decouverts = [depart]  # sommets déjà decouverts\n",
    "        file = [depart]\n",
    "        while file:    # tant que la file n'est pas vide\n",
    "            sommet = file.pop(0)\n",
    "            for successeur in self.successeurs(sommet):\n",
    "                if successeur not in decouverts:\n",
    "                    file.append(successeur)\n",
    "                    decouverts.append(successeur)\n",
    "        return decouverts \n",
    "    \n",
    "    def cycle(self):\n",
    "        \"\"\" Renvoie True (resp. False) si le graphe contient (resp. ne contient pas) un cycle :\n",
    "        Parcourt le graphe en largeur depuis un sommet quelconque et cherche si on retombe sur le sommet de départ \"\"\"\n",
    "        depart = choice(self.sommets())\n",
    "        traités = []\n",
    "        file = [depart]\n",
    "        while file:    # tant que la file n'est pas vide\n",
    "            sommet = file.pop(0)\n",
    "            if sommet in traités:\n",
    "                return True # on peut quitter la fonction : cycle trouvé !\n",
    "            else:\n",
    "                traités.append(sommet)\n",
    "                for successeur in self.successeurs(sommet):\n",
    "                    if successeur not in traités:\n",
    "                        file.append(successeur)\n",
    "        return False  # aucun cycle n'a été détecté\n",
    "    \n",
    "    def existe_chemin(self, depart, arrivee):\n",
    "        \"\"\" Renvoie True si un chemin existe entre depart et arrivee,\n",
    "        et donne un exemple de chemin possible (pas forcémetn unique) \"\"\"\n",
    "        def chemins(graphe, depart):\n",
    "            \"\"\" Repose sur un parcourt l'arbre en largeur (BFS) \"\"\"\n",
    "            decouverts = [depart]  # sommets déjà visités\n",
    "            file = [depart]\n",
    "            trajets = {depart:[depart]}\n",
    "            while file:    # tant que la pile n'est pas vide\n",
    "                sommet = file.pop(0)\n",
    "                for successeur in graphe.successeurs(sommet):\n",
    "                    if successeur not in decouverts:\n",
    "                        file.append(successeur)\n",
    "                        decouverts.append(successeur)\n",
    "                        trajets[successeur] = trajets[sommet] + [successeur]\n",
    "            return trajets\n",
    "        \n",
    "        trajets = chemins(self, depart)\n",
    "        if arrivee in trajets.keys():\n",
    "            #print(trajets[arrivee]) # facultatif évidemment\n",
    "            return True\n",
    "        else:\n",
    "            return False"
   ]
  },
  {
   "cell_type": "markdown",
   "metadata": {},
   "source": [
    "On définit pour finir un graphe orienté, non connexe (càd que tous les sommets ne sont pas reliés entre eux)."
   ]
  },
  {
   "cell_type": "code",
   "execution_count": 25,
   "metadata": {},
   "outputs": [
    {
     "data": {
      "image/svg+xml": [
       "<?xml version=\"1.0\" encoding=\"UTF-8\" standalone=\"no\"?>\n",
       "<!DOCTYPE svg PUBLIC \"-//W3C//DTD SVG 1.1//EN\"\n",
       " \"http://www.w3.org/Graphics/SVG/1.1/DTD/svg11.dtd\">\n",
       "<!-- Generated by graphviz version 2.47.0 (20210327.0129)\n",
       " -->\n",
       "<!-- Pages: 1 -->\n",
       "<svg width=\"323pt\" height=\"219pt\"\n",
       " viewBox=\"0.00 0.00 323.21 218.53\" xmlns=\"http://www.w3.org/2000/svg\" xmlns:xlink=\"http://www.w3.org/1999/xlink\">\n",
       "<g id=\"graph0\" class=\"graph\" transform=\"scale(1 1) rotate(0) translate(4 214.53)\">\n",
       "<polygon fill=\"white\" stroke=\"transparent\" points=\"-4,4 -4,-214.53 319.21,-214.53 319.21,4 -4,4\"/>\n",
       "<!-- A -->\n",
       "<g id=\"node1\" class=\"node\">\n",
       "<title>A</title>\n",
       "<ellipse fill=\"none\" stroke=\"black\" cx=\"27\" cy=\"-18\" rx=\"27\" ry=\"18\"/>\n",
       "<text text-anchor=\"middle\" x=\"27\" y=\"-14.3\" font-family=\"Times-Roman\" font-size=\"14.00\">A</text>\n",
       "</g>\n",
       "<!-- B -->\n",
       "<g id=\"node2\" class=\"node\">\n",
       "<title>B</title>\n",
       "<ellipse fill=\"none\" stroke=\"black\" cx=\"88.72\" cy=\"-59.41\" rx=\"27\" ry=\"18\"/>\n",
       "<text text-anchor=\"middle\" x=\"88.72\" y=\"-55.71\" font-family=\"Times-Roman\" font-size=\"14.00\">B</text>\n",
       "</g>\n",
       "<!-- B&#45;&gt;A -->\n",
       "<g id=\"edge1\" class=\"edge\">\n",
       "<title>B&#45;&gt;A</title>\n",
       "<path fill=\"none\" stroke=\"black\" d=\"M69.53,-46.53C62.17,-41.6 53.77,-35.96 46.39,-31.01\"/>\n",
       "</g>\n",
       "<!-- C -->\n",
       "<g id=\"node3\" class=\"node\">\n",
       "<title>C</title>\n",
       "<ellipse fill=\"none\" stroke=\"black\" cx=\"217\" cy=\"-104.64\" rx=\"27\" ry=\"18\"/>\n",
       "<text text-anchor=\"middle\" x=\"217\" y=\"-100.94\" font-family=\"Times-Roman\" font-size=\"14.00\">C</text>\n",
       "</g>\n",
       "<!-- D -->\n",
       "<g id=\"node4\" class=\"node\">\n",
       "<title>D</title>\n",
       "<ellipse fill=\"none\" stroke=\"black\" cx=\"159.77\" cy=\"-49.14\" rx=\"27\" ry=\"18\"/>\n",
       "<text text-anchor=\"middle\" x=\"159.77\" y=\"-45.44\" font-family=\"Times-Roman\" font-size=\"14.00\">D</text>\n",
       "</g>\n",
       "<!-- D&#45;&gt;B -->\n",
       "<g id=\"edge2\" class=\"edge\">\n",
       "<title>D&#45;&gt;B</title>\n",
       "<path fill=\"none\" stroke=\"black\" d=\"M133.31,-52.96C127.47,-53.81 121.28,-54.7 115.44,-55.55\"/>\n",
       "</g>\n",
       "<!-- E -->\n",
       "<g id=\"node5\" class=\"node\">\n",
       "<title>E</title>\n",
       "<ellipse fill=\"none\" stroke=\"black\" cx=\"133.73\" cy=\"-119.06\" rx=\"27\" ry=\"18\"/>\n",
       "<text text-anchor=\"middle\" x=\"133.73\" y=\"-115.36\" font-family=\"Times-Roman\" font-size=\"14.00\">E</text>\n",
       "</g>\n",
       "<!-- E&#45;&gt;B -->\n",
       "<g id=\"edge3\" class=\"edge\">\n",
       "<title>E&#45;&gt;B</title>\n",
       "<path fill=\"none\" stroke=\"black\" d=\"M121.43,-102.76C115.08,-94.34 107.35,-84.1 101,-75.69\"/>\n",
       "</g>\n",
       "<!-- E&#45;&gt;D -->\n",
       "<g id=\"edge4\" class=\"edge\">\n",
       "<title>E&#45;&gt;D</title>\n",
       "<path fill=\"none\" stroke=\"black\" d=\"M140.3,-101.41C144.22,-90.89 149.18,-77.58 153.11,-67.02\"/>\n",
       "</g>\n",
       "<!-- F -->\n",
       "<g id=\"node6\" class=\"node\">\n",
       "<title>F</title>\n",
       "<ellipse fill=\"none\" stroke=\"black\" cx=\"184.62\" cy=\"-173.84\" rx=\"27\" ry=\"18\"/>\n",
       "<text text-anchor=\"middle\" x=\"184.62\" y=\"-170.14\" font-family=\"Times-Roman\" font-size=\"14.00\">F</text>\n",
       "</g>\n",
       "<!-- F&#45;&gt;E -->\n",
       "<g id=\"edge5\" class=\"edge\">\n",
       "<title>F&#45;&gt;E</title>\n",
       "<path fill=\"none\" stroke=\"black\" d=\"M170.18,-158.29C165.52,-153.27 160.25,-147.6 155.19,-142.16\"/>\n",
       "<polygon fill=\"black\" stroke=\"black\" points=\"157.41,-139.4 148.04,-134.46 152.28,-144.17 157.41,-139.4\"/>\n",
       "</g>\n",
       "<!-- G -->\n",
       "<g id=\"node7\" class=\"node\">\n",
       "<title>G</title>\n",
       "<ellipse fill=\"none\" stroke=\"black\" cx=\"117.67\" cy=\"-192.53\" rx=\"27\" ry=\"18\"/>\n",
       "<text text-anchor=\"middle\" x=\"117.67\" y=\"-188.83\" font-family=\"Times-Roman\" font-size=\"14.00\">G</text>\n",
       "</g>\n",
       "<!-- G&#45;&gt;E -->\n",
       "<g id=\"edge6\" class=\"edge\">\n",
       "<title>G&#45;&gt;E</title>\n",
       "<path fill=\"none\" stroke=\"black\" d=\"M121.64,-174.37C123.45,-166.09 125.63,-156.11 127.64,-146.92\"/>\n",
       "<polygon fill=\"black\" stroke=\"black\" points=\"131.09,-147.53 129.81,-137.01 124.26,-146.03 131.09,-147.53\"/>\n",
       "</g>\n",
       "<!-- G&#45;&gt;F -->\n",
       "<g id=\"edge7\" class=\"edge\">\n",
       "<title>G&#45;&gt;F</title>\n",
       "<path fill=\"none\" stroke=\"black\" d=\"M142.6,-185.57C148.1,-184.03 153.94,-182.41 159.45,-180.87\"/>\n",
       "</g>\n",
       "<!-- H -->\n",
       "<g id=\"node8\" class=\"node\">\n",
       "<title>H</title>\n",
       "<ellipse fill=\"none\" stroke=\"black\" cx=\"288.21\" cy=\"-94\" rx=\"27\" ry=\"18\"/>\n",
       "<text text-anchor=\"middle\" x=\"288.21\" y=\"-90.3\" font-family=\"Times-Roman\" font-size=\"14.00\">H</text>\n",
       "</g>\n",
       "<!-- H&#45;&gt;C -->\n",
       "<g id=\"edge8\" class=\"edge\">\n",
       "<title>H&#45;&gt;C</title>\n",
       "<path fill=\"none\" stroke=\"black\" d=\"M261.69,-97.96C259.13,-98.34 256.51,-98.74 253.87,-99.13\"/>\n",
       "<polygon fill=\"black\" stroke=\"black\" points=\"253.15,-95.7 243.78,-100.64 254.18,-102.62 253.15,-95.7\"/>\n",
       "</g>\n",
       "</g>\n",
       "</svg>\n"
      ],
      "text/plain": [
       "<graphviz.dot.Digraph at 0x7f5f5aff9190>"
      ]
     },
     "execution_count": 25,
     "metadata": {},
     "output_type": "execute_result"
    }
   ],
   "source": [
    "matrice_non_connexe = [[0,1,0,0,0,0,0,0],\n",
    "          [1,0,0,1,1,0,0,0],\n",
    "          [0,0,0,0,0,0,0,0],\n",
    "          [0,1,0,0,1,0,0,0],\n",
    "          [0,1,0,1,0,0,0,0],\n",
    "          [0,0,0,0,1,0,1,0],\n",
    "          [0,0,0,0,1,1,0,0],\n",
    "          [0,0,1,0,0,0,0,0]]\n",
    "\n",
    "sommets = 'ABCDEFGH'\n",
    "g = Graphe()\n",
    "g.set_graphe(mat2dico(matrice_non_connexe, sommets))\n",
    "dessiner(g, 'neato')"
   ]
  },
  {
   "cell_type": "code",
   "execution_count": 26,
   "metadata": {},
   "outputs": [
    {
     "data": {
      "text/plain": [
       "True"
      ]
     },
     "execution_count": 26,
     "metadata": {},
     "output_type": "execute_result"
    }
   ],
   "source": [
    "g.cycle()"
   ]
  },
  {
   "cell_type": "code",
   "execution_count": 27,
   "metadata": {},
   "outputs": [
    {
     "name": "stdout",
     "output_type": "stream",
     "text": [
      "['A', 'B', 'D', 'E']\n",
      "['B', 'A', 'D', 'E']\n",
      "['C']\n",
      "['D', 'B', 'E', 'A']\n",
      "['E', 'B', 'D', 'A']\n",
      "['F', 'E', 'G', 'B', 'D', 'A']\n",
      "['G', 'E', 'F', 'B', 'D', 'A']\n",
      "['H', 'C']\n"
     ]
    }
   ],
   "source": [
    "for s in g.sommets():\n",
    "    print(g.parcours_largeur(s))"
   ]
  },
  {
   "cell_type": "code",
   "execution_count": 28,
   "metadata": {},
   "outputs": [
    {
     "name": "stdout",
     "output_type": "stream",
     "text": [
      "['A', 'B', 'D', 'E']\n",
      "['B', 'A', 'D', 'E']\n",
      "['C']\n",
      "['D', 'B', 'A', 'E']\n",
      "['E', 'B', 'A', 'D']\n",
      "['F', 'E', 'B', 'A', 'D', 'G']\n",
      "['G', 'E', 'B', 'A', 'D', 'F']\n",
      "['H', 'C']\n"
     ]
    }
   ],
   "source": [
    "for s in g.sommets():\n",
    "    print(g.parcours_profondeur(s))"
   ]
  },
  {
   "cell_type": "code",
   "execution_count": 29,
   "metadata": {},
   "outputs": [
    {
     "name": "stdout",
     "output_type": "stream",
     "text": [
      "Chemin réversible entre A et B\n",
      "PAS de Chemin entre A et C\n",
      "Chemin réversible entre A et D\n",
      "Chemin réversible entre A et E\n",
      "Chemin ORIENTÉ de F vers A\n",
      "Chemin ORIENTÉ de G vers A\n",
      "PAS de Chemin entre A et H\n",
      "PAS de Chemin entre B et C\n",
      "Chemin réversible entre B et D\n",
      "Chemin réversible entre B et E\n",
      "Chemin ORIENTÉ de F vers B\n",
      "Chemin ORIENTÉ de G vers B\n",
      "PAS de Chemin entre B et H\n",
      "PAS de Chemin entre C et D\n",
      "PAS de Chemin entre C et E\n",
      "PAS de Chemin entre C et F\n",
      "PAS de Chemin entre C et G\n",
      "Chemin ORIENTÉ de H vers C\n",
      "Chemin réversible entre D et E\n",
      "Chemin ORIENTÉ de F vers D\n",
      "Chemin ORIENTÉ de G vers D\n",
      "PAS de Chemin entre D et H\n",
      "Chemin ORIENTÉ de F vers E\n",
      "Chemin ORIENTÉ de G vers E\n",
      "PAS de Chemin entre E et H\n",
      "Chemin réversible entre F et G\n",
      "PAS de Chemin entre F et H\n",
      "PAS de Chemin entre G et H\n"
     ]
    }
   ],
   "source": [
    "for i in range(len(g.sommets())):\n",
    "    s1 = g.sommets()[i]\n",
    "    for j in range(i+1, len(g.sommets())):\n",
    "        s2 = g.sommets()[j]\n",
    "        if g.existe_chemin(s1, s2) == g.existe_chemin(s2, s1) == True:\n",
    "            print(f\"Chemin réversible entre {s1} et {s2}\")\n",
    "        elif  g.existe_chemin(s1, s2):\n",
    "            print(f\"Chemin ORIENTÉ de {s1} vers {s2}\")\n",
    "        elif  g.existe_chemin(s2, s1):\n",
    "            print(f\"Chemin ORIENTÉ de {s2} vers {s1}\")\n",
    "        else:\n",
    "            print(f\"PAS de Chemin entre {s1} et {s2}\")"
   ]
  },
  {
   "cell_type": "code",
   "execution_count": null,
   "metadata": {},
   "outputs": [],
   "source": []
  }
 ],
 "metadata": {
  "kernelspec": {
   "display_name": "Python 3",
   "language": "python",
   "name": "python3"
  },
  "language_info": {
   "codemirror_mode": {
    "name": "ipython",
    "version": 3
   },
   "file_extension": ".py",
   "mimetype": "text/x-python",
   "name": "python",
   "nbconvert_exporter": "python",
   "pygments_lexer": "ipython3",
   "version": "3.7.10"
  }
 },
 "nbformat": 4,
 "nbformat_minor": 4
}
