{
 "cells": [
  {
   "cell_type": "markdown",
   "id": "ede35218-696c-495f-8f30-12eb00c6e5e0",
   "metadata": {},
   "source": [
    "<div class=\"alert alert-success\">\n",
    "\n",
    "# À la découverte de Python (suite) : boucles non bornées.\n",
    "\n",
    "</div>"
   ]
  },
  {
   "cell_type": "markdown",
   "id": "55489fab-2546-4431-bebb-5d2a4d4e386d",
   "metadata": {
    "tags": []
   },
   "source": [
    "<h2 class=\"alert alert-info\">Division euclidienne par soustractions successives</h2>"
   ]
  },
  {
   "cell_type": "markdown",
   "id": "56642ef3-2433-4d65-8c6a-7102ac6b9b7f",
   "metadata": {},
   "source": [
    "<div class=\"alert alert-warning\">\n",
    "    \n",
    "Cet exercice permet de :\n",
    "- découvrir la boucle non bornée while.\n",
    "    \n",
    "</div>"
   ]
  },
  {
   "cell_type": "markdown",
   "id": "717e7ece-f0c6-4ea5-b27b-972c6390cd6a",
   "metadata": {},
   "source": [
    "On connait les boucles bornées (for) permettant d'effectuer à plusieurs reprises un bloc d'instructions un nombre connu de fois.\n",
    "\n",
    "Mais parfois on désire répéter une action tant qu'une condition reste vraie, sans savoir à l'avance combien de fois il sera nécessaire de répéter l'action. Dans ce cas, l'utilisation d'une boucle **non bornée** est la solution."
   ]
  },
  {
   "cell_type": "markdown",
   "id": "cef00dd0-197b-486f-87f1-acdfcdedec0a",
   "metadata": {},
   "source": [
    "**Exercice :**\n",
    "\n",
    "Écrire une fonction `div` dont voici la spécification :\n",
    "- Entrées : deux entiers dividende et diviseur : int, int\n",
    "- Sortie : un entier quotient : int. \n",
    "C'est le quotient de la division euclidienne de dividende par divisuer, càd que c'est le nombre de fois qu'on aura pu retrancher diviseur à dividende tant que le reste de cette soustraction reste positif ou nul.\n",
    "\n",
    "\n",
    "*Exemples d'utilisation :*\n",
    "\n",
    "    >>> div(12, 5)\n",
    "    2\n",
    "    >>> div(12, 7)\n",
    "    1\n",
    "    >>> div(12, 3)\n",
    "    4\n",
    "    >>> div(12, 27)\n",
    "    0"
   ]
  },
  {
   "cell_type": "markdown",
   "id": "b16f80da-0d45-456e-8ecd-9289e3a2ba55",
   "metadata": {},
   "source": [
    "**Algorithme en pseudo-code :**\n",
    "\n",
    "    Fonction div:\n",
    "        # Renvoie le quotient d'une division euclidienne.\n",
    "        # Entrées : dividende, diviseur : int, int\n",
    "        # Sortie : quotient : int\n",
    "        quotient <-- 0\n",
    "        Tant que dividende - diviseur >= 0:\n",
    "        |    quotient = quotient + 1\n",
    "        |    dividende = dividende - diviseur\n",
    "        Fin tant que\n",
    "        Renvoyer quotient"
   ]
  },
  {
   "cell_type": "markdown",
   "id": "68750a1d-0e05-4fce-85a1-642aedbaefeb",
   "metadata": {},
   "source": [
    "<div class=\"alert alert-danger\">\n",
    "\n",
    "**Aide : Instruction while**\n",
    "\n",
    "L'instruction `while condition:` permet de créer une boucle non bornée.\n",
    "\n",
    "Initialement si la condition est vraie, le bloc d'instructions indentées est exécuté, puis à l'issu de ce tour de boucle, la condition est à nouveau examinée et si elle reste vraie, un nouveau tour de boucle est exécuté. Autrement dit, le bloc d'instructions est exécuté tant que la condition reste vraie.\n",
    "\n",
    "*Remarque* : ATTENTION, si la condition reste toujours vraie, la boucle ne s'arrête jamais ! \n",
    "\n",
    "</div>"
   ]
  },
  {
   "cell_type": "code",
   "execution_count": null,
   "id": "51c9628d-057b-421b-8a4b-5f1156f1ea51",
   "metadata": {},
   "outputs": [],
   "source": [
    "def div(dividende, diviseur):\n",
    "    \"\"\" Renvoie le quotient de la division euclidienne de dividende par diviseur.\n",
    "    - Entrées : dividende, diviseur : int, int\n",
    "    - Sortie : quotient : int\n",
    "    \"\"\"\n",
    "    quotient = 0\n",
    "    while dividende - diviseur >= 0:\n",
    "        quotient = quotient + 1\n",
    "        dividende = dividende - diviseur\n",
    "    return quotient"
   ]
  },
  {
   "cell_type": "code",
   "execution_count": null,
   "id": "4c50e328-d8b2-41f5-9be3-49aea1e5de38",
   "metadata": {
    "tags": []
   },
   "outputs": [],
   "source": [
    "div(12, 5)"
   ]
  },
  {
   "cell_type": "code",
   "execution_count": null,
   "id": "f9ed9469-8cef-422c-85fb-272f84668312",
   "metadata": {
    "tags": []
   },
   "outputs": [],
   "source": [
    "div(12, 7)"
   ]
  },
  {
   "cell_type": "code",
   "execution_count": null,
   "id": "902a9f2f-e2b4-4a56-9237-edde9442cb5b",
   "metadata": {
    "tags": []
   },
   "outputs": [],
   "source": [
    "div(12, 3)"
   ]
  },
  {
   "cell_type": "code",
   "execution_count": null,
   "id": "7261a63d-4e55-414b-81c1-6693dde60e0a",
   "metadata": {
    "tags": []
   },
   "outputs": [],
   "source": [
    "div(12, 27)"
   ]
  },
  {
   "cell_type": "code",
   "execution_count": null,
   "id": "d139845e-d656-4df6-ba42-91f7ca378fca",
   "metadata": {},
   "outputs": [],
   "source": [
    "# test\n",
    "for a in range(50):\n",
    "    for b in range(1, 50):\n",
    "        assert div(a, b) == a // b"
   ]
  },
  {
   "cell_type": "markdown",
   "id": "47f67d17-beef-4fab-a130-4dcf8f6edf18",
   "metadata": {
    "tags": []
   },
   "source": [
    "<h2 class=\"alert alert-info\">Contrôler si une liste est triée</h2>"
   ]
  },
  {
   "cell_type": "markdown",
   "id": "06d13e42-d50d-467b-bebc-0a08dc103d53",
   "metadata": {},
   "source": [
    "<div class=\"alert alert-warning\">\n",
    "    \n",
    "Cet exercice permet de :\n",
    "- manipuler la boucle while.\n",
    "- découvrir le type **booléen**.\n",
    "    \n",
    "</div>"
   ]
  },
  {
   "cell_type": "markdown",
   "id": "65e62308-4eae-4607-8be8-8ac2ba19d55d",
   "metadata": {},
   "source": [
    "**Exercice :**\n",
    "\n",
    "Écrire une fonction `est_croissant` dont voici la spécification :\n",
    "- Entrée : un tableau d'entiers: [int]\n",
    "- Sortie : un drapeau indiquant si le tableau est trié par ordre croissant ou non : bool (booléen)\n",
    "\n",
    "\n",
    "*Exemple d'utilisation :*\n",
    "\n",
    "    >>> est_croissant([5, 2, -4, 7, -8, 12]) # liste non triée\n",
    "    False\n",
    "    >>> est_croissant([-8, -4, 2, 5, 7, 12]) # liste triée\n",
    "    True"
   ]
  },
  {
   "cell_type": "markdown",
   "id": "37701aaf-21c4-4216-85a8-e86f3462c9a7",
   "metadata": {},
   "source": [
    "<div class=\"alert alert-danger\">\n",
    "\n",
    "**Aide : booléen**\n",
    "\n",
    "Un **booléen** est une variable logique qui ne peut prendre que 2 valeurs: Vraie ou Faux (True ou False en Python).\n",
    "\n",
    "</div>"
   ]
  },
  {
   "cell_type": "markdown",
   "id": "d8876be0-60e5-4f62-bc45-be483b8ed208",
   "metadata": {},
   "source": [
    "**Algorithme en pseudo-code :**\n",
    "\n",
    "    Fonction est_croissant:\n",
    "        # Renvoie un drapeau indiquant si un tableau est trié par ordre croissant.\n",
    "        # Entrée : tableau d'entiers: [int] \n",
    "        # Sortie : drapeau indiquant si le tableau est trié: bool\n",
    "        drapeau <-- Vrai \n",
    "        i = 0\n",
    "        Tant que drapeau est Vrai ET que i < taille(tableau)-1:\n",
    "        |    Si tab[i] > tab[i+1]:\n",
    "        |    |   drapeau <-- Faux\n",
    "        |    Fin Si\n",
    "        |    i = i + 1\n",
    "        Fin Tant que\n",
    "        Renvoyer drapeau"
   ]
  },
  {
   "cell_type": "code",
   "execution_count": null,
   "id": "eca7e89b-cdcc-400a-ad85-35f6a8edf798",
   "metadata": {},
   "outputs": [],
   "source": [
    "def est_croissant(tab):\n",
    "    \"\"\" Renvoie un drapeau indiquant si un tableau est trié par ordre croissant.\n",
    "    - Entrée : tableau d'entiers: [int] \n",
    "    - Sortie : drapeau indiquant si le tableau est trié: bool\n",
    "    \"\"\"\n",
    "    flag = True \n",
    "    i = 0\n",
    "    while flag and i < len(tab)-1:\n",
    "        if tab[i] > tab[i+1]:\n",
    "            flag = False\n",
    "        i = i + 1\n",
    "    return flag"
   ]
  },
  {
   "cell_type": "code",
   "execution_count": null,
   "id": "829d6b4b-e0a5-4b22-9d24-0653ec57ae94",
   "metadata": {},
   "outputs": [],
   "source": [
    "est_croissant([5, 2, -4, 7, -8, 12]) # liste non triée"
   ]
  },
  {
   "cell_type": "code",
   "execution_count": null,
   "id": "03e9ca53-7d87-46b7-8d81-1492de69d2fb",
   "metadata": {},
   "outputs": [],
   "source": [
    "est_croissant([-8, -4, 2, 5, 7, 12]) # liste triée"
   ]
  },
  {
   "cell_type": "markdown",
   "id": "04988057-c063-4f96-9fc8-50e2f1e7cf12",
   "metadata": {
    "tags": []
   },
   "source": [
    "<h2 class=\"alert alert-info\">Re-écriture de l'expression for i in range(n) avec une boucle while</h2>"
   ]
  },
  {
   "cell_type": "markdown",
   "id": "c1c061f0-5113-4f3e-9ca1-838dd9056613",
   "metadata": {},
   "source": [
    "<div class=\"alert alert-warning\">\n",
    "    \n",
    "Cet exercice permet de s'exercer à réécrire une boucle for à l'aide d'une boucle while.\n",
    "    \n",
    "</div>"
   ]
  },
  {
   "cell_type": "markdown",
   "id": "533da7dd-4f68-4cb7-ba37-15bcd7b7f4a3",
   "metadata": {},
   "source": [
    "**Exercice :**\n",
    "\n",
    "Écrire une fonction `car` dont voici la spécification :\n",
    "- Entrée : un entier n: int\n",
    "- Sortie : None : Affichage à l'écran ligne par ligne des nombres de n à 0.\n",
    "\n",
    "ATTENTION : l'utilisation de la boucle for est interdite !\n",
    "\n",
    "*Exemple d'utilisation :*\n",
    "\n",
    "    >>> car(5)\n",
    "    5\n",
    "    4\n",
    "    3\n",
    "    2\n",
    "    1\n",
    "    0"
   ]
  },
  {
   "cell_type": "code",
   "execution_count": null,
   "id": "5abf4327-7c90-4071-b9dc-62bce2eed7eb",
   "metadata": {},
   "outputs": [],
   "source": [
    "def car(n):\n",
    "    \"\"\" Affiche un compte à rebours de n à 0.\n",
    "    Entrée : n: int\n",
    "    Sortie : None, simple affichage.\n",
    "    \"\"\"\n",
    "    while n >= 0:\n",
    "        print(n)\n",
    "        n = n - 1"
   ]
  },
  {
   "cell_type": "code",
   "execution_count": null,
   "id": "d568e457-cb60-4a7d-b70c-c836a36e5196",
   "metadata": {},
   "outputs": [],
   "source": [
    "car(5)"
   ]
  },
  {
   "cell_type": "markdown",
   "id": "ae98a470-6a56-4722-9c13-ead8ce7d77e0",
   "metadata": {
    "tags": []
   },
   "source": [
    "<h2 class=\"alert alert-info\">Terminaison: variant de boucle</h2>"
   ]
  },
  {
   "cell_type": "markdown",
   "id": "696b5153-6968-4b1f-8385-45e42432d9be",
   "metadata": {},
   "source": [
    "<div class=\"alert alert-danger\">\n",
    "\n",
    "**Cours : terminaison d'un algorithme :**\n",
    "\n",
    "Lorsqu'on construit un algorithme, il est important de s'assurer qu'il terminera toujours quelques soient les valeurs de ses entrées.\n",
    "    \n",
    "Un algorithme reposant sur des boucles bornées est certain de terminer car une boucle bornée s'effectue un **nombre défini** de fois. En revanche, un algorithme reposant sur des boucles non bornées pourrait ne pas terminer si la condition de boucle reste toujours vraie.\n",
    "    \n",
    "On peut prouver la terminaison d'un algorithme en exhibant un **variant de boucle** : c'est une grandeur **qui reste positive et qui décroit à chaque tour de boucle**. Ainsi si une telle grandeur existe, il est certain que la boucle s'arrêtera.\n",
    "    \n",
    "    \n",
    "</div>"
   ]
  },
  {
   "cell_type": "markdown",
   "id": "fd3812d9-0a42-40c1-83ce-f9d98240698a",
   "metadata": {},
   "source": [
    "**Exemple:**\n",
    "\n",
    "Dans la fonction `div` précédente, la grandeur *(dividende - diviseur)* est un variant de boucle.\n",
    "\n",
    "Cette grandeur reste bien positive dans la boucle (c'est la condition de sortie de boucle) mais elle est décroissante car à chaque tour, *dividende* devient plus petit du fait qu'on lui soustrait *diviseur*."
   ]
  },
  {
   "cell_type": "markdown",
   "id": "44268a5d-6405-422f-8bd8-38198bb305e8",
   "metadata": {},
   "source": [
    "<div class=\"alert alert-warning\">\n",
    "    \n",
    "Cet exercice permet de chercher des variants de boucles simples.\n",
    "    \n",
    "</div>"
   ]
  },
  {
   "cell_type": "markdown",
   "id": "e7674258-1c82-4c87-ae49-f9ff6877be24",
   "metadata": {},
   "source": [
    "**Exercice :**\n",
    "\n",
    "1. Exhiber un variant de boucle pour la fonction `est_croissant` précédente.\n",
    "2. Exhiber un variant de boucle pour la fonction `car` précédente."
   ]
  },
  {
   "cell_type": "markdown",
   "id": "46657543-a8ca-44ef-b84a-e8a95ccf7e0a",
   "metadata": {},
   "source": [
    "**Exercice :**\n",
    "\n",
    "a) Analyser le code de la fonction`test` suivante :"
   ]
  },
  {
   "cell_type": "code",
   "execution_count": null,
   "id": "8e686d88-27d8-4420-bd21-d4290d124d18",
   "metadata": {},
   "outputs": [],
   "source": [
    "def test(a, b):\n",
    "    \"\"\" \n",
    "    Entrée : a, b : 2 nombres décimaux positifs : float, float\n",
    "    Sortie : nb de fois qu'on peut diviser a par b en conservant un résultat supérieur à 1 : int\n",
    "    \"\"\"\n",
    "    n = 0\n",
    "    while a / b - 1 > 0:\n",
    "        a = a / b\n",
    "        n = n + 1\n",
    "    return n\n",
    "\n",
    "# exemples d'utilisation :\n",
    "print(test(125, 3))\n",
    "print(test(1225.617, 3.25))\n",
    "print(test(25.617, 311.25))"
   ]
  },
  {
   "cell_type": "markdown",
   "id": "0932dde0-7d45-41b5-bad1-25e8a0db38d6",
   "metadata": {},
   "source": [
    "b) Expliquer pourquoi cette fonction`test` présente un sérieux problème. (*aide* : y a-t-il un variant de boucle, trouver des paramètres qui mettent la fonction *\"en danger\"*)."
   ]
  },
  {
   "cell_type": "markdown",
   "id": "c6f0fcc2-6ff8-4b46-858f-7ab03d343047",
   "metadata": {},
   "source": [
    "**Exercice :**\n",
    "\n",
    "Comme précédemment, analyser le code de la fonction`test` suivante et conclure sur sa terminaison."
   ]
  },
  {
   "cell_type": "code",
   "execution_count": null,
   "id": "8a13b033-fe24-493e-a38a-f5798159b49b",
   "metadata": {},
   "outputs": [],
   "source": [
    "def test(tab):\n",
    "    \"\"\" Cette fonction diminue la valeur du dernier élément d'un tableau jusqu'à ce qu'elle soit égale à la valeur du 1er.\n",
    "    Entrée : un tableau d'entiers :  [int]\n",
    "    Sortie : le tableau d'entiers avec le dernier élément de fin égal au 1er élément.\n",
    "    \"\"\"\n",
    "    while tab[-1] - tab[0] != 0:\n",
    "        tab[-1] = tab[-1] - 1\n",
    "    return tab\n",
    "\n",
    "# exemples d'utilisation :\n",
    "print(test([0, 5, 5, 5, 5, 5]))\n",
    "print(test([7, 30, 30, 30, 30]))"
   ]
  },
  {
   "cell_type": "markdown",
   "id": "8bedf382-a6c8-47e9-8400-7134fc8d5b1e",
   "metadata": {
    "tags": []
   },
   "source": [
    "<h2 class=\"alert alert-info\">Cas particulier de la programmation événementielle</h2>"
   ]
  },
  {
   "cell_type": "markdown",
   "id": "f84062ff-ef05-4409-ae4c-164b6cc610a6",
   "metadata": {},
   "source": [
    "<div class=\"alert alert-danger\">\n",
    "\n",
    "**Cours : programmation événementielle :**\n",
    "\n",
    "La programmation événementielle repose sur des programmes fonctionnant de façon continue dans l'attente d'un événement particulier déclenchant une action spécifique (ex : action de l'utilisateur comme l'appui sur une touche, ou réception d'une valeur de capteur...).\n",
    "    \n",
    "Dans ce cas particulier, le corps du programme principal s'articule dans une boucle non bornée infinie pour rester toujours à l'écoute des événements. \n",
    "    \n",
    "```\n",
    "        while True:\n",
    "            if evenement_1 :\n",
    "                action_1\n",
    "            elif evenement_2 :\n",
    "                action_2\n",
    "            elif evenement_3 :\n",
    "                action_3\n",
    "            ...\n",
    "```\n",
    "    \n",
    "*Exemple* : le système d'exploitation est un logiciel continuellement à l'écoute des événements de l'ordinateur (au sens large du terme).\n",
    "    \n",
    "    \n",
    "</div>"
   ]
  }
 ],
 "metadata": {
  "kernelspec": {
   "display_name": "Python 3",
   "language": "python",
   "name": "python3"
  },
  "language_info": {
   "codemirror_mode": {
    "name": "ipython",
    "version": 3
   },
   "file_extension": ".py",
   "mimetype": "text/x-python",
   "name": "python",
   "nbconvert_exporter": "python",
   "pygments_lexer": "ipython3",
   "version": "3.10.1"
  }
 },
 "nbformat": 4,
 "nbformat_minor": 5
}
