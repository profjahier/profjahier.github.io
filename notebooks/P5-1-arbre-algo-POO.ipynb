{
 "cells": [
  {
   "cell_type": "markdown",
   "metadata": {},
   "source": [
    "<h1 class=\"alert alert-success\">Algorithmes sur les arbres : POO</h1>"
   ]
  },
  {
   "cell_type": "markdown",
   "metadata": {},
   "source": [
    "Dans ce TP, nous implémenterons des arbres binaires reposant sur deux classes :\n",
    "\n",
    "* Noeud : permettant de décrire la structure d'un noeud dans un arbre binaire\n",
    "* Arbrebin : qui est l'arbre proprement dit. Il se caractérise par :\n",
    "    - sa racine qui est un Noeud\n",
    "    - des méthodes que vous allez construire pour mettre le cours en pratique\n",
    "    \n",
    "Dans un deuxième temps, nous créerons des méthodes spécifiques aux Arbres Binaires de Recherche et implémenterons une méthode d'insertion et de recherche dans ces arbres."
   ]
  },
  {
   "cell_type": "markdown",
   "metadata": {},
   "source": [
    "<h2 class=\"alert alert-info\">Définition de la classe Noeud</h2>"
   ]
  },
  {
   "cell_type": "markdown",
   "metadata": {},
   "source": [
    "Un Noeud est caractérisé par 3 attributs :\n",
    "- valeur : c'est le contenu du noeud\n",
    "- gauche : c'est le noeud fils gauche du noeud (ou None)\n",
    "- droit : c'est le noeud fils droit du noeud (ou None)\n",
    "\n",
    "Un noeud est une feuille si son fils gauche et son fils droit valent tous les deux None.\n",
    "\n",
    "On ajoutera une méthode `est_feuille(self)` à cette classe Noeud qui renvoie un booléen indiquant si le noeud est une feuille ou non."
   ]
  },
  {
   "cell_type": "markdown",
   "metadata": {},
   "source": [
    "**Exercice : compléter la classe Noeud ci-dessous.**\n",
    "\n",
    "*Remarque :* ne pas modifier la méthode `__str__` qui permet un affichage du noeud avec print. Cela affiche récursivement la valeur d'un noeud et de son fils gauche et droit."
   ]
  },
  {
   "cell_type": "code",
   "execution_count": null,
   "metadata": {
    "deletable": true,
    "nbgrader": {
     "cell_type": "code",
     "checksum": "01e3f14977dffd5eec876121d3846169",
     "grade": false,
     "grade_id": "cell-b31cbad2840f3f42",
     "locked": false,
     "schema_version": 3,
     "solution": true,
     "task": false
    }
   },
   "outputs": [],
   "source": [
    "class Noeud():\n",
    "    \"\"\" Représente un noeud dans un arbre binaire.\n",
    "    - Attributs :\n",
    "        * valeur : valeur du noeud\n",
    "        * gauche : fils gauche (type Noeud) ou None\n",
    "        * droit  : fils droit (type Noeud) ou None\n",
    "    \"\"\"\n",
    "    def __str__(self):\n",
    "        return f\"{self.valeur} (g[{self.valeur}] = {self.gauche}, d[{self.valeur}] = {self.droit})\"\n",
    "    \n",
    "    def __init__(self, valeur, gauche=None, droit=None):\n",
    "        # à vous de jouer\n",
    "        # ...\n",
    "        \n",
    "        \n",
    "    def est_feuille(self):\n",
    "        # à vous de jouer\n",
    "        # ...\n",
    "        "
   ]
  },
  {
   "cell_type": "markdown",
   "metadata": {},
   "source": [
    "### Exemple d'utilisation :"
   ]
  },
  {
   "cell_type": "code",
   "execution_count": null,
   "metadata": {},
   "outputs": [],
   "source": [
    "n1 = Noeud('A')\n",
    "print(n1)\n",
    "n1.gauche = Noeud('B')\n",
    "print(n1)\n",
    "n1.droit = Noeud('C')\n",
    "print(n1)\n",
    "n2 = Noeud('a', droit=Noeud('b'))\n",
    "print(n2)"
   ]
  },
  {
   "cell_type": "markdown",
   "metadata": {},
   "source": [
    "*Nous ajouterons des méthodes à cette classe au fur et à mesure de la construction du TP.*"
   ]
  },
  {
   "cell_type": "markdown",
   "metadata": {},
   "source": [
    "<h2 class=\"alert alert-info\">Définition de la classe Abrebin</h2>"
   ]
  },
  {
   "cell_type": "markdown",
   "metadata": {},
   "source": [
    "Un Arbrebin est caractrisé par un seul attribut :\n",
    "- racine : c'est le noeud racine de l'arbre !\n",
    "\n",
    "Par convention, un arbre vide a une racine qui vaut None (c'est un noeud vide)."
   ]
  },
  {
   "cell_type": "code",
   "execution_count": null,
   "metadata": {},
   "outputs": [],
   "source": [
    "class Arbrebin:\n",
    "    def __init__(self, racine=None):\n",
    "        self.racine = racine # racine est un Noeud\n",
    "\n",
    "    def __str__(self):\n",
    "        return str(self.racine)"
   ]
  },
  {
   "cell_type": "markdown",
   "metadata": {},
   "source": [
    "### Exemple d'utilisation :"
   ]
  },
  {
   "cell_type": "markdown",
   "metadata": {},
   "source": [
    "On crée un noeud et ses descendants puis on crée un arbre avec ce noeud comme racine de l'arbre :"
   ]
  },
  {
   "cell_type": "code",
   "execution_count": null,
   "metadata": {},
   "outputs": [],
   "source": [
    "# définition d'un noeud et de ses descendants :\n",
    "n = Noeud('A')\n",
    "\n",
    "n.gauche = Noeud('B')\n",
    "n.droit = Noeud('C')\n",
    "\n",
    "n.gauche.gauche = Noeud('D')\n",
    "n.droit.gauche = Noeud('E')\n",
    "n.droit.droit = Noeud('F')\n",
    "\n",
    "# création de l'arbre :\n",
    "arbre = Arbrebin(n)\n",
    "\n",
    "# affichage :\n",
    "print(arbre)"
   ]
  },
  {
   "cell_type": "markdown",
   "metadata": {},
   "source": [
    "### Pour faciliter la visualisation de l'arbre créé, on importe une fonction pour dessiner un arbre d'un module personnel."
   ]
  },
  {
   "cell_type": "code",
   "execution_count": null,
   "metadata": {},
   "outputs": [],
   "source": [
    "from arbre import dessiner\n",
    "help(dessiner)"
   ]
  },
  {
   "cell_type": "code",
   "execution_count": null,
   "metadata": {},
   "outputs": [],
   "source": [
    "dessiner(arbre)"
   ]
  },
  {
   "cell_type": "markdown",
   "metadata": {},
   "source": [
    "<h2 class=\"alert alert-info\">Taille d'un arbre</h2>"
   ]
  },
  {
   "cell_type": "markdown",
   "metadata": {},
   "source": [
    "Nous allons maintenant pouvoir ajouter des méthodes personnelles à la classe Arbrebin.\n",
    "\n",
    "Comme vous allez le voir sur les exemples, puisqu'un arbre est essentiellement caractérisé par sa racine qui est un Noeud, le coeur des méthodes applicables aux arbres sera plutôt écrit dans la classe Noeud, et ces méthodes des noeuds seront appelées sur la racine de l'arbre dans la classe Arbrebin (je le redis, les exemples vont clarifier cela).\n",
    "\n",
    "Commençons par la taille de l'arbre.\n",
    "\n",
    "Nous connaissons maintenant bien l'algorithme récursif se fondant sur le principe que la taille d'un arbre est égal à :\n",
    "\n",
    "        1 + taille du Sous Arbre Gauche + taille du Sous Arbre Droit. \n",
    "\n",
    "Nous l'adapterons très légèrement avec la classe Noeud sous la forme :\n",
    "\n",
    "1. **condition d'arrêt** : SI le noeud est une feuille, sa taille vaut 1.\n",
    "2. **appel récursif** : SINON la taille est égale à 1 plus :\n",
    "    - la taille du fils gauche SI ce fils gauche existe\n",
    "    - la taille du fils droit SI ce fils droit existe\n",
    "    \n",
    "*Observez la mise en oeuvre dans les cellules ci-dessous :*"
   ]
  },
  {
   "cell_type": "code",
   "execution_count": null,
   "metadata": {
    "nbgrader": {
     "cell_type": "code",
     "checksum": "01e3f14977dffd5eec876121d3846169",
     "grade": false,
     "grade_id": "cell-b31cbad2840f3f42",
     "locked": false,
     "schema_version": 3,
     "solution": true,
     "task": false
    }
   },
   "outputs": [],
   "source": [
    "class Noeud():\n",
    "    def __init__(self, valeur, gauche=None, droit=None):\n",
    "        self.valeur = valeur\n",
    "        self.gauche = gauche\n",
    "        self.droit = droit\n",
    "        \n",
    "    def __str__(self):\n",
    "        return f\"{self.valeur} (g[{self.valeur}] = {self.gauche}, d[{self.valeur}] = {self.droit})\"\n",
    "    \n",
    "    def est_feuille(self):\n",
    "        return self.gauche is None and self.droit is None\n",
    "    \n",
    "    def taille(self):\n",
    "        # Condition d'arrêt\n",
    "        if self.est_feuille():\n",
    "            return 1\n",
    "        # Appel récursif\n",
    "        n = 1\n",
    "        if self.gauche is not None:\n",
    "             n += self.gauche.taille()\n",
    "        if self.droit is not None:\n",
    "             n += self.droit.taille()\n",
    "        return n"
   ]
  },
  {
   "cell_type": "code",
   "execution_count": null,
   "metadata": {},
   "outputs": [],
   "source": [
    "class Arbrebin:\n",
    "    def __init__(self, racine=None):\n",
    "        self.racine = racine\n",
    "\n",
    "    def __str__(self):\n",
    "        return str(self.racine)\n",
    "    \n",
    "    def est_vide(self):\n",
    "        return self.racine is None\n",
    "    \n",
    "    def taille(self):\n",
    "        if self.est_vide():\n",
    "            return 0\n",
    "        else:\n",
    "            return self.racine.taille()"
   ]
  },
  {
   "cell_type": "markdown",
   "metadata": {},
   "source": [
    "### Quelques tests pour apprivoiser tout cela :"
   ]
  },
  {
   "cell_type": "code",
   "execution_count": null,
   "metadata": {},
   "outputs": [],
   "source": [
    "n = Noeud(1)\n",
    "ng, nd = Noeud(2), Noeud(3)\n",
    "n.est_feuille()"
   ]
  },
  {
   "cell_type": "code",
   "execution_count": null,
   "metadata": {},
   "outputs": [],
   "source": [
    "n.taille()"
   ]
  },
  {
   "cell_type": "code",
   "execution_count": null,
   "metadata": {},
   "outputs": [],
   "source": [
    "n.gauche = ng"
   ]
  },
  {
   "cell_type": "code",
   "execution_count": null,
   "metadata": {},
   "outputs": [],
   "source": [
    "n.est_feuille()"
   ]
  },
  {
   "cell_type": "code",
   "execution_count": null,
   "metadata": {},
   "outputs": [],
   "source": [
    "n.taille()"
   ]
  },
  {
   "cell_type": "code",
   "execution_count": null,
   "metadata": {},
   "outputs": [],
   "source": [
    "n.droit = nd"
   ]
  },
  {
   "cell_type": "code",
   "execution_count": null,
   "metadata": {},
   "outputs": [],
   "source": [
    "n.taille()"
   ]
  },
  {
   "cell_type": "code",
   "execution_count": null,
   "metadata": {},
   "outputs": [],
   "source": [
    "arbre = Arbrebin(n)"
   ]
  },
  {
   "cell_type": "code",
   "execution_count": null,
   "metadata": {},
   "outputs": [],
   "source": [
    "dessiner(arbre)"
   ]
  },
  {
   "cell_type": "code",
   "execution_count": null,
   "metadata": {},
   "outputs": [],
   "source": [
    "arbre.taille()"
   ]
  },
  {
   "cell_type": "markdown",
   "metadata": {},
   "source": [
    "<h2 class=\"alert alert-info\">Hauteur d'un arbre, \n",
    "    et algorithmes de parcours (profondeur et largeur)</h2>"
   ]
  },
  {
   "cell_type": "markdown",
   "metadata": {},
   "source": [
    "## A vous de jouer :\n",
    "En utilisant le même modèle que pour la taille, vous allez implémenter la méthode hauteur déterminant la hauteur de l'arbre, ainsi que des méthodes de parcours.\n",
    "\n",
    "**Attention la correction est donnée en fin de TP, mais ne sera pas commentée en classe !**"
   ]
  },
  {
   "cell_type": "code",
   "execution_count": null,
   "metadata": {
    "nbgrader": {
     "cell_type": "code",
     "checksum": "01e3f14977dffd5eec876121d3846169",
     "grade": false,
     "grade_id": "cell-b31cbad2840f3f42",
     "locked": false,
     "schema_version": 3,
     "solution": true,
     "task": false
    }
   },
   "outputs": [],
   "source": [
    "class Noeud():\n",
    "    def __init__(self, valeur, gauche=None, droit=None):\n",
    "        self.valeur = valeur\n",
    "        self.gauche = gauche\n",
    "        self.droit = droit\n",
    "        \n",
    "    def __str__(self):\n",
    "        return f\"{self.valeur} (g[{self.valeur}] = {self.gauche}, d[{self.valeur}] = {self.droit})\"\n",
    "    \n",
    "    def est_feuille(self):\n",
    "        return self.gauche is None and self.droit is None\n",
    "    \n",
    "    def taille(self):\n",
    "        if self.est_feuille():\n",
    "            return 1\n",
    "        n = 1\n",
    "        if self.gauche is not None:\n",
    "             n += self.gauche.taille()\n",
    "        if self.droit is not None:\n",
    "             n += self.droit.taille()\n",
    "        return n\n",
    "    \n",
    "    def hauteur(self):\n",
    "        \"\"\" Renvoie la hauteur de l'arbre \"\"\"\n",
    "        # à vous de jouer\n",
    "        # ...\n",
    "    \n",
    "    def prefixe(self):\n",
    "        \"\"\" Renvoie la liste des valeurs noeuds dans un parcours en profondeur préfixe \"\"\"\n",
    "        # à vous de jouer\n",
    "        # ...\n",
    "    \n",
    "    def infixe(self):\n",
    "        \"\"\" Renvoie la liste des valeurs noeuds dans un parcours en profondeur infixe \"\"\"\n",
    "        # à vous de jouer\n",
    "        # ...\n",
    "    \n",
    "    def suffixe(self):\n",
    "        \"\"\" Renvoie la liste des valeurs noeuds dans un parcours en profondeur suffixe \"\"\"\n",
    "        # à vous de jouer\n",
    "        # ...\n",
    "    \n",
    "    def largeur(self):\n",
    "        \"\"\" Renvoie la liste des valeurs noeuds dans un parcours en largeur \"\"\"\n",
    "        # à vous de jouer\n",
    "        # ...\n",
    "        "
   ]
  },
  {
   "cell_type": "code",
   "execution_count": null,
   "metadata": {},
   "outputs": [],
   "source": [
    "class Arbrebin:\n",
    "    def __init__(self, racine=None):\n",
    "        self.racine = racine\n",
    "\n",
    "    def __str__(self):\n",
    "        return str(self.racine)\n",
    "    \n",
    "    def est_vide(self):\n",
    "        return self.racine is None\n",
    "    \n",
    "    def taille(self):\n",
    "        \"\"\" Renvoie la taille de l'arbre \"\"\"\n",
    "        if self.est_vide():\n",
    "            return 0\n",
    "        else:\n",
    "            return self.racine.taille()\n",
    "        \n",
    "    def hauteur(self):\n",
    "        \"\"\" Renvoie la hauteur de l'arbre \"\"\"\n",
    "        # à vous de jouer\n",
    "        # ...\n",
    "    \n",
    "    def prefixe(self):\n",
    "        \"\"\" parcours en profondeur prefixe \"\"\"\n",
    "        # à vous de jouer\n",
    "        # ...\n",
    "    \n",
    "    def infixe(self):\n",
    "        \" parcours en profondeur infixe \"\"\"\n",
    "        # à vous de jouer\n",
    "        # ...\n",
    "    \n",
    "    def suffixe(self):\n",
    "        \" parcours en profondeur suffixe \"\"\"\n",
    "        # à vous de jouer\n",
    "        # ...\n",
    "    \n",
    "    def largeur(self):\n",
    "        \" parcours en largeur  \"\"\"\n",
    "        # à vous de jouer\n",
    "        # ...:\n",
    "        "
   ]
  },
  {
   "cell_type": "markdown",
   "metadata": {},
   "source": [
    "<h2 class=\"alert alert-info\">Arbres Binaires de Recherche</h2>"
   ]
  },
  {
   "cell_type": "code",
   "execution_count": null,
   "metadata": {},
   "outputs": [],
   "source": [
    "# exécutez cette cellule\n",
    "from math import floor, log"
   ]
  },
  {
   "cell_type": "markdown",
   "metadata": {},
   "source": [
    "**Rappel** : un Arbre Binaire de Recherche est un arbre binaire particulier. **Toutes les valeurs appartenant au sous-arbre gauche sont inférieures à la valeur de la racine, et toutes les valeurs du sous-arbre droit lui sont supérieures.**\n",
    "\n",
    "*Remaque :* Nous n'avons pas recopié dans les cellules suivantes les méthodes qui ne seront pas spécifiquement utiles pour ce type d'arbre (pour alléger un peu la taille des cellules).\n",
    "\n",
    "<p class=\"alert alert-danger\">Les classes Noeud et Arbrebin seront à compléter au fur et à mesure des questions à suivre.</p>"
   ]
  },
  {
   "cell_type": "code",
   "execution_count": null,
   "metadata": {
    "nbgrader": {
     "cell_type": "code",
     "checksum": "01e3f14977dffd5eec876121d3846169",
     "grade": false,
     "grade_id": "cell-b31cbad2840f3f42",
     "locked": false,
     "schema_version": 3,
     "solution": true,
     "task": false
    }
   },
   "outputs": [],
   "source": [
    "class Noeud():\n",
    "    def __init__(self, valeur, gauche=None, droit=None):\n",
    "        self.valeur = valeur\n",
    "        self.gauche = gauche\n",
    "        self.droit = droit\n",
    "        \n",
    "    def __str__(self):\n",
    "        return f\"{self.valeur} (g[{self.valeur}] = {self.gauche}, d[{self.valeur}] = {self.droit})\"\n",
    "    \n",
    "    def est_feuille(self):\n",
    "        return self.gauche is None and self.droit is None\n",
    "    \n",
    "    def infixe(self):\n",
    "        if self.est_feuille():\n",
    "            return [self.valeur]\n",
    "        pg, pd = [], []\n",
    "        if self.gauche is not None:\n",
    "             pg = self.gauche.infixe()\n",
    "        if self.droit is not None:\n",
    "             pd = self.droit.infixe()\n",
    "        return pg + [self.valeur] + pd\n",
    "    \n",
    "    def taille(self):\n",
    "        if self.est_feuille():\n",
    "            return 1\n",
    "        n = 1\n",
    "        if self.gauche is not None:\n",
    "             n += self.gauche.taille()\n",
    "        if self.droit is not None:\n",
    "             n += self.droit.taille()\n",
    "        return n\n",
    "    \n",
    "    def hauteur(self):\n",
    "        if self.est_feuille():\n",
    "            return 1\n",
    "        hg, hd = 0, 0 # hauteur du sag et sad s'ils sont vides\n",
    "        if self.gauche is not None:\n",
    "             hg = self.gauche.hauteur()\n",
    "        if self.droit is not None:\n",
    "             hd = self.droit.hauteur()\n",
    "        return 1 + max(hg, hd)\n",
    "    \n",
    "    def inserer(self, valeur):\n",
    "        \"\"\" Insère valeur en respectant les règles d'un ABR spécifiquement \"\"\"\n",
    "        # à vous de jouer\n",
    "        # ...\n",
    "            \n",
    "    def rechercher(self, valeur):\n",
    "        \"\"\" Recherche valeur en respectant les contraintes d'un ABR \"\"\"\n",
    "        # à vous de jouer\n",
    "        # ...\n",
    "        "
   ]
  },
  {
   "cell_type": "code",
   "execution_count": null,
   "metadata": {},
   "outputs": [],
   "source": [
    "class Arbrebin:\n",
    "    def __init__(self, racine=None):\n",
    "        self.racine = racine\n",
    "        \n",
    "    def __str__(self):\n",
    "        return str(self.racine)   \n",
    "    \n",
    "    def est_vide(self):\n",
    "        return self.racine is None \n",
    "    \n",
    "    def taille(self):\n",
    "        if self.est_vide():\n",
    "            return 0\n",
    "        else:\n",
    "            return self.racine.taille()\n",
    "        \n",
    "    def hauteur(self):\n",
    "        if self.est_vide():\n",
    "            return 0\n",
    "        else:\n",
    "            return self.racine.hauteur()\n",
    "    \n",
    "    def infixe(self):\n",
    "        if self.est_vide():\n",
    "            return []\n",
    "        else:\n",
    "            return self.racine.infixe()\n",
    "        \n",
    "    def est_ABR(self):\n",
    "        \"\"\" à vous de jouer : docstring d'explication à écrire ... \"\"\"\n",
    "        parcours_infixe = self.infixe()\n",
    "        parcours_trié = sorted(parcours_infixe)\n",
    "        return parcours_infixe == parcours_trié\n",
    "        \n",
    "    def h_min_max(self):\n",
    "        \"\"\" Renvoie la hauteur mini et maxi possible de l'arbre en fonction de sa taille \"\"\"\n",
    "        n = self.taille()\n",
    "        # à vous de jouer\n",
    "        # return (..., ...)\n",
    "    \n",
    "    def inserer(self, valeur):\n",
    "        \"\"\" Insère valeur dans l'arbre en respectant les contraintes des ABR. \"\"\"\n",
    "        if self.est_vide():\n",
    "            self.racine = Noeud(valeur)\n",
    "        elif self.est_ABR():\n",
    "            self.racine.inserer(valeur)\n",
    "        else:\n",
    "            assert False, \"L'arbre n'est pas un arbre binaire de recherche !\"\n",
    "    \n",
    "    def rechercher(self, valeur):\n",
    "        \"\"\" Recherche valeur dans l'arbre en respectant les contraintes d'un ABR \"\"\"\n",
    "        # à vous de jouer\n",
    "        # ...\n",
    "        "
   ]
  },
  {
   "cell_type": "markdown",
   "metadata": {},
   "source": [
    "<h3 class=\"alert alert-warning\">Pour se chauffer un peu...</h3>"
   ]
  },
  {
   "cell_type": "markdown",
   "metadata": {},
   "source": [
    "**Question 1 : expliquer l'utilité et le fonctionnement de la méthode `est_ABR` de la classe Arbrebin.** Répondre dans la docstring de la méthode.\n",
    "\n",
    "*Indice :* Quelle est la particularité du parcours en profondeur infixe d'un arbre binaire de recherche ?"
   ]
  },
  {
   "cell_type": "markdown",
   "metadata": {},
   "source": [
    "**Question 2 : compléter les lignes à trou de la méthode h_min_max.** Cette méthode renvoie le tuple donnant la hauteur minimale et maximale possible en fonction de la taille de l'arbre. \n",
    "\n",
    "*Indice :* Revoir le cours et le TP précédent si nécessaire...\n",
    "\n",
    "*Indice 2 :* Vous avez exécuté une cellule contenant l'instruction  `from math import floor, log`."
   ]
  },
  {
   "cell_type": "markdown",
   "metadata": {},
   "source": [
    "<h3 class=\"alert alert-warning\">Insertion</h3>"
   ]
  },
  {
   "cell_type": "markdown",
   "metadata": {},
   "source": [
    "Nous allons implémenter la méthode `inserer`. Cette méthode insère un noeud d'une certaine valeur dans l'arbre binaire de recherche.\n",
    "\n",
    "La méthode `inserer` de la classe Arbrebin est déjà écrite. Son principe de fonctionnement est le suivant :\n",
    "\n",
    "- Si l'arbre est vide, il suffit de créer un noeud avec la valeur à insérer et d'affecter ce noeud à la racine de l'arbre.\n",
    "- Sinon, après s'être assuré que l'arbre est bien un arbre binaire de recherche, on appelle la méthode `inserer` de la classe Noeud à partir de la racine de l'arbre.\n",
    "\n",
    "**Question 3 : vous devez écrire la méthode `inserer` de la classe Noeud.**\n",
    "\n",
    "*Indice :* Il faut comparer la valeur à insérer à la valeur du noeud.\n",
    "\n",
    "Si par exemple la valeur à insérer est inférieure à la valeur du noeud, il faut alors l'insérer dans son fils gauche (à condition que le fils gauche existe ! sinon, il suffit de créer un noeud de la valeur à insérer et de l'affecter au fils gauche du noeud).\n",
    "\n",
    "Un schéma similaire se reproduit du côté droit pour les valeurs supérieures."
   ]
  },
  {
   "cell_type": "markdown",
   "metadata": {},
   "source": [
    "### Test d'utilisation :\n",
    "Les cellules suivantes utilisent la méthode que vous venez d'implémenter pour créer un ABR contenant les chiffres de 0 à 9, insérés **dans un ordre aléatoire**.\n",
    "\n",
    "Vérifiez avec son affichage graphique que l'arbre créé respecte bien les critères d'un arbre binaire de recherche."
   ]
  },
  {
   "cell_type": "code",
   "execution_count": null,
   "metadata": {},
   "outputs": [],
   "source": [
    "from random import shuffle # pour la gestion de l'aléa"
   ]
  },
  {
   "cell_type": "code",
   "execution_count": null,
   "metadata": {},
   "outputs": [],
   "source": [
    "abr = Arbrebin()  # création d'un arbre binaire vide\n",
    "\n",
    "chiffres = [i for i in range(10)] # création des chiffres de 0 à 9 dans une liste en compréhension \n",
    "shuffle(chiffres)                 # on mélange cette liste\n",
    "\n",
    "for chiffre in chiffres:          # insertion des chiffres dans l'ABR\n",
    "    print(f\"Insertion du chiffre {chiffre}\")\n",
    "    abr.inserer(chiffre)\n",
    "    \n",
    "print(abr)    \n",
    "if abr.est_ABR():\n",
    "    print(\"L'arbre obtenu est bien un arbre binaire de recherche.\")\n",
    "dessiner(abr)"
   ]
  },
  {
   "cell_type": "markdown",
   "metadata": {},
   "source": [
    "<h3 class=\"alert alert-warning\">Recherche</h3>"
   ]
  },
  {
   "cell_type": "markdown",
   "metadata": {},
   "source": [
    "Si vous exécutez plusieurs fois la cellule de création de l'ABR avec les chiffres de 0 à 9, vous obtiendrez des ABR différents qui pourtant contiennent tous les mêmes valeurs. Tout dépend de l'ordre d'insertion des valeurs !\n",
    "\n",
    "La recherche dans un ABR (contenant les mêmes valeurs) pourra être plus ou moins efficace en fonction de sa construction.\n",
    "\n",
    "**Question 4 : La cellule suivante crée le pire ABR avec les chiffres de 0 à 9 : expliquez pourquoi.**"
   ]
  },
  {
   "cell_type": "code",
   "execution_count": null,
   "metadata": {},
   "outputs": [],
   "source": [
    "abr = Arbrebin()\n",
    "for chiffre in [i for i in range(10)]:\n",
    "    abr.inserer(chiffre)\n",
    "    \n",
    "# confirmation\n",
    "print(f\"Hauteur de cet arbre : {abr.hauteur()}\")\n",
    "print(f\"Hauteur mini et maxi pour la taille de cet arbre : {abr.h_min_max()}\")"
   ]
  },
  {
   "cell_type": "code",
   "execution_count": null,
   "metadata": {},
   "outputs": [],
   "source": [
    "dessiner(abr)"
   ]
  },
  {
   "cell_type": "markdown",
   "metadata": {},
   "source": [
    "Pour la suite de notre activité, nous changerons un peu et jouerons avec les termes d'une suite célèbre. Peut-être la reconnaîtrez-vous ! \n",
    "\n",
    "Commmençons par construire notre ABR, en insérant les valeurs de la suite dans un ordre aélatoire pour ne pas obtenir un arbre binaire de recherche linéaire (ce qui est stupide comme on vient de le voir)."
   ]
  },
  {
   "cell_type": "code",
   "execution_count": null,
   "metadata": {},
   "outputs": [],
   "source": [
    "abr = Arbrebin()\n",
    "\n",
    "suite = [1, 2, 3, 5, 8, 13, 21, 34, 55, 89, 144, 233, 377, 610, 987]\n",
    "shuffle(suite)\n",
    "\n",
    "for chiffre in suite:\n",
    "    abr.inserer(chiffre)\n",
    "    \n",
    "dessiner(abr)"
   ]
  },
  {
   "cell_type": "markdown",
   "metadata": {},
   "source": [
    "**Question 5 : vous allez maintenant terminer ce TP en implémentant la méthode `rechercher(valeur)` qui prend une valeur en paramètre et renvoie un booléen selon que la valeur est dans l'arbre ou non.**\n",
    "\n",
    "1. Il faut d'une part écrire la méthode `rechercher(valeur)` dans la classe Arbrebin. On pourra s'inspirer de la méthode d'insertion.\n",
    "\n",
    "*Indice :* Si l'arbre est vide, la méthode renvoie forcément False. Sinon, si on a bien un ABR, la recherche peut s'effectuer efficacement à partir de la racine.\n",
    "\n",
    "2. Il faut d'autre part écrire la méthode `rechercher(valeur)` dans la classe Noeud. On pourra encore s'inspirer de la méthode d'insertion.\n",
    "\n",
    "*Indice :* Comme pour la méthode d'insertion, il faut comparer la valeur à insérer à la valeur du noeud.\n",
    "\n",
    "Si par exemple la valeur à insérer est inférieure à la valeur du noeud, il faut alors la rechercher dans son fils gauche (à condition que le fils gauche existe ! sinon, la valeur est absente de l'arbre, et il faut renvoyer False).\n",
    "\n",
    "Un schéma similaire se reproduit du côté droit pour les valeurs supérieures.\n",
    "\n",
    "Enfin, si la valeur est égale à celle du noeud en cours, alors il faur renvoyer True : on a bien trouvé cette valeur dans l'arbre."
   ]
  },
  {
   "cell_type": "markdown",
   "metadata": {},
   "source": [
    "### Test d'utilisation :\n",
    "On crée de nouveau un ABR avec les nombres de la suite de Fibonnacci, et on effectue une recherche de valeurs présentes ou absentes dans cet arbre.\n",
    "\n",
    "*Remarque :* Cet arbre reste trop petit pour vérifier l'efficacité de la recherche en fonction de la forme de l'arbre : plus sa hauteur est petite, plus cette recherche est efficace. Mais on peut au moins vérifier que la méthode fonctionne correctement.\n",
    "\n",
    "On pourra retenir que **la recherche dans un arbre binaire de recherche a un coût proportionnel à la hauteur de l'arbre donc logarithmique par rapport à sa taille si l'arbre est bien tassé.** (comme pour une recherche dichotomique dans un tableau trié)."
   ]
  },
  {
   "cell_type": "code",
   "execution_count": null,
   "metadata": {},
   "outputs": [],
   "source": [
    "abr = Arbrebin()\n",
    "\n",
    "suite = [1, 2, 3, 5, 8, 13, 21, 34, 55, 89, 144, 233, 377, 610, 987]\n",
    "shuffle(suite)\n",
    "\n",
    "for chiffre in suite:\n",
    "    abr.inserer(chiffre)\n",
    "    \n",
    "# tests de recherches:\n",
    "print(abr.rechercher(233))\n",
    "print(abr.rechercher(317))\n",
    "    \n",
    "dessiner(abr)"
   ]
  },
  {
   "cell_type": "markdown",
   "metadata": {},
   "source": [
    "<h1 class=\"alert alert-success\">Correction complète</h1>"
   ]
  },
  {
   "cell_type": "code",
   "execution_count": null,
   "metadata": {
    "nbgrader": {
     "cell_type": "code",
     "checksum": "01e3f14977dffd5eec876121d3846169",
     "grade": false,
     "grade_id": "cell-b31cbad2840f3f42",
     "locked": false,
     "schema_version": 3,
     "solution": true,
     "task": false
    }
   },
   "outputs": [],
   "source": [
    "class Noeud():\n",
    "    def __init__(self, valeur, gauche=None, droit=None):\n",
    "        self.valeur = valeur\n",
    "        self.gauche = gauche\n",
    "        self.droit = droit\n",
    "        \n",
    "    def __str__(self):\n",
    "        return f\"{self.valeur} (g[{self.valeur}] = {self.gauche}, d[{self.valeur}] = {self.droit})\"\n",
    "    \n",
    "    def est_feuille(self):\n",
    "        return self.gauche is None and self.droit is None\n",
    "    \n",
    "    def taille(self):\n",
    "        if self.est_feuille():\n",
    "            return 1\n",
    "        n = 1\n",
    "        if self.gauche is not None:\n",
    "             n += self.gauche.taille()\n",
    "        if self.droit is not None:\n",
    "             n += self.droit.taille()\n",
    "        return n\n",
    "    \n",
    "    def hauteur(self):\n",
    "        if self.est_feuille():\n",
    "            return 1\n",
    "        hg, hd = 0, 0 # hauteur du sag et sad s'ils sont vides\n",
    "        if self.gauche is not None:\n",
    "             hg = self.gauche.hauteur()\n",
    "        if self.droit is not None:\n",
    "             hd = self.droit.hauteur()\n",
    "        return 1 + max(hg, hd)\n",
    "    \n",
    "    def prefixe(self):\n",
    "        \"\"\" Retourne la liste des valeurs noeuds dans un parcours en profondeur préfixe \"\"\"\n",
    "        if self.est_feuille():\n",
    "            return [self.valeur]\n",
    "        pg, pd = [], [] # parcours du sag et sad s'ils sont vides\n",
    "        if self.gauche is not None:\n",
    "             pg = self.gauche.prefixe()\n",
    "        if self.droit is not None:\n",
    "             pd = self.droit.prefixe()\n",
    "        return [self.valeur] + pg + pd\n",
    "    \n",
    "    def infixe(self):\n",
    "        \"\"\" Retourne la liste des valeurs noeuds dans un parcours en profondeur infixe \"\"\"\n",
    "        if self.est_feuille():\n",
    "            return [self.valeur]\n",
    "        pg, pd = [], []\n",
    "        if self.gauche is not None:\n",
    "             pg = self.gauche.infixe()\n",
    "        if self.droit is not None:\n",
    "             pd = self.droit.infixe()\n",
    "        return pg + [self.valeur] + pd\n",
    "    \n",
    "    def suffixe(self):\n",
    "        \"\"\" Retourne la liste des valeurs noeuds dans un parcours en profondeur suffixe \"\"\"\n",
    "        if self.est_feuille():\n",
    "            return [self.valeur]\n",
    "        pg, pd = [], []\n",
    "        if self.gauche is not None:\n",
    "             pg = self.gauche.suffixe()\n",
    "        if self.droit is not None:\n",
    "             pd = self.droit.suffixe()\n",
    "        return pg + pd + [self.valeur] \n",
    "    \n",
    "    def largeur(self):\n",
    "        \"\"\" Retourne la liste des valeurs noeuds dans un parcours en largeur \"\"\"\n",
    "        liste = []\n",
    "        file = [self]\n",
    "        while file:\n",
    "            noeud = file.pop(0)\n",
    "            liste.append(noeud.valeur)\n",
    "            if noeud.gauche is not None:\n",
    "                 file.append(noeud.gauche)\n",
    "            if noeud.droit is not None:\n",
    "                 file.append(noeud.droit)\n",
    "        return liste\n",
    "    \n",
    "    def inserer(self, valeur):\n",
    "        \"\"\" Insère valeur en respectant les règles d'un ABR spécifiquement \"\"\"\n",
    "        if valeur < self.valeur:\n",
    "            if self.gauche is None:\n",
    "                self.gauche = Noeud(valeur)\n",
    "            else:\n",
    "                self.gauche.inserer(valeur)\n",
    "        elif valeur > self.valeur:\n",
    "            if self.droit is None:\n",
    "                self.droit = Noeud(valeur)\n",
    "            else:\n",
    "                self.droit.inserer(valeur)\n",
    "        else:\n",
    "            assert False, \"Pas de doublon dans un ABR !\"\n",
    "            \n",
    "    def rechercher(self, valeur):\n",
    "        \"\"\" Recherche valeur en respectant les contraintes d'un ABR. \"\"\"\n",
    "        if valeur < self.valeur:\n",
    "            if self.gauche is None:\n",
    "                return False\n",
    "            else:\n",
    "                return self.gauche.rechercher(valeur)\n",
    "        elif valeur > self.valeur:\n",
    "            if self.droit is None:\n",
    "                return False\n",
    "            else:\n",
    "                return self.droit.rechercher(valeur)\n",
    "        else:\n",
    "            return True"
   ]
  },
  {
   "cell_type": "code",
   "execution_count": null,
   "metadata": {},
   "outputs": [],
   "source": [
    "class Arbrebin:\n",
    "    def __init__(self, racine=None):\n",
    "        self.racine = racine\n",
    "\n",
    "    def __str__(self):\n",
    "        return str(self.racine)\n",
    "    \n",
    "    def est_vide(self):\n",
    "        return self.racine is None\n",
    "    \n",
    "    def taille(self):\n",
    "        if self.est_vide():\n",
    "            return 0\n",
    "        else:\n",
    "            return self.racine.taille()\n",
    "        \n",
    "    def hauteur(self):\n",
    "        if self.est_vide():\n",
    "            return 0\n",
    "        else:\n",
    "            return self.racine.hauteur()\n",
    "    \n",
    "    def prefixe(self):\n",
    "        if self.est_vide():\n",
    "            return []\n",
    "        else:\n",
    "            return self.racine.prefixe()\n",
    "    \n",
    "    def infixe(self):\n",
    "        if self.est_vide():\n",
    "            return []\n",
    "        else:\n",
    "            return self.racine.infixe()\n",
    "    \n",
    "    def suffixe(self):\n",
    "        if self.est_vide():\n",
    "            return []\n",
    "        else:\n",
    "            return self.racine.suffixe()\n",
    "    \n",
    "    def largeur(self):\n",
    "        if self.est_vide():\n",
    "            return []\n",
    "        else:\n",
    "            return self.racine.largeur()\n",
    "        \n",
    "    def est_ABR(self):\n",
    "        \"\"\" Indique si l'arbre correspond bien à un arbre binaire de recherche :\n",
    "        Dans ce cas son parcours en profondeur infixe doit être trié. \"\"\"\n",
    "        parcours_infixe = self.infixe()\n",
    "        parcours_trié = sorted(parcours_infixe)\n",
    "        return parcours_infixe == parcours_trié\n",
    "    \n",
    "    def inserer(self, valeur):\n",
    "        \"\"\" Insère valeur dans l'arbre en respectant les contraintes des ABR. \"\"\"\n",
    "        if self.est_vide():\n",
    "            self.racine = Noeud(valeur)\n",
    "        elif self.est_ABR():\n",
    "            self.racine.inserer(valeur)\n",
    "        else:\n",
    "            assert False, \"L'arbre n'est pas un arbre binaire de recherche !\"\n",
    "        \n",
    "    def h_min_max(self):\n",
    "        \"\"\" Renvoie la hauteur mini et maxi possible de l'arbre en fonction de sa taille \"\"\"\n",
    "        n = self.taille()\n",
    "        return (1 + floor(log(n, 2)), n)\n",
    "    \n",
    "    def rechercher(self, valeur):\n",
    "        \"\"\" Recherche valeur dans l'arbre en respectant les contraintes d'un ABR. \"\"\"\n",
    "        if self.est_vide():\n",
    "            return False\n",
    "        elif self.est_ABR():\n",
    "            return self.racine.rechercher(valeur)\n",
    "        else:\n",
    "            assert False, \"La recherche ne peut s'effectuer que dans un arbre binaire de recherche !\""
   ]
  }
 ],
 "metadata": {
  "kernelspec": {
   "display_name": "Python 3",
   "language": "python",
   "name": "python3"
  },
  "language_info": {
   "codemirror_mode": {
    "name": "ipython",
    "version": 3
   },
   "file_extension": ".py",
   "mimetype": "text/x-python",
   "name": "python",
   "nbconvert_exporter": "python",
   "pygments_lexer": "ipython3",
   "version": "3.7.10"
  }
 },
 "nbformat": 4,
 "nbformat_minor": 4
}
