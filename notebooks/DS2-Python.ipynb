{
 "cells": [
  {
   "cell_type": "markdown",
   "id": "70ad328d-40ad-4320-ab38-53704a1cce53",
   "metadata": {},
   "source": [
    "# Préliminaires (création des fonctionnalités nécessaires au 'jeu')"
   ]
  },
  {
   "cell_type": "code",
   "execution_count": null,
   "id": "98d75432-03bb-4f7d-bf7b-d8bba86443c7",
   "metadata": {},
   "outputs": [],
   "source": [
    "chr(0x2354), chr(0x2353), chr(0x2344), chr(0x2343), chr(0x233a)"
   ]
  },
  {
   "cell_type": "code",
   "execution_count": null,
   "id": "8d66b0e2-9dbd-4c9a-8279-08548215db8b",
   "metadata": {},
   "outputs": [],
   "source": [
    "class Mobile:\n",
    "    dico_sens = {'S' : chr(0x2354), 'N' : chr(0x2353), 'E' : chr(0x2344), 'O' : chr(0x2343), 'vu' : chr(0x233a)}\n",
    "    def __init__(self, grille, x=0, y=0, sens='E'):\n",
    "        self.x = x\n",
    "        self.y = y\n",
    "        self.sens = sens\n",
    "        self.grille = grille\n",
    "        self.grille[self.y][self.x] = self.dico_sens[self.sens]\n",
    "        \n",
    "    def avancer(self, n=1):\n",
    "        def pas(sens):\n",
    "            if self.sens == 'E':\n",
    "                self.x += 1\n",
    "            elif self.sens == 'O':\n",
    "                self.x -= 1\n",
    "            elif self.sens == 'S':\n",
    "                self.y += 1\n",
    "            else: # sens = 'N'\n",
    "                self.y -= 1\n",
    "            for i in range(len(self.grille)):\n",
    "                for j in range(len(self.grille[0])):\n",
    "                    if grille[i][j] in self.dico_sens.values():\n",
    "                        grille[i][j] = self.dico_sens['vu']\n",
    "            self.grille[self.y][self.x] = self.dico_sens[self.sens]\n",
    "        for i in range(n):\n",
    "            pas(self.sens)\n",
    "            \n",
    "    def gauche(self):\n",
    "        if self.sens == 'E':\n",
    "            self.sens = 'N'\n",
    "        elif self.sens == 'O':\n",
    "            self.sens = 'S'\n",
    "        elif self.sens == 'S':\n",
    "            self.sens = 'E'\n",
    "        else: # sens = 'N'\n",
    "            self.sens = 'O'\n",
    "        self.grille[self.y][self.x] = self.dico_sens[self.sens]\n",
    "            \n",
    "    def droite(self):\n",
    "        if self.sens == 'E':\n",
    "            self.sens = 'S'\n",
    "        elif self.sens == 'O':\n",
    "            self.sens = 'N'\n",
    "        elif self.sens == 'S':\n",
    "            self.sens = 'O'\n",
    "        else: # sens = 'N'\n",
    "            self.sens = 'E'\n",
    "        self.grille[self.y][self.x] = self.dico_sens[self.sens]\n",
    "            \n",
    "    def toucher(self):\n",
    "        def devant(sens):\n",
    "            if self.sens == 'E':\n",
    "                return (self.x+1, self.y)\n",
    "            elif self.sens == 'O':\n",
    "                return (self.x-1, self.y)\n",
    "            elif sens == 'S':\n",
    "                return (self.x, self.y+1)\n",
    "            else: # sens = 'N'\n",
    "                return (self.x, self.y-1)\n",
    "        x, y = devant(grille)\n",
    "        if self.grille[y][x] == 'o':\n",
    "            return \"trésor\"\n",
    "        elif self.grille[y][x] == 'x':\n",
    "            return \"obstacle\"\n",
    "        if self.grille[y][x] == 'm':\n",
    "            return \"mur\"\n",
    "        else:\n",
    "            return \"\"\n",
    "        \n",
    "    def affiche_grille(self):\n",
    "        for ligne in self.grille:\n",
    "            for colonne in ligne:\n",
    "                print(colonne, end=' ')\n",
    "            print()"
   ]
  },
  {
   "cell_type": "markdown",
   "id": "020364e8-15d5-4fcf-8ac2-11dbdf6f24b4",
   "metadata": {},
   "source": [
    "# Problème 1"
   ]
  },
  {
   "cell_type": "code",
   "execution_count": null,
   "id": "247a3164-975c-4e44-9d7e-4374b03ce3f7",
   "metadata": {},
   "outputs": [],
   "source": [
    "grille = [['.']*10 for i in range(6)]\n",
    "m = Mobile(grille, 0, 2, 'E')\n",
    "m.affiche_grille()"
   ]
  },
  {
   "cell_type": "code",
   "execution_count": null,
   "id": "0f3870d7-310e-4e5c-9c65-df0c89aa48b6",
   "metadata": {},
   "outputs": [],
   "source": [
    "etape = 1\n",
    "while etape < 8:\n",
    "    m.avancer()\n",
    "    etape = etape + 1\n",
    "    \n",
    "m.affiche_grille()"
   ]
  },
  {
   "cell_type": "markdown",
   "id": "1c332bfd-91a3-4230-b99a-c686dde5fa50",
   "metadata": {},
   "source": [
    "# Problème 2"
   ]
  },
  {
   "cell_type": "code",
   "execution_count": null,
   "id": "f24dc09b-d64f-4a0e-b907-97e3bef29b35",
   "metadata": {},
   "outputs": [],
   "source": [
    "grille = [['.']*10 for i in range(9)]\n",
    "m = Mobile(grille, 2, 7, 'E')\n",
    "m.affiche_grille()"
   ]
  },
  {
   "cell_type": "code",
   "execution_count": null,
   "id": "56c19d17-217c-43a4-9a5b-8146016a1df2",
   "metadata": {},
   "outputs": [],
   "source": [
    "m.avancer()\n",
    "m.gauche()\n",
    "for i in range(5):\n",
    "    m.avancer()\n",
    "m.droite()\n",
    "for i in range(3):\n",
    "    m.avancer()\n",
    "    \n",
    "m.affiche_grille()"
   ]
  },
  {
   "cell_type": "markdown",
   "id": "4fbad494-605b-4362-bb34-c5e564aff48e",
   "metadata": {},
   "source": [
    "# Problème 3"
   ]
  },
  {
   "cell_type": "code",
   "execution_count": null,
   "id": "bf362c2e-5152-4bd9-86da-daca4b92c3c3",
   "metadata": {},
   "outputs": [],
   "source": [
    "grille = [['.']*15 for i in range(7)]\n",
    "for (x, y) in [(2, 0), (11, 1), (0, 2), (0, 3), (1, 3), (10, 3), (4, 4), (10, 4), (8, 5), (6, 6)]:\n",
    "    grille[y][x] = 'x'\n",
    "for (x, y) in [(4, 0), (12, 0), (4, 1), (6, 2), (11, 3), (12, 3), (13, 3), (7, 4), (10, 5), (2, 6), (4, 6), (8, 6), (9, 6)]:\n",
    "    grille[y][x] = 'o'\n",
    "for y in range(7):\n",
    "    grille[y][14] = 'm'\n",
    "m = Mobile(grille, 0, 6, 'E')\n",
    "m.affiche_grille()"
   ]
  },
  {
   "cell_type": "code",
   "execution_count": null,
   "id": "624b31de-d618-408a-83db-9f054a5b6a2c",
   "metadata": {},
   "outputs": [],
   "source": [
    "fin = False\n",
    "gain = 0\n",
    "while fin != True:\n",
    "    objet = m.toucher()\n",
    "    if objet == \"trésor\":\n",
    "        m.avancer()\n",
    "        gain = gain + 1\n",
    "    elif objet == \"obstacle\":\n",
    "        m.gauche()\n",
    "        m.avancer()\n",
    "        m.droite()\n",
    "    elif objet == \"mur\":\n",
    "        fin = True\n",
    "    else:\n",
    "        m.avancer()\n",
    "        \n",
    "m.affiche_grille()\n",
    "print(\"gain =\", gain)"
   ]
  },
  {
   "cell_type": "markdown",
   "id": "88eca742-c76c-4f54-b76d-d9bae800bee2",
   "metadata": {},
   "source": [
    "# Problème 4"
   ]
  },
  {
   "cell_type": "code",
   "execution_count": null,
   "id": "d1579489-1c99-4844-bf1d-9f0f7c78e8a9",
   "metadata": {},
   "outputs": [],
   "source": [
    "grille = [['.']*15 for i in range(8)]\n",
    "m = Mobile(grille, 0, 5, 'E')\n",
    "m.affiche_grille()"
   ]
  },
  {
   "cell_type": "code",
   "execution_count": null,
   "id": "8a890de1-581d-4bc1-9c65-1ff871c2974f",
   "metadata": {},
   "outputs": [],
   "source": [
    "for i in range(2):\n",
    "    for j in range(4):\n",
    "        m.avancer(3)\n",
    "        m.gauche()\n",
    "    m.avancer(5)\n",
    "\n",
    "m.affiche_grille()"
   ]
  },
  {
   "cell_type": "markdown",
   "id": "c983717a-f6d2-4c7e-9db6-61e79fe78bca",
   "metadata": {},
   "source": [
    "# Problème 5"
   ]
  },
  {
   "cell_type": "code",
   "execution_count": null,
   "id": "f535bda4-9fbd-4fb2-a410-2147fa058da8",
   "metadata": {},
   "outputs": [],
   "source": [
    "grille = [['.']*6 for i in range(6)]\n",
    "m = Mobile(grille, 0, 5, 'E')\n",
    "m.affiche_grille()"
   ]
  },
  {
   "cell_type": "code",
   "execution_count": null,
   "id": "841fb80f-0fa4-4463-acc8-d7e886a39bcc",
   "metadata": {},
   "outputs": [],
   "source": [
    "for i in range(5):\n",
    "    m.avancer()\n",
    "    m.gauche()\n",
    "    m.avancer()\n",
    "    m.droite()\n",
    "    \n",
    "m.affiche_grille()"
   ]
  },
  {
   "cell_type": "markdown",
   "id": "8c4e50cb-2ccd-47d2-967b-19735fbbf721",
   "metadata": {},
   "source": [
    "# Problème 6"
   ]
  },
  {
   "cell_type": "code",
   "execution_count": null,
   "id": "a6c891db-28fb-4bc7-a997-bb80a39dadf1",
   "metadata": {},
   "outputs": [],
   "source": [
    "grille = [['.']*17 for i in range(6)]\n",
    "m = Mobile(grille, 0, 5, 'E')\n",
    "m.affiche_grille()"
   ]
  },
  {
   "cell_type": "code",
   "execution_count": null,
   "id": "99557bac-b5a5-4dab-b158-b6c427073796",
   "metadata": {},
   "outputs": [],
   "source": [
    "largeur = 2\n",
    "for i in range(3):\n",
    "    m.avancer()\n",
    "    for j in range(4):\n",
    "        m.avancer(largeur)\n",
    "        m.gauche()\n",
    "    largeur = largeur + 1 \n",
    "    m.avancer(largeur)\n",
    "    \n",
    "m.affiche_grille()"
   ]
  },
  {
   "cell_type": "code",
   "execution_count": null,
   "id": "020ac46c-eef5-4ac0-a5a0-7ec88ddf40b1",
   "metadata": {},
   "outputs": [],
   "source": []
  },
  {
   "cell_type": "code",
   "execution_count": null,
   "id": "fc4f4211-0389-4107-a27c-8ea87fa39269",
   "metadata": {},
   "outputs": [],
   "source": []
  }
 ],
 "metadata": {
  "kernelspec": {
   "display_name": "Python 3",
   "language": "python",
   "name": "python3"
  },
  "language_info": {
   "codemirror_mode": {
    "name": "ipython",
    "version": 3
   },
   "file_extension": ".py",
   "mimetype": "text/x-python",
   "name": "python",
   "nbconvert_exporter": "python",
   "pygments_lexer": "ipython3",
   "version": "3.7.10"
  }
 },
 "nbformat": 4,
 "nbformat_minor": 5
}
