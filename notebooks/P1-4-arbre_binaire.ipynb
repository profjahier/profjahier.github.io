{
 "cells": [
  {
   "cell_type": "markdown",
   "metadata": {},
   "source": [
    "<h1 class=\"alert alert-success\">Implémentation d'un arbre binaire complet</h1>"
   ]
  },
  {
   "cell_type": "markdown",
   "metadata": {},
   "source": [
    "\n",
    "\n",
    "Un arbre binaire **complet** est un arbre dans lequel tous les niveaux sont remplis à l'exception éventuelle du dernier, dans lequel les feuilles sont alignées à gauche. \n",
    "\n",
    "Ex : Les matchs d'un tournoi sportif avec élimination directe pourraient être représentés par un arbre binaire complet."
   ]
  },
  {
   "cell_type": "markdown",
   "metadata": {},
   "source": [
    "<h2 class=\"alert alert-info\">Implémentation avec une liste-Python</h2>"
   ]
  },
  {
   "cell_type": "markdown",
   "metadata": {},
   "source": [
    "<div class=\"alert alert-danger\">\n",
    "    On décide d'implémenter un arbre binaire en respectant les conventions suivantes :\n",
    "\n",
    "1. L'arbre est une liste-Python.\n",
    "2. Le permier élément de la liste est la taille de l'arbre.\n",
    "3. L'élément suivant contient la racine de l'arbre (noeud de profondeur 1).\n",
    "-  Les 2 éléments suivants sont les fils gauche et droit de la racine (noeuds de profondeur 2).\n",
    "-  Les 4 éléments suivants sont les noeuds de profondeur 3, lus de gauche à droite.\n",
    "-  Les éléments suivants suivent le même principe : profondeur suivante, lus de gauche à droite.\n",
    "\n",
    "etc...\n",
    "    </div>"
   ]
  },
  {
   "cell_type": "markdown",
   "metadata": {},
   "source": [
    "<h2 class=\"alert alert-warning\">Exercice 1</h2>"
   ]
  },
  {
   "cell_type": "markdown",
   "metadata": {},
   "source": [
    "On construit un 1er arbre ci-dessous :"
   ]
  },
  {
   "cell_type": "code",
   "execution_count": null,
   "metadata": {},
   "outputs": [],
   "source": [
    "arbre1 = [15] +  [i for i in range(1, 16)]\n",
    "print(arbre1)"
   ]
  },
  {
   "cell_type": "markdown",
   "metadata": {},
   "source": [
    "**Partie A :**\n",
    "1. Quelle est la taille de cet arbre ?\n",
    "2. Que vaut la racine de cet arbre ?\n",
    "3. Dessiner un schéma de cet arbre."
   ]
  },
  {
   "cell_type": "markdown",
   "metadata": {},
   "source": [
    "**Partie B :**\n",
    "1. Quelle est l'indice de la racine dans la liste-Python ?\n",
    "2. Quels sont les indices de son fils gauche et droit ?\n",
    "3. Quels sont les indices des fils gauche et droit du fils gauche de la racine ? \n",
    "4. Même question pour le fils droit de la racine.\n",
    "5. Généralisation : pour un noeud qui est à l'indice **n** dans la liste, quels sont les indices de ses fils gauche et droit ?"
   ]
  },
  {
   "cell_type": "markdown",
   "metadata": {},
   "source": [
    "<h2 class=\"alert alert-warning\">Exercice 2</h2>"
   ]
  },
  {
   "cell_type": "markdown",
   "metadata": {},
   "source": [
    "On propose les 5 listes-Pythons suivantes :\n",
    "   \n",
    "        [0], [1], [0, 0], [1, 0], [1, 1]\n",
    "        \n",
    "\n",
    "1. Quelle liste représente l'arbre vide ?\n",
    "2. Quelles listes ne respectent pas les conventions pour implémenter un arbre ?"
   ]
  },
  {
   "cell_type": "markdown",
   "metadata": {},
   "source": [
    "<h2 class=\"alert alert-warning\">Exercice 3</h2>"
   ]
  },
  {
   "cell_type": "markdown",
   "metadata": {},
   "source": [
    "L'arbre binaire complet suivant contient les n premiers entiers écrits sous forme binaire."
   ]
  },
  {
   "cell_type": "code",
   "execution_count": null,
   "metadata": {},
   "outputs": [],
   "source": [
    "n = 15 # taille de l'arbre (à modifier librement pour faire des tests)\n",
    "arbre2 = [n] +  [bin(i)[2:] for i in range(1, n+1)]\n",
    "arbre2"
   ]
  },
  {
   "cell_type": "markdown",
   "metadata": {},
   "source": [
    "**Partie A :**\n",
    "1. Quel est le lien entre la profondeur d'un noeud et son nombre de bits ?\n",
    "2. Comment obtenir la hauteur de l'arbre à partir de son dernier élément ?"
   ]
  },
  {
   "cell_type": "code",
   "execution_count": null,
   "metadata": {},
   "outputs": [],
   "source": [
    "from math import floor, log"
   ]
  },
  {
   "cell_type": "markdown",
   "metadata": {},
   "source": [
    "*Rappel : (vu en cours) Le nombre de bits pour écrire un entier est égal à 1 + la partie entière du logarithme binaire de ce nombre.*\n",
    "\n",
    "En Python, on peut importer la fonction partie entière (floor) du module math. On peut aussi importer la fonction logarithme (log) de ce module. Ces fonctions s'utlisent ainsi :\n",
    "\n",
    "        >>> from math import floor, log\n",
    "        >>> floor(32.7)\n",
    "        32\n",
    "        >>> floor(32)\n",
    "        32\n",
    "        >>> log(8, 2) # logarithme binaire du nombre 8\n",
    "        3.0\n",
    "        >>> log(13, 2) # logarithme binaire du nombre 13\n",
    "        3.7000439718141092\n",
    "        >>> floor(log(13, 2)) # partie entière du logarithme binaire du nombre 13\n",
    "        3.0"
   ]
  },
  {
   "cell_type": "markdown",
   "metadata": {},
   "source": [
    "**Partie B :**\n",
    "\n",
    "3. En remarquant que le dernier élément est égal à la taille de l'arbre, en déduire comment calculer la hauteur de l'arbre à partir de sa taille.\n",
    "4. Écrire une fonction `hauteur(arbre)` qui renvoie la hauteur d'un arbre implémenté avec les conventions de ce TP."
   ]
  },
  {
   "cell_type": "code",
   "execution_count": null,
   "metadata": {},
   "outputs": [],
   "source": [
    "def hauteur(arbre):\n",
    "    # A VOUS DE JOUER\n",
    "    # ..."
   ]
  },
  {
   "cell_type": "code",
   "execution_count": null,
   "metadata": {},
   "outputs": [],
   "source": [
    "# zone de tests :\n",
    "\n",
    "n = 10 # taille de l'arbre \n",
    "arbre3 = [n] +  [i for i in range(1, n+1)]\n",
    "\n",
    "hauteur(arbre3)"
   ]
  },
  {
   "cell_type": "markdown",
   "metadata": {},
   "source": [
    "<h2 class=\"alert alert-info\">Un petit jeu de devinette</h2>"
   ]
  },
  {
   "cell_type": "markdown",
   "metadata": {},
   "source": [
    "On désire créer un jeu où l'ordinateur trouve un personnage auquel on pense (parmi une liste prédéfinie) en posant une série de questions.\n",
    "\n",
    "L'ordinateur joue en posant les questions qui sont stockées dans un arbre binaire. Chaque noeud de l'arbre contient une question à laquelle on peut répondre par oui ou non.\n",
    "\n",
    "Pour chaque noeud, si la réponse est oui, la question suivante est écrite dans son fils gauche ; si la réponse est non, la question suivante est écrite dans son fils droit.\n",
    "\n",
    "Les feuilles de l'arbre contiennent finalement les noms des personnages identifiés."
   ]
  },
  {
   "cell_type": "markdown",
   "metadata": {},
   "source": [
    "Voici la liste des personnages possibles, avec leurs caractéristiques :\n",
    "-  Marie : : blonde avec une vue perçante\n",
    "-  Carole : rousse à taches de rousseurs\n",
    "-  Andréa : brune à la peau blanche\n",
    "-  Steve : roux en jogging\n",
    "-  Jeanne : blonde à lunettes\n",
    "-  Marc : brun à lunettes\n",
    "-  Antoine : blond avec une belle cravate\n",
    "-  Paul : brun à la vue perçante"
   ]
  },
  {
   "cell_type": "markdown",
   "metadata": {},
   "source": [
    "<h2 class=\"alert alert-warning\">Exercice 1</h2>"
   ]
  },
  {
   "cell_type": "markdown",
   "metadata": {},
   "source": [
    "Dans la cellule suivante, on a commencé à écrire l'arbre des questions. Il reste à compléter cet arbre avec ses feuilles qui sont les noms des personnages de la liste.\n",
    "\n",
    "**À vous d'écrire les noms de la liste dans le 'bon' ordre pour que les feuilles correspondent bien aux personnages à identifier en fonction des questions qui sont imposées.** (Conseil : dessiner une représentation de l'arbre !)"
   ]
  },
  {
   "cell_type": "code",
   "execution_count": null,
   "metadata": {},
   "outputs": [],
   "source": [
    "questionnaire = [15, \"Est-ce une fille ?\",\n",
    "       \n",
    "               \"Est-elle blonde ?\", \"Est-il brun ?\",\n",
    "       \n",
    "               \"Porte-t-elle des lunettes ?\", \"A-t-elle des taches de rousseurs ?\", \"Porte-t-il des lunettes ?\", \"Porte-t-il une cravate ?\",\n",
    "       \n",
    "       \n",
    "                ]"
   ]
  },
  {
   "cell_type": "markdown",
   "metadata": {},
   "source": [
    "<h2 class=\"alert alert-warning\">Exercice 2</h2>"
   ]
  },
  {
   "cell_type": "markdown",
   "metadata": {},
   "source": [
    "On propose ci-dessous le début du code d'une fonction `jeu(arbre, n)` qui prend en paramètres :\n",
    "- un arbre de questions (dont les feuilles sont les personnages à trouver).\n",
    "- un indice n qui détermine une question (ou un personnage) par sa position dans l'arbre.\n",
    "\n",
    "Cette fonction renvoie le nom du personnage quand il est déterminé de façon certaine.\n",
    "\n",
    "C'est une fonction récursive qui s'appelle en fonction de la réponse donnée à une question.\n",
    "\n",
    "*Remarques* : \n",
    "1. on a vu au début de ce TP que pour un noeud à l'indice n, son fils gauche est à l'indice 2n et son fils droit à l'indice 2n+1.\n",
    "2. les noms des personnages sont stockés dans les indices de la deuxième moitié de l'arbre.\n",
    "\n",
    "**Exercice : vous devez compléter les trous de la fonction `jeu`**."
   ]
  },
  {
   "cell_type": "code",
   "execution_count": null,
   "metadata": {},
   "outputs": [],
   "source": [
    "def jeu(arbre, n=1):\n",
    "    choix = input(f\"{arbre[n]} (o/n) \") # enregistre la réponse de l'humain à la questions posée\n",
    "    if choix in ['o', 'O', 'oui']: # réponse oui à la question\n",
    "        if 2*n > ...:\n",
    "            return arbre[2*n] # le personnage est trouvé, on renvoie son nom\n",
    "        else:\n",
    "            ... # appel récursif avec une nouvelle question\n",
    "    else: # réponse non à la question\n",
    "        ..."
   ]
  },
  {
   "cell_type": "markdown",
   "metadata": {},
   "source": [
    "**Si vous avez bien travaillé, vous pouvez exécuter la cellule suivante pour vérifier que l'ordinateur trouve bien le personnage auquel vous pensez.**"
   ]
  },
  {
   "cell_type": "code",
   "execution_count": null,
   "metadata": {},
   "outputs": [],
   "source": [
    "jeu(questionnaire)"
   ]
  },
  {
   "cell_type": "code",
   "execution_count": null,
   "metadata": {},
   "outputs": [],
   "source": []
  }
 ],
 "metadata": {
  "kernelspec": {
   "display_name": "Python 3",
   "language": "python",
   "name": "python3"
  },
  "language_info": {
   "codemirror_mode": {
    "name": "ipython",
    "version": 3
   },
   "file_extension": ".py",
   "mimetype": "text/x-python",
   "name": "python",
   "nbconvert_exporter": "python",
   "pygments_lexer": "ipython3",
   "version": "3.7.10"
  }
 },
 "nbformat": 4,
 "nbformat_minor": 4
}
