{
 "cells": [
  {
   "cell_type": "code",
   "execution_count": 1,
   "id": "4e78d7dc-3ffd-46d6-b5ca-8b6f7d5457a6",
   "metadata": {},
   "outputs": [],
   "source": [
    "nb_tables = 22"
   ]
  },
  {
   "cell_type": "code",
   "execution_count": 2,
   "id": "a16080de-5fa9-4e64-8abe-401c1aecd7f3",
   "metadata": {},
   "outputs": [],
   "source": [
    "EXCEPTIONS = {2:[], 3:[], 4:[4], 5:[4], 6:[3], \n",
    "              7: [3, 5, 6, 7], \n",
    "              8: [5, 7, 8],\n",
    "              9: [3, 4, 8],    \n",
    "             10: [3, 4, 9],\n",
    "             11: [3, 4, 9, 11],\n",
    "             12: [6, 8, 11, 12],\n",
    "             13: [4, 5, 7, 9, 10, 11, 12, 13],\n",
    "             14: [3, 4, 5, 6, 7, 11, 12, 14],\n",
    "             15: [5, 6, 7, 9, 10, 11, 13, 14],\n",
    "             16: [4, 7, 12, 13, 14 ,16],\n",
    "             17: [4, 9, 10, 13, 15, 16, 17],\n",
    "             18: [3, 5, 8, 9, 11, 12, 13, 14, 15],\n",
    "             19: [3, 4, 6, 8, 15, 16],\n",
    "             20: [5, 9, 11, 14, 17, 18, 19],\n",
    "             21: [3, 5, 8, 9, 11, 12, 18],\n",
    "             22: [3, 4, 6, 8, 9, 13, 19, 20, 21],\n",
    "             23: [3, 4, 5, 8, 11, 13, 14, 15, 17 ,18 ,19, 20],\n",
    "             24: [6, 11, 12, 14, 16, 20 , 21, 23, 24],\n",
    "             25: [4, 11, 12, 13, 18, 21, 22, 24],\n",
    "             }                    "
   ]
  },
  {
   "cell_type": "code",
   "execution_count": 3,
   "id": "2cfdbb16-68e9-40b7-a430-ef1ab7b276fb",
   "metadata": {},
   "outputs": [],
   "source": [
    "def positions_init(nb_tables):\n",
    "    \"\"\" Renvoie une liste des positions initiales en fonction du nb de tables \"\"\"\n",
    "    exceptions = EXCEPTIONS[nb_tables]\n",
    "    positions = {NumPaire:{'NumTable':None, 'NumAdversaire':None, 'Position':None} for NumPaire in range(1, 2*nb_tables+1)}\n",
    "    positions = {NumPaire:{} for NumPaire in range(1, 2*nb_tables+1)}\n",
    "    for NumPaire in range(1, nb_tables+1):\n",
    "        NumAdversaire = 2*nb_tables+1 - NumPaire # la somme des n° de paires est : 2*nb_tables + 1\n",
    "        positions[NumPaire]['NumTable'] = NumPaire\n",
    "        positions[NumAdversaire]['NumTable'] = NumPaire \n",
    "        positions[NumPaire]['NumAdversaire'] = NumAdversaire\n",
    "        positions[NumAdversaire]['NumAdversaire'] = NumPaire\n",
    "        if NumPaire in exceptions:\n",
    "            positions[NumPaire]['Position'] = 'NS'\n",
    "            positions[NumAdversaire]['Position'] = 'EO' \n",
    "        else:\n",
    "            positions[NumPaire]['Position'] = 'EO'\n",
    "            positions[NumAdversaire]['Position'] = 'NS' \n",
    "    return positions\n",
    "\n",
    "#test\n",
    "#positions_init(nb_tables)"
   ]
  },
  {
   "cell_type": "code",
   "execution_count": 4,
   "id": "921b7a4e-3409-427c-b3bf-b147281bf7a9",
   "metadata": {},
   "outputs": [],
   "source": [
    "def mouvement(positions):\n",
    "    \"\"\" Renvoie la nouvelle carte des positions après un changement de positions \"\"\"\n",
    "    nb_paires = len(positions)\n",
    "    NumTable_dernier, Position_dernier = positions[nb_paires-1]['NumTable'], positions[nb_paires-1]['Position']\n",
    "    ### maj des tables et positions : ###\n",
    "    for NumPaire in range(nb_paires-1, 1, -1):\n",
    "        positions[NumPaire]['NumTable'] = positions[NumPaire-1]['NumTable']\n",
    "        positions[NumPaire]['Position'] = positions[NumPaire-1]['Position']\n",
    "    positions[1]['NumTable'], positions[1]['Position'] = NumTable_dernier, Position_dernier\n",
    "    ### maj des adversaires : ###\n",
    "    for NumPaire1 in range(1, nb_paires+1):\n",
    "        for NumPaire2 in range(1, nb_paires+1):\n",
    "            if (NumPaire1 != NumPaire2) and (positions[NumPaire2]['NumTable'] == positions[NumPaire1]['NumTable']):\n",
    "                positions[NumPaire1]['NumAdversaire'] = NumPaire2\n",
    "    return positions\n",
    "\n",
    "#test\n",
    "#mouvement(positions_init(nb_tables))"
   ]
  },
  {
   "cell_type": "code",
   "execution_count": 5,
   "id": "75348dbf-4378-455c-9d20-6e48e06f6dea",
   "metadata": {},
   "outputs": [],
   "source": [
    "with open(f\"barometre_{nb_tables}_tables_v2.csv\", \"w\") as f:\n",
    "    f.write(\"NumSeance;NumTour;NumPaire;NumAdversaire;NumTable;Position;NumDonne1;NumDonne2\\n\")\n",
    "            \n",
    "    positions = positions_init(nb_tables)\n",
    "    tour = 1\n",
    "    while tour < 2*nb_tables:\n",
    "        for NumPaire in sorted(positions):\n",
    "            f.write(f\";{tour};{NumPaire};{positions[NumPaire]['NumAdversaire']};{positions[NumPaire]['NumTable']};{positions[NumPaire]['Position']};;\\n\")\n",
    "        positions = mouvement(positions)\n",
    "        tour += 1"
   ]
  },
  {
   "cell_type": "code",
   "execution_count": null,
   "id": "4f0cf50a-d16c-42f0-b470-79004ddee57f",
   "metadata": {},
   "outputs": [],
   "source": []
  }
 ],
 "metadata": {
  "kernelspec": {
   "display_name": "Python 3",
   "language": "python",
   "name": "python3"
  },
  "language_info": {
   "codemirror_mode": {
    "name": "ipython",
    "version": 3
   },
   "file_extension": ".py",
   "mimetype": "text/x-python",
   "name": "python",
   "nbconvert_exporter": "python",
   "pygments_lexer": "ipython3",
   "version": "3.10.1"
  }
 },
 "nbformat": 4,
 "nbformat_minor": 5
}
