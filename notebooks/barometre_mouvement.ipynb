{
 "cells": [
  {
   "cell_type": "code",
   "execution_count": 1,
   "id": "4e78d7dc-3ffd-46d6-b5ca-8b6f7d5457a6",
   "metadata": {},
   "outputs": [],
   "source": [
    "nb_tables = 22\n",
    "nb_seances = 3"
   ]
  },
  {
   "cell_type": "code",
   "execution_count": 2,
   "id": "a16080de-5fa9-4e64-8abe-401c1aecd7f3",
   "metadata": {},
   "outputs": [],
   "source": [
    "EXCEPTIONS = {2:[], 3:[], 4:[4], 5:[4], 6:[3], \n",
    "              7: [3, 5, 6, 7], \n",
    "              8: [5, 7, 8],\n",
    "              9: [3, 4, 8],    \n",
    "             10: [3, 4, 9],\n",
    "             11: [3, 4, 9, 11],\n",
    "             12: [6, 8, 11, 12],\n",
    "             13: [4, 5, 7, 9, 10, 11, 12, 13],\n",
    "             14: [3, 4, 5, 6, 7, 11, 12, 14],\n",
    "             15: [5, 6, 7, 9, 10, 11, 13, 14],\n",
    "             16: [4, 7, 12, 13, 14 ,16],\n",
    "             17: [4, 9, 10, 13, 15, 16, 17],\n",
    "             18: [3, 5, 8, 9, 11, 12, 13, 14, 15],\n",
    "             19: [3, 4, 6, 8, 15, 16],\n",
    "             20: [5, 9, 11, 14, 17, 18, 19],\n",
    "             21: [3, 5, 8, 9, 11, 12, 18],\n",
    "             22: [3, 4, 6, 8, 9, 13, 19, 20, 21],\n",
    "             23: [3, 4, 5, 8, 11, 13, 14, 15, 17 ,18 ,19, 20],\n",
    "             24: [6, 11, 12, 14, 16, 20 , 21, 23, 24],\n",
    "             25: [4, 11, 12, 13, 18, 21, 22, 24],\n",
    "             }                    "
   ]
  },
  {
   "cell_type": "code",
   "execution_count": 3,
   "id": "e7a84271-4c8d-4068-b3bb-ae6cc9629b70",
   "metadata": {},
   "outputs": [],
   "source": [
    "from math import ceil"
   ]
  },
  {
   "cell_type": "code",
   "execution_count": 4,
   "id": "7f802fdf-1bd9-4b5f-a9f0-0c53230bc848",
   "metadata": {},
   "outputs": [],
   "source": [
    "def decouper_tour(nb_tours, nb_seances):\n",
    "    \"\"\" Découpe les tours en les répartissant équitablement sur le nb de séances \"\"\"\n",
    "    if nb_seances == 1:\n",
    "        return [nb_tours]\n",
    "    else:\n",
    "        nb_tour_seance_1 = ceil(nb_tours / nb_seances)\n",
    "        return [nb_tour_seance_1] + decouper_tour(nb_tours-nb_tour_seance_1, nb_seances-1)\n",
    "        \n",
    "#decoupage = decouper_tour(2*nb_tables-1, nb_seances)\n",
    "#decoupage"
   ]
  },
  {
   "cell_type": "code",
   "execution_count": 5,
   "id": "2cfdbb16-68e9-40b7-a430-ef1ab7b276fb",
   "metadata": {},
   "outputs": [],
   "source": [
    "def positions_init(nb_tables):\n",
    "    \"\"\" Renvoie une liste des positions initiales en fonction du nb de tables \"\"\"\n",
    "    exceptions = EXCEPTIONS[nb_tables]\n",
    "    positions = {NumPaire:{'NumTable':None, 'NumAdversaire':None, 'Position':None} for NumPaire in range(1, 2*nb_tables+1)}\n",
    "    positions = {NumPaire:{} for NumPaire in range(1, 2*nb_tables+1)}\n",
    "    for NumPaire in range(1, nb_tables+1):\n",
    "        NumAdversaire = 2*nb_tables+1 - NumPaire # la somme des n° de paires est : 2*nb_tables + 1\n",
    "        positions[NumPaire]['NumTable'] = NumPaire\n",
    "        positions[NumAdversaire]['NumTable'] = NumPaire \n",
    "        positions[NumPaire]['NumAdversaire'] = NumAdversaire\n",
    "        positions[NumAdversaire]['NumAdversaire'] = NumPaire\n",
    "        if NumPaire in exceptions:\n",
    "            positions[NumPaire]['Position'] = 'NS'\n",
    "            positions[NumAdversaire]['Position'] = 'EO' \n",
    "        else:\n",
    "            positions[NumPaire]['Position'] = 'EO'\n",
    "            positions[NumAdversaire]['Position'] = 'NS' \n",
    "    return positions\n",
    "\n",
    "#test\n",
    "#positions_init(nb_tables)"
   ]
  },
  {
   "cell_type": "code",
   "execution_count": 6,
   "id": "921b7a4e-3409-427c-b3bf-b147281bf7a9",
   "metadata": {},
   "outputs": [],
   "source": [
    "def mouvement(positions):\n",
    "    \"\"\" Renvoie la nouvelle carte des positions après un changement de positions \"\"\"\n",
    "    nb_paires = len(positions)\n",
    "    NumTable_dernier, Position_dernier = positions[nb_paires-1]['NumTable'], positions[nb_paires-1]['Position']\n",
    "    ### maj des tables et positions : ###\n",
    "    for NumPaire in range(nb_paires-1, 1, -1):\n",
    "        positions[NumPaire]['NumTable'] = positions[NumPaire-1]['NumTable']\n",
    "        positions[NumPaire]['Position'] = positions[NumPaire-1]['Position']\n",
    "    positions[1]['NumTable'], positions[1]['Position'] = NumTable_dernier, Position_dernier\n",
    "    ### maj des adversaires : ###\n",
    "    for NumPaire1 in range(1, nb_paires+1):\n",
    "        for NumPaire2 in range(1, nb_paires+1):\n",
    "            if (NumPaire1 != NumPaire2) and (positions[NumPaire2]['NumTable'] == positions[NumPaire1]['NumTable']):\n",
    "                positions[NumPaire1]['NumAdversaire'] = NumPaire2\n",
    "    return positions\n",
    "\n",
    "#test\n",
    "#mouvement(positions_init(nb_tables))"
   ]
  },
  {
   "cell_type": "code",
   "execution_count": 7,
   "id": "75348dbf-4378-455c-9d20-6e48e06f6dea",
   "metadata": {},
   "outputs": [],
   "source": [
    "decoupage = decouper_tour(2*nb_tables-1, nb_seances)\n",
    "seances = []\n",
    "for i in range(nb_seances):\n",
    "    seances.extend([i+1]*decoupage[i])\n",
    "\n",
    "with open(f\"barometre_{nb_tables}_tables.csv\", \"w\") as f:\n",
    "    f.write(\"NumSeance;NumTour;NumPaire;NumAdversaire;NumTable;Position;NumDonne1;NumDonne2\\n\")\n",
    "            \n",
    "    positions = positions_init(nb_tables)\n",
    "    for tour in range(1, 2*nb_tables):        # tour = n° de tour \"global\" (sans découpage par séance)\n",
    "        s = seances[tour-1]                   # s = n° de séance\n",
    "        t = tour - (sum(decoupage[:s-1]))     # t = n° de tour \"effectif\" au sein d'une séance\n",
    "        d1, d2 = 2*t-1, 2*t                   # d1, d2 = n° des 2 donnes jouées\n",
    "        for NumPaire in sorted(positions):\n",
    "            f.write(f\"{s};{t};{NumPaire};{positions[NumPaire]['NumAdversaire']};{positions[NumPaire]['NumTable']};{positions[NumPaire]['Position']};{d1};{d2}\\n\")\n",
    "        positions = mouvement(positions)"
   ]
  },
  {
   "cell_type": "code",
   "execution_count": null,
   "id": "0b9a8f6b-71b9-4a21-bad4-12e5aceee8f4",
   "metadata": {},
   "outputs": [],
   "source": [
    "import basthon"
   ]
  },
  {
   "cell_type": "code",
   "execution_count": null,
   "id": "7bf4638a-7d4f-430f-8e69-d5ee42d18ead",
   "metadata": {},
   "outputs": [],
   "source": [
    "basthon.download(f\"barometre_{nb_tables}_tables.csv\")"
   ]
  }
 ],
 "metadata": {
  "kernelspec": {
   "display_name": "Python 3",
   "language": "python",
   "name": "python3"
  },
  "language_info": {
   "codemirror_mode": {
    "name": "ipython",
    "version": 3
   },
   "file_extension": ".py",
   "mimetype": "text/x-python",
   "name": "python",
   "nbconvert_exporter": "python",
   "pygments_lexer": "ipython3",
   "version": "3.10.1"
  }
 },
 "nbformat": 4,
 "nbformat_minor": 5
}
