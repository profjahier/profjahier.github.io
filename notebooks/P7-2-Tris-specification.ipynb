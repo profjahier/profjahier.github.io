{
 "cells": [
  {
   "cell_type": "markdown",
   "id": "e2ebd2a2-d36a-4fb1-8559-35a7be85fc09",
   "metadata": {},
   "source": [
    "<div class=\"alert alert-success\">\n",
    "\n",
    "# Qualité de programmation, bonnes pratiques : \n",
    "\n",
    "- **jeux de tests**\n",
    "- **assertions**\n",
    "- **spécification d'une fonction**\n",
    "- **préconditions/postconditions**\n",
    "- **variant de boucle**   \n",
    "\n",
    "</div>"
   ]
  },
  {
   "cell_type": "markdown",
   "id": "58c4e88f-4f55-4922-8a2a-f9b875de8b10",
   "metadata": {},
   "source": [
    "Nous allons reprendre dans ce TP les algorithmes de tris vus précédemment, en essayant de nous attarder un peu plus sur la **qualité du code**. En particulier, nous prendrons garde à construire un code correct."
   ]
  },
  {
   "cell_type": "markdown",
   "id": "9c73987b-7724-45c9-88fe-aeb02e15dd6d",
   "metadata": {
    "tags": []
   },
   "source": [
    "<h2 class=\"alert alert-info\">Élaborer un jeu de tests</h2>"
   ]
  },
  {
   "cell_type": "markdown",
   "id": "fbd83dba-4547-4924-bdb5-0599a2420ba6",
   "metadata": {},
   "source": [
    "L'idéal pour un programme est de le **prouver correct**, mais cela peut être parfois compliqué à faire.\n",
    "\n",
    "A minima, on essaie de vérifier son bon fonctionnement en écrivant un **jeu de tests**. Il faut **faire les tests au fur et à mesure** et ne pas attendre la fin d'un programme complexe pour vérifer que tout va bien.\n",
    "\n",
    "Il n'est pas toujours facile d'élaborer un bon jeu de tests. Il faut en particulier penser à contrôler tous les cas limites.\n",
    "\n",
    "*Ex* : tableau vide, que se passe-t-il pour le 1er élément, pour le dernier, bien vérifier les bornes...\n",
    "\n",
    "Il faut aussi penser à faire des tests positifs et négatifs (cas de bonnes ou mauvaises utilisations).\n",
    "\n",
    "Et il ne faut surtout pas considérer que l'utilisateur du programme ne fera pas de choses \"idiotes\" : il le fera !"
   ]
  },
  {
   "cell_type": "markdown",
   "id": "06a4613f-f8d7-41fa-8f53-f3e1a2e2a76e",
   "metadata": {},
   "source": [
    "<div class=\"alert alert-danger\">\n",
    "\n",
    "Enfin, on retiendra une règle d'or : un test qui échoue prouve qu'un programme a un problème, en revanche un test réussi ne prouve pas qu'un programme est correct !\n",
    "\n",
    "</div>"
   ]
  },
  {
   "cell_type": "markdown",
   "id": "31369460-01bb-4d35-b1c4-96a6f8ad7f16",
   "metadata": {},
   "source": [
    "<div class=\"alert alert-warning\">\n",
    "    \n",
    "Dans les cellules suivantes, je vous propose des fonctions qui seront utiles pour la fin du TP. Elles sont complètement écrites. Votre travail est d'écrire des tests pour essayer de vérifer qu'elles fonctionnent correctement. La docstring précise le fonctionnement attendu.\n",
    "</div>"
   ]
  },
  {
   "cell_type": "markdown",
   "id": "c8f9843f-acb1-46e0-bc5a-f904f3c63ce9",
   "metadata": {
    "tags": []
   },
   "source": [
    "# Fonction qui vérifie si une partie de tableau est triée"
   ]
  },
  {
   "cell_type": "code",
   "execution_count": 1,
   "id": "c9fe9f26-b510-4777-86d4-59c85b6092f2",
   "metadata": {},
   "outputs": [],
   "source": [
    "def est_trie(tab, imax=None, imin=0):\n",
    "    \"\"\" Renvoie un booléen indiquant si le tableau est trié entre les indices imini et imax (inclus).\n",
    "    Remarque sur les paramètres facultatifs : \n",
    "    1) si on ne fournit ni imax, ni imin, le tableau est analysé dans son intégralité.\n",
    "    2) si on fournit un seul paramètre (imax), le tableau est analysé de imin=0 jusqu'à imax.\n",
    "    \"\"\"\n",
    "    if imax == None:\n",
    "        imax = len(tab)-1\n",
    "    return sorted(tab[imin:imax+1]) == tab[imin:imax+1]"
   ]
  },
  {
   "cell_type": "code",
   "execution_count": 2,
   "id": "80f9b12a-bb5f-40f6-a1d7-0d2544fd4b67",
   "metadata": {},
   "outputs": [],
   "source": [
    "from random import randint "
   ]
  },
  {
   "cell_type": "code",
   "execution_count": 3,
   "id": "0663ec20-fb66-4d64-90a4-67ce4ffb3652",
   "metadata": {},
   "outputs": [],
   "source": [
    "#  A VOUS DE JOUER\n",
    "# Proposez des tests pertinents, en ajoutant un commentaire pour dire ce que vous testez.\n",
    "# ..."
   ]
  },
  {
   "cell_type": "code",
   "execution_count": 4,
   "id": "ac4dcd6c-8391-4af4-b683-7c78f6b9513b",
   "metadata": {
    "tags": []
   },
   "outputs": [
    {
     "data": {
      "text/plain": [
       "True"
      ]
     },
     "execution_count": 4,
     "metadata": {},
     "output_type": "execute_result"
    }
   ],
   "source": [
    "tab = [30, 28, 6, 18, 20, 18, 3, 80, 45, 98]\n",
    "est_trie(tab, 2, 4)"
   ]
  },
  {
   "cell_type": "code",
   "execution_count": 5,
   "id": "2c7aca9d-3999-4bd8-90ec-c6bdf4cab9ef",
   "metadata": {
    "tags": []
   },
   "outputs": [
    {
     "data": {
      "text/plain": [
       "True"
      ]
     },
     "execution_count": 5,
     "metadata": {},
     "output_type": "execute_result"
    }
   ],
   "source": [
    "tab = [30, 28, 6, 18, 20, 18, 3, 80, 45, 98]\n",
    "est_trie(tab, 2, 5)"
   ]
  },
  {
   "cell_type": "code",
   "execution_count": 6,
   "id": "08edef25-b678-45e5-a6e0-21b1d2693f96",
   "metadata": {
    "tags": []
   },
   "outputs": [
    {
     "data": {
      "text/plain": [
       "True"
      ]
     },
     "execution_count": 6,
     "metadata": {},
     "output_type": "execute_result"
    }
   ],
   "source": [
    "tab = [30, 28, 6, 18, 20, 18, 3, 80, 45, 98]\n",
    "est_trie(tab, 0, 0)"
   ]
  },
  {
   "cell_type": "code",
   "execution_count": 7,
   "id": "097b6327-f8ab-4504-b938-f5aebe2206c3",
   "metadata": {
    "tags": []
   },
   "outputs": [
    {
     "data": {
      "text/plain": [
       "True"
      ]
     },
     "execution_count": 7,
     "metadata": {},
     "output_type": "execute_result"
    }
   ],
   "source": [
    "tab = [30, 28, 6, 18, 20, 18, 3, 80, 45, 98]\n",
    "est_trie(tab, 0, 1)"
   ]
  },
  {
   "cell_type": "code",
   "execution_count": 8,
   "id": "d57a8357-8b90-41b5-b993-4d1e5ea0e956",
   "metadata": {
    "tags": []
   },
   "outputs": [
    {
     "name": "stdout",
     "output_type": "stream",
     "text": [
      "[3, 6, 18, 18, 20, 28, 30, 45, 80, 98]\n"
     ]
    },
    {
     "data": {
      "text/plain": [
       "True"
      ]
     },
     "execution_count": 8,
     "metadata": {},
     "output_type": "execute_result"
    }
   ],
   "source": [
    "tab = sorted([30, 28, 6, 18, 20, 18, 3, 80, 45, 98])\n",
    "print(tab)\n",
    "est_trie(tab, 0, len(tab)-1)"
   ]
  },
  {
   "cell_type": "markdown",
   "id": "4fee10e6-3869-4395-b81a-b71dbd0d889c",
   "metadata": {},
   "source": [
    "# Recherche de l'indice du minimum dans une partie de tableau "
   ]
  },
  {
   "cell_type": "code",
   "execution_count": 9,
   "id": "14b69059-5016-4cf1-aa8f-d0226e4f1430",
   "metadata": {},
   "outputs": [],
   "source": [
    "def mini(tab, i1=0, i2=None):\n",
    "    \"\"\" Recherche l'indice de l'élément minimum dans le tableau tab\n",
    "    entre les indices i1 (inclus) et i2 (exclu).\n",
    "    Remarque sur les paramètres facultatifs : \n",
    "    1) si on ne fournit ni i1, ni i2, la recherche s'effectue dans l'intégralité du tableau.\n",
    "    2) si on fournit un seul paramètre (i1), la recherche s'effectue de i1 jusqu'à la fin du tableau.\n",
    "    \"\"\"\n",
    "    if i2 == None:\n",
    "        i2 = len(tab)\n",
    "    imini = i1\n",
    "    for i in range(i1, i2):\n",
    "        if tab[i] < tab[imini]:\n",
    "            imini = i\n",
    "    return imini"
   ]
  },
  {
   "cell_type": "code",
   "execution_count": 10,
   "id": "4a03d2b8-330c-4591-85b8-f95d2d043b90",
   "metadata": {},
   "outputs": [],
   "source": [
    "#  A VOUS DE JOUER\n",
    "# Proposez des tests pertinents, en ajoutant un commentaire pour dire ce que vous testez.\n",
    "# ..."
   ]
  },
  {
   "cell_type": "code",
   "execution_count": 11,
   "id": "0b1a34b3-790f-464b-a589-929182f9192e",
   "metadata": {},
   "outputs": [
    {
     "data": {
      "text/plain": [
       "[18, 52, 66, 62, 41, 65, 4, 43, 69, 55]"
      ]
     },
     "execution_count": 11,
     "metadata": {},
     "output_type": "execute_result"
    }
   ],
   "source": [
    "tab = [randint(1, 100) for i in range(10)]\n",
    "tab"
   ]
  },
  {
   "cell_type": "code",
   "execution_count": 12,
   "id": "4fd2662d-2772-4ed7-ac3d-e5935195c667",
   "metadata": {
    "tags": []
   },
   "outputs": [
    {
     "data": {
      "text/plain": [
       "(6, 9, 1)"
      ]
     },
     "execution_count": 12,
     "metadata": {},
     "output_type": "execute_result"
    }
   ],
   "source": [
    "mini(tab), mini(tab, 8), mini(tab, 1, 1)"
   ]
  },
  {
   "cell_type": "markdown",
   "id": "3c3d8443-3c28-4b0d-a0ff-c2f764ac4185",
   "metadata": {
    "tags": []
   },
   "source": [
    "# Vérification qu'un élément de tableau est plus petit que tous les suivants."
   ]
  },
  {
   "cell_type": "code",
   "execution_count": 13,
   "id": "f97a9227-0bf9-40b4-be53-a9a570553ce6",
   "metadata": {},
   "outputs": [],
   "source": [
    "def est_inferieur(tab, i):\n",
    "    \"\"\" Renvoie un booléen indiquant si l'élément tab[i] est bien inférieur à tous les éléments suivants du tableau. \"\"\"\n",
    "    return all(tab[i] <= tab[j] for j in range(i+1, len(tab)))"
   ]
  },
  {
   "cell_type": "code",
   "execution_count": 14,
   "id": "97459bf2-be17-4897-985b-14d7c984b97e",
   "metadata": {},
   "outputs": [],
   "source": [
    "#  A VOUS DE JOUER\n",
    "# Proposez des tests pertinents, en ajoutant un commentaire pour dire ce que vous testez.\n",
    "# ..."
   ]
  },
  {
   "cell_type": "code",
   "execution_count": 15,
   "id": "d03735d0-2d86-4f2e-9f1d-a8fe13a58932",
   "metadata": {
    "tags": []
   },
   "outputs": [
    {
     "data": {
      "text/plain": [
       "(True, False)"
      ]
     },
     "execution_count": 15,
     "metadata": {},
     "output_type": "execute_result"
    }
   ],
   "source": [
    "tab = [7, 5, 1, 8, 0, 9, 5, 6, 15]\n",
    "est_inferieur(tab, 4), est_inferieur(tab, 3)"
   ]
  },
  {
   "cell_type": "code",
   "execution_count": 16,
   "id": "5b06c369-f8c0-4c0b-b087-ce4906c8b80c",
   "metadata": {
    "tags": []
   },
   "outputs": [
    {
     "data": {
      "text/plain": [
       "True"
      ]
     },
     "execution_count": 16,
     "metadata": {},
     "output_type": "execute_result"
    }
   ],
   "source": [
    "tab = [7, 5, 20]\n",
    "est_inferieur(tab, 2)"
   ]
  },
  {
   "cell_type": "markdown",
   "id": "b9159c14-8268-4471-b14c-010c11ed22fb",
   "metadata": {
    "tags": []
   },
   "source": [
    "<h2 class=\"alert alert-info\">Programmation défensive : assertions</h2>"
   ]
  },
  {
   "cell_type": "markdown",
   "id": "fe4510ba-6ee4-4323-9cf1-d23ceb459b4e",
   "metadata": {},
   "source": [
    "Les tests permettent de contrôler (enfin plutôt d'espérer...) que le programme fonctionne bien dans une utilisation \"normale\".\n",
    "Mais il est aussi bon de prévoir la gestion d'une éventuelle utilisation anormale.\n",
    "\n",
    "Une erreur possible est par exemple l'appel d'une fonction avec un **paramètre effectif** dont le type ne correspond pas au type du **paramètre formel** attendu.\n",
    "\n",
    "Que se passe-t-il par exemple si on appelle une fonction de tri avec un simple entier alors que cette fonction attend un tableau d'éléments comparables. Les langages compilés peuvent détecter ce genre d'erreur à la compilation, mais pas Python malheureusement. On peut donc essayer d'en tenir compte en programmant, quoique traiter tous les cas possibles soient très lourds. D'ailleurs, nous ne traiterons pas ces cas d'erreurs pour l'instant ! Mais gardons en tête leur problème potentiel.\n",
    "\n",
    "Une autre erreur pourrait être d'appeler nos fonctions avec des paramètres **incohérents**.\n",
    "\n",
    "Par exemple, chercher l'indice minimum d'un tableau entre les indices 150 et 160 pour un tableau de taille 10  n'a aucun sens !\n",
    "\n",
    "Il y a 2 niveaux de gestion de ces erreurs :\n",
    "\n",
    "- programme **en production** (càd entre les mains d'utilisateurs quelconques) : traiter l'erreur et alerter d'une manière ou d'une autre l'utilisateur. (ou bien faire en sorte que l'utilisateur ne puisse pas générer ce genre d'appel).\n",
    "- programme **en développement** (c'est le cas qui nous intéresse) : l'utilisation d'**assertions** permet au développeur de constater l'erreur pour pouvoir par la suite corriger son programme en conséquence."
   ]
  },
  {
   "cell_type": "markdown",
   "id": "f3e22767-f946-4372-b363-5b5979dfd440",
   "metadata": {},
   "source": [
    "<div class=\"alert alert-danger\">\n",
    "\n",
    "Une assertion est une expression logique (s'évaluant à True ou False) introduite par le mot clef `assert`. On peut ajouter à la suite de cette instruction, après une virgule, un message d'information complémentaire (chaine de caractères).\n",
    "    \n",
    "Si l'expression vaut True, rien de particulier ne se passe, l'interpréteur Python passe sous silence l'instruction correspondante et le programme continue normalement.\n",
    "    \n",
    "En revanche, si l'expression vaut False, une erreur d'assertion est levée (AssertionError), et le programme s'arrête. Si un message d'information optionnel est présent, celui est écrit à la suite de AssertionError par l'interpréteur Python.\n",
    "\n",
    "</div>"
   ]
  },
  {
   "cell_type": "markdown",
   "id": "2658526f-eb2c-467f-a7bd-3d3374710e14",
   "metadata": {},
   "source": [
    "Observer l'exemple suivant :\n",
    "\n",
    "On a repris une fonction vue précédemment, et un test avec un appel incohérent."
   ]
  },
  {
   "cell_type": "code",
   "execution_count": 17,
   "id": "bbaf39e5-c444-47e1-b597-c69d707c7674",
   "metadata": {},
   "outputs": [],
   "source": [
    "def est_inferieur(tab, i):\n",
    "    \"\"\" Renvoie un booléen indiquant si l'élément tab[i] est bien inférieur à tous les éléments suivants du tableau. \"\"\"\n",
    "    return all(tab[i] <= tab[j] for j in range(i+1, len(tab)))"
   ]
  },
  {
   "cell_type": "code",
   "execution_count": 18,
   "id": "403165b6-f07f-4130-8800-51030ee27176",
   "metadata": {
    "tags": []
   },
   "outputs": [
    {
     "ename": "TypeError",
     "evalue": "can only concatenate str (not \"int\") to str",
     "output_type": "error",
     "traceback": [
      "\u001b[0;31m---------------------------------------------------------------------------\u001b[0m",
      "\u001b[0;31mTypeError\u001b[0m                                 Traceback (most recent call last)",
      "\u001b[0;32m/tmp/ipykernel_37158/3674669003.py\u001b[0m in \u001b[0;36m<cell line: 3>\u001b[0;34m()\u001b[0m\n\u001b[1;32m      1\u001b[0m \u001b[0;31m# erreur de type\u001b[0m\u001b[0;34m\u001b[0m\u001b[0;34m\u001b[0m\u001b[0m\n\u001b[1;32m      2\u001b[0m \u001b[0mtab\u001b[0m \u001b[0;34m=\u001b[0m \u001b[0;34m[\u001b[0m\u001b[0;36m7\u001b[0m\u001b[0;34m,\u001b[0m \u001b[0;36m5\u001b[0m\u001b[0;34m,\u001b[0m \u001b[0;36m1\u001b[0m\u001b[0;34m]\u001b[0m\u001b[0;34m\u001b[0m\u001b[0;34m\u001b[0m\u001b[0m\n\u001b[0;32m----> 3\u001b[0;31m \u001b[0mest_inferieur\u001b[0m\u001b[0;34m(\u001b[0m\u001b[0mtab\u001b[0m\u001b[0;34m,\u001b[0m \u001b[0;34m\"a\"\u001b[0m\u001b[0;34m)\u001b[0m\u001b[0;34m\u001b[0m\u001b[0;34m\u001b[0m\u001b[0m\n\u001b[0m",
      "\u001b[0;32m/tmp/ipykernel_37158/1120880379.py\u001b[0m in \u001b[0;36mest_inferieur\u001b[0;34m(tab, i)\u001b[0m\n\u001b[1;32m      1\u001b[0m \u001b[0;32mdef\u001b[0m \u001b[0mest_inferieur\u001b[0m\u001b[0;34m(\u001b[0m\u001b[0mtab\u001b[0m\u001b[0;34m,\u001b[0m \u001b[0mi\u001b[0m\u001b[0;34m)\u001b[0m\u001b[0;34m:\u001b[0m\u001b[0;34m\u001b[0m\u001b[0;34m\u001b[0m\u001b[0m\n\u001b[1;32m      2\u001b[0m     \u001b[0;34m\"\"\" Renvoie un booléen indiquant si l'élément tab[i] est bien inférieur à tous les éléments suivants du tableau. \"\"\"\u001b[0m\u001b[0;34m\u001b[0m\u001b[0;34m\u001b[0m\u001b[0m\n\u001b[0;32m----> 3\u001b[0;31m     \u001b[0;32mreturn\u001b[0m \u001b[0mall\u001b[0m\u001b[0;34m(\u001b[0m\u001b[0mtab\u001b[0m\u001b[0;34m[\u001b[0m\u001b[0mi\u001b[0m\u001b[0;34m]\u001b[0m \u001b[0;34m<=\u001b[0m \u001b[0mtab\u001b[0m\u001b[0;34m[\u001b[0m\u001b[0mj\u001b[0m\u001b[0;34m]\u001b[0m \u001b[0;32mfor\u001b[0m \u001b[0mj\u001b[0m \u001b[0;32min\u001b[0m \u001b[0mrange\u001b[0m\u001b[0;34m(\u001b[0m\u001b[0mi\u001b[0m\u001b[0;34m+\u001b[0m\u001b[0;36m1\u001b[0m\u001b[0;34m,\u001b[0m \u001b[0mlen\u001b[0m\u001b[0;34m(\u001b[0m\u001b[0mtab\u001b[0m\u001b[0;34m)\u001b[0m\u001b[0;34m)\u001b[0m\u001b[0;34m)\u001b[0m\u001b[0;34m\u001b[0m\u001b[0;34m\u001b[0m\u001b[0m\n\u001b[0m",
      "\u001b[0;31mTypeError\u001b[0m: can only concatenate str (not \"int\") to str"
     ]
    }
   ],
   "source": [
    "# erreur de type\n",
    "tab = [7, 5, 1]\n",
    "est_inferieur(tab, \"a\")"
   ]
  },
  {
   "cell_type": "code",
   "execution_count": 19,
   "id": "24a9794f-1e0d-43ce-9c85-d8b07f1a327c",
   "metadata": {
    "tags": []
   },
   "outputs": [
    {
     "ename": "IndexError",
     "evalue": "list index out of range",
     "output_type": "error",
     "traceback": [
      "\u001b[0;31m---------------------------------------------------------------------------\u001b[0m",
      "\u001b[0;31mIndexError\u001b[0m                                Traceback (most recent call last)",
      "\u001b[0;32m/tmp/ipykernel_37158/3014550075.py\u001b[0m in \u001b[0;36m<cell line: 3>\u001b[0;34m()\u001b[0m\n\u001b[1;32m      1\u001b[0m \u001b[0;31m# erreur de paramètre incohérent\u001b[0m\u001b[0;34m\u001b[0m\u001b[0;34m\u001b[0m\u001b[0m\n\u001b[1;32m      2\u001b[0m \u001b[0mtab\u001b[0m \u001b[0;34m=\u001b[0m \u001b[0;34m[\u001b[0m\u001b[0;36m7\u001b[0m\u001b[0;34m,\u001b[0m \u001b[0;36m5\u001b[0m\u001b[0;34m,\u001b[0m \u001b[0;36m1\u001b[0m\u001b[0;34m]\u001b[0m\u001b[0;34m\u001b[0m\u001b[0;34m\u001b[0m\u001b[0m\n\u001b[0;32m----> 3\u001b[0;31m \u001b[0mest_inferieur\u001b[0m\u001b[0;34m(\u001b[0m\u001b[0mtab\u001b[0m\u001b[0;34m,\u001b[0m \u001b[0;34m-\u001b[0m\u001b[0;36m4\u001b[0m\u001b[0;34m)\u001b[0m\u001b[0;34m\u001b[0m\u001b[0;34m\u001b[0m\u001b[0m\n\u001b[0m",
      "\u001b[0;32m/tmp/ipykernel_37158/1120880379.py\u001b[0m in \u001b[0;36mest_inferieur\u001b[0;34m(tab, i)\u001b[0m\n\u001b[1;32m      1\u001b[0m \u001b[0;32mdef\u001b[0m \u001b[0mest_inferieur\u001b[0m\u001b[0;34m(\u001b[0m\u001b[0mtab\u001b[0m\u001b[0;34m,\u001b[0m \u001b[0mi\u001b[0m\u001b[0;34m)\u001b[0m\u001b[0;34m:\u001b[0m\u001b[0;34m\u001b[0m\u001b[0;34m\u001b[0m\u001b[0m\n\u001b[1;32m      2\u001b[0m     \u001b[0;34m\"\"\" Renvoie un booléen indiquant si l'élément tab[i] est bien inférieur à tous les éléments suivants du tableau. \"\"\"\u001b[0m\u001b[0;34m\u001b[0m\u001b[0;34m\u001b[0m\u001b[0m\n\u001b[0;32m----> 3\u001b[0;31m     \u001b[0;32mreturn\u001b[0m \u001b[0mall\u001b[0m\u001b[0;34m(\u001b[0m\u001b[0mtab\u001b[0m\u001b[0;34m[\u001b[0m\u001b[0mi\u001b[0m\u001b[0;34m]\u001b[0m \u001b[0;34m<=\u001b[0m \u001b[0mtab\u001b[0m\u001b[0;34m[\u001b[0m\u001b[0mj\u001b[0m\u001b[0;34m]\u001b[0m \u001b[0;32mfor\u001b[0m \u001b[0mj\u001b[0m \u001b[0;32min\u001b[0m \u001b[0mrange\u001b[0m\u001b[0;34m(\u001b[0m\u001b[0mi\u001b[0m\u001b[0;34m+\u001b[0m\u001b[0;36m1\u001b[0m\u001b[0;34m,\u001b[0m \u001b[0mlen\u001b[0m\u001b[0;34m(\u001b[0m\u001b[0mtab\u001b[0m\u001b[0;34m)\u001b[0m\u001b[0;34m)\u001b[0m\u001b[0;34m)\u001b[0m\u001b[0;34m\u001b[0m\u001b[0;34m\u001b[0m\u001b[0m\n\u001b[0m",
      "\u001b[0;32m/tmp/ipykernel_37158/1120880379.py\u001b[0m in \u001b[0;36m<genexpr>\u001b[0;34m(.0)\u001b[0m\n\u001b[1;32m      1\u001b[0m \u001b[0;32mdef\u001b[0m \u001b[0mest_inferieur\u001b[0m\u001b[0;34m(\u001b[0m\u001b[0mtab\u001b[0m\u001b[0;34m,\u001b[0m \u001b[0mi\u001b[0m\u001b[0;34m)\u001b[0m\u001b[0;34m:\u001b[0m\u001b[0;34m\u001b[0m\u001b[0;34m\u001b[0m\u001b[0m\n\u001b[1;32m      2\u001b[0m     \u001b[0;34m\"\"\" Renvoie un booléen indiquant si l'élément tab[i] est bien inférieur à tous les éléments suivants du tableau. \"\"\"\u001b[0m\u001b[0;34m\u001b[0m\u001b[0;34m\u001b[0m\u001b[0m\n\u001b[0;32m----> 3\u001b[0;31m     \u001b[0;32mreturn\u001b[0m \u001b[0mall\u001b[0m\u001b[0;34m(\u001b[0m\u001b[0mtab\u001b[0m\u001b[0;34m[\u001b[0m\u001b[0mi\u001b[0m\u001b[0;34m]\u001b[0m \u001b[0;34m<=\u001b[0m \u001b[0mtab\u001b[0m\u001b[0;34m[\u001b[0m\u001b[0mj\u001b[0m\u001b[0;34m]\u001b[0m \u001b[0;32mfor\u001b[0m \u001b[0mj\u001b[0m \u001b[0;32min\u001b[0m \u001b[0mrange\u001b[0m\u001b[0;34m(\u001b[0m\u001b[0mi\u001b[0m\u001b[0;34m+\u001b[0m\u001b[0;36m1\u001b[0m\u001b[0;34m,\u001b[0m \u001b[0mlen\u001b[0m\u001b[0;34m(\u001b[0m\u001b[0mtab\u001b[0m\u001b[0;34m)\u001b[0m\u001b[0;34m)\u001b[0m\u001b[0;34m)\u001b[0m\u001b[0;34m\u001b[0m\u001b[0;34m\u001b[0m\u001b[0m\n\u001b[0m",
      "\u001b[0;31mIndexError\u001b[0m: list index out of range"
     ]
    }
   ],
   "source": [
    "# erreur de paramètre incohérent\n",
    "tab = [7, 5, 1]\n",
    "est_inferieur(tab, -4)"
   ]
  },
  {
   "cell_type": "markdown",
   "id": "a156f071-61b7-425b-b5b8-bc03cd61dfef",
   "metadata": {},
   "source": [
    "L'erreur *IndexErrror* levée donne une indication au programmeur, mais il est préférable de gérer soi-même cette erreur avec une erreur plus explicite.\n",
    "\n",
    "Voyez la solution ci dessous, aevec l'utilisation d'une assertion."
   ]
  },
  {
   "cell_type": "code",
   "execution_count": 20,
   "id": "7b6e2abb-9059-4a42-8b4e-741b85800b6d",
   "metadata": {},
   "outputs": [],
   "source": [
    "def est_inferieur(tab, i):\n",
    "    \"\"\" Renvoie un booléen indiquant si l'élément tab[i] est bien inférieur à tous les éléments suivants du tableau. \"\"\"\n",
    "    assert 0 <= i < len(tab), \"Le paramètre i doit être compris entre 0 et la taille du tableau len(tab) (exclu).\"\n",
    "    return all(tab[i] <= tab[j] for j in range(i+1, len(tab)))"
   ]
  },
  {
   "cell_type": "code",
   "execution_count": 21,
   "id": "4b31cb2c-8a34-4ce2-9ba4-31cee7e30250",
   "metadata": {
    "tags": []
   },
   "outputs": [
    {
     "data": {
      "text/plain": [
       "True"
      ]
     },
     "execution_count": 21,
     "metadata": {},
     "output_type": "execute_result"
    }
   ],
   "source": [
    "# sans erreur, aucun changement dans l'exécuition du programme\n",
    "tab = [7, 5, 1]\n",
    "est_inferieur(tab, 2)"
   ]
  },
  {
   "cell_type": "code",
   "execution_count": 22,
   "id": "6ffea627-0fa1-44bd-ba35-e042b8d70dd1",
   "metadata": {
    "tags": []
   },
   "outputs": [
    {
     "ename": "AssertionError",
     "evalue": "Le paramètre i doit être compris entre 0 et la taille du tableau len(tab) (exclu).",
     "output_type": "error",
     "traceback": [
      "\u001b[0;31m---------------------------------------------------------------------------\u001b[0m",
      "\u001b[0;31mAssertionError\u001b[0m                            Traceback (most recent call last)",
      "\u001b[0;32m/tmp/ipykernel_37158/3014550075.py\u001b[0m in \u001b[0;36m<cell line: 3>\u001b[0;34m()\u001b[0m\n\u001b[1;32m      1\u001b[0m \u001b[0;31m# erreur de paramètre incohérent\u001b[0m\u001b[0;34m\u001b[0m\u001b[0;34m\u001b[0m\u001b[0m\n\u001b[1;32m      2\u001b[0m \u001b[0mtab\u001b[0m \u001b[0;34m=\u001b[0m \u001b[0;34m[\u001b[0m\u001b[0;36m7\u001b[0m\u001b[0;34m,\u001b[0m \u001b[0;36m5\u001b[0m\u001b[0;34m,\u001b[0m \u001b[0;36m1\u001b[0m\u001b[0;34m]\u001b[0m\u001b[0;34m\u001b[0m\u001b[0;34m\u001b[0m\u001b[0m\n\u001b[0;32m----> 3\u001b[0;31m \u001b[0mest_inferieur\u001b[0m\u001b[0;34m(\u001b[0m\u001b[0mtab\u001b[0m\u001b[0;34m,\u001b[0m \u001b[0;34m-\u001b[0m\u001b[0;36m4\u001b[0m\u001b[0;34m)\u001b[0m\u001b[0;34m\u001b[0m\u001b[0;34m\u001b[0m\u001b[0m\n\u001b[0m",
      "\u001b[0;32m/tmp/ipykernel_37158/2079507572.py\u001b[0m in \u001b[0;36mest_inferieur\u001b[0;34m(tab, i)\u001b[0m\n\u001b[1;32m      1\u001b[0m \u001b[0;32mdef\u001b[0m \u001b[0mest_inferieur\u001b[0m\u001b[0;34m(\u001b[0m\u001b[0mtab\u001b[0m\u001b[0;34m,\u001b[0m \u001b[0mi\u001b[0m\u001b[0;34m)\u001b[0m\u001b[0;34m:\u001b[0m\u001b[0;34m\u001b[0m\u001b[0;34m\u001b[0m\u001b[0m\n\u001b[1;32m      2\u001b[0m     \u001b[0;34m\"\"\" Renvoie un booléen indiquant si l'élément tab[i] est bien inférieur à tous les éléments suivants du tableau. \"\"\"\u001b[0m\u001b[0;34m\u001b[0m\u001b[0;34m\u001b[0m\u001b[0m\n\u001b[0;32m----> 3\u001b[0;31m     \u001b[0;32massert\u001b[0m \u001b[0;36m0\u001b[0m \u001b[0;34m<=\u001b[0m \u001b[0mi\u001b[0m \u001b[0;34m<\u001b[0m \u001b[0mlen\u001b[0m\u001b[0;34m(\u001b[0m\u001b[0mtab\u001b[0m\u001b[0;34m)\u001b[0m\u001b[0;34m,\u001b[0m \u001b[0;34m\"Le paramètre i doit être compris entre 0 et la taille du tableau len(tab) (exclu).\"\u001b[0m\u001b[0;34m\u001b[0m\u001b[0;34m\u001b[0m\u001b[0m\n\u001b[0m\u001b[1;32m      4\u001b[0m     \u001b[0;32mreturn\u001b[0m \u001b[0mall\u001b[0m\u001b[0;34m(\u001b[0m\u001b[0mtab\u001b[0m\u001b[0;34m[\u001b[0m\u001b[0mi\u001b[0m\u001b[0;34m]\u001b[0m \u001b[0;34m<=\u001b[0m \u001b[0mtab\u001b[0m\u001b[0;34m[\u001b[0m\u001b[0mj\u001b[0m\u001b[0;34m]\u001b[0m \u001b[0;32mfor\u001b[0m \u001b[0mj\u001b[0m \u001b[0;32min\u001b[0m \u001b[0mrange\u001b[0m\u001b[0;34m(\u001b[0m\u001b[0mi\u001b[0m\u001b[0;34m+\u001b[0m\u001b[0;36m1\u001b[0m\u001b[0;34m,\u001b[0m \u001b[0mlen\u001b[0m\u001b[0;34m(\u001b[0m\u001b[0mtab\u001b[0m\u001b[0;34m)\u001b[0m\u001b[0;34m)\u001b[0m\u001b[0;34m)\u001b[0m\u001b[0;34m\u001b[0m\u001b[0;34m\u001b[0m\u001b[0m\n",
      "\u001b[0;31mAssertionError\u001b[0m: Le paramètre i doit être compris entre 0 et la taille du tableau len(tab) (exclu)."
     ]
    }
   ],
   "source": [
    "# erreur de paramètre incohérent\n",
    "tab = [7, 5, 1]\n",
    "est_inferieur(tab, -4)"
   ]
  },
  {
   "cell_type": "code",
   "execution_count": 23,
   "id": "477ac397-8c94-4e1c-a4cc-686d16059211",
   "metadata": {
    "tags": []
   },
   "outputs": [
    {
     "ename": "TypeError",
     "evalue": "'<=' not supported between instances of 'int' and 'str'",
     "output_type": "error",
     "traceback": [
      "\u001b[0;31m---------------------------------------------------------------------------\u001b[0m",
      "\u001b[0;31mTypeError\u001b[0m                                 Traceback (most recent call last)",
      "\u001b[0;32m/tmp/ipykernel_37158/3799302429.py\u001b[0m in \u001b[0;36m<cell line: 3>\u001b[0;34m()\u001b[0m\n\u001b[1;32m      1\u001b[0m \u001b[0;31m# erreur de type : on ne s'est pas occupé de ce type d'erreur...\u001b[0m\u001b[0;34m\u001b[0m\u001b[0;34m\u001b[0m\u001b[0m\n\u001b[1;32m      2\u001b[0m \u001b[0mtab\u001b[0m \u001b[0;34m=\u001b[0m \u001b[0;34m[\u001b[0m\u001b[0;36m7\u001b[0m\u001b[0;34m,\u001b[0m \u001b[0;36m5\u001b[0m\u001b[0;34m,\u001b[0m \u001b[0;36m1\u001b[0m\u001b[0;34m]\u001b[0m\u001b[0;34m\u001b[0m\u001b[0;34m\u001b[0m\u001b[0m\n\u001b[0;32m----> 3\u001b[0;31m \u001b[0mest_inferieur\u001b[0m\u001b[0;34m(\u001b[0m\u001b[0mtab\u001b[0m\u001b[0;34m,\u001b[0m \u001b[0;34m\"a\"\u001b[0m\u001b[0;34m)\u001b[0m\u001b[0;34m\u001b[0m\u001b[0;34m\u001b[0m\u001b[0m\n\u001b[0m",
      "\u001b[0;32m/tmp/ipykernel_37158/2079507572.py\u001b[0m in \u001b[0;36mest_inferieur\u001b[0;34m(tab, i)\u001b[0m\n\u001b[1;32m      1\u001b[0m \u001b[0;32mdef\u001b[0m \u001b[0mest_inferieur\u001b[0m\u001b[0;34m(\u001b[0m\u001b[0mtab\u001b[0m\u001b[0;34m,\u001b[0m \u001b[0mi\u001b[0m\u001b[0;34m)\u001b[0m\u001b[0;34m:\u001b[0m\u001b[0;34m\u001b[0m\u001b[0;34m\u001b[0m\u001b[0m\n\u001b[1;32m      2\u001b[0m     \u001b[0;34m\"\"\" Renvoie un booléen indiquant si l'élément tab[i] est bien inférieur à tous les éléments suivants du tableau. \"\"\"\u001b[0m\u001b[0;34m\u001b[0m\u001b[0;34m\u001b[0m\u001b[0m\n\u001b[0;32m----> 3\u001b[0;31m     \u001b[0;32massert\u001b[0m \u001b[0;36m0\u001b[0m \u001b[0;34m<=\u001b[0m \u001b[0mi\u001b[0m \u001b[0;34m<\u001b[0m \u001b[0mlen\u001b[0m\u001b[0;34m(\u001b[0m\u001b[0mtab\u001b[0m\u001b[0;34m)\u001b[0m\u001b[0;34m,\u001b[0m \u001b[0;34m\"Le paramètre i doit être compris entre 0 et la taille du tableau len(tab) (exclu).\"\u001b[0m\u001b[0;34m\u001b[0m\u001b[0;34m\u001b[0m\u001b[0m\n\u001b[0m\u001b[1;32m      4\u001b[0m     \u001b[0;32mreturn\u001b[0m \u001b[0mall\u001b[0m\u001b[0;34m(\u001b[0m\u001b[0mtab\u001b[0m\u001b[0;34m[\u001b[0m\u001b[0mi\u001b[0m\u001b[0;34m]\u001b[0m \u001b[0;34m<=\u001b[0m \u001b[0mtab\u001b[0m\u001b[0;34m[\u001b[0m\u001b[0mj\u001b[0m\u001b[0;34m]\u001b[0m \u001b[0;32mfor\u001b[0m \u001b[0mj\u001b[0m \u001b[0;32min\u001b[0m \u001b[0mrange\u001b[0m\u001b[0;34m(\u001b[0m\u001b[0mi\u001b[0m\u001b[0;34m+\u001b[0m\u001b[0;36m1\u001b[0m\u001b[0;34m,\u001b[0m \u001b[0mlen\u001b[0m\u001b[0;34m(\u001b[0m\u001b[0mtab\u001b[0m\u001b[0;34m)\u001b[0m\u001b[0;34m)\u001b[0m\u001b[0;34m)\u001b[0m\u001b[0;34m\u001b[0m\u001b[0;34m\u001b[0m\u001b[0m\n",
      "\u001b[0;31mTypeError\u001b[0m: '<=' not supported between instances of 'int' and 'str'"
     ]
    }
   ],
   "source": [
    "# erreur de type : on ne s'est pas occupé de ce type d'erreur...\n",
    "tab = [7, 5, 1]\n",
    "est_inferieur(tab, \"a\")"
   ]
  },
  {
   "cell_type": "markdown",
   "id": "bc63fc8a-3a94-495f-863e-d02af35f6fe7",
   "metadata": {},
   "source": [
    "<div class=\"alert alert-warning\">\n",
    "    \n",
    "Reprendre les 2 fonctions `est_trie` et `mini` pécédentes en ajoutant une assertion pour gérer des erreurs possibles d'indices.\n",
    "</div>"
   ]
  },
  {
   "cell_type": "code",
   "execution_count": 24,
   "id": "2c2b07fb-4c2a-4b18-b32b-137b2ecb892e",
   "metadata": {},
   "outputs": [],
   "source": [
    "def est_trie(tab, imax=None, imin=0):\n",
    "    \"\"\" Renvoie un booléen indiquant si le tableau est trié entre les indices imini et imax (inclus).\n",
    "    Remarque sur les paramètres facultatifs : \n",
    "    1) si on ne fournit ni imax, ni imin, le tableau est analysé dans son intégralité.\n",
    "    2) si on fournit un seul paramètre (imax), le tableau est analysé de imin=0 jusqu'à imax.\n",
    "    \"\"\"\n",
    "    if imax == None:\n",
    "        imax = len(tab)-1\n",
    "    assert 0 <= imin <= imax < len(tab), \"Il faut imin <= imax, et compris dans les limites du tableau.\"\n",
    "    return sorted(tab[imin:imax+1]) == tab[imin:imax+1]"
   ]
  },
  {
   "cell_type": "code",
   "execution_count": 54,
   "id": "663a257b-6d57-4c2b-8582-bdc9d072f326",
   "metadata": {},
   "outputs": [],
   "source": [
    "def mini(tab, i1=0, i2=None):\n",
    "    \"\"\" Recherche l'indice de l'élément minimum dans le tableau tab\n",
    "    entre les indices i1 (inclus) et i2 (exclu).\n",
    "    Remarque sur les paramètres facultatifs : \n",
    "    1) si on ne fournit ni i1, ni i2, la recherche s'effectue dans l'intégralité du tableau.\n",
    "    2) si on fournit un seul paramètre (i1), la recherche s'effectue de i1 jusqu'à la fin du tableau.\n",
    "    \"\"\"\n",
    "    if i2 == None:\n",
    "        i2 = len(tab)\n",
    "    assert 0 <= i1 <= i2 <= len(tab), \"Il faut i1 <= i2, et compris dans les limites du tableau.\"\n",
    "    imini = i1\n",
    "    for i in range(i1, i2):\n",
    "        if tab[i] < tab[imini]:\n",
    "            imini = i\n",
    "    return imini"
   ]
  },
  {
   "cell_type": "markdown",
   "id": "04c1e5c1-8cb8-497f-a7d1-6df00fd6b596",
   "metadata": {
    "tags": []
   },
   "source": [
    "<h2 class=\"alert alert-info\">Spécification d'une fonction : précondition et postcondition</h2>"
   ]
  },
  {
   "cell_type": "markdown",
   "id": "c37cbf76-63e6-4a08-98d5-de8c697d423a",
   "metadata": {},
   "source": [
    "<div class=\"alert alert-danger\">\n",
    "\n",
    "On a déjà vu depuis le début de l'année qu'une fonction doit être bien **spécifiée** :\n",
    "\n",
    "- quel est le rôle de la fonction ?\n",
    "- quels sont les paramètres d'entrées ? (+ type et domaine de valeur)\n",
    "- quelle est la sortie ?\n",
    "\n",
    "Par ailleurs, la spécification peut aussi indiquer des **préconditions** et **postconditions** donnant des informations sur l'état des variables pour que la fonction joue correctement son rôle et sur l'état des variables à la sortie de la fonction.\n",
    "    \n",
    "Les préconditions et postconditions peuvent aussi être contrôlées avec des assertions.\n",
    "    \n",
    "</div>"
   ]
  },
  {
   "cell_type": "markdown",
   "id": "0393e2bf-d828-44cb-8fc9-b0e0e28c6ab1",
   "metadata": {
    "tags": []
   },
   "source": [
    "# Fonction d'insertion"
   ]
  },
  {
   "cell_type": "markdown",
   "id": "33430597-9da4-47e9-b57d-b4f49ef88923",
   "metadata": {},
   "source": [
    "On présente ci-dessous une fonction `insertion` dont voici la spécification complète :\n",
    "\n",
    "- Entrées : \n",
    "    - tab = un tableau d'entiers : list(int)\n",
    "    - imax = un indice du tableau : int\n",
    "- Sortie : None. (modification du tableau en place) \n",
    "\n",
    "Cette fonction a pour rôle d'insèrer l'element `tab[imax]` dans la partie 'gauche' du tableau  qui est triée jusqu'à `(imax-1)`. \n",
    "A l'issue de l'insertion, le tableau doit être trié jusqu'à `imax`.\n",
    "\n",
    "- Précondition : le tableau est trié de l'indice i=0 jusqu'à l'indice imax-1\n",
    "- Postcondition : le tableau est trié jusqu'à l'indice imax (inclus).\n",
    "\n",
    "*Exemples d'utilisation :*\n",
    "\n",
    "    >>> tab = [3, 6, 18, 5, 15] # tableau trié jusqu'à i = 2, donc imax = 3\n",
    "    >>> insertion(tab, 3)\n",
    "    >>> tab\n",
    "    [3, 5, 6, 18, 15]"
   ]
  },
  {
   "cell_type": "markdown",
   "id": "b3f1e2d0-642c-4c0d-98aa-35a4b04ae4b1",
   "metadata": {},
   "source": [
    "<div class=\"alert alert-warning\">\n",
    "    \n",
    "- Compléter le code de la fonction `insertion` en ajoutant une assertion pour contrôler la précondtion et une assertion pour contrôler la postcondition.\n",
    "- Faire quelques tests pour contrôler son bon fonctionnement. Exécuter au moins un test qui fasse échouer la précondition.    \n",
    "    \n",
    "Remarque : on peut se servir de la fonction `est_trie` définie précédemment.\n",
    "</div>"
   ]
  },
  {
   "cell_type": "code",
   "execution_count": 26,
   "id": "17a61797-5fee-43f0-80d0-8fd8969157c4",
   "metadata": {},
   "outputs": [],
   "source": [
    "def insertion(tab, imax):\n",
    "    \"\"\" Insère l'element tab[imax] dans la partie du tableau qui est triée jusqu'à (imax-1). \n",
    "    A l'issue de l'insertion, le tableau doit être trié jusqu'à imax. \"\"\"\n",
    "    # programmation défensive\n",
    "    n = len(tab)\n",
    "    assert  n > 1, \"Le tableau doit avoir au moins 2 éléments.\"\n",
    "    assert 0 <= imax < n, \"imax doit être compris dans les limites du tableau.\"\n",
    "    \n",
    "    # vérification précondition\n",
    "    # A VOUS DE JOUER\n",
    "    # ...\n",
    "    \n",
    "    element = tab[imax]\n",
    "    i = imax - 1\n",
    "    while i >= 0 and tab[i] > element:\n",
    "        tab[i+1] = tab[i]\n",
    "        i = i - 1\n",
    "        print(f\"variant = {i}\")\n",
    "    tab[i+1] = element\n",
    "        \n",
    "    # vérification postcondition \n",
    "    # A VOUS DE JOUER\n",
    "    # ..."
   ]
  },
  {
   "cell_type": "code",
   "execution_count": 27,
   "id": "4398f4bf-d238-4e40-90bf-abff545dca59",
   "metadata": {},
   "outputs": [],
   "source": [
    "def insertion(tab, imax):\n",
    "    \"\"\" Insère l'element tab[imax] dans la partie du tableau qui est triée jusqu'à (imax-1). \n",
    "    A l'issue de l'insertion, le tableau doit être trié jusqu'à imax. \"\"\"\n",
    "    # programmation défensive\n",
    "    n = len(tab)\n",
    "    assert  n > 1, \"Le tableau doit avoir au moins 2 éléments.\"\n",
    "    assert 0 <= imax < n, \"imax doit être compris dans les limites du tableau.\"\n",
    "    \n",
    "    # vérification précondition\n",
    "    assert est_trie(tab, imax-1), \"Erreur précondition : le tableau n'est pas trié jusqu'à imax-1\"\n",
    "    \n",
    "    element = tab[imax]\n",
    "    i = imax - 1\n",
    "    while tab[i] > element:\n",
    "        tab[i+1] = tab[i]\n",
    "        i = i - 1\n",
    "    tab[i+1] = element\n",
    "        \n",
    "    # vérification postcondition \n",
    "    assert est_trie(tab, imax), \"Erreur postcondition : le tableau n'est pas trié jusqu'à imax\""
   ]
  },
  {
   "cell_type": "code",
   "execution_count": 28,
   "id": "9ddf493d-c7e4-4db6-b1cb-9ed79f6446e8",
   "metadata": {},
   "outputs": [
    {
     "ename": "AssertionError",
     "evalue": "Erreur précondition : le tableau n'est pas trié jusqu'à imax-1",
     "output_type": "error",
     "traceback": [
      "\u001b[0;31m---------------------------------------------------------------------------\u001b[0m",
      "\u001b[0;31mAssertionError\u001b[0m                            Traceback (most recent call last)",
      "\u001b[0;32m/tmp/ipykernel_37158/3481912691.py\u001b[0m in \u001b[0;36m<cell line: 2>\u001b[0;34m()\u001b[0m\n\u001b[1;32m      1\u001b[0m \u001b[0mtab\u001b[0m \u001b[0;34m=\u001b[0m \u001b[0;34m[\u001b[0m\u001b[0;36m3\u001b[0m\u001b[0;34m,\u001b[0m \u001b[0;36m6\u001b[0m\u001b[0;34m,\u001b[0m \u001b[0;36m18\u001b[0m\u001b[0;34m,\u001b[0m \u001b[0;36m2\u001b[0m\u001b[0;34m,\u001b[0m \u001b[0;36m5\u001b[0m\u001b[0;34m]\u001b[0m \u001b[0;31m# tableau trié jusqu'à i = 2, donc imax = 3\u001b[0m\u001b[0;34m\u001b[0m\u001b[0;34m\u001b[0m\u001b[0m\n\u001b[0;32m----> 2\u001b[0;31m \u001b[0minsertion\u001b[0m\u001b[0;34m(\u001b[0m\u001b[0mtab\u001b[0m\u001b[0;34m,\u001b[0m \u001b[0;36m4\u001b[0m\u001b[0;34m)\u001b[0m\u001b[0;34m\u001b[0m\u001b[0;34m\u001b[0m\u001b[0m\n\u001b[0m",
      "\u001b[0;32m/tmp/ipykernel_37158/4129215146.py\u001b[0m in \u001b[0;36minsertion\u001b[0;34m(tab, imax)\u001b[0m\n\u001b[1;32m      8\u001b[0m \u001b[0;34m\u001b[0m\u001b[0m\n\u001b[1;32m      9\u001b[0m     \u001b[0;31m# vérification précondition\u001b[0m\u001b[0;34m\u001b[0m\u001b[0;34m\u001b[0m\u001b[0m\n\u001b[0;32m---> 10\u001b[0;31m     \u001b[0;32massert\u001b[0m \u001b[0mest_trie\u001b[0m\u001b[0;34m(\u001b[0m\u001b[0mtab\u001b[0m\u001b[0;34m,\u001b[0m \u001b[0mimax\u001b[0m\u001b[0;34m-\u001b[0m\u001b[0;36m1\u001b[0m\u001b[0;34m)\u001b[0m\u001b[0;34m,\u001b[0m \u001b[0;34m\"Erreur précondition : le tableau n'est pas trié jusqu'à imax-1\"\u001b[0m\u001b[0;34m\u001b[0m\u001b[0;34m\u001b[0m\u001b[0m\n\u001b[0m\u001b[1;32m     11\u001b[0m \u001b[0;34m\u001b[0m\u001b[0m\n\u001b[1;32m     12\u001b[0m     \u001b[0melement\u001b[0m \u001b[0;34m=\u001b[0m \u001b[0mtab\u001b[0m\u001b[0;34m[\u001b[0m\u001b[0mimax\u001b[0m\u001b[0;34m]\u001b[0m\u001b[0;34m\u001b[0m\u001b[0;34m\u001b[0m\u001b[0m\n",
      "\u001b[0;31mAssertionError\u001b[0m: Erreur précondition : le tableau n'est pas trié jusqu'à imax-1"
     ]
    }
   ],
   "source": [
    "tab = [3, 6, 18, 2, 5] # tableau trié jusqu'à i = 2, donc imax = 3\n",
    "insertion(tab, 4)"
   ]
  },
  {
   "cell_type": "code",
   "execution_count": 29,
   "id": "900ffd4b-764e-4f7d-a8d2-b5b87ac9da0a",
   "metadata": {},
   "outputs": [
    {
     "data": {
      "text/plain": [
       "[3, 5, 6, 18, 15]"
      ]
     },
     "execution_count": 29,
     "metadata": {},
     "output_type": "execute_result"
    }
   ],
   "source": [
    "tab = [3, 6, 18, 5, 15] # tableau trié jusqu'à i = 2, donc imax = 3\n",
    "insertion(tab, 3)\n",
    "tab"
   ]
  },
  {
   "cell_type": "code",
   "execution_count": 30,
   "id": "3b72d422-2c60-41d7-a3d0-060e293e6ec4",
   "metadata": {},
   "outputs": [
    {
     "data": {
      "text/plain": [
       "[3, 6, 18, 20]"
      ]
     },
     "execution_count": 30,
     "metadata": {},
     "output_type": "execute_result"
    }
   ],
   "source": [
    "tab = [3, 6, 18, 20] # tableau trié jusqu'à i = 2, donc imax = 3\n",
    "insertion(tab, 3)\n",
    "tab"
   ]
  },
  {
   "cell_type": "code",
   "execution_count": 31,
   "id": "e62c5990-eda6-4b43-9e56-959a53fbd82d",
   "metadata": {},
   "outputs": [
    {
     "data": {
      "text/plain": [
       "[3, 6, 18, 20, 50]"
      ]
     },
     "execution_count": 31,
     "metadata": {},
     "output_type": "execute_result"
    }
   ],
   "source": [
    "tab = [3, 6, 18, 20, 50] # tableau trié entièrement\n",
    "insertion(tab, len(tab)-1)\n",
    "tab"
   ]
  },
  {
   "cell_type": "code",
   "execution_count": 32,
   "id": "f5c008dd-1cd6-4fa3-abe6-285154dce6b3",
   "metadata": {},
   "outputs": [
    {
     "ename": "AssertionError",
     "evalue": "Le tableau doit avoir au moins 2 éléments.",
     "output_type": "error",
     "traceback": [
      "\u001b[0;31m---------------------------------------------------------------------------\u001b[0m",
      "\u001b[0;31mAssertionError\u001b[0m                            Traceback (most recent call last)",
      "\u001b[0;32m/tmp/ipykernel_37158/3931692626.py\u001b[0m in \u001b[0;36m<cell line: 2>\u001b[0;34m()\u001b[0m\n\u001b[1;32m      1\u001b[0m \u001b[0mtab\u001b[0m \u001b[0;34m=\u001b[0m \u001b[0;34m[\u001b[0m\u001b[0;36m3\u001b[0m\u001b[0;34m]\u001b[0m \u001b[0;31m# tableau à 1 seul élément\u001b[0m\u001b[0;34m\u001b[0m\u001b[0;34m\u001b[0m\u001b[0m\n\u001b[0;32m----> 2\u001b[0;31m \u001b[0minsertion\u001b[0m\u001b[0;34m(\u001b[0m\u001b[0mtab\u001b[0m\u001b[0;34m,\u001b[0m \u001b[0mlen\u001b[0m\u001b[0;34m(\u001b[0m\u001b[0mtab\u001b[0m\u001b[0;34m)\u001b[0m\u001b[0;34m-\u001b[0m\u001b[0;36m1\u001b[0m\u001b[0;34m)\u001b[0m\u001b[0;34m\u001b[0m\u001b[0;34m\u001b[0m\u001b[0m\n\u001b[0m\u001b[1;32m      3\u001b[0m \u001b[0mtab\u001b[0m\u001b[0;34m\u001b[0m\u001b[0;34m\u001b[0m\u001b[0m\n",
      "\u001b[0;32m/tmp/ipykernel_37158/4129215146.py\u001b[0m in \u001b[0;36minsertion\u001b[0;34m(tab, imax)\u001b[0m\n\u001b[1;32m      4\u001b[0m     \u001b[0;31m# programmation défensive\u001b[0m\u001b[0;34m\u001b[0m\u001b[0;34m\u001b[0m\u001b[0m\n\u001b[1;32m      5\u001b[0m     \u001b[0mn\u001b[0m \u001b[0;34m=\u001b[0m \u001b[0mlen\u001b[0m\u001b[0;34m(\u001b[0m\u001b[0mtab\u001b[0m\u001b[0;34m)\u001b[0m\u001b[0;34m\u001b[0m\u001b[0;34m\u001b[0m\u001b[0m\n\u001b[0;32m----> 6\u001b[0;31m     \u001b[0;32massert\u001b[0m  \u001b[0mn\u001b[0m \u001b[0;34m>\u001b[0m \u001b[0;36m1\u001b[0m\u001b[0;34m,\u001b[0m \u001b[0;34m\"Le tableau doit avoir au moins 2 éléments.\"\u001b[0m\u001b[0;34m\u001b[0m\u001b[0;34m\u001b[0m\u001b[0m\n\u001b[0m\u001b[1;32m      7\u001b[0m     \u001b[0;32massert\u001b[0m \u001b[0;36m0\u001b[0m \u001b[0;34m<=\u001b[0m \u001b[0mimax\u001b[0m \u001b[0;34m<\u001b[0m \u001b[0mn\u001b[0m\u001b[0;34m,\u001b[0m \u001b[0;34m\"imax doit être compris dans les limites du tableau.\"\u001b[0m\u001b[0;34m\u001b[0m\u001b[0;34m\u001b[0m\u001b[0m\n\u001b[1;32m      8\u001b[0m \u001b[0;34m\u001b[0m\u001b[0m\n",
      "\u001b[0;31mAssertionError\u001b[0m: Le tableau doit avoir au moins 2 éléments."
     ]
    }
   ],
   "source": [
    "tab = [3] # tableau à 1 seul élément\n",
    "insertion(tab, len(tab)-1)\n",
    "tab"
   ]
  },
  {
   "cell_type": "markdown",
   "id": "56f054a5-53f1-48f3-a2ad-a3cb7e660ab3",
   "metadata": {
    "tags": []
   },
   "source": [
    "<h2 class=\"alert alert-info\">Variant de boucle</h2>"
   ]
  },
  {
   "cell_type": "markdown",
   "id": "cf5a9538-f11d-495c-ba59-a0e857ddeada",
   "metadata": {},
   "source": [
    "<div class=\"alert alert-danger\">\n",
    "\n",
    "Dans ce cadre d'une programmation \"propre\" et de tests, il reste à s'assurer que les boucles terminent bien.\n",
    "\n",
    "*Rappel* : un **variant de boucle** est une **grandeur qui doit rester positive pour exécuter la boucle** mais qui **décroit** au cours des itérations. Un variant de boucle permet de s'assurer qu'une boucle termine lorsque celui prend une valeur négative.\n",
    "</div>"
   ]
  },
  {
   "cell_type": "markdown",
   "id": "85cff713-50fc-459f-9ff6-dc2dba6b41c4",
   "metadata": {
    "tags": []
   },
   "source": [
    "## Avec une boucle for\n",
    "Il est évident qu'une boucle for termine toujours, mais on peut tout de même écrire un variant de boucle dans ce cas."
   ]
  },
  {
   "cell_type": "code",
   "execution_count": 33,
   "id": "f0758afb-07b7-407e-9218-561f6803a4a6",
   "metadata": {},
   "outputs": [],
   "source": [
    "def imini(tab):\n",
    "    n = len(tab)\n",
    "    mini = 0\n",
    "    for i in range(n):\n",
    "        if tab[i] < tab[mini]:\n",
    "            mini = i\n",
    "        print(f\"variant = {(n-1) - i}\")\n",
    "    return mini"
   ]
  },
  {
   "cell_type": "code",
   "execution_count": 34,
   "id": "a2157644-6530-4242-99e7-7eb5f25f9185",
   "metadata": {},
   "outputs": [
    {
     "data": {
      "text/plain": [
       "[75, 84, 48, 60, 37, 21, 35, 5, 48, 83]"
      ]
     },
     "execution_count": 34,
     "metadata": {},
     "output_type": "execute_result"
    }
   ],
   "source": [
    "tab = [randint(1, 100) for i in range(10)]\n",
    "tab"
   ]
  },
  {
   "cell_type": "code",
   "execution_count": 35,
   "id": "e7397a19-8bd2-4295-ac63-64ccaee0daaf",
   "metadata": {},
   "outputs": [
    {
     "name": "stdout",
     "output_type": "stream",
     "text": [
      "variant = 9\n",
      "variant = 8\n",
      "variant = 7\n",
      "variant = 6\n",
      "variant = 5\n",
      "variant = 4\n",
      "variant = 3\n",
      "variant = 2\n",
      "variant = 1\n",
      "variant = 0\n"
     ]
    },
    {
     "data": {
      "text/plain": [
       "7"
      ]
     },
     "execution_count": 35,
     "metadata": {},
     "output_type": "execute_result"
    }
   ],
   "source": [
    "imini(tab)"
   ]
  },
  {
   "cell_type": "markdown",
   "id": "78134b27-ed03-43d5-9a7e-d49b0a008af2",
   "metadata": {
    "tags": []
   },
   "source": [
    "## Avec une boucle while\n",
    "L'utilisation d'une boucle while est beaucoup plus \"dangereuse\" (elle pourrait ne jamais s'arrêter) et l'utilité du variant de boucle est plus intéressante ici."
   ]
  },
  {
   "cell_type": "markdown",
   "id": "c96ba0dd-d309-4bdc-85ff-aa46922c47dc",
   "metadata": {},
   "source": [
    "<div class=\"alert alert-warning\">\n",
    "    \n",
    "Compléter la fonction suivante pour afficher le variant de boucle à chaque itération.\n",
    "    \n",
    "</div>"
   ]
  },
  {
   "cell_type": "code",
   "execution_count": 36,
   "id": "2b0c388a-cd00-4221-8d43-3ca19d126fce",
   "metadata": {},
   "outputs": [],
   "source": [
    "def test(seuil):\n",
    "    i = 1\n",
    "    while i < seuil:\n",
    "        i = i * 2\n",
    "        # A VOUS DE JOUER : compléter les pointillés\n",
    "        #print(...)\n",
    "    return i"
   ]
  },
  {
   "cell_type": "code",
   "execution_count": 37,
   "id": "db844965-15ce-43fe-98bc-6e2e38471cfe",
   "metadata": {},
   "outputs": [],
   "source": [
    "def test(seuil):\n",
    "    i = 1\n",
    "    while i < seuil:\n",
    "        i = i * 2\n",
    "        print(f\"variant = {seuil - i}\")\n",
    "    return i"
   ]
  },
  {
   "cell_type": "code",
   "execution_count": 38,
   "id": "4b52e975-5c96-4eeb-8208-6c95aa00c8fc",
   "metadata": {},
   "outputs": [
    {
     "name": "stdout",
     "output_type": "stream",
     "text": [
      "variant = 48\n",
      "variant = 46\n",
      "variant = 42\n",
      "variant = 34\n",
      "variant = 18\n",
      "variant = -14\n"
     ]
    },
    {
     "data": {
      "text/plain": [
       "64"
      ]
     },
     "execution_count": 38,
     "metadata": {},
     "output_type": "execute_result"
    }
   ],
   "source": [
    "test(50)"
   ]
  },
  {
   "cell_type": "markdown",
   "id": "497c85e3-6f60-44bf-b15f-f1c390230d7b",
   "metadata": {
    "tags": []
   },
   "source": [
    "## Retour sur la fonction `insertion`\n",
    "Si vous n'avez pas fait de tests suffisamment pertinents, vous avez peut-être raté un problème très grave dans la fonction proposée. Si l'élément à insérer doit prendre sa place en 1ère position, la fonction rentre dans une boucle infinie... En réalité, cette possibilité de boucle infinie est évitée car une erreur d'indice (IndexError) vient à notre secours. Mais quand même, la boucle while est mal contruite et trouver un invariant n'est pas possible dans la version qui a été vue précédemment."
   ]
  },
  {
   "cell_type": "markdown",
   "id": "fc4105a6-e271-4ae0-93de-6476ad5c4d77",
   "metadata": {},
   "source": [
    "<div class=\"alert alert-warning\">\n",
    "    \n",
    "Reprendre le code de la fonction `insertion` en modifiant la condition de la boucle while pour assurer sa terminaison et ajouter une ligne pour afficher l'invariant de la boucle. \n",
    "    \n",
    "Créer ensuite un test s'assurant que la boucle termine bien toujours (il faut que l'élément à insérer s'intègre à l'indice 0).\n",
    "    \n",
    "</div>"
   ]
  },
  {
   "cell_type": "code",
   "execution_count": null,
   "id": "d34ef268-8b53-4a63-8cf6-062d38ebee92",
   "metadata": {},
   "outputs": [],
   "source": [
    "def insertion(tab, imax):\n",
    "    \"\"\" Insère l'element tab[imax] dans la partie du tableau qui est triée jusqu'à (imax-1). \n",
    "    A l'issue de l'insertion, le tableau doit être trié jusqu'à imax. \"\"\"\n",
    "    n = len(tab)\n",
    "    assert  n > 1, \"Le tableau doit avoir au moins 2 éléments.\"\n",
    "    assert 0 <= imax < n, \"imax doit être compris dans les limites du tableau.\"\n",
    "    \n",
    "    # vérification précondition\n",
    "    assert est_trie(tab, imax-1), \"Erreur précondition : le tableau n'est pas trié jusqu'à imax-1\"\n",
    "    \n",
    "    element = tab[imax]\n",
    "    i = imax - 1\n",
    "    #  A VOUS DE JOUER : compléter la condition ci-dessous \n",
    "    #while tab[i] > element ...:\n",
    "        tab[i+1] = tab[i]\n",
    "        i = i - 1\n",
    "        #  A VOUS DE JOUER : ajouter une ligne pour afficher le variant de boucle\n",
    "        # ...\n",
    "    tab[i+1] = element\n",
    "        \n",
    "    # vérification postcondition \n",
    "    assert est_trie(tab, imax), \"Erreur postcondition : le tableau n'est pas trié jusqu'à imax\""
   ]
  },
  {
   "cell_type": "code",
   "execution_count": 49,
   "id": "2f249eaa-a653-4c4d-a2b8-13af98813e7d",
   "metadata": {},
   "outputs": [],
   "source": [
    "def insertion(tab, imax):\n",
    "    \"\"\" Insère l'element tab[imax] dans la partie du tableau qui est triée jusqu'à (imax-1). \n",
    "    A l'issue de l'insertion, le tableau doit être trié jusqu'à imax. \"\"\"\n",
    "    n = len(tab)\n",
    "    assert  n > 1, \"Le tableau doit avoir au moins 2 éléments.\"\n",
    "    assert 0 <= imax < n, \"imax doit être compris dans les limites du tableau.\"\n",
    "    \n",
    "    # vérification précondition\n",
    "    assert est_trie(tab, imax-1), \"Erreur précondition : le tableau n'est pas trié jusqu'à imax-1\"\n",
    "    \n",
    "    element = tab[imax]\n",
    "    i = imax - 1\n",
    "    while i >= 0 and tab[i] > element:\n",
    "        tab[i+1] = tab[i]\n",
    "        i = i - 1\n",
    "        #print(f\"variant = {i}\")\n",
    "    tab[i+1] = element\n",
    "        \n",
    "    # vérification postcondition \n",
    "    assert est_trie(tab, imax), \"Erreur postcondition : le tableau n'est pas trié jusqu'à imax\""
   ]
  },
  {
   "cell_type": "code",
   "execution_count": 50,
   "id": "cc4f72b3-ca93-453e-8668-22761e3a6785",
   "metadata": {},
   "outputs": [
    {
     "data": {
      "text/plain": [
       "[-2, 3, 6, 18, 5]"
      ]
     },
     "execution_count": 50,
     "metadata": {},
     "output_type": "execute_result"
    }
   ],
   "source": [
    "# Test pour afficher l'invariant et contrôler que la boucle se termine\n",
    "tab = [3, 6, 18, -2, 5] # tableau trié jusqu'à i = 2, donc imax = 3\n",
    "insertion(tab, 3)\n",
    "tab"
   ]
  },
  {
   "cell_type": "markdown",
   "id": "0fb227a0-8d57-4db2-a1ff-e10e4b6f970e",
   "metadata": {
    "tags": []
   },
   "source": [
    "<h2 class=\"alert alert-info\">Fonctions de tris, et invariants</h2>"
   ]
  },
  {
   "cell_type": "markdown",
   "id": "3a85613d-05ba-40c2-962e-4deaaca38b57",
   "metadata": {},
   "source": [
    "<div class=\"alert alert-warning\">\n",
    "    \n",
    "- Écrire une fonction de tri par sélection et une fonction de tri par insertion.\n",
    "    \n",
    "- On pourra travailler de façon modulaire en exploitant les fonctions `insertion` et `mini` définies en début de TP.\n",
    "    \n",
    "- Penser à ajouter une assertion en fin de fin fonction pour s'assurer des postconditions (le tableau doit bien être trié).\n",
    "</div>"
   ]
  },
  {
   "cell_type": "markdown",
   "id": "5d27f975-624d-460c-b03e-a7d209e63e56",
   "metadata": {
    "tags": []
   },
   "source": [
    "# Tri par insertion"
   ]
  },
  {
   "cell_type": "code",
   "execution_count": 51,
   "id": "36232f7d-6a22-4054-8026-035aee25f81e",
   "metadata": {},
   "outputs": [],
   "source": [
    "def tri_insertion(tab):\n",
    "    \"\"\" Effectue un tri par insertion du tableau. \"\"\"\n",
    "    # A VOUS DE JOUER\n",
    "    # ...\n",
    "    for i in range(1, len(tab)):\n",
    "        insertion(tab, i)\n",
    "    assert est_trie(tab), \"Pb de postcondition, le tableau n'est pas trié dans son intégralité !\""
   ]
  },
  {
   "cell_type": "code",
   "execution_count": 52,
   "id": "6757ed82-5ee7-4971-8839-d5ccfcb5564c",
   "metadata": {},
   "outputs": [
    {
     "data": {
      "text/plain": [
       "[16, 26, 46, 51, 51, 54, 54, 56, 62, 82, 87, 90, 92, 94, 96]"
      ]
     },
     "execution_count": 52,
     "metadata": {},
     "output_type": "execute_result"
    }
   ],
   "source": [
    "# test\n",
    "tab = [randint(1, 100) for i in range(15)]\n",
    "tri_insertion(tab)\n",
    "tab"
   ]
  },
  {
   "cell_type": "markdown",
   "id": "6e18de72-4afb-4068-8aeb-5c32e8f56389",
   "metadata": {},
   "source": [
    "# Tri par sélection"
   ]
  },
  {
   "cell_type": "code",
   "execution_count": 61,
   "id": "3294fb10-36a4-4fbb-aebd-064ef18fd9e4",
   "metadata": {},
   "outputs": [],
   "source": [
    "def tri_selection(tab):\n",
    "    \"\"\" Effectue un tri par sélection du tableau. \"\"\"\n",
    "    # A VOUS DE JOUER\n",
    "    # ...\n",
    "    for i in range(len(tab)-1):\n",
    "        imini = mini(tab, i)\n",
    "        tab[imini], tab[i] = tab[i], tab[imini]\n",
    "    assert est_trie(tab), \"Pb de postcondition, le tableau n'est pas trié dans son intégralité !\""
   ]
  },
  {
   "cell_type": "code",
   "execution_count": 62,
   "id": "03946033-7214-4ae6-93be-f9a24f27469b",
   "metadata": {},
   "outputs": [
    {
     "data": {
      "text/plain": [
       "[10, 23, 29, 29, 37, 46, 51, 57, 59, 63, 65, 67, 70, 76, 93]"
      ]
     },
     "execution_count": 62,
     "metadata": {},
     "output_type": "execute_result"
    }
   ],
   "source": [
    "# test\n",
    "tab = [randint(1, 100) for i in range(15)]\n",
    "tri_selection(tab)\n",
    "tab"
   ]
  },
  {
   "cell_type": "markdown",
   "id": "037e83b4-bc9b-4e43-bc93-661e168135bb",
   "metadata": {},
   "source": [
    "<div class=\"alert alert-warning\">\n",
    "    \n",
    "Pour finir, vous devez ajouter une assertion en fin de boucle for (dans chaque fonction de tri) pour contrôler les invariants de boucle.\n",
    "    \n",
    "Puisque l'invariant est une propriété qui doit rester vraie à chaque itération de boucle, on peut définir une expression logique qui vérifie cette propriété et qui sera évaluée à travers une assertion à chaque itération.\n",
    "</div>"
   ]
  },
  {
   "cell_type": "markdown",
   "id": "751743ca-2aff-424a-8290-597bf8780ccc",
   "metadata": {},
   "source": [
    "On rappelle les invariants pour les 2 fonction étudiées.\n",
    "\n",
    "1) Tri par insertion : le tableau est trié jusqu'à l'indice i.\n",
    "\n",
    "2) Tri par sélection : le tableau est trié jusqu'à l'indice i et tous les autres éléments sont plus grands que tab[i]"
   ]
  },
  {
   "cell_type": "markdown",
   "id": "ca5268cc-b591-4885-8814-c9127e93b62d",
   "metadata": {
    "tags": []
   },
   "source": [
    "# Tri par insertion"
   ]
  },
  {
   "cell_type": "code",
   "execution_count": 63,
   "id": "af313d67-cbb5-43d5-861e-0150bf839cad",
   "metadata": {},
   "outputs": [],
   "source": [
    "def tri_insertion(tab):\n",
    "    \"\"\" Effectue un tri par insertion du tableau. \"\"\"\n",
    "    # A VOUS DE JOUER\n",
    "    # ...\n",
    "    for i in range(1, len(tab)):\n",
    "        insertion(tab, i)\n",
    "        assert est_trie(tab, i)   # Invariant : le tableau est trié jusqu'à l'indice i.\n",
    "    assert est_trie(tab), \"Pb de postcondition, le tableau n'est pas trié dans son intégralité !\""
   ]
  },
  {
   "cell_type": "code",
   "execution_count": 64,
   "id": "b31d7c63-ca7e-47d2-a70d-dfcab01d38c8",
   "metadata": {},
   "outputs": [
    {
     "data": {
      "text/plain": [
       "[2, 6, 25, 36, 39, 43, 46, 48, 51, 65, 65, 75, 87, 97, 99]"
      ]
     },
     "execution_count": 64,
     "metadata": {},
     "output_type": "execute_result"
    }
   ],
   "source": [
    "# test\n",
    "tab = [randint(1, 100) for i in range(15)]\n",
    "tri_insertion(tab)\n",
    "tab"
   ]
  },
  {
   "cell_type": "markdown",
   "id": "d1800e14-6e19-4b03-831e-796b932f9ebf",
   "metadata": {},
   "source": [
    "# Tri par sélection"
   ]
  },
  {
   "cell_type": "code",
   "execution_count": 65,
   "id": "4a9e9730-35fe-4cfb-b03a-a8331e4147b4",
   "metadata": {},
   "outputs": [],
   "source": [
    "def tri_selection(tab):\n",
    "    \"\"\" Effectue un tri par sélection du tableau. \"\"\"\n",
    "    for i in range(len(tab)-1):\n",
    "        imini = mini(tab, i)\n",
    "        tab[imini], tab[i] = tab[i], tab[imini]\n",
    "        assert est_trie(tab, i) and est_inferieur(tab, i) # Invariant :  le tableau est trié jusqu'à l'indice i et tous les autres éléments sont plus grands que tab[i]\n",
    "    assert est_trie(tab), \"Pb de postcondition, le tableau n'est pas trié dans son intégralité !\""
   ]
  },
  {
   "cell_type": "code",
   "execution_count": 66,
   "id": "e379c7d2-1b13-48a5-9fad-0c2aa56f6364",
   "metadata": {},
   "outputs": [
    {
     "data": {
      "text/plain": [
       "[2, 3, 15, 16, 26, 30, 30, 32, 32, 44, 50, 71, 73, 76, 81]"
      ]
     },
     "execution_count": 66,
     "metadata": {},
     "output_type": "execute_result"
    }
   ],
   "source": [
    "# test\n",
    "tab = [randint(1, 100) for i in range(15)]\n",
    "tri_selection(tab)\n",
    "tab"
   ]
  },
  {
   "cell_type": "code",
   "execution_count": null,
   "id": "700b1d85-48b2-4050-ada0-ce453775d5c8",
   "metadata": {},
   "outputs": [],
   "source": []
  }
 ],
 "metadata": {
  "kernelspec": {
   "display_name": "Python 3",
   "language": "python",
   "name": "python3"
  },
  "language_info": {
   "codemirror_mode": {
    "name": "ipython",
    "version": 3
   },
   "file_extension": ".py",
   "mimetype": "text/x-python",
   "name": "python",
   "nbconvert_exporter": "python",
   "pygments_lexer": "ipython3",
   "version": "3.10.1"
  }
 },
 "nbformat": 4,
 "nbformat_minor": 5
}
