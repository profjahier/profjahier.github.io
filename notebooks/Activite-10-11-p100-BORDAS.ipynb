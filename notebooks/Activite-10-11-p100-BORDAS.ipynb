{
 "cells": [
  {
   "cell_type": "markdown",
   "metadata": {},
   "source": [
    "# Activité n°10 p 100"
   ]
  },
  {
   "cell_type": "markdown",
   "metadata": {},
   "source": [
    "### Énoncé de départ"
   ]
  },
  {
   "cell_type": "code",
   "execution_count": 2,
   "metadata": {},
   "outputs": [
    {
     "name": "stdout",
     "output_type": "stream",
     "text": [
      "Moyenne annuelle indice no2 : 33.41208791208791\n"
     ]
    }
   ],
   "source": [
    "f = open(\"Chap5_indices_IDF_2017.csv\", \"r\")\n",
    "entete = f.readline()\n",
    "s_no2, n = 0, 0\n",
    "ligne = f.readline()\n",
    "while ligne != \"\":\n",
    "    date, ninsee, no2, o3, pm10 = ligne.split(\",\")\n",
    "    if ninsee == '93066':\n",
    "        n += 1\n",
    "        s_no2 += int(no2)\n",
    "    ligne = f.readline()\n",
    "print(\"Moyenne annuelle indice no2 :\", s_no2 / n)\n",
    "f.close()"
   ]
  },
  {
   "cell_type": "markdown",
   "metadata": {},
   "source": [
    "### Modification du programme initial\n",
    "\n",
    "Modifier le programme pour qu'il calcule également la moyenne des indices o3 et pm10."
   ]
  },
  {
   "cell_type": "code",
   "execution_count": 1,
   "metadata": {},
   "outputs": [
    {
     "name": "stdout",
     "output_type": "stream",
     "text": [
      "Moyenne annuelle indice no2 : 33.41208791208791\n"
     ]
    }
   ],
   "source": [
    "f = open(\"Chap5_indices_IDF_2017.csv\", \"r\")\n",
    "entete = f.readline()\n",
    "s_no2, n = 0, 0\n",
    "ligne = f.readline()\n",
    "while ligne != \"\":\n",
    "    date, ninsee, no2, o3, pm10 = ligne.split(\",\")\n",
    "    if ninsee == '93066':\n",
    "        n += 1\n",
    "        s_no2 += int(no2)\n",
    "    ligne = f.readline()\n",
    "print(\"Moyenne annuelle indice no2 :\", s_no2 / n)\n",
    "f.close()"
   ]
  },
  {
   "cell_type": "markdown",
   "metadata": {},
   "source": [
    "# Activité n°11 p 100\n",
    "\n",
    "En s'appuyant sur le programme précédent qui exploite le fichier qui contient les infos sur toutes les villes d'Ile de France, sélectionner seulement les lignes qui concernent Paris (ninsee = 75) et écrire ces lignes dans un nouveau fichier nommé ```indicesPARIS.csv```"
   ]
  },
  {
   "cell_type": "code",
   "execution_count": 3,
   "metadata": {},
   "outputs": [
    {
     "name": "stdout",
     "output_type": "stream",
     "text": [
      "Moyenne annuelle indice no2 : 33.41208791208791\n"
     ]
    }
   ],
   "source": [
    "f = open(\"Chap5_indices_IDF_2017.csv\", \"r\")\n",
    "entete = f.readline()\n",
    "s_no2, n = 0, 0\n",
    "ligne = f.readline()\n",
    "while ligne != \"\":\n",
    "    date, ninsee, no2, o3, pm10 = ligne.split(\",\")\n",
    "    if ninsee == '93066':\n",
    "        n += 1\n",
    "        s_no2 += int(no2)\n",
    "    ligne = f.readline()\n",
    "print(\"Moyenne annuelle indice no2 :\", s_no2 / n)\n",
    "f.close()"
   ]
  },
  {
   "cell_type": "code",
   "execution_count": null,
   "metadata": {},
   "outputs": [],
   "source": []
  }
 ],
 "metadata": {
  "kernelspec": {
   "display_name": "Python 3.8.1 64-bit ('python38': conda)",
   "language": "python",
   "name": "python38164bitpython38conda56991d5ad1414e06a4dcd344400cf456"
  },
  "language_info": {
   "codemirror_mode": {
    "name": "ipython",
    "version": 3
   },
   "file_extension": ".py",
   "mimetype": "text/x-python",
   "name": "python",
   "nbconvert_exporter": "python",
   "pygments_lexer": "ipython3",
   "version": "3.8.1"
  }
 },
 "nbformat": 4,
 "nbformat_minor": 4
}
