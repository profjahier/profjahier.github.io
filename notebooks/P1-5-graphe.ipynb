{
 "cells": [
  {
   "cell_type": "markdown",
   "metadata": {},
   "source": [
    "<h1 class=\"alert alert-success\">Représentation des graphes</h1>"
   ]
  },
  {
   "cell_type": "markdown",
   "metadata": {},
   "source": [
    "On représente le réseau d'ordinateurs suivant (voir cours P3.III-Routage) :\n",
    "\n",
    "![Graphe](graphe-routage.png)"
   ]
  },
  {
   "cell_type": "markdown",
   "metadata": {},
   "source": [
    "<h2 class=\"alert alert-info\">1. Matrice d'adjacence</h2>"
   ]
  },
  {
   "cell_type": "markdown",
   "metadata": {},
   "source": [
    "La matrice sera implémentée par un tableau à 2 dimensions.\n",
    "\n",
    "*Remarque* : Les sommets sont identifiés par un indice entier plutôt que par leur étiquette, avec la correspondance suivante :\n",
    "        \n",
    "        0 = R1, 1 = R2, 2 = R3, 3 = R4, 4 = R5, 5 = R6, 6 = LAN1, 7 = LAN2     \n",
    "        \n",
    "Dans toute la suite du TP un sommet est donc simplement un entier (sauf mention contraire).\n",
    "\n",
    "**Écrire la matrice d'adjacence de ce graphe :** (la variable s'appelle `graphe_mat`)\n"
   ]
  },
  {
   "cell_type": "code",
   "execution_count": null,
   "metadata": {},
   "outputs": [],
   "source": [
    "# à vous de jouer\n",
    "# graphe_mat = ...\n"
   ]
  },
  {
   "cell_type": "markdown",
   "metadata": {},
   "source": [
    "**Écrire une fonction `est_successeur_mat(graphe, sommet1, sommet2)` qui prend en paramètres:**\n",
    "   - graphe : la matrice d'adjacence représentant le graphe\n",
    "   - sommet1, sommet2 : les indices de 2 sommets.\n",
    "**et qui renvoie True si le sommet2 est successeur de sommet1.** (False dans le cas contraire !)"
   ]
  },
  {
   "cell_type": "code",
   "execution_count": null,
   "metadata": {},
   "outputs": [],
   "source": [
    "def est_successeur_mat(graphe, sommet1, sommet2):\n",
    "    # à vous de jouer\n",
    "    # ..."
   ]
  },
  {
   "cell_type": "code",
   "execution_count": null,
   "metadata": {
    "tags": []
   },
   "outputs": [],
   "source": [
    "assert est_successeur_mat(graphe_mat, 0, 1) == False # R2 n'est pas successeur de R1\n",
    "assert est_successeur_mat(graphe_mat, 0, 2) == True  # R3 est successeur de R1"
   ]
  },
  {
   "cell_type": "markdown",
   "metadata": {},
   "source": [
    "**Écrire une fonction `successeurs_mat(graphe, sommet)` qui prend en paramètres:**\n",
    "   - graphe : la matrice d'adjacence représentant le graphe\n",
    "   - sommet : l'indice d'un sommet.\n",
    "**et qui renvoie la liste des sommets successeurs du sommet passé en paramètre (la liste de leurs indices)**"
   ]
  },
  {
   "cell_type": "code",
   "execution_count": null,
   "metadata": {},
   "outputs": [],
   "source": [
    "def successeurs_mat(graphe, sommet):\n",
    "    # à vous de jouer\n",
    "    # ...\n",
    "    "
   ]
  },
  {
   "cell_type": "code",
   "execution_count": null,
   "metadata": {},
   "outputs": [],
   "source": [
    "assert successeurs_mat(graphe_mat, 2) == [0, 1, 3, 4] # les successeurs de R3 sont R1, R2, R4 et R5"
   ]
  },
  {
   "cell_type": "markdown",
   "metadata": {},
   "source": [
    "<h2 class=\"alert alert-info\">2. Liste d'adjacence</h2>"
   ]
  },
  {
   "cell_type": "markdown",
   "metadata": {},
   "source": [
    "**Écrire la liste d'adjacence de ce même graphe :**\n",
    "   - la liste sera représentée par un tableau à 2 dimensions.\n",
    "   - la variable s'appelle `graphe_list`."
   ]
  },
  {
   "cell_type": "markdown",
   "metadata": {},
   "source": [
    "On représente le réseau d'ordinateurs suivant (voir cours P3.III-Routage) :\n",
    "\n",
    "![Graphe](graphe-routage.png)"
   ]
  },
  {
   "cell_type": "code",
   "execution_count": null,
   "metadata": {},
   "outputs": [],
   "source": [
    "# à vous de jouer\n",
    "# graphe_list = ...\n"
   ]
  },
  {
   "cell_type": "markdown",
   "metadata": {},
   "source": [
    "**Écrire une fonction `est_successeur_list(graphe, sommet1, sommet2)` qui prend en paramètres:**\n",
    "   - graphe : la liste d'adjacence représentant le graphe\n",
    "   - sommet1, sommet2 : les indices de 2 sommets.\n",
    "**et qui renvoie True si le sommet2 est successeur de sommet1.** (False dans le cas contraire !)"
   ]
  },
  {
   "cell_type": "code",
   "execution_count": null,
   "metadata": {},
   "outputs": [],
   "source": [
    "def est_successeur_list(graphe, sommet1, sommet2):\n",
    "    # à vous de jouer\n",
    "    # ...\n",
    "    "
   ]
  },
  {
   "cell_type": "code",
   "execution_count": null,
   "metadata": {},
   "outputs": [],
   "source": [
    "assert est_successeur_list(graphe_list, 0, 1) == False # R2 n'est pas successeur de R1\n",
    "assert est_successeur_list(graphe_list, 0, 2) == True  # R3 est successeur de R1"
   ]
  },
  {
   "cell_type": "markdown",
   "metadata": {},
   "source": [
    "**Écrire une fonction `successeurs_list(graphe, sommet)` qui prend en paramètres:**\n",
    "   - graphe : la liste d'adjacence représentant le graphe\n",
    "   - sommet : l'indice d'un sommet.\n",
    "**et qui renvoie la liste des sommets successeurs du sommet passé en paramètre (la liste de leurs indices)**"
   ]
  },
  {
   "cell_type": "code",
   "execution_count": null,
   "metadata": {},
   "outputs": [],
   "source": [
    "def successeurs_list(graphe, sommet):\n",
    "    # à vous de jouer\n",
    "    # ...\n",
    "    "
   ]
  },
  {
   "cell_type": "code",
   "execution_count": null,
   "metadata": {},
   "outputs": [],
   "source": [
    "assert successeurs_list(graphe_list, 2) == [0, 1, 3, 4] # les successeurs de R3 sont R1, R2, R4 et R5"
   ]
  },
  {
   "cell_type": "markdown",
   "metadata": {},
   "source": [
    "<h2 class=\"alert alert-info\">3. Conversion d'une représentation vers une autre</h2>"
   ]
  },
  {
   "cell_type": "markdown",
   "metadata": {},
   "source": [
    "**1. Écrire une fonction `mat2list` qui convertit une matrice d'adjacence en liste d'adjacence.**"
   ]
  },
  {
   "cell_type": "code",
   "execution_count": null,
   "metadata": {},
   "outputs": [],
   "source": [
    "def mat2list(graphe):\n",
    "    \"\"\" Renvoie la liste d'adjacence à partir d'un graphe représenté par sa matrice d'adjacence\"\"\"\n",
    "    ### à vous de jouer\n",
    "    # ...\n",
    "    "
   ]
  },
  {
   "cell_type": "code",
   "execution_count": null,
   "metadata": {},
   "outputs": [],
   "source": [
    "assert graphe_list == mat2list(graphe_mat)\n",
    "mat2list(graphe_mat)"
   ]
  },
  {
   "cell_type": "markdown",
   "metadata": {},
   "source": [
    "**2. Écrire une fonction `list2mat` qui convertit une liste d'adjacence en matrice d'adjacence.**"
   ]
  },
  {
   "cell_type": "code",
   "execution_count": null,
   "metadata": {},
   "outputs": [],
   "source": [
    "def list2mat(graphe):\n",
    "    \"\"\" Renvoie la matrice d'adjacence à partir d'un graphe représenté par sa liste d'adjacence\"\"\"\n",
    "    ### à vous de jouer\n",
    "    # ...\n",
    "    "
   ]
  },
  {
   "cell_type": "code",
   "execution_count": null,
   "metadata": {},
   "outputs": [],
   "source": [
    "assert graphe_mat == list2mat(graphe_list)\n",
    "list2mat(graphe_list)"
   ]
  },
  {
   "cell_type": "markdown",
   "metadata": {},
   "source": [
    "<h2 class=\"alert alert-info\">4. Graphe pondéré</h2>"
   ]
  },
  {
   "cell_type": "markdown",
   "metadata": {},
   "source": [
    "On représente le même réseau d'ordinateurs en indiquant le coût des liaisons (voir cours P3.III-Routage) :\n",
    "\n",
    "![Graphe](graphe-routage2.png)adjacenc2"
   ]
  },
  {
   "cell_type": "markdown",
   "metadata": {},
   "source": [
    "<h3 class=\"alert alert-warning\">Matrice d'adjacence</h3>"
   ]
  },
  {
   "cell_type": "markdown",
   "metadata": {},
   "source": [
    "La matrice d'adjacence prend maintenant comme valeur le coût (ou poids) des liaisons. On décide de représenter un coût 0 pour des routeurs qui ne sont pas reliés."
   ]
  },
  {
   "cell_type": "markdown",
   "metadata": {},
   "source": [
    "**Écrire la matrice d'adjacence :**"
   ]
  },
  {
   "cell_type": "code",
   "execution_count": null,
   "metadata": {},
   "outputs": [],
   "source": [
    "### à vous de jouer\n",
    "# graphe_mat_pond = ...\n"
   ]
  },
  {
   "cell_type": "markdown",
   "metadata": {},
   "source": [
    "On donne ci-dessous la fonction `est_successeur_mat_pond(graphe, sommet1, sommet2)` qui indique si sommet 2 est bien successeur de sommet1, et aussi la fonction `successeurs_mat_pond(graphe, sommet)` qui renvoie la liste des successeurs de sommet."
   ]
  },
  {
   "cell_type": "code",
   "execution_count": null,
   "metadata": {},
   "outputs": [],
   "source": [
    "def est_successeur_mat_pond(graphe, sommet1, sommet2):\n",
    "    return graphe[sommet1][sommet2] != 0"
   ]
  },
  {
   "cell_type": "code",
   "execution_count": null,
   "metadata": {},
   "outputs": [],
   "source": [
    "def successeurs_mat_pond(graphe, sommet):\n",
    "    return [sommet2 for sommet2 in range(len(graphe)) if est_successeur_mat_pond(graphe, sommet, sommet2)]"
   ]
  },
  {
   "cell_type": "code",
   "execution_count": null,
   "metadata": {},
   "outputs": [],
   "source": [
    "assert successeurs_mat_pond(graphe_mat_pond, 2) == [0, 1, 3, 4] # les successeurs de R3 sont R1, R2, R4 et R5"
   ]
  },
  {
   "cell_type": "markdown",
   "metadata": {},
   "source": [
    "**Écrire la fonction `poids_mat_pond(graphe, sommet1, sommet2)` qui renvoie le poids de liaison entre sommet1 et sommet2 (0 si les sommets ne sont pas reliés).**"
   ]
  },
  {
   "cell_type": "code",
   "execution_count": null,
   "metadata": {},
   "outputs": [],
   "source": [
    "def poids_mat_pond(graphe, sommet1, sommet2):\n",
    "    # à vous de jouer\n",
    "    # ...\n",
    "    "
   ]
  },
  {
   "cell_type": "code",
   "execution_count": null,
   "metadata": {
    "tags": []
   },
   "outputs": [],
   "source": [
    "assert poids_mat_pond(graphe_mat_pond, 0, 6) == 10 # LAN2 est successeur de R1 avec un poinds de 10\n",
    "assert poids_mat_pond(graphe_mat_pond, 0, 1) == 0  # R2 n'est pas successeur de R1"
   ]
  },
  {
   "cell_type": "markdown",
   "metadata": {},
   "source": [
    "<h3 class=\"alert alert-warning\">Liste d'adjacence</h3>"
   ]
  },
  {
   "cell_type": "markdown",
   "metadata": {},
   "source": [
    "Chaque sous-liste de la liste d'adjacence doit maintenant contenir des tuples (indice du successeur, poids de la liaison) :\n",
    "   \n",
    "*Exemple* : R1 (indice 0) est reliée à R3 (indice 2, coût 1) et LAN1 (indice 6, coût 10).\n",
    "\n",
    "La liste d'adjacence renvoyée commencera donc par `[[(2, 1), (6, 10)], ...]`\n",
    "\n",
    "**Écrire la liste d'adjacence :**"
   ]
  },
  {
   "cell_type": "code",
   "execution_count": null,
   "metadata": {},
   "outputs": [],
   "source": [
    "### à vous de jouer\n",
    "# graphe_list_pond = ...\n"
   ]
  },
  {
   "cell_type": "markdown",
   "metadata": {},
   "source": [
    "On donne ci-dessous la fonction `est_successeur_list_pond(graphe, sommet1, sommet2)` qui indique si sommet 2 est bien successeur de sommet1, et aussi la fonction `successeurs_list_pond(graphe, sommet)` qui renvoie la liste des successeurs de sommet."
   ]
  },
  {
   "cell_type": "code",
   "execution_count": null,
   "metadata": {},
   "outputs": [],
   "source": [
    "def est_successeur_list_pond(graphe, sommet1, sommet2):\n",
    "    for (sommet, poids) in graphe[sommet1]:\n",
    "        if sommet == sommet2:\n",
    "            return True\n",
    "    return False"
   ]
  },
  {
   "cell_type": "code",
   "execution_count": null,
   "metadata": {},
   "outputs": [],
   "source": [
    "def successeurs_list_pond(graphe, sommet):\n",
    "    return [sommet2 for sommet2 in range(len(graphe)) if est_successeur_list_pond(graphe, sommet, sommet2)]"
   ]
  },
  {
   "cell_type": "code",
   "execution_count": null,
   "metadata": {},
   "outputs": [],
   "source": [
    "assert successeurs_list_pond(graphe_list_pond, 2) == [0, 1, 3, 4] # les successeurs de R3 sont R1, R2, R4 et R5"
   ]
  },
  {
   "cell_type": "markdown",
   "metadata": {},
   "source": [
    "**Écrire la fonction `poids_list_pond(graphe, sommet1, sommet2)` qui renvoie le poids de liaison entre sommet1 et sommet2 (0 si les sommets ne sont pas reliés).**"
   ]
  },
  {
   "cell_type": "code",
   "execution_count": null,
   "metadata": {},
   "outputs": [],
   "source": [
    "def poids_list_pond(graphe, sommet1, sommet2):\n",
    "    # à vous de jouer\n",
    "    # ...\n",
    "    "
   ]
  },
  {
   "cell_type": "code",
   "execution_count": null,
   "metadata": {
    "tags": []
   },
   "outputs": [],
   "source": [
    "assert poids_list_pond(graphe_list_pond, 0, 6) == 10 # LAN2 est successeur de R1 avec un poinds de 10\n",
    "assert poids_list_pond(graphe_list_pond, 0, 1) == 0 # R2 n'est pas successeur de R1"
   ]
  },
  {
   "cell_type": "markdown",
   "metadata": {},
   "source": [
    "<h3 class=\"alert alert-warning\">Conversion d'une représentation vers une autre</h3>"
   ]
  },
  {
   "cell_type": "markdown",
   "metadata": {},
   "source": [
    "Reprendre les fonctions de conversion pour des graphes pondérés :\n",
    "\n",
    "**1. Écrire une fonction `mat2list` qui convertit une matrice d'adjacence en liste d'adjacence.**"
   ]
  },
  {
   "cell_type": "code",
   "execution_count": null,
   "metadata": {},
   "outputs": [],
   "source": [
    "def mat2list_pond(graphe):\n",
    "    \"\"\" Renvoie la liste d'adjacence \"\"\"\n",
    "    ### à vous de jouer\n",
    "    # ...\n",
    "    "
   ]
  },
  {
   "cell_type": "code",
   "execution_count": null,
   "metadata": {},
   "outputs": [],
   "source": [
    "assert graphe_list_pond == mat2list_pond(graphe_mat_pond)\n",
    "mat2list_pond(graphe_mat_pond)"
   ]
  },
  {
   "cell_type": "markdown",
   "metadata": {},
   "source": [
    "**2. Écrire une fonction `list2mat` qui convertit une liste d'adjacence en matrice d'adjacence.**"
   ]
  },
  {
   "cell_type": "code",
   "execution_count": null,
   "metadata": {},
   "outputs": [],
   "source": [
    "def list2mat_pond(graphe):\n",
    "    \"\"\" Renvoie la matrice d'adjacence \"\"\"\n",
    "    ### à vous de jouer\n",
    "    # ...\n",
    "    "
   ]
  },
  {
   "cell_type": "code",
   "execution_count": null,
   "metadata": {},
   "outputs": [],
   "source": [
    "assert graphe_mat_pond == list2mat_pond(graphe_list_pond)\n",
    "list2mat_pond(graphe_list_pond)"
   ]
  },
  {
   "cell_type": "markdown",
   "metadata": {},
   "source": [
    "<h2 class=\"alert alert-info\">5. Conversion liste d'adjacence sous forme de dictionnaire d'adjacence</h2>"
   ]
  },
  {
   "cell_type": "markdown",
   "metadata": {},
   "source": [
    "**Écrire une fonction `list2dic(liste, etiquettes)` :**\n",
    "1. prenant en paramètre la liste d'adjacence pondérée (au format précédent) et la liste des étiquettes sommets (toutes différentes).\n",
    "2. et renvoyant cette liste sous forme d'un dictionnaire dont les clefs sont les étiquettes des sommets et les valeurs sont aussi des dictionnaires dont les clefs sont les étiquettes des successeurs et les valeurs les poids des arêtes.\n",
    "\n",
    "Avec notre exemple la liste des étiquettes est :\n",
    "\n",
    "        ['R1', 'R2', 'R3', 'R4', 'R5', 'R6', 'LAN1', 'LAN2']\n",
    "        \n",
    "*Exemple* : R1 (indice 0) est reliée à R3 (indice 2, coût 1) et LAN1 (indice 6, coût 10).\n",
    "\n",
    "Le dictionnaire contiendra au moins l'item suivant : `{'R1' : {'R3': 1, 'LAN1' : 10}, ...}`"
   ]
  },
  {
   "cell_type": "code",
   "execution_count": null,
   "metadata": {},
   "outputs": [],
   "source": [
    "def list2dict(graphe, etiquettes):\n",
    "    \"\"\" Convertit un graphe pondéré représenté par sa liste d'adjacence en dictionnaire d'adjacence \"\"\"\n",
    "    ### à vous de jouer\n",
    "    # ...\n",
    "    "
   ]
  },
  {
   "cell_type": "code",
   "execution_count": null,
   "metadata": {},
   "outputs": [],
   "source": [
    "# test :\n",
    "etiquettes = ['R1', 'R2', 'R3', 'R4', 'R5', 'R6', 'LAN1', 'LAN2']\n",
    "graphe_dict = list2dict(graphe_list_pond, etiquettes)\n",
    "\n",
    "graphe_dict"
   ]
  },
  {
   "cell_type": "markdown",
   "metadata": {},
   "source": [
    "<h3 class=\"alert alert-warning\">Intérêt de la liste d'adjacence exprimée sous forme de dictionnaire</h3>"
   ]
  },
  {
   "cell_type": "markdown",
   "metadata": {},
   "source": [
    "Le dictionnaire d'adjacence permet un accès rapide et pratique par exemple à la liste des voisins d'un sommet. Par ailleurs, il permet de manipuler les sommets directement par leur étiquette, sans devoir connaitre la correspondance avec un indice un peu fictif."
   ]
  },
  {
   "cell_type": "code",
   "execution_count": null,
   "metadata": {},
   "outputs": [],
   "source": [
    "# successeurs de 'R3'\n",
    "list(graphe_dict['R3'].keys())"
   ]
  },
  {
   "cell_type": "code",
   "execution_count": null,
   "metadata": {},
   "outputs": [],
   "source": [
    "# Afficher le poids de l'arête entre R3 et R2 :\n",
    "graphe_dict['R3']['R2']"
   ]
  },
  {
   "cell_type": "markdown",
   "metadata": {},
   "source": [
    "<h3 class=\"alert alert-warning\">Complément</h3>"
   ]
  },
  {
   "cell_type": "markdown",
   "metadata": {},
   "source": [
    "**Écrire quelques lignes de codes pour obtenir l'affichage suivant :**\n",
    "\n",
    "    R1 => R3 (1) ; LAN1 (10) ; \n",
    "    R2 => R3 (0.1) ; R5 (0.1) ; \n",
    "    R3 => R1 (1) ; R2 (0.1) ; R4 (1) ; R5 (1) ; \n",
    "    R4 => R3 (1) ; R5 (0.1) ; \n",
    "    R5 => R2 (0.1) ; R3 (1) ; R4 (0.1) ; R6 (1) ; \n",
    "    R6 => R5 (1) ; LAN2 (10) ; \n",
    "    LAN1 => R1 (10) ; \n",
    "    LAN2 => R6 (10) ; \n"
   ]
  },
  {
   "cell_type": "code",
   "execution_count": null,
   "metadata": {},
   "outputs": [],
   "source": [
    "# à vous de jouer\n",
    "# ...\n"
   ]
  },
  {
   "cell_type": "code",
   "execution_count": null,
   "metadata": {},
   "outputs": [],
   "source": []
  }
 ],
 "metadata": {
  "kernelspec": {
   "display_name": "Python 3",
   "language": "python",
   "name": "python3"
  },
  "language_info": {
   "codemirror_mode": {
    "name": "ipython",
    "version": 3
   },
   "file_extension": ".py",
   "mimetype": "text/x-python",
   "name": "python",
   "nbconvert_exporter": "python",
   "pygments_lexer": "ipython3",
   "version": "3.7.10"
  }
 },
 "nbformat": 4,
 "nbformat_minor": 4
}
