{
 "cells": [
  {
   "cell_type": "markdown",
   "metadata": {},
   "source": [
    "<h1 class=\"alert alert-success\">Les piles et les files</h1>"
   ]
  },
  {
   "cell_type": "markdown",
   "metadata": {},
   "source": [
    "<h2 class=\"alert alert-info\">Première implémentation avec une liste-Python</h2>"
   ]
  },
  {
   "cell_type": "markdown",
   "metadata": {},
   "source": [
    "## Les piles\n",
    "\n",
    "Rappelons tout d'abord la notion de **piles** répondant à la règle **LIFO** : dernier entré, premier sorti.\n",
    "\n",
    "![pile](pile1.png)\n",
    "\n",
    "### Description de la structure\n",
    "\n",
    "Pour stocker les données dans notre pile, nous utiliserons une liste-Python (objet list).\n",
    "Le dernier élément du tableau sera le sommet de la pile. Seul cet élément sera visible.\n",
    "\n",
    "**Exemple** : \n",
    "\n",
    "Si la pile est représentée en mémoire par le tableau `[2, 3, 5, 8]`, le sommet de la pile sera `8`. Si je dépile le 8, la pile deviendra `[2, 3, 5]` et le sommet de la pile sera 5. Une fois tous les éléments dépilés, la pile sera vide et représentée par `[]`.\n"
   ]
  },
  {
   "cell_type": "markdown",
   "metadata": {},
   "source": [
    "<div class=\"alert alert-warning\"><h3>A vous de jouer</h3>\n",
    "\n",
    "Vous allez devoir implémenter les fonctions de l'interface d'une pile :\n",
    "\n",
    "- creer_pile()\n",
    "- est_vide(pile)\n",
    "- empiler(pile, v) \n",
    "- depiler(pile) : renvoie None si la pile est vide\n",
    "- sommet(pile) : renvoie None si la pile est vide\n",
    "\n",
    "</div>"
   ]
  },
  {
   "cell_type": "code",
   "execution_count": null,
   "metadata": {
    "deletable": true,
    "nbgrader": {
     "cell_type": "code",
     "checksum": "b9833f317cc0f53e0337c6667cf3536f",
     "grade": false,
     "grade_id": "cell-f49fdbbc737964c6",
     "locked": false,
     "schema_version": 3,
     "solution": true
    }
   },
   "outputs": [],
   "source": [
    "def creer_pile():\n"
   ]
  },
  {
   "cell_type": "code",
   "execution_count": null,
   "metadata": {},
   "outputs": [],
   "source": [
    "def est_vide(pile):\n"
   ]
  },
  {
   "cell_type": "code",
   "execution_count": null,
   "metadata": {},
   "outputs": [],
   "source": [
    "def empiler(pile, v):\n"
   ]
  },
  {
   "cell_type": "code",
   "execution_count": null,
   "metadata": {},
   "outputs": [],
   "source": [
    "def depiler(pile):\n"
   ]
  },
  {
   "cell_type": "code",
   "execution_count": null,
   "metadata": {},
   "outputs": [],
   "source": [
    "def sommet(pile):\n"
   ]
  },
  {
   "cell_type": "markdown",
   "metadata": {},
   "source": [
    "# Exercice d'application\n",
    "1. Créer la pile [2, 3, 5, 8]\n",
    "2. Afficher le sommet de la pile.\n",
    "3. À l'aide d'une boucle Tant que, dépiler la pile et afficher l'élément dépilé jusqu'à ce qu'elle soit vide."
   ]
  },
  {
   "cell_type": "code",
   "execution_count": null,
   "metadata": {
    "deletable": true,
    "editable": true,
    "nbgrader": {
     "cell_type": "code",
     "checksum": "ef37f1abed0487ee12542845cd679786",
     "grade": true,
     "grade_id": "cell-f1f58ee5889bcc38",
     "locked": true,
     "points": 1,
     "schema_version": 3,
     "solution": false
    }
   },
   "outputs": [],
   "source": []
  },
  {
   "cell_type": "code",
   "execution_count": null,
   "metadata": {},
   "outputs": [],
   "source": []
  },
  {
   "cell_type": "code",
   "execution_count": null,
   "metadata": {},
   "outputs": [],
   "source": []
  },
  {
   "cell_type": "markdown",
   "metadata": {},
   "source": [
    "# Exercice complémentaire :\n",
    "\n",
    "Écrire une fonction taille(pile) qui prend en paramètre une pile et renvoie sa taille (nombres d'éléments).\n",
    "\n",
    "Contraintes : \n",
    "- interdit d'utiliser la fonction len des listes-Python: on ne peut donc compter les éléments qu'en dépilant la pile élément par élément.\n",
    "- la pile doit conserver son état initial lorsqu'on quitte la fonction : cela nécessietra sans l'utilisation d'une pile intermédiaire..."
   ]
  },
  {
   "cell_type": "code",
   "execution_count": null,
   "metadata": {},
   "outputs": [],
   "source": [
    "def taille(pile):\n"
   ]
  },
  {
   "cell_type": "markdown",
   "metadata": {},
   "source": [
    "### Test"
   ]
  },
  {
   "cell_type": "code",
   "execution_count": null,
   "metadata": {
    "editable": true,
    "nbgrader": {
     "cell_type": "code",
     "checksum": "ef37f1abed0487ee12542845cd679786",
     "grade": true,
     "grade_id": "cell-f1f58ee5889bcc38",
     "locked": true,
     "points": 1,
     "schema_version": 3,
     "solution": false
    }
   },
   "outputs": [],
   "source": [
    "pile = creer_pile()\n",
    "empiler(pile, 2)\n",
    "empiler(pile, 3)\n",
    "empiler(pile, 5)\n",
    "empiler(pile, 8)\n",
    "\n",
    "print(pile)\n",
    "print(taille(pile))\n",
    "print(pile)"
   ]
  },
  {
   "cell_type": "markdown",
   "metadata": {
    "deletable": true,
    "editable": true,
    "nbgrader": {
     "cell_type": "markdown",
     "checksum": "ac1a97558498730e3fb9dc4391b8c9fa",
     "grade": false,
     "grade_id": "cell-569719cd4230cd77",
     "locked": true,
     "schema_version": 3,
     "solution": false
    }
   },
   "source": [
    "## Les files\n",
    "\n",
    "Rappelons la notion de **files** répondant à la règle **FIFO** : premier entré, premier sorti.\n",
    "\n",
    "![file](file1.png)\n",
    "\n",
    "### Description de la structure\n",
    "\n",
    "\n",
    "Pour stocker les données dans notre pile, nous utiliserons une liste-Python (objet list).\n",
    "- le dernier élément du tableau sera l'avant de la file. Seul cet élément sera visible\n",
    "- le premier élément du tableau sera l'arrière de la file\n",
    "\n",
    "**Exemple** : \n",
    "\n",
    "Si la file est représentée en mémoire par le tableau `[2, 3, 5, 8]`, l'avant de la file sera `8` et l'arrière de la file sera 2. Si on ajoute 1 à l'arrière de la file, celle-ci contiendra `[1, 2, 3, 5, 8]`. Une fois tous les éléments dépilés, la file sera vide et représentée par `[]`."
   ]
  },
  {
   "cell_type": "markdown",
   "metadata": {},
   "source": [
    "<div class=\"alert alert-warning\"><h3>A vous de jouer</h3>\n",
    "\n",
    "Vous allez devoir implémenter les fonctions de l'interface d'une file :\n",
    "\n",
    "- creer_file()\n",
    "- est_vide(file)\n",
    "- enfiler(file, v) \n",
    "- defiler(file) : renvoie None si la pile est vide\n",
    "- premier(file) : renvoie None si la pile est vide\n",
    "\n",
    "</div>\n"
   ]
  },
  {
   "cell_type": "code",
   "execution_count": null,
   "metadata": {},
   "outputs": [],
   "source": []
  },
  {
   "cell_type": "code",
   "execution_count": null,
   "metadata": {},
   "outputs": [],
   "source": []
  },
  {
   "cell_type": "code",
   "execution_count": null,
   "metadata": {},
   "outputs": [],
   "source": []
  },
  {
   "cell_type": "code",
   "execution_count": null,
   "metadata": {},
   "outputs": [],
   "source": []
  },
  {
   "cell_type": "code",
   "execution_count": null,
   "metadata": {},
   "outputs": [],
   "source": []
  },
  {
   "cell_type": "markdown",
   "metadata": {},
   "source": [
    "# Exercice complémentaire :\n",
    "\n",
    "Écrire une transvaser(file, pile) qui prend en paramètre une filet et une pile et qui empile le contenu de la file sur la pile de telle sorte que l'avant de la file se retrouve au sommet de la pile.\n",
    "\n",
    "À l'issue de cette opération, la file sera vide.\n",
    "\n",
    "Aide : \n",
    "- on pourra utiliser une file ou une pile intermédiaire..."
   ]
  },
  {
   "cell_type": "code",
   "execution_count": null,
   "metadata": {},
   "outputs": [],
   "source": [
    "def transvaser(file, pile):\n"
   ]
  },
  {
   "cell_type": "markdown",
   "metadata": {},
   "source": [
    "### Tests :"
   ]
  },
  {
   "cell_type": "code",
   "execution_count": null,
   "metadata": {},
   "outputs": [],
   "source": [
    "pile = creer_pile()\n",
    "empiler(pile, \"fond\")\n",
    "empiler(pile, \"milieu\")\n",
    "empiler(pile, \"haut\")"
   ]
  },
  {
   "cell_type": "code",
   "execution_count": null,
   "metadata": {},
   "outputs": [],
   "source": [
    "file = creer_file()\n",
    "enfiler(file, \"premier\")\n",
    "enfiler(file, \"deuze\")\n",
    "enfiler(file, \"troize\")"
   ]
  },
  {
   "cell_type": "code",
   "execution_count": null,
   "metadata": {},
   "outputs": [],
   "source": [
    "print(pile, file)\n",
    "transvaser(file, pile)\n",
    "print(pile, file)"
   ]
  },
  {
   "cell_type": "code",
   "execution_count": null,
   "metadata": {},
   "outputs": [],
   "source": []
  }
 ],
 "metadata": {
  "kernelspec": {
   "display_name": "Python 3",
   "language": "python",
   "name": "python3"
  },
  "language_info": {
   "codemirror_mode": {
    "name": "ipython",
    "version": 3
   },
   "file_extension": ".py",
   "mimetype": "text/x-python",
   "name": "python",
   "nbconvert_exporter": "python",
   "pygments_lexer": "ipython3",
   "version": "3.7.10"
  }
 },
 "nbformat": 4,
 "nbformat_minor": 4
}
