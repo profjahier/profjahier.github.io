{
 "cells": [
  {
   "cell_type": "markdown",
   "id": "ede35218-696c-495f-8f30-12eb00c6e5e0",
   "metadata": {},
   "source": [
    "<div class=\"alert alert-success\">\n",
    "\n",
    "# À la découverte de Python (séance n°1), et plus encore...\n",
    "\n",
    "</div>"
   ]
  },
  {
   "cell_type": "markdown",
   "id": "55489fab-2546-4431-bebb-5d2a4d4e386d",
   "metadata": {
    "tags": []
   },
   "source": [
    "<h2 class=\"alert alert-info\">Division euclidienne</h2>"
   ]
  },
  {
   "cell_type": "markdown",
   "id": "56642ef3-2433-4d65-8c6a-7102ac6b9b7f",
   "metadata": {},
   "source": [
    "<div class=\"alert alert-warning\">\n",
    "    \n",
    "Cet exercice permet de découvrir :\n",
    "- les fonctions (leur signature, spécification, docstring et retour)\n",
    "- les tuples\n",
    "- les opérateurs Python // et %\n",
    "    \n",
    "</div>"
   ]
  },
  {
   "cell_type": "markdown",
   "id": "8d7b2607-7b24-4931-9a65-59716d62802f",
   "metadata": {
    "tags": []
   },
   "source": [
    " \n",
    "Lire l'introduction et le 1er paragraphe de la page Wikipédia décrivant la division euclidienne :\n",
    "\n",
    "https://fr.wikipedia.org/wiki/Division_euclidienne\n",
    "\n",
    "En Python, on peut obtenir le **reste** de la division euclidienne avec l'opérateur **modulo** `%` et le **quotient** avec l'opérateur de division entière `//`."
   ]
  },
  {
   "cell_type": "markdown",
   "id": "a7382b87-6de8-4cdb-83e3-74334442cdbe",
   "metadata": {},
   "source": [
    "**Exercice :**\n",
    "\n",
    "Écrire une fonction nommée `division_euclidienne` qui respecte la **spécification** suivante :\n",
    "- **Entrée** : 2 paramètres `dividende` et `diviseur` : 2 nombres entiers \n",
    "- **Sortie** : tuple de 2 entiers (on dit aussi couple dans ce cas) qui représentent le quotient et le reste de la divsion euclidienne du dividende par le diviseur.\n",
    "\n",
    "*Exemple d'utilisation :*\n",
    "\n",
    "    >>> division_euclidienne(17, 5)\n",
    "    (3, 2)"
   ]
  },
  {
   "cell_type": "markdown",
   "id": "1dfefaf4-0ac2-42c0-9c25-f4025fc10316",
   "metadata": {},
   "source": [
    "**Pseudo code :**\n",
    "\n",
    "    Fonction division_euclidienne:\n",
    "\n",
    "        # Renvoie un tuple donnant le quotient et le reste de la division euclidienne.\n",
    "        # Entrées : dividende: int, diviseur: int\n",
    "        # Sortie : (quotient: int, reste: int)\n",
    "\n",
    "        quotient <-- dividende 'division_entière' diviseur \n",
    "        reste <-- dividende 'modulo' diviseur\n",
    "        Renvoyer (quotient, reste)"
   ]
  },
  {
   "cell_type": "markdown",
   "id": "6f81b693-a335-49b7-9200-54e7db69f146",
   "metadata": {},
   "source": [
    "<div class=\"alert alert-danger\">\n",
    "    \n",
    "**Cours** : Si vous coincez, consultez les fiches de cours **Fonction** et **tuple**\n",
    "    \n",
    "</div>"
   ]
  },
  {
   "cell_type": "code",
   "execution_count": 1,
   "id": "7a06b3b4-5119-41b4-987b-21220b8f7228",
   "metadata": {},
   "outputs": [],
   "source": [
    "def division_euclidienne(dividende, diviseur):\n",
    "    \"\"\"Renvoie un tuple donnant le quotient et le reste de la division euclidienne.\n",
    "       Entrées : dividende: int, diviseur: int\n",
    "       Sortie : (quotient: int, reste: int)\n",
    "    \"\"\"\n",
    "    reste = dividende % diviseur\n",
    "    quotient = dividende // diviseur\n",
    "    return (quotient, reste)"
   ]
  },
  {
   "cell_type": "code",
   "execution_count": 2,
   "id": "d113ab1f-38aa-4153-ab4d-d2d037a520cf",
   "metadata": {},
   "outputs": [
    {
     "data": {
      "text/plain": [
       "(3, 2)"
      ]
     },
     "execution_count": 2,
     "metadata": {},
     "output_type": "execute_result"
    }
   ],
   "source": [
    "division_euclidienne(17, 5)"
   ]
  },
  {
   "cell_type": "markdown",
   "id": "35063730-da18-44af-8652-92729d0758c9",
   "metadata": {},
   "source": [
    "<div class=\"alert alert-warning\">\n",
    "    \n",
    "Complément : le \"dépaquetage\" des tuples (unpacking)\n",
    "    \n",
    "</div>"
   ]
  },
  {
   "cell_type": "markdown",
   "id": "b20242ce-cabc-4e1b-ac0c-b2d9c3db1e2c",
   "metadata": {},
   "source": [
    "Exécutez les cellules suivantes :"
   ]
  },
  {
   "cell_type": "code",
   "execution_count": 3,
   "id": "a860ff15-c8e1-4f18-ad04-7c6ba34c8ddf",
   "metadata": {},
   "outputs": [],
   "source": [
    "(numerateur, denominateur) = (17, 5)\n",
    "q, r = division_euclidienne(numerateur, denominateur)"
   ]
  },
  {
   "cell_type": "code",
   "execution_count": 4,
   "id": "dd69aa17-b5c6-4bf8-b369-722ae995a91f",
   "metadata": {},
   "outputs": [
    {
     "data": {
      "text/plain": [
       "3"
      ]
     },
     "execution_count": 4,
     "metadata": {},
     "output_type": "execute_result"
    }
   ],
   "source": [
    "q"
   ]
  },
  {
   "cell_type": "code",
   "execution_count": 5,
   "id": "f556614b-e79d-42e8-bf60-6315569c24b9",
   "metadata": {},
   "outputs": [
    {
     "data": {
      "text/plain": [
       "2"
      ]
     },
     "execution_count": 5,
     "metadata": {},
     "output_type": "execute_result"
    }
   ],
   "source": [
    "r"
   ]
  },
  {
   "cell_type": "markdown",
   "id": "da168b36-ebdd-4d79-89d3-42a32935d817",
   "metadata": {},
   "source": [
    "Observez la syntaxe de la ligne avec une affectation multiple : chacun des éléments du tuple (17, 5) est affecté aux variables `numérateur` et `dénominateur`.\n",
    "\n",
    "*Remarque :* on pourrait même omettre les parenthèses de cette ligne (elles sont justes écrites pour faciliter la lecture).\n",
    "\n",
    "De la même manière, à la ligne suivante, les valeurs du tuple renvoyé par la fonction `division_euclidienne` sont référencées par les variables `q` et `r` (ici, on n'a pas écrit les parenthèses facultatives autour de `q` et `r`)."
   ]
  },
  {
   "cell_type": "markdown",
   "id": "84da1147-7d81-469c-9133-525d5312fbae",
   "metadata": {
    "tags": []
   },
   "source": [
    "<h2 class=\"alert alert-info\">Une semaine de 7 jours</h2>"
   ]
  },
  {
   "cell_type": "markdown",
   "id": "9ab0d3c3-b000-428a-9486-c9ffb8ad395b",
   "metadata": {},
   "source": [
    "<div class=\"alert alert-warning\">\n",
    "    \n",
    "Cet exercice permet de :\n",
    "- découvrir des fonctionnalités sur les tuples, et vérifier leur non mutabilité.\n",
    "- manipuler l'opérateur modulo %.\n",
    "    \n",
    "</div>"
   ]
  },
  {
   "cell_type": "markdown",
   "id": "20d820f5-0f53-48f7-ae03-82eb3612430f",
   "metadata": {},
   "source": [
    "Créer la variable `semaine` qui référence un tuple contenant les jours de la semaine.\n",
    "\n",
    "Un jour est une chaîne de caractère (str). \n",
    "\n",
    "*Ex :* 'lundi', 'mardi'..."
   ]
  },
  {
   "cell_type": "code",
   "execution_count": 6,
   "id": "b418519f-519a-4169-be7b-a3b299154328",
   "metadata": {},
   "outputs": [],
   "source": [
    "semaine = ('lundi', 'mardi', 'mercredi', 'jeudi', 'vendredi', 'samedi', 'dimanche')"
   ]
  },
  {
   "cell_type": "markdown",
   "id": "eb70f639-a5ab-4b74-acc5-645475949511",
   "metadata": {},
   "source": [
    "Pour s'assurer que la semaine est complète (7 jours), afficher la taille du tuple référencé par `semaine` avec la fonction `len`."
   ]
  },
  {
   "cell_type": "code",
   "execution_count": 7,
   "id": "88269574-f5b2-4caa-bdb6-4db4b9b63b36",
   "metadata": {},
   "outputs": [
    {
     "data": {
      "text/plain": [
       "7"
      ]
     },
     "execution_count": 7,
     "metadata": {},
     "output_type": "execute_result"
    }
   ],
   "source": [
    "len(semaine)"
   ]
  },
  {
   "cell_type": "markdown",
   "id": "a37abb4b-6418-402e-90b9-0719b8ebd9b2",
   "metadata": {},
   "source": [
    "Un élément individuel d'un tuple est accessible par son indice.\n",
    "\n",
    "*Ex :* \n",
    "\n",
    "    >>> jour_1 = semaine[0]\n",
    "    >>> jour_1\n",
    "    'lundi'\n",
    "    \n",
    "Affecter aux variables `jour_3` et `jour_7` les \"bonnes\" valeurs extraites du tuple `semaine`."
   ]
  },
  {
   "cell_type": "code",
   "execution_count": 8,
   "id": "5747d373-4a44-44d4-a88b-024dcdc80075",
   "metadata": {},
   "outputs": [],
   "source": [
    "jour_3 = semaine[2]\n",
    "jour_7 = semaine[6]"
   ]
  },
  {
   "cell_type": "code",
   "execution_count": 9,
   "id": "2cf8ed06-5bf7-4cc0-8bb6-e5a197f16457",
   "metadata": {},
   "outputs": [
    {
     "data": {
      "text/plain": [
       "True"
      ]
     },
     "execution_count": 9,
     "metadata": {},
     "output_type": "execute_result"
    }
   ],
   "source": [
    "# test 1 (remarque : la méthode upper() transforme une chaine de caractères en lettres capitales)\n",
    "jour_7.upper() == \"DIMANCHE\""
   ]
  },
  {
   "cell_type": "code",
   "execution_count": 10,
   "id": "1144827a-0a47-4120-8b9c-1a756153be90",
   "metadata": {},
   "outputs": [
    {
     "data": {
      "text/plain": [
       "True"
      ]
     },
     "execution_count": 10,
     "metadata": {},
     "output_type": "execute_result"
    }
   ],
   "source": [
    "# test 2 \n",
    "# remarque : on peut accéder aux éléments à partir de la fin avec des indices négatifs : le dernier élément est à l'indice -1.\n",
    "jour_7 == semaine[-1]"
   ]
  },
  {
   "cell_type": "markdown",
   "id": "0a533116-39bf-4215-91d2-0a4019e76263",
   "metadata": {},
   "source": [
    "Vérifier sur le même modèle de tests que la variable `jour_3` vaut bien \"mercredi\" (compléter les pointillés) :\n",
    "\n",
    "    ... == \"MERCREDI\"\n",
    "    jour_3 == semaine[- ...]"
   ]
  },
  {
   "cell_type": "code",
   "execution_count": 11,
   "id": "27d23965-c175-45bc-9ebe-c729c5c0004f",
   "metadata": {},
   "outputs": [
    {
     "data": {
      "text/plain": [
       "True"
      ]
     },
     "execution_count": 11,
     "metadata": {},
     "output_type": "execute_result"
    }
   ],
   "source": [
    "jour_3.upper() == \"MERCREDI\""
   ]
  },
  {
   "cell_type": "code",
   "execution_count": 12,
   "id": "ecc67538-9976-4838-99bb-fbb761b36b23",
   "metadata": {},
   "outputs": [
    {
     "data": {
      "text/plain": [
       "True"
      ]
     },
     "execution_count": 12,
     "metadata": {},
     "output_type": "execute_result"
    }
   ],
   "source": [
    "jour_3 == semaine[-5]"
   ]
  },
  {
   "cell_type": "markdown",
   "id": "15ed2067-3130-4d91-b7b8-b01f1fef48f5",
   "metadata": {},
   "source": [
    "**Exercice :**\n",
    "\n",
    "Écrire une fonction `jour_prochain` dont voici la **spécification** :\n",
    "- **Entrées** : \n",
    "        - aujourdhui: str : cette chaîne représente le jour actuel.\n",
    "        - increment: int : un certain nb de jours plus tard.\n",
    "- **Sortie** : renvoie le jour de la semaine (str) correspondant à (aujourdhui + increment)\n",
    "\n",
    "*Exemple d'utilisation :*\n",
    "\n",
    "    >>> jour_prochain('jeudi', 1)\n",
    "    'vendredi'\n",
    "    >>> jour_prochain('jeudi', 5)\n",
    "    'mardi'\n",
    "    >>> jour_prochain('jeudi', 7)\n",
    "    'jeudi'\n",
    "    >>> jour_prochain('jeudi', 358)\n",
    "    'vendredi'\n",
    "    \n",
    "*Aide :* \n",
    "- `semaine.index('mardi')` vaut l'indice de l'élément `mardi` dans le tuple `semaine`.\n",
    "- le modulo est très utile ici ! \n",
    "\n",
    "    *Ex : des incréments de 4 jours, 11 jours, 18 jours... sont équivalents.*\n",
    "    \n",
    "    *`semaine[11]` n'existe pas , mais correspondrait à `semaine[4]`*"
   ]
  },
  {
   "cell_type": "code",
   "execution_count": 13,
   "id": "de6540c7-b9ad-4ee5-bba5-d2d6f71f73e2",
   "metadata": {},
   "outputs": [],
   "source": [
    "def jour_prochain(aujourdhui, increment):\n",
    "    \"\"\"Renvoie le prochain jour à partir de aujourdhui plus l'incrément.\"\"\"\n",
    "    indice_du_jour = semaine.index(aujourdhui)\n",
    "    return semaine[(indice_du_jour + increment) % len(semaine)]"
   ]
  },
  {
   "cell_type": "code",
   "execution_count": 14,
   "id": "d3268269-5ec4-40aa-ad29-c0a3b2432bb5",
   "metadata": {},
   "outputs": [
    {
     "data": {
      "text/plain": [
       "'vendredi'"
      ]
     },
     "execution_count": 14,
     "metadata": {},
     "output_type": "execute_result"
    }
   ],
   "source": [
    "jour_prochain('jeudi', 1)"
   ]
  },
  {
   "cell_type": "code",
   "execution_count": 15,
   "id": "d30a07fd-aa39-4a6a-bb31-26dd356f5522",
   "metadata": {},
   "outputs": [
    {
     "data": {
      "text/plain": [
       "'mardi'"
      ]
     },
     "execution_count": 15,
     "metadata": {},
     "output_type": "execute_result"
    }
   ],
   "source": [
    "jour_prochain('jeudi', 5)"
   ]
  },
  {
   "cell_type": "code",
   "execution_count": 16,
   "id": "42a1363f-ccb2-40c5-b893-bc40ef80b7e7",
   "metadata": {},
   "outputs": [
    {
     "data": {
      "text/plain": [
       "'jeudi'"
      ]
     },
     "execution_count": 16,
     "metadata": {},
     "output_type": "execute_result"
    }
   ],
   "source": [
    "jour_prochain('jeudi', 7)"
   ]
  },
  {
   "cell_type": "code",
   "execution_count": 17,
   "id": "9a94aebd-8611-444d-aeed-40a6acb0b42d",
   "metadata": {},
   "outputs": [
    {
     "data": {
      "text/plain": [
       "'vendredi'"
      ]
     },
     "execution_count": 17,
     "metadata": {},
     "output_type": "execute_result"
    }
   ],
   "source": [
    "jour_prochain('jeudi', 358)"
   ]
  },
  {
   "cell_type": "markdown",
   "id": "7783a67f-fec0-4363-b6c6-841b3dd1dc6b",
   "metadata": {
    "tags": []
   },
   "source": [
    "<h2 class=\"alert alert-info\">Mutable (muable) / non mutable (immuable)</h2>"
   ]
  },
  {
   "cell_type": "markdown",
   "id": "2d59fd81-f33e-4095-bd70-9f848caceb9c",
   "metadata": {},
   "source": [
    "<div class=\"alert alert-warning\">\n",
    "    \n",
    "Cet exercice permet de découvrir :\n",
    "- la notion d'objet mutable ou non mutable.\n",
    "- les listes-Python.\n",
    "- l'outil Python Tutor pour visualiser l'espace des noms de variables et l'espace des objets en mémoire.\n",
    "    \n",
    "</div>"
   ]
  },
  {
   "cell_type": "markdown",
   "id": "fff4a178-2bb8-4ce3-8e82-aee3e95733e9",
   "metadata": {},
   "source": [
    "Pour écrire une traduction de la semaine en Anglais, essayez les instructions suivantes :\n",
    "\n",
    "        >>> week = semaine\n",
    "        >>> week\n",
    "        ('lundi', 'mardi', 'mercredi', 'jeudi', 'vendredi', 'samedi', 'dimanche')\n",
    "        >>> week[0] = 'monday'\n",
    "        >>> week[1] = 'tuesday'\n",
    "        etc ..."
   ]
  },
  {
   "cell_type": "code",
   "execution_count": 18,
   "id": "77a8f2b4-f4b8-4c4e-ac54-92f501cd9894",
   "metadata": {},
   "outputs": [],
   "source": [
    "week = semaine"
   ]
  },
  {
   "cell_type": "code",
   "execution_count": 19,
   "id": "c4314bfa-acca-423e-9375-b7dec359134b",
   "metadata": {},
   "outputs": [
    {
     "data": {
      "text/plain": [
       "('lundi', 'mardi', 'mercredi', 'jeudi', 'vendredi', 'samedi', 'dimanche')"
      ]
     },
     "execution_count": 19,
     "metadata": {},
     "output_type": "execute_result"
    }
   ],
   "source": [
    "week"
   ]
  },
  {
   "cell_type": "code",
   "execution_count": 20,
   "id": "e8f2cee8-c6fd-45f8-ba81-4010791ea132",
   "metadata": {},
   "outputs": [
    {
     "ename": "TypeError",
     "evalue": "'tuple' object does not support item assignment",
     "output_type": "error",
     "traceback": [
      "\u001b[0;31m---------------------------------------------------------------------------\u001b[0m",
      "\u001b[0;31mTypeError\u001b[0m                                 Traceback (most recent call last)",
      "\u001b[0;32m/tmp/ipykernel_81315/4096295220.py\u001b[0m in \u001b[0;36m<cell line: 1>\u001b[0;34m()\u001b[0m\n\u001b[0;32m----> 1\u001b[0;31m \u001b[0mweek\u001b[0m\u001b[0;34m[\u001b[0m\u001b[0;36m0\u001b[0m\u001b[0;34m]\u001b[0m \u001b[0;34m=\u001b[0m \u001b[0;34m'monday'\u001b[0m\u001b[0;34m\u001b[0m\u001b[0;34m\u001b[0m\u001b[0m\n\u001b[0m",
      "\u001b[0;31mTypeError\u001b[0m: 'tuple' object does not support item assignment"
     ]
    }
   ],
   "source": [
    "week[0] = 'monday'"
   ]
  },
  {
   "cell_type": "markdown",
   "id": "4227f773-7b2e-4b0f-801f-e4d2fb1cbf44",
   "metadata": {},
   "source": [
    "<div class=\"alert alert-warning\">\n",
    "\n",
    "Vous venez de \"lever une erreur\" (TypeError) car un tuple est un objet **non mutable (ou immuable)**, càd qu'une fois créé, ce type d'objet ne peut pas être modifié !\n",
    "    \n",
    "</div>"
   ]
  },
  {
   "cell_type": "markdown",
   "id": "b18a0b90-97ae-42eb-b11b-1fea5345b832",
   "metadata": {},
   "source": [
    "L'exécution des cellules ci-dessous active l'outil \"Python Tutor\" qui permet de présenter une représentation des variables et des objets référencés par ces variables."
   ]
  },
  {
   "cell_type": "code",
   "execution_count": 1,
   "id": "2c04f11a-1a0d-4b87-b1dd-8aeca9be8f03",
   "metadata": {},
   "outputs": [],
   "source": [
    "from metakernel import register_ipython_magics\n",
    "register_ipython_magics()"
   ]
  },
  {
   "cell_type": "code",
   "execution_count": 2,
   "id": "95d82dbc-442b-4f87-b304-f4967fae4ae2",
   "metadata": {},
   "outputs": [
    {
     "data": {
      "text/html": [
       "\n",
       "        <iframe\n",
       "            width=\"100%\"\n",
       "            height=\"500\"\n",
       "            src=\"https://pythontutor.com/iframe-embed.html#code=semaine%20%3D%20%28%27lundi%27%2C%20%27mardi%27%2C%20%27mercredi%27%2C%20%27jeudi%27%2C%20%27vendredi%27%2C%20%27samedi%27%2C%20%27dimanche%27%29%0Aweek%20%3D%20semaine%0Aweek%5B0%5D%20%3D%20%27monday%27%0A&origin=opt-frontend.js&cumulative=false&heapPrimitives=false&textReferences=false&py=3&rawInputLstJSON=%5B%5D&curInstr=0&codeDivWidth=350&codeDivHeight=400\"\n",
       "            frameborder=\"0\"\n",
       "            allowfullscreen\n",
       "            \n",
       "        ></iframe>\n",
       "        "
      ],
      "text/plain": [
       "<IPython.lib.display.IFrame at 0x7f1378649e40>"
      ]
     },
     "metadata": {},
     "output_type": "display_data"
    }
   ],
   "source": [
    "%%tutor\n",
    "semaine = ('lundi', 'mardi', 'mercredi', 'jeudi', 'vendredi', 'samedi', 'dimanche')\n",
    "week = semaine\n",
    "week[0] = 'monday'"
   ]
  },
  {
   "cell_type": "markdown",
   "id": "eae60651-f288-4864-b7e4-bdb2fe647b7f",
   "metadata": {},
   "source": [
    "<div class=\"alert alert-danger\">\n",
    "    \n",
    "Les **listes-Python**, comme les tuples, permettent d'enregistrer des \"collections\" d'éléments, mais sont des objets **mutables (ou muables)**, qui peuvent être modifiés (en place) après leur création.  \n",
    "    \n",
    "</div>"
   ]
  },
  {
   "cell_type": "markdown",
   "id": "dcff8417-c460-4fc2-ad1f-f0b2fbce3415",
   "metadata": {},
   "source": [
    "Testez la cellule suivante, et observez la création de **2 types d'objets** différents (*tuple* ou *list*).\n",
    "\n",
    "Notez aussi l'affichage des **listes** avec des **crochets**, et celui des **tuples** avec des **parenthèses**."
   ]
  },
  {
   "cell_type": "code",
   "execution_count": 3,
   "id": "a95bdaf7-3858-4e82-a7c5-2e5230fa51ca",
   "metadata": {},
   "outputs": [
    {
     "data": {
      "text/html": [
       "\n",
       "        <iframe\n",
       "            width=\"100%\"\n",
       "            height=\"500\"\n",
       "            src=\"https://pythontutor.com/iframe-embed.html#code=semaine%20%3D%20%28%27lundi%27%2C%20%27mardi%27%2C%20%27mercredi%27%2C%20%27jeudi%27%2C%20%27vendredi%27%2C%20%27samedi%27%2C%20%27dimanche%27%29%0A%0Aweek%20%3D%20list%28semaine%29%20%23%20cr%C3%A9ation%20d%27une%20liste-Pyhton%20contenant%20les%20m%C3%AAmes%20%C3%A9l%C3%A9ments%20que%20ceux%20du%20tuple%20initial%0Aweek%5B0%5D%20%3D%20%27monday%27%20%20%20%23%20modification%20de%20la%20liste%20en%20place%0Aweek%5B1%5D%20%3D%20%27tuesday%27%20%20%23%20modification%20de%20la%20liste%20en%20place%0A%0A%23%20affichages%0Aprint%28week%29%0Aprint%28semaine%29%0A&origin=opt-frontend.js&cumulative=false&heapPrimitives=false&textReferences=false&py=3&rawInputLstJSON=%5B%5D&curInstr=0&codeDivWidth=350&codeDivHeight=400\"\n",
       "            frameborder=\"0\"\n",
       "            allowfullscreen\n",
       "            \n",
       "        ></iframe>\n",
       "        "
      ],
      "text/plain": [
       "<IPython.lib.display.IFrame at 0x7f1378649ed0>"
      ]
     },
     "metadata": {},
     "output_type": "display_data"
    }
   ],
   "source": [
    "%%tutor\n",
    "semaine = ('lundi', 'mardi', 'mercredi', 'jeudi', 'vendredi', 'samedi', 'dimanche')\n",
    "\n",
    "week = list(semaine) # création d'une liste-Python contenant les mêmes éléments que ceux du tuple initial\n",
    "week[0] = 'monday'   # modification de la liste en place\n",
    "week[1] = 'tuesday'  # modification de la liste en place\n",
    "\n",
    "# affichages\n",
    "print(week)\n",
    "print(semaine)"
   ]
  },
  {
   "cell_type": "markdown",
   "id": "ede0d8bd-639c-4efa-a924-060e0413825d",
   "metadata": {},
   "source": [
    "On peut aussi créer directement une liste-Python en écrivant la suite de ses éléments entre corchets."
   ]
  },
  {
   "cell_type": "code",
   "execution_count": 24,
   "id": "20867785-1cda-4af3-90de-a7c70eff041c",
   "metadata": {},
   "outputs": [
    {
     "data": {
      "text/plain": [
       "['monday', 'tuesday', 'wednesday', 'thursday', 'friday', 'saturday', 'sunday']"
      ]
     },
     "execution_count": 24,
     "metadata": {},
     "output_type": "execute_result"
    }
   ],
   "source": [
    "week = ['monday', 'tuesday', 'wednesday', 'thursday', 'friday', 'saturday', 'sunday']\n",
    "\n",
    "week"
   ]
  },
  {
   "cell_type": "code",
   "execution_count": 25,
   "id": "32a9f9fa-bf53-4cd3-991a-e6de0e36342c",
   "metadata": {},
   "outputs": [
    {
     "data": {
      "text/plain": [
       "('thursday', 'sunday')"
      ]
     },
     "execution_count": 25,
     "metadata": {},
     "output_type": "execute_result"
    }
   ],
   "source": [
    "week[3], week[-1]"
   ]
  },
  {
   "cell_type": "markdown",
   "id": "222a034d-4e0a-4ea2-b2dc-2abc4eec81fb",
   "metadata": {
    "tags": []
   },
   "source": [
    "<h2 class=\"alert alert-info\">Le choix dans la date</h2>"
   ]
  },
  {
   "cell_type": "markdown",
   "id": "b63d436c-6657-4ea3-88f5-1c6fafd62a4e",
   "metadata": {},
   "source": [
    "<div class=\"alert alert-warning\">\n",
    "    \n",
    "Cet exercice permet de :\n",
    "- manipuler les listes\n",
    "- les tuples\n",
    "- les fonctions\n",
    "    \n",
    "</div>"
   ]
  },
  {
   "cell_type": "markdown",
   "id": "cef00dd0-197b-486f-87f1-acdfcdedec0a",
   "metadata": {},
   "source": [
    "**Exercice :**\n",
    "\n",
    "Écrire une fonction `creer_date` dont voici la spécification :\n",
    "- Entrée : Aucune (fonction sans paramètre)\n",
    "- Sortie : Renvoie un tuple (nom_jour: str, numero_jour: int, mois:str)\n",
    "\n",
    "Le corps de la fonction crée 3 listes :\n",
    "\n",
    "    - une liste des noms des jours de la semaine\n",
    "    - une liste de nombres entiers entre 1 et 31\n",
    "    - une liste des mois de l'année\n",
    "\n",
    "*Exemple d'utilisation :*\n",
    "\n",
    "    >>> creer_date()\n",
    "    ('jeudi', 12, 'mars')\n",
    "    >>> creer_date()\n",
    "    ('lundi', 4, 'décembre')\n",
    "    >>> creer_date()  # si on n'a pas de chance, on crée une date impossible !\n",
    "    ('mardi', 31, 'février')\n",
    "    \n",
    "*Outil complémentaire* : pour choisir un entier `n` au hasard entre les bornes `a` et `b`, on peut utiliser les instructions suivantes :\n",
    "\n",
    "    >>> from random import randint # à n'écrire qu'une seule fois dans le programme !\n",
    "    >>> n = randint(a, b)          # à chaque exécution de cette ligne, n prend une valeur aléatoire entre a et b"
   ]
  },
  {
   "cell_type": "code",
   "execution_count": 26,
   "id": "475278f8-f6cb-4ab7-bc87-5fa042d248c5",
   "metadata": {},
   "outputs": [],
   "source": [
    "from random import randint"
   ]
  },
  {
   "cell_type": "code",
   "execution_count": 27,
   "id": "92be85e9-153f-4fcb-9fd2-c1f4490ddf96",
   "metadata": {},
   "outputs": [],
   "source": [
    "def creer_date():\n",
    "    \"\"\" Renvoie un tuple au format (jour, numero, mois).\"\"\"\n",
    "    semaine = ['lundi', 'mardi', 'mercredi', 'jeudi', 'vendredi', 'samedi', 'dimanche']\n",
    "    jour = [1, 2, 3, 4, 5, 6, 7, 8, 9, 10, 11, 12, 13, 14, 15, 16, 17,\n",
    "            18, 19, 20, 21, 22, 23, 24, 25, 26, 27, 28, 29, 30, 31]\n",
    "    annee = ['janvier', 'février', 'mars', 'avril', 'mai', 'juin', 'juillet', 'aout',\n",
    "            'septembre', 'octobre', 'novembre', 'décembre']\n",
    "    len_s, len_j, len_a = len(semaine), len(jour), len(annee)\n",
    "    s, j, m = randint(0, len_s-1), randint(0, len_j-1), randint(0, len_a-1)\n",
    "    return (semaine[s], jour[j], annee[m])"
   ]
  },
  {
   "cell_type": "code",
   "execution_count": 28,
   "id": "24bade3a-6df8-4e10-8028-badb553df0cf",
   "metadata": {},
   "outputs": [
    {
     "data": {
      "text/plain": [
       "('mardi', 3, 'février')"
      ]
     },
     "execution_count": 28,
     "metadata": {},
     "output_type": "execute_result"
    }
   ],
   "source": [
    "creer_date()"
   ]
  },
  {
   "cell_type": "markdown",
   "id": "bd802921-1cd3-46dd-8ed2-e49dfa3e4697",
   "metadata": {
    "tags": []
   },
   "source": [
    "<h2 class=\"alert alert-info\">Un choix réaliste dans la date</h2>"
   ]
  },
  {
   "cell_type": "markdown",
   "id": "c6b16a70-978b-4b3c-8401-4956e755b0ec",
   "metadata": {},
   "source": [
    "<div class=\"alert alert-warning\">\n",
    "    \n",
    "Cet exercice permet de :\n",
    "- manipuler les structures conditionnelles : **if ... elif ... else ...**\n",
    "    \n",
    "</div>"
   ]
  },
  {
   "cell_type": "markdown",
   "id": "d5fd702d-5f76-4575-9606-51fe245973d1",
   "metadata": {},
   "source": [
    "**Exercice :**\n",
    "\n",
    "Reprendre l'exercice précédent de création de date aléatoire, mais ajouter des tests sur les dates obtenues et vérifier que la date est réaliste avant de la renvoyer.\n",
    "\n",
    "Si la date n'existe pas, la fonction doit renvoyer le tuple `(None, None, None)`.\n",
    "\n",
    "*Exemple d'utilisation :*\n",
    "\n",
    "    >>> creer_date()\n",
    "    ('jeudi', 12, 'mars')\n",
    "    >>> creer_date()\n",
    "    ('lundi', 4, 'décembre')\n",
    "    >>> creer_date()  # si on n'a pas de chance, on crée une date impossible !\n",
    "    (None, None, None)"
   ]
  },
  {
   "cell_type": "code",
   "execution_count": 29,
   "id": "eefaa39d-c624-4209-bb0a-88d6edfdea8a",
   "metadata": {},
   "outputs": [],
   "source": [
    "def creer_date():\n",
    "    \"\"\" Renvoie un tuple au format (jour, numero, mois).\n",
    "    Si la date n'existe pas, la focntion renvoie (None, None, None).\n",
    "    \"\"\"\n",
    "    semaine = ['lundi', 'mardi', 'mercredi', 'jeudi', 'vendredi', 'samedi', 'dimanche']\n",
    "    jour = [1, 2, 3, 4, 5, 6, 7, 8, 9, 10, 11, 12, 13, 14, 15, 16, 17,\n",
    "            18, 19, 20, 21, 22, 23, 24, 25, 26, 27, 28, 29, 30, 31]\n",
    "    annee = ['janvier', 'février', 'mars', 'avril', 'mai', 'juin', 'juillet', 'aout',\n",
    "            'septembre', 'octobre', 'novembre', 'décembre']\n",
    "    len_s, len_j, len_a = len(semaine), len(jour), len(annee)\n",
    "    s, j, m = randint(0, len_s-1), randint(0, len_j-1), randint(0, len_a-1)\n",
    "    if jour[j] > 29 and annee[m] == 'février':\n",
    "        date = (None, None, None)\n",
    "        print(semaine[s], jour[j], annee[m])\n",
    "    elif jour[j] == 31 and annee[m] in ['avril', 'juin', 'septembre', 'novembre']:\n",
    "        date = (None, None, None)\n",
    "        print(semaine[s], jour[j], annee[m])\n",
    "    else:\n",
    "        date = semaine[s], jour[j], annee[m]\n",
    "    return date"
   ]
  },
  {
   "cell_type": "code",
   "execution_count": 30,
   "id": "d7a2830e-806c-448e-a2fc-c8e8fc12fdff",
   "metadata": {},
   "outputs": [
    {
     "data": {
      "text/plain": [
       "('mardi', 7, 'juillet')"
      ]
     },
     "execution_count": 30,
     "metadata": {},
     "output_type": "execute_result"
    }
   ],
   "source": [
    "creer_date()"
   ]
  },
  {
   "cell_type": "code",
   "execution_count": 31,
   "id": "895f8faa-ed33-473e-a6eb-0e2d21440672",
   "metadata": {},
   "outputs": [
    {
     "name": "stdout",
     "output_type": "stream",
     "text": [
      "vendredi 30 février\n",
      "(None, None, None) 237\n"
     ]
    }
   ],
   "source": [
    "date = None\n",
    "i = 0\n",
    "while not date == (None, None, None):\n",
    "    i+=1\n",
    "    date =  creer_date()\n",
    "\n",
    "print(date, i)"
   ]
  },
  {
   "cell_type": "markdown",
   "id": "5fa51f6d-efc5-40c7-a55a-099efe5e3f47",
   "metadata": {},
   "source": [
    "**Exercice :**\n",
    "\n",
    "Reprendre l'exercice précédent de création de date aléatoire, mais la fonction utilisera désormais plusieurs listes pour les mois (une liste pour les mois de 31 jours, une liste pour les mois de 30 ou 31 jours, une liste pour tous les mois, même février).\n",
    "\n",
    "Le corps de la fonction tire d'abord un numéro de jour au hasard, puis en fonction du résultat, pioche un mois au hasard dans une liste adaptée.\n",
    "\n",
    "Notez au passage la **concaténation** des listes (càd le fait de \"coller\" 2 listes bout à bout, avec l'opérateur `+`)."
   ]
  },
  {
   "cell_type": "code",
   "execution_count": 37,
   "id": "6615200b-6538-4df5-91dd-740fbb84c3a1",
   "metadata": {},
   "outputs": [],
   "source": [
    "def creer_date():\n",
    "    \"\"\" Renvoie un tuple au format (jour, numero, mois).\n",
    "    \"\"\"\n",
    "    # le début du code est fourni à tout le monde (pour partir sur une base commune) :\n",
    "    semaine = ['lundi', 'mardi', 'mercredi', 'jeudi', 'vendredi', 'samedi', 'dimanche']\n",
    "    jour = [1, 2, 3, 4, 5, 6, 7, 8, 9, 10, 11, 12, 13, 14, 15, 16, 17,\n",
    "            18, 19, 20, 21, 22, 23, 24, 25, 26, 27, 28, 29, 30, 31]\n",
    "    mois_longs = ['janvier', 'mars', 'mai', 'juillet', 'aout', 'octobre', 'décembre']\n",
    "    annee_sans_fevrier = mois_longs + ['avril', 'juin', 'septembre', 'novembre']\n",
    "    annee_complete = annee_sans_fevrier + ['février']\n",
    "    \n",
    "    j, s = jour[randint(0, len(jour)-1)], semaine[randint(0, len(semaine)-1)]\n",
    "    \n",
    "    # la suite du code doit être écrite par les élèves :\n",
    "    if j > 30:\n",
    "        m = mois_longs[randint(0, len(mois_longs)-1)]\n",
    "    elif j > 29:\n",
    "        m = annee_sans_fevrier[randint(0, len(annee_sans_fevrier)-1)]\n",
    "    else:\n",
    "        m = annee_complete[randint(0, len(annee_complete)-1)]\n",
    "    return (s, j, m)"
   ]
  },
  {
   "cell_type": "code",
   "execution_count": 33,
   "id": "80ce165f-4489-4ed5-8f55-846c4677a4bb",
   "metadata": {},
   "outputs": [
    {
     "name": "stdout",
     "output_type": "stream",
     "text": [
      "('mercredi', 7, 'décembre')\n",
      "('samedi', 17, 'juillet')\n",
      "('dimanche', 29, 'juillet')\n",
      "('jeudi', 24, 'juillet')\n",
      "('mardi', 3, 'juin')\n",
      "('vendredi', 20, 'mars')\n",
      "('lundi', 29, 'mars')\n",
      "('mercredi', 2, 'aout')\n",
      "('dimanche', 9, 'janvier')\n",
      "('dimanche', 4, 'juillet')\n",
      "('samedi', 17, 'novembre')\n",
      "('lundi', 30, 'octobre')\n",
      "('lundi', 20, 'décembre')\n",
      "('mardi', 7, 'janvier')\n",
      "('mercredi', 1, 'janvier')\n",
      "('mercredi', 26, 'aout')\n",
      "('dimanche', 11, 'décembre')\n",
      "('vendredi', 15, 'juin')\n",
      "('samedi', 2, 'septembre')\n",
      "('vendredi', 23, 'décembre')\n",
      "('jeudi', 1, 'novembre')\n",
      "('mercredi', 12, 'aout')\n",
      "('samedi', 8, 'mars')\n",
      "('vendredi', 3, 'février')\n",
      "('vendredi', 23, 'février')\n",
      "('mercredi', 29, 'octobre')\n",
      "('mercredi', 14, 'septembre')\n",
      "('mercredi', 29, 'novembre')\n",
      "('mercredi', 1, 'juillet')\n",
      "('mardi', 9, 'aout')\n",
      "('mercredi', 6, 'mai')\n",
      "('mardi', 26, 'aout')\n",
      "('mercredi', 15, 'aout')\n",
      "('vendredi', 24, 'janvier')\n",
      "('dimanche', 13, 'octobre')\n",
      "('samedi', 18, 'juin')\n",
      "('lundi', 23, 'mars')\n",
      "('samedi', 15, 'juin')\n",
      "('dimanche', 2, 'décembre')\n",
      "('samedi', 14, 'décembre')\n",
      "('dimanche', 15, 'juillet')\n",
      "('vendredi', 26, 'mars')\n",
      "('samedi', 18, 'juin')\n",
      "('dimanche', 7, 'septembre')\n",
      "('vendredi', 13, 'novembre')\n",
      "('vendredi', 13, 'juillet')\n",
      "('dimanche', 14, 'septembre')\n",
      "('jeudi', 12, 'février')\n",
      "('samedi', 12, 'novembre')\n",
      "('dimanche', 9, 'février')\n"
     ]
    }
   ],
   "source": [
    "for _  in range(50):\n",
    "    print(creer_date())"
   ]
  },
  {
   "cell_type": "markdown",
   "id": "58b79928-83eb-4812-9ee6-7b6caf30f1d7",
   "metadata": {},
   "source": [
    "La fonction suivante permet de tester si une date est invalide. Vous pouvez l'utiliser pour vérifier que toutes les dates que vous créez sont bien valides (ie : elles ne sont pas invalides !)."
   ]
  },
  {
   "cell_type": "code",
   "execution_count": 38,
   "id": "a2bbc46b-d78c-4daf-bf8b-35e12d28f044",
   "metadata": {},
   "outputs": [],
   "source": [
    "def est_invalide(date):    \n",
    "    \"\"\" Renvoie True si la date est invalide.\"\"\"\n",
    "    s, j, m = date\n",
    "    return (m == 'février' and j > 29) or (j == 31 and m in ['avril', 'juin', 'septembre', 'novembre'])"
   ]
  },
  {
   "cell_type": "code",
   "execution_count": 39,
   "id": "eb305f28-41a6-407d-bac1-afb97d66672f",
   "metadata": {},
   "outputs": [],
   "source": [
    "for _ in range(1000):\n",
    "    date = creer_date()\n",
    "    if est_invalide(date):\n",
    "        print(date)"
   ]
  },
  {
   "cell_type": "code",
   "execution_count": null,
   "id": "792e8ace-6477-460f-9191-d167e91440a5",
   "metadata": {},
   "outputs": [],
   "source": []
  }
 ],
 "metadata": {
  "kernelspec": {
   "display_name": "Python 3",
   "language": "python",
   "name": "python3"
  },
  "language_info": {
   "codemirror_mode": {
    "name": "ipython",
    "version": 3
   },
   "file_extension": ".py",
   "mimetype": "text/x-python",
   "name": "python",
   "nbconvert_exporter": "python",
   "pygments_lexer": "ipython3",
   "version": "3.10.1"
  }
 },
 "nbformat": 4,
 "nbformat_minor": 5
}
