{
 "cells": [
  {
   "cell_type": "markdown",
   "metadata": {},
   "source": [
    "<h1 class=\"alert alert-success\">Algorithmique autour des graphes</h1>"
   ]
  },
  {
   "cell_type": "markdown",
   "metadata": {
    "tags": []
   },
   "source": [
    "<h2 class=\"alert alert-info\">1. Préliminaires</h2>"
   ]
  },
  {
   "cell_type": "markdown",
   "metadata": {},
   "source": [
    "Nous avons vu dans le TP précédent une première version de classe Graphe que nous allons exploiter pour effectuer des algorithmes de parcours en largeur ou en profondeur et rechercher des cycles.\n",
    "Nous commençons donc ici par re-écrire cette classe et ajouter quelques fonctionnalités complémentaires comme dans le TP précédent (fonction de vicualisation et fonction pour créer un Graphe à partir de sa matrice d'adjacence)."
   ]
  },
  {
   "cell_type": "markdown",
   "metadata": {},
   "source": [
    "<h3 class=\"alert alert-warning\">Écriture de la classe Graphe</h3>"
   ]
  },
  {
   "cell_type": "code",
   "execution_count": null,
   "metadata": {},
   "outputs": [],
   "source": [
    "class Graphe():  # graphe représenté par un Dictionnaire d'Adjacence\n",
    "    \"\"\" Graphe implémenté à l'aide d'un dictionnaire d'adjacence.\n",
    "    Exemple : \n",
    "    self.dico = {'sommet_x': {'sommet_y' : poids_xy, 'sommet_z' : poids_xz},  etc...}\n",
    "    Chaque sommet est identifié par son étiquette (qui doit être unique !).\n",
    "    \"\"\"\n",
    "    def __init__(self):\n",
    "        \"\"\" Initialisation avec un graphe vide. \"\"\"\n",
    "        self.dico = dict()\n",
    "    \n",
    "    def ajouter_sommet(self, sommet):\n",
    "        \"\"\" Ajoute un nouveau sommet au graphe. \"\"\"\n",
    "        if not sommet in self.dico:\n",
    "            self.dico[sommet] = dict()\n",
    "    \n",
    "    def ajouter_arete(self, sommet1, sommet2, poids=1):\n",
    "        \"\"\" Ajoute une arête au graphe de sommet1 vers sommet2.\n",
    "        Si poids n'est pas renseigné, il prendra la valeur 1 par défaut. \"\"\"\n",
    "        # Si les sommets n'existent pas, on les crée avant l'arête :\n",
    "        self.ajouter_sommet(sommet1)\n",
    "        self.ajouter_sommet(sommet2)\n",
    "            # On crée la connexion sommet1 -> sommet2 (arc orienté par défaut)\n",
    "        self.dico[sommet1][sommet2] = poids\n",
    "    \n",
    "    def sommets(self):\n",
    "        \"\"\" Renvoie la liste des sommets triée par étiquette. \"\"\"\n",
    "        return sorted(list(self.dico.keys()))\n",
    "    \n",
    "    def successeurs(self, sommet):\n",
    "        \"\"\" Renvoie la liste des successeurs de sommet, triée par étiquette. \"\"\"\n",
    "        return sorted(list(self.dico[sommet].keys()))\n",
    "    \n",
    "    def poids(self, sommet1, sommet2):\n",
    "        \"\"\" Renvoie le poids de l'arête sommet1->sommet2 ou 0 si pas d'arête. \"\"\"\n",
    "        if sommet2 not in self.dico[sommet1]:\n",
    "            return 0\n",
    "        else:\n",
    "            return self.dico[sommet1][sommet2]\n",
    "            \n",
    "    def get_graphe(self):\n",
    "        \"\"\" Renvoie le dictionnaire d'adjacence représentant le graphe. \"\"\"\n",
    "        return self.dico\n",
    "    def set_graphe(self, dico):\n",
    "        \"\"\" Définit le dictionnaire d'adjacence représentant le graphe. \"\"\"\n",
    "        self.dico = dico"
   ]
  },
  {
   "cell_type": "markdown",
   "metadata": {},
   "source": [
    "<h3 class=\"alert alert-warning\">Import d'une fonction de visualisation.</h3>"
   ]
  },
  {
   "cell_type": "markdown",
   "metadata": {},
   "source": [
    "**Rappel** : il peut être intéressant de tester les moteurs de rendu graphique **dot**, **circo** et **neato** en fonction du graphe qu'on veut visualiser."
   ]
  },
  {
   "cell_type": "code",
   "execution_count": null,
   "metadata": {},
   "outputs": [],
   "source": [
    "from graphe_dot import dessiner"
   ]
  },
  {
   "cell_type": "markdown",
   "metadata": {},
   "source": [
    "<h3 class=\"alert alert-warning\">Conversion d'une matrice d'adjacence en un dictionnaire d'adjacence (avec la liste des étiquettes).</h3>"
   ]
  },
  {
   "cell_type": "code",
   "execution_count": null,
   "metadata": {},
   "outputs": [],
   "source": [
    "def mat2dico(matrice, etiquettes=None):\n",
    "    \"\"\" Crée un dico d'adjacence à partir d'une matrice d'adjacence :\n",
    "     - etiquettes est la liste des étiquettes des sommets \n",
    "    \"\"\"\n",
    "    n = len(matrice)\n",
    "    if etiquettes is None: # si aucune étiquette de sommets communiquée :\n",
    "        etiquettes = [i for i in range(n)] # on crée des sommets étiquettés de 0 à n-1\n",
    "    assert len(etiquettes) == len(set(etiquettes)), \"Erreur : doublon d'identifiants de sommets\"\n",
    "    dico = dict() \n",
    "    for i in range(n):\n",
    "        dico[etiquettes[i]] = dict()\n",
    "        for j in range(n):\n",
    "            if matrice[i][j] != 0:  # 2 sommets non connectés sont séparés d'une distance nulle\n",
    "                dico[etiquettes[i]][etiquettes[j]] = matrice[i][j]\n",
    "    return dico"
   ]
  },
  {
   "cell_type": "markdown",
   "metadata": {
    "tags": []
   },
   "source": [
    "<h2 class=\"alert alert-info\">2. Parcours en profondeur</h2>"
   ]
  },
  {
   "cell_type": "markdown",
   "metadata": {},
   "source": [
    "Maintenant que tout est en place avec une classe Graphe aboutie, nous allons créer une fonction `parcours_profondeur(graphe, depart)`, qui prend en paramètres :\n",
    "- le graphe à parcourir\n",
    "- le sommet de départ pour le parcours\n",
    "\n",
    "Celle-ci est déjà un peu ébauchée, vous devrez compléter le coeur de l'algorithme **récursif** dans la fonction dfs."
   ]
  },
  {
   "cell_type": "markdown",
   "metadata": {},
   "source": [
    "<h3 class=\"alert alert-warning\">Fonction de parcours en profondeur.</h3>"
   ]
  },
  {
   "cell_type": "markdown",
   "metadata": {},
   "source": [
    "**Compléter la fonction ci-dessous :**"
   ]
  },
  {
   "cell_type": "code",
   "execution_count": null,
   "metadata": {},
   "outputs": [],
   "source": [
    "def parcours_profondeur(graphe, depart):\n",
    "    \"\"\" Parcourt l'arbre en profondeur (DFS) \"\"\"\n",
    "    def dfs(graphe, sommet):\n",
    "        # à vous de jouer\n",
    "        # ...\n",
    "        \n",
    "        # ...\n",
    "    traités = []  # sommets déjà traités\n",
    "    dfs(graphe, depart)\n",
    "    return traités"
   ]
  },
  {
   "cell_type": "markdown",
   "metadata": {},
   "source": [
    "<h3 class=\"alert alert-warning\">Test</h3>"
   ]
  },
  {
   "cell_type": "markdown",
   "metadata": {},
   "source": [
    "On donne ci-dessous la matrice d'adjacence du graphe vu en cours. Les étiquettes sont tout simplement les lettres de A à H dans l'ordre alphabétique.\n",
    "\n",
    "Exploiter les fonctionnalités mises en place pour obtenir une instance nommée `g1` de la classe Graphe correspondant à ce graphe. "
   ]
  },
  {
   "cell_type": "code",
   "execution_count": null,
   "metadata": {},
   "outputs": [],
   "source": [
    "matrice = [[0,1,1,0,0,0,0,0],\n",
    "          [1,0,0,1,1,0,0,0],\n",
    "          [1,0,0,1,0,0,0,0],\n",
    "          [0,1,1,0,1,0,0,0],\n",
    "          [0,1,0,1,0,1,1,0],\n",
    "          [0,0,0,0,1,0,1,0],\n",
    "          [0,0,0,0,1,1,0,1],\n",
    "          [0,0,0,0,0,0,1,0]]"
   ]
  },
  {
   "cell_type": "code",
   "execution_count": null,
   "metadata": {},
   "outputs": [],
   "source": [
    "# à vous de jouer\n",
    "# ...\n",
    "\n"
   ]
  },
  {
   "cell_type": "code",
   "execution_count": null,
   "metadata": {},
   "outputs": [],
   "source": [
    "# si vous avez bien travaillé, cette cellule doit vous permettre de visualiser le graphe du cours.\n",
    "dessiner(g1, 'neato')"
   ]
  },
  {
   "cell_type": "markdown",
   "metadata": {},
   "source": [
    "On peut maintenant vérifier que la fonction de parcours en profondeur fonctionne correctement :"
   ]
  },
  {
   "cell_type": "code",
   "execution_count": null,
   "metadata": {},
   "outputs": [],
   "source": [
    "# Tests : \n",
    "for s in g1.sommets():\n",
    "    print(f\"sommet de départ {s} :\")\n",
    "    print(parcours_profondeur(g1, s))"
   ]
  },
  {
   "cell_type": "markdown",
   "metadata": {
    "tags": []
   },
   "source": [
    "<h2 class=\"alert alert-info\">3. Parcours en largeur</h2>"
   ]
  },
  {
   "cell_type": "markdown",
   "metadata": {},
   "source": [
    "Vous allez maintenant créer une fonction `parcours_largeur(graphe, depart)`. De la même manière, elle va permettre de parcourir l'ensemble des sommets du graphe à partir d'un sommet. Mais bien entendu, le parcours se fait en largeur d'abord.\n",
    "\n",
    "On rappelle que pour un parcours en largeur, plutôt que d'utiliser la récursivité, on préfère faire appel à une file (voir cours)."
   ]
  },
  {
   "cell_type": "code",
   "execution_count": null,
   "metadata": {},
   "outputs": [],
   "source": [
    "def parcours_largeur(graphe, depart):\n",
    "    \"\"\" Parcourt l'arbre en largeur (BFS) \"\"\"\n",
    "    # à vous de jouer\n",
    "    # ...\n",
    "    "
   ]
  },
  {
   "cell_type": "code",
   "execution_count": null,
   "metadata": {},
   "outputs": [],
   "source": [
    "# Tests \n",
    "for s in g1.sommets():\n",
    "    print(parcours_largeur(g1, s))"
   ]
  },
  {
   "cell_type": "markdown",
   "metadata": {
    "tags": []
   },
   "source": [
    "<h2 class=\"alert alert-info\">4. Chercher les cycles</h2>"
   ]
  },
  {
   "cell_type": "markdown",
   "metadata": {},
   "source": [
    "Écrire une fonction `cycle` qui prend en paramètres un graphe et qui renvoie un booléen selon que le graphe contient un cycle ou non.\n",
    "\n",
    "Cette fonction repose sur un parcours en largeur légèrement modifié :\n",
    "\n",
    "    - Le sommet de départ est aléatoire\n",
    "    - Un cycle est détecté si le parcours \"repasse\" par un sommet déjà visité !"
   ]
  },
  {
   "cell_type": "code",
   "execution_count": null,
   "metadata": {},
   "outputs": [],
   "source": [
    "from random import choice   # import de fonction pour choisir un élément de liste au hasard\n",
    "help(choice)"
   ]
  },
  {
   "cell_type": "code",
   "execution_count": null,
   "metadata": {},
   "outputs": [],
   "source": [
    "def cycle(graphe):\n",
    "    \"\"\" Renvoie True (resp. False) si le graphe contient (resp. ne contient pas) un cycle :\n",
    "    Parcourt le graphe en largeur depuis un sommet quelconque et cherche si on retombe sur le sommet de départ \"\"\"\n",
    "    # à vous de jouer\n",
    "    # ...\n",
    "    "
   ]
  },
  {
   "cell_type": "code",
   "execution_count": null,
   "metadata": {
    "tags": []
   },
   "outputs": [],
   "source": [
    "# on vérifie que le graphe g1 contient bien un cycle :\n",
    "assert cycle(g1)"
   ]
  },
  {
   "cell_type": "markdown",
   "metadata": {},
   "source": [
    "<h3 class=\"alert alert-warning\">Test sans cycle</h3>"
   ]
  },
  {
   "cell_type": "markdown",
   "metadata": {},
   "source": [
    "Voici à nouveau la matrice d'adjacence du graphe du cours. Supprimer sur cette matrice 3 arêtes pour obtenir un graphe sans cycle."
   ]
  },
  {
   "cell_type": "code",
   "execution_count": null,
   "metadata": {},
   "outputs": [],
   "source": [
    "matrice = [[0,1,1,0,0,0,0,0],\n",
    "          [1,0,0,1,1,0,0,0],\n",
    "          [1,0,0,1,0,0,0,0],\n",
    "          [0,1,1,0,1,0,0,0],\n",
    "          [0,1,0,1,0,1,1,0],\n",
    "          [0,0,0,0,1,0,1,0],\n",
    "          [0,0,0,0,1,1,0,1],\n",
    "          [0,0,0,0,0,0,1,0]]\n",
    "\n",
    "# Construction d'un graphe sans cycle :\n",
    "# à vous de jouer\n",
    "\n",
    "# matrice_sans_cycle = ...\n",
    "\n"
   ]
  },
  {
   "cell_type": "code",
   "execution_count": null,
   "metadata": {},
   "outputs": [],
   "source": [
    "g2 = Graphe()\n",
    "g2.set_graphe(mat2dico(matrice_sans_cycle, sommets))\n",
    "dessiner(g2, 'neato')"
   ]
  },
  {
   "cell_type": "code",
   "execution_count": null,
   "metadata": {},
   "outputs": [],
   "source": [
    "# on vérifie que ce nouveau graphe ne contient pas de cycle :\n",
    "assert not cycle(g2) # bien noter le NOT dans ce test !!"
   ]
  },
  {
   "cell_type": "markdown",
   "metadata": {},
   "source": [
    "*Remarque* : cet algo de détection de cycle fonctionne pour les graphes non orientés.\n",
    "\n",
    "Dans le cas d'un graphe orienté, il faut utiliser un algorithme un peu plus compliqué."
   ]
  },
  {
   "cell_type": "markdown",
   "metadata": {
    "tags": []
   },
   "source": [
    "<h3 class=\"alert alert-warning\">Complément : Parcours en profondeur en version itérative</h3>"
   ]
  },
  {
   "cell_type": "markdown",
   "metadata": {},
   "source": [
    "En complément, nous proposons de revenir sur le parcours en profondeur pour en écrire une version itérative.\n",
    "\n",
    "**Il suffit tout simplement de reprendre l'algorithme du parcours en largeur en remplaçant la file par une pile !**\n",
    "\n",
    "A vous de jouer ..."
   ]
  },
  {
   "cell_type": "code",
   "execution_count": null,
   "metadata": {},
   "outputs": [],
   "source": [
    "def parcours_profondeur_iter(graphe, depart):\n",
    "    \"\"\" Parcourt l'arbre en profondeur (DFS) version itérative avec une pile \"\"\"\n",
    "    # à vous de jouer\n",
    "    # ...\n",
    "    "
   ]
  },
  {
   "cell_type": "code",
   "execution_count": null,
   "metadata": {},
   "outputs": [],
   "source": [
    "# Test \n",
    "# On pourra chercher à expliquer pourquoi les parcours en profondeur itératif ou récursif \n",
    "# présentent des différences.\n",
    "# Rassurons-nous toutefois, les 2 versions parcourent l'intégralité des sommets du graphe.\n",
    "for s in g1.sommets():\n",
    "    print(parcours_profondeur(g1, s))\n",
    "    print(parcours_profondeur_iter(g1, s))\n",
    "    print()\n",
    "    \n",
    "dessiner(g1, 'neato')"
   ]
  },
  {
   "cell_type": "markdown",
   "metadata": {
    "tags": []
   },
   "source": [
    "<h2 class=\"alert alert-info\">5. Chemins entre deux sommets</h2>"
   ]
  },
  {
   "cell_type": "markdown",
   "metadata": {},
   "source": [
    "Pour finir, on veut écrire une fonction qui trouve un chemin entre deux sommets (si possible...).\n",
    "\n",
    "On décide pour cela d'écrire une fonction qui parcourt le graphe à partir d'un sommet (parcours en largeur par exemple), et qui relève au cours du parcours l'ensemble des chemins suivis depuis ce sommet initial. Ces chemins sont stockés dans un dictionnaire, dont les clefs sont les sommets atteints et les valeurs les listes des sommets à parcourir depuis le départ.\n",
    "\n",
    "**Compléter seulement la ligne manquante de la fonction ci-dessous :**"
   ]
  },
  {
   "cell_type": "code",
   "execution_count": null,
   "metadata": {},
   "outputs": [],
   "source": [
    "def chemins(graphe, depart):\n",
    "    \"\"\" Repose sur un parcourt l'arbre en largeur (BFS) \"\"\"\n",
    "    decouverts = [depart]  # sommets déjà decouverts\n",
    "    file = [depart]\n",
    "    trajets = {depart:[depart]}\n",
    "    while file:    # tant que la file n'est pas vide\n",
    "        sommet = file.pop(0)\n",
    "        for successeur in graphe.successeurs(sommet):\n",
    "            if successeur not in decouverts:\n",
    "                file.append(successeur)\n",
    "                decouverts.append(successeur)\n",
    "                ### COMPLETER LA LIGNE SUIVANTE :\n",
    "                # trajets[successeur] = ...\n",
    "                \n",
    "    return trajets  "
   ]
  },
  {
   "cell_type": "markdown",
   "metadata": {
    "tags": []
   },
   "source": [
    "<h3 class=\"alert alert-warning\">Test</h3>"
   ]
  },
  {
   "cell_type": "markdown",
   "metadata": {},
   "source": [
    "Pour rendre l'utilisation de cette fonction plus intéressante, nous avons légèrement modifié le graphe du cours en orientant quelques arêtes pour rendre une partie du graphe inaccessible dans un sens :"
   ]
  },
  {
   "cell_type": "code",
   "execution_count": null,
   "metadata": {},
   "outputs": [],
   "source": [
    "matrice_orientee = [[0,1,1,0,0,0,0,0],\n",
    "          [1,0,0,1,1,0,0,0],\n",
    "          [1,0,0,1,0,0,0,0],\n",
    "          [0,1,1,0,1,0,0,0],\n",
    "          [0,1,0,1,0,0,0,0],\n",
    "          [0,0,0,0,1,0,1,0],\n",
    "          [0,0,0,0,1,1,0,1],\n",
    "          [0,0,0,0,0,0,1,0]]\n",
    "\n",
    "sommets = 'ABCDEFGH'\n",
    "g3 = Graphe()\n",
    "g3.set_graphe(mat2dico(matrice_orientee, sommets))\n",
    "dessiner(g3, 'neato')"
   ]
  },
  {
   "cell_type": "code",
   "execution_count": null,
   "metadata": {},
   "outputs": [],
   "source": [
    "print(\"Sommets accessibles depuis H : \")\n",
    "trajets = chemins(g3, \"H\")\n",
    "for sommet in g3.sommets():\n",
    "    if sommet in trajets:\n",
    "        print(f\"Chemin vers sommet {sommet} : {trajets[sommet]}\")\n",
    "    \n",
    "print(\"\\nSommets accessibles depuis A : \")\n",
    "trajets = chemins(g3, \"A\")\n",
    "for sommet in g3.sommets():\n",
    "    if sommet in trajets:\n",
    "        print(f\"Chemin vers sommet {sommet} : {trajets[sommet]}\")\n",
    "          \n",
    "print(\"\\nSommets accessibles depuis G : \")\n",
    "trajets = chemins(g3, \"G\")\n",
    "for sommet in g3.sommets():\n",
    "    if sommet in trajets:\n",
    "        print(f\"Chemin vers sommet {sommet} : {trajets[sommet]}\")"
   ]
  },
  {
   "cell_type": "markdown",
   "metadata": {
    "tags": []
   },
   "source": [
    "<h3 class=\"alert alert-warning\">Fonction existe_chemin</h3>"
   ]
  },
  {
   "cell_type": "markdown",
   "metadata": {},
   "source": [
    "Connaissant l'ensemble des chemins vers tous les sommets accessibles, il est maintenant aisé d'écrire la fonction `existe_chemin(graphe, depart, arrivee)` qui renvoie True si un chemin entre le départ et l'arrivée existe (False dans le cas contraire). \n",
    "\n",
    "Au passage, on peut faire en sorte que cette fonction affiche un chemin, mais cela a peu d'intérêt car ce chemin n'a a priori rien de particulier : il n'est pas forcément le plus court par exemple."
   ]
  },
  {
   "cell_type": "code",
   "execution_count": null,
   "metadata": {},
   "outputs": [],
   "source": [
    "def existe_chemin(graphe, depart, arrivee):\n",
    "    \"\"\" Renvoie True si un chemin est possible entre depart et arrivee \"\"\"\n",
    "    # à vous de joeur\n",
    "    # ...\n",
    "    "
   ]
  },
  {
   "cell_type": "code",
   "execution_count": null,
   "metadata": {},
   "outputs": [],
   "source": [
    "print(existe_chemin(g3, \"A\", \"E\"))\n",
    "print(existe_chemin(g3, \"E\", \"A\"))\n",
    "print(existe_chemin(g3, \"H\", \"A\"))\n",
    "print(existe_chemin(g3, \"A\", \"H\"))"
   ]
  },
  {
   "cell_type": "markdown",
   "metadata": {},
   "source": [
    "**Remarque :** On s'est contenté ici de chercher l'existence d'UN chemin quelconque, mais pas le plus court chemin... Un algorithme développé par E. Dijkstra en 1959 permet de trouver le plus court chemin entre deux sommets d'un graphe. Il est utilisé quotidiennement dans vos applications de trajets GPS."
   ]
  },
  {
   "cell_type": "markdown",
   "metadata": {
    "tags": []
   },
   "source": [
    "<h2 class=\"alert alert-info\">6. Ajout des fonctions à la classe Graphe</h2>"
   ]
  },
  {
   "cell_type": "markdown",
   "metadata": {},
   "source": [
    "## Dernière étape :\n",
    "Réécrire la classe Graphe en implémentant les fonctions que nous venons de voir sous formes de nouvelles méthodes pour :\n",
    "- faire un parcours en largeur (avec file) : renvoie la liste des sommets parcourus.\n",
    "- faire un parcours en pronfondeur (récursif) : renvoie la liste des sommets parcourus.\n",
    "- détecter la présence d'un cycle : renvoie un booléen.\n",
    "- détecter la possibilité d'un chemin entre un sommet1 et un sommet2 : renvoie un booléen.\n",
    "\n",
    "Puis sauvegarder cette classe dans un fichier classe_graphe.py (pour une exploitation possible ultérieure)"
   ]
  },
  {
   "cell_type": "code",
   "execution_count": null,
   "metadata": {},
   "outputs": [],
   "source": [
    "class Graphe():  # graphe représenté par un Dictionaire d'Adjacence\n",
    "    \"\"\" Graphe implémenté à l'aide d'un dictionnaire d'adjacence.\n",
    "    Exemple : \n",
    "    self.dico = {'sommet_x': {'sommet_y' : poids_xy, 'sommet_z' : poids_xz},  etc...}\n",
    "    Chaque sommet est identifié par son étiquette (qui doit être unique !).\n",
    "    \"\"\"\n",
    "    def __init__(self):\n",
    "        \"\"\" Initialisation avec un graphe vide. \"\"\"\n",
    "        self.dico = dict()\n",
    "    \n",
    "    def ajouter_sommet(self, sommet):\n",
    "        \"\"\" Ajoute un nouveau sommet au graphe. \"\"\"\n",
    "        if not sommet in self.dico:\n",
    "            self.dico[sommet] = dict()\n",
    "    \n",
    "    def ajouter_arete(self, sommet1, sommet2, poids=1):\n",
    "        \"\"\" Ajoute une arête au graphe de sommet1 vers sommet2.\n",
    "        Si poids n'est pas renseigné, il prendra la valeur 1 par défaut. \"\"\"\n",
    "        # Si les sommets n'existent pas, on les crée avant l'arête :\n",
    "        self.ajouter_sommet(sommet1)\n",
    "        self.ajouter_sommet(sommet2)\n",
    "            # On crée la connexion sommet1 -> sommet2 (arc orienté par défaut)\n",
    "        self.dico[sommet1][sommet2] = poids\n",
    "    \n",
    "    def sommets(self):\n",
    "        \"\"\" Renvoie la liste des sommets triée par étiquette. \"\"\"\n",
    "        return sorted(list(self.dico.keys()))\n",
    "    \n",
    "    def successeurs(self, sommet):\n",
    "        \"\"\" Renvoie la liste des successeurs de sommet, triée par étiquette. \"\"\"\n",
    "        return sorted(list(self.dico[sommet].keys()))\n",
    "    \n",
    "    def poids(self, sommet1, sommet2):\n",
    "        \"\"\" Renvoie le poids de l'arête sommet1->sommet2 ou 0 si pas d'arête. \"\"\"\n",
    "        if sommet2 not in self.dico[sommet1]:\n",
    "            return 0\n",
    "        else:\n",
    "            return self.dico[sommet1][sommet2]\n",
    "            \n",
    "    def get_graphe(self):\n",
    "        \"\"\" Renvoie le dictionnaire d'adjacence représentant le graphe. \"\"\"\n",
    "        return self.dico\n",
    "    def set_graphe(self, dico):\n",
    "        \"\"\" Définit le dictionnaire d'adjacence représentant le graphe. \"\"\"\n",
    "        self.dico = dico\n",
    "    \n",
    "    def parcours_profondeur(self, depart):\n",
    "        \"\"\" Parcourt l'arbre en profondeur (DFS) \"\"\"\n",
    "        # à vous de jouer\n",
    "        # ...\n",
    "\n",
    "    def parcours_largeur(self, depart):\n",
    "        \"\"\" Parcourt l'arbre en largeur (BFS) \"\"\"\n",
    "        # à vous de jouer\n",
    "        # ...\n",
    "    \n",
    "    def cycle(self):\n",
    "        \"\"\" Renvoie True (resp. False) si le graphe contient (resp. ne contient pas) un cycle :\n",
    "        Parcourt le graphe en largeur depuis un sommet quelconque et cherche si on retombe sur le sommet de départ \"\"\"\n",
    "        # à vous de jouer\n",
    "        # ...\n",
    "    \n",
    "    def existe_chemin(self, depart, arrivee):\n",
    "        \"\"\" Renvoie True si un chemin existe entre depart et arrivee,\n",
    "        et donne un exemple de chemin possible (pas forcémetn unique) \"\"\"\n",
    "        # à vous de jouer\n",
    "        # ...\n",
    "        "
   ]
  },
  {
   "cell_type": "markdown",
   "metadata": {},
   "source": [
    "On définit pour finir un graphe orienté, non connexe (càd que tous les sommets ne sont pas reliés entre eux)."
   ]
  },
  {
   "cell_type": "code",
   "execution_count": null,
   "metadata": {},
   "outputs": [],
   "source": [
    "matrice_non_connexe = [[0,1,0,0,0,0,0,0],\n",
    "          [1,0,0,1,1,0,0,0],\n",
    "          [0,0,0,0,0,0,0,0],\n",
    "          [0,1,0,0,1,0,0,0],\n",
    "          [0,1,0,1,0,0,0,0],\n",
    "          [0,0,0,0,1,0,1,0],\n",
    "          [0,0,0,0,1,1,0,0],\n",
    "          [0,0,1,0,0,0,0,0]]\n",
    "\n",
    "sommets = 'ABCDEFGH'\n",
    "g = Graphe()\n",
    "g.set_graphe(mat2dico(matrice_non_connexe, sommets))\n",
    "dessiner(g, 'neato')"
   ]
  },
  {
   "cell_type": "code",
   "execution_count": null,
   "metadata": {},
   "outputs": [],
   "source": [
    "g.cycle()"
   ]
  },
  {
   "cell_type": "code",
   "execution_count": null,
   "metadata": {},
   "outputs": [],
   "source": [
    "for s in g.sommets():\n",
    "    print(g.parcours_largeur(s))"
   ]
  },
  {
   "cell_type": "code",
   "execution_count": null,
   "metadata": {},
   "outputs": [],
   "source": [
    "for s in g.sommets():\n",
    "    print(g.parcours_profondeur(s))"
   ]
  },
  {
   "cell_type": "code",
   "execution_count": null,
   "metadata": {},
   "outputs": [],
   "source": [
    "for i in range(len(g.sommets())):\n",
    "    s1 = g.sommets()[i]\n",
    "    for j in range(i+1, len(g.sommets())):\n",
    "        s2 = g.sommets()[j]\n",
    "        if g.existe_chemin(s1, s2) == g.existe_chemin(s2, s1) == True:\n",
    "            print(f\"Chemin réversible entre {s1} et {s2}\")\n",
    "        elif  g.existe_chemin(s1, s2):\n",
    "            print(f\"Chemin ORIENTÉ de {s1} vers {s2}\")\n",
    "        elif  g.existe_chemin(s2, s1):\n",
    "            print(f\"Chemin ORIENTÉ de {s2} vers {s1}\")\n",
    "        else:\n",
    "            print(f\"PAS de Chemin entre {s1} et {s2}\")"
   ]
  },
  {
   "cell_type": "code",
   "execution_count": null,
   "metadata": {},
   "outputs": [],
   "source": []
  }
 ],
 "metadata": {
  "kernelspec": {
   "display_name": "Python 3",
   "language": "python",
   "name": "python3"
  },
  "language_info": {
   "codemirror_mode": {
    "name": "ipython",
    "version": 3
   },
   "file_extension": ".py",
   "mimetype": "text/x-python",
   "name": "python",
   "nbconvert_exporter": "python",
   "pygments_lexer": "ipython3",
   "version": "3.7.10"
  }
 },
 "nbformat": 4,
 "nbformat_minor": 4
}
