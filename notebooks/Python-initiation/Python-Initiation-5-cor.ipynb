{
 "cells": [
  {
   "cell_type": "markdown",
   "metadata": {},
   "source": [
    "# Inititation à la programmation avec Python (niveau 2nde)\n",
    "# Épisode n°5 : interragir avec l'utilisateur : input et print"
   ]
  },
  {
   "cell_type": "markdown",
   "metadata": {},
   "source": [
    "# Print\n",
    "On a déjà pas mal utilisé cette fonction depuis le début de ces tutoriels...\n",
    "\n",
    "Vous connaissez donc l'essentiel. \n",
    "\n",
    "*Quelques rappels :*\n",
    "\n",
    "- on peut passer plusieurs arguments à la fonction print(), séparés par des virgules.\n",
    "- deux chaînes de caractères peuvent être concaténées avec le signe +.\n",
    "\n",
    "### Complément : on peut transformer un nombre en chaînes de caractères avec la fonction str()\n"
   ]
  },
  {
   "cell_type": "code",
   "execution_count": 1,
   "metadata": {},
   "outputs": [
    {
     "name": "stdout",
     "output_type": "stream",
     "text": [
      "1- Bonjour\n",
      "2- Bonjour les amis !\n",
      "3- Bonjourlesamis !\n",
      "4- Bonjour mes 2 amis !\n",
      "5- Bonjour mes 2 amis !\n"
     ]
    },
    {
     "ename": "TypeError",
     "evalue": "can only concatenate str (not \"int\") to str",
     "output_type": "error",
     "traceback": [
      "\u001b[0;31m---------------------------------------------------------------------------\u001b[0m",
      "\u001b[0;31mTypeError\u001b[0m                                 Traceback (most recent call last)",
      "\u001b[0;32m<ipython-input-1-6acdbd807a8c>\u001b[0m in \u001b[0;36m<module>\u001b[0;34m\u001b[0m\n\u001b[1;32m      9\u001b[0m \u001b[0mprint\u001b[0m\u001b[0;34m(\u001b[0m\u001b[0;34m\"5- Bonjour mes \"\u001b[0m \u001b[0;34m+\u001b[0m \u001b[0mstr\u001b[0m\u001b[0;34m(\u001b[0m\u001b[0;36m2\u001b[0m\u001b[0;34m)\u001b[0m \u001b[0;34m+\u001b[0m \u001b[0;34m\" amis !\"\u001b[0m\u001b[0;34m)\u001b[0m \u001b[0;31m# ici on concatène la chaîne \"2\" avec le reste\u001b[0m\u001b[0;34m\u001b[0m\u001b[0;34m\u001b[0m\u001b[0m\n\u001b[1;32m     10\u001b[0m \u001b[0;34m\u001b[0m\u001b[0m\n\u001b[0;32m---> 11\u001b[0;31m \u001b[0mprint\u001b[0m\u001b[0;34m(\u001b[0m\u001b[0;34m\"6- Bonjour mes \"\u001b[0m \u001b[0;34m+\u001b[0m \u001b[0;36m2\u001b[0m \u001b[0;34m+\u001b[0m \u001b[0;34m\" amis !\"\u001b[0m\u001b[0;34m)\u001b[0m      \u001b[0;31m# ERREUR car le nombre 2 ne peut pas être concaténé !\u001b[0m\u001b[0;34m\u001b[0m\u001b[0;34m\u001b[0m\u001b[0m\n\u001b[0m",
      "\u001b[0;31mTypeError\u001b[0m: can only concatenate str (not \"int\") to str"
     ]
    }
   ],
   "source": [
    "print(\"1- Bonjour\")\n",
    "\n",
    "print(\"2- Bonjour\", \"les\", \"amis !\")     # les virgules créent une espace automatiquement\n",
    "   \n",
    "print(\"3- Bonjour\" + \"les\" + \"amis !\")   # avec la concaténation, on doit prévoir les espaces si on en veut\n",
    "\n",
    "print(\"4- Bonjour mes\", 2, \"amis !\")     # Python se débrouille pour afficher des nombres tout seul !\n",
    "\n",
    "print(\"5- Bonjour mes \" + str(2) + \" amis !\") # ici on concatène la chaîne \"2\" avec le reste\n",
    "\n",
    "print(\"6- Bonjour mes \" + 2 + \" amis !\")      # ERREUR car le nombre 2 ne peut pas être concaténé !"
   ]
  },
  {
   "cell_type": "markdown",
   "metadata": {},
   "source": [
    "# Input\n",
    "Pour recevoir de l'information d'un utlisateur derrière son clavier, on peut utiliser la fonction ```input(message)``` qui écrit un *message* et **attend** et renvoie au programme la saisie d'un texte au clavier. \n",
    "\n",
    "C'est donc une **fonction bloquante** tant que la touche de validation (touche ENTRÉE) n'a pas été \"frappée\".\n",
    "\n",
    "Pour pouvoir manipuler l'information saisie au clavier, il est **indispensable d'affecter la valeur renoyée** par la fonction input à une variable du programme.\n",
    "\n",
    "*Remarque importante* : Tout le texte saisi jusqu'à la touche ENTRÉE est **interprété comme du texte** et uniquement du texte, même si on frappe sur le pavé numérique. Cela signifie que si l'intention du programmeur est de récupérer une saisie numérique, il faudra d'abord transformer cette saisie en nombre avec la fonction ```eval()```.\n",
    "\n",
    "*Encore une remarque* : on rencontre aussi assez souvent dans les programmes la transformation en nombres avec les fonctions ```int()``` ou ```float```, qui transforment respectivement les saisies clavier de façon spécifique en nombre entier ou en nombre décimal."
   ]
  },
  {
   "cell_type": "markdown",
   "metadata": {},
   "source": [
    "### Exemple : petit questionnaire "
   ]
  },
  {
   "cell_type": "code",
   "execution_count": null,
   "metadata": {},
   "outputs": [],
   "source": [
    "# interraction avec l'utilisateur :\n",
    "nom = input(\"Entrez votre nom : \")\n",
    "prenom = input(\"Entrez votre prénom : \")\n",
    "age = int(input(\"Entrez votre âge : \"))\n",
    "nombre = eval(input(\"Entrez un nombre entre 0 et 1 : \"))"
   ]
  },
  {
   "cell_type": "code",
   "execution_count": null,
   "metadata": {},
   "outputs": [],
   "source": [
    "# exploitation du questionnaire :\n",
    "\n",
    "print(\"\\nBonjour\", prenom, nom, \"!\")\n",
    "\n",
    "mon_age = 15\n",
    "if age > mon_age:\n",
    "    print(\"Tu es plus âgé que moi : pourras-tu me faire profiter de ton expérience ?\")\n",
    "elif age < mon_age:\n",
    "    print(\"Tiens, tu es bien jeune !\")\n",
    "else:\n",
    "    print(\"Ça alors, on a le même âge !\")\n",
    "    \n",
    "print(\"Tu as choisi le nombre\", nombre)"
   ]
  },
  {
   "cell_type": "markdown",
   "metadata": {},
   "source": [
    "# The End.\n",
    "Cette première intitation s'arrête ici, mais bien entendu nous n'avons fait qu'effleurer la programmation avec Python. \n",
    "\n",
    "Cependant vous connaissez les bases et vous êtes parré pour aller plus loin tout seul ou accompagné par un professseur si vous désirez choisir la Spécialité NSI (Numérique et Science Informatique) en classe de Première.\n",
    "\n",
    "Un dernier conseil avant de se quitter, utilisez à outrance la commande ```help()``` pour en savoir plus sur un objet Python (et aussi la commande ```dir()``` qui liste les méthodes applicables à un objet):"
   ]
  },
  {
   "cell_type": "code",
   "execution_count": null,
   "metadata": {},
   "outputs": [],
   "source": [
    "help(list.append)"
   ]
  },
  {
   "cell_type": "code",
   "execution_count": null,
   "metadata": {},
   "outputs": [],
   "source": [
    "dir(list)"
   ]
  },
  {
   "cell_type": "code",
   "execution_count": null,
   "metadata": {},
   "outputs": [],
   "source": []
  }
 ],
 "metadata": {
  "kernelspec": {
   "display_name": "Python 3.8.1 64-bit ('python38': conda)",
   "language": "python",
   "name": "python38164bitpython38conda56991d5ad1414e06a4dcd344400cf456"
  },
  "language_info": {
   "codemirror_mode": {
    "name": "ipython",
    "version": 3
   },
   "file_extension": ".py",
   "mimetype": "text/x-python",
   "name": "python",
   "nbconvert_exporter": "python",
   "pygments_lexer": "ipython3",
   "version": "3.8.1"
  }
 },
 "nbformat": 4,
 "nbformat_minor": 4
}
