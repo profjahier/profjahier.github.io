{
 "cells": [
  {
   "cell_type": "markdown",
   "metadata": {},
   "source": [
    "# Inititation à la programmation avec Python (niveau 2nde)\n",
    "# Épisode n°2 : les fonctions"
   ]
  },
  {
   "cell_type": "markdown",
   "metadata": {},
   "source": [
    "Pour constuire un projet conséquent, il y a souvent beaucoup de petites tâches à assembler et à créer. En programmation, chacune de ces tâches élémentaires (comme des microprogrammes) sont écrites dans des **fonctions**."
   ]
  },
  {
   "cell_type": "markdown",
   "metadata": {},
   "source": [
    "## Définition d'une fonction\n",
    "Une fonction est introduite avec le mot clef ```def``` suivie du nom de la fonction, puis entre parenthèses les paramètres d'entrée de la fonction.\n",
    "\n",
    "Voyons un exemple assez simple pour commencer : on désire créer une fonction qui renvoie la somme de deux nombres. Observez la construction de cette fonction dans la cellule suivante :"
   ]
  },
  {
   "cell_type": "code",
   "execution_count": 1,
   "metadata": {},
   "outputs": [],
   "source": [
    "# notre 1ère fonction :\n",
    "def somme(a, b):\n",
    "    resultat = a + b\n",
    "    return resultat"
   ]
  },
  {
   "cell_type": "markdown",
   "metadata": {},
   "source": [
    "Lors de l'exécution de la cellule précédente, rien ne se passe (rien de visible en tout cas). On vient juste de définir \"une boite noire\" capable de calculer la somme de 2 nombres a et b et de renvoyer le résultat de cette opération.\n",
    "\n",
    "Pour que cette fonction deviennet opérante concrètement, il faut l'*appeler* (on dit aussi l'*invoquer*) avec des valeurs pour ses paramètres d'entrée a et b. Voyez comment ci-dessous :"
   ]
  },
  {
   "cell_type": "code",
   "execution_count": 2,
   "metadata": {},
   "outputs": [
    {
     "data": {
      "text/plain": [
       "12"
      ]
     },
     "execution_count": 2,
     "metadata": {},
     "output_type": "execute_result"
    }
   ],
   "source": [
    "# appel de la fonction somme définie précédemment :\n",
    "somme(5, 7)"
   ]
  },
  {
   "cell_type": "markdown",
   "metadata": {},
   "source": [
    "Lors de l'appel de la fonction, son paramètre ```a``` prend la valeur 5 et son paramètre ```b``` la valeur 7. Ensuite dans le corps de la fonction, la somme des contenus des variables ```a``` et ```b``` est affectée à la variable ```resultat``` et cette variable est *renvoyée* par la fonction, avec le mot clef **return**."
   ]
  },
  {
   "cell_type": "markdown",
   "metadata": {},
   "source": [
    "On peut bien entendu affecter à une autre variable la valeur renoyée par une fonction.\n",
    "\n",
    "Observez :"
   ]
  },
  {
   "cell_type": "code",
   "execution_count": 3,
   "metadata": {},
   "outputs": [
    {
     "name": "stdout",
     "output_type": "stream",
     "text": [
      "La somme de 12 et -5 vaut : 7\n"
     ]
    }
   ],
   "source": [
    "calcul = somme(12, -5)\n",
    "print(\"La somme de 12 et -5 vaut :\", calcul)"
   ]
  },
  {
   "cell_type": "markdown",
   "metadata": {},
   "source": [
    "# Quelques précisions sur l'écriture d'une fonction :\n",
    "Avez-vous remarqué les deux points (**:**) à la fin de la ligne de *signature* de la fonction, après les parenthèses ? Ils sont obligatoires ! C'est le langage Python qui les impose.\n",
    "\n",
    "Ensuite, le reste du code défini dans la fonction est décalé par rapport à la marge. Cela s'appelle une **indentation** (4 espaces ou une tabulation). \n",
    "\n",
    "Le rôle de l'indentation n'est pas seulement de \"faire joli\", même si ça aide bien la lecture du code (c'est d'ailleurs quand même un de ses buts).\n",
    "Le rôle premier de l'indentation est de **délimiter un bloc de code**, une suite d'instructions qu'il faut exécuter ensembles.\n",
    "\n",
    "\n",
    "*Remarque* : on trouvera des blocs de code indentés à chaque fois que l'on croise deux points (**:**) en Python.\n",
    "\n",
    "Finalement, on l'a déjà évoqué, la fonction **renvoie** une *sortie*, avec le mot clef **return** : le résultat de son action.\n",
    "\n",
    "*Remarque* : certaines fonctions peuvent effectuer une tache sans renvoyer de résultat particulier.\n"
   ]
  },
  {
   "cell_type": "code",
   "execution_count": 4,
   "metadata": {},
   "outputs": [
    {
     "name": "stdout",
     "output_type": "stream",
     "text": [
      "40\n",
      "8\n"
     ]
    }
   ],
   "source": [
    "# voici un autre exemple de définition de fonction : essayez de deviner son action...\n",
    "def f(x):\n",
    "    x = 5 * x\n",
    "    return x\n",
    "\n",
    "# notez bien qu'on arrête l'indentation (donc on quitte la fonction), et on écrit de nouveau au bord de la marge :\n",
    "nombre = 8      # affection de la valeur 8 à la variable nombre\n",
    "a = f(nombre)   # appel de la fonction f avec le contenu de la variable nombre comme valeur du paramètre d'entrée x\n",
    "print(a)        # affichage du résultat\n",
    "print(nombre)   # remarquez que la variable nombre n'a pas changé"
   ]
  },
  {
   "cell_type": "markdown",
   "metadata": {},
   "source": [
    "# Exercices :"
   ]
  },
  {
   "cell_type": "markdown",
   "metadata": {},
   "source": [
    "## 1- Écrire une fonction ```augmente``` qui prend un nombre comme paramètre d'entrée et qui renvoie ce nombre augmenté de 3.\n",
    "Faire un appel à cette fonction pour contrôler son bon fonctionnement."
   ]
  },
  {
   "cell_type": "code",
   "execution_count": 5,
   "metadata": {},
   "outputs": [],
   "source": [
    "# à vous de jouer ci-dessous :\n",
    "def augmente(n):\n",
    "    res = n + 3\n",
    "    return res"
   ]
  },
  {
   "cell_type": "markdown",
   "metadata": {},
   "source": [
    "## 2- Écrire une fonction ```augmente_n``` qui prend deux paramètres d'entrée :\n",
    "-  un nombre (x) à augmenter \n",
    "- la valeur (n) dont on doit augmenter ce nombre \n",
    "\n",
    "Faire un appel à cette fonction pour contrôler son bon fonctionnement."
   ]
  },
  {
   "cell_type": "code",
   "execution_count": 6,
   "metadata": {},
   "outputs": [
    {
     "data": {
      "text/plain": [
       "17"
      ]
     },
     "execution_count": 6,
     "metadata": {},
     "output_type": "execute_result"
    }
   ],
   "source": [
    "# à vous de jouer\n",
    "def augmente_n(x, n):\n",
    "    res = x + n\n",
    "    return res\n",
    "\n",
    "augmente_n(10, 7)"
   ]
  },
  {
   "cell_type": "markdown",
   "metadata": {},
   "source": [
    "## 3- Écrire une fonction qui calcule la vitesse d'un véhicule connaissant la distance parcourue et la durée du trajet.\n",
    "Choisissez des noms pertinents pour les paramètres d'entrée.\n",
    "\n",
    "Rappel : v = d / t\n",
    "\n",
    "Et bien entendu, testez l'appel de votre fonction pour vérifier si elle semble bien faire son travail."
   ]
  },
  {
   "cell_type": "code",
   "execution_count": 7,
   "metadata": {},
   "outputs": [
    {
     "data": {
      "text/plain": [
       "5.0"
      ]
     },
     "execution_count": 7,
     "metadata": {},
     "output_type": "execute_result"
    }
   ],
   "source": [
    "# à vous de jouer\n",
    "def vitesse(distance, temps):\n",
    "    return distance / temps\n",
    "\n",
    "d, t = 10, 2\n",
    "vitesse(d, t)"
   ]
  },
  {
   "cell_type": "markdown",
   "metadata": {},
   "source": [
    "## 4- Écrire une fonction qui calcule la surface d'un rectangle.\n",
    "*Indice* : pensez quels sont les paramètres d'entrée.\n",
    "\n",
    "Et n'oubliez d'appeler la fonction pour la tester."
   ]
  },
  {
   "cell_type": "code",
   "execution_count": 8,
   "metadata": {},
   "outputs": [
    {
     "data": {
      "text/plain": [
       "15"
      ]
     },
     "execution_count": 8,
     "metadata": {},
     "output_type": "execute_result"
    }
   ],
   "source": [
    "# à vous de jouer\n",
    "def surface_rectangle(L, l):\n",
    "    return L * l\n",
    "\n",
    "surface_rectangle(5, 3)"
   ]
  },
  {
   "cell_type": "markdown",
   "metadata": {},
   "source": [
    "## 5- Écrire une fonction ```age``` qui calcule l'âge d'une personne.\n",
    "Quel sont les paramètres d'entrée ? (ne cherchez pas à fignoler avec le mois et le jour de naissance...)\n",
    "\n",
    "Et n'oubliez d'appeler la fonction pour la tester."
   ]
  },
  {
   "cell_type": "code",
   "execution_count": 9,
   "metadata": {},
   "outputs": [
    {
     "data": {
      "text/plain": [
       "16"
      ]
     },
     "execution_count": 9,
     "metadata": {},
     "output_type": "execute_result"
    }
   ],
   "source": [
    "# à vous de jouer\n",
    "def age(annee_naissance, annee_en_cours):\n",
    "    return annee_en_cours - annee_naissance\n",
    "\n",
    "age(2004, 2020)"
   ]
  },
  {
   "cell_type": "markdown",
   "metadata": {},
   "source": [
    "## 6- Écrire une fonction ```accueil``` qui affiche un message de bienvenue\n",
    "Elle prend en paramètre le nom d'une personne (c'est une chaine de caractères) et elle écrit :\n",
    "    \n",
    "    \"Bienvenue à toi, <nom de la personne> !\"\n",
    "\n",
    "Cette fonction ne renvoie rien.\n",
    "\n",
    "\n",
    "\n",
    "Et n'oubliez d'appeler la fonction pour la tester."
   ]
  },
  {
   "cell_type": "code",
   "execution_count": 10,
   "metadata": {},
   "outputs": [
    {
     "name": "stdout",
     "output_type": "stream",
     "text": [
      "Bienvenue à toi, Antoine\n"
     ]
    }
   ],
   "source": [
    "# à vous de jouer\n",
    "def accueil(nom):\n",
    "    print(\"Bienvenue à toi,\", nom)\n",
    "    \n",
    "accueil(\"Antoine\")"
   ]
  },
  {
   "cell_type": "markdown",
   "metadata": {},
   "source": [
    "# Fonction qui utilise une fonction !\n",
    "Une fonction peut bien entendu appeler une autre fonction.\n",
    "\n",
    "L'exemple suivant s'appuie sur les 2 fonctions que vous venez de créer."
   ]
  },
  {
   "cell_type": "code",
   "execution_count": 11,
   "metadata": {},
   "outputs": [],
   "source": [
    "def accueil_age_2050(nom, naissance):\n",
    "    \"\"\" \n",
    "    Cette fonction écrit un message d'accueil,\n",
    "    et annonce votre âge en 2050 ! \n",
    "    \"\"\"\n",
    "    annee = 2050  # définition d'une variable dans le corps de la fonction\n",
    "    accueil(nom)  # appel à la fonction accueil pour écrire un début de message\n",
    "    futur_age = age(naissance, annee) # calcul de l'âge en 2050\n",
    "    print(\"En\", annee, \", tu auras :\", futur_age,\"ans.\")  # affichage prophétique  "
   ]
  },
  {
   "cell_type": "code",
   "execution_count": 12,
   "metadata": {},
   "outputs": [
    {
     "name": "stdout",
     "output_type": "stream",
     "text": [
      "Bienvenue à toi, Tony\n",
      "En 2050 , tu auras : 46 ans.\n"
     ]
    }
   ],
   "source": [
    "accueil_age_2050('Tony', 2004)"
   ]
  },
  {
   "cell_type": "markdown",
   "metadata": {},
   "source": [
    "# Fonction qui ne prend aucun paramètre en entrée, et qui renvoie quelque chose...\n",
    "Une fonction peut aussi servir effectuer une tâche qui ne dépend d'aucun paramètre d'entrée.\n",
    "\n",
    "On pourrait par exemple imaginer une fonction qui crée un nombre alétaoire entre 1 et 10 (idée bizarre, OK...).\n",
    "\n",
    "Ne cherchez pas à comprendre toutes les lignes de la cellule suivante (*volontairement compliquée*) : le but est juste de faire des appels répétés à la fonction ```hasard``` et de vérifier qu'elle fait bien le travail souhaité."
   ]
  },
  {
   "cell_type": "code",
   "execution_count": 13,
   "metadata": {},
   "outputs": [],
   "source": [
    "# dans cette cellule, on crée la fonction souhaitée\n",
    "from random import choice\n",
    "\n",
    "def hasard():\n",
    "    liste = [i for i in range(1, 11)]\n",
    "    nombre = choice(liste)\n",
    "    return nombre"
   ]
  },
  {
   "cell_type": "code",
   "execution_count": 14,
   "metadata": {},
   "outputs": [
    {
     "data": {
      "text/plain": [
       "8"
      ]
     },
     "execution_count": 14,
     "metadata": {},
     "output_type": "execute_result"
    }
   ],
   "source": [
    "# exécutez plusieurs fois de suite cette cellule pour tester notre fonction.\n",
    "hasard()"
   ]
  },
  {
   "cell_type": "markdown",
   "metadata": {},
   "source": [
    "Le point à noter est qu'**il ne faut pas oublier les parenthèses**, même si la fonction ne prend aucun paramètre d'entrée."
   ]
  },
  {
   "cell_type": "markdown",
   "metadata": {},
   "source": [
    "### Une dernière remarque avant de se quitter\n",
    "Vous avez remarqué que chaque ligne de code qui commence par un dièse # n'est pas interprétée par Python.\n",
    "On appelle cela un **commentaire**, cela permet d'éclairer son code pour qu'il soit lu aisément : ça facilite la compréhension !"
   ]
  },
  {
   "cell_type": "markdown",
   "metadata": {},
   "source": [
    "# To be continued... Pour la suite, ouvrez le notebook n°3."
   ]
  },
  {
   "cell_type": "markdown",
   "metadata": {},
   "source": [
    "Cliquer dans le menu **File -> Close and Halt** (en Français :  **Fichier -> Fermer et Arrêter**), puis ouvrir le fichier *Python-initiation-3.ipynb*."
   ]
  },
  {
   "cell_type": "code",
   "execution_count": null,
   "metadata": {},
   "outputs": [],
   "source": []
  }
 ],
 "metadata": {
  "kernelspec": {
   "display_name": "Python 3.8.1 64-bit ('python38': conda)",
   "language": "python",
   "name": "python38164bitpython38conda56991d5ad1414e06a4dcd344400cf456"
  },
  "language_info": {
   "codemirror_mode": {
    "name": "ipython",
    "version": 3
   },
   "file_extension": ".py",
   "mimetype": "text/x-python",
   "name": "python",
   "nbconvert_exporter": "python",
   "pygments_lexer": "ipython3",
   "version": "3.8.1"
  }
 },
 "nbformat": 4,
 "nbformat_minor": 4
}
