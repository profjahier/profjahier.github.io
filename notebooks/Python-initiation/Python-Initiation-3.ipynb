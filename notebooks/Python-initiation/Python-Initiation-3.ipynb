{
 "cells": [
  {
   "cell_type": "markdown",
   "metadata": {},
   "source": [
    "# Inititation à la programmation avec Python (niveau 2nde)\n",
    "# Épisode n°3 : les booléens, les structures conditionnelles et la boucle non bornée (Tant que)"
   ]
  },
  {
   "cell_type": "markdown",
   "metadata": {},
   "source": [
    "# Les booléens\n",
    "Les booléens sont un type de variables très courantes en informatique : ce sont des **variables logiques** qui ne peuvent prendre que deux valeurs : **Vrai ou Faux** (True , False).\n",
    "\n",
    "Observez les retours pour chaque exécution des cellules suivantes, dans lesquelles on présente au passage tous les opérateurs de comparaison :"
   ]
  },
  {
   "cell_type": "code",
   "execution_count": null,
   "metadata": {},
   "outputs": [],
   "source": [
    "# infériorité ?\n",
    "5 < 7"
   ]
  },
  {
   "cell_type": "code",
   "execution_count": null,
   "metadata": {},
   "outputs": [],
   "source": [
    "# supériorité ?\n",
    "5 > 7"
   ]
  },
  {
   "cell_type": "code",
   "execution_count": null,
   "metadata": {},
   "outputs": [],
   "source": [
    "# inférieur ou égal ?\n",
    "5 <= 7"
   ]
  },
  {
   "cell_type": "code",
   "execution_count": null,
   "metadata": {},
   "outputs": [],
   "source": [
    "# supérieur ou égal ?\n",
    "5 >= 7"
   ]
  },
  {
   "cell_type": "code",
   "execution_count": null,
   "metadata": {},
   "outputs": [],
   "source": [
    "# différence ?\n",
    "5 != 7"
   ]
  },
  {
   "cell_type": "code",
   "execution_count": null,
   "metadata": {},
   "outputs": [],
   "source": [
    "# égalité ?\n",
    "5 == 7"
   ]
  },
  {
   "cell_type": "markdown",
   "metadata": {},
   "source": [
    "Remarquez en particulier l'expression pour tester l'égalité avec le double signe égal (pour ne pas le confondre avec l'opérateur d'affectation de valeur à une variable)."
   ]
  },
  {
   "cell_type": "markdown",
   "metadata": {},
   "source": [
    "On peut directement affecter les valeurs True ou False à des variables :"
   ]
  },
  {
   "cell_type": "code",
   "execution_count": null,
   "metadata": {},
   "outputs": [],
   "source": [
    "a = True\n",
    "b = False\n",
    "c = 5 == 7         # rappel 5 == 7 vaut False (car 5 n'est pas égal à 7)\n",
    "print(a, b, c)"
   ]
  },
  {
   "cell_type": "markdown",
   "metadata": {},
   "source": [
    "# Instructions conditionnelles : si ... sinon si ... sinon ...\n",
    "De nombreux algorithmes proposent d'effectuer certaines tâches sous certaines conditions : un bloc de code ne sera exécuté que si une condition est remplie ; dans le cas où la condition ne serait pas remplie, l'algorithme pourra prendre une autre voie et exécuter un autre bloc de code.\n",
    "\n",
    "*Exemple 1* : **si** le temps est clément, je vais à la plage, **sinon** je vais au cinéma.\n",
    "\n",
    "*Exemple 2* : **si** le soleil brille, je vais à la plage, **sinon si** le temps est quand même correct, je vais faire un pique-nique, **sinon** (dans tous les autres cas), je vais au cinéma.\n",
    "\n",
    "Python propose cette structure avec les mots clefs ```if``` ... ```elif``` ... ```else``` (*elif* est la contraction de *else if*).\n",
    "\n",
    "À la fin de chacune de ces instructions, il y a un symbole *deux points* (:) et le bloc de code qui doit être exécuté si la condition est satisfaite doit être **indenté**.\n",
    "\n",
    "Les conditions prennent la forme d'une variable booléenne qui en général est le résultat d'une test de comparaison (comme ceux vus dans la 1ere partie de ce notebook)."
   ]
  },
  {
   "cell_type": "markdown",
   "metadata": {},
   "source": [
    "### Exercice : analyser le code ci-dessous et modifier la valeur de la variable météo pour faire afficher chacune des possibillités."
   ]
  },
  {
   "cell_type": "code",
   "execution_count": null,
   "metadata": {},
   "outputs": [],
   "source": [
    "# voici une écriture en Python qui traduit l'exemple ci-dessus :\n",
    "meteo = \"soleil brille\"  # changez librement cette valeur pour faire des tests\n",
    "\n",
    "if meteo == \"soleil brille\":\n",
    "    print(\"Je vais à la plage car le soleil brille.\")\n",
    "elif meteo == \"temps correct\":\n",
    "    print(\"Je vais faire un pique-nique car le soleil ne brille pas mais le temps est correct.\")\n",
    "else:\n",
    "    print(\"Le soleil ne brille pas et le temps n'est pas correct, alors je vais au cinéma !\")"
   ]
  },
  {
   "cell_type": "markdown",
   "metadata": {},
   "source": [
    "### Exercice :  Écrire une fonction ```acces``` qui prend un nombre comme paramètre d'entrée (correspondant à un âge) et qui renvoie un code d'accès (0, 1, 2, ou 3) en fonction de l'âge :\n",
    " \n",
    "     - code 0 : accès aux majeurs uniquement\n",
    "     - code 1 : accès aux ados de 15 à 17 ans\n",
    "     - code 2 : accès aux enfants de 10 à 14 ans\n",
    "     - code 3 : accès à tous"
   ]
  },
  {
   "cell_type": "code",
   "execution_count": null,
   "metadata": {},
   "outputs": [],
   "source": [
    "# à vous de jouer ci-dessous :\n",
    "\n"
   ]
  },
  {
   "cell_type": "markdown",
   "metadata": {},
   "source": [
    "Si votre fonction est correctement écrite, vous devez pouvoir exécuter la cellule ci-dessous et ne voir aucun message d'erreur apparaître. Si vous avez commis une erreur, un message vous signalera la ligne qui pose un problème..."
   ]
  },
  {
   "cell_type": "code",
   "execution_count": null,
   "metadata": {},
   "outputs": [],
   "source": [
    "# cellule de tests (s'il n'apparait rien lors de son exécution, c'est bon signe !)\n",
    "assert acces(20) == 0\n",
    "assert acces(18) == 0\n",
    "assert acces(17) == 1\n",
    "assert acces(15) == 1\n",
    "assert acces(12) == 2\n",
    "assert acces(10) == 2\n",
    "assert acces(8) == 3"
   ]
  },
  {
   "cell_type": "markdown",
   "metadata": {},
   "source": [
    "### Exercice :  Écrire une fonction qui renvoie \"l'écart\" entre deux nombres (la valeur absolue de la différence entre ces deux nombres).\n",
    "Exemples :\n",
    "\n",
    "    >>> ecart(7, 5)\n",
    "    2\n",
    "    >>> ecart(5, 7)\n",
    "    2\n",
    "    >>> ecart(-7, 5)\n",
    "    12\n",
    "    >>> ecart(-7, -5)\n",
    "    2\n",
    "    >>> ecart(-5, 7)\n",
    "    12"
   ]
  },
  {
   "cell_type": "code",
   "execution_count": null,
   "metadata": {},
   "outputs": [],
   "source": [
    "# à vous de jouer\n",
    "\n"
   ]
  },
  {
   "cell_type": "markdown",
   "metadata": {},
   "source": [
    "Vous pouvez exécuter la cellule suivante pour voir si votre fonction semble correcte :"
   ]
  },
  {
   "cell_type": "code",
   "execution_count": null,
   "metadata": {},
   "outputs": [],
   "source": [
    "# cellule pour faire des tests :\n",
    "assert ecart(7, 5) == 2\n",
    "assert ecart(5, 7) == 2\n",
    "assert ecart(-7, 5) == 12\n",
    "assert ecart(-7, -5) == 2\n",
    "assert ecart(-5, 7) == 12\n",
    "assert ecart(7, -5) == 12\n",
    "assert ecart(-5, 5) == 10\n",
    "assert ecart(5, 5) == 0"
   ]
  },
  {
   "cell_type": "markdown",
   "metadata": {},
   "source": [
    "### Exercice : Analyser le code suivant et indiquer si le message \"Tout va bien\" s'affiche toujours, jamais ou de façon incertaine."
   ]
  },
  {
   "cell_type": "code",
   "execution_count": null,
   "metadata": {},
   "outputs": [],
   "source": [
    "a = True\n",
    "\n",
    "if a:\n",
    "    print(\"Tout va bien\")\n",
    "else:\n",
    "    print(\"Tout va mal !\")"
   ]
  },
  {
   "cell_type": "markdown",
   "metadata": {},
   "source": [
    "# Boucle non bornée : Tant que ...\n",
    "Les informaticiens ont horreur (à raison)  de se répéter ! De ce point de vue, la paresse est bien perçue...\n",
    "\n",
    "Les **boucles** permettent de répéter une action plusieurs fois. Les boucles **non bornées** répètent l'action (le bloc de code) tant qu'une condition reste satisfaite (on ne connaît pas à l'avance le nombre de fois que le bloc de code va se répéter, c'est en ce sens que la boucle est non bornée).\n",
    "\n",
    "En Python, la condition à tester pour savoir si le bloc de code doit être répété est introduite par le mot clef **while**, et se termine par un deux-points.\n",
    "\n",
    "Comme nous en avons maintenant l'habitude, le bloc de code à répéter doit être indenté."
   ]
  },
  {
   "cell_type": "markdown",
   "metadata": {},
   "source": [
    "Voyez l'exemple suivant qui multiplie un nombre par 2 tant que celui-ci reste inférieur à 150. On a ajouté un système pour compter les *itérations* (c'est à dire les passages dans le corps de la boucle)."
   ]
  },
  {
   "cell_type": "code",
   "execution_count": null,
   "metadata": {},
   "outputs": [],
   "source": [
    "n = 4         # définition de la valeur initiale du nombre\n",
    "compteur = 1  # cette variable compteur permet de compter le nombre d'itérations de la boucle\n",
    "\n",
    "while n < 150:\n",
    "    print(\"Itération n°\", compteur, end=\" \")\n",
    "    print(\"=> En entrant dans ce 'tour de boucle' n =\", n)\n",
    "    n = 2 * n\n",
    "    compteur = compteur + 1  # on augmente la valeur du compteur pour comptabiliser cette itération\n",
    "    \n",
    "print(\"\\nAprès avoir quitté la boucle, n =\", n)"
   ]
  },
  {
   "cell_type": "markdown",
   "metadata": {},
   "source": [
    "### Exercice : Analyse de programme  :\n",
    "On a écrit une fonction ```mystere```. Analyser le code de cette fonction et proposer un nom pertinent pour cette fonction."
   ]
  },
  {
   "cell_type": "code",
   "execution_count": null,
   "metadata": {},
   "outputs": [],
   "source": [
    "def mystere(x, n):\n",
    "    \"\"\" \n",
    "    x est un nombre quelconque\n",
    "    n est un entier positif \n",
    "    \"\"\"\n",
    "    i = 0\n",
    "    total = 0\n",
    "    while i != n:\n",
    "        total = total + x\n",
    "        i = i + 1\n",
    "    return total"
   ]
  },
  {
   "cell_type": "code",
   "execution_count": null,
   "metadata": {},
   "outputs": [],
   "source": [
    "# vous pouvez utiliser cette cellule pour faire des appels à la fonction mystère :\n",
    "mystere(-3.7, 2)"
   ]
  },
  {
   "cell_type": "markdown",
   "metadata": {},
   "source": [
    "### Exercice : Division  euclidienne (problème un peu difficile) :\n",
    "\n",
    "Écrire une fonction ```reste``` qui renvoie le reste r de la division euclidienne d'un nombre a par un nombre b. \n",
    "\n",
    "Écrire une fonction ```quotient``` qui renvoie le quotient q de la division euclidienne d'un nombre a par un nombre b. \n",
    "\n",
    "\n",
    "Dans les 2 cas, on cherchera à soustraire le nombre b du nombre a tant que le reste de cette soustraction est  positif.\n",
    "\n",
    "*Exemple* : 17 = 5 x 3 + 2\n",
    "    \n",
    "    reste(17, 5) vaut 2\n",
    "    quotient(17, 5) vaut 3"
   ]
  },
  {
   "cell_type": "code",
   "execution_count": null,
   "metadata": {},
   "outputs": [],
   "source": [
    "# à vous de jouer\n",
    "\n"
   ]
  },
  {
   "cell_type": "code",
   "execution_count": null,
   "metadata": {},
   "outputs": [],
   "source": [
    "print(quotient(17, 5), reste(17, 5))"
   ]
  },
  {
   "cell_type": "code",
   "execution_count": null,
   "metadata": {},
   "outputs": [],
   "source": [
    "# cellule de test des 2 fonctions reste et quotient\n",
    "assert quotient(7968118, 16462) == 7968118 // 16462\n",
    "assert reste(7968118, 16462) == 7968118 % 16462"
   ]
  },
  {
   "cell_type": "markdown",
   "metadata": {},
   "source": [
    "*Remarque* : On peut regrouper ces 2 fonctions en une seule. En effet une fonction peut renvoyer 2 valeurs en une seule fois."
   ]
  },
  {
   "cell_type": "code",
   "execution_count": 1,
   "metadata": {},
   "outputs": [
    {
     "data": {
      "text/plain": [
       "(3, 2)"
      ]
     },
     "execution_count": 1,
     "metadata": {},
     "output_type": "execute_result"
    }
   ],
   "source": [
    "def division(a, b):\n",
    "    n = 0\n",
    "    while a >= b:\n",
    "        a = a - b\n",
    "        n = n + 1\n",
    "    return (n, a)\n",
    "\n",
    "division(17, 5)"
   ]
  },
  {
   "cell_type": "markdown",
   "metadata": {},
   "source": [
    "### Danger ! Boucle non bornée qui ne s'arrête jamais...\n",
    "Si la condition de sortie de boucle n'est jamais satisfaite, alors la boucle ne s'arrête jamais !!!\n",
    "\n",
    "Imaginez le programme suivant :\n",
    "\n",
    "    while True:\n",
    "        print(\"J'y suis, j'y reste !\")\n",
    "        \n",
    "Les répétitions vont durer un moment... Une seule solution, mettre fin violemment au programme. Ceci peut se faire en cliquant dans le menu **Kernel -> Interrupt** (En Français : **Noyau -> Interrompre**)."
   ]
  },
  {
   "cell_type": "code",
   "execution_count": null,
   "metadata": {},
   "outputs": [],
   "source": [
    "# cellule idiote...\n",
    "# exécutez la cellule et quand vous en avez marre (rapidement sans doute...),\n",
    "# cliquez dans le menu Noyau et Interrompre.\n",
    "while True:\n",
    "    print(\"J'y suis, j'y reste !\")"
   ]
  },
  {
   "cell_type": "markdown",
   "metadata": {},
   "source": [
    "### Cas particulier :\n",
    "Pourtant, **vous rencontrerez ce genre d'écriture lors de l'étude des microcontrôleurs** ! En effet si l'on veut qu'un programme soit continuellement \"à l'écoute\" d'une action de l'utilisateur, on écrit tout son code à l'interieur d'une telle boucle infinie.\n",
    "\n",
    "Ce programme pourra par exemple réagir à des événements comme l'appui d'une touche sur le clavier ou un clic de souris... Cela s'appelle la **programmation évènementielle**. Ceci n'est pas du tout exceptionnel, le *système d'exploitation* de votre ordinateur est constamment à votre écoute et prêt à réagir à vos actions.\n",
    "\n",
    "Il faudra cependant prévoir un événement particulier qui mettra fin au programme (le clic sur une croix par exemple)."
   ]
  },
  {
   "cell_type": "markdown",
   "metadata": {},
   "source": [
    "# To be continued... Pour la suite, ouvrez le notebook n°4."
   ]
  },
  {
   "cell_type": "code",
   "execution_count": null,
   "metadata": {},
   "outputs": [],
   "source": []
  }
 ],
 "metadata": {
  "kernelspec": {
   "display_name": "Python 3.8.1 64-bit ('python38': conda)",
   "language": "python",
   "name": "python38164bitpython38conda56991d5ad1414e06a4dcd344400cf456"
  },
  "language_info": {
   "codemirror_mode": {
    "name": "ipython",
    "version": 3
   },
   "file_extension": ".py",
   "mimetype": "text/x-python",
   "name": "python",
   "nbconvert_exporter": "python",
   "pygments_lexer": "ipython3",
   "version": "3.8.1"
  }
 },
 "nbformat": 4,
 "nbformat_minor": 4
}
