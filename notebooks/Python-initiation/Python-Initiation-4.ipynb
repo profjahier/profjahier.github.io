{
 "cells": [
  {
   "cell_type": "markdown",
   "metadata": {},
   "source": [
    "# Inititation à la programmation avec Python (niveau 2nde)\n",
    "# Épisode n°4 : les listes, le mot clef for et la boucle  bornée (Pour)"
   ]
  },
  {
   "cell_type": "markdown",
   "metadata": {},
   "source": [
    "# Les listes\n",
    "Les listes Python sont un type de variable permettant de stocker une série d'éléments dans un seul objet. Elles se notent entre crochets.\n",
    "\n",
    "L'exemple ci-dessous est une liste qui contient les nombres de 5 à 10 :"
   ]
  },
  {
   "cell_type": "code",
   "execution_count": null,
   "metadata": {},
   "outputs": [],
   "source": [
    "# création de liste (comme toute variable, on lui donne le nom qu'on veut):\n",
    "quelques_nombres = [5, 6, 7, 8, 9, 10]\n",
    "\n",
    "print(quelques_nombres)"
   ]
  },
  {
   "cell_type": "markdown",
   "metadata": {},
   "source": [
    "Chaque élément de la liste est accessible à l'aide de son **indice** (c'est sa positon dans la liste). En Python, **on compte toujours à partir de zéro (0)** : donc le 1er élément de la liste a pour indice 0, le 2ème élement a pour indice 1, et ainsi de suite... \n",
    "\n",
    "| indice : | 0 | 1 | 2 | 3 | 4 | 5 |\n",
    "| ---| ---|---| ---|---| ---|---|\n",
    "| élément : | 5 | 6 | 7 | 8 | 9 | 10 |\n",
    "\n",
    "On accède donc à un élément avec la syntaxe ```liste[indice]``` :"
   ]
  },
  {
   "cell_type": "code",
   "execution_count": null,
   "metadata": {},
   "outputs": [],
   "source": [
    "print(quelques_nombres[0])\n",
    "print(quelques_nombres[1])\n",
    "print(quelques_nombres[5])"
   ]
  },
  {
   "cell_type": "markdown",
   "metadata": {},
   "source": [
    "### Exercice : Créer une liste des jours de la semaine, puis afficher le dernier jour de la semaine (dimanche) à l'aide de son indice."
   ]
  },
  {
   "cell_type": "code",
   "execution_count": null,
   "metadata": {},
   "outputs": [],
   "source": [
    "# à vous de jouer\n",
    "\n"
   ]
  },
  {
   "cell_type": "markdown",
   "metadata": {},
   "source": [
    "## Ajouter un élément à la fin de la liste\n",
    "On peut ajouter un élément en fin de la liste avec la méthode ```append()``` qui s'utilise comme dans l'exemple ci-dessous :"
   ]
  },
  {
   "cell_type": "code",
   "execution_count": null,
   "metadata": {},
   "outputs": [],
   "source": [
    "# création de liste initiale vide ! elle ne contient aucun élément\n",
    "liste = []\n",
    "\n",
    "# affichons l'état de cette liste vide\n",
    "print(\"A sa création, liste vaut :\", liste)\n",
    "\n",
    "# on ajoute quelques éléments un par un :\n",
    "liste.append(5)\n",
    "liste.append(10)\n",
    "liste.append(20)\n",
    "liste.append(50)\n",
    "\n",
    "# affichons l'état de la liste après tous ces ajouts\n",
    "print(\"Après 4 ajouts, liste vaut :\", liste)"
   ]
  },
  {
   "cell_type": "markdown",
   "metadata": {},
   "source": [
    "# Parcourir tous les éléments d'une liste : for 'élément' in 'liste':\n",
    "Il est possible de parcourir, un par un, tous les éléments d'une liste et d'effectuer un traitement quelconque, à l'aide du mot clef ```for``` associé à ```in```.\n",
    "\n",
    "On propose en exemple de calculer et d'afficher tous les carrés de la liste utlisée en introduction. "
   ]
  },
  {
   "cell_type": "code",
   "execution_count": null,
   "metadata": {},
   "outputs": [],
   "source": [
    "for nombre in quelques_nombres:\n",
    "    carre = nombre * nombre\n",
    "    print(carre)"
   ]
  },
  {
   "cell_type": "markdown",
   "metadata": {},
   "source": [
    "Vous avez pu observer au passage une nouvelle utilisation du principe de l'indentation d'un bloc d'instructions."
   ]
  },
  {
   "cell_type": "markdown",
   "metadata": {},
   "source": [
    "### Exercice : afficher les uns à la suite des autres tous les jours de la semaine."
   ]
  },
  {
   "cell_type": "code",
   "execution_count": null,
   "metadata": {},
   "outputs": [],
   "source": [
    "# à vous de jouer\n",
    "\n"
   ]
  },
  {
   "cell_type": "markdown",
   "metadata": {},
   "source": [
    "## Parcours des éléments par leur indice : for i in range(n)\n",
    "La construction ```for i in range(n)``` crée une variable **i** et lui fait prendre **automatiquement et successivement** toutes les valeurs entières entre 0 et n (n non compris).\n",
    "\n",
    "On peut s'en servir pour parcourir par exemple les 3 premiers d'une liste (ici on calcule et affiche le double de chaque élément de notre liste) :"
   ]
  },
  {
   "cell_type": "code",
   "execution_count": null,
   "metadata": {},
   "outputs": [],
   "source": [
    "for i in range(3):\n",
    "    double = 2 * quelques_nombres[i]\n",
    "    print(double)"
   ]
  },
  {
   "cell_type": "markdown",
   "metadata": {},
   "source": [
    "### Complément : on peut connaître le nombre d'éléments d'une liste avec le mot clef ```len()```\n",
    "Pour parcourir tous les éléments de la liste, on utilise donc ```for i in range(len(liste))```.\n",
    "\n",
    "Voici un exemple (un peu tordu...) où on multiplie tous les éléments de la liste par leur indice :"
   ]
  },
  {
   "cell_type": "code",
   "execution_count": null,
   "metadata": {},
   "outputs": [],
   "source": [
    "for i in range(len(quelques_nombres)):\n",
    "    calcul_tordu = i * quelques_nombres[i]\n",
    "    print(calcul_tordu)"
   ]
  },
  {
   "cell_type": "markdown",
   "metadata": {},
   "source": [
    "### Exercice : dans les deux derniers exemples, on s'est contenté d'afficher des valeurs mais elles ne sont stockées nulle part. On propose ici de calculer tous les carrés de la liste de départ et de les recopier dans une autre liste. \n",
    "Pour cela :\n",
    "1. créer une liste vide ```quelques_carres```\n",
    "2. parcourir tous les éléments de la liste ```quelques_nombres```\n",
    "3. pour chaque élément, calculer son carré et l'ajouter à la liste ```quelques_carres```"
   ]
  },
  {
   "cell_type": "code",
   "execution_count": null,
   "metadata": {},
   "outputs": [],
   "source": [
    "# à vous de jouer\n",
    "\n"
   ]
  },
  {
   "cell_type": "markdown",
   "metadata": {},
   "source": [
    "### Exercice (plus difficile) : Créer une liste ```couples``` qui contiendra la somme de tous les éléments d'une liste initiale,  pris 2 à 2 à la suite.\n",
    "*Exemple* : si la liste initiale vaut [5, 7, 13, 1, 4], alors la liste couples doit valoir à la fin du traitement [12, 20, 14, 5] \n",
    "\n",
    "    12 = 5 + 7, \n",
    "    20 = 7 + 13,\n",
    "    14 = 13 + 1,\n",
    "    5 = 4 + 1."
   ]
  },
  {
   "cell_type": "code",
   "execution_count": null,
   "metadata": {},
   "outputs": [],
   "source": [
    "liste = [5, 7, 13, 1, 4]\n",
    "# à vous de jouer pour la suite... \n",
    "\n",
    "\n",
    "\n",
    "# test de réussite (ne pas supprimer)\n",
    "assert(couples) == [12, 20, 14, 5]"
   ]
  },
  {
   "cell_type": "markdown",
   "metadata": {},
   "source": [
    "# Boucle  bornée : Pour ...\n",
    "\n",
    "Nous avons vu dans le notebook précédent qu'il est possible de créer des boucles qui répètent un bloc d'instructions plusieurs fois. Avec la boucle *while*, on ne sait pas combien de fois le bloc va se répéter.\n",
    "\n",
    "Mais **si on sait dès le début combien de fois** on veut répéter une action, alors on peut créer une boucle **bornée**. Elle repose sur la construction qu'on vient de rencontrer ```for i in range(n)```."
   ]
  },
  {
   "cell_type": "markdown",
   "metadata": {},
   "source": [
    "*Exemple* : on veut afficher 5 fois la phrase \"Vous en voulez encore ... ?\""
   ]
  },
  {
   "cell_type": "code",
   "execution_count": null,
   "metadata": {},
   "outputs": [],
   "source": [
    "for i in range(5):\n",
    "    print(\"Vous en voulez encore... ?\")"
   ]
  },
  {
   "cell_type": "markdown",
   "metadata": {},
   "source": [
    "### Exercice : Écrire une fonction ```puissance(x, n)``` qui renvoie le résultat de x puissance n ; x est un nombre quelconque et n est un nombre entier positif ou  nul.\n",
    "Bien évidemment, l'utilisation de la fonction puissance intégrée à Python est interdite dans cet exercice.\n",
    "\n",
    "Pour calculer le résultat de la puissance, vous n'avez ici le droit qu'à l'opération de multiplication. Il faut donc multiplier n fois le nombre x par lui même.\n",
    "\n",
    "*Dernier rappel* : x puissance 0 = 1, quelque soit x non nul."
   ]
  },
  {
   "cell_type": "code",
   "execution_count": null,
   "metadata": {},
   "outputs": [],
   "source": [
    "# à vous de jouer\n",
    "\n"
   ]
  },
  {
   "cell_type": "code",
   "execution_count": null,
   "metadata": {},
   "outputs": [],
   "source": [
    "# cellule de tests pour contrôler votre fonction\n",
    "assert puissance(2, 8) == 256\n",
    "assert puissance(37.124, 0) == 1\n",
    "assert puissance(5, 3) == 125\n",
    "assert puissance(-5, 3) == -125"
   ]
  },
  {
   "cell_type": "markdown",
   "metadata": {},
   "source": [
    "### Exercice : en s'appuyant sur une boucle bornée, créer 3 listes :\n",
    "- la 1ère contient les nombres de 0 à 20\n",
    "- la 2ème contient les carrés des nombres de 0 à 20\n",
    "- la 3ème contient les cubes des nombres de 0 à 20\n",
    "\n",
    "*Remarque* : utiliser la fonction puissance précédemment définie."
   ]
  },
  {
   "cell_type": "code",
   "execution_count": null,
   "metadata": {},
   "outputs": [],
   "source": [
    "# à vous de jouer\n",
    "\n"
   ]
  },
  {
   "cell_type": "markdown",
   "metadata": {},
   "source": [
    "# To be continued... Pour la suite, ouvrez le notebook n°5."
   ]
  },
  {
   "cell_type": "code",
   "execution_count": null,
   "metadata": {},
   "outputs": [],
   "source": []
  }
 ],
 "metadata": {
  "kernelspec": {
   "display_name": "Python 3.8.1 64-bit ('python38': conda)",
   "language": "python",
   "name": "python38164bitpython38conda56991d5ad1414e06a4dcd344400cf456"
  },
  "language_info": {
   "codemirror_mode": {
    "name": "ipython",
    "version": 3
   },
   "file_extension": ".py",
   "mimetype": "text/x-python",
   "name": "python",
   "nbconvert_exporter": "python",
   "pygments_lexer": "ipython3",
   "version": "3.8.1"
  }
 },
 "nbformat": 4,
 "nbformat_minor": 4
}
