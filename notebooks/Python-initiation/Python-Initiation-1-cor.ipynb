{
 "cells": [
  {
   "cell_type": "markdown",
   "metadata": {},
   "source": [
    "# Inititation à la programmation avec Python (niveau 2nde)\n",
    "# Épisode n°1 : les variables"
   ]
  },
  {
   "cell_type": "markdown",
   "metadata": {},
   "source": [
    "Le but de ce document est de vous faire découvrir les **bases** de la programmation, en utilisant le langage Python."
   ]
  },
  {
   "cell_type": "markdown",
   "metadata": {},
   "source": [
    "## Préliminaire : découvrir votre environnement de travail\n",
    "Vous êtes actuellement en train de consulter un **notebook Jupyter**. Ce type de document permet de mélanger des cellules d'écriture et d'exécution de programme Python.\n",
    "\n",
    "Une cellule de code Python (comme ci-dessous) se repère avec les crochets **Entrée [ ]** écrit dans la marge. Pour exécuter le code, il faut appuyer simultanément sur les touches MAJ et ENTRÉE. Essayez d'exécuter le code de la cellule suivante :"
   ]
  },
  {
   "cell_type": "code",
   "execution_count": 1,
   "metadata": {},
   "outputs": [
    {
     "name": "stdout",
     "output_type": "stream",
     "text": [
      "Bravo, bien joué !\n"
     ]
    }
   ],
   "source": [
    "# ceci est une cellule de code :\n",
    "print(\"Bravo, bien joué !\")"
   ]
  },
  {
   "cell_type": "markdown",
   "metadata": {},
   "source": [
    "Si vous avez bien exécuté la cellule précédente, elle contient maintenant un [1] dans la marge (le n° indique l'ordre d'exécution des cellules), et le texte \"Bravo, bien joué !\" est apparu en dessous : dans une cellule de *sortie*."
   ]
  },
  {
   "cell_type": "markdown",
   "metadata": {},
   "source": [
    "Si à un moment donné, après avoir exécuté beaucoup de cellules, vous êtes un peu perdu et avez l'impression que des choses \"bizarres\" se passent, vous pouvez redémarrer le noyau d'exécution de Python avec le menu \"Noyau\" en haut de la page. N'oubliez pas alors éventuellement de re-exécuter toutes les cellues qui vous semblent nécessaires pour reprendre votre travail.\n",
    "\n",
    "Essayez tout de suite le menu **\"Noyau -> redémarrez et effacer les sorties\"**. Le n°1 de l'entrée précédente a disparu ainsi que sa sorie. Vous pouvez alors re-exécuter la cellule en question."
   ]
  },
  {
   "cell_type": "markdown",
   "metadata": {},
   "source": [
    "# Python, c'est parti !\n",
    "Maintenant que vous savez manipuler un notebook Jupyter, nous pouvons attaquer les choses sérieuses."
   ]
  },
  {
   "cell_type": "markdown",
   "metadata": {},
   "source": [
    "## Les variables\n",
    "Il est possible de définir des **variables** qui peuvent être vues comme des boites qui contiennent de l'information (des nombres, du texte, des listes, ou des choses bien plus compliquées...). \n",
    "\n",
    "Une variale porte un **nom** (série de caractères et/ou de chiffres (*sauf le 1er caractère*)) et on peut lui **affecter une valeur** (le contenu de la variable). \n",
    "\n",
    "Voyez l'exemple suivant où on définit deux variables ```age``` et ```couleur```. On leur affecte la valeur ```15``` (un nombre entier) et ```\"rouge\"``` (une chaîne de caractères) :"
   ]
  },
  {
   "cell_type": "code",
   "execution_count": 2,
   "metadata": {},
   "outputs": [],
   "source": [
    "# pensez à exécuter cette cellule (MAJ + ENTRÉE) :\n",
    "age = 15\n",
    "couleur = \"rouge\"  # les guillemets sont obligatoires pour définir du texte"
   ]
  },
  {
   "cell_type": "markdown",
   "metadata": {},
   "source": [
    "On peut ensuite manipuler ces variables pour afficher leur contenu ou les modifier, ou tout autre chose utile dans un programme..."
   ]
  },
  {
   "cell_type": "code",
   "execution_count": 3,
   "metadata": {},
   "outputs": [
    {
     "name": "stdout",
     "output_type": "stream",
     "text": [
      "rouge\n"
     ]
    }
   ],
   "source": [
    "# print(variable) permet d'afficher le contenu d'une variable\n",
    "print(couleur)   "
   ]
  },
  {
   "cell_type": "code",
   "execution_count": 4,
   "metadata": {},
   "outputs": [
    {
     "name": "stdout",
     "output_type": "stream",
     "text": [
      "20\n"
     ]
    }
   ],
   "source": [
    "# calcule la somme du contenu de la variable age avec le nombre 5 et affiche le résultat\n",
    "print(age + 5)  "
   ]
  },
  {
   "cell_type": "markdown",
   "metadata": {},
   "source": [
    "### Petit commentaire sur les affichages : \n",
    "L'affichage avec ```print()``` peut se combiner avec plusieurs paramètres (*séparés par des virgules*) pour afficher directement plusieurs choses : par exemple du texte et le contenu d'une variable :"
   ]
  },
  {
   "cell_type": "code",
   "execution_count": 5,
   "metadata": {},
   "outputs": [
    {
     "name": "stdout",
     "output_type": "stream",
     "text": [
      "Voici le contenu de la variable 'age' est : 15 . Et celui de la variable 'couleur' est : rouge\n"
     ]
    }
   ],
   "source": [
    "print(\"Voici le contenu de la variable 'age' est :\", age, \". Et celui de la variable 'couleur' est :\", couleur)"
   ]
  },
  {
   "cell_type": "markdown",
   "metadata": {},
   "source": [
    "#### Exercice : créez deux variables ```nombre1``` et ```nombre2``` et affectez-leur les valeurs 12 et 7."
   ]
  },
  {
   "cell_type": "code",
   "execution_count": 6,
   "metadata": {},
   "outputs": [],
   "source": [
    "# à vous de jouer ci-dessous :\n",
    "nombre1 = 12\n",
    "nombre2 = 7"
   ]
  },
  {
   "cell_type": "markdown",
   "metadata": {},
   "source": [
    "Si vous avez bien créé les 2 variables demandées, l'exécution de la cellule suivante va vous donner le résultat de la somme de 12 + 7 (càd 19) :\n",
    "\n",
    "*Remarque* : ici on n'utilise pas le print() pour l'affichage : l'interpréteur Python renvoie le résultat de son calcul (zone Out [ ]) :"
   ]
  },
  {
   "cell_type": "code",
   "execution_count": 7,
   "metadata": {},
   "outputs": [
    {
     "data": {
      "text/plain": [
       "19"
      ]
     },
     "execution_count": 7,
     "metadata": {},
     "output_type": "execute_result"
    }
   ],
   "source": [
    " nombre1 + nombre2"
   ]
  },
  {
   "cell_type": "markdown",
   "metadata": {},
   "source": [
    "Pour recueillir le résultat de cette somme et éventuellement s'en servir ailleurs dans le programme, on peut créer une nouvelle variable et lui affecter le résulat de l'opération sur les variables ```nombre1``` et ```nombre2``` :"
   ]
  },
  {
   "cell_type": "code",
   "execution_count": 8,
   "metadata": {},
   "outputs": [],
   "source": [
    "somme = nombre1 + nombre2"
   ]
  },
  {
   "cell_type": "markdown",
   "metadata": {},
   "source": [
    "Cette fois, l'interpréteur n'affiche aucune sortie car cette sortie a été directement affectée à la variable ```somme```.\n",
    "\n",
    "Remarquez que les **noms de variables sont complètement libres** pour le programmeur et qu'il est pertinent de donner des **noms explicites** : cette *bonne pratique* permet de lire le programme de quelqu'un d'autre et de comprendre son intention aisément.\n",
    "\n",
    "Pour voir le contenu de cette nouvelle variable, il sufft de demander à l'afficher !"
   ]
  },
  {
   "cell_type": "code",
   "execution_count": 9,
   "metadata": {},
   "outputs": [
    {
     "name": "stdout",
     "output_type": "stream",
     "text": [
      "19\n"
     ]
    }
   ],
   "source": [
    "print(somme)"
   ]
  },
  {
   "cell_type": "markdown",
   "metadata": {},
   "source": [
    "#### Exercice : créez une variable ```produit``` qui soit le résultat de la multiplication de ```nombre1``` et ```nombre2```. Puis affichez son contenu."
   ]
  },
  {
   "cell_type": "code",
   "execution_count": 10,
   "metadata": {},
   "outputs": [],
   "source": [
    "# à vous de jouer \n",
    "produit = nombre1 * nombre2"
   ]
  },
  {
   "cell_type": "code",
   "execution_count": 11,
   "metadata": {},
   "outputs": [
    {
     "name": "stdout",
     "output_type": "stream",
     "text": [
      "84\n"
     ]
    }
   ],
   "source": [
    "print(produit)"
   ]
  },
  {
   "cell_type": "markdown",
   "metadata": {},
   "source": [
    "# Modifier le contenu d'une variable\n",
    "On peut aussi utiliser une variable pour en modifier le contenu : il suffit de lui affecter une nouvelle valeur.\n",
    "\n",
    "Observez bien les exemples ci-dessous, avec une attention toute particulière pour le dernier exemple (*qui perturbe parfois les gens...*) !"
   ]
  },
  {
   "cell_type": "code",
   "execution_count": 12,
   "metadata": {},
   "outputs": [
    {
     "name": "stdout",
     "output_type": "stream",
     "text": [
      "5\n",
      "7\n",
      "14\n",
      "10\n"
     ]
    }
   ],
   "source": [
    "a = 5         # définition initiale de la variable a\n",
    "print(a)      # affichage du contenu de a (5)\n",
    "\n",
    "a = 7         # modification du contenu de a avec une nouvelle affectation\n",
    "print(a)      # affichage du contenu de a (7)\n",
    "\n",
    "b = 12        # définition initiale d'une autre variable b\n",
    "a = b + 2     # modification du contenu de a avec une nouvelle affectation (la somme de b + 2)\n",
    "print(a)      # affichage du contenu de a (14)\n",
    "\n",
    "a = a - 4     # modification du contenu de a en se servant de son contenu avant modification !\n",
    "print(a)      # affichage du contenu de a (10)"
   ]
  },
  {
   "cell_type": "markdown",
   "metadata": {},
   "source": [
    "#### Exercice : créez deux variables ```annee_en_cours``` et ```annee_naissance```. Calculez ensuite l'âge correspondant en affectant ce résulat à la variable ```age```."
   ]
  },
  {
   "cell_type": "code",
   "execution_count": 13,
   "metadata": {},
   "outputs": [
    {
     "name": "stdout",
     "output_type": "stream",
     "text": [
      "16\n"
     ]
    }
   ],
   "source": [
    "# à vous de jouer\n",
    "annee_en_cours = 2020\n",
    "anne_naissance = 2004\n",
    "age = annee_en_cours - anne_naissance\n",
    "print(age)"
   ]
  },
  {
   "cell_type": "markdown",
   "metadata": {},
   "source": [
    "#### Exercice : Faites viellir quelqu'un en modifiant son âge d'une année (utilisez la variable ```age``` déjà définie)."
   ]
  },
  {
   "cell_type": "code",
   "execution_count": 14,
   "metadata": {},
   "outputs": [
    {
     "name": "stdout",
     "output_type": "stream",
     "text": [
      "17\n"
     ]
    }
   ],
   "source": [
    "age = age + 1\n",
    "print(age)"
   ]
  },
  {
   "cell_type": "markdown",
   "metadata": {},
   "source": [
    "## Et pour finir, essayons d'ajouter des chaînes de caractères pour voir..."
   ]
  },
  {
   "cell_type": "code",
   "execution_count": 15,
   "metadata": {},
   "outputs": [
    {
     "name": "stdout",
     "output_type": "stream",
     "text": [
      "Bienvenue à toi cher ami !\n"
     ]
    }
   ],
   "source": [
    "debut = \"Bienvenue à toi \"\n",
    "fin = \"cher ami !\"\n",
    "phrase = debut + fin\n",
    "print(phrase)"
   ]
  },
  {
   "cell_type": "markdown",
   "metadata": {},
   "source": [
    "Vous l'avez compris avec cet exemple, lorsqu'on ajoute des chaînes de caractères, on dit qu'on les **concatène** (c'est une **concaténation**) : concrètement, ça veut dire quon \"colle\" les 2 chaines bout à bout."
   ]
  },
  {
   "cell_type": "markdown",
   "metadata": {},
   "source": [
    "# To be continued... Pour la suite, ouvrez le notebook n°2."
   ]
  },
  {
   "cell_type": "markdown",
   "metadata": {},
   "source": [
    "Cliquer dans le menu **File -> Close and Halt** (en Français :  **Fichier -> Fermer et Arrêter**), puis ouvrir le fichier *Python-initiation-2.ipynb*."
   ]
  },
  {
   "cell_type": "code",
   "execution_count": null,
   "metadata": {},
   "outputs": [],
   "source": []
  }
 ],
 "metadata": {
  "kernelspec": {
   "display_name": "Python 3.8.1 64-bit ('python38': conda)",
   "language": "python",
   "name": "python38164bitpython38conda56991d5ad1414e06a4dcd344400cf456"
  },
  "language_info": {
   "codemirror_mode": {
    "name": "ipython",
    "version": 3
   },
   "file_extension": ".py",
   "mimetype": "text/x-python",
   "name": "python",
   "nbconvert_exporter": "python",
   "pygments_lexer": "ipython3",
   "version": "3.8.1"
  }
 },
 "nbformat": 4,
 "nbformat_minor": 4
}
