{
 "cells": [
  {
   "cell_type": "markdown",
   "metadata": {},
   "source": [
    "### P4-1 (AE Numérique 1) : \n",
    "# Représenter un signal périodique et illustrer l’influence de ses caractéristiques (période, amplitude) sur sa représentation."
   ]
  },
  {
   "cell_type": "markdown",
   "metadata": {},
   "source": [
    "### Rappel de cours :\n",
    "Amplitude en un point donné au cours du temps :\n",
    "y(t) = A * cos ( 2*Pi * t / T ) \n",
    "\n",
    "$y(t) = A \\times \\cos \\left(2\\pi \\dfrac{  t }{T} \\right) $\n",
    "\n",
    "Amplitude à un instant donné en fonction de la position :\n",
    "y(x) = A * cos ( 2*Pi * x / lambda )\n",
    "\n",
    "$y(x) = A \\times \\cos \\left(2\\pi \\dfrac{ x }{\\lambda} \\right) $\n"
   ]
  },
  {
   "cell_type": "code",
   "execution_count": null,
   "metadata": {},
   "outputs": [],
   "source": [
    "import matplotlib.pyplot as plt\n",
    "import numpy as np\n",
    "import math"
   ]
  },
  {
   "cell_type": "code",
   "execution_count": null,
   "metadata": {},
   "outputs": [],
   "source": [
    "Pi = np.pi"
   ]
  },
  {
   "cell_type": "markdown",
   "metadata": {},
   "source": [
    "## 1. Signal en un point au cours du temps\n",
    "**TRAVAIL À FAIRE** : \n",
    "1. Modifier l'amplitude $A$ ou la période $T$ pour observer l'influence sur la représentation du signal.\n",
    "\n",
    "\n",
    "**COMPÉTENCES NUMÉRIQUES ATTENDUES** : \n",
    "- Savoir identifier et modifier des paramètres dans une suite d'instructions.\n",
    "- Lire et analyser quelques lignes de code commenté.\n",
    "- Connaître la syntaxe basique pour tracer un graphique (avec le module matpltlib.pyplot) :\n",
    "            plt.plot(liste_abscisses, liste_ordonnees)\n",
    "- Découvrir (et modifier si nécessaire) quelques paramètres de graphique (ex :  titre, légende, couleurs...).\n"
   ]
  },
  {
   "cell_type": "code",
   "execution_count": null,
   "metadata": {},
   "outputs": [],
   "source": [
    "A = 1.5 # amplitude en unité arbitraire (ua)\n",
    "T = 10  # période en s\n",
    "\n",
    "# création des instants\n",
    "t = np.linspace(0, 10*T, 256) # 256 instants répartis de t=0 à t=10T\n",
    "\n",
    "# calcul de l'amplitude \n",
    "y = A*np.cos(2*Pi*t/T)\n",
    "\n",
    "# bornes des axes du graphiques (il faut fixer les bornes pour voir l'influence d'un changement de A ou T)\n",
    "plt.xlim(0, 50)\n",
    "plt.ylim(-5, 5)\n",
    "\n",
    "# graphique\n",
    "plt.plot(t, y, label=f'T = {T}\\nA = {A}')\n",
    "plt.legend()\n",
    "plt.ylabel('Amplitude (ua)')\n",
    "plt.xlabel('t (s)')\n",
    "plt.title('Amplitude en un point du milieu au cours du temps')\n",
    "plt.show()"
   ]
  },
  {
   "cell_type": "markdown",
   "metadata": {},
   "source": [
    "### 1.bis Utilisation de widgets de contrôles (nettement plus compliqué !)\n",
    "*Remarque* : le code suivant n'est pas à comprendre, mais vous pouvez néanmoins exploiter la cellule suivante pour voir rapidement l'influence de la période ou de l'amplitude sur l'allure du signal.\n",
    "\n",
    "**TRAVAIL À FAIRE** : Modifier **à l'aide des curseurs** l'amplitude $A$ ou la période $T$ pour observer l'influence sur la représentation du signal.\n",
    "\n",
    "\n",
    "\n",
    "**COMPÉTENCES NUMÉRIQUES ATTENDUES** : \n",
    "- Aucune ici ! Il suffit juste d'exploiter un code fourni..."
   ]
  },
  {
   "cell_type": "code",
   "execution_count": null,
   "metadata": {},
   "outputs": [],
   "source": [
    "# librairie complémentaire pour les widgets\n",
    "import matplotlib.widgets as mpw "
   ]
  },
  {
   "cell_type": "code",
   "execution_count": null,
   "metadata": {},
   "outputs": [],
   "source": [
    "# backend permettant l'interactivité\n",
    "%matplotlib notebook\n",
    "\n",
    "fig, ax = plt.subplots()\n",
    "plt.xlabel('t (s)')\n",
    "plt.ylabel('A (ua)')\n",
    "plt.grid()\n",
    "plt.subplots_adjust(left=0.1, bottom=0.4) # positionnement de la zone graphique pour laisser de l'espace aux widgets\n",
    "\n",
    "T = 1      # période en s\n",
    "tmax = 10  # graphique sur 10 s max\n",
    "t = np.linspace(0, tmax, 256)\n",
    "A = 2      # amplitude en ua\n",
    "y = A*np.cos(2*Pi*t/T)\n",
    "\n",
    "courbe, = plt.plot(t, y, color='red')      # conserve la référence de la courbe (Artist)\n",
    "plt.axis(xmin=0, xmax=10, ymin=-5, ymax=5) # plages des abscisses et ordonnées\n",
    "\n",
    "# définition des 'axes' pour contenir les widgets\n",
    "ax_A = plt.axes([0.18, 0.1, 0.5, 0.05], facecolor='lightgreen')\n",
    "ax_T = plt.axes([0.18, 0.18, 0.5, 0.05], facecolor='lightyellow')\n",
    "\n",
    "# création des widgets\n",
    "slider_T = mpw.Slider(ax_T, 'Période (s)', 0.1, 5, valinit=T)\n",
    "slider_A = mpw.Slider(ax_A, 'Amplitude (ua)', 0.1, 4, valinit=A)\n",
    "\n",
    "def maj(val):\n",
    "    A = slider_A.val\n",
    "    T = slider_T.val\n",
    "    courbe.set_ydata(A*np.cos(2*Pi*t/T)) # maj des données de la courbe\n",
    "    fig.canvas.draw_idle()               # maj du tracé de la courbe\n",
    "\n",
    "# action à effectuer lors de l'utilisation des widgets    \n",
    "slider_T.on_changed(maj)\n",
    "slider_A.on_changed(maj)\n",
    "\n",
    "# ajout d'un bouton de Remise à zéro (RAZ) des paramètres\n",
    "ax_RAZ = plt.axes([0.8, 0.1, 0.1, 0.13])\n",
    "button_RAZ = mpw.Button(ax_RAZ, 'RAZ', color='gray', hovercolor='0.777')\n",
    "\n",
    "def raz(event):\n",
    "    slider_A.reset()\n",
    "    slider_T.reset()\n",
    "    \n",
    "button_RAZ.on_clicked(raz)\n",
    "\n",
    "plt.show()"
   ]
  },
  {
   "cell_type": "markdown",
   "metadata": {},
   "source": [
    "## 2. Signal en fonction de la position à un instant donné\n",
    "\n",
    "**TRAVAIL À FAIRE** : \n",
    "\n",
    "1. Modifier l'amplitude $A$ ou la période $\\lambda$ pour observer l'influence sur la représentation du signal.\n",
    "2. Écrire la ligne permettant de calculer l'amplitude l'onde y(t).\n",
    "\n",
    "**COMPÉTENCES NUMÉRIQUES ATTENDUES** : \n",
    "- Les mêmes que pour la partie 1.\n",
    "- Ajouter une ligne de code dans un programme pour traduire une formule physique."
   ]
  },
  {
   "cell_type": "code",
   "execution_count": null,
   "metadata": {},
   "outputs": [],
   "source": [
    "%matplotlib inline\n",
    "A = 2.5      # amplitude en unité arbitraire (ua)\n",
    "lambda_ = 12 # longueur d'onde en m\n",
    "\n",
    "# création des positions\n",
    "x = np.linspace(0, 10*lambda_, 256) # 256 positions réparties de x=0 à x=10 lambda\n",
    "\n",
    "# calcul de l'amplitude \n",
    "# À VOUS DE JOUER : compléter la ligne suivante avant de la décommenter\n",
    "# y = ...\n",
    "\n",
    "# bornes des axes du graphiques (il faut fixer les bornes pour voir l'influence d'un changement de A ou lambda)\n",
    "plt.xlim(0, 50)\n",
    "plt.ylim(-5, 5)\n",
    "\n",
    "# graphique\n",
    "plt.plot(x, y, color='green', label=f'$\\lambda$ = {lambda_}')\n",
    "plt.legend()\n",
    "plt.ylabel('Amplitude (ua)')\n",
    "plt.xlabel('x (m)')\n",
    "plt.title('Amplitude à un instant donné')\n",
    "plt.show()"
   ]
  },
  {
   "cell_type": "code",
   "execution_count": null,
   "metadata": {},
   "outputs": [],
   "source": []
  }
 ],
 "metadata": {
  "kernelspec": {
   "display_name": "Python 3",
   "language": "python",
   "name": "python3"
  },
  "language_info": {
   "codemirror_mode": {
    "name": "ipython",
    "version": 3
   },
   "file_extension": ".py",
   "mimetype": "text/x-python",
   "name": "python",
   "nbconvert_exporter": "python",
   "pygments_lexer": "ipython3",
   "version": "3.7.10"
  }
 },
 "nbformat": 4,
 "nbformat_minor": 4
}
