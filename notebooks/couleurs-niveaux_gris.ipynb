{
 "cells": [
  {
   "cell_type": "markdown",
   "metadata": {},
   "source": [
    "# Q1. Programme de base\n",
    "Ce programme recopie un fichier image en ne conservant que la composante bleue de chaque pixel."
   ]
  },
  {
   "cell_type": "code",
   "execution_count": null,
   "metadata": {},
   "outputs": [],
   "source": [
    "from PIL import Image"
   ]
  },
  {
   "cell_type": "code",
   "execution_count": null,
   "metadata": {},
   "outputs": [],
   "source": [
    "im = Image.open('chat.jpg')\n",
    "\n",
    "largeur = im.size[0]\n",
    "hauteur = im.size[1]\n",
    "\n",
    "im2 = Image.new('RGB', (largeur, hauteur))\n",
    "print(largeur, hauteur)\n",
    "\n",
    "for lig in range(hauteur):\n",
    "    for col in range(largeur):\n",
    "        (r, g, b) = im.getpixel((col, lig))\n",
    "        im2.putpixel((col, lig), (0, 0, b))\n",
    "        \n",
    "im2.save('chat_bleu.jpg')"
   ]
  },
  {
   "cell_type": "markdown",
   "metadata": {},
   "source": [
    "La ligne suivante est à décommenter si on travaille avec Basthon. Cela permet de télécharger les fichiers créés."
   ]
  },
  {
   "cell_type": "code",
   "execution_count": null,
   "metadata": {},
   "outputs": [],
   "source": [
    "import basthon"
   ]
  },
  {
   "cell_type": "code",
   "execution_count": null,
   "metadata": {},
   "outputs": [],
   "source": [
    "basthon.download(\"chat_bleu.jpg\")"
   ]
  },
  {
   "cell_type": "markdown",
   "metadata": {},
   "source": [
    "# Q3. Création de l'image \"en vert\"\n",
    "Modifier le programme précédent pour ne conserver que la composante verte de l'image."
   ]
  },
  {
   "cell_type": "code",
   "execution_count": null,
   "metadata": {},
   "outputs": [],
   "source": [
    "im = Image.open('chat.jpg')\n",
    "\n",
    "largeur = im.size[0]\n",
    "hauteur = im.size[1]\n",
    "\n",
    "im2 = Image.new('RGB', (largeur, hauteur))\n",
    "\n",
    "for lig in range(hauteur):\n",
    "    for col in range(largeur):\n",
    "        (r, g, b) = im.getpixel((col,lig))\n",
    "        ### LIGNE A MODIFIER ###\n",
    "        \n",
    "im2.save('chat_vert.jpg')\n",
    "basthon.download(\"chat_vert.jpg\")"
   ]
  },
  {
   "cell_type": "markdown",
   "metadata": {},
   "source": [
    "# Q4. Conversion de l'image en niveaux de gris\n",
    "Modifier le programme précédent pour convertir l'image en niveaux de gris. \n",
    "\n",
    "Pour créer un pixel gris, il suffit de lui attribuer la même valeur pour chacune de sses 3 composantes Rouge, Vert et Bleu.\n",
    "\n",
    "On considère que le niveau de gris attendu correspond à la moyenne des 3 composantes R, V, B."
   ]
  },
  {
   "cell_type": "code",
   "execution_count": null,
   "metadata": {},
   "outputs": [],
   "source": [
    "im = Image.open('chat.jpg')\n",
    "\n",
    "largeur = im.size[0]\n",
    "hauteur = im.size[1]\n",
    "\n",
    "im2 = Image.new('RGB', (largeur, hauteur))\n",
    "\n",
    "for lig in range(hauteur):\n",
    "    for col in range(largeur):\n",
    "        (r, g, b) = im.getpixel((col, lig))\n",
    "        ### LIGNE A MODIFIER ###\n",
    "        \n",
    "im2.save('chat_gris.jpg')\n",
    "basthon.download(\"chat_gris.jpg\")"
   ]
  },
  {
   "cell_type": "code",
   "execution_count": null,
   "metadata": {},
   "outputs": [],
   "source": []
  }
 ],
 "metadata": {
  "kernelspec": {
   "display_name": "Python 3.8.1 64-bit ('python38': conda)",
   "language": "python",
   "name": "python38164bitpython38conda56991d5ad1414e06a4dcd344400cf456"
  },
  "language_info": {
   "codemirror_mode": {
    "name": "ipython",
    "version": 3
   },
   "file_extension": ".py",
   "mimetype": "text/x-python",
   "name": "python",
   "nbconvert_exporter": "python",
   "pygments_lexer": "ipython3",
   "version": "3.8.1"
  }
 },
 "nbformat": 4,
 "nbformat_minor": 4
}
