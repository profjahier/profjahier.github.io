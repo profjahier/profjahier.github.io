{
 "cells": [
  {
   "cell_type": "markdown",
   "id": "ede35218-696c-495f-8f30-12eb00c6e5e0",
   "metadata": {},
   "source": [
    "<div class=\"alert alert-success\">\n",
    "\n",
    "# Les tableaux : parcours, création/modification, algorithmes associés.\n",
    "\n",
    "</div>"
   ]
  },
  {
   "cell_type": "markdown",
   "id": "55489fab-2546-4431-bebb-5d2a4d4e386d",
   "metadata": {
    "tags": []
   },
   "source": [
    "<h2 class=\"alert alert-info\">Recherche du minimum d'un tableau</h2>"
   ]
  },
  {
   "cell_type": "markdown",
   "id": "56642ef3-2433-4d65-8c6a-7102ac6b9b7f",
   "metadata": {},
   "source": [
    "<div class=\"alert alert-warning\">\n",
    "    \n",
    "Cet exercice permet de :\n",
    "- découvrir un algorithme de recherche de minimum\n",
    "- manipuler la boucle for sur une collection d'éléments (liste-Python)\n",
    "    \n",
    "</div>"
   ]
  },
  {
   "cell_type": "markdown",
   "id": "cef00dd0-197b-486f-87f1-acdfcdedec0a",
   "metadata": {},
   "source": [
    "**Exercice :**\n",
    "\n",
    "Écrire une fonction `mini` dont voici la spécification :\n",
    "- Entrée : une liste d'entiers: [int]\n",
    "- Sortie : l'élément minimum de cette liste: int\n",
    "\n",
    "\n",
    "*Exemple d'utilisation :*\n",
    "\n",
    "    >>> mini([5, 2, -4, 7, -8, 12])\n",
    "    -8"
   ]
  },
  {
   "cell_type": "markdown",
   "id": "b16f80da-0d45-456e-8ecd-9289e3a2ba55",
   "metadata": {},
   "source": [
    "**Algorithme en pseudo-code :**\n",
    "\n",
    "    Fonction mini:\n",
    "        # Renvoie l'élément minimum d'un tableau (liste-Python)\n",
    "        # Entrée : tableau d'entiers: [int]  (non vide)\n",
    "        # Sortie : élément minimum du tableau: int\n",
    "        n_mini <-- tab[0]   # tab[0] désigne le 1er élément du tableau\n",
    "        Pour chaque n dans tableau:\n",
    "        |    Si n < n_mini:\n",
    "        |    |   n_mini <-- n\n",
    "        |    Fin Si\n",
    "        Fin Pour\n",
    "        Renvoyer n_mini"
   ]
  },
  {
   "cell_type": "markdown",
   "id": "68750a1d-0e05-4fce-85a1-642aedbaefeb",
   "metadata": {},
   "source": [
    "<div class=\"alert alert-danger\">\n",
    "\n",
    "**Aide : Parcours d'une liste-Python par éléments**\n",
    "\n",
    "L'instruction `for element in liste:` permet de parcourir tous les éléments d'une liste.\n",
    "\n",
    "Cette instruction crée une variable `element` et génère une structure de boucle bornée.\n",
    "\n",
    "À chaque \"tour de boucle\", la variable `element` prend successivement toutes les valeurs contenues dans la liste. Lorsque la dernière valeur a été atteinte, la boucle se termine (il y a donc forcément une borne et donc une terminaison à cette boucle).\n",
    "\n",
    "*Remarque* : toutes les instructions **indentées** par rapport à cette instruction sont exécutées à chaque tour de boucle.\n",
    "\n",
    "</div>"
   ]
  },
  {
   "cell_type": "code",
   "execution_count": 1,
   "id": "51c9628d-057b-421b-8a4b-5f1156f1ea51",
   "metadata": {},
   "outputs": [],
   "source": [
    "def mini(tab):\n",
    "    \"\"\" Renvoie le minimum du tableau.\n",
    "    Entrée : tab: [int]\n",
    "    Sortie : n_mini: int\n",
    "    \"\"\"\n",
    "    n_mini = tab[0]\n",
    "    for n in tab:\n",
    "        if n < n_mini:\n",
    "            n_mini = n\n",
    "    return n_mini"
   ]
  },
  {
   "cell_type": "code",
   "execution_count": 2,
   "id": "5e625b95-0681-421d-92b5-f48b98750166",
   "metadata": {
    "tags": []
   },
   "outputs": [
    {
     "data": {
      "text/plain": [
       "-8"
      ]
     },
     "execution_count": 2,
     "metadata": {},
     "output_type": "execute_result"
    }
   ],
   "source": [
    "mini([5, 2, -4, 7, -8, 12])"
   ]
  },
  {
   "cell_type": "markdown",
   "id": "47f67d17-beef-4fab-a130-4dcf8f6edf18",
   "metadata": {
    "tags": []
   },
   "source": [
    "<h2 class=\"alert alert-info\">Recherche de l'indice du minimum d'un tableau</h2>"
   ]
  },
  {
   "cell_type": "markdown",
   "id": "06d13e42-d50d-467b-bebc-0a08dc103d53",
   "metadata": {},
   "source": [
    "<div class=\"alert alert-warning\">\n",
    "    \n",
    "Cet exercice permet de :\n",
    "- réinvestir l'algorithme de recherche de minimum\n",
    "- découvrir la structure `range`\n",
    "    \n",
    "</div>"
   ]
  },
  {
   "cell_type": "markdown",
   "id": "65e62308-4eae-4607-8be8-8ac2ba19d55d",
   "metadata": {},
   "source": [
    "**Exercice :**\n",
    "\n",
    "Écrire une fonction `i_mini` dont voici la spécification :\n",
    "- Entrée : une liste d'entiers: [int]\n",
    "- Sortie : l'indice de l'élément minimum de cette liste: int (compris entre 0 et la taille du tableau-1)\n",
    "\n",
    "\n",
    "*Exemple d'utilisation :*\n",
    "\n",
    "    >>> i_mini([5, 2, -4, 7, -8, 12]) # -8, le minimum, est le 5ème élément, à l'indice 4.\n",
    "    4"
   ]
  },
  {
   "cell_type": "markdown",
   "id": "d8876be0-60e5-4f62-bc45-be483b8ed208",
   "metadata": {},
   "source": [
    "**Algorithme en pseudo-code :**\n",
    "\n",
    "    Fonction mini:\n",
    "        # Renvoie l'élément minimum d'un tableau (liste-Python)\n",
    "        # Entrée : tableau d'entiers: [int]  (non vide, tous différents)\n",
    "        # Sortie : élément minimum du tableau: int\n",
    "        i_mini <-- 0 \n",
    "        Pour chaque i entre 0 et taille(tableau)-1:\n",
    "        |    Si tab[i] < tab[i_mini]:\n",
    "        |    |   i_mini <-- i\n",
    "        |    Fin Si\n",
    "        Fin Pour\n",
    "        Renvoyer i_mini"
   ]
  },
  {
   "cell_type": "markdown",
   "id": "e5bcd21c-07fd-48dd-be86-1073f09fb77f",
   "metadata": {},
   "source": [
    "<div class=\"alert alert-danger\">\n",
    "\n",
    "**Aide : L'instruction `for i in range(debut, fin, pas):`**\n",
    "\n",
    "Cette instruction crée une variable `i` et génère une structure de boucle bornée.\n",
    "\n",
    "À chaque \"tour de boucle\", la variable `i` prend successivement les valeurs entières entre `debut` et `fin` (qui sont des entiers). D'une valeur à la suivante, la variable `i` est incrémentée de la valeur `pas`.\n",
    "\n",
    "*Remarque* : La valeur `debut` est toujours incluse, la **valeur `fin` est toujours exclue**.\n",
    "\n",
    "</div>"
   ]
  },
  {
   "cell_type": "markdown",
   "id": "4e834382-66e6-4a7a-a13a-90ed01a004b0",
   "metadata": {},
   "source": [
    "*Exemple* : \n",
    "\n",
    "    >>> for i in range(5, 11, 2): \n",
    "            print(i)\n",
    "    5\n",
    "    7\n",
    "    9"
   ]
  },
  {
   "cell_type": "markdown",
   "id": "f469b45a-abd6-4558-9115-a84248775e9f",
   "metadata": {},
   "source": [
    "<div class=\"alert alert-warning\">\n",
    "\n",
    "**Complément :**\n",
    "\n",
    "- Si le paramètre `pas` est omis, il vaut 1 par défaut.\n",
    "- Si le paramètre `début` est omis, il vaut 0 par défaut.\n",
    "    \n",
    "</div>"
   ]
  },
  {
   "cell_type": "markdown",
   "id": "eb59a923-e835-463f-9cbc-75df1c2c03fe",
   "metadata": {},
   "source": [
    "*Exemples* : \n",
    "\n",
    "    >>> for i in range(5, 11): \n",
    "            print(i)\n",
    "    5\n",
    "    6\n",
    "    7\n",
    "    8\n",
    "    9\n",
    "    10\n",
    "    >>> for i in range(4): \n",
    "            print(i)\n",
    "    0\n",
    "    1\n",
    "    2\n",
    "    3"
   ]
  },
  {
   "cell_type": "code",
   "execution_count": 3,
   "id": "eca7e89b-cdcc-400a-ad85-35f6a8edf798",
   "metadata": {},
   "outputs": [],
   "source": [
    "def i_mini(tab):\n",
    "    \"\"\" Renvoie l'indice du minimum du tableau.\n",
    "    Entrée : tab: [int]\n",
    "    Sortie : i_mini: int\n",
    "    \"\"\"\n",
    "    i_mini = 0\n",
    "    for i in range(len(tab)):\n",
    "        if tab[i] < tab[i_mini]:\n",
    "            i_mini = i\n",
    "    return i_mini"
   ]
  },
  {
   "cell_type": "code",
   "execution_count": 4,
   "id": "5cfd40bb-f284-48e8-a830-82f4327385fd",
   "metadata": {},
   "outputs": [
    {
     "data": {
      "text/plain": [
       "4"
      ]
     },
     "execution_count": 4,
     "metadata": {},
     "output_type": "execute_result"
    }
   ],
   "source": [
    "i_mini([5, 2, -4, 7, -8, 12])"
   ]
  },
  {
   "cell_type": "markdown",
   "id": "04988057-c063-4f96-9fc8-50e2f1e7cf12",
   "metadata": {
    "tags": []
   },
   "source": [
    "<h2 class=\"alert alert-info\">Recherche du minimum d'un tableau : indice et valeur </h2>"
   ]
  },
  {
   "cell_type": "markdown",
   "id": "c1c061f0-5113-4f3e-9ca1-838dd9056613",
   "metadata": {},
   "source": [
    "<div class=\"alert alert-warning\">\n",
    "    \n",
    "Cet exercice permet de :\n",
    "- réinvestir les notions vues précédemment.\n",
    "    \n",
    "</div>"
   ]
  },
  {
   "cell_type": "markdown",
   "id": "533da7dd-4f68-4cb7-ba37-15bcd7b7f4a3",
   "metadata": {},
   "source": [
    "**Exercice :**\n",
    "\n",
    "Écrire une fonction `minimum` dont voici la spécification :\n",
    "- Entrée : une liste d'entiers: [int]\n",
    "- Sortie : tuple donnant l'indice de l'élément minimum et sa valeur: (int, int)\n",
    "\n",
    "\n",
    "*Exemple d'utilisation :*\n",
    "\n",
    "    >>> minimum([5, 2, -4, 7, -8, 12])\n",
    "    (4, -8)"
   ]
  },
  {
   "cell_type": "code",
   "execution_count": 5,
   "id": "5abf4327-7c90-4071-b9dc-62bce2eed7eb",
   "metadata": {},
   "outputs": [],
   "source": [
    "def minimum(tab):\n",
    "    \"\"\" Renvoie l'indice et la valeur du minimum du tableau.\n",
    "    Entrée : tab: [int]\n",
    "    Sortie : (i_mini, minimum): (int, int)\n",
    "    \"\"\"\n",
    "    i_mini = 0\n",
    "    mini = tab[0]\n",
    "    for i in range(len(tab)):\n",
    "        if tab[i] < mini:\n",
    "            i_mini = i\n",
    "            mini = tab[i]\n",
    "    return (i_mini, mini)"
   ]
  },
  {
   "cell_type": "code",
   "execution_count": 6,
   "id": "d568e457-cb60-4a7d-b70c-c836a36e5196",
   "metadata": {},
   "outputs": [
    {
     "data": {
      "text/plain": [
       "(4, -8)"
      ]
     },
     "execution_count": 6,
     "metadata": {},
     "output_type": "execute_result"
    }
   ],
   "source": [
    "minimum([5, 2, -4, 7, -8, 12])"
   ]
  },
  {
   "cell_type": "markdown",
   "id": "ee406e7e-ff3f-409c-b409-62367d8f9b37",
   "metadata": {},
   "source": [
    "**Exercice à la maison :**\n",
    "\n",
    "1- Écrire une fonction `maximum` qui renvoie un tuple donnant l'indice de l'élément maximum et sa valeur.\n",
    "\n",
    "*Remarque* :  Si plusieurs éléments ont la valeur maximale, on désire avoir l'indice du 1er maximum.\n",
    "\n",
    "2- Écrire une fonction `maximum2` qui renvoie un tuple donnant la valeur du maximum, et une liste des indices des éléments de valeur maxi.\n",
    "\n",
    "\n",
    "*Exemple d'utilisation :*\n",
    "\n",
    "    >>> maximum([5, 12, -4, 7, -8, 12])\n",
    "    (1, 12)\n",
    "    >>> maximum2([5, 12, -4, 7, -8, 12])\n",
    "    (12, [1, 5])"
   ]
  },
  {
   "cell_type": "markdown",
   "id": "ae98a470-6a56-4722-9c13-ead8ce7d77e0",
   "metadata": {
    "tags": []
   },
   "source": [
    "<h2 class=\"alert alert-info\">Extraire les éléments pairs d'un tableau</h2>"
   ]
  },
  {
   "cell_type": "markdown",
   "id": "44268a5d-6405-422f-8bd8-38198bb305e8",
   "metadata": {},
   "source": [
    "<div class=\"alert alert-warning\">\n",
    "    \n",
    "Cet exercice permet de :\n",
    "- réaliser un parcours par élément d'un tableau.\n",
    "- manipuler le modulo pour identifier un nombre pair.\n",
    "    \n",
    "</div>"
   ]
  },
  {
   "cell_type": "markdown",
   "id": "e7674258-1c82-4c87-ae49-f9ff6877be24",
   "metadata": {},
   "source": [
    "**Exercice :**\n",
    "\n",
    "Écrire une fonction `pairs` qui extrait les nombre pairs d'une liste et dont voici la spécification :\n",
    "- Entrée : une liste d'entiers: [int]\n",
    "- Sortie : une liste d'entiers pairs:  [int]\n",
    "\n",
    "\n",
    "*Exemple d'utilisation :*\n",
    "\n",
    "    >>> pairs([5, 2, -4, 7, -8, 12])\n",
    "    [2, -4, -8, 12]\n",
    "    \n",
    "**Remarque :** un nombre pair donne un reste nul lors de sa division euclidienne par 2."
   ]
  },
  {
   "cell_type": "markdown",
   "id": "92c61314-8b5b-4e8c-9de6-bb161c178dfd",
   "metadata": {},
   "source": [
    "<div class=\"alert alert-danger\">\n",
    "\n",
    "**Cours : méthode `append()` d'une liste-Python :**\n",
    "\n",
    "Il est possible d'ajouter un élément à une liste avec la méthode `append()` selon la syntaxe suivante :\n",
    "    \n",
    "    >>> liste = []       # création d'une liste vide\n",
    "    >>> liste\n",
    "    []\n",
    "    >>> liste.append(5)  # ajout du nombre 5 en fin de liste\n",
    "    >>> liste\n",
    "    [5]\n",
    "    >>> liste.append(3)  # ajout du nombre 3 en fin de liste\n",
    "    >>> liste\n",
    "    [5, 3]\n",
    "</div>"
   ]
  },
  {
   "cell_type": "code",
   "execution_count": 7,
   "id": "8e686d88-27d8-4420-bd21-d4290d124d18",
   "metadata": {},
   "outputs": [],
   "source": [
    "def pairs(tab):\n",
    "    \"\"\" Renvoie une liste qui extrait les nombres pairs d'un tableau d'entiers.\n",
    "    Entrée : tab: [int]\n",
    "    Sortie : tableaux de nb pairs: [int]\n",
    "    \"\"\"\n",
    "    sortie = []\n",
    "    for n in tab:\n",
    "        if n % 2 == 0:\n",
    "            sortie.append(n)\n",
    "    return sortie"
   ]
  },
  {
   "cell_type": "code",
   "execution_count": 8,
   "id": "01baf75d-41f1-4aeb-aa06-0349e2ad6c24",
   "metadata": {},
   "outputs": [
    {
     "data": {
      "text/plain": [
       "[2, -4, -8, 12]"
      ]
     },
     "execution_count": 8,
     "metadata": {},
     "output_type": "execute_result"
    }
   ],
   "source": [
    "pairs([5, 2, -4, 7, -8, 12])"
   ]
  },
  {
   "cell_type": "markdown",
   "id": "dd87ab09-ca08-4603-9fdf-6fdd13f90995",
   "metadata": {},
   "source": [
    "**Exercice à la maison :**\n",
    "\n",
    "1- Écrire une fonction `parite` qui reçoit une liste d'entiers en entrée et renvoie un tuple de 2 listes. La 1ere liste contient les nombres pairs extraits de la liste initiale, et la 2nde liste contient les nombres impairs.\n",
    "\n",
    "\n",
    "*Exemple d'utilisation :*\n",
    "\n",
    "    >>> parite([5, 12, -4, 7, -8, 12])\n",
    "    ([2, -4, -8, 12], [5, 7])\n",
    "    >>> parite([5, 3, -7])\n",
    "    ([], [5, 3, -7])\n",
    "    \n",
    "2- Écrire une fonction `signe` qui reçoit une liste d'entiers en entrée et renvoie un tuple de 3 listes. La 1ere liste contient les nombres négatifs extraits de la liste initiale, la 2ème liste contient tous les zéros, et la 3ème contient tous les nombres positifs.\n",
    "\n",
    "\n",
    "*Exemple d'utilisation :*\n",
    "\n",
    "    >>> signe([5, 0, 12, -4, 0, -8, 12])\n",
    "    ([-4, -8], [0, 0], [5, 12, 12])"
   ]
  },
  {
   "cell_type": "markdown",
   "id": "8bedf382-a6c8-47e9-8400-7134fc8d5b1e",
   "metadata": {
    "tags": []
   },
   "source": [
    "<h2 class=\"alert alert-info\">Modifier les éléments d'un tableau</h2>"
   ]
  },
  {
   "cell_type": "markdown",
   "id": "94e6bb0e-d8c7-430d-8150-781496254ce9",
   "metadata": {},
   "source": [
    "<div class=\"alert alert-warning\">\n",
    "    \n",
    "Cet exercice permet de :\n",
    "- réaliser un parcours par indice d'un tableau.\n",
    "- modifier la valeur d'un élément de tableau, identifié par son indice.\n",
    "    \n",
    "</div>"
   ]
  },
  {
   "cell_type": "markdown",
   "id": "e9b70180-b278-442d-8d1c-2c65a36d965e",
   "metadata": {},
   "source": [
    "**Exercice :**\n",
    "\n",
    "Écrire une fonction `rendre_positif` qui reçoit une liste d'entiers en entrée, et qui modifie en place le signe de chacun des nombres négatifs de cette liste. Voici la spécification :\n",
    "- Entrée : une liste d'entiers: [int]\n",
    "- Sortie : Aucune (la liste, passée en paramètre par référence, est modifiée en place)\n",
    "\n",
    "\n",
    "*Exemple d'utilisation :*\n",
    "\n",
    "    >>> liste = [5, 2, -4, 7, -8, 12]\n",
    "    >>> liste\n",
    "    [5, 2, -4, 7, -8, 12]\n",
    "    >>> rendre_positif(liste)\n",
    "    >>> liste\n",
    "    [5, 2, 4, 7, 8, 12]"
   ]
  },
  {
   "cell_type": "markdown",
   "id": "114329f5-7aca-4ebd-9040-53cef1c82617",
   "metadata": {},
   "source": [
    "<div class=\"alert alert-danger\">\n",
    "\n",
    "**Cours : Fonction qui ne renvoie aucune valeur particulière :**\n",
    "\n",
    "En Python, une fonction qui ne contient pas d'instruction `return` (ou bien une instruction *return* suivi de rien) renvoie en réalité la valeur `None` (c'est la représentation Python du \"rien\", du \"néant\"). Les langages de programmation possèdent tous ce type de donnée (parfois appelée \"null\" ou \"nil\").\n",
    "</div>"
   ]
  },
  {
   "cell_type": "code",
   "execution_count": 9,
   "id": "9a0bebd0-354a-4075-b6fc-3355f6a60d06",
   "metadata": {},
   "outputs": [],
   "source": [
    "def rendre_positif(liste):\n",
    "    \"\"\" Modifie en place une liste en modifiant le signe de ses éléments négatifs.\"\"\"\n",
    "    for i in range(len(liste)):\n",
    "        if liste[i] < 0:\n",
    "            liste[i] = - liste[i]"
   ]
  },
  {
   "cell_type": "code",
   "execution_count": 10,
   "id": "61295c6f-8e5b-4e3e-8f3c-f2642a57f574",
   "metadata": {},
   "outputs": [
    {
     "data": {
      "text/plain": [
       "[5, 2, -4, 7, -8, 12]"
      ]
     },
     "execution_count": 10,
     "metadata": {},
     "output_type": "execute_result"
    }
   ],
   "source": [
    "liste = [5, 2, -4, 7, -8, 12]\n",
    "liste"
   ]
  },
  {
   "cell_type": "code",
   "execution_count": 11,
   "id": "bb72fa2f-744d-4bb6-9d35-aeb857ec16a3",
   "metadata": {},
   "outputs": [],
   "source": [
    "rendre_positif(liste)"
   ]
  },
  {
   "cell_type": "code",
   "execution_count": 12,
   "id": "5fc54a49-41d1-40dc-ac78-0d7c94eb524c",
   "metadata": {},
   "outputs": [
    {
     "data": {
      "text/plain": [
       "[5, 2, 4, 7, 8, 12]"
      ]
     },
     "execution_count": 12,
     "metadata": {},
     "output_type": "execute_result"
    }
   ],
   "source": [
    "liste"
   ]
  },
  {
   "cell_type": "markdown",
   "id": "40a54959-4aa6-42c1-bfbb-abb80ae1a586",
   "metadata": {},
   "source": [
    "**Complément 1 :** Pour mieux comprendre cette modification de la liste en place, observez le code suivant avec l'outil *Python tutor*."
   ]
  },
  {
   "cell_type": "code",
   "execution_count": null,
   "id": "bfc78914-d073-4c17-94c6-86c2d78d0a3d",
   "metadata": {},
   "outputs": [],
   "source": [
    "# Pour une utilisation avec une installation de Jupyter personnelle\n",
    "from metakernel import register_ipython_magics\n",
    "register_ipython_magics()"
   ]
  },
  {
   "cell_type": "code",
   "execution_count": null,
   "id": "b2e05ae7-4894-4051-8a6c-0f3670556e2d",
   "metadata": {},
   "outputs": [],
   "source": [
    "# Pour une utilisation avec Jupyter BASTHON\n",
    "#from tutor import tutor"
   ]
  },
  {
   "cell_type": "code",
   "execution_count": 3,
   "id": "12c5efdb-c14d-4722-b750-d6a67e4cbe3c",
   "metadata": {},
   "outputs": [
    {
     "data": {
      "text/html": [
       "\n",
       "        <iframe\n",
       "            width=\"100%\"\n",
       "            height=\"500\"\n",
       "            src=\"https://pythontutor.com/iframe-embed.html#code=def%20rendre_positif%28liste%29%3A%0A%20%20%20%20for%20i%20in%20range%28len%28liste%29%29%3A%0A%20%20%20%20%20%20%20%20if%20liste%5Bi%5D%20%3C%200%3A%0A%20%20%20%20%20%20%20%20%20%20%20%20liste%5Bi%5D%20%3D%20-%20liste%5Bi%5D%0A%20%20%20%20%20%20%20%20%20%20%20%20%0Aliste%20%3D%20%5B5%2C%202%2C%20-4%2C%207%2C%20-8%2C%2012%5D%0Arendre_positif%28liste%29%0Aprint%28liste%29%0A&origin=opt-frontend.js&cumulative=false&heapPrimitives=false&textReferences=false&py=3&rawInputLstJSON=%5B%5D&curInstr=0&codeDivWidth=350&codeDivHeight=400\"\n",
       "            frameborder=\"0\"\n",
       "            allowfullscreen\n",
       "            \n",
       "        ></iframe>\n",
       "        "
      ],
      "text/plain": [
       "<IPython.lib.display.IFrame at 0x7fe2c0075cc0>"
      ]
     },
     "metadata": {},
     "output_type": "display_data"
    }
   ],
   "source": [
    "%%tutor  # Jupyter personnel\n",
    "def rendre_positif(liste):\n",
    "    for i in range(len(liste)):\n",
    "        if liste[i] < 0:\n",
    "            liste[i] = - liste[i]\n",
    "            \n",
    "liste = [5, 2, -4, 7, -8, 12]\n",
    "rendre_positif(liste)\n",
    "print(liste)\n",
    "#tutor() # Juyter Basthon"
   ]
  },
  {
   "cell_type": "markdown",
   "id": "6233f3b4-a8ca-4b89-a24f-650515a39aa6",
   "metadata": {},
   "source": [
    "**Complément 2 :** \n",
    "\n",
    "On propose ci-dessous une fonction `creer_positifs` permettant de créer et renvoyer une **nouvelle liste** qui contient tous les éléments de la liste initiale avec des signes positifs, **sans modifier la liste d'origine**.\n",
    "\n",
    "Vous pouvez observer son exécution avec l'outil *Python tutor*."
   ]
  },
  {
   "cell_type": "code",
   "execution_count": 5,
   "id": "94d1f96d-602a-42b0-9c4c-79d76822452c",
   "metadata": {},
   "outputs": [
    {
     "data": {
      "text/html": [
       "\n",
       "        <iframe\n",
       "            width=\"100%\"\n",
       "            height=\"500\"\n",
       "            src=\"https://pythontutor.com/iframe-embed.html#code=def%20creer_positif%28liste%29%3A%0A%20%20%20%20nouvelle_liste%20%3D%20%5B%5D%0A%20%20%20%20for%20i%20in%20range%28len%28liste%29%29%3A%0A%20%20%20%20%20%20%20%20if%20liste%5Bi%5D%20%3E%3D%200%3A%0A%20%20%20%20%20%20%20%20%20%20%20%20nouvelle_liste.append%28liste%5Bi%5D%29%0A%20%20%20%20%20%20%20%20else%3A%0A%20%20%20%20%20%20%20%20%20%20%20%20nouvelle_liste.append%28-%20liste%5Bi%5D%29%0A%20%20%20%20return%20nouvelle_liste%0A%20%20%20%20%20%20%20%20%20%20%20%20%0Aliste%20%3D%20%5B5%2C%202%2C%20-4%2C%200%2C%20-8%2C%2012%5D%0Aliste_positive%20%3D%20creer_positif%28liste%29%0A&origin=opt-frontend.js&cumulative=false&heapPrimitives=false&textReferences=false&py=3&rawInputLstJSON=%5B%5D&curInstr=0&codeDivWidth=350&codeDivHeight=400\"\n",
       "            frameborder=\"0\"\n",
       "            allowfullscreen\n",
       "            \n",
       "        ></iframe>\n",
       "        "
      ],
      "text/plain": [
       "<IPython.lib.display.IFrame at 0x7fe2c0076320>"
      ]
     },
     "metadata": {},
     "output_type": "display_data"
    }
   ],
   "source": [
    "%%tutor  # Jupyter personnel\n",
    "def creer_positif(liste):\n",
    "    nouvelle_liste = []\n",
    "    for i in range(len(liste)):\n",
    "        if liste[i] >= 0:\n",
    "            nouvelle_liste.append(liste[i])\n",
    "        else:\n",
    "            nouvelle_liste.append(- liste[i])\n",
    "    return nouvelle_liste\n",
    "            \n",
    "liste = [5, 2, -4, 0, -8, 12]\n",
    "liste_positive = creer_positif(liste)\n",
    "#tutor() # Juyter Basthon"
   ]
  },
  {
   "cell_type": "markdown",
   "id": "76c34adf-955c-493d-ab3c-1f4e0b296c3e",
   "metadata": {},
   "source": [
    "**Exercice à la maison :**\n",
    "\n",
    "1- Écrire une fonction `ecreter` qui reçoit une liste d'entiers en entrée et qui modifie en place certains éléments de cette liste selon les 2 critères suivants :\n",
    "- tous les éléments supérieurs à 10 prennent la valeur 10. (ex : 13 est transformé en 10)\n",
    "- tous les éléments inférieurs à -10 prennent la valeur -10. (ex : -13 est transformé en -10)\n",
    "\n",
    "*Exemple d'utilisation :*\n",
    "\n",
    "    >>> liste = [15, 2, -14, 7, -8, 12]\n",
    "    >>> ecreter(liste)\n",
    "    >>> liste\n",
    "    [10, 2, -10, 7, -8, 10]"
   ]
  },
  {
   "cell_type": "markdown",
   "id": "94940455-f112-4f5d-8887-a03022ca544f",
   "metadata": {
    "tags": []
   },
   "source": [
    "<h2 class=\"alert alert-info\">Création de tableau en compréhension</h2>"
   ]
  },
  {
   "cell_type": "markdown",
   "id": "57c957e9-fed9-43b5-a1fa-e11969dae087",
   "metadata": {},
   "source": [
    "<div class=\"alert alert-warning\">\n",
    "    \n",
    "Cet exercice permet de découvrir la structure, très utile et fréquente, de création de tableau **en compréhension**.\n",
    "    \n",
    "</div>"
   ]
  },
  {
   "cell_type": "markdown",
   "id": "65883dcc-06fe-404e-86f0-776ec6073f70",
   "metadata": {},
   "source": [
    "<div class=\"alert alert-danger\">\n",
    " \n",
    "Nous avons vus dans les exercices précédents que pour créer un tableau (assimilé à une liste-Python), on peut :\n",
    "\n",
    "1. créer une liste vide\n",
    "2. créer une structure de boucle bornée for\n",
    "3. pour, en fonction de certains critères, \n",
    "4. remplir la liste d'éléments\n",
    "\n",
    "*Exemple de principe :*\n",
    "\n",
    "    >>> liste = []                         # 1. création de liste vide\n",
    "    >>> for elt in autre_liste:            # 2. boucle for\n",
    "    >>>     if condition_particuliere:     # 3. analyse des critères de sélection\n",
    "    >>>          liste.append(truc)        # 4. ajout de truc à la fin de la liste\n",
    "    \n",
    "</div>"
   ]
  },
  {
   "cell_type": "markdown",
   "id": "39fcf7df-f296-4447-b47b-24a2318d8251",
   "metadata": {},
   "source": [
    "<div class=\"alert alert-danger\">\n",
    " \n",
    "Cette structure générique peut s'écrire en **une seule ligne**, \"*en compréhension*\" !\n",
    "    \n",
    "    \n",
    "    >>> liste = [truc for elt in autre_liste if condition_particuliere]\n",
    "    \n",
    "    \n",
    "</div>\n",
    "\n"
   ]
  },
  {
   "cell_type": "markdown",
   "id": "a816cfda-d744-4913-982f-531d57635e11",
   "metadata": {},
   "source": [
    "*Exemple concret :* **création de la liste des carrés des nombres divisibles par 5 ou 7 parmi les 50 premiers entiers.**\n",
    "\n",
    "    >> div_par_5_7 = [n**2 for n in range(50) if (n%5 == 0 or n%7 == 0)]\n",
    "    \n",
    "Au passage, notez l'opérateur `**` pour la puissance."
   ]
  },
  {
   "cell_type": "code",
   "execution_count": 16,
   "id": "72dce7ac-4cb5-4747-8f20-8777083d5595",
   "metadata": {},
   "outputs": [
    {
     "data": {
      "text/plain": [
       "[0,\n",
       " 25,\n",
       " 49,\n",
       " 100,\n",
       " 196,\n",
       " 225,\n",
       " 400,\n",
       " 441,\n",
       " 625,\n",
       " 784,\n",
       " 900,\n",
       " 1225,\n",
       " 1600,\n",
       " 1764,\n",
       " 2025,\n",
       " 2401]"
      ]
     },
     "execution_count": 16,
     "metadata": {},
     "output_type": "execute_result"
    }
   ],
   "source": [
    "[n**2 for n in range(50) if (n%5 == 0 or n%7 == 0)]  "
   ]
  },
  {
   "cell_type": "markdown",
   "id": "ca85aefa-4087-41c0-a9a3-64a134eefc5f",
   "metadata": {},
   "source": [
    "**Exercice :**\n",
    "\n",
    "**Reprendre les 2 fonctions vues précédemment en utilisant la création de liste en compréhension :**\n",
    "\n",
    "1. fonction `pairs` qui extrait les nombre pairs d'une liste.\n",
    "    \n",
    "2. fonction `signe` qui reçoit une liste d'entiers en entrée et renvoie un tuple de 3 listes. La 1ere liste contient les nombres négatifs extraits de la liste initiale, la 2ème liste contient tous les zéros, et la 3ème contient tous les nombres positifs."
   ]
  },
  {
   "cell_type": "code",
   "execution_count": 17,
   "id": "be6251ed-7e34-4147-9bc0-b3f10052313c",
   "metadata": {},
   "outputs": [],
   "source": [
    "def pairs(liste):\n",
    "    return [n for n in liste if n%2 == 0]"
   ]
  },
  {
   "cell_type": "code",
   "execution_count": 18,
   "id": "e4ed19af-62b3-4c76-a776-c809f352d8f8",
   "metadata": {},
   "outputs": [
    {
     "data": {
      "text/plain": [
       "[2, -4, -8, 12]"
      ]
     },
     "execution_count": 18,
     "metadata": {},
     "output_type": "execute_result"
    }
   ],
   "source": [
    "pairs([5, 2, -4, 7, -8, 12])"
   ]
  },
  {
   "cell_type": "code",
   "execution_count": 19,
   "id": "f4207334-137c-4d60-a8bb-943afd64f50e",
   "metadata": {},
   "outputs": [],
   "source": [
    "def signe(liste):\n",
    "    return ([n for n in liste if n < 0], [n for n in liste if n == 0], [n for n in liste if n > 0])"
   ]
  },
  {
   "cell_type": "code",
   "execution_count": 20,
   "id": "aa6e0223-31c5-45cc-bdd1-d4583b803bff",
   "metadata": {},
   "outputs": [
    {
     "data": {
      "text/plain": [
       "([-4, -8], [0, 0], [5, 12, 12])"
      ]
     },
     "execution_count": 20,
     "metadata": {},
     "output_type": "execute_result"
    }
   ],
   "source": [
    "signe([5, 0, 12, -4, 0, -8, 12])"
   ]
  },
  {
   "cell_type": "markdown",
   "id": "8660d6f9-d657-4a4d-a5ac-0c599f6e95f7",
   "metadata": {},
   "source": [
    "**Exercice :**\n",
    "\n",
    "**En utilisant la création de liste en compréhension :**\n",
    "\n",
    "1. Créer une liste contenant tous les caractères majuscules de l'alphabet.\n",
    "\n",
    "Aide : on peut créer la lettre 'A' avec l'instruction `chr(65)` et les lettres suivantes avec l'instruction `chr(i)` où les valeurs de i sont 66, 67.. etc jusqu'à 91 (pour le 'Z').\n",
    "    \n",
    "2. On suppose qu'on dispose d'une variable `liste_de_listes` qui contient des listes d'entiers de différentes tailles (voir exemple ci-dessous).\n",
    "\n",
    "Créer une liste qui contient les tailles de toutes les \"sous-listes\" contenues dans `liste_de_listes`, à condition que ces sous-listes commencent par un 1 ! (oui, c'est compliqué et tordu... !).\n",
    "\n",
    "    >>> liste_de_listes = [[1, 2, 3], [7, 4], [1, -3, 6, 8]]\n",
    "    >>> # créer automatiquement en compréhension une liste qui vaut [3, 4] :\n",
    "        # explication : la 1ère et la 3ème sous-liste commencent bien par 1 et ont pour tailles respectives 3 et 4."
   ]
  },
  {
   "cell_type": "code",
   "execution_count": 21,
   "id": "d7471b2b-65bb-46f5-9c93-6ef73d62f616",
   "metadata": {},
   "outputs": [
    {
     "data": {
      "text/plain": [
       "['A',\n",
       " 'B',\n",
       " 'C',\n",
       " 'D',\n",
       " 'E',\n",
       " 'F',\n",
       " 'G',\n",
       " 'H',\n",
       " 'I',\n",
       " 'J',\n",
       " 'K',\n",
       " 'L',\n",
       " 'M',\n",
       " 'N',\n",
       " 'O',\n",
       " 'P',\n",
       " 'Q',\n",
       " 'R',\n",
       " 'S',\n",
       " 'T',\n",
       " 'U',\n",
       " 'V',\n",
       " 'W',\n",
       " 'X',\n",
       " 'Y',\n",
       " 'Z']"
      ]
     },
     "execution_count": 21,
     "metadata": {},
     "output_type": "execute_result"
    }
   ],
   "source": [
    "[chr(i) for i in range(65, 91)]"
   ]
  },
  {
   "cell_type": "code",
   "execution_count": 22,
   "id": "872873c8-e631-4b65-86b5-24aa81bc26ac",
   "metadata": {},
   "outputs": [
    {
     "data": {
      "text/plain": [
       "[3, 4]"
      ]
     },
     "execution_count": 22,
     "metadata": {},
     "output_type": "execute_result"
    }
   ],
   "source": [
    "liste_de_listes = [[1, 2, 3], [7, 4], [1, -3, 6, 8]]\n",
    "\n",
    "[len(liste) for liste in liste_de_listes if liste[0] == 1]"
   ]
  },
  {
   "cell_type": "code",
   "execution_count": null,
   "id": "c700aa86-f968-4f60-a744-0bf68dcb4371",
   "metadata": {},
   "outputs": [],
   "source": []
  }
 ],
 "metadata": {
  "kernelspec": {
   "display_name": "Python 3",
   "language": "python",
   "name": "python3"
  },
  "language_info": {
   "codemirror_mode": {
    "name": "ipython",
    "version": 3
   },
   "file_extension": ".py",
   "mimetype": "text/x-python",
   "name": "python",
   "nbconvert_exporter": "python",
   "pygments_lexer": "ipython3",
   "version": "3.10.1"
  }
 },
 "nbformat": 4,
 "nbformat_minor": 5
}
