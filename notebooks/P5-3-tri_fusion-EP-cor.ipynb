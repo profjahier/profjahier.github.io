{
 "cells": [
  {
   "cell_type": "markdown",
   "metadata": {},
   "source": [
    "<h1 class=\"alert alert-success\">Diviser pour régner (épreuve pratique) :<br>\n",
    "Tri fusion</h1>\n"
   ]
  },
  {
   "cell_type": "code",
   "execution_count": 1,
   "metadata": {},
   "outputs": [],
   "source": [
    "from random import shuffle # cette fonction permet de mélanger une liste aléatoirement"
   ]
  },
  {
   "cell_type": "markdown",
   "metadata": {},
   "source": [
    "<h2 class=\"alert alert-info\">Préliminaire</h2>"
   ]
  },
  {
   "cell_type": "markdown",
   "metadata": {},
   "source": [
    "1. Écrire une instruction pour construire un tableau `tab_n` contenant les 20 premiers entiers.\n",
    "\n",
    "*Cette instruction tient en une ligne et utilise la construction des listes en compréhension.*"
   ]
  },
  {
   "cell_type": "code",
   "execution_count": 2,
   "metadata": {},
   "outputs": [],
   "source": [
    "tab_n = [i for i in range(20)]"
   ]
  },
  {
   "cell_type": "markdown",
   "metadata": {},
   "source": [
    "2. Exécutez la cellule suivante pour mélanger votre tableau."
   ]
  },
  {
   "cell_type": "code",
   "execution_count": 3,
   "metadata": {},
   "outputs": [
    {
     "name": "stdout",
     "output_type": "stream",
     "text": [
      "[13, 12, 19, 17, 5, 4, 10, 2, 18, 8, 0, 6, 14, 9, 11, 1, 15, 3, 16, 7]\n"
     ]
    }
   ],
   "source": [
    "shuffle(tab_n)\n",
    "print(tab_n)"
   ]
  },
  {
   "cell_type": "markdown",
   "metadata": {},
   "source": [
    "<h2 class=\"alert alert-info\">Algorithme de tri fusion</h2>"
   ]
  },
  {
   "cell_type": "markdown",
   "metadata": {},
   "source": [
    "On rappelle que l'algorithme de tri fusion permet de trier un tableau en s'appuyant sur le principe suivant :\n",
    "\n",
    "- **Si le tableau contient un seul élément ou aucun : il est déjà trié !** La fonction renvoie donc le tableau sans modification.\n",
    "- **Sinon : il faut découper le tableau en 2 moitiés, et trier indépendamment chaque moitié du tableau, puis enfin fusionner ces 2 sous-tableaux triés en un seul tableau.** La fonction renvoie alors ce tableau trié.\n",
    "\n",
    "\n",
    "Cet algorithme nécessite donc de posséder 2 fonctions annexes pour séparer un tableau en ses 2 moitiés et pour fusionner 2 tableaux triés en un seul. On supposera dans un premier temps qu'on possède ces 2 fonctions, appelées `partition` et `fusion` dont on donne la spécification ci-dessous :\n",
    "\n",
    "    Fonction partition:\n",
    "        Entrée : tab : un tableau\n",
    "        Sortie : (tab1, tab2) : couple de 2 tableaux tels que :\n",
    "                 - tab1 : contient les élément de la première moitié de tab\n",
    "                 - tab2 : contient les éléments de la deuxième moitié de tab\n",
    "                 \n",
    "                 \n",
    "    Fonction fusion:\n",
    "        Entrée : - tab1 : un tableau trié (taille n1)\n",
    "                 - tab2 : un tableau trié (taille n2)\n",
    "        Sortie : tab : tableau (taille n1 + n2) contenant tous les éléments de tab1 et tab2\n",
    "                 tab est trié."
   ]
  },
  {
   "cell_type": "markdown",
   "metadata": {},
   "source": [
    "1. Quel principe algorithmique général est mis en oeuvre dans le tri fusion ? "
   ]
  },
  {
   "cell_type": "markdown",
   "metadata": {},
   "source": [
    "*Écrivez votre réponse dans cette cellule :*\n",
    "\n",
    "Algorithme de type **\"Diviser pour régner\"**"
   ]
  },
  {
   "cell_type": "markdown",
   "metadata": {},
   "source": [
    "2. Écrire une fonction récursive `tri_fusion` qui prend en paramètre un tableau (mélangé) et qui renvoie un tableau trié.\n",
    "Cette fonction peut s'appuyer sur les 2 fonctions `partition` et `fusion` (*on les écrira plus loin dans ce notebook*)."
   ]
  },
  {
   "cell_type": "code",
   "execution_count": 4,
   "metadata": {},
   "outputs": [],
   "source": [
    "def tri_fusion(tab):\n",
    "    if len(tab) <= 1 :\n",
    "        return tab\n",
    "    else:\n",
    "        tab1, tab2 = partition(tab)\n",
    "        # plusieurs instructions possibles\n",
    "        tab1 = tri_fusion(tab1)\n",
    "        tab2 = tri_fusion(tab2)\n",
    "        tab = fusion(tab1, tab2)\n",
    "        return tab"
   ]
  },
  {
   "cell_type": "markdown",
   "metadata": {},
   "source": [
    "<h2 class=\"alert alert-info\">Écriture des fonctions annexes</h2>\n"
   ]
  },
  {
   "cell_type": "markdown",
   "metadata": {},
   "source": [
    "<h3 class=\"alert alert-warning\">Fonction tranche</h3>"
   ]
  },
  {
   "cell_type": "markdown",
   "metadata": {},
   "source": [
    "1. Écrire une fonction `tranche` qui prend en paramètre un tableau `tab` et 2 entiers `i` et `j`, et qui renvoie un tableau contenant les éléments de `tab` compris entre les indices `i` et `j` (`j` non compris).\n",
    "\n",
    "2. On ajoutera une des assertions en début de fonction pour s'assurer de la cohérence des indices `i` et `j`."
   ]
  },
  {
   "cell_type": "code",
   "execution_count": 5,
   "metadata": {},
   "outputs": [],
   "source": [
    "def tranche(tab, i, j):\n",
    "    assert 0 <= i <= j <= len(tab), \"Erreur d'indices !\"\n",
    "    return [tab[n] for n in range(i, j)]"
   ]
  },
  {
   "cell_type": "code",
   "execution_count": 6,
   "metadata": {},
   "outputs": [],
   "source": [
    "# test\n",
    "assert tranche([0, 1, 2, 3, 4, 5], 1, 4) == [1, 2, 3]"
   ]
  },
  {
   "cell_type": "markdown",
   "metadata": {},
   "source": [
    "<h3 class=\"alert alert-warning\">Fonction partition</h3>"
   ]
  },
  {
   "cell_type": "markdown",
   "metadata": {},
   "source": [
    "Écrire une fonction `partition` qui prend en paramètre un tableau `tab`, et qui renvoie deux tableaux `tab1` et `tab2` contenant les éléments de la première moitié et de la deuxième moitié de `tab`. \n",
    "\n",
    "Si le tableau possède un nombre impair d'éléments, `tab1` ou `tab2` contient un élément de plus que l'autre.\n",
    "\n",
    "Si le tableau est vide, `tab1` et `tab2` sont vides aussi.\n",
    "\n",
    "*On conseille d'utiliser la fonction `tranche` précédente.*"
   ]
  },
  {
   "cell_type": "code",
   "execution_count": 7,
   "metadata": {},
   "outputs": [],
   "source": [
    "def partition(tab):\n",
    "    n = len(tab)\n",
    "    tab1 = tranche(tab, 0, n//2)\n",
    "    tab2 = tranche(tab, n//2, n)\n",
    "    return (tab1, tab2)"
   ]
  },
  {
   "cell_type": "code",
   "execution_count": 8,
   "metadata": {},
   "outputs": [
    {
     "data": {
      "text/plain": [
       "([], [])"
      ]
     },
     "execution_count": 8,
     "metadata": {},
     "output_type": "execute_result"
    }
   ],
   "source": [
    "# test\n",
    "partition([])"
   ]
  },
  {
   "cell_type": "code",
   "execution_count": 9,
   "metadata": {},
   "outputs": [
    {
     "data": {
      "text/plain": [
       "([], [1])"
      ]
     },
     "execution_count": 9,
     "metadata": {},
     "output_type": "execute_result"
    }
   ],
   "source": [
    "# test\n",
    "partition([1])"
   ]
  },
  {
   "cell_type": "code",
   "execution_count": 10,
   "metadata": {},
   "outputs": [
    {
     "data": {
      "text/plain": [
       "([1], [2])"
      ]
     },
     "execution_count": 10,
     "metadata": {},
     "output_type": "execute_result"
    }
   ],
   "source": [
    "# test\n",
    "partition([1,2])"
   ]
  },
  {
   "cell_type": "code",
   "execution_count": 11,
   "metadata": {},
   "outputs": [],
   "source": [
    "# test\n",
    "assert partition([1, 2, 3, 4, 5]) == ([1, 2, 3], [4, 5]) or partition([1, 2, 3, 4, 5]) == ([1, 2], [3, 4, 5])"
   ]
  },
  {
   "cell_type": "markdown",
   "metadata": {},
   "source": [
    "<h3 class=\"alert alert-warning\">Fonction fusion</h3>"
   ]
  },
  {
   "cell_type": "markdown",
   "metadata": {},
   "source": [
    "Écrire une fonction `fusion` qui prend en paramètre deux tableaux triés `t1` et `t2`, et qui renvoie un seul tableau `t` (toujours trié) contenant tous les éléments de `t1` et `t2`."
   ]
  },
  {
   "cell_type": "code",
   "execution_count": 12,
   "metadata": {},
   "outputs": [],
   "source": [
    "def fusion(t1, t2):\n",
    "    n1, n2 = len(t1), len(t2)\n",
    "    n = n1 + n2\n",
    "    t = [None] * n      # création d'un tableau de n éléments quelconques (None)\n",
    "    i, j = 0, 0         # indices pour parcourir t1 et t2\n",
    "    for k in range(n):  # indice pour parcourir l'ensemble des éléments des 2 tableaux\n",
    "        if i < n1:      # il reste des éléments à examiner dans t1\n",
    "            if j < n2:  # il reste aussi des éléments à examiner dans t2\n",
    "                if t1[i] < t2[j]: \n",
    "                    t[k] = t1[i]\n",
    "                    i = i + 1\n",
    "                else:\n",
    "                    t[k] = t2[j]\n",
    "                    j = j + 1                \n",
    "            else:       # t2 est parcouru entièrement\n",
    "                t[k] = t1[i]\n",
    "                i = i + 1\n",
    "        else:           # t1 est parcouru entièrement\n",
    "            t[k] = t2[j]\n",
    "            j = j + 1\n",
    "    return t"
   ]
  },
  {
   "cell_type": "markdown",
   "metadata": {},
   "source": [
    "<h2 class=\"alert alert-info\">Test final</h2>\n"
   ]
  },
  {
   "cell_type": "markdown",
   "metadata": {},
   "source": [
    "Trier le tableau `tab_n` créé en préliminaire avec votre fonction de tri fusion."
   ]
  },
  {
   "cell_type": "code",
   "execution_count": 13,
   "metadata": {},
   "outputs": [
    {
     "data": {
      "text/plain": [
       "[0, 1, 2, 3, 4, 5, 6, 7, 8, 9, 10, 11, 12, 13, 14, 15, 16, 17, 18, 19]"
      ]
     },
     "execution_count": 13,
     "metadata": {},
     "output_type": "execute_result"
    }
   ],
   "source": [
    "tri_fusion(tab_n)"
   ]
  },
  {
   "cell_type": "code",
   "execution_count": 14,
   "metadata": {},
   "outputs": [
    {
     "data": {
      "text/plain": [
       "[]"
      ]
     },
     "execution_count": 14,
     "metadata": {},
     "output_type": "execute_result"
    }
   ],
   "source": [
    "tri_fusion([])"
   ]
  },
  {
   "cell_type": "code",
   "execution_count": 15,
   "metadata": {},
   "outputs": [
    {
     "data": {
      "text/plain": [
       "[1]"
      ]
     },
     "execution_count": 15,
     "metadata": {},
     "output_type": "execute_result"
    }
   ],
   "source": [
    "tri_fusion([1])"
   ]
  },
  {
   "cell_type": "code",
   "execution_count": 16,
   "metadata": {},
   "outputs": [
    {
     "data": {
      "text/plain": [
       "[0, 1]"
      ]
     },
     "execution_count": 16,
     "metadata": {},
     "output_type": "execute_result"
    }
   ],
   "source": [
    "tri_fusion([1, 0])"
   ]
  }
 ],
 "metadata": {
  "kernelspec": {
   "display_name": "Python 3.8.1 64-bit ('python38': conda)",
   "language": "python",
   "name": "python38164bitpython38conda56991d5ad1414e06a4dcd344400cf456"
  },
  "language_info": {
   "codemirror_mode": {
    "name": "ipython",
    "version": 3
   },
   "file_extension": ".py",
   "mimetype": "text/x-python",
   "name": "python",
   "nbconvert_exporter": "python",
   "pygments_lexer": "ipython3",
   "version": "3.8.1"
  }
 },
 "nbformat": 4,
 "nbformat_minor": 4
}
