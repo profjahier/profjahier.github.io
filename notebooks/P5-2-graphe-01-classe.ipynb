{
 "cells": [
  {
   "cell_type": "markdown",
   "metadata": {},
   "source": [
    "<h1 class=\"alert alert-success\">Représentation des graphes : POO</h1>"
   ]
  },
  {
   "cell_type": "markdown",
   "metadata": {},
   "source": [
    "Avant de voir les algos sur les graphes, nous commencerons par introduire une classe Graphe que nous compléterons dans un 2nd TP.\n",
    "\n",
    "Elle reprend un certain nombre de notions vues lors de la découverte des graphes dans la partie *Structures de données*.\n",
    "\n",
    "Un graphe y est représenté en interne par un dictionnaire d'adjacence :\n",
    "\n",
    "    - chaque clé est une étiquette de sommet\n",
    "    - chaque valeur est un dictionnaire dont les clefs sont les étiquettes des successeurs et leurs valeurs les poids des arêtes\n",
    "\n",
    "- Les données sont stockées dans l'attribut ```dico``` de type dictionnaire.\n",
    "- La classe possède des méthodes de construction de graphe : ajout de sommet ou d'arête.\n",
    "- La classe possède aussi des méthodes pour accéder à la liste des sommets ou à la liste des successeurs d'un sommet donné."
   ]
  },
  {
   "cell_type": "code",
   "execution_count": null,
   "metadata": {},
   "outputs": [],
   "source": [
    "class Graphe():  # graphe représenté par un Dictionnaire d'Adjacence\n",
    "    \"\"\" Graphe implémenté à l'aide d'un dictionnaire d'adjacence.\n",
    "    Exemple : \n",
    "    self.dico = {'sommet_x': {'sommet_y' : poids_xy, 'sommet_z' : poids_xz},  etc...}\n",
    "    Chaque sommet est identifié par son étiquette (qui doit être unique !).\n",
    "    \"\"\"\n",
    "    def __init__(self):\n",
    "        \"\"\" Initialisation avec un graphe vide. \"\"\"\n",
    "        self.dico = dict()\n",
    "    \n",
    "    def ajouter_sommet(self, sommet):\n",
    "        \"\"\" Ajoute un nouveau sommet au graphe. \"\"\"\n",
    "        if not sommet in self.dico:\n",
    "            self.dico[sommet] = dict()\n",
    "    \n",
    "    def ajouter_arete(self, sommet1, sommet2, poids=1):\n",
    "        \"\"\" Ajoute une arête au graphe de sommet1 vers sommet2.\n",
    "        Si poids n'est pas renseigné, il prendra la valeur 1 par défaut. \"\"\"\n",
    "        # Si les sommets n'existent pas, on les crée avant l'arête :\n",
    "        self.ajouter_sommet(sommet1)\n",
    "        self.ajouter_sommet(sommet2)\n",
    "            # On crée la connexion sommet1 -> sommet2 (arc orienté par défaut)\n",
    "        self.dico[sommet1][sommet2] = poids\n",
    "    \n",
    "    def sommets(self):\n",
    "        \"\"\" Renvoie la liste des sommets triée par étiquette. \"\"\"\n",
    "        return sorted(list(self.dico.keys()))\n",
    "    \n",
    "    def successeurs(self, sommet):\n",
    "        \"\"\" Renvoie la liste des successeurs de sommet, triée par étiquette. \"\"\"\n",
    "        return sorted(list(self.dico[sommet].keys()))\n",
    "    \n",
    "    def poids(self, sommet1, sommet2):\n",
    "        \"\"\" Renvoie le poids de l'arête sommet1->sommet2 ou 0 si pas d'arête. \"\"\"\n",
    "        if sommet2 not in self.dico[sommet1]:\n",
    "            return 0\n",
    "        else:\n",
    "            return self.dico[sommet1][sommet2]\n",
    "            \n",
    "    def get_graphe(self):\n",
    "        \"\"\" Renvoie le dictionnaire d'adjacence représentant le graphe. \"\"\"\n",
    "        return self.dico\n",
    "    def set_graphe(self, dico):\n",
    "        \"\"\" Définit le dictionnaire d'adjacence représentant le graphe. \"\"\"\n",
    "        self.dico = dico"
   ]
  },
  {
   "cell_type": "markdown",
   "metadata": {},
   "source": [
    "En utilisant la commande help() vous aurez un résumé des méthodes à votre disposition dans cette classe."
   ]
  },
  {
   "cell_type": "code",
   "execution_count": null,
   "metadata": {},
   "outputs": [],
   "source": [
    "help(Graphe)"
   ]
  },
  {
   "cell_type": "markdown",
   "metadata": {},
   "source": [
    "<h2 class=\"alert alert-info\">Exemples de graphes</h2>"
   ]
  },
  {
   "cell_type": "markdown",
   "metadata": {},
   "source": [
    "Pour commencer, voici quelques exemples de graphes."
   ]
  },
  {
   "cell_type": "markdown",
   "metadata": {},
   "source": [
    "### Premier exemple"
   ]
  },
  {
   "cell_type": "code",
   "execution_count": null,
   "metadata": {},
   "outputs": [],
   "source": [
    "g1 = Graphe()\n",
    "g1.ajouter_arete(\"A\", \"B\", 2)\n",
    "g1.ajouter_arete(\"C\", \"A\", 3)\n",
    "g1.ajouter_arete(\"C\", \"B\")\n",
    "g1.ajouter_arete(\"B\", \"C\")\n",
    "g1.ajouter_arete(\"A\", \"D\")"
   ]
  },
  {
   "cell_type": "markdown",
   "metadata": {},
   "source": [
    "### Pour visualiser le graphe, on importe une fonction spécifique écrite dans un module perso.\n",
    "\n",
    "**Conseil** : il peut être intéressant de tester les moteurs de rendu graphique **dot**, **circo** et **neato** en fonction du graphe qu'on veut visualiser."
   ]
  },
  {
   "cell_type": "code",
   "execution_count": null,
   "metadata": {},
   "outputs": [],
   "source": [
    "from graphe_dot import dessiner\n",
    "help(dessiner)"
   ]
  },
  {
   "cell_type": "code",
   "execution_count": null,
   "metadata": {},
   "outputs": [],
   "source": [
    "# moteur = ['dot', 'circo', 'neato', 'fdp', 'osage', 'twopi', 'patchwork']"
   ]
  },
  {
   "cell_type": "code",
   "execution_count": null,
   "metadata": {},
   "outputs": [],
   "source": [
    "dessiner(g1, 'dot')"
   ]
  },
  {
   "cell_type": "code",
   "execution_count": null,
   "metadata": {},
   "outputs": [],
   "source": [
    "dessiner(g1, 'circo')"
   ]
  },
  {
   "cell_type": "code",
   "execution_count": null,
   "metadata": {},
   "outputs": [],
   "source": [
    "dessiner(g1, 'neato')"
   ]
  },
  {
   "cell_type": "markdown",
   "metadata": {},
   "source": [
    "Testez sur cet exemple les méthodes offertes par la classe Graphe afin de bien vous en imprégner."
   ]
  },
  {
   "cell_type": "code",
   "execution_count": null,
   "metadata": {},
   "outputs": [],
   "source": [
    "# testez ici les méthodes sur g1\n",
    "# à vous de jouer librement\n",
    "# ..."
   ]
  },
  {
   "cell_type": "markdown",
   "metadata": {},
   "source": [
    "<h2 class=\"alert alert-info\">Écriture d'une fonction spécifique qui permet de créer un dictionnaire d'adjacence à partir d'une matrice d'adjacence, et de la liste des étiquettes des sommets.</h2>"
   ]
  },
  {
   "cell_type": "code",
   "execution_count": null,
   "metadata": {},
   "outputs": [],
   "source": [
    "def mat2dico(matrice, etiquettes=None):\n",
    "    \"\"\" Crée un dico d'adjacence à partir d'une matrice d'adjacence :\n",
    "     - etiquettes est la liste des étiquettes des sommets \n",
    "    \"\"\"\n",
    "    n = len(matrice)\n",
    "    if etiquettes is None: # si aucune étiquette de sommets communiquée :\n",
    "        etiquettes = [i for i in range(n)] # on crée des sommets étiquettés de 0 à n-1\n",
    "    assert len(etiquettes) == len(set(etiquettes)), \"Erreur : doublon d'identifiants de sommets\"\n",
    "    dico = dict() \n",
    "    for i in range(n):\n",
    "        dico[etiquettes[i]] = dict()\n",
    "        for j in range(n):\n",
    "            if matrice[i][j] != 0:  # 2 sommets non connectés sont séparés d'une distance nulle\n",
    "                dico[etiquettes[i]][etiquettes[j]] = matrice[i][j]\n",
    "    return dico"
   ]
  },
  {
   "cell_type": "markdown",
   "metadata": {},
   "source": [
    "### Deuxième exemple : le graphe du cours"
   ]
  },
  {
   "cell_type": "code",
   "execution_count": null,
   "metadata": {},
   "outputs": [],
   "source": [
    "matrice = [[0,1,1,0,0,0,0,0],\n",
    "          [1,0,0,1,1,0,0,0],\n",
    "          [1,0,0,1,0,0,0,0],\n",
    "          [0,1,1,0,1,0,0,0],\n",
    "          [0,1,0,1,0,1,1,0],\n",
    "          [0,0,0,0,1,0,1,0],\n",
    "          [0,0,0,0,1,1,0,1],\n",
    "          [0,0,0,0,0,0,1,0]]\n",
    "\n",
    "sommets = 'ABCDEFGH'\n",
    "\n",
    "g2 = Graphe()\n",
    "dico = mat2dico(matrice, sommets)\n",
    "g2.set_graphe(dico)\n",
    "dessiner(g2, 'neato')"
   ]
  },
  {
   "cell_type": "code",
   "execution_count": 1,
   "metadata": {},
   "outputs": [],
   "source": [
    "# Testez ici quelques méthodes de la classe Graphe sur g2\n",
    "# à vous de jouer librement\n",
    "# ..."
   ]
  },
  {
   "cell_type": "markdown",
   "metadata": {},
   "source": [
    "### Troisième exemple : graphe de routage pondéré (voir TP-1-5)"
   ]
  },
  {
   "cell_type": "code",
   "execution_count": null,
   "metadata": {},
   "outputs": [],
   "source": [
    "gma = [\n",
    "        [0, 0, 10, 0, 0,0, 100, 0], \n",
    "        [0, 0, 0.1, 0, 0.1, 0, 0, 0], \n",
    "        [10, 0.10, 0, 10, 10, 0, 0, 0], \n",
    "        [0, 0, 10, 0, 0.1, 0, 0, 0], \n",
    "        [0, 0.1, 10, 0.1, 0, 10, 0, 0], \n",
    "        [0, 0, 0, 0, 10, 0, 0, 100], \n",
    "        [100, 0, 0, 0, 0, 0, 0, 0], \n",
    "        [0, 0, 0, 0,0, 100, 0, 0]\n",
    "        ]"
   ]
  },
  {
   "cell_type": "code",
   "execution_count": null,
   "metadata": {},
   "outputs": [],
   "source": [
    "etiquettes = ['R1', 'R2', 'R3', 'R4', 'R5', 'R6', 'LAN1', 'LAN2']\n",
    "\n",
    "g3 = Graphe()\n",
    "dico = mat2dico(gma, etiquettes)\n",
    "g3.set_graphe(dico)\n",
    "dessiner(g3, 'circo')"
   ]
  },
  {
   "cell_type": "code",
   "execution_count": null,
   "metadata": {},
   "outputs": [],
   "source": []
  }
 ],
 "metadata": {
  "kernelspec": {
   "display_name": "Python 3",
   "language": "python",
   "name": "python3"
  },
  "language_info": {
   "codemirror_mode": {
    "name": "ipython",
    "version": 3
   },
   "file_extension": ".py",
   "mimetype": "text/x-python",
   "name": "python",
   "nbconvert_exporter": "python",
   "pygments_lexer": "ipython3",
   "version": "3.7.10"
  }
 },
 "nbformat": 4,
 "nbformat_minor": 4
}
