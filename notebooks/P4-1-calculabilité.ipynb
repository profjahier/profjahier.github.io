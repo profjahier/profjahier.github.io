{
 "cells": [
  {
   "cell_type": "code",
   "execution_count": 1,
   "id": "3ee9b245-8e36-4541-8698-3eae7370f7a0",
   "metadata": {},
   "outputs": [],
   "source": [
    "programme = \"def euclide(a, b):\\n\\twhile b:\\n\\t\\ta, b = b, a%b\\n\\treturn a\""
   ]
  },
  {
   "cell_type": "code",
   "execution_count": 2,
   "id": "824882d9-f910-47bf-9311-df0e6e91a40b",
   "metadata": {},
   "outputs": [
    {
     "data": {
      "text/plain": [
       "'def euclide(a, b):\\n\\twhile b:\\n\\t\\ta, b = b, a%b\\n\\treturn a'"
      ]
     },
     "execution_count": 2,
     "metadata": {},
     "output_type": "execute_result"
    }
   ],
   "source": [
    "programme"
   ]
  },
  {
   "cell_type": "code",
   "execution_count": 3,
   "id": "3ca0f7de-f44c-4e72-b73e-97fdd89c5963",
   "metadata": {},
   "outputs": [
    {
     "name": "stdout",
     "output_type": "stream",
     "text": [
      "def euclide(a, b):\n",
      "\twhile b:\n",
      "\t\ta, b = b, a%b\n",
      "\treturn a\n"
     ]
    }
   ],
   "source": [
    "print(programme)"
   ]
  },
  {
   "cell_type": "code",
   "execution_count": 4,
   "id": "5a7d9299-9991-4e37-9ccd-47f065c4df65",
   "metadata": {},
   "outputs": [],
   "source": [
    "def universel(algo, *args):\n",
    "    exec(algo)\n",
    "    nom = algo.split('(')[0][4:]\n",
    "    return eval(f\"{nom}{args}\")"
   ]
  },
  {
   "cell_type": "code",
   "execution_count": 5,
   "id": "1812b63b-dd41-4d1c-adee-cf3bb81b6e3c",
   "metadata": {},
   "outputs": [
    {
     "data": {
      "text/plain": [
       "7"
      ]
     },
     "execution_count": 5,
     "metadata": {},
     "output_type": "execute_result"
    }
   ],
   "source": [
    "universel(programme, 35, 49)"
   ]
  },
  {
   "cell_type": "code",
   "execution_count": 6,
   "id": "ad9abf9c-9392-44da-b7d8-b940a62ec8a6",
   "metadata": {},
   "outputs": [],
   "source": [
    "def euclide(a, b):\n",
    "    while b:\n",
    "        a, b = b, a%b\n",
    "    return a"
   ]
  },
  {
   "cell_type": "code",
   "execution_count": 7,
   "id": "7d39cbd9-58c0-4ae9-917c-54e4cd93b1cd",
   "metadata": {},
   "outputs": [
    {
     "data": {
      "text/plain": [
       "7"
      ]
     },
     "execution_count": 7,
     "metadata": {},
     "output_type": "execute_result"
    }
   ],
   "source": [
    "euclide(49, 35)"
   ]
  },
  {
   "cell_type": "code",
   "execution_count": 12,
   "id": "d105e99b-6ffd-49c1-9d25-f449f97652f4",
   "metadata": {},
   "outputs": [],
   "source": [
    "p = \"\"\"def toto(a, b):\n",
    "    while b:\n",
    "        a, b = b, a%b\n",
    "    return a\"\"\""
   ]
  },
  {
   "cell_type": "code",
   "execution_count": 9,
   "id": "13e6f694-3ef3-491c-ba60-1fb16584b5be",
   "metadata": {},
   "outputs": [
    {
     "data": {
      "text/plain": [
       "7"
      ]
     },
     "execution_count": 9,
     "metadata": {},
     "output_type": "execute_result"
    }
   ],
   "source": [
    "universel(p, 35, 49)"
   ]
  },
  {
   "cell_type": "code",
   "execution_count": 14,
   "id": "4de59b65-9ae6-4b45-8413-0afc3bd69574",
   "metadata": {},
   "outputs": [],
   "source": [
    "exec(p)"
   ]
  },
  {
   "cell_type": "code",
   "execution_count": 11,
   "id": "04924845-3049-477b-a77b-b0a4f07fc13e",
   "metadata": {},
   "outputs": [
    {
     "data": {
      "text/plain": [
       "5"
      ]
     },
     "execution_count": 11,
     "metadata": {},
     "output_type": "execute_result"
    }
   ],
   "source": [
    "a"
   ]
  },
  {
   "cell_type": "code",
   "execution_count": 16,
   "id": "94f9508c-be2e-42b7-9353-ee08176200da",
   "metadata": {},
   "outputs": [
    {
     "data": {
      "text/plain": [
       "7"
      ]
     },
     "execution_count": 16,
     "metadata": {},
     "output_type": "execute_result"
    }
   ],
   "source": [
    "toto(35, 49)"
   ]
  },
  {
   "cell_type": "code",
   "execution_count": null,
   "id": "3e7144d6-ea5b-42b5-9759-cdd5075b63f0",
   "metadata": {},
   "outputs": [],
   "source": []
  }
 ],
 "metadata": {
  "kernelspec": {
   "display_name": "Python 3",
   "language": "python",
   "name": "python3"
  },
  "language_info": {
   "codemirror_mode": {
    "name": "ipython",
    "version": 3
   },
   "file_extension": ".py",
   "mimetype": "text/x-python",
   "name": "python",
   "nbconvert_exporter": "python",
   "pygments_lexer": "ipython3",
   "version": "3.7.10"
  }
 },
 "nbformat": 4,
 "nbformat_minor": 5
}
