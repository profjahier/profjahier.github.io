{
 "cells": [
  {
   "cell_type": "markdown",
   "metadata": {},
   "source": [
    "<div class=\"alert alert-success\">\n",
    "\n",
    "# Algorithme des k plus proches voisins \n",
    "## knn : k nearest neighbours\n",
    "</div>"
   ]
  },
  {
   "cell_type": "markdown",
   "metadata": {
    "jp-MarkdownHeadingCollapsed": true,
    "nbgrader": {
     "grade": false,
     "grade_id": "cell-30c45d626dfc9867",
     "locked": true,
     "schema_version": 1,
     "solution": false
    },
    "tags": []
   },
   "source": [
    "Voir présentation sur le fichier 'P7-3-knn-TP.pdf'"
   ]
  },
  {
   "cell_type": "markdown",
   "metadata": {
    "jp-MarkdownHeadingCollapsed": true,
    "tags": []
   },
   "source": [
    "<div class=\"alert alert-info\">\n",
    "    \n",
    "# I- Préparation des données\n",
    "    \n",
    "Le fichier `JoueursTop14.csv` contient les données sur tous les joueurs de rugby du Top14 pour la saison 2019-2020 (*trouvé sur http://www.allrugby.com*).\n",
    "\n",
    "</div>"
   ]
  },
  {
   "cell_type": "markdown",
   "metadata": {
    "nbgrader": {
     "grade": false,
     "grade_id": "cell-6aa4f425ea616f79",
     "locked": true,
     "schema_version": 1,
     "solution": false
    }
   },
   "source": [
    "### I-a Import des données avec le module csv et sa fonction `DictReader`\n",
    "On récupère ainsi la liste des descripteurs et les données sont stockées dans une liste de dictionnaires."
   ]
  },
  {
   "cell_type": "code",
   "execution_count": 1,
   "metadata": {
    "nbgrader": {
     "grade": false,
     "grade_id": "cell-69c82604a202ac28",
     "locked": true,
     "schema_version": 1,
     "solution": false
    }
   },
   "outputs": [],
   "source": [
    "import csv\n",
    "\n",
    "with open('JoueursTop14.csv', 'r', encoding='utf-8') as f:\n",
    "    joueurs_top14 = csv.DictReader(f, delimiter=';')\n",
    "    descripteurs = joueurs_top14.fieldnames\n",
    "    joueurs_top14 = list(joueurs_top14) # on transforme l'objet DictReader en une liste standard"
   ]
  },
  {
   "cell_type": "code",
   "execution_count": 2,
   "metadata": {
    "nbgrader": {
     "grade": false,
     "grade_id": "cell-69c82604a202ac28",
     "locked": true,
     "schema_version": 1,
     "solution": false
    }
   },
   "outputs": [
    {
     "name": "stdout",
     "output_type": "stream",
     "text": [
      "['Equipe', 'Nom', 'Poste', 'Type poste', 'Date de naissance', 'Taille (en cm)', 'Poids (en kg)']\n"
     ]
    }
   ],
   "source": [
    "# affichage des descripteurs\n",
    "print(descripteurs) "
   ]
  },
  {
   "cell_type": "code",
   "execution_count": 3,
   "metadata": {
    "nbgrader": {
     "grade": false,
     "grade_id": "cell-69c82604a202ac28",
     "locked": true,
     "schema_version": 1,
     "solution": false
    }
   },
   "outputs": [
    {
     "data": {
      "text/plain": [
       "{'Equipe': 'Agen',\n",
       " 'Nom': 'Anton PEIKRISHVILI',\n",
       " 'Poste': 'Pilier',\n",
       " 'Type poste': 'Avant',\n",
       " 'Date de naissance': '18/09/1987',\n",
       " 'Taille (en cm)': '183',\n",
       " 'Poids (en kg)': '122'}"
      ]
     },
     "execution_count": 3,
     "metadata": {},
     "output_type": "execute_result"
    }
   ],
   "source": [
    "# Exemple :  \n",
    "joueurs_top14[0] # sélection du 1er joueur de la liste"
   ]
  },
  {
   "cell_type": "markdown",
   "metadata": {
    "nbgrader": {
     "grade": false,
     "grade_id": "cell-d614d059dd62bde7",
     "locked": true,
     "schema_version": 1,
     "solution": false
    }
   },
   "source": [
    "### I-b Séparation des données : une partie pour créer l'algo knn et une partie pour faire des tests\n",
    "On crée une 1ère liste avec tous les joueurs qui ne sont pas de Toulouse (choix arbitraire !) et une 2ème liste avec seulement les joueurs de Toulouse. La 1ère liste servira de jeu de données de travail pour développer l'algorithme et la 2ème liste servira pour les tests.\n",
    "\n",
    "Au passage, on conserve seulement les données Poids, Taille et Type de poste.\n",
    "Et par ailleurs, on convertit les Poids et Taille en entiers (ce sont des chaines de caractères dans le fichier source)."
   ]
  },
  {
   "cell_type": "code",
   "execution_count": 4,
   "metadata": {
    "nbgrader": {
     "grade": false,
     "grade_id": "cell-be6102f262fa3e4b",
     "locked": true,
     "schema_version": 1,
     "solution": false
    }
   },
   "outputs": [],
   "source": [
    "# jeu de données utiles\n",
    "joueurs = [{'taille': int(joueur[\"Taille (en cm)\"]), 'poids': int(joueur[\"Poids (en kg)\"]), 'poste': joueur[\"Type poste\"]}\n",
    "           for joueur in joueurs_top14 if joueur[\"Equipe\"] != \"Toulouse\"]"
   ]
  },
  {
   "cell_type": "code",
   "execution_count": 5,
   "metadata": {
    "nbgrader": {
     "grade": false,
     "grade_id": "cell-e8e174eb5dd292ee",
     "locked": true,
     "schema_version": 1,
     "solution": false
    }
   },
   "outputs": [
    {
     "data": {
      "text/plain": [
       "{'taille': 183, 'poids': 122, 'poste': 'Avant'}"
      ]
     },
     "execution_count": 5,
     "metadata": {},
     "output_type": "execute_result"
    }
   ],
   "source": [
    "# Exemple : \n",
    "joueurs[0]"
   ]
  },
  {
   "cell_type": "markdown",
   "metadata": {},
   "source": [
    "<div class=\"alert alert-warning\">\n",
    "    \n",
    "**Exo** : Créer la variable `toulousains` qui contient la liste des seuls joueurs de Toulouse sur le même modèle que la liste précédente des joueurs qui ne sont pas de Toulouse :\n",
    "    \n",
    "</div>"
   ]
  },
  {
   "cell_type": "code",
   "execution_count": 6,
   "metadata": {
    "nbgrader": {
     "grade": true,
     "grade_id": "cell-3d8f037b039b5778",
     "locked": false,
     "points": 2,
     "schema_version": 1,
     "solution": true
    }
   },
   "outputs": [],
   "source": [
    "# jeu de tests (variable nommée toulousains)\n",
    "### A VOUS DE JOUER\n",
    "# toulousains = ..."
   ]
  },
  {
   "cell_type": "code",
   "execution_count": 7,
   "metadata": {
    "nbgrader": {
     "grade": true,
     "grade_id": "cell-3d8f037b039b5778",
     "locked": false,
     "points": 2,
     "schema_version": 1,
     "solution": true
    }
   },
   "outputs": [],
   "source": [
    "# jeu de tests (variable nommée toulousains)\n",
    "### A VOUS DE JOUER\n",
    "toulousains = [{'taille': int(joueur[\"Taille (en cm)\"]), 'poids': int(joueur[\"Poids (en kg)\"]), 'poste': joueur[\"Type poste\"]}\n",
    "           for joueur in joueurs_top14 if joueur[\"Equipe\"] == \"Toulouse\"]"
   ]
  },
  {
   "cell_type": "code",
   "execution_count": 8,
   "metadata": {
    "nbgrader": {
     "grade": false,
     "grade_id": "cell-43532343a47c0862",
     "locked": true,
     "schema_version": 1,
     "solution": false
    }
   },
   "outputs": [
    {
     "data": {
      "text/plain": [
       "{'taille': 184, 'poids': 128, 'poste': 'Avant'}"
      ]
     },
     "execution_count": 8,
     "metadata": {},
     "output_type": "execute_result"
    }
   ],
   "source": [
    "# Exemple : affichage du 1er joueur de Toulouse :\n",
    "toulousains[0]"
   ]
  },
  {
   "cell_type": "markdown",
   "metadata": {
    "jp-MarkdownHeadingCollapsed": true,
    "tags": []
   },
   "source": [
    "<div class=\"alert alert-info\">\n",
    "    \n",
    "# II- Représentation visuelle des données\n",
    "On désire représenter ces données dans un graphique de corpulence : chaque joueur est représenté par un point avec sa taille en abscisse et son poids en ordonnée. \n",
    "\n",
    "Par ailleurs, on choisira une représentation différente (couleur et symbole du point) en fonction du type de poste occupé par le joueur.\n",
    "\n",
    "</div>"
   ]
  },
  {
   "cell_type": "markdown",
   "metadata": {
    "nbgrader": {
     "grade": false,
     "grade_id": "cell-f7b1b5d94619acf6",
     "locked": true,
     "schema_version": 1,
     "solution": false
    }
   },
   "source": [
    "L'utilisation du module `matplotlib` n'est pas strictement au programme de NSI, mais est souvent utile pour ceux qui font spé Physique (entre autres). Vous êtes donc invités à essayer de comprendre les lignes suivantes."
   ]
  },
  {
   "cell_type": "code",
   "execution_count": 9,
   "metadata": {
    "nbgrader": {
     "grade": false,
     "grade_id": "cell-55aa054b3e7fe8e0",
     "locked": true,
     "schema_version": 1,
     "solution": false
    }
   },
   "outputs": [],
   "source": [
    "import matplotlib.pyplot as plt"
   ]
  },
  {
   "cell_type": "code",
   "execution_count": 10,
   "metadata": {
    "nbgrader": {
     "grade": false,
     "grade_id": "cell-10e2658ec9a5b309",
     "locked": true,
     "schema_version": 1,
     "solution": false
    }
   },
   "outputs": [
    {
     "data": {
      "image/png": "[encoded data removed]",
      "text/plain": [
       "<Figure size 576x360 with 1 Axes>"
      ]
     },
     "metadata": {
      "needs_background": "light"
     },
     "output_type": "display_data"
    }
   ],
   "source": [
    "# initialisation d'un graphe\n",
    "plt.figure(figsize=(8, 5))\n",
    "\n",
    "# définition des paramètres de représentations (aspect esthétique : couleur et symbole des points)\n",
    "# liste des types de postes existants :\n",
    "postes = ['Avant', '2ème ligne', '3ème ligne', 'Demi', 'Trois-Quarts', 'Arrière']     \n",
    "symboles = ['+', 'o', '.', 'v', '1', 'p']\n",
    "couleurs = ['b', 'g', 'r', 'c', 'k', 'm']\n",
    "symboles = {poste:symbole for (poste, symbole) in zip(postes, symboles)}\n",
    "couleurs = {poste:symbole for (poste, symbole) in zip(postes, couleurs)}\n",
    "\n",
    "# tracé des points\n",
    "for joueur in joueurs:\n",
    "    # documentation de plt.scatter() = affichage de points dans un graphe :\n",
    "    # plt.scatter(abscisse, ordonnée, label=\"légende\", marker=\"symbole du pt\", color=\"couleur\")\n",
    "    plt.scatter(joueur['taille'], joueur['poids'], marker=symboles[joueur['poste']], color=couleurs[joueur['poste']])\n",
    "\n",
    "# définition des axes \n",
    "plt.xlabel('taille (cm)')\n",
    "plt.ylabel('poids (kg)')\n",
    "\n",
    "# création de la légende\n",
    "for poste in postes:\n",
    "    plt.scatter(0, 0, label=poste, marker=symboles[poste], color=couleurs[poste])\n",
    "plt.legend()\n",
    "\n",
    "# affichage du graphique\n",
    "plt.show()"
   ]
  },
  {
   "cell_type": "markdown",
   "metadata": {
    "nbgrader": {
     "grade": false,
     "grade_id": "cell-caa2153766e6d2a5",
     "locked": true,
     "schema_version": 1,
     "solution": false
    }
   },
   "source": [
    "#### Commentaire :\n",
    "On distingue sur ce graphique des zones dans lesquelles les joueurs sont plus ou moins représentés en fonction de leur type de poste.\n",
    "\n",
    "(Remarque : Les \"Arrière\" sont sans doute les plus difficiles à identifier)"
   ]
  },
  {
   "cell_type": "markdown",
   "metadata": {
    "jp-MarkdownHeadingCollapsed": true,
    "tags": []
   },
   "source": [
    "<div class=\"alert alert-info\">\n",
    "    \n",
    "# III- Implémentation de l'algorithme des k plus proches voisins\n",
    "On dispose d’une banque de données d’apprentissage. À l’aide des similarités avec les exemples de cette base,\n",
    "l’algorithme doit classer les exemples non étiquetés.\n",
    "\n",
    "Dans notre contexte, on souhaite déterminer quel est le poste occupé par un joueur connaissant sa taille et son poids.\n",
    "\n",
    "</div>"
   ]
  },
  {
   "cell_type": "markdown",
   "metadata": {
    "nbgrader": {
     "grade": false,
     "grade_id": "cell-43c4591cae781ed2",
     "locked": true,
     "schema_version": 1,
     "solution": false
    },
    "tags": []
   },
   "source": [
    "### III-a Définition d'une \"distance\" entre deux joueurs :\n",
    "On définit la \"distance\" entre deux joueurs comme la distance euclidienne entre leurs points dans un graphe de corpulence poids = f(taille). \n",
    "\n",
    "Un joueur est caractérisé par un couple de corpulence (T, P), représentable par un point dans un graphique (voir section précédente).\n",
    "\n",
    "Avec notre implémentation d'un joueur sous forme de dictionnaire, on a :\n",
    "- T = joueur['taille']\n",
    "- P = joueur['poids']\n",
    "\n",
    "Pour 2 joueurs $A(T_A, P_A)$ et $B(T_B, P_B)$, la \"distance\" qui les sépare est définie par : $d=\\sqrt{(T_A - T_B)^2 + (P_A - P_B)^2}$"
   ]
  },
  {
   "cell_type": "markdown",
   "metadata": {},
   "source": [
    "<div class=\"alert alert-warning\">\n",
    "    \n",
    "**Exo** : écrire le code de la fonction `distance(joueurA, joueurB)`\n",
    "    \n",
    "</div>"
   ]
  },
  {
   "cell_type": "code",
   "execution_count": 11,
   "metadata": {
    "nbgrader": {
     "grade": true,
     "grade_id": "cell-0725a57bc134bb21",
     "locked": false,
     "points": 1,
     "schema_version": 1,
     "solution": true
    }
   },
   "outputs": [],
   "source": [
    "from math import sqrt # fonction racine carrée"
   ]
  },
  {
   "cell_type": "code",
   "execution_count": 12,
   "metadata": {
    "nbgrader": {
     "grade": true,
     "grade_id": "cell-0725a57bc134bb21",
     "locked": false,
     "points": 1,
     "schema_version": 1,
     "solution": true
    }
   },
   "outputs": [],
   "source": [
    "def distance(joueurA, joueurB):\n",
    "    \"\"\" Renvoie la distance euclidienne entre deux joueurs identifiés par les points A(T_A, P_A) et B(T_B, P_B) \n",
    "    dans un graphique de corpulence .\n",
    "    \"\"\"\n",
    "    ### A VOUS DE JOUER\n",
    "    # ..."
   ]
  },
  {
   "cell_type": "code",
   "execution_count": 13,
   "metadata": {
    "nbgrader": {
     "grade": true,
     "grade_id": "cell-0725a57bc134bb21",
     "locked": false,
     "points": 1,
     "schema_version": 1,
     "solution": true
    }
   },
   "outputs": [],
   "source": [
    "def distance(joueurA, joueurB):\n",
    "    \"\"\" Renvoie la distance euclidienne entre deux joueurs identifiés par les points A(T_A, P_A) et B(T_B, P_B) \n",
    "    dans un graphique de corpulence .\n",
    "    \"\"\"\n",
    "    ### SOLUTION\n",
    "    return sqrt((joueurA['taille']-joueurB['taille'])**2 + (joueurA['poids']-joueurB['poids'])**2)"
   ]
  },
  {
   "cell_type": "markdown",
   "metadata": {
    "nbgrader": {
     "grade": false,
     "grade_id": "cell-8b31707f1367faba",
     "locked": true,
     "schema_version": 1,
     "solution": false
    },
    "tags": []
   },
   "source": [
    "### III-b Obtention des k plus proches voisins avec leur distance et la catégorie de poste associé\n",
    "Il s'agit de parcourir tous les joueurs de la liste de données de travail et de calculer la distance qui les sépare d'un joueur-test défini par sa corpulence (taille, poids).\n",
    "\n",
    "La fonction `knn` correspondante renvoie une liste contenant des couples (distance, poste).\n",
    "\n",
    "Ex : `[(2.3, \"Demi\"), (3.51, \"Trois-Quarts\"), (4.0, \"Trois-Quarts\"), ...]`\n",
    "\n",
    "La liste doit aussi être **triée par distance croissante** et sa **taille doit être limitée à k éléments** (on ne conserve que les k plus proches voisins)."
   ]
  },
  {
   "cell_type": "markdown",
   "metadata": {},
   "source": [
    "<div class=\"alert alert-warning\">\n",
    "    \n",
    "**Exo** : écrire la fonction `knn`: \n",
    "    \n",
    "</div>"
   ]
  },
  {
   "cell_type": "code",
   "execution_count": 14,
   "metadata": {
    "nbgrader": {
     "grade": true,
     "grade_id": "cell-6c7af9352cd432ea",
     "locked": false,
     "points": 4,
     "schema_version": 1,
     "solution": true
    }
   },
   "outputs": [],
   "source": [
    "def knn(joueur_test, joueurs, k):\n",
    "    \"\"\" Renvoie la liste des k plus proches voisins d'un joueur-test caractérisé par sa corpulence (T, P)\n",
    "    parmi tous les joueurs définis de la liste 'joueurs'.\n",
    "    Cette liste fournit les distances et le type de poste de chaque voisin. \n",
    "    Entrées :\n",
    "    - joueur_test : dict : dictionnaire caractérisant un joueur test (de corpulence connue, mais de poste inconnu).\n",
    "    - joueurs : list(dict) : liste des joueurs voisins du joueur test.\n",
    "    - k : int : nombre de voisins les plus proches à retenir.\n",
    "    Sortie : Liste de k tuples (distance, poste), triés par distance.\n",
    "    \"\"\"\n",
    "    ### A VOUS DE JOUER\n",
    "    # ..."
   ]
  },
  {
   "cell_type": "code",
   "execution_count": 15,
   "metadata": {
    "nbgrader": {
     "grade": true,
     "grade_id": "cell-6c7af9352cd432ea",
     "locked": false,
     "points": 4,
     "schema_version": 1,
     "solution": true
    }
   },
   "outputs": [],
   "source": [
    "def knn(joueur_test, joueurs, k):\n",
    "    \"\"\" Renvoie la liste des k plus proches voisins d'un joueur-test caractérisé par sa corpulence (T, P)\n",
    "    parmi tous les joueurs définis de la liste 'joueurs'.\n",
    "    Cette liste fournit les distances et le type de poste de chaque voisin. \n",
    "    Entrées :\n",
    "    - joueur_test : dict : dictionnaire caractérisant un joueur test (de corpulence connue, mais de poste inconnu).\n",
    "    - joueurs : list(dict) : liste des joueurs voisins du joueur test.\n",
    "    - k : int : nombre de voisins les plus proches à retenir.\n",
    "    Sortie : Liste de k tuples (distance, poste), triés par distance.\n",
    "    \"\"\"\n",
    "    ### SOLUTION\n",
    "    voisins = [] \n",
    "    for joueur in joueurs:\n",
    "        voisins.append((distance(joueur_test, joueur), joueur['poste']))    \n",
    "    return sorted(voisins)[:k] # on trie par distance, et on conserve les k premiers élements de la liste"
   ]
  },
  {
   "cell_type": "code",
   "execution_count": 16,
   "metadata": {
    "nbgrader": {
     "grade": false,
     "grade_id": "cell-ac7cce018bf508bf",
     "locked": true,
     "schema_version": 1,
     "solution": false
    }
   },
   "outputs": [
    {
     "data": {
      "text/plain": [
       "[(2.23606797749979, 'Demi'),\n",
       " (2.8284271247461903, 'Trois-Quarts'),\n",
       " (3.0, 'Trois-Quarts'),\n",
       " (3.605551275463989, 'Arrière'),\n",
       " (3.605551275463989, 'Arrière'),\n",
       " (3.605551275463989, 'Trois-Quarts')]"
      ]
     },
     "execution_count": 16,
     "metadata": {},
     "output_type": "execute_result"
    }
   ],
   "source": [
    "# exemple : liste des 6 plus proches voisins (parmi tous les joueurs) d'un joueur de 192 cm et 91 kg :\n",
    "joueur_test = {'taille':192, 'poids':91, 'poste':'inconnu'}\n",
    "k = 6\n",
    "knn(joueur_test, joueurs, k)"
   ]
  },
  {
   "cell_type": "markdown",
   "metadata": {
    "nbgrader": {
     "grade": false,
     "grade_id": "cell-5f5eb67cb8ce7fe9",
     "locked": true,
     "schema_version": 1,
     "solution": false
    },
    "tags": []
   },
   "source": [
    "### III-c Dernière étape : prévoir quel poste occupe un joueur de corpulence donnée\n",
    "La fonction `prévision` doit renvoyer un poste à partir de la corpulence d'un joueur-test.\n",
    "\n",
    "Ex : `prevision(joueur_test, joueurs, 6)` vaut `'Trois-Quarts'`"
   ]
  },
  {
   "cell_type": "markdown",
   "metadata": {},
   "source": [
    "<div class=\"alert alert-warning\">\n",
    "    \n",
    "**Exo** : écrire la fonction `prevision`: \n",
    "    \n",
    "</div>"
   ]
  },
  {
   "cell_type": "code",
   "execution_count": 17,
   "metadata": {
    "nbgrader": {
     "grade": true,
     "grade_id": "cell-28c33df4baedd298",
     "locked": false,
     "points": 4,
     "schema_version": 1,
     "solution": true
    }
   },
   "outputs": [],
   "source": [
    "def prevision(joueur_test, joueurs, k):\n",
    "    \"\"\" Renvoie le poste prévisible d'un joueur en fonction de sa corpulence (T, P).\n",
    "    'joueurs' est la liste des joueurs de la banque de travail.\n",
    "    \"\"\"\n",
    "    ### A VOUS DE JOUER\n",
    "    # ..."
   ]
  },
  {
   "cell_type": "code",
   "execution_count": 18,
   "metadata": {
    "nbgrader": {
     "grade": true,
     "grade_id": "cell-28c33df4baedd298",
     "locked": false,
     "points": 4,
     "schema_version": 1,
     "solution": true
    }
   },
   "outputs": [],
   "source": [
    "def prevision(joueur_test, joueurs, k):\n",
    "    \"\"\" Renvoie le poste prévisible d'un joueur en fonction de sa corpulence (T, P).\n",
    "    'joueurs' est la liste des joueurs de la banque de travail.\n",
    "    \"\"\"\n",
    "    ### SOLUTION\n",
    "    proches_voisins = knn(joueur_test, joueurs, k)\n",
    "    # on compte le nombre de voisins de chaque type de poste parmi les k plus proches\n",
    "    postes = ['Avant', '2ème ligne', '3ème ligne', 'Demi', 'Trois-Quarts', 'Arrière']     \n",
    "    compte_postes = {poste:0 for poste in postes}\n",
    "    for voisin in proches_voisins:\n",
    "        compte_postes[voisin[1]] += 1\n",
    "    # on trie les items du dictionnaire selon l'effectif du type de poste (par effectif décroissant)\n",
    "    compte_postes_tri = sorted(compte_postes.items(), key=lambda t:t[1], reverse=True)\n",
    "    #print(compte_postes_tri)\n",
    "    # on renvoie le type de poste le représenté (le \"1er venu\" en cas égalité)\n",
    "    return compte_postes_tri[0][0]"
   ]
  },
  {
   "cell_type": "code",
   "execution_count": 19,
   "metadata": {
    "nbgrader": {
     "grade": false,
     "grade_id": "cell-0d29d4e2fdc589a5",
     "locked": true,
     "schema_version": 1,
     "solution": false
    },
    "tags": []
   },
   "outputs": [
    {
     "data": {
      "text/plain": [
       "'Trois-Quarts'"
      ]
     },
     "execution_count": 19,
     "metadata": {},
     "output_type": "execute_result"
    }
   ],
   "source": [
    "# exemple : prévision du poste d'un joueur 192 cm et 91 kg (avec k = 6):\n",
    "k = 6\n",
    "prevision(joueur_test, joueurs, k)"
   ]
  },
  {
   "cell_type": "markdown",
   "metadata": {
    "jp-MarkdownHeadingCollapsed": true,
    "tags": []
   },
   "source": [
    "<div class=\"alert alert-info\">\n",
    "    \n",
    "# IV- Test du modèle \n",
    "Pour évaluer la pertinence des prévisions (et éventuellement pouvoir choisir un paramètre k convenable), on réalise une série de prévisions sur un jeu de données test. \n",
    "\n",
    "Dans notre exemple, le jeu de données test est la liste des joueurs de Toulouse.\n",
    "\n",
    "On va donc comparer le poste rééellement occupé par chaque Toulousain et le poste prévu par l'algorithme knn pour voir si les prévisions sont pertinentes.\n",
    "\n",
    "</div>"
   ]
  },
  {
   "cell_type": "code",
   "execution_count": 20,
   "metadata": {
    "nbgrader": {
     "grade": false,
     "grade_id": "cell-d004ce62e1f9a2b5",
     "locked": true,
     "schema_version": 1,
     "solution": false
    }
   },
   "outputs": [
    {
     "name": "stdout",
     "output_type": "stream",
     "text": [
      "3 joueurs de Toulouse (données test):\n",
      "{'taille': 184, 'poids': 128, 'poste': 'Avant'}\n",
      "{'taille': 183, 'poids': 110, 'poste': 'Avant'}\n",
      "{'taille': 182, 'poids': 116, 'poste': 'Avant'}\n",
      "\n",
      "3 joueurs parmi tous les autres (données de travail):\n",
      "{'taille': 183, 'poids': 122, 'poste': 'Avant'}\n",
      "{'taille': 183, 'poids': 116, 'poste': 'Avant'}\n",
      "{'taille': 177, 'poids': 112, 'poste': 'Avant'}\n"
     ]
    }
   ],
   "source": [
    "# rappel des données qu'on possède :\n",
    "\n",
    "print(\"3 joueurs de Toulouse (données test):\")\n",
    "for i in range(3):\n",
    "    print(toulousains[i])\n",
    "    \n",
    "print()\n",
    "print(\"3 joueurs parmi tous les autres (données de travail):\")\n",
    "for i in range(3):\n",
    "    print(joueurs[i])"
   ]
  },
  {
   "cell_type": "markdown",
   "metadata": {
    "nbgrader": {
     "grade": false,
     "grade_id": "cell-4bd34b24fe8c046c",
     "locked": true,
     "schema_version": 1,
     "solution": false
    }
   },
   "source": [
    "###  IV-a Qualité des prévisions  sur un jeu de données test\n",
    "Choisir un paramètre k = 4, et afficher pour chaque joueur de Toulouse, son poste réel, et la catégorie prévue par l'algorithme des k plus proches voisins."
   ]
  },
  {
   "cell_type": "code",
   "execution_count": 22,
   "metadata": {
    "nbgrader": {
     "grade": false,
     "grade_id": "cell-379dcf428b56fdc9",
     "locked": true,
     "schema_version": 1,
     "solution": false
    }
   },
   "outputs": [
    {
     "name": "stdout",
     "output_type": "stream",
     "text": [
      "Avant Avant\n",
      "Avant Avant\n",
      "Avant Avant\n",
      "Avant Avant\n",
      "Avant Avant\n",
      "Avant Avant\n",
      "Avant Avant\n",
      "Avant Avant\n",
      "Avant Trois-Quarts\n",
      "Avant 3ème ligne\n",
      "Avant 3ème ligne\n",
      "Avant Trois-Quarts\n",
      "Avant Avant\n",
      "2ème ligne 2ème ligne\n",
      "2ème ligne 2ème ligne\n",
      "2ème ligne 2ème ligne\n",
      "2ème ligne 2ème ligne\n",
      "2ème ligne 2ème ligne\n",
      "2ème ligne 2ème ligne\n",
      "3ème ligne 3ème ligne\n",
      "3ème ligne 3ème ligne\n",
      "3ème ligne 3ème ligne\n",
      "3ème ligne Trois-Quarts\n",
      "3ème ligne 2ème ligne\n",
      "3ème ligne 3ème ligne\n",
      "3ème ligne 3ème ligne\n",
      "3ème ligne 2ème ligne\n",
      "3ème ligne Avant\n",
      "Demi Demi\n",
      "Demi Demi\n",
      "Demi Demi\n",
      "Demi Demi\n",
      "Demi Demi\n",
      "Demi Demi\n",
      "Trois-Quarts Trois-Quarts\n",
      "Trois-Quarts 3ème ligne\n",
      "Trois-Quarts 3ème ligne\n",
      "Trois-Quarts Trois-Quarts\n",
      "Trois-Quarts Trois-Quarts\n",
      "Trois-Quarts Demi\n",
      "Trois-Quarts 3ème ligne\n",
      "Trois-Quarts Trois-Quarts\n",
      "Trois-Quarts Demi\n",
      "Trois-Quarts Trois-Quarts\n",
      "Arrière Trois-Quarts\n",
      "Arrière Demi\n",
      "Arrière Demi\n"
     ]
    }
   ],
   "source": [
    "k = 4 # paramètre de l'algo\n",
    "\n",
    "for joueur in toulousains:\n",
    "    poste_prevu = prevision(joueur, joueurs, k)  # poste_prevu est le poste déterminé en appliqant l'algo knn\n",
    "    print(joueur['poste'], poste_prevu)          # joueur['poste'] est le poste réel du joueur testé"
   ]
  },
  {
   "cell_type": "markdown",
   "metadata": {
    "nbgrader": {
     "grade": false,
     "grade_id": "cell-eca5ce808d4de59e",
     "locked": true,
     "schema_version": 1,
     "solution": false
    }
   },
   "source": [
    "#### Commentaire :\n",
    "**Les résultats sont plutôts satifaisants, même s'il reste quand même quelques erreurs...**"
   ]
  },
  {
   "cell_type": "markdown",
   "metadata": {
    "nbgrader": {
     "grade": false,
     "grade_id": "cell-3d59c98453bbc896",
     "locked": true,
     "schema_version": 1,
     "solution": false
    },
    "tags": []
   },
   "source": [
    "### IV-b Statistiques de réussites de prévisions en fonction de k\n",
    "On peut essayer différentes valeurs de k pour voir si les prévisions peuvent être améliorées.\n",
    "\n"
   ]
  },
  {
   "cell_type": "markdown",
   "metadata": {},
   "source": [
    "<div class=\"alert alert-warning\">\n",
    "    \n",
    "**Exo** : Écrire une fonction `pourcentage_reussite` qui renvoie le pourcentage (arrondi au nombre entier entre 0 et 100) de bonnes prévisions.\n",
    "    \n",
    "</div>"
   ]
  },
  {
   "cell_type": "code",
   "execution_count": 23,
   "metadata": {
    "nbgrader": {
     "grade": true,
     "grade_id": "cell-1cb72473e922d8a6",
     "locked": false,
     "points": 2,
     "schema_version": 1,
     "solution": true
    }
   },
   "outputs": [],
   "source": [
    "def pourcentage_reussite(donnees_tests, donnees_travail, k):\n",
    "    \"\"\" Renvoie le pourcentage de bonnes prévisions des postes \n",
    "    parmi les joueurs de la liste donnees_test \n",
    "    en s'appuyant sur les joueurs de liste donnees_travail.\n",
    "    \"\"\"\n",
    "    ### A VOUS DE JOUER\n",
    "    # ..."
   ]
  },
  {
   "cell_type": "code",
   "execution_count": 24,
   "metadata": {
    "nbgrader": {
     "grade": true,
     "grade_id": "cell-1cb72473e922d8a6",
     "locked": false,
     "points": 2,
     "schema_version": 1,
     "solution": true
    }
   },
   "outputs": [],
   "source": [
    "def pourcentage_reussite(donnees_tests, donnees_travail, k):\n",
    "    \"\"\" Renvoie le pourcentage de bonnes prévisions des postes \n",
    "    parmi les joueurs de la liste donnees_test \n",
    "    en s'appuyant sur les joueurs de liste donnees_travail.\n",
    "    \"\"\"\n",
    "    ### SOLUTION\n",
    "    bonnes_previsions = 0\n",
    "    for joueur in donnees_tests:\n",
    "        poste_prevu = prevision(joueur, joueurs, k)\n",
    "        if poste_prevu == joueur['poste']:\n",
    "            bonnes_previsions += 1\n",
    "\n",
    "    return int(100 * bonnes_previsions / len(donnees_tests))"
   ]
  },
  {
   "cell_type": "code",
   "execution_count": 25,
   "metadata": {
    "nbgrader": {
     "grade": false,
     "grade_id": "cell-be2830a61840de85",
     "locked": true,
     "schema_version": 1,
     "solution": false
    }
   },
   "outputs": [
    {
     "name": "stdout",
     "output_type": "stream",
     "text": [
      "3 68\n",
      "4 65\n",
      "5 65\n",
      "6 65\n",
      "7 72\n",
      "8 68\n",
      "9 70\n",
      "10 70\n",
      "11 70\n"
     ]
    }
   ],
   "source": [
    "for k in range(3, 12):\n",
    "    print(k, pourcentage_reussite(toulousains, joueurs, k))"
   ]
  },
  {
   "cell_type": "markdown",
   "metadata": {
    "nbgrader": {
     "grade": false,
     "grade_id": "cell-56032d55042724d2",
     "locked": true,
     "schema_version": 1,
     "solution": false
    }
   },
   "source": [
    "#### Commentaire :\n",
    "Finalement, on constate ici que la valeur de k n'est pas trop critique et que le pourcentage de bonnes réponses reste aux alentours de 70%.\n",
    "\n",
    "Ceci montre aussi la limite de ce modèle de prédiction. Mais la qualité des résultats obtenus est bien entendue dépendante de chaque situation étudiée."
   ]
  },
  {
   "cell_type": "code",
   "execution_count": null,
   "metadata": {},
   "outputs": [],
   "source": []
  }
 ],
 "metadata": {
  "celltoolbar": "Create Assignment",
  "kernelspec": {
   "display_name": "Python 3",
   "language": "python",
   "name": "python3"
  },
  "language_info": {
   "codemirror_mode": {
    "name": "ipython",
    "version": 3
   },
   "file_extension": ".py",
   "mimetype": "text/x-python",
   "name": "python",
   "nbconvert_exporter": "python",
   "pygments_lexer": "ipython3",
   "version": "3.10.1"
  }
 },
 "nbformat": 4,
 "nbformat_minor": 4
}
