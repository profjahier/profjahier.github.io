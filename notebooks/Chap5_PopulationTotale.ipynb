{
 "cells": [
  {
   "cell_type": "code",
   "execution_count": 1,
   "metadata": {},
   "outputs": [
    {
     "name": "stdout",
     "output_type": "stream",
     "text": [
      "Population totale : 508450856\n"
     ]
    }
   ],
   "source": [
    "f = open(\"Chap5_Population.csv\", \"r\")\n",
    "entete = f.readline()\n",
    "popEurope = 0\n",
    "ligne = f.readline()\n",
    "while ligne != \"\":\n",
    "    nom, pop, sup = ligne.split(\";\")\n",
    "    popEurope = popEurope + eval(pop)\n",
    "    ligne = f.readline()\n",
    "print(\"Population totale :\", popEurope)\n",
    "f.close()"
   ]
  },
  {
   "cell_type": "code",
   "execution_count": null,
   "metadata": {},
   "outputs": [],
   "source": []
  }
 ],
 "metadata": {
  "kernelspec": {
   "display_name": "Python 3.8.1 64-bit ('python38': conda)",
   "language": "python",
   "name": "python38164bitpython38conda56991d5ad1414e06a4dcd344400cf456"
  },
  "language_info": {
   "codemirror_mode": {
    "name": "ipython",
    "version": 3
   },
   "file_extension": ".py",
   "mimetype": "text/x-python",
   "name": "python",
   "nbconvert_exporter": "python",
   "pygments_lexer": "ipython3",
   "version": "3.8.1"
  }
 },
 "nbformat": 4,
 "nbformat_minor": 4
}
