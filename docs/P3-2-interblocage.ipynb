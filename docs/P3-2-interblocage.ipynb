{
 "cells": [
  {
   "cell_type": "markdown",
   "metadata": {},
   "source": [
    "# Illustration de l'interblocage en Python\n",
    "*Licence Creative Commons BY-SA 4.0 — Olivier Lecluse — 2020*"
   ]
  },
  {
   "cell_type": "markdown",
   "metadata": {},
   "source": [
    "## Activité préliminaire\n",
    "\n",
    "Commençons par une simple fonction qui doit incrémenter 100 fois une variable compteur :"
   ]
  },
  {
   "cell_type": "code",
   "execution_count": null,
   "metadata": {},
   "outputs": [],
   "source": [
    "from time import sleep\n",
    "\n",
    "compteur = 0 # Variable globale\n",
    "limite = 100\n",
    "\n",
    "def calcul():\n",
    "    global compteur\n",
    "    for i in range(limite):\n",
    "        temp = compteur\n",
    "        # simule un traitement nécessitant des calculs\n",
    "        sleep(0.000000001)\n",
    "        compteur = temp + 1"
   ]
  },
  {
   "cell_type": "markdown",
   "metadata": {},
   "source": [
    "*Remarque*  : la variable ```compteur``` est définie comme une variable globale dans la fonction (mot clef global) et donc la modification de cette varibale au sein de la fonction se répercute pour l'ensemble du programme."
   ]
  },
  {
   "cell_type": "code",
   "execution_count": null,
   "metadata": {},
   "outputs": [],
   "source": [
    "compteur = 0\n",
    "calcul()"
   ]
  },
  {
   "cell_type": "code",
   "execution_count": null,
   "metadata": {},
   "outputs": [],
   "source": [
    "print(compteur)"
   ]
  },
  {
   "cell_type": "markdown",
   "metadata": {},
   "source": [
    "Sans surprise, la valeur de la variable `compteur` vaut 100. Vous remarquerez la manière dont l'incrémentation du compteur a été volontairement complexifiée. La raison va apparaître maintenant car nous allons maintenant lancer 4 processus légers (appelés **threads**) qui vont tous les 4 exécuter la fonction calcul.\n",
    "\n",
    "On pourrait imaginer que puisque calcul est exécuté 4 fois le résultat final sera 400. En réalité, il n'en est rien :"
   ]
  },
  {
   "cell_type": "code",
   "execution_count": null,
   "metadata": {},
   "outputs": [],
   "source": [
    "from threading import Thread"
   ]
  },
  {
   "cell_type": "code",
   "execution_count": null,
   "metadata": {},
   "outputs": [],
   "source": [
    "compteur = 0\n",
    "# création de 4 threads pour exécuter la fonction calcul :\n",
    "p1 = Thread(target=calcul)\n",
    "p2 = Thread(target=calcul)\n",
    "p3 = Thread(target=calcul)\n",
    "p4 = Thread(target=calcul)\n",
    "# démarrage des 4 threads :\n",
    "p1.start()      # Lance calcul dans un processus léger à part\n",
    "p2.start()      # Lance calcul dans un 2ème processus léger à part\n",
    "p3.start()      # Lance calcul dans un 3ème processus léger à part\n",
    "p4.start()      # Lance calcul dans un 4ème processus léger à part"
   ]
  },
  {
   "cell_type": "code",
   "execution_count": null,
   "metadata": {},
   "outputs": [],
   "source": [
    "print(compteur)"
   ]
  },
  {
   "cell_type": "markdown",
   "metadata": {},
   "source": [
    "## Threads are evil, don't use them !\n",
    "\n",
    "En réévaluant plusieurs fois l'exécution du calcul parallèle, on s'aperçoit que :\n",
    "- le résultat n'est pas 400 !\n",
    "- d'une exécution à l'autre le résultat est différent !!\n",
    "\n",
    "Voila qui est très perturbant : Un même programme - très simple - exécuté plusieurs fois qui ne donne pas le même résultat. Bienvenue dans le monde infernal des threads. Cela explique la réticence de certains à les utiliser : **Threads are evil, don't use them !** lit-on souvent sur les forums de développeurs...\n",
    "\n",
    "Et pourtant ils sont nécessaires à bon nombre de tâches. Sans threads, pas de serveurs webs capables d'encaisser des millions de requêtes à la seconde !"
   ]
  },
  {
   "cell_type": "markdown",
   "metadata": {},
   "source": [
    "## Explication\n",
    "\n",
    "Il n'y a rien d'illogique ou d'aléatoire dans le fonctionnement de notre programme. Il faut simplement habituer notre esprit à l'exécution en parallèle :\n",
    "- 4 processus (appelons les P1, P2, P3 et P4) exécutent la fonction calcul simultanément. Celle-ci utilise une **variable globale** ```compteur``` qui sera donc modifiée par chacun de ces processus et une **variable locale** ```temp``` qui sera spécifique à chacun de nos processus. Nous la désignerons par temp(P1) temp(P2) etc... \n",
    "Un scénario possible est le suivant : Imaginons au départ que compteur vaille 10.\n",
    "1. P1 sauvegarde compteur dans temp(P1) --> temp(P1) vaut 10\n",
    "2. P2 sauvegarde compteur dans temp(P2) --> temp(P2) vaut 10\n",
    "3. P3 sauvegarde compteur dans temp(P3) --> temp(P3) vaut 10\n",
    "4. P1 et P2 incrémentent temp et sauvegardent la réponse dans compteur --> compteur vaut 11\n",
    "5. P4 sauvegarde compteur dans temp(P4) --> temp(P4) vaut 11\n",
    "6. P3 et P4 incrémentent temp et sauvegardent la réponse dans compteur\n",
    "\n",
    "Au final, compteur a été incrémenté 4 fois mais de fait de l'exécution en parallèle compteur ne vaut pas 14 mais 12 ! cela explique que notre compteur au final ne vaut pas 400 car sa sauvegarde dans des variables temporaires fait que la plupart des incrémentations ne sont pas prises en compte.\n",
    "\n",
    "Quand au résultat apparemment aléatoire, il est dû au scénario d'exécution. On a cité un au hasard mais bien d'autres sont possibles qui mèneraient à des résultats différents. Un problème avec les threads est que l'on ne maîtrise pas du tout l'ordre dans lequel ils sont exécutés. Une fois lancés, chacun vit sa vie...\n",
    "\n",
    "Vous voila j'espère convaincus que les threads sont réellement diaboliques !"
   ]
  },
  {
   "cell_type": "markdown",
   "metadata": {},
   "source": [
    "## Fiabiliser l'algorithme\n",
    "\n",
    "Il est possible d'éviter que nos threads interfèrent les uns avec les autres : il suffit de s'assurer que la partie centrale qui incrémente notre compteur ne soit pas exécutée par 2 threads à la fois. Pour ce faire, on introduit la notion de **verrou** : un verrou peut être vu comme un témoin qui passe de thread en thread. Seul celui qui possède ce témoin peut exécuter l'incrémentation du compteur, les autres doivent attendre leur tour. \n",
    "\n",
    "Ce verrou peut-être vu comme la ressource nécessaire à l'exécution d'une tâche pour un processus (voir cours). Tant que le processus ne possède pas le verrou (la ressource), il est dans un état bloqué. Lorsqu'il acquiert le verrou, il passe à l'état prêt et peut reprendre son exécution en passant à l'état élu. Une différence toutefois, avec les threads ce n'est pas le système d'exploitation qui gère l'ordonnancement, mais celui-ci vient directement de la programmation.\n",
    "\n",
    "Nous allons donc légèrement modifier notre fonction calcul afin d'utiliser la partie critique de notre algorithme, à savoir l'incrémentation du compteur. \n",
    "Le module threading propose un objet Lock() destiné à cette tâche. Deux méthodes seront utilisées ici :\n",
    "- verrou.acquire() : attend que le verrou soit libéré pour se l'accaparer et l'activer\n",
    "- verrou.release() : libère le verrou"
   ]
  },
  {
   "cell_type": "code",
   "execution_count": null,
   "metadata": {},
   "outputs": [],
   "source": [
    "from threading import Lock"
   ]
  },
  {
   "cell_type": "code",
   "execution_count": null,
   "metadata": {},
   "outputs": [],
   "source": [
    "verrou = Lock()\n",
    "\n",
    "def calcul1():\n",
    "    global compteur\n",
    "    for i in range(limite):\n",
    "        verrou.acquire()\n",
    "        # Début de la section critique\n",
    "        temp = compteur\n",
    "        sleep(0.000000001)\n",
    "        compteur = temp + 1\n",
    "        # Fin de la section critique\n",
    "        verrou.release()"
   ]
  },
  {
   "cell_type": "markdown",
   "metadata": {},
   "source": [
    "Grâce à ce système, il est impossible que la partie critique du code soit exécutée simultanément par deux threads. On est donc assuré qu'il n'y aura pas d'interaction entre les threads.\n",
    "\n",
    "Au final on constate bien que le le compteur vaut 400, ce qui est le résultat attendu (voir cellules ci-dessous).\n",
    "\n",
    "En mémorisant les threads créés dans une liste, on pourra constater qu'ils se sont tous bien terminés."
   ]
  },
  {
   "cell_type": "code",
   "execution_count": null,
   "metadata": {},
   "outputs": [],
   "source": [
    "compteur = 0\n",
    "\n",
    "mes_threads = []\n",
    "for i in range(4):\n",
    "    p = Thread(target=calcul1)\n",
    "    mes_threads.append(p)\n",
    "    p.start()"
   ]
  },
  {
   "cell_type": "code",
   "execution_count": null,
   "metadata": {},
   "outputs": [],
   "source": [
    "print(compteur)"
   ]
  },
  {
   "cell_type": "markdown",
   "metadata": {},
   "source": [
    "Dans quel état se trouve le 1er thread ? (reponse ci-dessous, assez explicite, même sans doc)"
   ]
  },
  {
   "cell_type": "code",
   "execution_count": null,
   "metadata": {},
   "outputs": [],
   "source": [
    "print(mes_threads[0])\n",
    "print(mes_threads[0].is_alive())"
   ]
  },
  {
   "cell_type": "code",
   "execution_count": null,
   "metadata": {},
   "outputs": [],
   "source": [
    "mes_threads # on vérifie qu'ils sont bien tous terminés"
   ]
  },
  {
   "cell_type": "markdown",
   "metadata": {},
   "source": [
    "## Et l'interblocage ?\n",
    "\n",
    "La situation d'interblocage ne peut pas arriver dans le scénario précédent car nous n'avons qu'un verrou donc *une seule resssource* convoitée par 4 threads : celle-ci va passer de threads en threads sans conflits. **Pour faire apparaître l'interblocage, nous avons besoin de plusieurs verrous afin de créer une attente circulaire**.\n",
    "\n",
    "Pour reproduire l'exemple vu en cours, nous allons  créer 2 verrous (V1 et V2) qui simulent les deux ressources (R1 et R2), et manipuler 2 threads (P1 et P2). La fonction calcul2 va utiliser deux verrous. \n",
    "\n",
    "    Le Thread P1 va donc réserver V1 puis V2\n",
    "    Le Thread P2 va de son côté réserver V2 puis V1\n",
    "\n",
    "Ces verrous seront libérés à la fin... sauf si le thread est en attente pour acquerir un verrou ! Et voilà une situation d'interblocage qui s'annonce..."
   ]
  },
  {
   "cell_type": "code",
   "execution_count": null,
   "metadata": {},
   "outputs": [],
   "source": [
    "def calcul2(verrou1, verrou2):\n",
    "    global compteur\n",
    "    for i in range(limite):\n",
    "        verrou1.acquire()\n",
    "        # Début de la section critique 1 \n",
    "        temp = compteur\n",
    "        sleep(0.000000001)\n",
    "        # Début de la section critique 2\n",
    "        verrou2.acquire()\n",
    "        compteur = temp + 1\n",
    "        # Début de la section critique 2\n",
    "        verrou2.release()\n",
    "        # Fin de la section critique 1\n",
    "        verrou1.release()"
   ]
  },
  {
   "cell_type": "code",
   "execution_count": null,
   "metadata": {},
   "outputs": [],
   "source": [
    "compteur = 0\n",
    "\n",
    "# création des 2 verrous :\n",
    "v1, v2 = Lock(), Lock()\n",
    "\n",
    "# création des 2 threads :\n",
    "p1 = Thread(target=calcul2, args=[v1, v2])\n",
    "p2 = Thread(target=calcul2, args=[v2, v1])\n",
    "\n",
    "# démarrage des  threads :\n",
    "p1.start()\n",
    "#sleep(2)\n",
    "p2.start()"
   ]
  },
  {
   "cell_type": "markdown",
   "metadata": {},
   "source": [
    "Où en est le compteur ? Dans quel état sont les threads ?"
   ]
  },
  {
   "cell_type": "code",
   "execution_count": null,
   "metadata": {},
   "outputs": [],
   "source": [
    "print(compteur)\n",
    "p1, p2"
   ]
  },
  {
   "cell_type": "markdown",
   "metadata": {},
   "source": [
    "On constate que tous les threads sont actifs et que le compteur ne s'incrémente pas. Nous sommes en situation d'interblocage !\n",
    "\n",
    "Il n'y a pas d'autre choix que de tuer le processus Python et les threads afférents."
   ]
  },
  {
   "cell_type": "markdown",
   "metadata": {},
   "source": [
    "# Exercice :\n",
    "Obervez la fonction suivante et son exécution simultanée par 2 threads."
   ]
  },
  {
   "cell_type": "code",
   "execution_count": null,
   "metadata": {},
   "outputs": [],
   "source": [
    "def ecrire(lettre):\n",
    "    for i in range(20):\n",
    "        print(lettre, end='')\n",
    "        sleep(.000001)"
   ]
  },
  {
   "cell_type": "code",
   "execution_count": null,
   "metadata": {},
   "outputs": [],
   "source": [
    "p1 = Thread(target=ecrire, args=['a'])\n",
    "p2 = Thread(target=ecrire, args=['b'])\n",
    "p1.start()\n",
    "p2.start()"
   ]
  },
  {
   "cell_type": "markdown",
   "metadata": {},
   "source": [
    "Reécrire la fonction ecrire en utilisant un verrou pour que les 2 threads s'éxécutent à la suite.\n",
    "\n",
    "On veut voir 'affichage :\n",
    "    \n",
    "    aaaaaaaaaaaaaaaaaabbbbbbbbbbbbbbbbbbb."
   ]
  },
  {
   "cell_type": "code",
   "execution_count": null,
   "metadata": {},
   "outputs": [],
   "source": [
    "### A VOUS DE JOUER\n"
   ]
  },
  {
   "cell_type": "code",
   "execution_count": null,
   "metadata": {},
   "outputs": [],
   "source": []
  },
  {
   "cell_type": "code",
   "execution_count": null,
   "metadata": {},
   "outputs": [],
   "source": []
  },
  {
   "cell_type": "code",
   "execution_count": null,
   "metadata": {},
   "outputs": [],
   "source": []
  }
 ],
 "metadata": {
  "kernelspec": {
   "display_name": "Python 3.8.1 64-bit ('python38': conda)",
   "language": "python",
   "name": "python38164bitpython38conda56991d5ad1414e06a4dcd344400cf456"
  },
  "language_info": {
   "codemirror_mode": {
    "name": "ipython",
    "version": 3
   },
   "file_extension": ".py",
   "mimetype": "text/x-python",
   "name": "python",
   "nbconvert_exporter": "python",
   "pygments_lexer": "ipython3",
   "version": "3.8.1"
  }
 },
 "nbformat": 4,
 "nbformat_minor": 4
}
